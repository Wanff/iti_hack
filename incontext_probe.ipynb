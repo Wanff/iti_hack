{
 "cells": [
  {
   "cell_type": "code",
   "execution_count": 1,
   "metadata": {},
   "outputs": [
    {
     "name": "stderr",
     "output_type": "stream",
     "text": [
      "/tmp/ipykernel_78567/1348182768.py:5: DeprecationWarning: `magic(...)` is deprecated since IPython 0.13 (warning added in 8.1), use run_line_magic(magic_name, parameter_s).\n",
      "  ipython.magic(\"load_ext autoreload\")\n",
      "/tmp/ipykernel_78567/1348182768.py:6: DeprecationWarning: `magic(...)` is deprecated since IPython 0.13 (warning added in 8.1), use run_line_magic(magic_name, parameter_s).\n",
      "  ipython.magic(\"autoreload 2\")\n"
     ]
    }
   ],
   "source": [
    "from IPython import get_ipython\n",
    "\n",
    "ipython = get_ipython()\n",
    "# Code to automatically update the TransformerLens code as its edited without restarting the kernel\n",
    "ipython.magic(\"load_ext autoreload\")\n",
    "ipython.magic(\"autoreload 2\")\n",
    "    \n",
    "import plotly.io as pio\n",
    "# pio.renderers.default = \"png\"\n",
    "# Import stuff\n",
    "import torch\n",
    "import torch.nn as nn\n",
    "import torch.nn.functional as F\n",
    "import torch.optim as optim\n",
    "import numpy as np\n",
    "import einops\n",
    "from fancy_einsum import einsum\n",
    "import tqdm.notebook as tqdm\n",
    "import random\n",
    "from pathlib import Path\n",
    "import plotly.express as px\n",
    "from torch.utils.data import DataLoader\n",
    "\n",
    "from jaxtyping import Float, Int\n",
    "from typing import List, Union, Optional\n",
    "from functools import partial\n",
    "import copy\n",
    "\n",
    "import itertools\n",
    "from transformers import AutoModelForCausalLM, AutoConfig, AutoTokenizer\n",
    "import dataclasses\n",
    "import datasets\n",
    "from IPython.display import HTML\n",
    "\n",
    "from tqdm import tqdm\n"
   ]
  },
  {
   "cell_type": "code",
   "execution_count": 2,
   "metadata": {},
   "outputs": [],
   "source": [
    "# import pysvelte\n",
    "# \n",
    "import transformer_lens\n",
    "import transformer_lens.utils as utils\n",
    "from transformer_lens.hook_points import (\n",
    "    HookedRootModule,\n",
    "    HookPoint,\n",
    ")  # Hooking utilities\n",
    "from transformer_lens import HookedTransformer, HookedTransformerConfig, FactoredMatrix, ActivationCache\n",
    "\n",
    "torch.set_grad_enabled(False)\n",
    "device = \"cpu\""
   ]
  },
  {
   "cell_type": "code",
   "execution_count": 3,
   "metadata": {},
   "outputs": [
    {
     "name": "stderr",
     "output_type": "stream",
     "text": [
      "Using pad_token, but it is not set yet.\n"
     ]
    },
    {
     "name": "stdout",
     "output_type": "stream",
     "text": [
      "Loaded pretrained model gpt2-xl into HookedTransformer\n"
     ]
    }
   ],
   "source": [
    "model = HookedTransformer.from_pretrained(\n",
    "    \"gpt2-xl\",\n",
    "    center_unembed=False,\n",
    "    center_writing_weights=False,\n",
    "    fold_ln=False,\n",
    "    refactor_factored_attn_matrices=True,\n",
    "    device=device\n",
    ")\n",
    "\n",
    "model.cfg.total_heads = model.cfg.n_heads * model.cfg.n_layers"
   ]
  },
  {
   "cell_type": "code",
   "execution_count": 4,
   "metadata": {},
   "outputs": [],
   "source": [
    "def query_logits(logits, return_type = \"logits\", TOP_N = 10):\n",
    "\n",
    "        \"\"\"\n",
    "        Gets top 10 predictions after last token in a prompt\n",
    "        \"\"\"\n",
    "        last_tok_logits = logits[0, -1]\n",
    "        \n",
    "        #gets probs after last tok in seq\n",
    "        \n",
    "        if return_type == \"probs\":\n",
    "            scores = F.softmax(last_tok_logits, dim=-1).detach().cpu().numpy() #the [0] is to index out of the batch idx\n",
    "        else:\n",
    "            scores = last_tok_logits.detach().cpu().numpy()\n",
    "\n",
    "        #assert probs add to 1\n",
    "        # assert np.abs(np.sum(probs) - 1) <= 0.01, str(np.abs(np.sum(probs)-1)) \n",
    "\n",
    "        probs_ = []\n",
    "        for index, prob in enumerate(scores):\n",
    "            probs_.append((index, prob))\n",
    "\n",
    "        top_k = sorted(probs_, key = lambda x: x[1], reverse = True)[:TOP_N]\n",
    "        top_k = [(t[1].item(), model.tokenizer.decode(t[0])) for t in top_k]\n",
    "        \n",
    "        return top_k\n",
    "    \n",
    "def is_logits_contain_label(ranked_logits, correct_answer):\n",
    "    # Convert correct_answer to lower case and strip white space\n",
    "    correct_answer = correct_answer.strip().lower()\n",
    "\n",
    "    # Loop through the top 10 logits\n",
    "    for logit_score, logit_value in ranked_logits:\n",
    "        # Convert logit_value to lower case and strip white space\n",
    "        logit_value = logit_value.strip().lower()\n",
    "\n",
    "        # Check if the correct answer contains the logit value\n",
    "        if correct_answer.find(logit_value) != -1: \n",
    "            return True\n",
    "    return False\n"
   ]
  },
  {
   "cell_type": "code",
   "execution_count": 28,
   "metadata": {},
   "outputs": [],
   "source": [
    "import random\n",
    "import pandas as pd\n",
    "from torch.utils.data import Dataset\n",
    "\n",
    "class CapitalsDataset(Dataset):\n",
    "    def __init__(self, csv_file, with_space):\n",
    "        # Load the dataset\n",
    "        self.dataframe = pd.read_csv(csv_file)\n",
    "        self.with_space = True\n",
    "\n",
    "    def __len__(self):\n",
    "        # Return the length of the dataset\n",
    "        return len(self.dataframe)\n",
    "\n",
    "    def __getitem__(self, idx):\n",
    "        #idx must be int\n",
    "        if torch.is_tensor(idx):\n",
    "            idx = idx.tolist()\n",
    "\n",
    "        # Get the country and capital at the provided index\n",
    "        country = self.dataframe.at[idx, 'country']\n",
    "        capital = self.dataframe.at[idx, 'capital']\n",
    "\n",
    "        # Format the input and label strings\n",
    "        input_string = f\"Q: What is the capital of {str(country)}? A:\"\n",
    "        if self.with_space:\n",
    "            input_string += \" \\xa0\"\n",
    "        label_string = f\"{str(capital)}\"\n",
    "\n",
    "        # Return a dict with the input and label\n",
    "        sample = {'input': input_string, 'label': label_string}\n",
    "        return sample\n",
    "\n",
    "def generate_few_shot_prompt(capitals_dataset, n_few_shot, prohibited_indices=[], prop_wrong = 0):\n",
    "    # Get a list of allowed indices (all indices not in prohibited_indices)\n",
    "    allowed_indices = [i for i in range(len(capitals_dataset)) if i not in prohibited_indices]\n",
    "\n",
    "    # Ensure n_few_shot is not greater than the size of the dataset\n",
    "    n_few_shot = min(n_few_shot, len(allowed_indices))\n",
    "\n",
    "    # Randomly select n_few_shot indices from the allowed indices without replacement\n",
    "    indices = random.sample(allowed_indices, n_few_shot)\n",
    "\n",
    "    # Generate the few-shot prompt\n",
    "    prompt = \"\"\n",
    "    for index in indices:\n",
    "        sample = capitals_dataset[index]\n",
    "        \n",
    "        if np.random.rand() < prop_wrong:\n",
    "            allowed_indices = [i for i in range(len(capitals_dataset)) if i not in (prohibited_indices + [index])]\n",
    "\n",
    "            diff_idx = random.sample(allowed_indices, 1)[0]\n",
    "                        \n",
    "            prompt += f\"{sample['input']} {capitals_dataset[diff_idx]['label']}\\n\"\n",
    "        else:  \n",
    "            prompt += f\"{sample['input']} {sample['label']}\\n\"\n",
    "        \n",
    "    return prompt"
   ]
  },
  {
   "cell_type": "code",
   "execution_count": 29,
   "metadata": {},
   "outputs": [],
   "source": [
    "# Create the original dataset with spaces\n",
    "capitals_dataset_space = CapitalsDataset(csv_file='world_capitals.csv', with_space=True)\n",
    "\n",
    "# Create the new dataset\n",
    "few_shot_capitals_space_prompts = []\n",
    "n_few_shot = 0 # Set this to your desired number of few-shot examples\n",
    "for i in range(len(capitals_dataset_space)):\n",
    "    # Generate a few-shot prompt without the current index\n",
    "    prompt = generate_few_shot_prompt(capitals_dataset_space, n_few_shot, prohibited_indices=[i])\n",
    "\n",
    "    # Get the current sample and add the prompt to the 'input'\n",
    "    sample = capitals_dataset_space[i]\n",
    "    sample['input'] = prompt + sample['input']\n",
    "\n",
    "    # Add the sample to the new dataset\n",
    "    few_shot_capitals_space_prompts.append(sample)\n",
    "\n",
    "# Create the original dataset with spaces\n",
    "capitals_dataset_no_space = CapitalsDataset(csv_file='world_capitals.csv', with_space=True)\n",
    "\n",
    "# Create the new dataset\n",
    "few_shot_capitals_no_space_prompts = []\n",
    "for i in range(len(capitals_dataset_no_space)):\n",
    "    # Generate a few-shot prompt without the current index\n",
    "    prompt = generate_few_shot_prompt(capitals_dataset_no_space, n_few_shot, prohibited_indices=[i])\n",
    "\n",
    "    # Get the current sample and add the prompt to the 'input'\n",
    "    sample = capitals_dataset_no_space[i]\n",
    "    sample['input'] = prompt + sample['input']\n",
    "\n",
    "    # Add the sample to the new dataset\n",
    "    few_shot_capitals_no_space_prompts.append(sample)\n"
   ]
  },
  {
   "cell_type": "code",
   "execution_count": 34,
   "metadata": {},
   "outputs": [
    {
     "data": {
      "text/plain": [
       "{'input': 'Q: What is the capital of Abkhazia? A: ',\n",
       " 'label': 'Sukhumi',\n",
       " 'model_correct': 1}"
      ]
     },
     "execution_count": 34,
     "metadata": {},
     "output_type": "execute_result"
    }
   ],
   "source": [
    "few_shot_capitals_space_prompts[0]"
   ]
  },
  {
   "cell_type": "code",
   "execution_count": 44,
   "metadata": {},
   "outputs": [
    {
     "name": "stdout",
     "output_type": "stream",
     "text": [
      "[(8.65709400177002, 'Paris'), (8.194149017333984, ' Paris'), (6.907182693481445, '\\n'), (6.239234447479248, 'the'), (6.051357746124268, 'La'), (6.016989707946777, ' Le'), (5.880141258239746, 'a'), (5.774572849273682, ' L'), (5.739236354827881, 'L'), (5.698245048522949, ' Mont')]\n"
     ]
    }
   ],
   "source": [
    "logits = model(\"The capital of France is\\xa0\")\n",
    "# logits = model(\"The capital of France is\")\n",
    "# print(logits)\n",
    "\n",
    "ranked_logits = query_logits(logits, TOP_N = 10)\n",
    "print(ranked_logits)\n"
   ]
  },
  {
   "cell_type": "code",
   "execution_count": 41,
   "metadata": {},
   "outputs": [
    {
     "data": {
      "text/plain": [
       "-1"
      ]
     },
     "execution_count": 41,
     "metadata": {},
     "output_type": "execute_result"
    }
   ],
   "source": [
    "\"paris\".find(\"\\xa0\")"
   ]
  },
  {
   "cell_type": "code",
   "execution_count": 40,
   "metadata": {},
   "outputs": [
    {
     "data": {
      "text/plain": [
       "['<|endoftext|>', 'The', ' capital', ' of', ' France', ' is', ' ']"
      ]
     },
     "execution_count": 40,
     "metadata": {},
     "output_type": "execute_result"
    }
   ],
   "source": [
    "model.to_str_tokens(\"The capital of France is \")"
   ]
  },
  {
   "cell_type": "code",
   "execution_count": 36,
   "metadata": {},
   "outputs": [
    {
     "name": "stderr",
     "output_type": "stream",
     "text": [
      "  4%|▍         | 2/50 [00:00<00:10,  4.47it/s]"
     ]
    },
    {
     "name": "stdout",
     "output_type": "stream",
     "text": [
      "[(13.319713592529297, '\\xa0')]\n",
      "Sukhumi\n",
      "[(14.3515043258667, '\\xa0')]\n",
      "Kabul\n"
     ]
    },
    {
     "name": "stderr",
     "output_type": "stream",
     "text": [
      "  6%|▌         | 3/50 [00:00<00:10,  4.55it/s]"
     ]
    },
    {
     "name": "stdout",
     "output_type": "stream",
     "text": [
      "[(13.73813533782959, '\\xa0')]\n",
      "Episkopi Cantonment\n",
      "[(13.617284774780273, '\\xa0')]\n",
      "Tirana\n"
     ]
    },
    {
     "name": "stderr",
     "output_type": "stream",
     "text": [
      " 12%|█▏        | 6/50 [00:01<00:09,  4.87it/s]"
     ]
    },
    {
     "name": "stdout",
     "output_type": "stream",
     "text": [
      "[(14.36607837677002, '\\xa0')]\n",
      "Algiers\n",
      "[(14.800115585327148, '\\xa0')]\n",
      "Pago Pago\n"
     ]
    },
    {
     "name": "stderr",
     "output_type": "stream",
     "text": [
      " 16%|█▌        | 8/50 [00:01<00:08,  4.95it/s]"
     ]
    },
    {
     "name": "stdout",
     "output_type": "stream",
     "text": [
      "[(13.995373725891113, '\\xa0')]\n",
      "Andorra la Vella\n",
      "[(14.580865859985352, '\\xa0')]\n",
      "Luanda\n"
     ]
    },
    {
     "name": "stderr",
     "output_type": "stream",
     "text": [
      " 20%|██        | 10/50 [00:02<00:07,  5.07it/s]"
     ]
    },
    {
     "name": "stdout",
     "output_type": "stream",
     "text": [
      "[(14.234469413757324, '\\xa0')]\n",
      "The Valley\n",
      "[(14.474855422973633, '\\xa0')]\n",
      "St. John's\n"
     ]
    },
    {
     "name": "stderr",
     "output_type": "stream",
     "text": [
      " 22%|██▏       | 11/50 [00:02<00:07,  5.09it/s]"
     ]
    },
    {
     "name": "stdout",
     "output_type": "stream",
     "text": [
      "[(14.56031608581543, '\\xa0')]\n",
      "Buenos Aires\n",
      "[(14.3853178024292, '\\xa0')]\n",
      "Yerevan\n"
     ]
    },
    {
     "name": "stderr",
     "output_type": "stream",
     "text": [
      " 28%|██▊       | 14/50 [00:02<00:06,  5.22it/s]"
     ]
    },
    {
     "name": "stdout",
     "output_type": "stream",
     "text": [
      "[(13.785629272460938, '\\xa0')]\n",
      "Oranjestad\n",
      "[(13.80823802947998, '\\xa0')]\n",
      "Georgetown\n"
     ]
    },
    {
     "name": "stderr",
     "output_type": "stream",
     "text": [
      " 32%|███▏      | 16/50 [00:03<00:06,  5.21it/s]"
     ]
    },
    {
     "name": "stdout",
     "output_type": "stream",
     "text": [
      "[(14.266409873962402, '\\xa0')]\n",
      "Canberra\n",
      "[(13.077205657958984, '\\xa0')]\n",
      "Vienna\n"
     ]
    },
    {
     "name": "stderr",
     "output_type": "stream",
     "text": [
      " 36%|███▌      | 18/50 [00:03<00:06,  5.21it/s]"
     ]
    },
    {
     "name": "stdout",
     "output_type": "stream",
     "text": [
      "[(14.018665313720703, '\\xa0')]\n",
      "Baku\n",
      "[(14.180601119995117, '\\xa0')]\n",
      "Nassau\n"
     ]
    },
    {
     "name": "stderr",
     "output_type": "stream",
     "text": [
      " 40%|████      | 20/50 [00:03<00:05,  5.24it/s]"
     ]
    },
    {
     "name": "stdout",
     "output_type": "stream",
     "text": [
      "[(14.407054901123047, '\\xa0')]\n",
      "Manama\n",
      "[(15.300182342529297, '\\xa0')]\n",
      "Dhaka\n"
     ]
    },
    {
     "name": "stderr",
     "output_type": "stream",
     "text": [
      " 44%|████▍     | 22/50 [00:04<00:05,  5.26it/s]"
     ]
    },
    {
     "name": "stdout",
     "output_type": "stream",
     "text": [
      "[(14.620116233825684, '\\xa0')]\n",
      "Bridgetown\n",
      "[(13.590900421142578, '\\xa0')]\n",
      "Minsk\n"
     ]
    },
    {
     "name": "stderr",
     "output_type": "stream",
     "text": [
      " 48%|████▊     | 24/50 [00:04<00:04,  5.29it/s]"
     ]
    },
    {
     "name": "stdout",
     "output_type": "stream",
     "text": [
      "[(14.033203125, '\\xa0')]\n",
      "Brussels\n",
      "[(14.454690933227539, '\\xa0')]\n",
      "Belmopan\n"
     ]
    },
    {
     "name": "stderr",
     "output_type": "stream",
     "text": [
      " 52%|█████▏    | 26/50 [00:05<00:04,  5.23it/s]"
     ]
    },
    {
     "name": "stdout",
     "output_type": "stream",
     "text": [
      "[(14.952247619628906, '\\xa0')]\n",
      "Porto-Novo\n",
      "[(14.820971488952637, '\\xa0')]\n",
      "Hamilton\n"
     ]
    },
    {
     "name": "stderr",
     "output_type": "stream",
     "text": [
      " 56%|█████▌    | 28/50 [00:05<00:04,  5.21it/s]"
     ]
    },
    {
     "name": "stdout",
     "output_type": "stream",
     "text": [
      "[(14.483530044555664, '\\xa0')]\n",
      "Thimphu\n",
      "[(14.685774803161621, '\\xa0')]\n",
      "Sucre\n"
     ]
    },
    {
     "name": "stderr",
     "output_type": "stream",
     "text": [
      " 60%|██████    | 30/50 [00:05<00:03,  5.23it/s]"
     ]
    },
    {
     "name": "stdout",
     "output_type": "stream",
     "text": [
      "[(14.685774803161621, '\\xa0')]\n",
      "La Paz\n",
      "[(14.406758308410645, '\\xa0')]\n",
      "Sarajevo\n"
     ]
    },
    {
     "name": "stderr",
     "output_type": "stream",
     "text": [
      " 64%|██████▍   | 32/50 [00:06<00:03,  5.21it/s]"
     ]
    },
    {
     "name": "stdout",
     "output_type": "stream",
     "text": [
      "[(14.704235076904297, '\\xa0')]\n",
      "Gaborone\n",
      "[(13.960853576660156, '\\xa0')]\n",
      "Brasília\n"
     ]
    },
    {
     "name": "stderr",
     "output_type": "stream",
     "text": [
      " 68%|██████▊   | 34/50 [00:06<00:03,  5.18it/s]"
     ]
    },
    {
     "name": "stdout",
     "output_type": "stream",
     "text": [
      "[(14.239325523376465, '\\xa0')]\n",
      "Road Town\n",
      "[(14.547585487365723, '\\xa0')]\n",
      "Bandar Seri Begawan\n"
     ]
    },
    {
     "name": "stderr",
     "output_type": "stream",
     "text": [
      " 72%|███████▏  | 36/50 [00:07<00:02,  5.11it/s]"
     ]
    },
    {
     "name": "stdout",
     "output_type": "stream",
     "text": [
      "[(14.045369148254395, '\\xa0')]\n",
      "Sofia\n",
      "[(14.800546646118164, '\\xa0')]\n",
      "Ouagadougou\n"
     ]
    },
    {
     "name": "stderr",
     "output_type": "stream",
     "text": [
      " 76%|███████▌  | 38/50 [00:07<00:02,  5.12it/s]"
     ]
    },
    {
     "name": "stdout",
     "output_type": "stream",
     "text": [
      "[(13.851522445678711, '\\xa0')]\n",
      "Bujumbura\n",
      "[(14.440483093261719, '\\xa0')]\n",
      "Phnom Penh\n"
     ]
    },
    {
     "name": "stderr",
     "output_type": "stream",
     "text": [
      " 78%|███████▊  | 39/50 [00:07<00:02,  4.80it/s]"
     ]
    },
    {
     "name": "stdout",
     "output_type": "stream",
     "text": [
      "[(14.895848274230957, '\\xa0')]\n",
      "Yaoundé\n"
     ]
    },
    {
     "name": "stderr",
     "output_type": "stream",
     "text": [
      " 80%|████████  | 40/50 [00:07<00:02,  4.68it/s]"
     ]
    },
    {
     "name": "stdout",
     "output_type": "stream",
     "text": [
      "[(14.481346130371094, '\\xa0')]\n",
      "Ottawa\n"
     ]
    },
    {
     "name": "stderr",
     "output_type": "stream",
     "text": [
      " 84%|████████▍ | 42/50 [00:08<00:01,  4.19it/s]"
     ]
    },
    {
     "name": "stdout",
     "output_type": "stream",
     "text": [
      "[(14.55397891998291, '\\xa0')]\n",
      "Praia\n",
      "[(14.08820629119873, '\\xa0')]\n",
      "George Town\n"
     ]
    },
    {
     "name": "stderr",
     "output_type": "stream",
     "text": [
      " 86%|████████▌ | 43/50 [00:08<00:01,  4.32it/s]"
     ]
    },
    {
     "name": "stdout",
     "output_type": "stream",
     "text": [
      "[(14.875309944152832, '\\xa0')]\n",
      "Bangui\n"
     ]
    },
    {
     "name": "stderr",
     "output_type": "stream",
     "text": [
      " 88%|████████▊ | 44/50 [00:08<00:01,  4.39it/s]"
     ]
    },
    {
     "name": "stdout",
     "output_type": "stream",
     "text": [
      "[(14.812444686889648, '\\xa0')]\n",
      "N'Djamena\n"
     ]
    },
    {
     "name": "stderr",
     "output_type": "stream",
     "text": [
      " 90%|█████████ | 45/50 [00:09<00:01,  4.36it/s]"
     ]
    },
    {
     "name": "stdout",
     "output_type": "stream",
     "text": [
      "[(14.577649116516113, '\\xa0')]\n",
      "Santiago\n"
     ]
    },
    {
     "name": "stderr",
     "output_type": "stream",
     "text": [
      " 92%|█████████▏| 46/50 [00:09<00:00,  4.23it/s]"
     ]
    },
    {
     "name": "stdout",
     "output_type": "stream",
     "text": [
      "[(13.686882972717285, '\\xa0')]\n",
      "Beijing\n"
     ]
    },
    {
     "name": "stderr",
     "output_type": "stream",
     "text": [
      " 94%|█████████▍| 47/50 [00:09<00:00,  4.17it/s]"
     ]
    },
    {
     "name": "stdout",
     "output_type": "stream",
     "text": [
      "[(14.634692192077637, '\\xa0')]\n",
      "Flying Fish Cove\n"
     ]
    },
    {
     "name": "stderr",
     "output_type": "stream",
     "text": [
      " 96%|█████████▌| 48/50 [00:09<00:00,  4.31it/s]"
     ]
    },
    {
     "name": "stdout",
     "output_type": "stream",
     "text": [
      "[(14.048393249511719, '\\xa0')]\n",
      "West Island\n",
      "[(14.349440574645996, '\\xa0')]\n",
      "Bogotá\n"
     ]
    },
    {
     "name": "stderr",
     "output_type": "stream",
     "text": [
      "100%|██████████| 50/50 [00:10<00:00,  4.87it/s]"
     ]
    },
    {
     "name": "stdout",
     "output_type": "stream",
     "text": [
      "[(14.32113265991211, '\\xa0')]\n",
      "Moroni\n"
     ]
    },
    {
     "name": "stderr",
     "output_type": "stream",
     "text": [
      "\n"
     ]
    },
    {
     "data": {
      "text/plain": [
       "1.0"
      ]
     },
     "execution_count": 36,
     "metadata": {},
     "output_type": "execute_result"
    }
   ],
   "source": [
    "# WITH A SPACE\n",
    "n_correct = 0 \n",
    "dataset_size=50\n",
    "for row in tqdm(few_shot_capitals_space_prompts[:dataset_size]):\n",
    "    prompt = row[\"input\"]\n",
    "    label = row[\"label\"]\n",
    "\n",
    "    logits = model(prompt)\n",
    "    # print(logits)\n",
    "    \n",
    "    ranked_logits = query_logits(logits, TOP_N = 1)\n",
    "    print(ranked_logits)\n",
    "    print(label)\n",
    "    \n",
    "    if is_logits_contain_label(ranked_logits, label):\n",
    "        n_correct +=1\n",
    "        row[\"model_correct\"] = 1\n",
    "    else:\n",
    "        row[\"model_correct\"] = 0\n",
    "    \n",
    "n_correct / len(few_shot_capitals_space_prompts[:dataset_size])"
   ]
  },
  {
   "cell_type": "code",
   "execution_count": 33,
   "metadata": {},
   "outputs": [
    {
     "name": "stderr",
     "output_type": "stream",
     "text": [
      "100%|██████████| 50/50 [00:09<00:00,  5.39it/s]\n"
     ]
    },
    {
     "data": {
      "text/plain": [
       "1.0"
      ]
     },
     "execution_count": 33,
     "metadata": {},
     "output_type": "execute_result"
    }
   ],
   "source": [
    "# WITHOUT A SPACE\n",
    "n_correct = 0 \n",
    "dataset_size=50\n",
    "for row in tqdm(few_shot_capitals_no_space_prompts[:dataset_size]):\n",
    "    prompt = row[\"input\"]\n",
    "    label = row[\"label\"]\n",
    "\n",
    "    logits = model(prompt)\n",
    "    \n",
    "    ranked_logits = query_logits(logits, TOP_N = 1)\n",
    "    \n",
    "    if is_logits_contain_label(ranked_logits, label):\n",
    "        n_correct +=1\n",
    "        row[\"model_correct\"] = 1\n",
    "    else:\n",
    "        row[\"model_correct\"] = 0\n",
    "    \n",
    "n_correct / len(few_shot_capitals_no_space_prompts[:dataset_size])"
   ]
  },
  {
   "cell_type": "code",
   "execution_count": 37,
   "metadata": {},
   "outputs": [],
   "source": [
    "from sklearn.model_selection import train_test_split\n",
    "from einops import repeat\n",
    "from sklearn.linear_model import LogisticRegression\n",
    "from sklearn.metrics import accuracy_score, f1_score, precision_score, recall_score\n",
    "\n",
    "class NumCorrectIncontextProbeDataset():\n",
    "    def __init__(self, capitals_dataset, model, id: str = None, probe_id: str = None, seed = 0):\n",
    "        self.capitals_dataset = capitals_dataset\n",
    "        self.model = model\n",
    "        \n",
    "        if id is not None:\n",
    "            self.attn_head_acts, self.dataset = self.load_acts_and_dataset(id)\n",
    "            self.labels = [sample[\"n_correct\"] for sample in self.dataset]\n",
    "        else:\n",
    "            self.dataset = self.gen_dataset()\n",
    "            self.labels = [sample[\"n_correct\"] for sample in self.dataset]\n",
    "            self.attn_head_acts = []\n",
    "            \n",
    "        if probe_id is not None:\n",
    "            self.probes = torch.load(f\"activations/{probe_id}.pkl\")\n",
    "        \n",
    "        np.random.seed(seed)\n",
    "        torch.manual_seed(seed)        \n",
    "        \n",
    "    def generate_few_shot_prompt_wrong(self, n_few_shot, prohibited_index, prop_wrong = 0):\n",
    "        # Get a list of allowed indices (all indices not in prohibited_indices)\n",
    "        allowed_indices = [i for i in range(len(capitals_dataset)) if i not in [prohibited_index]]\n",
    "\n",
    "        # Ensure n_few_shot is not greater than the size of the dataset\n",
    "        n_few_shot = min(n_few_shot, len(allowed_indices))\n",
    "\n",
    "        # Randomly select n_few_shot indices from the allowed indices without replacement\n",
    "        indices = random.sample(allowed_indices, n_few_shot)\n",
    "\n",
    "        # Generate the few-shot prompt\n",
    "        prompt = \"\"\n",
    "        n_correct = 0\n",
    "        for index in indices:\n",
    "            sample = self.capitals_dataset[index]\n",
    "            \n",
    "            if np.random.rand() < prop_wrong:\n",
    "                allowed_indices = [i for i in range(len(capitals_dataset)) if i not in ([prohibited_index] + [index])]\n",
    "\n",
    "                diff_idx = random.sample(allowed_indices, 1)[0]\n",
    "                            \n",
    "                prompt += f\"{sample['input']} {capitals_dataset[diff_idx]['label']}\\n\"\n",
    "            else:  \n",
    "                prompt += f\"{sample['input']} {sample['label']}\\n\"\n",
    "                n_correct += 1\n",
    "                \n",
    "        return prompt, n_correct\n",
    "    \n",
    "    def gen_dataset(self, n_few_shot: int = 5):\n",
    "        dataset = []\n",
    "        for i in range(len(self.capitals_dataset)):\n",
    "            # Generate a few-shot prompt without the current index\n",
    "            # n_few_shot = np.random.randint(10)\n",
    "            \n",
    "            prop_wrong = np.random.rand()\n",
    "            prompt, n_correct = self.generate_few_shot_prompt_wrong(n_few_shot, prohibited_index = i, prop_wrong = prop_wrong)\n",
    "\n",
    "            # Get the current sample and add the prompt to the 'input'\n",
    "            sample = self.capitals_dataset[i]\n",
    "            sample['input'] = prompt + sample['input']\n",
    "            sample['n_few_shot'] = n_few_shot\n",
    "            sample[\"prop_wrong\"] = prop_wrong\n",
    "            sample['n_correct'] = n_correct\n",
    "        \n",
    "            # Add the sample to the new dataset\n",
    "            dataset.append(sample)\n",
    "        \n",
    "        return dataset\n",
    "        \n",
    "    def gen_attn_head_acts(self, store_acts = True, filepath = \"activations/\", id = None):\n",
    "        for sample in tqdm(self.dataset):\n",
    "            prompt = sample[\"input\"]\n",
    "            label = sample[\"label\"]\n",
    "            \n",
    "            original_logits, cache = self.model.run_with_cache(prompt)\n",
    "\n",
    "            ranked_logits = query_logits(original_logits)\n",
    "            \n",
    "            if is_logits_contain_label(ranked_logits, label):\n",
    "                sample[\"model_correct\"] = 1\n",
    "            else:\n",
    "                sample[\"model_correct\"] = 0\n",
    "                \n",
    "            self.attn_head_acts.append(cache.stack_head_results(layer = -1, pos_slice = -1).squeeze(1))\n",
    "        \n",
    "        if store_acts:\n",
    "            if id is None:\n",
    "                id = np.random.randint(10000)\n",
    "            torch.save(self.attn_head_acts, f'{filepath}{id}_attn_head_acts.pt')\n",
    "            torch.save(self.dataset, f'{filepath}{id}_dataset.pkl')\n",
    "            print(f\"Stored at {id}\")\n",
    "        \n",
    "        return self.attn_head_acts\n",
    "    \n",
    "    def load_acts_and_dataset(self, id, filepath = \"activations/\"):\n",
    "        attn_head_acts = torch.load(f'{filepath}{id}_attn_head_acts.pt')\n",
    "        dataset = torch.load(f'{filepath}{id}_dataset.pkl')\n",
    "\n",
    "        return attn_head_acts, dataset\n",
    "\n",
    "\n",
    "    def get_train_test_split(self, test_ratio = 0.2):\n",
    "        # attn_head_acts_list = [self.attn_head_acts[i] for i in range(self.attn_head_acts.shape[0])]\n",
    "                \n",
    "        labels = [sample[\"n_correct\"] for sample in self.dataset]\n",
    "        \n",
    "        X_train, X_test, y_train, y_test = train_test_split(self.attn_head_acts, labels, test_size=test_ratio)\n",
    "        \n",
    "        X_train = torch.stack(X_train, axis = 0)\n",
    "        X_test = torch.stack(X_test, axis = 0)  \n",
    "        \n",
    "        # y_train = torch.from_numpy(np.array(y_train, dtype = np.float32))\n",
    "        # y_test = torch.from_numpy(np.array(y_test, dtype = np.float32))\n",
    "        # y_train = repeat(y_train, 'b -> b num_attn_heads', num_attn_heads=self.model.cfg.total_heads)\n",
    "        # y_test = repeat(y_test, 'b -> b num_attn_heads', num_attn_heads=self.model.cfg.total_heads)\n",
    "\n",
    "        return X_train.numpy(), X_test.numpy(), np.array(y_train), np.array(y_test)\n",
    "\n",
    "    def train_probes(self, test_ratio = 0.2, save_probes = True, filepath = \"activations/\", id = None):\n",
    "\n",
    "        X_train, X_test, y_train, y_test = self.get_train_test_split(test_ratio = test_ratio)\n",
    "        \n",
    "        all_head_accs = []\n",
    "        probes = []\n",
    "        print(f\"X_train shape: {X_train.shape}, X_test shape: {X_test.shape}, y_train shape: {y_train.shape}, y_test shape: {y_test.shape}\")\n",
    "        \n",
    "        for i in tqdm(range(self.model.cfg.total_heads)):\n",
    "                X_train_head = X_train[:,i,:]\n",
    "                X_test_head = X_test[:,i,:]\n",
    "\n",
    "                clf = LogisticRegression(max_iter=1000, solver=\"saga\", n_jobs=20).fit(X_train_head, y_train)\n",
    "                \n",
    "                y_val_pred = clf.predict(X_test_head)\n",
    "                all_head_accs.append(accuracy_score(y_test, y_val_pred))\n",
    "                \n",
    "                probes.append(clf)\n",
    "\n",
    "        self.probes = probes\n",
    "        \n",
    "        self.all_head_accs_np = np.array(all_head_accs)\n",
    "        \n",
    "        if save_probes:\n",
    "            if id is None:\n",
    "                id = np.random.randint(10000)\n",
    "            torch.save(self.probes, f'{filepath}{id}_probes.pkl')\n",
    "\n",
    "        return self.all_head_accs_np\n",
    "    \n",
    "    def call_probes(self):\n",
    "        labels = [sample[\"n_correct\"] for sample in self.dataset]\n",
    "        total_accs = []\n",
    "        y_preds = []\n",
    "        for i, clf in tqdm(enumerate(self.probes)):\n",
    "            acts = [act[i].numpy() for act in self.attn_head_acts]\n",
    "            y_pred = clf.predict(acts)\n",
    "            \n",
    "            total_accs.append(accuracy_score(labels, y_pred))\n",
    "            y_preds.append(y_pred)\n",
    "        return y_preds, total_accs"
   ]
  },
  {
   "cell_type": "code",
   "execution_count": 39,
   "metadata": {},
   "outputs": [],
   "source": [
    "nin_d = NumCorrectIncontextProbeDataset(capitals_dataset, model, \"gpt2xl_capitals_nind_2\", probe_id = \"saga_probes\")"
   ]
  },
  {
   "cell_type": "code",
   "execution_count": null,
   "metadata": {},
   "outputs": [],
   "source": [
    "# all_head_accs_np = nin_d.train_probes(test_ratio = 0.3, id = \"saga_1000\")"
   ]
  },
  {
   "cell_type": "code",
   "execution_count": null,
   "metadata": {},
   "outputs": [],
   "source": [
    "# Class specific accuracy\n",
    "\n",
    "labels = [sample[\"n_correct\"] for sample in nin_d.dataset]\n",
    "\n",
    "X_train, X_test, y_train, y_test  = nin_d.get_train_test_split(test_ratio = 0.3)\n",
    "class_to_class_acc = {} \n",
    "\n",
    "for i, clf in tqdm(enumerate(nin_d.probes)):\n",
    "    acts = [act[i].numpy() for act in nin_d.attn_head_acts]\n",
    "    y_pred = clf.predict(acts)\n",
    "    \n",
    "    for label, pred in zip(labels, y_pred):\n",
    "        if label not in class_to_class_acc:\n",
    "            class_to_class_acc[label] = 0\n",
    "        \n",
    "        if label == pred:\n",
    "            class_to_class_acc[label] += 1\n",
    "\n",
    "\n",
    "\n"
   ]
  },
  {
   "cell_type": "code",
   "execution_count": 26,
   "metadata": {},
   "outputs": [
    {
     "data": {
      "application/vnd.plotly.v1+json": {
       "config": {
        "plotlyServerURL": "https://plot.ly"
       },
       "data": [
        {
         "coloraxis": "coloraxis",
         "hovertemplate": "N Correct InContext: %{x}<br>N Correct In Context: %{y}<br>color: %{z}<extra></extra>",
         "name": "0",
         "type": "heatmap",
         "xaxis": "x",
         "yaxis": "y",
         "z": [
          [
           0.9999999932448069,
           -0.053320647738291885,
           -0.15203615336184156,
           -0.26487112493933335,
           -0.3098678683695228,
           -0.4196766111986168
          ],
          [
           -0.053320647738291885,
           0.9999999941885471,
           -0.1568444710690528,
           -0.18236142033846894,
           -0.20503989615982088,
           -0.30575433639925903
          ],
          [
           -0.15203615336184156,
           -0.1568444710690528,
           0.9999999956289927,
           -0.239722007708624,
           -0.15427776112240585,
           -0.19395791856455616
          ],
          [
           -0.26487112493933335,
           -0.18236142033846894,
           -0.239722007708624,
           0.9999999982118607,
           -0.17112721954569377,
           -0.054111420835639974
          ],
          [
           -0.3098678683695228,
           -0.20503989615982088,
           -0.15427776112240585,
           -0.17112721954569377,
           0.9999999999006589,
           -0.035304722010235615
          ],
          [
           -0.4196766111986168,
           -0.30575433639925903,
           -0.19395791856455616,
           -0.054111420835639974,
           -0.035304722010235615,
           0.999999996026357
          ]
         ]
        }
       ],
       "layout": {
        "coloraxis": {
         "cmid": 0,
         "colorscale": [
          [
           0,
           "rgb(103,0,31)"
          ],
          [
           0.1,
           "rgb(178,24,43)"
          ],
          [
           0.2,
           "rgb(214,96,77)"
          ],
          [
           0.3,
           "rgb(244,165,130)"
          ],
          [
           0.4,
           "rgb(253,219,199)"
          ],
          [
           0.5,
           "rgb(247,247,247)"
          ],
          [
           0.6,
           "rgb(209,229,240)"
          ],
          [
           0.7,
           "rgb(146,197,222)"
          ],
          [
           0.8,
           "rgb(67,147,195)"
          ],
          [
           0.9,
           "rgb(33,102,172)"
          ],
          [
           1,
           "rgb(5,48,97)"
          ]
         ]
        },
        "template": {
         "data": {
          "bar": [
           {
            "error_x": {
             "color": "#2a3f5f"
            },
            "error_y": {
             "color": "#2a3f5f"
            },
            "marker": {
             "line": {
              "color": "#E5ECF6",
              "width": 0.5
             },
             "pattern": {
              "fillmode": "overlay",
              "size": 10,
              "solidity": 0.2
             }
            },
            "type": "bar"
           }
          ],
          "barpolar": [
           {
            "marker": {
             "line": {
              "color": "#E5ECF6",
              "width": 0.5
             },
             "pattern": {
              "fillmode": "overlay",
              "size": 10,
              "solidity": 0.2
             }
            },
            "type": "barpolar"
           }
          ],
          "carpet": [
           {
            "aaxis": {
             "endlinecolor": "#2a3f5f",
             "gridcolor": "white",
             "linecolor": "white",
             "minorgridcolor": "white",
             "startlinecolor": "#2a3f5f"
            },
            "baxis": {
             "endlinecolor": "#2a3f5f",
             "gridcolor": "white",
             "linecolor": "white",
             "minorgridcolor": "white",
             "startlinecolor": "#2a3f5f"
            },
            "type": "carpet"
           }
          ],
          "choropleth": [
           {
            "colorbar": {
             "outlinewidth": 0,
             "ticks": ""
            },
            "type": "choropleth"
           }
          ],
          "contour": [
           {
            "colorbar": {
             "outlinewidth": 0,
             "ticks": ""
            },
            "colorscale": [
             [
              0,
              "#0d0887"
             ],
             [
              0.1111111111111111,
              "#46039f"
             ],
             [
              0.2222222222222222,
              "#7201a8"
             ],
             [
              0.3333333333333333,
              "#9c179e"
             ],
             [
              0.4444444444444444,
              "#bd3786"
             ],
             [
              0.5555555555555556,
              "#d8576b"
             ],
             [
              0.6666666666666666,
              "#ed7953"
             ],
             [
              0.7777777777777778,
              "#fb9f3a"
             ],
             [
              0.8888888888888888,
              "#fdca26"
             ],
             [
              1,
              "#f0f921"
             ]
            ],
            "type": "contour"
           }
          ],
          "contourcarpet": [
           {
            "colorbar": {
             "outlinewidth": 0,
             "ticks": ""
            },
            "type": "contourcarpet"
           }
          ],
          "heatmap": [
           {
            "colorbar": {
             "outlinewidth": 0,
             "ticks": ""
            },
            "colorscale": [
             [
              0,
              "#0d0887"
             ],
             [
              0.1111111111111111,
              "#46039f"
             ],
             [
              0.2222222222222222,
              "#7201a8"
             ],
             [
              0.3333333333333333,
              "#9c179e"
             ],
             [
              0.4444444444444444,
              "#bd3786"
             ],
             [
              0.5555555555555556,
              "#d8576b"
             ],
             [
              0.6666666666666666,
              "#ed7953"
             ],
             [
              0.7777777777777778,
              "#fb9f3a"
             ],
             [
              0.8888888888888888,
              "#fdca26"
             ],
             [
              1,
              "#f0f921"
             ]
            ],
            "type": "heatmap"
           }
          ],
          "heatmapgl": [
           {
            "colorbar": {
             "outlinewidth": 0,
             "ticks": ""
            },
            "colorscale": [
             [
              0,
              "#0d0887"
             ],
             [
              0.1111111111111111,
              "#46039f"
             ],
             [
              0.2222222222222222,
              "#7201a8"
             ],
             [
              0.3333333333333333,
              "#9c179e"
             ],
             [
              0.4444444444444444,
              "#bd3786"
             ],
             [
              0.5555555555555556,
              "#d8576b"
             ],
             [
              0.6666666666666666,
              "#ed7953"
             ],
             [
              0.7777777777777778,
              "#fb9f3a"
             ],
             [
              0.8888888888888888,
              "#fdca26"
             ],
             [
              1,
              "#f0f921"
             ]
            ],
            "type": "heatmapgl"
           }
          ],
          "histogram": [
           {
            "marker": {
             "pattern": {
              "fillmode": "overlay",
              "size": 10,
              "solidity": 0.2
             }
            },
            "type": "histogram"
           }
          ],
          "histogram2d": [
           {
            "colorbar": {
             "outlinewidth": 0,
             "ticks": ""
            },
            "colorscale": [
             [
              0,
              "#0d0887"
             ],
             [
              0.1111111111111111,
              "#46039f"
             ],
             [
              0.2222222222222222,
              "#7201a8"
             ],
             [
              0.3333333333333333,
              "#9c179e"
             ],
             [
              0.4444444444444444,
              "#bd3786"
             ],
             [
              0.5555555555555556,
              "#d8576b"
             ],
             [
              0.6666666666666666,
              "#ed7953"
             ],
             [
              0.7777777777777778,
              "#fb9f3a"
             ],
             [
              0.8888888888888888,
              "#fdca26"
             ],
             [
              1,
              "#f0f921"
             ]
            ],
            "type": "histogram2d"
           }
          ],
          "histogram2dcontour": [
           {
            "colorbar": {
             "outlinewidth": 0,
             "ticks": ""
            },
            "colorscale": [
             [
              0,
              "#0d0887"
             ],
             [
              0.1111111111111111,
              "#46039f"
             ],
             [
              0.2222222222222222,
              "#7201a8"
             ],
             [
              0.3333333333333333,
              "#9c179e"
             ],
             [
              0.4444444444444444,
              "#bd3786"
             ],
             [
              0.5555555555555556,
              "#d8576b"
             ],
             [
              0.6666666666666666,
              "#ed7953"
             ],
             [
              0.7777777777777778,
              "#fb9f3a"
             ],
             [
              0.8888888888888888,
              "#fdca26"
             ],
             [
              1,
              "#f0f921"
             ]
            ],
            "type": "histogram2dcontour"
           }
          ],
          "mesh3d": [
           {
            "colorbar": {
             "outlinewidth": 0,
             "ticks": ""
            },
            "type": "mesh3d"
           }
          ],
          "parcoords": [
           {
            "line": {
             "colorbar": {
              "outlinewidth": 0,
              "ticks": ""
             }
            },
            "type": "parcoords"
           }
          ],
          "pie": [
           {
            "automargin": true,
            "type": "pie"
           }
          ],
          "scatter": [
           {
            "fillpattern": {
             "fillmode": "overlay",
             "size": 10,
             "solidity": 0.2
            },
            "type": "scatter"
           }
          ],
          "scatter3d": [
           {
            "line": {
             "colorbar": {
              "outlinewidth": 0,
              "ticks": ""
             }
            },
            "marker": {
             "colorbar": {
              "outlinewidth": 0,
              "ticks": ""
             }
            },
            "type": "scatter3d"
           }
          ],
          "scattercarpet": [
           {
            "marker": {
             "colorbar": {
              "outlinewidth": 0,
              "ticks": ""
             }
            },
            "type": "scattercarpet"
           }
          ],
          "scattergeo": [
           {
            "marker": {
             "colorbar": {
              "outlinewidth": 0,
              "ticks": ""
             }
            },
            "type": "scattergeo"
           }
          ],
          "scattergl": [
           {
            "marker": {
             "colorbar": {
              "outlinewidth": 0,
              "ticks": ""
             }
            },
            "type": "scattergl"
           }
          ],
          "scattermapbox": [
           {
            "marker": {
             "colorbar": {
              "outlinewidth": 0,
              "ticks": ""
             }
            },
            "type": "scattermapbox"
           }
          ],
          "scatterpolar": [
           {
            "marker": {
             "colorbar": {
              "outlinewidth": 0,
              "ticks": ""
             }
            },
            "type": "scatterpolar"
           }
          ],
          "scatterpolargl": [
           {
            "marker": {
             "colorbar": {
              "outlinewidth": 0,
              "ticks": ""
             }
            },
            "type": "scatterpolargl"
           }
          ],
          "scatterternary": [
           {
            "marker": {
             "colorbar": {
              "outlinewidth": 0,
              "ticks": ""
             }
            },
            "type": "scatterternary"
           }
          ],
          "surface": [
           {
            "colorbar": {
             "outlinewidth": 0,
             "ticks": ""
            },
            "colorscale": [
             [
              0,
              "#0d0887"
             ],
             [
              0.1111111111111111,
              "#46039f"
             ],
             [
              0.2222222222222222,
              "#7201a8"
             ],
             [
              0.3333333333333333,
              "#9c179e"
             ],
             [
              0.4444444444444444,
              "#bd3786"
             ],
             [
              0.5555555555555556,
              "#d8576b"
             ],
             [
              0.6666666666666666,
              "#ed7953"
             ],
             [
              0.7777777777777778,
              "#fb9f3a"
             ],
             [
              0.8888888888888888,
              "#fdca26"
             ],
             [
              1,
              "#f0f921"
             ]
            ],
            "type": "surface"
           }
          ],
          "table": [
           {
            "cells": {
             "fill": {
              "color": "#EBF0F8"
             },
             "line": {
              "color": "white"
             }
            },
            "header": {
             "fill": {
              "color": "#C8D4E3"
             },
             "line": {
              "color": "white"
             }
            },
            "type": "table"
           }
          ]
         },
         "layout": {
          "annotationdefaults": {
           "arrowcolor": "#2a3f5f",
           "arrowhead": 0,
           "arrowwidth": 1
          },
          "autotypenumbers": "strict",
          "coloraxis": {
           "colorbar": {
            "outlinewidth": 0,
            "ticks": ""
           }
          },
          "colorscale": {
           "diverging": [
            [
             0,
             "#8e0152"
            ],
            [
             0.1,
             "#c51b7d"
            ],
            [
             0.2,
             "#de77ae"
            ],
            [
             0.3,
             "#f1b6da"
            ],
            [
             0.4,
             "#fde0ef"
            ],
            [
             0.5,
             "#f7f7f7"
            ],
            [
             0.6,
             "#e6f5d0"
            ],
            [
             0.7,
             "#b8e186"
            ],
            [
             0.8,
             "#7fbc41"
            ],
            [
             0.9,
             "#4d9221"
            ],
            [
             1,
             "#276419"
            ]
           ],
           "sequential": [
            [
             0,
             "#0d0887"
            ],
            [
             0.1111111111111111,
             "#46039f"
            ],
            [
             0.2222222222222222,
             "#7201a8"
            ],
            [
             0.3333333333333333,
             "#9c179e"
            ],
            [
             0.4444444444444444,
             "#bd3786"
            ],
            [
             0.5555555555555556,
             "#d8576b"
            ],
            [
             0.6666666666666666,
             "#ed7953"
            ],
            [
             0.7777777777777778,
             "#fb9f3a"
            ],
            [
             0.8888888888888888,
             "#fdca26"
            ],
            [
             1,
             "#f0f921"
            ]
           ],
           "sequentialminus": [
            [
             0,
             "#0d0887"
            ],
            [
             0.1111111111111111,
             "#46039f"
            ],
            [
             0.2222222222222222,
             "#7201a8"
            ],
            [
             0.3333333333333333,
             "#9c179e"
            ],
            [
             0.4444444444444444,
             "#bd3786"
            ],
            [
             0.5555555555555556,
             "#d8576b"
            ],
            [
             0.6666666666666666,
             "#ed7953"
            ],
            [
             0.7777777777777778,
             "#fb9f3a"
            ],
            [
             0.8888888888888888,
             "#fdca26"
            ],
            [
             1,
             "#f0f921"
            ]
           ]
          },
          "colorway": [
           "#636efa",
           "#EF553B",
           "#00cc96",
           "#ab63fa",
           "#FFA15A",
           "#19d3f3",
           "#FF6692",
           "#B6E880",
           "#FF97FF",
           "#FECB52"
          ],
          "font": {
           "color": "#2a3f5f"
          },
          "geo": {
           "bgcolor": "white",
           "lakecolor": "white",
           "landcolor": "#E5ECF6",
           "showlakes": true,
           "showland": true,
           "subunitcolor": "white"
          },
          "hoverlabel": {
           "align": "left"
          },
          "hovermode": "closest",
          "mapbox": {
           "style": "light"
          },
          "paper_bgcolor": "white",
          "plot_bgcolor": "#E5ECF6",
          "polar": {
           "angularaxis": {
            "gridcolor": "white",
            "linecolor": "white",
            "ticks": ""
           },
           "bgcolor": "#E5ECF6",
           "radialaxis": {
            "gridcolor": "white",
            "linecolor": "white",
            "ticks": ""
           }
          },
          "scene": {
           "xaxis": {
            "backgroundcolor": "#E5ECF6",
            "gridcolor": "white",
            "gridwidth": 2,
            "linecolor": "white",
            "showbackground": true,
            "ticks": "",
            "zerolinecolor": "white"
           },
           "yaxis": {
            "backgroundcolor": "#E5ECF6",
            "gridcolor": "white",
            "gridwidth": 2,
            "linecolor": "white",
            "showbackground": true,
            "ticks": "",
            "zerolinecolor": "white"
           },
           "zaxis": {
            "backgroundcolor": "#E5ECF6",
            "gridcolor": "white",
            "gridwidth": 2,
            "linecolor": "white",
            "showbackground": true,
            "ticks": "",
            "zerolinecolor": "white"
           }
          },
          "shapedefaults": {
           "line": {
            "color": "#2a3f5f"
           }
          },
          "ternary": {
           "aaxis": {
            "gridcolor": "white",
            "linecolor": "white",
            "ticks": ""
           },
           "baxis": {
            "gridcolor": "white",
            "linecolor": "white",
            "ticks": ""
           },
           "bgcolor": "#E5ECF6",
           "caxis": {
            "gridcolor": "white",
            "linecolor": "white",
            "ticks": ""
           }
          },
          "title": {
           "x": 0.05
          },
          "xaxis": {
           "automargin": true,
           "gridcolor": "white",
           "linecolor": "white",
           "ticks": "",
           "title": {
            "standoff": 15
           },
           "zerolinecolor": "white",
           "zerolinewidth": 2
          },
          "yaxis": {
           "automargin": true,
           "gridcolor": "white",
           "linecolor": "white",
           "ticks": "",
           "title": {
            "standoff": 15
           },
           "zerolinecolor": "white",
           "zerolinewidth": 2
          }
         }
        },
        "title": {
         "text": "Cos sim of categorical probe"
        },
        "xaxis": {
         "anchor": "y",
         "constrain": "domain",
         "domain": [
          0,
          1
         ],
         "scaleanchor": "y",
         "title": {
          "text": "N Correct InContext"
         }
        },
        "yaxis": {
         "anchor": "x",
         "autorange": true,
         "constrain": "domain",
         "domain": [
          0,
          1
         ],
         "title": {
          "text": "N Correct In Context"
         }
        }
       }
      },
      "text/html": [
       "<div>                            <div id=\"0fc767f0-9f04-48da-b6fc-fa337ce3a579\" class=\"plotly-graph-div\" style=\"height:525px; width:100%;\"></div>            <script type=\"text/javascript\">                require([\"plotly\"], function(Plotly) {                    window.PLOTLYENV=window.PLOTLYENV || {};                                    if (document.getElementById(\"0fc767f0-9f04-48da-b6fc-fa337ce3a579\")) {                    Plotly.newPlot(                        \"0fc767f0-9f04-48da-b6fc-fa337ce3a579\",                        [{\"coloraxis\":\"coloraxis\",\"name\":\"0\",\"z\":[[0.9999999932448069,-0.053320647738291885,-0.15203615336184156,-0.26487112493933335,-0.3098678683695228,-0.4196766111986168],[-0.053320647738291885,0.9999999941885471,-0.1568444710690528,-0.18236142033846894,-0.20503989615982088,-0.30575433639925903],[-0.15203615336184156,-0.1568444710690528,0.9999999956289927,-0.239722007708624,-0.15427776112240585,-0.19395791856455616],[-0.26487112493933335,-0.18236142033846894,-0.239722007708624,0.9999999982118607,-0.17112721954569377,-0.054111420835639974],[-0.3098678683695228,-0.20503989615982088,-0.15427776112240585,-0.17112721954569377,0.9999999999006589,-0.035304722010235615],[-0.4196766111986168,-0.30575433639925903,-0.19395791856455616,-0.054111420835639974,-0.035304722010235615,0.999999996026357]],\"type\":\"heatmap\",\"xaxis\":\"x\",\"yaxis\":\"y\",\"hovertemplate\":\"N Correct InContext: %{x}<br>N Correct In Context: %{y}<br>color: %{z}<extra></extra>\"}],                        {\"template\":{\"data\":{\"histogram2dcontour\":[{\"type\":\"histogram2dcontour\",\"colorbar\":{\"outlinewidth\":0,\"ticks\":\"\"},\"colorscale\":[[0.0,\"#0d0887\"],[0.1111111111111111,\"#46039f\"],[0.2222222222222222,\"#7201a8\"],[0.3333333333333333,\"#9c179e\"],[0.4444444444444444,\"#bd3786\"],[0.5555555555555556,\"#d8576b\"],[0.6666666666666666,\"#ed7953\"],[0.7777777777777778,\"#fb9f3a\"],[0.8888888888888888,\"#fdca26\"],[1.0,\"#f0f921\"]]}],\"choropleth\":[{\"type\":\"choropleth\",\"colorbar\":{\"outlinewidth\":0,\"ticks\":\"\"}}],\"histogram2d\":[{\"type\":\"histogram2d\",\"colorbar\":{\"outlinewidth\":0,\"ticks\":\"\"},\"colorscale\":[[0.0,\"#0d0887\"],[0.1111111111111111,\"#46039f\"],[0.2222222222222222,\"#7201a8\"],[0.3333333333333333,\"#9c179e\"],[0.4444444444444444,\"#bd3786\"],[0.5555555555555556,\"#d8576b\"],[0.6666666666666666,\"#ed7953\"],[0.7777777777777778,\"#fb9f3a\"],[0.8888888888888888,\"#fdca26\"],[1.0,\"#f0f921\"]]}],\"heatmap\":[{\"type\":\"heatmap\",\"colorbar\":{\"outlinewidth\":0,\"ticks\":\"\"},\"colorscale\":[[0.0,\"#0d0887\"],[0.1111111111111111,\"#46039f\"],[0.2222222222222222,\"#7201a8\"],[0.3333333333333333,\"#9c179e\"],[0.4444444444444444,\"#bd3786\"],[0.5555555555555556,\"#d8576b\"],[0.6666666666666666,\"#ed7953\"],[0.7777777777777778,\"#fb9f3a\"],[0.8888888888888888,\"#fdca26\"],[1.0,\"#f0f921\"]]}],\"heatmapgl\":[{\"type\":\"heatmapgl\",\"colorbar\":{\"outlinewidth\":0,\"ticks\":\"\"},\"colorscale\":[[0.0,\"#0d0887\"],[0.1111111111111111,\"#46039f\"],[0.2222222222222222,\"#7201a8\"],[0.3333333333333333,\"#9c179e\"],[0.4444444444444444,\"#bd3786\"],[0.5555555555555556,\"#d8576b\"],[0.6666666666666666,\"#ed7953\"],[0.7777777777777778,\"#fb9f3a\"],[0.8888888888888888,\"#fdca26\"],[1.0,\"#f0f921\"]]}],\"contourcarpet\":[{\"type\":\"contourcarpet\",\"colorbar\":{\"outlinewidth\":0,\"ticks\":\"\"}}],\"contour\":[{\"type\":\"contour\",\"colorbar\":{\"outlinewidth\":0,\"ticks\":\"\"},\"colorscale\":[[0.0,\"#0d0887\"],[0.1111111111111111,\"#46039f\"],[0.2222222222222222,\"#7201a8\"],[0.3333333333333333,\"#9c179e\"],[0.4444444444444444,\"#bd3786\"],[0.5555555555555556,\"#d8576b\"],[0.6666666666666666,\"#ed7953\"],[0.7777777777777778,\"#fb9f3a\"],[0.8888888888888888,\"#fdca26\"],[1.0,\"#f0f921\"]]}],\"surface\":[{\"type\":\"surface\",\"colorbar\":{\"outlinewidth\":0,\"ticks\":\"\"},\"colorscale\":[[0.0,\"#0d0887\"],[0.1111111111111111,\"#46039f\"],[0.2222222222222222,\"#7201a8\"],[0.3333333333333333,\"#9c179e\"],[0.4444444444444444,\"#bd3786\"],[0.5555555555555556,\"#d8576b\"],[0.6666666666666666,\"#ed7953\"],[0.7777777777777778,\"#fb9f3a\"],[0.8888888888888888,\"#fdca26\"],[1.0,\"#f0f921\"]]}],\"mesh3d\":[{\"type\":\"mesh3d\",\"colorbar\":{\"outlinewidth\":0,\"ticks\":\"\"}}],\"scatter\":[{\"fillpattern\":{\"fillmode\":\"overlay\",\"size\":10,\"solidity\":0.2},\"type\":\"scatter\"}],\"parcoords\":[{\"type\":\"parcoords\",\"line\":{\"colorbar\":{\"outlinewidth\":0,\"ticks\":\"\"}}}],\"scatterpolargl\":[{\"type\":\"scatterpolargl\",\"marker\":{\"colorbar\":{\"outlinewidth\":0,\"ticks\":\"\"}}}],\"bar\":[{\"error_x\":{\"color\":\"#2a3f5f\"},\"error_y\":{\"color\":\"#2a3f5f\"},\"marker\":{\"line\":{\"color\":\"#E5ECF6\",\"width\":0.5},\"pattern\":{\"fillmode\":\"overlay\",\"size\":10,\"solidity\":0.2}},\"type\":\"bar\"}],\"scattergeo\":[{\"type\":\"scattergeo\",\"marker\":{\"colorbar\":{\"outlinewidth\":0,\"ticks\":\"\"}}}],\"scatterpolar\":[{\"type\":\"scatterpolar\",\"marker\":{\"colorbar\":{\"outlinewidth\":0,\"ticks\":\"\"}}}],\"histogram\":[{\"marker\":{\"pattern\":{\"fillmode\":\"overlay\",\"size\":10,\"solidity\":0.2}},\"type\":\"histogram\"}],\"scattergl\":[{\"type\":\"scattergl\",\"marker\":{\"colorbar\":{\"outlinewidth\":0,\"ticks\":\"\"}}}],\"scatter3d\":[{\"type\":\"scatter3d\",\"line\":{\"colorbar\":{\"outlinewidth\":0,\"ticks\":\"\"}},\"marker\":{\"colorbar\":{\"outlinewidth\":0,\"ticks\":\"\"}}}],\"scattermapbox\":[{\"type\":\"scattermapbox\",\"marker\":{\"colorbar\":{\"outlinewidth\":0,\"ticks\":\"\"}}}],\"scatterternary\":[{\"type\":\"scatterternary\",\"marker\":{\"colorbar\":{\"outlinewidth\":0,\"ticks\":\"\"}}}],\"scattercarpet\":[{\"type\":\"scattercarpet\",\"marker\":{\"colorbar\":{\"outlinewidth\":0,\"ticks\":\"\"}}}],\"carpet\":[{\"aaxis\":{\"endlinecolor\":\"#2a3f5f\",\"gridcolor\":\"white\",\"linecolor\":\"white\",\"minorgridcolor\":\"white\",\"startlinecolor\":\"#2a3f5f\"},\"baxis\":{\"endlinecolor\":\"#2a3f5f\",\"gridcolor\":\"white\",\"linecolor\":\"white\",\"minorgridcolor\":\"white\",\"startlinecolor\":\"#2a3f5f\"},\"type\":\"carpet\"}],\"table\":[{\"cells\":{\"fill\":{\"color\":\"#EBF0F8\"},\"line\":{\"color\":\"white\"}},\"header\":{\"fill\":{\"color\":\"#C8D4E3\"},\"line\":{\"color\":\"white\"}},\"type\":\"table\"}],\"barpolar\":[{\"marker\":{\"line\":{\"color\":\"#E5ECF6\",\"width\":0.5},\"pattern\":{\"fillmode\":\"overlay\",\"size\":10,\"solidity\":0.2}},\"type\":\"barpolar\"}],\"pie\":[{\"automargin\":true,\"type\":\"pie\"}]},\"layout\":{\"autotypenumbers\":\"strict\",\"colorway\":[\"#636efa\",\"#EF553B\",\"#00cc96\",\"#ab63fa\",\"#FFA15A\",\"#19d3f3\",\"#FF6692\",\"#B6E880\",\"#FF97FF\",\"#FECB52\"],\"font\":{\"color\":\"#2a3f5f\"},\"hovermode\":\"closest\",\"hoverlabel\":{\"align\":\"left\"},\"paper_bgcolor\":\"white\",\"plot_bgcolor\":\"#E5ECF6\",\"polar\":{\"bgcolor\":\"#E5ECF6\",\"angularaxis\":{\"gridcolor\":\"white\",\"linecolor\":\"white\",\"ticks\":\"\"},\"radialaxis\":{\"gridcolor\":\"white\",\"linecolor\":\"white\",\"ticks\":\"\"}},\"ternary\":{\"bgcolor\":\"#E5ECF6\",\"aaxis\":{\"gridcolor\":\"white\",\"linecolor\":\"white\",\"ticks\":\"\"},\"baxis\":{\"gridcolor\":\"white\",\"linecolor\":\"white\",\"ticks\":\"\"},\"caxis\":{\"gridcolor\":\"white\",\"linecolor\":\"white\",\"ticks\":\"\"}},\"coloraxis\":{\"colorbar\":{\"outlinewidth\":0,\"ticks\":\"\"}},\"colorscale\":{\"sequential\":[[0.0,\"#0d0887\"],[0.1111111111111111,\"#46039f\"],[0.2222222222222222,\"#7201a8\"],[0.3333333333333333,\"#9c179e\"],[0.4444444444444444,\"#bd3786\"],[0.5555555555555556,\"#d8576b\"],[0.6666666666666666,\"#ed7953\"],[0.7777777777777778,\"#fb9f3a\"],[0.8888888888888888,\"#fdca26\"],[1.0,\"#f0f921\"]],\"sequentialminus\":[[0.0,\"#0d0887\"],[0.1111111111111111,\"#46039f\"],[0.2222222222222222,\"#7201a8\"],[0.3333333333333333,\"#9c179e\"],[0.4444444444444444,\"#bd3786\"],[0.5555555555555556,\"#d8576b\"],[0.6666666666666666,\"#ed7953\"],[0.7777777777777778,\"#fb9f3a\"],[0.8888888888888888,\"#fdca26\"],[1.0,\"#f0f921\"]],\"diverging\":[[0,\"#8e0152\"],[0.1,\"#c51b7d\"],[0.2,\"#de77ae\"],[0.3,\"#f1b6da\"],[0.4,\"#fde0ef\"],[0.5,\"#f7f7f7\"],[0.6,\"#e6f5d0\"],[0.7,\"#b8e186\"],[0.8,\"#7fbc41\"],[0.9,\"#4d9221\"],[1,\"#276419\"]]},\"xaxis\":{\"gridcolor\":\"white\",\"linecolor\":\"white\",\"ticks\":\"\",\"title\":{\"standoff\":15},\"zerolinecolor\":\"white\",\"automargin\":true,\"zerolinewidth\":2},\"yaxis\":{\"gridcolor\":\"white\",\"linecolor\":\"white\",\"ticks\":\"\",\"title\":{\"standoff\":15},\"zerolinecolor\":\"white\",\"automargin\":true,\"zerolinewidth\":2},\"scene\":{\"xaxis\":{\"backgroundcolor\":\"#E5ECF6\",\"gridcolor\":\"white\",\"linecolor\":\"white\",\"showbackground\":true,\"ticks\":\"\",\"zerolinecolor\":\"white\",\"gridwidth\":2},\"yaxis\":{\"backgroundcolor\":\"#E5ECF6\",\"gridcolor\":\"white\",\"linecolor\":\"white\",\"showbackground\":true,\"ticks\":\"\",\"zerolinecolor\":\"white\",\"gridwidth\":2},\"zaxis\":{\"backgroundcolor\":\"#E5ECF6\",\"gridcolor\":\"white\",\"linecolor\":\"white\",\"showbackground\":true,\"ticks\":\"\",\"zerolinecolor\":\"white\",\"gridwidth\":2}},\"shapedefaults\":{\"line\":{\"color\":\"#2a3f5f\"}},\"annotationdefaults\":{\"arrowcolor\":\"#2a3f5f\",\"arrowhead\":0,\"arrowwidth\":1},\"geo\":{\"bgcolor\":\"white\",\"landcolor\":\"#E5ECF6\",\"subunitcolor\":\"white\",\"showland\":true,\"showlakes\":true,\"lakecolor\":\"white\"},\"title\":{\"x\":0.05},\"mapbox\":{\"style\":\"light\"}}},\"xaxis\":{\"anchor\":\"y\",\"domain\":[0.0,1.0],\"scaleanchor\":\"y\",\"constrain\":\"domain\",\"title\":{\"text\":\"N Correct InContext\"}},\"yaxis\":{\"anchor\":\"x\",\"domain\":[0.0,1.0],\"autorange\":true,\"constrain\":\"domain\",\"title\":{\"text\":\"N Correct In Context\"}},\"coloraxis\":{\"colorscale\":[[0.0,\"rgb(103,0,31)\"],[0.1,\"rgb(178,24,43)\"],[0.2,\"rgb(214,96,77)\"],[0.3,\"rgb(244,165,130)\"],[0.4,\"rgb(253,219,199)\"],[0.5,\"rgb(247,247,247)\"],[0.6,\"rgb(209,229,240)\"],[0.7,\"rgb(146,197,222)\"],[0.8,\"rgb(67,147,195)\"],[0.9,\"rgb(33,102,172)\"],[1.0,\"rgb(5,48,97)\"]],\"cmid\":0},\"title\":{\"text\":\"Cos sim of categorical probe\"}},                        {\"responsive\": true}                    ).then(function(){\n",
       "                            \n",
       "var gd = document.getElementById('0fc767f0-9f04-48da-b6fc-fa337ce3a579');\n",
       "var x = new MutationObserver(function (mutations, observer) {{\n",
       "        var display = window.getComputedStyle(gd).display;\n",
       "        if (!display || display === 'none') {{\n",
       "            console.log([gd, 'removed!']);\n",
       "            Plotly.purge(gd);\n",
       "            observer.disconnect();\n",
       "        }}\n",
       "}});\n",
       "\n",
       "// Listen for the removal of the full notebook cells\n",
       "var notebookContainer = gd.closest('#notebook-container');\n",
       "if (notebookContainer) {{\n",
       "    x.observe(notebookContainer, {childList: true});\n",
       "}}\n",
       "\n",
       "// Listen for the clearing of the current output cell\n",
       "var outputEl = gd.closest('.output');\n",
       "if (outputEl) {{\n",
       "    x.observe(outputEl, {childList: true});\n",
       "}}\n",
       "\n",
       "                        })                };                });            </script>        </div>"
      ]
     },
     "metadata": {},
     "output_type": "display_data"
    }
   ],
   "source": [
    "cos = nn.CosineSimilarity()\n",
    "\n",
    "probe_num_context_cossim = []\n",
    "for probe in nin_d.probes:\n",
    "    cossims = np.empty((6, 6))\n",
    "    for i in range(6):\n",
    "        for j in range(6):\n",
    "            cossims[i, j] = cos(torch.from_numpy(probe.coef_[i]).reshape(1, -1), torch.from_numpy(probe.coef_[j]).reshape(1, -1)).item()\n",
    "\n",
    "    probe_num_context_cossim.append(cossims)\n",
    "\n",
    "probe_num_context_cossim = np.stack(probe_num_context_cossim).mean(axis = 0)\n",
    "px.imshow(probe_num_context_cossim, labels = {\"x\" : \"N Correct InContext\", \"y\": \"N Correct In Context\"},title = \"Cos sim of categorical probe\", color_continuous_midpoint = 0, color_continuous_scale=\"RdBu\", origin = \"lower\")"
   ]
  },
  {
   "cell_type": "code",
   "execution_count": 29,
   "metadata": {},
   "outputs": [
    {
     "data": {
      "application/vnd.plotly.v1+json": {
       "config": {
        "plotlyServerURL": "https://plot.ly"
       },
       "data": [
        {
         "coloraxis": "coloraxis",
         "hovertemplate": "Heads (sorted): %{x}<br>Layers: %{y}<br>color: %{z}<extra></extra>",
         "name": "0",
         "type": "heatmap",
         "xaxis": "x",
         "yaxis": "y",
         "z": [
          [
           0.16,
           0.16,
           0.16,
           0.16,
           0.16,
           0.16,
           0.16,
           0.16,
           0.16,
           0.16,
           0.16,
           0.16,
           0.16,
           0.16,
           0.16,
           0.16,
           0.16,
           0.16,
           0.16,
           0.16,
           0.16,
           0.16,
           0.16,
           0.16,
           0.16
          ],
          [
           0.21333333333333335,
           0.21333333333333335,
           0.2,
           0.18666666666666668,
           0.18666666666666668,
           0.17333333333333334,
           0.17333333333333334,
           0.17333333333333334,
           0.17333333333333334,
           0.17333333333333334,
           0.16,
           0.16,
           0.16,
           0.16,
           0.16,
           0.14666666666666667,
           0.14666666666666667,
           0.14666666666666667,
           0.14666666666666667,
           0.14666666666666667,
           0.14666666666666667,
           0.13333333333333333,
           0.13333333333333333,
           0.13333333333333333,
           0.10666666666666667
          ],
          [
           0.22666666666666666,
           0.21333333333333335,
           0.2,
           0.2,
           0.18666666666666668,
           0.17333333333333334,
           0.17333333333333334,
           0.17333333333333334,
           0.17333333333333334,
           0.17333333333333334,
           0.17333333333333334,
           0.16,
           0.16,
           0.16,
           0.16,
           0.16,
           0.16,
           0.14666666666666667,
           0.14666666666666667,
           0.13333333333333333,
           0.13333333333333333,
           0.13333333333333333,
           0.12,
           0.12,
           0.10666666666666667
          ],
          [
           0.21333333333333335,
           0.2,
           0.2,
           0.18666666666666668,
           0.17333333333333334,
           0.17333333333333334,
           0.17333333333333334,
           0.16,
           0.16,
           0.16,
           0.16,
           0.16,
           0.16,
           0.16,
           0.16,
           0.16,
           0.16,
           0.16,
           0.16,
           0.16,
           0.14666666666666667,
           0.14666666666666667,
           0.12,
           0.12,
           0.10666666666666667
          ],
          [
           0.2,
           0.2,
           0.2,
           0.18666666666666668,
           0.18666666666666668,
           0.18666666666666668,
           0.18666666666666668,
           0.18666666666666668,
           0.17333333333333334,
           0.17333333333333334,
           0.17333333333333334,
           0.17333333333333334,
           0.16,
           0.16,
           0.16,
           0.16,
           0.16,
           0.16,
           0.16,
           0.14666666666666667,
           0.14666666666666667,
           0.14666666666666667,
           0.13333333333333333,
           0.13333333333333333,
           0.10666666666666667
          ],
          [
           0.25333333333333335,
           0.2,
           0.17333333333333334,
           0.17333333333333334,
           0.17333333333333334,
           0.17333333333333334,
           0.17333333333333334,
           0.16,
           0.16,
           0.16,
           0.16,
           0.16,
           0.16,
           0.14666666666666667,
           0.14666666666666667,
           0.14666666666666667,
           0.14666666666666667,
           0.14666666666666667,
           0.14666666666666667,
           0.13333333333333333,
           0.13333333333333333,
           0.13333333333333333,
           0.12,
           0.12,
           0.09333333333333334
          ],
          [
           0.21333333333333335,
           0.2,
           0.2,
           0.2,
           0.2,
           0.18666666666666668,
           0.18666666666666668,
           0.18666666666666668,
           0.18666666666666668,
           0.17333333333333334,
           0.17333333333333334,
           0.17333333333333334,
           0.16,
           0.16,
           0.16,
           0.16,
           0.16,
           0.16,
           0.16,
           0.14666666666666667,
           0.13333333333333333,
           0.13333333333333333,
           0.13333333333333333,
           0.12,
           0.10666666666666667
          ],
          [
           0.22666666666666666,
           0.21333333333333335,
           0.2,
           0.2,
           0.18666666666666668,
           0.18666666666666668,
           0.18666666666666668,
           0.17333333333333334,
           0.17333333333333334,
           0.17333333333333334,
           0.17333333333333334,
           0.17333333333333334,
           0.17333333333333334,
           0.16,
           0.16,
           0.16,
           0.16,
           0.16,
           0.16,
           0.16,
           0.16,
           0.16,
           0.14666666666666667,
           0.13333333333333333,
           0.13333333333333333
          ],
          [
           0.26666666666666666,
           0.22666666666666666,
           0.21333333333333335,
           0.2,
           0.2,
           0.2,
           0.18666666666666668,
           0.18666666666666668,
           0.17333333333333334,
           0.17333333333333334,
           0.17333333333333334,
           0.17333333333333334,
           0.16,
           0.16,
           0.16,
           0.16,
           0.16,
           0.16,
           0.16,
           0.14666666666666667,
           0.14666666666666667,
           0.14666666666666667,
           0.13333333333333333,
           0.13333333333333333,
           0.12
          ],
          [
           0.29333333333333333,
           0.24,
           0.2,
           0.2,
           0.18666666666666668,
           0.18666666666666668,
           0.18666666666666668,
           0.18666666666666668,
           0.18666666666666668,
           0.17333333333333334,
           0.17333333333333334,
           0.16,
           0.16,
           0.16,
           0.16,
           0.16,
           0.16,
           0.16,
           0.14666666666666667,
           0.14666666666666667,
           0.14666666666666667,
           0.13333333333333333,
           0.13333333333333333,
           0.13333333333333333,
           0.12
          ],
          [
           0.24,
           0.22666666666666666,
           0.21333333333333335,
           0.21333333333333335,
           0.2,
           0.18666666666666668,
           0.18666666666666668,
           0.18666666666666668,
           0.17333333333333334,
           0.17333333333333334,
           0.17333333333333334,
           0.17333333333333334,
           0.17333333333333334,
           0.16,
           0.16,
           0.16,
           0.16,
           0.16,
           0.16,
           0.16,
           0.16,
           0.14666666666666667,
           0.13333333333333333,
           0.13333333333333333,
           0.12
          ],
          [
           0.29333333333333333,
           0.25333333333333335,
           0.24,
           0.22666666666666666,
           0.21333333333333335,
           0.21333333333333335,
           0.21333333333333335,
           0.21333333333333335,
           0.2,
           0.2,
           0.18666666666666668,
           0.18666666666666668,
           0.17333333333333334,
           0.17333333333333334,
           0.16,
           0.16,
           0.16,
           0.16,
           0.16,
           0.16,
           0.16,
           0.16,
           0.16,
           0.14666666666666667,
           0.10666666666666667
          ],
          [
           0.24,
           0.22666666666666666,
           0.21333333333333335,
           0.21333333333333335,
           0.2,
           0.2,
           0.18666666666666668,
           0.18666666666666668,
           0.17333333333333334,
           0.17333333333333334,
           0.17333333333333334,
           0.17333333333333334,
           0.16,
           0.16,
           0.16,
           0.16,
           0.16,
           0.16,
           0.14666666666666667,
           0.14666666666666667,
           0.13333333333333333,
           0.13333333333333333,
           0.13333333333333333,
           0.13333333333333333,
           0.12
          ],
          [
           0.29333333333333333,
           0.28,
           0.24,
           0.22666666666666666,
           0.22666666666666666,
           0.22666666666666666,
           0.21333333333333335,
           0.21333333333333335,
           0.2,
           0.18666666666666668,
           0.18666666666666668,
           0.18666666666666668,
           0.17333333333333334,
           0.17333333333333334,
           0.17333333333333334,
           0.16,
           0.16,
           0.16,
           0.14666666666666667,
           0.14666666666666667,
           0.13333333333333333,
           0.13333333333333333,
           0.13333333333333333,
           0.13333333333333333,
           0.13333333333333333
          ],
          [
           0.30666666666666664,
           0.26666666666666666,
           0.25333333333333335,
           0.24,
           0.24,
           0.22666666666666666,
           0.22666666666666666,
           0.22666666666666666,
           0.22666666666666666,
           0.22666666666666666,
           0.2,
           0.2,
           0.2,
           0.2,
           0.2,
           0.2,
           0.2,
           0.18666666666666668,
           0.17333333333333334,
           0.16,
           0.16,
           0.14666666666666667,
           0.14666666666666667,
           0.13333333333333333,
           0.12
          ],
          [
           0.25333333333333335,
           0.22666666666666666,
           0.22666666666666666,
           0.22666666666666666,
           0.21333333333333335,
           0.21333333333333335,
           0.21333333333333335,
           0.18666666666666668,
           0.18666666666666668,
           0.18666666666666668,
           0.17333333333333334,
           0.17333333333333334,
           0.17333333333333334,
           0.17333333333333334,
           0.16,
           0.16,
           0.16,
           0.14666666666666667,
           0.14666666666666667,
           0.13333333333333333,
           0.13333333333333333,
           0.13333333333333333,
           0.12,
           0.12,
           0.09333333333333334
          ],
          [
           0.3333333333333333,
           0.29333333333333333,
           0.29333333333333333,
           0.28,
           0.28,
           0.24,
           0.24,
           0.22666666666666666,
           0.22666666666666666,
           0.22666666666666666,
           0.22666666666666666,
           0.22666666666666666,
           0.22666666666666666,
           0.21333333333333335,
           0.2,
           0.2,
           0.18666666666666668,
           0.18666666666666668,
           0.18666666666666668,
           0.18666666666666668,
           0.17333333333333334,
           0.16,
           0.14666666666666667,
           0.14666666666666667,
           0.12
          ],
          [
           0.30666666666666664,
           0.28,
           0.28,
           0.26666666666666666,
           0.26666666666666666,
           0.25333333333333335,
           0.25333333333333335,
           0.25333333333333335,
           0.24,
           0.22666666666666666,
           0.21333333333333335,
           0.21333333333333335,
           0.2,
           0.2,
           0.2,
           0.18666666666666668,
           0.18666666666666668,
           0.17333333333333334,
           0.17333333333333334,
           0.16,
           0.16,
           0.16,
           0.14666666666666667,
           0.14666666666666667,
           0.06666666666666667
          ],
          [
           0.3333333333333333,
           0.26666666666666666,
           0.24,
           0.22666666666666666,
           0.22666666666666666,
           0.22666666666666666,
           0.22666666666666666,
           0.21333333333333335,
           0.2,
           0.2,
           0.2,
           0.18666666666666668,
           0.18666666666666668,
           0.18666666666666668,
           0.18666666666666668,
           0.18666666666666668,
           0.18666666666666668,
           0.17333333333333334,
           0.16,
           0.16,
           0.14666666666666667,
           0.14666666666666667,
           0.13333333333333333,
           0.10666666666666667,
           0.09333333333333334
          ],
          [
           0.3466666666666667,
           0.32,
           0.28,
           0.26666666666666666,
           0.25333333333333335,
           0.24,
           0.24,
           0.22666666666666666,
           0.22666666666666666,
           0.22666666666666666,
           0.22666666666666666,
           0.22666666666666666,
           0.21333333333333335,
           0.21333333333333335,
           0.21333333333333335,
           0.2,
           0.17333333333333334,
           0.17333333333333334,
           0.16,
           0.16,
           0.16,
           0.14666666666666667,
           0.13333333333333333,
           0.13333333333333333,
           0.12
          ],
          [
           0.41333333333333333,
           0.37333333333333335,
           0.37333333333333335,
           0.30666666666666664,
           0.30666666666666664,
           0.30666666666666664,
           0.29333333333333333,
           0.28,
           0.28,
           0.28,
           0.28,
           0.24,
           0.22666666666666666,
           0.22666666666666666,
           0.22666666666666666,
           0.21333333333333335,
           0.21333333333333335,
           0.21333333333333335,
           0.21333333333333335,
           0.2,
           0.2,
           0.18666666666666668,
           0.18666666666666668,
           0.17333333333333334,
           0.13333333333333333
          ],
          [
           0.37333333333333335,
           0.3466666666666667,
           0.30666666666666664,
           0.30666666666666664,
           0.29333333333333333,
           0.28,
           0.28,
           0.28,
           0.26666666666666666,
           0.26666666666666666,
           0.26666666666666666,
           0.26666666666666666,
           0.26666666666666666,
           0.25333333333333335,
           0.25333333333333335,
           0.25333333333333335,
           0.24,
           0.22666666666666666,
           0.21333333333333335,
           0.21333333333333335,
           0.2,
           0.18666666666666668,
           0.17333333333333334,
           0.16,
           0.16
          ],
          [
           0.38666666666666666,
           0.3333333333333333,
           0.32,
           0.30666666666666664,
           0.29333333333333333,
           0.26666666666666666,
           0.26666666666666666,
           0.26666666666666666,
           0.25333333333333335,
           0.25333333333333335,
           0.24,
           0.24,
           0.22666666666666666,
           0.22666666666666666,
           0.22666666666666666,
           0.21333333333333335,
           0.21333333333333335,
           0.2,
           0.2,
           0.2,
           0.18666666666666668,
           0.18666666666666668,
           0.17333333333333334,
           0.17333333333333334,
           0.17333333333333334
          ],
          [
           0.37333333333333335,
           0.3466666666666667,
           0.3333333333333333,
           0.30666666666666664,
           0.30666666666666664,
           0.29333333333333333,
           0.29333333333333333,
           0.29333333333333333,
           0.28,
           0.26666666666666666,
           0.25333333333333335,
           0.25333333333333335,
           0.25333333333333335,
           0.25333333333333335,
           0.25333333333333335,
           0.24,
           0.24,
           0.22666666666666666,
           0.21333333333333335,
           0.2,
           0.18666666666666668,
           0.17333333333333334,
           0.16,
           0.16,
           0.16
          ],
          [
           0.36,
           0.3333333333333333,
           0.3333333333333333,
           0.32,
           0.29333333333333333,
           0.29333333333333333,
           0.29333333333333333,
           0.28,
           0.28,
           0.28,
           0.26666666666666666,
           0.26666666666666666,
           0.26666666666666666,
           0.25333333333333335,
           0.25333333333333335,
           0.25333333333333335,
           0.25333333333333335,
           0.25333333333333335,
           0.25333333333333335,
           0.24,
           0.24,
           0.24,
           0.21333333333333335,
           0.18666666666666668,
           0.14666666666666667
          ],
          [
           0.38666666666666666,
           0.37333333333333335,
           0.3466666666666667,
           0.3466666666666667,
           0.3333333333333333,
           0.32,
           0.32,
           0.30666666666666664,
           0.30666666666666664,
           0.30666666666666664,
           0.29333333333333333,
           0.29333333333333333,
           0.28,
           0.28,
           0.28,
           0.26666666666666666,
           0.24,
           0.24,
           0.24,
           0.24,
           0.22666666666666666,
           0.21333333333333335,
           0.2,
           0.17333333333333334,
           0.16
          ],
          [
           0.3466666666666667,
           0.3333333333333333,
           0.29333333333333333,
           0.28,
           0.28,
           0.26666666666666666,
           0.26666666666666666,
           0.25333333333333335,
           0.25333333333333335,
           0.25333333333333335,
           0.25333333333333335,
           0.25333333333333335,
           0.24,
           0.24,
           0.22666666666666666,
           0.2,
           0.2,
           0.2,
           0.18666666666666668,
           0.18666666666666668,
           0.18666666666666668,
           0.18666666666666668,
           0.18666666666666668,
           0.17333333333333334,
           0.13333333333333333
          ],
          [
           0.36,
           0.36,
           0.3333333333333333,
           0.30666666666666664,
           0.29333333333333333,
           0.29333333333333333,
           0.28,
           0.28,
           0.28,
           0.28,
           0.28,
           0.28,
           0.26666666666666666,
           0.26666666666666666,
           0.25333333333333335,
           0.25333333333333335,
           0.24,
           0.24,
           0.24,
           0.24,
           0.21333333333333335,
           0.16,
           0.16,
           0.14666666666666667,
           0.12
          ],
          [
           0.29333333333333333,
           0.28,
           0.28,
           0.28,
           0.26666666666666666,
           0.25333333333333335,
           0.25333333333333335,
           0.25333333333333335,
           0.25333333333333335,
           0.25333333333333335,
           0.25333333333333335,
           0.24,
           0.22666666666666666,
           0.22666666666666666,
           0.21333333333333335,
           0.21333333333333335,
           0.21333333333333335,
           0.21333333333333335,
           0.18666666666666668,
           0.17333333333333334,
           0.17333333333333334,
           0.17333333333333334,
           0.16,
           0.16,
           0.13333333333333333
          ],
          [
           0.3466666666666667,
           0.3333333333333333,
           0.30666666666666664,
           0.30666666666666664,
           0.29333333333333333,
           0.28,
           0.28,
           0.26666666666666666,
           0.26666666666666666,
           0.26666666666666666,
           0.25333333333333335,
           0.25333333333333335,
           0.24,
           0.24,
           0.24,
           0.24,
           0.22666666666666666,
           0.22666666666666666,
           0.22666666666666666,
           0.22666666666666666,
           0.21333333333333335,
           0.21333333333333335,
           0.21333333333333335,
           0.2,
           0.17333333333333334
          ],
          [
           0.30666666666666664,
           0.30666666666666664,
           0.29333333333333333,
           0.28,
           0.28,
           0.28,
           0.26666666666666666,
           0.26666666666666666,
           0.25333333333333335,
           0.25333333333333335,
           0.24,
           0.24,
           0.22666666666666666,
           0.22666666666666666,
           0.22666666666666666,
           0.21333333333333335,
           0.21333333333333335,
           0.18666666666666668,
           0.18666666666666668,
           0.18666666666666668,
           0.18666666666666668,
           0.18666666666666668,
           0.18666666666666668,
           0.16,
           0.13333333333333333
          ],
          [
           0.30666666666666664,
           0.30666666666666664,
           0.28,
           0.28,
           0.28,
           0.28,
           0.26666666666666666,
           0.26666666666666666,
           0.25333333333333335,
           0.25333333333333335,
           0.25333333333333335,
           0.25333333333333335,
           0.25333333333333335,
           0.22666666666666666,
           0.22666666666666666,
           0.21333333333333335,
           0.21333333333333335,
           0.21333333333333335,
           0.21333333333333335,
           0.2,
           0.18666666666666668,
           0.18666666666666668,
           0.18666666666666668,
           0.17333333333333334,
           0.16
          ],
          [
           0.3333333333333333,
           0.3333333333333333,
           0.28,
           0.28,
           0.28,
           0.26666666666666666,
           0.26666666666666666,
           0.26666666666666666,
           0.26666666666666666,
           0.26666666666666666,
           0.25333333333333335,
           0.25333333333333335,
           0.24,
           0.24,
           0.2,
           0.2,
           0.18666666666666668,
           0.17333333333333334,
           0.17333333333333334,
           0.17333333333333334,
           0.17333333333333334,
           0.16,
           0.16,
           0.14666666666666667,
           0.13333333333333333
          ],
          [
           0.29333333333333333,
           0.29333333333333333,
           0.26666666666666666,
           0.26666666666666666,
           0.25333333333333335,
           0.24,
           0.24,
           0.24,
           0.22666666666666666,
           0.22666666666666666,
           0.22666666666666666,
           0.22666666666666666,
           0.21333333333333335,
           0.21333333333333335,
           0.21333333333333335,
           0.2,
           0.2,
           0.18666666666666668,
           0.18666666666666668,
           0.17333333333333334,
           0.17333333333333334,
           0.17333333333333334,
           0.16,
           0.16,
           0.14666666666666667
          ],
          [
           0.32,
           0.32,
           0.29333333333333333,
           0.29333333333333333,
           0.29333333333333333,
           0.26666666666666666,
           0.26666666666666666,
           0.25333333333333335,
           0.24,
           0.24,
           0.24,
           0.22666666666666666,
           0.22666666666666666,
           0.21333333333333335,
           0.21333333333333335,
           0.2,
           0.2,
           0.2,
           0.2,
           0.2,
           0.18666666666666668,
           0.17333333333333334,
           0.16,
           0.16,
           0.16
          ],
          [
           0.29333333333333333,
           0.28,
           0.26666666666666666,
           0.26666666666666666,
           0.25333333333333335,
           0.25333333333333335,
           0.25333333333333335,
           0.22666666666666666,
           0.22666666666666666,
           0.22666666666666666,
           0.21333333333333335,
           0.21333333333333335,
           0.21333333333333335,
           0.2,
           0.2,
           0.18666666666666668,
           0.18666666666666668,
           0.18666666666666668,
           0.18666666666666668,
           0.17333333333333334,
           0.16,
           0.16,
           0.14666666666666667,
           0.13333333333333333,
           0.12
          ],
          [
           0.32,
           0.28,
           0.28,
           0.28,
           0.28,
           0.26666666666666666,
           0.26666666666666666,
           0.26666666666666666,
           0.21333333333333335,
           0.21333333333333335,
           0.21333333333333335,
           0.2,
           0.2,
           0.2,
           0.18666666666666668,
           0.18666666666666668,
           0.17333333333333334,
           0.17333333333333334,
           0.17333333333333334,
           0.16,
           0.16,
           0.14666666666666667,
           0.13333333333333333,
           0.13333333333333333,
           0.13333333333333333
          ],
          [
           0.30666666666666664,
           0.28,
           0.26666666666666666,
           0.25333333333333335,
           0.25333333333333335,
           0.25333333333333335,
           0.24,
           0.24,
           0.22666666666666666,
           0.22666666666666666,
           0.21333333333333335,
           0.21333333333333335,
           0.2,
           0.2,
           0.2,
           0.2,
           0.18666666666666668,
           0.18666666666666668,
           0.18666666666666668,
           0.18666666666666668,
           0.17333333333333334,
           0.17333333333333334,
           0.17333333333333334,
           0.13333333333333333,
           0.13333333333333333
          ],
          [
           0.32,
           0.26666666666666666,
           0.26666666666666666,
           0.25333333333333335,
           0.24,
           0.24,
           0.24,
           0.22666666666666666,
           0.22666666666666666,
           0.22666666666666666,
           0.22666666666666666,
           0.22666666666666666,
           0.21333333333333335,
           0.21333333333333335,
           0.2,
           0.2,
           0.2,
           0.2,
           0.2,
           0.18666666666666668,
           0.18666666666666668,
           0.17333333333333334,
           0.16,
           0.16,
           0.14666666666666667
          ],
          [
           0.28,
           0.26666666666666666,
           0.25333333333333335,
           0.25333333333333335,
           0.25333333333333335,
           0.24,
           0.24,
           0.24,
           0.22666666666666666,
           0.22666666666666666,
           0.22666666666666666,
           0.22666666666666666,
           0.22666666666666666,
           0.22666666666666666,
           0.22666666666666666,
           0.22666666666666666,
           0.21333333333333335,
           0.21333333333333335,
           0.2,
           0.2,
           0.18666666666666668,
           0.18666666666666668,
           0.17333333333333334,
           0.17333333333333334,
           0.16
          ],
          [
           0.26666666666666666,
           0.25333333333333335,
           0.25333333333333335,
           0.24,
           0.24,
           0.24,
           0.24,
           0.22666666666666666,
           0.22666666666666666,
           0.22666666666666666,
           0.22666666666666666,
           0.22666666666666666,
           0.22666666666666666,
           0.22666666666666666,
           0.21333333333333335,
           0.21333333333333335,
           0.21333333333333335,
           0.2,
           0.18666666666666668,
           0.17333333333333334,
           0.17333333333333334,
           0.17333333333333334,
           0.16,
           0.16,
           0.16
          ],
          [
           0.28,
           0.26666666666666666,
           0.25333333333333335,
           0.24,
           0.22666666666666666,
           0.22666666666666666,
           0.22666666666666666,
           0.21333333333333335,
           0.21333333333333335,
           0.21333333333333335,
           0.21333333333333335,
           0.2,
           0.18666666666666668,
           0.18666666666666668,
           0.18666666666666668,
           0.18666666666666668,
           0.17333333333333334,
           0.17333333333333334,
           0.17333333333333334,
           0.16,
           0.16,
           0.14666666666666667,
           0.13333333333333333,
           0.13333333333333333,
           0.13333333333333333
          ],
          [
           0.28,
           0.28,
           0.26666666666666666,
           0.26666666666666666,
           0.25333333333333335,
           0.24,
           0.24,
           0.24,
           0.22666666666666666,
           0.22666666666666666,
           0.22666666666666666,
           0.2,
           0.2,
           0.2,
           0.18666666666666668,
           0.18666666666666668,
           0.17333333333333334,
           0.17333333333333334,
           0.17333333333333334,
           0.16,
           0.16,
           0.14666666666666667,
           0.13333333333333333,
           0.13333333333333333,
           0.09333333333333334
          ],
          [
           0.30666666666666664,
           0.26666666666666666,
           0.25333333333333335,
           0.25333333333333335,
           0.24,
           0.24,
           0.24,
           0.22666666666666666,
           0.21333333333333335,
           0.21333333333333335,
           0.21333333333333335,
           0.21333333333333335,
           0.21333333333333335,
           0.2,
           0.2,
           0.18666666666666668,
           0.18666666666666668,
           0.17333333333333334,
           0.17333333333333334,
           0.17333333333333334,
           0.16,
           0.16,
           0.16,
           0.16,
           0.14666666666666667
          ],
          [
           0.32,
           0.28,
           0.26666666666666666,
           0.26666666666666666,
           0.24,
           0.24,
           0.24,
           0.2,
           0.2,
           0.2,
           0.18666666666666668,
           0.18666666666666668,
           0.18666666666666668,
           0.18666666666666668,
           0.18666666666666668,
           0.18666666666666668,
           0.18666666666666668,
           0.17333333333333334,
           0.17333333333333334,
           0.16,
           0.16,
           0.16,
           0.16,
           0.14666666666666667,
           0.13333333333333333
          ],
          [
           0.29333333333333333,
           0.26666666666666666,
           0.26666666666666666,
           0.24,
           0.24,
           0.24,
           0.22666666666666666,
           0.22666666666666666,
           0.22666666666666666,
           0.22666666666666666,
           0.21333333333333335,
           0.21333333333333335,
           0.21333333333333335,
           0.2,
           0.2,
           0.2,
           0.18666666666666668,
           0.18666666666666668,
           0.18666666666666668,
           0.18666666666666668,
           0.16,
           0.16,
           0.16,
           0.12,
           0.12
          ],
          [
           0.30666666666666664,
           0.29333333333333333,
           0.28,
           0.26666666666666666,
           0.26666666666666666,
           0.25333333333333335,
           0.24,
           0.24,
           0.24,
           0.22666666666666666,
           0.22666666666666666,
           0.22666666666666666,
           0.22666666666666666,
           0.21333333333333335,
           0.21333333333333335,
           0.2,
           0.2,
           0.18666666666666668,
           0.17333333333333334,
           0.17333333333333334,
           0.16,
           0.14666666666666667,
           0.12,
           0.12,
           0.10666666666666667
          ],
          [
           0.28,
           0.26666666666666666,
           0.26666666666666666,
           0.25333333333333335,
           0.25333333333333335,
           0.24,
           0.22666666666666666,
           0.22666666666666666,
           0.22666666666666666,
           0.21333333333333335,
           0.21333333333333335,
           0.21333333333333335,
           0.21333333333333335,
           0.21333333333333335,
           0.2,
           0.2,
           0.18666666666666668,
           0.18666666666666668,
           0.18666666666666668,
           0.16,
           0.16,
           0.16,
           0.16,
           0.14666666666666667,
           0.12
          ]
         ]
        }
       ],
       "layout": {
        "coloraxis": {
         "cmid": 0,
         "colorscale": [
          [
           0,
           "rgb(103,0,31)"
          ],
          [
           0.1,
           "rgb(178,24,43)"
          ],
          [
           0.2,
           "rgb(214,96,77)"
          ],
          [
           0.3,
           "rgb(244,165,130)"
          ],
          [
           0.4,
           "rgb(253,219,199)"
          ],
          [
           0.5,
           "rgb(247,247,247)"
          ],
          [
           0.6,
           "rgb(209,229,240)"
          ],
          [
           0.7,
           "rgb(146,197,222)"
          ],
          [
           0.8,
           "rgb(67,147,195)"
          ],
          [
           0.9,
           "rgb(33,102,172)"
          ],
          [
           1,
           "rgb(5,48,97)"
          ]
         ]
        },
        "template": {
         "data": {
          "bar": [
           {
            "error_x": {
             "color": "#2a3f5f"
            },
            "error_y": {
             "color": "#2a3f5f"
            },
            "marker": {
             "line": {
              "color": "#E5ECF6",
              "width": 0.5
             },
             "pattern": {
              "fillmode": "overlay",
              "size": 10,
              "solidity": 0.2
             }
            },
            "type": "bar"
           }
          ],
          "barpolar": [
           {
            "marker": {
             "line": {
              "color": "#E5ECF6",
              "width": 0.5
             },
             "pattern": {
              "fillmode": "overlay",
              "size": 10,
              "solidity": 0.2
             }
            },
            "type": "barpolar"
           }
          ],
          "carpet": [
           {
            "aaxis": {
             "endlinecolor": "#2a3f5f",
             "gridcolor": "white",
             "linecolor": "white",
             "minorgridcolor": "white",
             "startlinecolor": "#2a3f5f"
            },
            "baxis": {
             "endlinecolor": "#2a3f5f",
             "gridcolor": "white",
             "linecolor": "white",
             "minorgridcolor": "white",
             "startlinecolor": "#2a3f5f"
            },
            "type": "carpet"
           }
          ],
          "choropleth": [
           {
            "colorbar": {
             "outlinewidth": 0,
             "ticks": ""
            },
            "type": "choropleth"
           }
          ],
          "contour": [
           {
            "colorbar": {
             "outlinewidth": 0,
             "ticks": ""
            },
            "colorscale": [
             [
              0,
              "#0d0887"
             ],
             [
              0.1111111111111111,
              "#46039f"
             ],
             [
              0.2222222222222222,
              "#7201a8"
             ],
             [
              0.3333333333333333,
              "#9c179e"
             ],
             [
              0.4444444444444444,
              "#bd3786"
             ],
             [
              0.5555555555555556,
              "#d8576b"
             ],
             [
              0.6666666666666666,
              "#ed7953"
             ],
             [
              0.7777777777777778,
              "#fb9f3a"
             ],
             [
              0.8888888888888888,
              "#fdca26"
             ],
             [
              1,
              "#f0f921"
             ]
            ],
            "type": "contour"
           }
          ],
          "contourcarpet": [
           {
            "colorbar": {
             "outlinewidth": 0,
             "ticks": ""
            },
            "type": "contourcarpet"
           }
          ],
          "heatmap": [
           {
            "colorbar": {
             "outlinewidth": 0,
             "ticks": ""
            },
            "colorscale": [
             [
              0,
              "#0d0887"
             ],
             [
              0.1111111111111111,
              "#46039f"
             ],
             [
              0.2222222222222222,
              "#7201a8"
             ],
             [
              0.3333333333333333,
              "#9c179e"
             ],
             [
              0.4444444444444444,
              "#bd3786"
             ],
             [
              0.5555555555555556,
              "#d8576b"
             ],
             [
              0.6666666666666666,
              "#ed7953"
             ],
             [
              0.7777777777777778,
              "#fb9f3a"
             ],
             [
              0.8888888888888888,
              "#fdca26"
             ],
             [
              1,
              "#f0f921"
             ]
            ],
            "type": "heatmap"
           }
          ],
          "heatmapgl": [
           {
            "colorbar": {
             "outlinewidth": 0,
             "ticks": ""
            },
            "colorscale": [
             [
              0,
              "#0d0887"
             ],
             [
              0.1111111111111111,
              "#46039f"
             ],
             [
              0.2222222222222222,
              "#7201a8"
             ],
             [
              0.3333333333333333,
              "#9c179e"
             ],
             [
              0.4444444444444444,
              "#bd3786"
             ],
             [
              0.5555555555555556,
              "#d8576b"
             ],
             [
              0.6666666666666666,
              "#ed7953"
             ],
             [
              0.7777777777777778,
              "#fb9f3a"
             ],
             [
              0.8888888888888888,
              "#fdca26"
             ],
             [
              1,
              "#f0f921"
             ]
            ],
            "type": "heatmapgl"
           }
          ],
          "histogram": [
           {
            "marker": {
             "pattern": {
              "fillmode": "overlay",
              "size": 10,
              "solidity": 0.2
             }
            },
            "type": "histogram"
           }
          ],
          "histogram2d": [
           {
            "colorbar": {
             "outlinewidth": 0,
             "ticks": ""
            },
            "colorscale": [
             [
              0,
              "#0d0887"
             ],
             [
              0.1111111111111111,
              "#46039f"
             ],
             [
              0.2222222222222222,
              "#7201a8"
             ],
             [
              0.3333333333333333,
              "#9c179e"
             ],
             [
              0.4444444444444444,
              "#bd3786"
             ],
             [
              0.5555555555555556,
              "#d8576b"
             ],
             [
              0.6666666666666666,
              "#ed7953"
             ],
             [
              0.7777777777777778,
              "#fb9f3a"
             ],
             [
              0.8888888888888888,
              "#fdca26"
             ],
             [
              1,
              "#f0f921"
             ]
            ],
            "type": "histogram2d"
           }
          ],
          "histogram2dcontour": [
           {
            "colorbar": {
             "outlinewidth": 0,
             "ticks": ""
            },
            "colorscale": [
             [
              0,
              "#0d0887"
             ],
             [
              0.1111111111111111,
              "#46039f"
             ],
             [
              0.2222222222222222,
              "#7201a8"
             ],
             [
              0.3333333333333333,
              "#9c179e"
             ],
             [
              0.4444444444444444,
              "#bd3786"
             ],
             [
              0.5555555555555556,
              "#d8576b"
             ],
             [
              0.6666666666666666,
              "#ed7953"
             ],
             [
              0.7777777777777778,
              "#fb9f3a"
             ],
             [
              0.8888888888888888,
              "#fdca26"
             ],
             [
              1,
              "#f0f921"
             ]
            ],
            "type": "histogram2dcontour"
           }
          ],
          "mesh3d": [
           {
            "colorbar": {
             "outlinewidth": 0,
             "ticks": ""
            },
            "type": "mesh3d"
           }
          ],
          "parcoords": [
           {
            "line": {
             "colorbar": {
              "outlinewidth": 0,
              "ticks": ""
             }
            },
            "type": "parcoords"
           }
          ],
          "pie": [
           {
            "automargin": true,
            "type": "pie"
           }
          ],
          "scatter": [
           {
            "fillpattern": {
             "fillmode": "overlay",
             "size": 10,
             "solidity": 0.2
            },
            "type": "scatter"
           }
          ],
          "scatter3d": [
           {
            "line": {
             "colorbar": {
              "outlinewidth": 0,
              "ticks": ""
             }
            },
            "marker": {
             "colorbar": {
              "outlinewidth": 0,
              "ticks": ""
             }
            },
            "type": "scatter3d"
           }
          ],
          "scattercarpet": [
           {
            "marker": {
             "colorbar": {
              "outlinewidth": 0,
              "ticks": ""
             }
            },
            "type": "scattercarpet"
           }
          ],
          "scattergeo": [
           {
            "marker": {
             "colorbar": {
              "outlinewidth": 0,
              "ticks": ""
             }
            },
            "type": "scattergeo"
           }
          ],
          "scattergl": [
           {
            "marker": {
             "colorbar": {
              "outlinewidth": 0,
              "ticks": ""
             }
            },
            "type": "scattergl"
           }
          ],
          "scattermapbox": [
           {
            "marker": {
             "colorbar": {
              "outlinewidth": 0,
              "ticks": ""
             }
            },
            "type": "scattermapbox"
           }
          ],
          "scatterpolar": [
           {
            "marker": {
             "colorbar": {
              "outlinewidth": 0,
              "ticks": ""
             }
            },
            "type": "scatterpolar"
           }
          ],
          "scatterpolargl": [
           {
            "marker": {
             "colorbar": {
              "outlinewidth": 0,
              "ticks": ""
             }
            },
            "type": "scatterpolargl"
           }
          ],
          "scatterternary": [
           {
            "marker": {
             "colorbar": {
              "outlinewidth": 0,
              "ticks": ""
             }
            },
            "type": "scatterternary"
           }
          ],
          "surface": [
           {
            "colorbar": {
             "outlinewidth": 0,
             "ticks": ""
            },
            "colorscale": [
             [
              0,
              "#0d0887"
             ],
             [
              0.1111111111111111,
              "#46039f"
             ],
             [
              0.2222222222222222,
              "#7201a8"
             ],
             [
              0.3333333333333333,
              "#9c179e"
             ],
             [
              0.4444444444444444,
              "#bd3786"
             ],
             [
              0.5555555555555556,
              "#d8576b"
             ],
             [
              0.6666666666666666,
              "#ed7953"
             ],
             [
              0.7777777777777778,
              "#fb9f3a"
             ],
             [
              0.8888888888888888,
              "#fdca26"
             ],
             [
              1,
              "#f0f921"
             ]
            ],
            "type": "surface"
           }
          ],
          "table": [
           {
            "cells": {
             "fill": {
              "color": "#EBF0F8"
             },
             "line": {
              "color": "white"
             }
            },
            "header": {
             "fill": {
              "color": "#C8D4E3"
             },
             "line": {
              "color": "white"
             }
            },
            "type": "table"
           }
          ]
         },
         "layout": {
          "annotationdefaults": {
           "arrowcolor": "#2a3f5f",
           "arrowhead": 0,
           "arrowwidth": 1
          },
          "autotypenumbers": "strict",
          "coloraxis": {
           "colorbar": {
            "outlinewidth": 0,
            "ticks": ""
           }
          },
          "colorscale": {
           "diverging": [
            [
             0,
             "#8e0152"
            ],
            [
             0.1,
             "#c51b7d"
            ],
            [
             0.2,
             "#de77ae"
            ],
            [
             0.3,
             "#f1b6da"
            ],
            [
             0.4,
             "#fde0ef"
            ],
            [
             0.5,
             "#f7f7f7"
            ],
            [
             0.6,
             "#e6f5d0"
            ],
            [
             0.7,
             "#b8e186"
            ],
            [
             0.8,
             "#7fbc41"
            ],
            [
             0.9,
             "#4d9221"
            ],
            [
             1,
             "#276419"
            ]
           ],
           "sequential": [
            [
             0,
             "#0d0887"
            ],
            [
             0.1111111111111111,
             "#46039f"
            ],
            [
             0.2222222222222222,
             "#7201a8"
            ],
            [
             0.3333333333333333,
             "#9c179e"
            ],
            [
             0.4444444444444444,
             "#bd3786"
            ],
            [
             0.5555555555555556,
             "#d8576b"
            ],
            [
             0.6666666666666666,
             "#ed7953"
            ],
            [
             0.7777777777777778,
             "#fb9f3a"
            ],
            [
             0.8888888888888888,
             "#fdca26"
            ],
            [
             1,
             "#f0f921"
            ]
           ],
           "sequentialminus": [
            [
             0,
             "#0d0887"
            ],
            [
             0.1111111111111111,
             "#46039f"
            ],
            [
             0.2222222222222222,
             "#7201a8"
            ],
            [
             0.3333333333333333,
             "#9c179e"
            ],
            [
             0.4444444444444444,
             "#bd3786"
            ],
            [
             0.5555555555555556,
             "#d8576b"
            ],
            [
             0.6666666666666666,
             "#ed7953"
            ],
            [
             0.7777777777777778,
             "#fb9f3a"
            ],
            [
             0.8888888888888888,
             "#fdca26"
            ],
            [
             1,
             "#f0f921"
            ]
           ]
          },
          "colorway": [
           "#636efa",
           "#EF553B",
           "#00cc96",
           "#ab63fa",
           "#FFA15A",
           "#19d3f3",
           "#FF6692",
           "#B6E880",
           "#FF97FF",
           "#FECB52"
          ],
          "font": {
           "color": "#2a3f5f"
          },
          "geo": {
           "bgcolor": "white",
           "lakecolor": "white",
           "landcolor": "#E5ECF6",
           "showlakes": true,
           "showland": true,
           "subunitcolor": "white"
          },
          "hoverlabel": {
           "align": "left"
          },
          "hovermode": "closest",
          "mapbox": {
           "style": "light"
          },
          "paper_bgcolor": "white",
          "plot_bgcolor": "#E5ECF6",
          "polar": {
           "angularaxis": {
            "gridcolor": "white",
            "linecolor": "white",
            "ticks": ""
           },
           "bgcolor": "#E5ECF6",
           "radialaxis": {
            "gridcolor": "white",
            "linecolor": "white",
            "ticks": ""
           }
          },
          "scene": {
           "xaxis": {
            "backgroundcolor": "#E5ECF6",
            "gridcolor": "white",
            "gridwidth": 2,
            "linecolor": "white",
            "showbackground": true,
            "ticks": "",
            "zerolinecolor": "white"
           },
           "yaxis": {
            "backgroundcolor": "#E5ECF6",
            "gridcolor": "white",
            "gridwidth": 2,
            "linecolor": "white",
            "showbackground": true,
            "ticks": "",
            "zerolinecolor": "white"
           },
           "zaxis": {
            "backgroundcolor": "#E5ECF6",
            "gridcolor": "white",
            "gridwidth": 2,
            "linecolor": "white",
            "showbackground": true,
            "ticks": "",
            "zerolinecolor": "white"
           }
          },
          "shapedefaults": {
           "line": {
            "color": "#2a3f5f"
           }
          },
          "ternary": {
           "aaxis": {
            "gridcolor": "white",
            "linecolor": "white",
            "ticks": ""
           },
           "baxis": {
            "gridcolor": "white",
            "linecolor": "white",
            "ticks": ""
           },
           "bgcolor": "#E5ECF6",
           "caxis": {
            "gridcolor": "white",
            "linecolor": "white",
            "ticks": ""
           }
          },
          "title": {
           "x": 0.05
          },
          "xaxis": {
           "automargin": true,
           "gridcolor": "white",
           "linecolor": "white",
           "ticks": "",
           "title": {
            "standoff": 15
           },
           "zerolinecolor": "white",
           "zerolinewidth": 2
          },
          "yaxis": {
           "automargin": true,
           "gridcolor": "white",
           "linecolor": "white",
           "ticks": "",
           "title": {
            "standoff": 15
           },
           "zerolinecolor": "white",
           "zerolinewidth": 2
          }
         }
        },
        "title": {
         "text": "Sorted Probe Accuracies on Capitals"
        },
        "xaxis": {
         "anchor": "y",
         "constrain": "domain",
         "domain": [
          0,
          1
         ],
         "scaleanchor": "y",
         "title": {
          "text": "Heads (sorted)"
         }
        },
        "yaxis": {
         "anchor": "x",
         "autorange": true,
         "constrain": "domain",
         "domain": [
          0,
          1
         ],
         "title": {
          "text": "Layers"
         }
        }
       }
      },
      "text/html": [
       "<div>                            <div id=\"7cfd2462-2ede-409e-a7fa-2909522a93d6\" class=\"plotly-graph-div\" style=\"height:525px; width:100%;\"></div>            <script type=\"text/javascript\">                require([\"plotly\"], function(Plotly) {                    window.PLOTLYENV=window.PLOTLYENV || {};                                    if (document.getElementById(\"7cfd2462-2ede-409e-a7fa-2909522a93d6\")) {                    Plotly.newPlot(                        \"7cfd2462-2ede-409e-a7fa-2909522a93d6\",                        [{\"coloraxis\":\"coloraxis\",\"name\":\"0\",\"z\":[[0.16,0.16,0.16,0.16,0.16,0.16,0.16,0.16,0.16,0.16,0.16,0.16,0.16,0.16,0.16,0.16,0.16,0.16,0.16,0.16,0.16,0.16,0.16,0.16,0.16],[0.21333333333333335,0.21333333333333335,0.2,0.18666666666666668,0.18666666666666668,0.17333333333333334,0.17333333333333334,0.17333333333333334,0.17333333333333334,0.17333333333333334,0.16,0.16,0.16,0.16,0.16,0.14666666666666667,0.14666666666666667,0.14666666666666667,0.14666666666666667,0.14666666666666667,0.14666666666666667,0.13333333333333333,0.13333333333333333,0.13333333333333333,0.10666666666666667],[0.22666666666666666,0.21333333333333335,0.2,0.2,0.18666666666666668,0.17333333333333334,0.17333333333333334,0.17333333333333334,0.17333333333333334,0.17333333333333334,0.17333333333333334,0.16,0.16,0.16,0.16,0.16,0.16,0.14666666666666667,0.14666666666666667,0.13333333333333333,0.13333333333333333,0.13333333333333333,0.12,0.12,0.10666666666666667],[0.21333333333333335,0.2,0.2,0.18666666666666668,0.17333333333333334,0.17333333333333334,0.17333333333333334,0.16,0.16,0.16,0.16,0.16,0.16,0.16,0.16,0.16,0.16,0.16,0.16,0.16,0.14666666666666667,0.14666666666666667,0.12,0.12,0.10666666666666667],[0.2,0.2,0.2,0.18666666666666668,0.18666666666666668,0.18666666666666668,0.18666666666666668,0.18666666666666668,0.17333333333333334,0.17333333333333334,0.17333333333333334,0.17333333333333334,0.16,0.16,0.16,0.16,0.16,0.16,0.16,0.14666666666666667,0.14666666666666667,0.14666666666666667,0.13333333333333333,0.13333333333333333,0.10666666666666667],[0.25333333333333335,0.2,0.17333333333333334,0.17333333333333334,0.17333333333333334,0.17333333333333334,0.17333333333333334,0.16,0.16,0.16,0.16,0.16,0.16,0.14666666666666667,0.14666666666666667,0.14666666666666667,0.14666666666666667,0.14666666666666667,0.14666666666666667,0.13333333333333333,0.13333333333333333,0.13333333333333333,0.12,0.12,0.09333333333333334],[0.21333333333333335,0.2,0.2,0.2,0.2,0.18666666666666668,0.18666666666666668,0.18666666666666668,0.18666666666666668,0.17333333333333334,0.17333333333333334,0.17333333333333334,0.16,0.16,0.16,0.16,0.16,0.16,0.16,0.14666666666666667,0.13333333333333333,0.13333333333333333,0.13333333333333333,0.12,0.10666666666666667],[0.22666666666666666,0.21333333333333335,0.2,0.2,0.18666666666666668,0.18666666666666668,0.18666666666666668,0.17333333333333334,0.17333333333333334,0.17333333333333334,0.17333333333333334,0.17333333333333334,0.17333333333333334,0.16,0.16,0.16,0.16,0.16,0.16,0.16,0.16,0.16,0.14666666666666667,0.13333333333333333,0.13333333333333333],[0.26666666666666666,0.22666666666666666,0.21333333333333335,0.2,0.2,0.2,0.18666666666666668,0.18666666666666668,0.17333333333333334,0.17333333333333334,0.17333333333333334,0.17333333333333334,0.16,0.16,0.16,0.16,0.16,0.16,0.16,0.14666666666666667,0.14666666666666667,0.14666666666666667,0.13333333333333333,0.13333333333333333,0.12],[0.29333333333333333,0.24,0.2,0.2,0.18666666666666668,0.18666666666666668,0.18666666666666668,0.18666666666666668,0.18666666666666668,0.17333333333333334,0.17333333333333334,0.16,0.16,0.16,0.16,0.16,0.16,0.16,0.14666666666666667,0.14666666666666667,0.14666666666666667,0.13333333333333333,0.13333333333333333,0.13333333333333333,0.12],[0.24,0.22666666666666666,0.21333333333333335,0.21333333333333335,0.2,0.18666666666666668,0.18666666666666668,0.18666666666666668,0.17333333333333334,0.17333333333333334,0.17333333333333334,0.17333333333333334,0.17333333333333334,0.16,0.16,0.16,0.16,0.16,0.16,0.16,0.16,0.14666666666666667,0.13333333333333333,0.13333333333333333,0.12],[0.29333333333333333,0.25333333333333335,0.24,0.22666666666666666,0.21333333333333335,0.21333333333333335,0.21333333333333335,0.21333333333333335,0.2,0.2,0.18666666666666668,0.18666666666666668,0.17333333333333334,0.17333333333333334,0.16,0.16,0.16,0.16,0.16,0.16,0.16,0.16,0.16,0.14666666666666667,0.10666666666666667],[0.24,0.22666666666666666,0.21333333333333335,0.21333333333333335,0.2,0.2,0.18666666666666668,0.18666666666666668,0.17333333333333334,0.17333333333333334,0.17333333333333334,0.17333333333333334,0.16,0.16,0.16,0.16,0.16,0.16,0.14666666666666667,0.14666666666666667,0.13333333333333333,0.13333333333333333,0.13333333333333333,0.13333333333333333,0.12],[0.29333333333333333,0.28,0.24,0.22666666666666666,0.22666666666666666,0.22666666666666666,0.21333333333333335,0.21333333333333335,0.2,0.18666666666666668,0.18666666666666668,0.18666666666666668,0.17333333333333334,0.17333333333333334,0.17333333333333334,0.16,0.16,0.16,0.14666666666666667,0.14666666666666667,0.13333333333333333,0.13333333333333333,0.13333333333333333,0.13333333333333333,0.13333333333333333],[0.30666666666666664,0.26666666666666666,0.25333333333333335,0.24,0.24,0.22666666666666666,0.22666666666666666,0.22666666666666666,0.22666666666666666,0.22666666666666666,0.2,0.2,0.2,0.2,0.2,0.2,0.2,0.18666666666666668,0.17333333333333334,0.16,0.16,0.14666666666666667,0.14666666666666667,0.13333333333333333,0.12],[0.25333333333333335,0.22666666666666666,0.22666666666666666,0.22666666666666666,0.21333333333333335,0.21333333333333335,0.21333333333333335,0.18666666666666668,0.18666666666666668,0.18666666666666668,0.17333333333333334,0.17333333333333334,0.17333333333333334,0.17333333333333334,0.16,0.16,0.16,0.14666666666666667,0.14666666666666667,0.13333333333333333,0.13333333333333333,0.13333333333333333,0.12,0.12,0.09333333333333334],[0.3333333333333333,0.29333333333333333,0.29333333333333333,0.28,0.28,0.24,0.24,0.22666666666666666,0.22666666666666666,0.22666666666666666,0.22666666666666666,0.22666666666666666,0.22666666666666666,0.21333333333333335,0.2,0.2,0.18666666666666668,0.18666666666666668,0.18666666666666668,0.18666666666666668,0.17333333333333334,0.16,0.14666666666666667,0.14666666666666667,0.12],[0.30666666666666664,0.28,0.28,0.26666666666666666,0.26666666666666666,0.25333333333333335,0.25333333333333335,0.25333333333333335,0.24,0.22666666666666666,0.21333333333333335,0.21333333333333335,0.2,0.2,0.2,0.18666666666666668,0.18666666666666668,0.17333333333333334,0.17333333333333334,0.16,0.16,0.16,0.14666666666666667,0.14666666666666667,0.06666666666666667],[0.3333333333333333,0.26666666666666666,0.24,0.22666666666666666,0.22666666666666666,0.22666666666666666,0.22666666666666666,0.21333333333333335,0.2,0.2,0.2,0.18666666666666668,0.18666666666666668,0.18666666666666668,0.18666666666666668,0.18666666666666668,0.18666666666666668,0.17333333333333334,0.16,0.16,0.14666666666666667,0.14666666666666667,0.13333333333333333,0.10666666666666667,0.09333333333333334],[0.3466666666666667,0.32,0.28,0.26666666666666666,0.25333333333333335,0.24,0.24,0.22666666666666666,0.22666666666666666,0.22666666666666666,0.22666666666666666,0.22666666666666666,0.21333333333333335,0.21333333333333335,0.21333333333333335,0.2,0.17333333333333334,0.17333333333333334,0.16,0.16,0.16,0.14666666666666667,0.13333333333333333,0.13333333333333333,0.12],[0.41333333333333333,0.37333333333333335,0.37333333333333335,0.30666666666666664,0.30666666666666664,0.30666666666666664,0.29333333333333333,0.28,0.28,0.28,0.28,0.24,0.22666666666666666,0.22666666666666666,0.22666666666666666,0.21333333333333335,0.21333333333333335,0.21333333333333335,0.21333333333333335,0.2,0.2,0.18666666666666668,0.18666666666666668,0.17333333333333334,0.13333333333333333],[0.37333333333333335,0.3466666666666667,0.30666666666666664,0.30666666666666664,0.29333333333333333,0.28,0.28,0.28,0.26666666666666666,0.26666666666666666,0.26666666666666666,0.26666666666666666,0.26666666666666666,0.25333333333333335,0.25333333333333335,0.25333333333333335,0.24,0.22666666666666666,0.21333333333333335,0.21333333333333335,0.2,0.18666666666666668,0.17333333333333334,0.16,0.16],[0.38666666666666666,0.3333333333333333,0.32,0.30666666666666664,0.29333333333333333,0.26666666666666666,0.26666666666666666,0.26666666666666666,0.25333333333333335,0.25333333333333335,0.24,0.24,0.22666666666666666,0.22666666666666666,0.22666666666666666,0.21333333333333335,0.21333333333333335,0.2,0.2,0.2,0.18666666666666668,0.18666666666666668,0.17333333333333334,0.17333333333333334,0.17333333333333334],[0.37333333333333335,0.3466666666666667,0.3333333333333333,0.30666666666666664,0.30666666666666664,0.29333333333333333,0.29333333333333333,0.29333333333333333,0.28,0.26666666666666666,0.25333333333333335,0.25333333333333335,0.25333333333333335,0.25333333333333335,0.25333333333333335,0.24,0.24,0.22666666666666666,0.21333333333333335,0.2,0.18666666666666668,0.17333333333333334,0.16,0.16,0.16],[0.36,0.3333333333333333,0.3333333333333333,0.32,0.29333333333333333,0.29333333333333333,0.29333333333333333,0.28,0.28,0.28,0.26666666666666666,0.26666666666666666,0.26666666666666666,0.25333333333333335,0.25333333333333335,0.25333333333333335,0.25333333333333335,0.25333333333333335,0.25333333333333335,0.24,0.24,0.24,0.21333333333333335,0.18666666666666668,0.14666666666666667],[0.38666666666666666,0.37333333333333335,0.3466666666666667,0.3466666666666667,0.3333333333333333,0.32,0.32,0.30666666666666664,0.30666666666666664,0.30666666666666664,0.29333333333333333,0.29333333333333333,0.28,0.28,0.28,0.26666666666666666,0.24,0.24,0.24,0.24,0.22666666666666666,0.21333333333333335,0.2,0.17333333333333334,0.16],[0.3466666666666667,0.3333333333333333,0.29333333333333333,0.28,0.28,0.26666666666666666,0.26666666666666666,0.25333333333333335,0.25333333333333335,0.25333333333333335,0.25333333333333335,0.25333333333333335,0.24,0.24,0.22666666666666666,0.2,0.2,0.2,0.18666666666666668,0.18666666666666668,0.18666666666666668,0.18666666666666668,0.18666666666666668,0.17333333333333334,0.13333333333333333],[0.36,0.36,0.3333333333333333,0.30666666666666664,0.29333333333333333,0.29333333333333333,0.28,0.28,0.28,0.28,0.28,0.28,0.26666666666666666,0.26666666666666666,0.25333333333333335,0.25333333333333335,0.24,0.24,0.24,0.24,0.21333333333333335,0.16,0.16,0.14666666666666667,0.12],[0.29333333333333333,0.28,0.28,0.28,0.26666666666666666,0.25333333333333335,0.25333333333333335,0.25333333333333335,0.25333333333333335,0.25333333333333335,0.25333333333333335,0.24,0.22666666666666666,0.22666666666666666,0.21333333333333335,0.21333333333333335,0.21333333333333335,0.21333333333333335,0.18666666666666668,0.17333333333333334,0.17333333333333334,0.17333333333333334,0.16,0.16,0.13333333333333333],[0.3466666666666667,0.3333333333333333,0.30666666666666664,0.30666666666666664,0.29333333333333333,0.28,0.28,0.26666666666666666,0.26666666666666666,0.26666666666666666,0.25333333333333335,0.25333333333333335,0.24,0.24,0.24,0.24,0.22666666666666666,0.22666666666666666,0.22666666666666666,0.22666666666666666,0.21333333333333335,0.21333333333333335,0.21333333333333335,0.2,0.17333333333333334],[0.30666666666666664,0.30666666666666664,0.29333333333333333,0.28,0.28,0.28,0.26666666666666666,0.26666666666666666,0.25333333333333335,0.25333333333333335,0.24,0.24,0.22666666666666666,0.22666666666666666,0.22666666666666666,0.21333333333333335,0.21333333333333335,0.18666666666666668,0.18666666666666668,0.18666666666666668,0.18666666666666668,0.18666666666666668,0.18666666666666668,0.16,0.13333333333333333],[0.30666666666666664,0.30666666666666664,0.28,0.28,0.28,0.28,0.26666666666666666,0.26666666666666666,0.25333333333333335,0.25333333333333335,0.25333333333333335,0.25333333333333335,0.25333333333333335,0.22666666666666666,0.22666666666666666,0.21333333333333335,0.21333333333333335,0.21333333333333335,0.21333333333333335,0.2,0.18666666666666668,0.18666666666666668,0.18666666666666668,0.17333333333333334,0.16],[0.3333333333333333,0.3333333333333333,0.28,0.28,0.28,0.26666666666666666,0.26666666666666666,0.26666666666666666,0.26666666666666666,0.26666666666666666,0.25333333333333335,0.25333333333333335,0.24,0.24,0.2,0.2,0.18666666666666668,0.17333333333333334,0.17333333333333334,0.17333333333333334,0.17333333333333334,0.16,0.16,0.14666666666666667,0.13333333333333333],[0.29333333333333333,0.29333333333333333,0.26666666666666666,0.26666666666666666,0.25333333333333335,0.24,0.24,0.24,0.22666666666666666,0.22666666666666666,0.22666666666666666,0.22666666666666666,0.21333333333333335,0.21333333333333335,0.21333333333333335,0.2,0.2,0.18666666666666668,0.18666666666666668,0.17333333333333334,0.17333333333333334,0.17333333333333334,0.16,0.16,0.14666666666666667],[0.32,0.32,0.29333333333333333,0.29333333333333333,0.29333333333333333,0.26666666666666666,0.26666666666666666,0.25333333333333335,0.24,0.24,0.24,0.22666666666666666,0.22666666666666666,0.21333333333333335,0.21333333333333335,0.2,0.2,0.2,0.2,0.2,0.18666666666666668,0.17333333333333334,0.16,0.16,0.16],[0.29333333333333333,0.28,0.26666666666666666,0.26666666666666666,0.25333333333333335,0.25333333333333335,0.25333333333333335,0.22666666666666666,0.22666666666666666,0.22666666666666666,0.21333333333333335,0.21333333333333335,0.21333333333333335,0.2,0.2,0.18666666666666668,0.18666666666666668,0.18666666666666668,0.18666666666666668,0.17333333333333334,0.16,0.16,0.14666666666666667,0.13333333333333333,0.12],[0.32,0.28,0.28,0.28,0.28,0.26666666666666666,0.26666666666666666,0.26666666666666666,0.21333333333333335,0.21333333333333335,0.21333333333333335,0.2,0.2,0.2,0.18666666666666668,0.18666666666666668,0.17333333333333334,0.17333333333333334,0.17333333333333334,0.16,0.16,0.14666666666666667,0.13333333333333333,0.13333333333333333,0.13333333333333333],[0.30666666666666664,0.28,0.26666666666666666,0.25333333333333335,0.25333333333333335,0.25333333333333335,0.24,0.24,0.22666666666666666,0.22666666666666666,0.21333333333333335,0.21333333333333335,0.2,0.2,0.2,0.2,0.18666666666666668,0.18666666666666668,0.18666666666666668,0.18666666666666668,0.17333333333333334,0.17333333333333334,0.17333333333333334,0.13333333333333333,0.13333333333333333],[0.32,0.26666666666666666,0.26666666666666666,0.25333333333333335,0.24,0.24,0.24,0.22666666666666666,0.22666666666666666,0.22666666666666666,0.22666666666666666,0.22666666666666666,0.21333333333333335,0.21333333333333335,0.2,0.2,0.2,0.2,0.2,0.18666666666666668,0.18666666666666668,0.17333333333333334,0.16,0.16,0.14666666666666667],[0.28,0.26666666666666666,0.25333333333333335,0.25333333333333335,0.25333333333333335,0.24,0.24,0.24,0.22666666666666666,0.22666666666666666,0.22666666666666666,0.22666666666666666,0.22666666666666666,0.22666666666666666,0.22666666666666666,0.22666666666666666,0.21333333333333335,0.21333333333333335,0.2,0.2,0.18666666666666668,0.18666666666666668,0.17333333333333334,0.17333333333333334,0.16],[0.26666666666666666,0.25333333333333335,0.25333333333333335,0.24,0.24,0.24,0.24,0.22666666666666666,0.22666666666666666,0.22666666666666666,0.22666666666666666,0.22666666666666666,0.22666666666666666,0.22666666666666666,0.21333333333333335,0.21333333333333335,0.21333333333333335,0.2,0.18666666666666668,0.17333333333333334,0.17333333333333334,0.17333333333333334,0.16,0.16,0.16],[0.28,0.26666666666666666,0.25333333333333335,0.24,0.22666666666666666,0.22666666666666666,0.22666666666666666,0.21333333333333335,0.21333333333333335,0.21333333333333335,0.21333333333333335,0.2,0.18666666666666668,0.18666666666666668,0.18666666666666668,0.18666666666666668,0.17333333333333334,0.17333333333333334,0.17333333333333334,0.16,0.16,0.14666666666666667,0.13333333333333333,0.13333333333333333,0.13333333333333333],[0.28,0.28,0.26666666666666666,0.26666666666666666,0.25333333333333335,0.24,0.24,0.24,0.22666666666666666,0.22666666666666666,0.22666666666666666,0.2,0.2,0.2,0.18666666666666668,0.18666666666666668,0.17333333333333334,0.17333333333333334,0.17333333333333334,0.16,0.16,0.14666666666666667,0.13333333333333333,0.13333333333333333,0.09333333333333334],[0.30666666666666664,0.26666666666666666,0.25333333333333335,0.25333333333333335,0.24,0.24,0.24,0.22666666666666666,0.21333333333333335,0.21333333333333335,0.21333333333333335,0.21333333333333335,0.21333333333333335,0.2,0.2,0.18666666666666668,0.18666666666666668,0.17333333333333334,0.17333333333333334,0.17333333333333334,0.16,0.16,0.16,0.16,0.14666666666666667],[0.32,0.28,0.26666666666666666,0.26666666666666666,0.24,0.24,0.24,0.2,0.2,0.2,0.18666666666666668,0.18666666666666668,0.18666666666666668,0.18666666666666668,0.18666666666666668,0.18666666666666668,0.18666666666666668,0.17333333333333334,0.17333333333333334,0.16,0.16,0.16,0.16,0.14666666666666667,0.13333333333333333],[0.29333333333333333,0.26666666666666666,0.26666666666666666,0.24,0.24,0.24,0.22666666666666666,0.22666666666666666,0.22666666666666666,0.22666666666666666,0.21333333333333335,0.21333333333333335,0.21333333333333335,0.2,0.2,0.2,0.18666666666666668,0.18666666666666668,0.18666666666666668,0.18666666666666668,0.16,0.16,0.16,0.12,0.12],[0.30666666666666664,0.29333333333333333,0.28,0.26666666666666666,0.26666666666666666,0.25333333333333335,0.24,0.24,0.24,0.22666666666666666,0.22666666666666666,0.22666666666666666,0.22666666666666666,0.21333333333333335,0.21333333333333335,0.2,0.2,0.18666666666666668,0.17333333333333334,0.17333333333333334,0.16,0.14666666666666667,0.12,0.12,0.10666666666666667],[0.28,0.26666666666666666,0.26666666666666666,0.25333333333333335,0.25333333333333335,0.24,0.22666666666666666,0.22666666666666666,0.22666666666666666,0.21333333333333335,0.21333333333333335,0.21333333333333335,0.21333333333333335,0.21333333333333335,0.2,0.2,0.18666666666666668,0.18666666666666668,0.18666666666666668,0.16,0.16,0.16,0.16,0.14666666666666667,0.12]],\"type\":\"heatmap\",\"xaxis\":\"x\",\"yaxis\":\"y\",\"hovertemplate\":\"Heads (sorted): %{x}<br>Layers: %{y}<br>color: %{z}<extra></extra>\"}],                        {\"template\":{\"data\":{\"histogram2dcontour\":[{\"type\":\"histogram2dcontour\",\"colorbar\":{\"outlinewidth\":0,\"ticks\":\"\"},\"colorscale\":[[0.0,\"#0d0887\"],[0.1111111111111111,\"#46039f\"],[0.2222222222222222,\"#7201a8\"],[0.3333333333333333,\"#9c179e\"],[0.4444444444444444,\"#bd3786\"],[0.5555555555555556,\"#d8576b\"],[0.6666666666666666,\"#ed7953\"],[0.7777777777777778,\"#fb9f3a\"],[0.8888888888888888,\"#fdca26\"],[1.0,\"#f0f921\"]]}],\"choropleth\":[{\"type\":\"choropleth\",\"colorbar\":{\"outlinewidth\":0,\"ticks\":\"\"}}],\"histogram2d\":[{\"type\":\"histogram2d\",\"colorbar\":{\"outlinewidth\":0,\"ticks\":\"\"},\"colorscale\":[[0.0,\"#0d0887\"],[0.1111111111111111,\"#46039f\"],[0.2222222222222222,\"#7201a8\"],[0.3333333333333333,\"#9c179e\"],[0.4444444444444444,\"#bd3786\"],[0.5555555555555556,\"#d8576b\"],[0.6666666666666666,\"#ed7953\"],[0.7777777777777778,\"#fb9f3a\"],[0.8888888888888888,\"#fdca26\"],[1.0,\"#f0f921\"]]}],\"heatmap\":[{\"type\":\"heatmap\",\"colorbar\":{\"outlinewidth\":0,\"ticks\":\"\"},\"colorscale\":[[0.0,\"#0d0887\"],[0.1111111111111111,\"#46039f\"],[0.2222222222222222,\"#7201a8\"],[0.3333333333333333,\"#9c179e\"],[0.4444444444444444,\"#bd3786\"],[0.5555555555555556,\"#d8576b\"],[0.6666666666666666,\"#ed7953\"],[0.7777777777777778,\"#fb9f3a\"],[0.8888888888888888,\"#fdca26\"],[1.0,\"#f0f921\"]]}],\"heatmapgl\":[{\"type\":\"heatmapgl\",\"colorbar\":{\"outlinewidth\":0,\"ticks\":\"\"},\"colorscale\":[[0.0,\"#0d0887\"],[0.1111111111111111,\"#46039f\"],[0.2222222222222222,\"#7201a8\"],[0.3333333333333333,\"#9c179e\"],[0.4444444444444444,\"#bd3786\"],[0.5555555555555556,\"#d8576b\"],[0.6666666666666666,\"#ed7953\"],[0.7777777777777778,\"#fb9f3a\"],[0.8888888888888888,\"#fdca26\"],[1.0,\"#f0f921\"]]}],\"contourcarpet\":[{\"type\":\"contourcarpet\",\"colorbar\":{\"outlinewidth\":0,\"ticks\":\"\"}}],\"contour\":[{\"type\":\"contour\",\"colorbar\":{\"outlinewidth\":0,\"ticks\":\"\"},\"colorscale\":[[0.0,\"#0d0887\"],[0.1111111111111111,\"#46039f\"],[0.2222222222222222,\"#7201a8\"],[0.3333333333333333,\"#9c179e\"],[0.4444444444444444,\"#bd3786\"],[0.5555555555555556,\"#d8576b\"],[0.6666666666666666,\"#ed7953\"],[0.7777777777777778,\"#fb9f3a\"],[0.8888888888888888,\"#fdca26\"],[1.0,\"#f0f921\"]]}],\"surface\":[{\"type\":\"surface\",\"colorbar\":{\"outlinewidth\":0,\"ticks\":\"\"},\"colorscale\":[[0.0,\"#0d0887\"],[0.1111111111111111,\"#46039f\"],[0.2222222222222222,\"#7201a8\"],[0.3333333333333333,\"#9c179e\"],[0.4444444444444444,\"#bd3786\"],[0.5555555555555556,\"#d8576b\"],[0.6666666666666666,\"#ed7953\"],[0.7777777777777778,\"#fb9f3a\"],[0.8888888888888888,\"#fdca26\"],[1.0,\"#f0f921\"]]}],\"mesh3d\":[{\"type\":\"mesh3d\",\"colorbar\":{\"outlinewidth\":0,\"ticks\":\"\"}}],\"scatter\":[{\"fillpattern\":{\"fillmode\":\"overlay\",\"size\":10,\"solidity\":0.2},\"type\":\"scatter\"}],\"parcoords\":[{\"type\":\"parcoords\",\"line\":{\"colorbar\":{\"outlinewidth\":0,\"ticks\":\"\"}}}],\"scatterpolargl\":[{\"type\":\"scatterpolargl\",\"marker\":{\"colorbar\":{\"outlinewidth\":0,\"ticks\":\"\"}}}],\"bar\":[{\"error_x\":{\"color\":\"#2a3f5f\"},\"error_y\":{\"color\":\"#2a3f5f\"},\"marker\":{\"line\":{\"color\":\"#E5ECF6\",\"width\":0.5},\"pattern\":{\"fillmode\":\"overlay\",\"size\":10,\"solidity\":0.2}},\"type\":\"bar\"}],\"scattergeo\":[{\"type\":\"scattergeo\",\"marker\":{\"colorbar\":{\"outlinewidth\":0,\"ticks\":\"\"}}}],\"scatterpolar\":[{\"type\":\"scatterpolar\",\"marker\":{\"colorbar\":{\"outlinewidth\":0,\"ticks\":\"\"}}}],\"histogram\":[{\"marker\":{\"pattern\":{\"fillmode\":\"overlay\",\"size\":10,\"solidity\":0.2}},\"type\":\"histogram\"}],\"scattergl\":[{\"type\":\"scattergl\",\"marker\":{\"colorbar\":{\"outlinewidth\":0,\"ticks\":\"\"}}}],\"scatter3d\":[{\"type\":\"scatter3d\",\"line\":{\"colorbar\":{\"outlinewidth\":0,\"ticks\":\"\"}},\"marker\":{\"colorbar\":{\"outlinewidth\":0,\"ticks\":\"\"}}}],\"scattermapbox\":[{\"type\":\"scattermapbox\",\"marker\":{\"colorbar\":{\"outlinewidth\":0,\"ticks\":\"\"}}}],\"scatterternary\":[{\"type\":\"scatterternary\",\"marker\":{\"colorbar\":{\"outlinewidth\":0,\"ticks\":\"\"}}}],\"scattercarpet\":[{\"type\":\"scattercarpet\",\"marker\":{\"colorbar\":{\"outlinewidth\":0,\"ticks\":\"\"}}}],\"carpet\":[{\"aaxis\":{\"endlinecolor\":\"#2a3f5f\",\"gridcolor\":\"white\",\"linecolor\":\"white\",\"minorgridcolor\":\"white\",\"startlinecolor\":\"#2a3f5f\"},\"baxis\":{\"endlinecolor\":\"#2a3f5f\",\"gridcolor\":\"white\",\"linecolor\":\"white\",\"minorgridcolor\":\"white\",\"startlinecolor\":\"#2a3f5f\"},\"type\":\"carpet\"}],\"table\":[{\"cells\":{\"fill\":{\"color\":\"#EBF0F8\"},\"line\":{\"color\":\"white\"}},\"header\":{\"fill\":{\"color\":\"#C8D4E3\"},\"line\":{\"color\":\"white\"}},\"type\":\"table\"}],\"barpolar\":[{\"marker\":{\"line\":{\"color\":\"#E5ECF6\",\"width\":0.5},\"pattern\":{\"fillmode\":\"overlay\",\"size\":10,\"solidity\":0.2}},\"type\":\"barpolar\"}],\"pie\":[{\"automargin\":true,\"type\":\"pie\"}]},\"layout\":{\"autotypenumbers\":\"strict\",\"colorway\":[\"#636efa\",\"#EF553B\",\"#00cc96\",\"#ab63fa\",\"#FFA15A\",\"#19d3f3\",\"#FF6692\",\"#B6E880\",\"#FF97FF\",\"#FECB52\"],\"font\":{\"color\":\"#2a3f5f\"},\"hovermode\":\"closest\",\"hoverlabel\":{\"align\":\"left\"},\"paper_bgcolor\":\"white\",\"plot_bgcolor\":\"#E5ECF6\",\"polar\":{\"bgcolor\":\"#E5ECF6\",\"angularaxis\":{\"gridcolor\":\"white\",\"linecolor\":\"white\",\"ticks\":\"\"},\"radialaxis\":{\"gridcolor\":\"white\",\"linecolor\":\"white\",\"ticks\":\"\"}},\"ternary\":{\"bgcolor\":\"#E5ECF6\",\"aaxis\":{\"gridcolor\":\"white\",\"linecolor\":\"white\",\"ticks\":\"\"},\"baxis\":{\"gridcolor\":\"white\",\"linecolor\":\"white\",\"ticks\":\"\"},\"caxis\":{\"gridcolor\":\"white\",\"linecolor\":\"white\",\"ticks\":\"\"}},\"coloraxis\":{\"colorbar\":{\"outlinewidth\":0,\"ticks\":\"\"}},\"colorscale\":{\"sequential\":[[0.0,\"#0d0887\"],[0.1111111111111111,\"#46039f\"],[0.2222222222222222,\"#7201a8\"],[0.3333333333333333,\"#9c179e\"],[0.4444444444444444,\"#bd3786\"],[0.5555555555555556,\"#d8576b\"],[0.6666666666666666,\"#ed7953\"],[0.7777777777777778,\"#fb9f3a\"],[0.8888888888888888,\"#fdca26\"],[1.0,\"#f0f921\"]],\"sequentialminus\":[[0.0,\"#0d0887\"],[0.1111111111111111,\"#46039f\"],[0.2222222222222222,\"#7201a8\"],[0.3333333333333333,\"#9c179e\"],[0.4444444444444444,\"#bd3786\"],[0.5555555555555556,\"#d8576b\"],[0.6666666666666666,\"#ed7953\"],[0.7777777777777778,\"#fb9f3a\"],[0.8888888888888888,\"#fdca26\"],[1.0,\"#f0f921\"]],\"diverging\":[[0,\"#8e0152\"],[0.1,\"#c51b7d\"],[0.2,\"#de77ae\"],[0.3,\"#f1b6da\"],[0.4,\"#fde0ef\"],[0.5,\"#f7f7f7\"],[0.6,\"#e6f5d0\"],[0.7,\"#b8e186\"],[0.8,\"#7fbc41\"],[0.9,\"#4d9221\"],[1,\"#276419\"]]},\"xaxis\":{\"gridcolor\":\"white\",\"linecolor\":\"white\",\"ticks\":\"\",\"title\":{\"standoff\":15},\"zerolinecolor\":\"white\",\"automargin\":true,\"zerolinewidth\":2},\"yaxis\":{\"gridcolor\":\"white\",\"linecolor\":\"white\",\"ticks\":\"\",\"title\":{\"standoff\":15},\"zerolinecolor\":\"white\",\"automargin\":true,\"zerolinewidth\":2},\"scene\":{\"xaxis\":{\"backgroundcolor\":\"#E5ECF6\",\"gridcolor\":\"white\",\"linecolor\":\"white\",\"showbackground\":true,\"ticks\":\"\",\"zerolinecolor\":\"white\",\"gridwidth\":2},\"yaxis\":{\"backgroundcolor\":\"#E5ECF6\",\"gridcolor\":\"white\",\"linecolor\":\"white\",\"showbackground\":true,\"ticks\":\"\",\"zerolinecolor\":\"white\",\"gridwidth\":2},\"zaxis\":{\"backgroundcolor\":\"#E5ECF6\",\"gridcolor\":\"white\",\"linecolor\":\"white\",\"showbackground\":true,\"ticks\":\"\",\"zerolinecolor\":\"white\",\"gridwidth\":2}},\"shapedefaults\":{\"line\":{\"color\":\"#2a3f5f\"}},\"annotationdefaults\":{\"arrowcolor\":\"#2a3f5f\",\"arrowhead\":0,\"arrowwidth\":1},\"geo\":{\"bgcolor\":\"white\",\"landcolor\":\"#E5ECF6\",\"subunitcolor\":\"white\",\"showland\":true,\"showlakes\":true,\"lakecolor\":\"white\"},\"title\":{\"x\":0.05},\"mapbox\":{\"style\":\"light\"}}},\"xaxis\":{\"anchor\":\"y\",\"domain\":[0.0,1.0],\"scaleanchor\":\"y\",\"constrain\":\"domain\",\"title\":{\"text\":\"Heads (sorted)\"}},\"yaxis\":{\"anchor\":\"x\",\"domain\":[0.0,1.0],\"autorange\":true,\"constrain\":\"domain\",\"title\":{\"text\":\"Layers\"}},\"coloraxis\":{\"colorscale\":[[0.0,\"rgb(103,0,31)\"],[0.1,\"rgb(178,24,43)\"],[0.2,\"rgb(214,96,77)\"],[0.3,\"rgb(244,165,130)\"],[0.4,\"rgb(253,219,199)\"],[0.5,\"rgb(247,247,247)\"],[0.6,\"rgb(209,229,240)\"],[0.7,\"rgb(146,197,222)\"],[0.8,\"rgb(67,147,195)\"],[0.9,\"rgb(33,102,172)\"],[1.0,\"rgb(5,48,97)\"]],\"cmid\":0},\"title\":{\"text\":\"Sorted Probe Accuracies on Capitals\"}},                        {\"responsive\": true}                    ).then(function(){\n",
       "                            \n",
       "var gd = document.getElementById('7cfd2462-2ede-409e-a7fa-2909522a93d6');\n",
       "var x = new MutationObserver(function (mutations, observer) {{\n",
       "        var display = window.getComputedStyle(gd).display;\n",
       "        if (!display || display === 'none') {{\n",
       "            console.log([gd, 'removed!']);\n",
       "            Plotly.purge(gd);\n",
       "            observer.disconnect();\n",
       "        }}\n",
       "}});\n",
       "\n",
       "// Listen for the removal of the full notebook cells\n",
       "var notebookContainer = gd.closest('#notebook-container');\n",
       "if (notebookContainer) {{\n",
       "    x.observe(notebookContainer, {childList: true});\n",
       "}}\n",
       "\n",
       "// Listen for the clearing of the current output cell\n",
       "var outputEl = gd.closest('.output');\n",
       "if (outputEl) {{\n",
       "    x.observe(outputEl, {childList: true});\n",
       "}}\n",
       "\n",
       "                        })                };                });            </script>        </div>"
      ]
     },
     "metadata": {},
     "output_type": "display_data"
    }
   ],
   "source": [
    "a = -np.sort(-all_head_accs_np.reshape(nin_d.model.cfg.n_layers, nin_d.model.cfg.n_heads), axis = 1)\n",
    "px.imshow(a, labels = {\"x\" : \"Heads (sorted)\", \"y\": \"Layers\"},title = \"Sorted Probe Accuracies on Capitals\", color_continuous_midpoint = 0, color_continuous_scale=\"RdBu\", origin = \"lower\")"
   ]
  },
  {
   "cell_type": "code",
   "execution_count": 39,
   "metadata": {},
   "outputs": [
    {
     "name": "stderr",
     "output_type": "stream",
     "text": [
      "1200it [00:01, 1009.58it/s]\n"
     ]
    }
   ],
   "source": [
    "labels = [sample[\"n_correct\"] for sample in nin_d.dataset]\n",
    "total_accs = []\n",
    "y_preds = []\n",
    "nin_d.attn_head_acts = torch.stack(nin_d.attn_head_acts).numpy()\n",
    "for i, clf in tqdm(enumerate(nin_d.probes)):\n",
    "    # print(torch.stack(nin_d.attn_head_acts)[:, i].shape)\n",
    "    y_pred = clf.predict(nin_d.attn_head_acts[:, i])\n",
    "    y_preds.append(y_pred)\n",
    "    total_accs.append(accuracy_score(labels, y_pred))\n",
    "    \n"
   ]
  },
  {
   "cell_type": "code",
   "execution_count": 28,
   "metadata": {},
   "outputs": [
    {
     "data": {
      "image/png": "[encoded data removed]",
      "text/plain": [
       "<Figure size 640x480 with 1 Axes>"
      ]
     },
     "metadata": {},
     "output_type": "display_data"
    }
   ],
   "source": [
    "import numpy as np\n",
    "import matplotlib.pyplot as plt\n",
    "\n",
    "def histogram(arr, title):\n",
    "\n",
    "    mean_tqa = np.mean(arr)\n",
    "    std_tqa = np.std(arr)\n",
    "\n",
    "    # Plot histogram\n",
    "    plt.hist(arr, bins=10, edgecolor='black')\n",
    "\n",
    "    # Add vertical lines for mean and standard deviation\n",
    "    plt.axvline(mean_tqa, color='r', linestyle='dashed', linewidth=1, label=f'Mean: {mean_tqa:.2f}')\n",
    "    plt.axvline(mean_tqa - std_tqa, color='b', linestyle='dotted', linewidth=1, label=f'STD: {std_tqa:.2f}')\n",
    "    plt.axvline(mean_tqa + std_tqa, color='b', linestyle='dotted', linewidth=1)\n",
    "\n",
    "    # Set title and labels\n",
    "    plt.title(title)\n",
    "    plt.xlabel('Accuracy')\n",
    "    plt.ylabel('Frequency')\n",
    "\n",
    "    # Add a legend\n",
    "    plt.legend()\n",
    "\n",
    "    # Show plot\n",
    "    plt.show()\n",
    "\n",
    "histogram(all_head_accs_np, title = \"distribution of incontext probe accs\")"
   ]
  },
  {
   "cell_type": "code",
   "execution_count": 45,
   "metadata": {},
   "outputs": [
    {
     "data": {
      "application/vnd.plotly.v1+json": {
       "config": {
        "plotlyServerURL": "https://plot.ly"
       },
       "data": [
        {
         "coloraxis": "coloraxis",
         "hovertemplate": "Heads (sorted): %{x}<br>Layers: %{y}<br>color: %{z}<extra></extra>",
         "name": "0",
         "type": "heatmap",
         "xaxis": "x",
         "yaxis": "y",
         "z": [
          [
           0.1935483870967742,
           0.1935483870967742,
           0.1935483870967742,
           0.1935483870967742,
           0.1935483870967742,
           0.1935483870967742,
           0.1935483870967742,
           0.1935483870967742,
           0.20967741935483872,
           0.1935483870967742,
           0.1935483870967742,
           0.1935483870967742,
           0.1935483870967742,
           0.1935483870967742,
           0.1935483870967742,
           0.1935483870967742,
           0.1935483870967742,
           0.1935483870967742,
           0.1935483870967742,
           0.1935483870967742,
           0.1935483870967742,
           0.1935483870967742,
           0.2056451612903226,
           0.1935483870967742,
           0.1935483870967742
          ],
          [
           0.29838709677419356,
           0.25806451612903225,
           0.23387096774193547,
           0.23790322580645162,
           0.2782258064516129,
           0.24596774193548387,
           0.22580645161290322,
           0.375,
           0.2782258064516129,
           0.32661290322580644,
           0.3588709677419355,
           0.2903225806451613,
           0.23387096774193547,
           0.2782258064516129,
           0.22983870967741934,
           0.3024193548387097,
           0.25806451612903225,
           0.2701612903225806,
           0.25,
           0.1975806451612903,
           0.2620967741935484,
           0.22580645161290322,
           0.2661290322580645,
           0.23790322580645162,
           0.2862903225806452
          ],
          [
           0.1774193548387097,
           0.23790322580645162,
           0.2782258064516129,
           0.22580645161290322,
           0.3024193548387097,
           0.2701612903225806,
           0.33064516129032256,
           0.22580645161290322,
           0.25806451612903225,
           0.24596774193548387,
           0.2782258064516129,
           0.2782258064516129,
           0.4032258064516129,
           0.20161290322580644,
           0.2217741935483871,
           0.22580645161290322,
           0.2661290322580645,
           0.24596774193548387,
           0.25,
           0.25806451612903225,
           0.29435483870967744,
           0.2056451612903226,
           0.2862903225806452,
           0.25806451612903225,
           0.27419354838709675
          ],
          [
           0.31048387096774194,
           0.2903225806451613,
           0.21774193548387097,
           0.23790322580645162,
           0.3024193548387097,
           0.32661290322580644,
           0.23387096774193547,
           0.2661290322580645,
           0.3346774193548387,
           0.2540322580645161,
           0.24596774193548387,
           0.25,
           0.2782258064516129,
           0.22580645161290322,
           0.2217741935483871,
           0.3064516129032258,
           0.22580645161290322,
           0.21370967741935484,
           0.2540322580645161,
           0.25806451612903225,
           0.28225806451612906,
           0.2540322580645161,
           0.20967741935483872,
           0.2903225806451613,
           0.24596774193548387
          ],
          [
           0.2661290322580645,
           0.23790322580645162,
           0.1935483870967742,
           0.29838709677419356,
           0.28225806451612906,
           0.2056451612903226,
           0.24596774193548387,
           0.28225806451612906,
           0.3346774193548387,
           0.24193548387096775,
           0.2862903225806452,
           0.21370967741935484,
           0.24193548387096775,
           0.3951612903225806,
           0.2782258064516129,
           0.2661290322580645,
           0.25,
           0.31451612903225806,
           0.2782258064516129,
           0.3629032258064516,
           0.25,
           0.2661290322580645,
           0.28225806451612906,
           0.25806451612903225,
           0.23387096774193547
          ],
          [
           0.27419354838709675,
           0.3346774193548387,
           0.2661290322580645,
           0.23790322580645162,
           0.3588709677419355,
           0.3064516129032258,
           0.29435483870967744,
           0.25,
           0.23387096774193547,
           0.29435483870967744,
           0.24596774193548387,
           0.2217741935483871,
           0.24193548387096775,
           0.27419354838709675,
           0.375,
           0.3024193548387097,
           0.32661290322580644,
           0.2217741935483871,
           0.4314516129032258,
           0.25,
           0.25806451612903225,
           0.23790322580645162,
           0.24596774193548387,
           0.23790322580645162,
           0.3064516129032258
          ],
          [
           0.2620967741935484,
           0.31048387096774194,
           0.2540322580645161,
           0.25806451612903225,
           0.2217741935483871,
           0.25806451612903225,
           0.2661290322580645,
           0.29435483870967744,
           0.24193548387096775,
           0.29838709677419356,
           0.2620967741935484,
           0.21774193548387097,
           0.29435483870967744,
           0.24596774193548387,
           0.22580645161290322,
           0.2620967741935484,
           0.23790322580645162,
           0.32661290322580644,
           0.2661290322580645,
           0.3709677419354839,
           0.2862903225806452,
           0.24596774193548387,
           0.31451612903225806,
           0.3225806451612903,
           0.31451612903225806
          ],
          [
           0.3548387096774194,
           0.21774193548387097,
           0.2620967741935484,
           0.25806451612903225,
           0.3024193548387097,
           0.2540322580645161,
           0.24193548387096775,
           0.2903225806451613,
           0.2661290322580645,
           0.24596774193548387,
           0.27419354838709675,
           0.2903225806451613,
           0.24193548387096775,
           0.2620967741935484,
           0.35080645161290325,
           0.2903225806451613,
           0.2903225806451613,
           0.23790322580645162,
           0.27419354838709675,
           0.29435483870967744,
           0.24193548387096775,
           0.3548387096774194,
           0.2540322580645161,
           0.33064516129032256,
           0.29838709677419356
          ],
          [
           0.27419354838709675,
           0.22580645161290322,
           0.24596774193548387,
           0.29838709677419356,
           0.2661290322580645,
           0.3185483870967742,
           0.2540322580645161,
           0.2661290322580645,
           0.32661290322580644,
           0.2903225806451613,
           0.21774193548387097,
           0.25806451612903225,
           0.22580645161290322,
           0.2540322580645161,
           0.2862903225806452,
           0.4435483870967742,
           0.3024193548387097,
           0.29435483870967744,
           0.2620967741935484,
           0.25,
           0.24596774193548387,
           0.25806451612903225,
           0.36693548387096775,
           0.3346774193548387,
           0.23790322580645162
          ],
          [
           0.1935483870967742,
           0.4112903225806452,
           0.22983870967741934,
           0.21370967741935484,
           0.28225806451612906,
           0.35080645161290325,
           0.2056451612903226,
           0.29838709677419356,
           0.31048387096774194,
           0.3346774193548387,
           0.22983870967741934,
           0.23387096774193547,
           0.4314516129032258,
           0.4314516129032258,
           0.32661290322580644,
           0.24596774193548387,
           0.2782258064516129,
           0.2661290322580645,
           0.2661290322580645,
           0.29838709677419356,
           0.3346774193548387,
           0.28225806451612906,
           0.3185483870967742,
           0.2661290322580645,
           0.24193548387096775
          ],
          [
           0.2903225806451613,
           0.24596774193548387,
           0.3346774193548387,
           0.3024193548387097,
           0.22983870967741934,
           0.25,
           0.21774193548387097,
           0.1935483870967742,
           0.2540322580645161,
           0.2782258064516129,
           0.3024193548387097,
           0.3064516129032258,
           0.40725806451612906,
           0.20967741935483872,
           0.27419354838709675,
           0.1935483870967742,
           0.3024193548387097,
           0.27419354838709675,
           0.29838709677419356,
           0.3548387096774194,
           0.2862903225806452,
           0.3185483870967742,
           0.33064516129032256,
           0.3225806451612903,
           0.20161290322580644
          ],
          [
           0.23387096774193547,
           0.4879032258064516,
           0.2903225806451613,
           0.3346774193548387,
           0.3024193548387097,
           0.43951612903225806,
           0.1935483870967742,
           0.2056451612903226,
           0.46774193548387094,
           0.25806451612903225,
           0.2862903225806452,
           0.1935483870967742,
           0.3870967741935484,
           0.3629032258064516,
           0.29435483870967744,
           0.24193548387096775,
           0.1975806451612903,
           0.31451612903225806,
           0.22983870967741934,
           0.40725806451612906,
           0.25,
           0.3185483870967742,
           0.3467741935483871,
           0.4153225806451613,
           0.33064516129032256
          ],
          [
           0.29838709677419356,
           0.21774193548387097,
           0.23790322580645162,
           0.3225806451612903,
           0.3185483870967742,
           0.2903225806451613,
           0.22983870967741934,
           0.2661290322580645,
           0.3064516129032258,
           0.4112903225806452,
           0.3346774193548387,
           0.2903225806451613,
           0.36693548387096775,
           0.31048387096774194,
           0.4112903225806452,
           0.25,
           0.2903225806451613,
           0.1935483870967742,
           0.31048387096774194,
           0.3548387096774194,
           0.3225806451612903,
           0.33064516129032256,
           0.3064516129032258,
           0.3225806451612903,
           0.21774193548387097
          ],
          [
           0.6088709677419355,
           0.3024193548387097,
           0.33064516129032256,
           0.3225806451612903,
           0.1935483870967742,
           0.32661290322580644,
           0.43951612903225806,
           0.33064516129032256,
           0.3346774193548387,
           0.3548387096774194,
           0.3467741935483871,
           0.45161290322580644,
           0.3951612903225806,
           0.34274193548387094,
           0.2782258064516129,
           0.3387096774193548,
           0.36693548387096775,
           0.29838709677419356,
           0.2620967741935484,
           0.33064516129032256,
           0.32661290322580644,
           0.2903225806451613,
           0.3911290322580645,
           0.3709677419354839,
           0.34274193548387094
          ],
          [
           0.3588709677419355,
           0.3387096774193548,
           0.5040322580645161,
           0.3467741935483871,
           0.375,
           0.6169354838709677,
           0.3870967741935484,
           0.3064516129032258,
           0.3588709677419355,
           0.375,
           0.3346774193548387,
           0.4475806451612903,
           0.3911290322580645,
           0.3387096774193548,
           0.3911290322580645,
           0.43548387096774194,
           0.4475806451612903,
           0.3951612903225806,
           0.36693548387096775,
           0.5241935483870968,
           0.4959677419354839,
           0.375,
           0.3225806451612903,
           0.3709677419354839,
           0.47580645161290325
          ],
          [
           0.375,
           0.3790322580645161,
           0.3709677419354839,
           0.4879032258064516,
           0.3870967741935484,
           0.24193548387096775,
           0.33064516129032256,
           0.4112903225806452,
           0.3185483870967742,
           0.4475806451612903,
           0.29435483870967744,
           0.40725806451612906,
           0.4112903225806452,
           0.22580645161290322,
           0.3629032258064516,
           0.5201612903225806,
           0.31451612903225806,
           0.3387096774193548,
           0.49193548387096775,
           0.4153225806451613,
           0.32661290322580644,
           0.4314516129032258,
           0.41935483870967744,
           0.23790322580645162,
           0.3387096774193548
          ],
          [
           0.46774193548387094,
           0.4153225806451613,
           0.40725806451612906,
           0.5846774193548387,
           0.40725806451612906,
           0.3548387096774194,
           0.43951612903225806,
           0.45161290322580644,
           0.41935483870967744,
           0.3951612903225806,
           0.35080645161290325,
           0.2782258064516129,
           0.3709677419354839,
           0.4637096774193548,
           0.3387096774193548,
           0.5483870967741935,
           0.31048387096774194,
           0.4314516129032258,
           0.47580645161290325,
           0.29435483870967744,
           0.47580645161290325,
           0.6048387096774194,
           0.375,
           0.5282258064516129,
           0.39919354838709675
          ],
          [
           0.4435483870967742,
           0.6733870967741935,
           0.532258064516129,
           0.3790322580645161,
           0.25806451612903225,
           0.5241935483870968,
           0.5362903225806451,
           0.4717741935483871,
           0.29435483870967744,
           0.42338709677419356,
           0.4838709677419355,
           0.42338709677419356,
           0.3346774193548387,
           0.4112903225806452,
           0.46774193548387094,
           0.4838709677419355,
           0.5685483870967742,
           0.6129032258064516,
           0.5806451612903226,
           0.43548387096774194,
           0.5766129032258065,
           0.4838709677419355,
           0.2056451612903226,
           0.33064516129032256,
           0.38306451612903225
          ],
          [
           0.45161290322580644,
           0.45564516129032256,
           0.5403225806451613,
           0.4435483870967742,
           0.4879032258064516,
           0.5483870967741935,
           0.42338709677419356,
           0.3629032258064516,
           0.5201612903225806,
           0.375,
           0.5766129032258065,
           0.40725806451612906,
           0.4798387096774194,
           0.2862903225806452,
           0.5201612903225806,
           0.5725806451612904,
           0.38306451612903225,
           0.4959677419354839,
           0.6411290322580645,
           0.5161290322580645,
           0.5080645161290323,
           0.4879032258064516,
           0.4838709677419355,
           0.3225806451612903,
           0.3024193548387097
          ],
          [
           0.5282258064516129,
           0.4314516129032258,
           0.2217741935483871,
           0.31451612903225806,
           0.41935483870967744,
           0.5766129032258065,
           0.3629032258064516,
           0.3548387096774194,
           0.3951612903225806,
           0.4274193548387097,
           0.6814516129032258,
           0.4153225806451613,
           0.3225806451612903,
           0.5604838709677419,
           0.5,
           0.5645161290322581,
           0.46774193548387094,
           0.6088709677419355,
           0.6774193548387096,
           0.4879032258064516,
           0.6653225806451613,
           0.3225806451612903,
           0.3790322580645161,
           0.3629032258064516,
           0.5080645161290323
          ],
          [
           0.29838709677419356,
           0.43548387096774194,
           0.4032258064516129,
           0.45161290322580644,
           0.5,
           0.6451612903225806,
           0.6169354838709677,
           0.5403225806451613,
           0.4314516129032258,
           0.5201612903225806,
           0.35080645161290325,
           0.23387096774193547,
           0.4274193548387097,
           0.5645161290322581,
           0.3951612903225806,
           0.3629032258064516,
           0.5766129032258065,
           0.5443548387096774,
           0.4637096774193548,
           0.7016129032258065,
           0.5564516129032258,
           0.7258064516129032,
           0.5362903225806451,
           0.4032258064516129,
           0.3467741935483871
          ],
          [
           0.24193548387096775,
           0.43548387096774194,
           0.5725806451612904,
           0.42338709677419356,
           0.5725806451612904,
           0.5,
           0.43548387096774194,
           0.5120967741935484,
           0.5524193548387096,
           0.3951612903225806,
           0.6411290322580645,
           0.5645161290322581,
           0.625,
           0.8145161290322581,
           0.5362903225806451,
           0.5846774193548387,
           0.5645161290322581,
           0.5806451612903226,
           0.3911290322580645,
           0.7258064516129032,
           0.4475806451612903,
           0.5887096774193549,
           0.45564516129032256,
           0.49193548387096775,
           0.3790322580645161
          ],
          [
           0.31451612903225806,
           0.5362903225806451,
           0.4596774193548387,
           0.6088709677419355,
           0.3709677419354839,
           0.3588709677419355,
           0.5080645161290323,
           0.5241935483870968,
           0.6209677419354839,
           0.4959677419354839,
           0.3951612903225806,
           0.6169354838709677,
           0.4637096774193548,
           0.3548387096774194,
           0.4798387096774194,
           0.6693548387096774,
           0.3870967741935484,
           0.5524193548387096,
           0.4717741935483871,
           0.2540322580645161,
           0.4032258064516129,
           0.5887096774193549,
           0.5604838709677419,
           0.5564516129032258,
           0.6451612903225806
          ],
          [
           0.6733870967741935,
           0.4153225806451613,
           0.4032258064516129,
           0.5887096774193549,
           0.5241935483870968,
           0.5362903225806451,
           0.5766129032258065,
           0.4112903225806452,
           0.43548387096774194,
           0.42338709677419356,
           0.5362903225806451,
           0.7661290322580645,
           0.3709677419354839,
           0.6008064516129032,
           0.4798387096774194,
           0.4838709677419355,
           0.6814516129032258,
           0.4314516129032258,
           0.6612903225806451,
           0.5887096774193549,
           0.7459677419354839,
           0.5685483870967742,
           0.657258064516129,
           0.5967741935483871,
           0.3629032258064516
          ],
          [
           0.23790322580645162,
           0.6411290322580645,
           0.45564516129032256,
           0.6088709677419355,
           0.6854838709677419,
           0.6451612903225806,
           0.6532258064516129,
           0.5443548387096774,
           0.5604838709677419,
           0.6653225806451613,
           0.6532258064516129,
           0.6975806451612904,
           0.43548387096774194,
           0.5080645161290323,
           0.6008064516129032,
           0.4153225806451613,
           0.7580645161290323,
           0.31451612903225806,
           0.49193548387096775,
           0.49193548387096775,
           0.40725806451612906,
           0.3951612903225806,
           0.47580645161290325,
           0.4596774193548387,
           0.46774193548387094
          ],
          [
           0.6008064516129032,
           0.657258064516129,
           0.42338709677419356,
           0.5201612903225806,
           0.6129032258064516,
           0.5362903225806451,
           0.5887096774193549,
           0.4717741935483871,
           0.5483870967741935,
           0.5685483870967742,
           0.532258064516129,
           0.39919354838709675,
           0.5645161290322581,
           0.5766129032258065,
           0.5846774193548387,
           0.5443548387096774,
           0.36693548387096775,
           0.717741935483871,
           0.28225806451612906,
           0.5564516129032258,
           0.3548387096774194,
           0.6088709677419355,
           0.6814516129032258,
           0.5,
           0.5645161290322581
          ],
          [
           0.5604838709677419,
           0.5282258064516129,
           0.3548387096774194,
           0.4637096774193548,
           0.4838709677419355,
           0.3467741935483871,
           0.6209677419354839,
           0.31048387096774194,
           0.7056451612903226,
           0.33064516129032256,
           0.5080645161290323,
           0.6370967741935484,
           0.34274193548387094,
           0.22983870967741934,
           0.657258064516129,
           0.5282258064516129,
           0.7096774193548387,
           0.4798387096774194,
           0.3870967741935484,
           0.35080645161290325,
           0.5201612903225806,
           0.31451612903225806,
           0.5806451612903226,
           0.5685483870967742,
           0.5967741935483871
          ],
          [
           0.21370967741935484,
           0.5403225806451613,
           0.47580645161290325,
           0.6330645161290323,
           0.3588709677419355,
           0.7258064516129032,
           0.3387096774193548,
           0.375,
           0.24596774193548387,
           0.4959677419354839,
           0.3790322580645161,
           0.49193548387096775,
           0.5685483870967742,
           0.43951612903225806,
           0.5443548387096774,
           0.4274193548387097,
           0.47580645161290325,
           0.5967741935483871,
           0.4274193548387097,
           0.42338709677419356,
           0.4838709677419355,
           0.3467741935483871,
           0.4435483870967742,
           0.2903225806451613,
           0.5846774193548387
          ],
          [
           0.34274193548387094,
           0.3588709677419355,
           0.4475806451612903,
           0.5806451612903226,
           0.4112903225806452,
           0.3225806451612903,
           0.5806451612903226,
           0.5443548387096774,
           0.29838709677419356,
           0.29435483870967744,
           0.3185483870967742,
           0.3467741935483871,
           0.5161290322580645,
           0.22580645161290322,
           0.5766129032258065,
           0.7540322580645161,
           0.20967741935483872,
           0.5241935483870968,
           0.6975806451612904,
           0.5362903225806451,
           0.33064516129032256,
           0.6370967741935484,
           0.24596774193548387,
           0.5080645161290323,
           0.4959677419354839
          ],
          [
           0.6290322580645161,
           0.5766129032258065,
           0.6895161290322581,
           0.3629032258064516,
           0.5040322580645161,
           0.6774193548387096,
           0.4435483870967742,
           0.38306451612903225,
           0.6612903225806451,
           0.717741935483871,
           0.3951612903225806,
           0.6169354838709677,
           0.2862903225806452,
           0.4959677419354839,
           0.31451612903225806,
           0.36693548387096775,
           0.47580645161290325,
           0.532258064516129,
           0.4112903225806452,
           0.6532258064516129,
           0.6370967741935484,
           0.6008064516129032,
           0.5887096774193549,
           0.4435483870967742,
           0.6612903225806451
          ],
          [
           0.5362903225806451,
           0.47580645161290325,
           0.5040322580645161,
           0.4838709677419355,
           0.3467741935483871,
           0.7217741935483871,
           0.46774193548387094,
           0.3629032258064516,
           0.6733870967741935,
           0.40725806451612906,
           0.4637096774193548,
           0.6854838709677419,
           0.24596774193548387,
           0.6048387096774194,
           0.3225806451612903,
           0.36693548387096775,
           0.3911290322580645,
           0.4959677419354839,
           0.46774193548387094,
           0.5201612903225806,
           0.5524193548387096,
           0.3951612903225806,
           0.33064516129032256,
           0.6411290322580645,
           0.5403225806451613
          ],
          [
           0.4475806451612903,
           0.5040322580645161,
           0.3064516129032258,
           0.6129032258064516,
           0.5766129032258065,
           0.6451612903225806,
           0.4032258064516129,
           0.5564516129032258,
           0.6854838709677419,
           0.39919354838709675,
           0.46774193548387094,
           0.6653225806451613,
           0.3588709677419355,
           0.5766129032258065,
           0.22580645161290322,
           0.5080645161290323,
           0.6209677419354839,
           0.4798387096774194,
           0.49193548387096775,
           0.5120967741935484,
           0.5483870967741935,
           0.31048387096774194,
           0.29435483870967744,
           0.4153225806451613,
           0.6048387096774194
          ],
          [
           0.4435483870967742,
           0.6491935483870968,
           0.5120967741935484,
           0.5887096774193549,
           0.5,
           0.4637096774193548,
           0.45161290322580644,
           0.375,
           0.5120967741935484,
           0.4637096774193548,
           0.5,
           0.5846774193548387,
           0.3024193548387097,
           0.5846774193548387,
           0.5483870967741935,
           0.6612903225806451,
           0.31451612903225806,
           0.5080645161290323,
           0.3911290322580645,
           0.532258064516129,
           0.6854838709677419,
           0.2540322580645161,
           0.43548387096774194,
           0.4032258064516129,
           0.40725806451612906
          ],
          [
           0.5846774193548387,
           0.5241935483870968,
           0.6693548387096774,
           0.25806451612903225,
           0.3911290322580645,
           0.25,
           0.4274193548387097,
           0.6491935483870968,
           0.4314516129032258,
           0.5080645161290323,
           0.5766129032258065,
           0.3951612903225806,
           0.3387096774193548,
           0.6814516129032258,
           0.6088709677419355,
           0.3225806451612903,
           0.43951612903225806,
           0.4475806451612903,
           0.7096774193548387,
           0.5604838709677419,
           0.5,
           0.21370967741935484,
           0.49193548387096775,
           0.33064516129032256,
           0.45564516129032256
          ],
          [
           0.3346774193548387,
           0.3387096774193548,
           0.3629032258064516,
           0.34274193548387094,
           0.49193548387096775,
           0.40725806451612906,
           0.3588709677419355,
           0.5,
           0.23387096774193547,
           0.4112903225806452,
           0.6129032258064516,
           0.592741935483871,
           0.6451612903225806,
           0.3024193548387097,
           0.43951612903225806,
           0.2862903225806452,
           0.5120967741935484,
           0.7137096774193549,
           0.22983870967741934,
           0.375,
           0.6370967741935484,
           0.5241935483870968,
           0.5161290322580645,
           0.31451612903225806,
           0.23790322580645162
          ],
          [
           0.6129032258064516,
           0.3225806451612903,
           0.43951612903225806,
           0.45564516129032256,
           0.4314516129032258,
           0.43951612903225806,
           0.3911290322580645,
           0.592741935483871,
           0.5766129032258065,
           0.3064516129032258,
           0.35080645161290325,
           0.3064516129032258,
           0.5040322580645161,
           0.3951612903225806,
           0.33064516129032256,
           0.4435483870967742,
           0.5846774193548387,
           0.7096774193548387,
           0.3548387096774194,
           0.7096774193548387,
           0.4112903225806452,
           0.4032258064516129,
           0.2701612903225806,
           0.29838709677419356,
           0.5887096774193549
          ],
          [
           0.4032258064516129,
           0.22983870967741934,
           0.6612903225806451,
           0.7016129032258065,
           0.29435483870967744,
           0.4475806451612903,
           0.45564516129032256,
           0.2056451612903226,
           0.4032258064516129,
           0.4032258064516129,
           0.6048387096774194,
           0.25,
           0.2620967741935484,
           0.6451612903225806,
           0.3629032258064516,
           0.36693548387096775,
           0.22580645161290322,
           0.7379032258064516,
           0.6008064516129032,
           0.46774193548387094,
           0.3790322580645161,
           0.3225806451612903,
           0.4435483870967742,
           0.5040322580645161,
           0.3790322580645161
          ],
          [
           0.6209677419354839,
           0.2661290322580645,
           0.2540322580645161,
           0.25806451612903225,
           0.40725806451612906,
           0.3064516129032258,
           0.32661290322580644,
           0.6088709677419355,
           0.6290322580645161,
           0.3548387096774194,
           0.5403225806451613,
           0.3548387096774194,
           0.4879032258064516,
           0.40725806451612906,
           0.3911290322580645,
           0.31451612903225806,
           0.25,
           0.4959677419354839,
           0.3467741935483871,
           0.43951612903225806,
           0.29838709677419356,
           0.43548387096774194,
           0.5201612903225806,
           0.28225806451612906,
           0.27419354838709675
          ],
          [
           0.4112903225806452,
           0.4838709677419355,
           0.5524193548387096,
           0.5120967741935484,
           0.3629032258064516,
           0.36693548387096775,
           0.5725806451612904,
           0.5241935483870968,
           0.43548387096774194,
           0.42338709677419356,
           0.1935483870967742,
           0.5443548387096774,
           0.4274193548387097,
           0.6532258064516129,
           0.592741935483871,
           0.3629032258064516,
           0.36693548387096775,
           0.5201612903225806,
           0.28225806451612906,
           0.375,
           0.3185483870967742,
           0.4435483870967742,
           0.6451612903225806,
           0.5282258064516129,
           0.3346774193548387
          ],
          [
           0.5685483870967742,
           0.47580645161290325,
           0.3467741935483871,
           0.41935483870967744,
           0.23790322580645162,
           0.5161290322580645,
           0.3951612903225806,
           0.4959677419354839,
           0.31451612903225806,
           0.6491935483870968,
           0.5887096774193549,
           0.6330645161290323,
           0.6370967741935484,
           0.4274193548387097,
           0.40725806451612906,
           0.5,
           0.46774193548387094,
           0.32661290322580644,
           0.3790322580645161,
           0.34274193548387094,
           0.3790322580645161,
           0.5403225806451613,
           0.4475806451612903,
           0.31451612903225806,
           0.3870967741935484
          ],
          [
           0.4314516129032258,
           0.4637096774193548,
           0.43951612903225806,
           0.3185483870967742,
           0.4435483870967742,
           0.23790322580645162,
           0.4879032258064516,
           0.31048387096774194,
           0.2782258064516129,
           0.5282258064516129,
           0.3548387096774194,
           0.6209677419354839,
           0.2903225806451613,
           0.5967741935483871,
           0.2903225806451613,
           0.3225806451612903,
           0.7137096774193549,
           0.2620967741935484,
           0.3467741935483871,
           0.4475806451612903,
           0.3911290322580645,
           0.3185483870967742,
           0.5403225806451613,
           0.532258064516129,
           0.4032258064516129
          ],
          [
           0.5645161290322581,
           0.42338709677419356,
           0.3467741935483871,
           0.3629032258064516,
           0.4153225806451613,
           0.657258064516129,
           0.25,
           0.3185483870967742,
           0.2903225806451613,
           0.3709677419354839,
           0.34274193548387094,
           0.42338709677419356,
           0.3629032258064516,
           0.4435483870967742,
           0.3225806451612903,
           0.22983870967741934,
           0.6774193548387096,
           0.31451612903225806,
           0.5967741935483871,
           0.4112903225806452,
           0.3346774193548387,
           0.36693548387096775,
           0.4032258064516129,
           0.3024193548387097,
           0.32661290322580644
          ],
          [
           0.2782258064516129,
           0.4879032258064516,
           0.4879032258064516,
           0.4475806451612903,
           0.42338709677419356,
           0.4596774193548387,
           0.5806451612903226,
           0.49193548387096775,
           0.5201612903225806,
           0.5080645161290323,
           0.3629032258064516,
           0.6330645161290323,
           0.6290322580645161,
           0.49193548387096775,
           0.3064516129032258,
           0.43548387096774194,
           0.2217741935483871,
           0.4879032258064516,
           0.5282258064516129,
           0.5080645161290323,
           0.5846774193548387,
           0.1975806451612903,
           0.6774193548387096,
           0.2903225806451613,
           0.25
          ],
          [
           0.2620967741935484,
           0.4717741935483871,
           0.2540322580645161,
           0.3064516129032258,
           0.7338709677419355,
           0.4798387096774194,
           0.6411290322580645,
           0.5362903225806451,
           0.6048387096774194,
           0.3024193548387097,
           0.2701612903225806,
           0.5,
           0.40725806451612906,
           0.3346774193548387,
           0.3951612903225806,
           0.42338709677419356,
           0.40725806451612906,
           0.3951612903225806,
           0.3588709677419355,
           0.45161290322580644,
           0.375,
           0.41935483870967744,
           0.4596774193548387,
           0.5604838709677419,
           0.2903225806451613
          ],
          [
           0.39919354838709675,
           0.5362903225806451,
           0.4798387096774194,
           0.33064516129032256,
           0.3548387096774194,
           0.4274193548387097,
           0.27419354838709675,
           0.5403225806451613,
           0.22983870967741934,
           0.43951612903225806,
           0.375,
           0.5604838709677419,
           0.40725806451612906,
           0.4153225806451613,
           0.5524193548387096,
           0.6774193548387096,
           0.6733870967741935,
           0.3346774193548387,
           0.22580645161290322,
           0.6935483870967742,
           0.5,
           0.6975806451612904,
           0.4959677419354839,
           0.41935483870967744,
           0.2056451612903226
          ],
          [
           0.4596774193548387,
           0.3588709677419355,
           0.4596774193548387,
           0.46774193548387094,
           0.2903225806451613,
           0.22580645161290322,
           0.4959677419354839,
           0.35080645161290325,
           0.29838709677419356,
           0.5403225806451613,
           0.3951612903225806,
           0.4838709677419355,
           0.39919354838709675,
           0.45161290322580644,
           0.6975806451612904,
           0.4314516129032258,
           0.5201612903225806,
           0.5967741935483871,
           0.5967741935483871,
           0.3629032258064516,
           0.40725806451612906,
           0.6370967741935484,
           0.5806451612903226,
           0.39919354838709675,
           0.3225806451612903
          ],
          [
           0.5040322580645161,
           0.6129032258064516,
           0.46774193548387094,
           0.4637096774193548,
           0.5201612903225806,
           0.45564516129032256,
           0.45564516129032256,
           0.6209677419354839,
           0.49193548387096775,
           0.6129032258064516,
           0.6129032258064516,
           0.47580645161290325,
           0.6048387096774194,
           0.4314516129032258,
           0.4596774193548387,
           0.5564516129032258,
           0.5846774193548387,
           0.5766129032258065,
           0.4314516129032258,
           0.6048387096774194,
           0.46774193548387094,
           0.5766129032258065,
           0.4838709677419355,
           0.5806451612903226,
           0.3467741935483871
          ],
          [
           0.42338709677419356,
           0.6370967741935484,
           0.49193548387096775,
           0.5887096774193549,
           0.6169354838709677,
           0.5201612903225806,
           0.5161290322580645,
           0.41935483870967744,
           0.532258064516129,
           0.5403225806451613,
           0.5241935483870968,
           0.4314516129032258,
           0.4838709677419355,
           0.5161290322580645,
           0.5403225806451613,
           0.5846774193548387,
           0.592741935483871,
           0.6330645161290323,
           0.5403225806451613,
           0.5725806451612904,
           0.6048387096774194,
           0.4838709677419355,
           0.5806451612903226,
           0.5201612903225806,
           0.4838709677419355
          ]
         ]
        }
       ],
       "layout": {
        "coloraxis": {
         "cmid": 0,
         "colorscale": [
          [
           0,
           "rgb(103,0,31)"
          ],
          [
           0.1,
           "rgb(178,24,43)"
          ],
          [
           0.2,
           "rgb(214,96,77)"
          ],
          [
           0.3,
           "rgb(244,165,130)"
          ],
          [
           0.4,
           "rgb(253,219,199)"
          ],
          [
           0.5,
           "rgb(247,247,247)"
          ],
          [
           0.6,
           "rgb(209,229,240)"
          ],
          [
           0.7,
           "rgb(146,197,222)"
          ],
          [
           0.8,
           "rgb(67,147,195)"
          ],
          [
           0.9,
           "rgb(33,102,172)"
          ],
          [
           1,
           "rgb(5,48,97)"
          ]
         ]
        },
        "template": {
         "data": {
          "bar": [
           {
            "error_x": {
             "color": "#2a3f5f"
            },
            "error_y": {
             "color": "#2a3f5f"
            },
            "marker": {
             "line": {
              "color": "#E5ECF6",
              "width": 0.5
             },
             "pattern": {
              "fillmode": "overlay",
              "size": 10,
              "solidity": 0.2
             }
            },
            "type": "bar"
           }
          ],
          "barpolar": [
           {
            "marker": {
             "line": {
              "color": "#E5ECF6",
              "width": 0.5
             },
             "pattern": {
              "fillmode": "overlay",
              "size": 10,
              "solidity": 0.2
             }
            },
            "type": "barpolar"
           }
          ],
          "carpet": [
           {
            "aaxis": {
             "endlinecolor": "#2a3f5f",
             "gridcolor": "white",
             "linecolor": "white",
             "minorgridcolor": "white",
             "startlinecolor": "#2a3f5f"
            },
            "baxis": {
             "endlinecolor": "#2a3f5f",
             "gridcolor": "white",
             "linecolor": "white",
             "minorgridcolor": "white",
             "startlinecolor": "#2a3f5f"
            },
            "type": "carpet"
           }
          ],
          "choropleth": [
           {
            "colorbar": {
             "outlinewidth": 0,
             "ticks": ""
            },
            "type": "choropleth"
           }
          ],
          "contour": [
           {
            "colorbar": {
             "outlinewidth": 0,
             "ticks": ""
            },
            "colorscale": [
             [
              0,
              "#0d0887"
             ],
             [
              0.1111111111111111,
              "#46039f"
             ],
             [
              0.2222222222222222,
              "#7201a8"
             ],
             [
              0.3333333333333333,
              "#9c179e"
             ],
             [
              0.4444444444444444,
              "#bd3786"
             ],
             [
              0.5555555555555556,
              "#d8576b"
             ],
             [
              0.6666666666666666,
              "#ed7953"
             ],
             [
              0.7777777777777778,
              "#fb9f3a"
             ],
             [
              0.8888888888888888,
              "#fdca26"
             ],
             [
              1,
              "#f0f921"
             ]
            ],
            "type": "contour"
           }
          ],
          "contourcarpet": [
           {
            "colorbar": {
             "outlinewidth": 0,
             "ticks": ""
            },
            "type": "contourcarpet"
           }
          ],
          "heatmap": [
           {
            "colorbar": {
             "outlinewidth": 0,
             "ticks": ""
            },
            "colorscale": [
             [
              0,
              "#0d0887"
             ],
             [
              0.1111111111111111,
              "#46039f"
             ],
             [
              0.2222222222222222,
              "#7201a8"
             ],
             [
              0.3333333333333333,
              "#9c179e"
             ],
             [
              0.4444444444444444,
              "#bd3786"
             ],
             [
              0.5555555555555556,
              "#d8576b"
             ],
             [
              0.6666666666666666,
              "#ed7953"
             ],
             [
              0.7777777777777778,
              "#fb9f3a"
             ],
             [
              0.8888888888888888,
              "#fdca26"
             ],
             [
              1,
              "#f0f921"
             ]
            ],
            "type": "heatmap"
           }
          ],
          "heatmapgl": [
           {
            "colorbar": {
             "outlinewidth": 0,
             "ticks": ""
            },
            "colorscale": [
             [
              0,
              "#0d0887"
             ],
             [
              0.1111111111111111,
              "#46039f"
             ],
             [
              0.2222222222222222,
              "#7201a8"
             ],
             [
              0.3333333333333333,
              "#9c179e"
             ],
             [
              0.4444444444444444,
              "#bd3786"
             ],
             [
              0.5555555555555556,
              "#d8576b"
             ],
             [
              0.6666666666666666,
              "#ed7953"
             ],
             [
              0.7777777777777778,
              "#fb9f3a"
             ],
             [
              0.8888888888888888,
              "#fdca26"
             ],
             [
              1,
              "#f0f921"
             ]
            ],
            "type": "heatmapgl"
           }
          ],
          "histogram": [
           {
            "marker": {
             "pattern": {
              "fillmode": "overlay",
              "size": 10,
              "solidity": 0.2
             }
            },
            "type": "histogram"
           }
          ],
          "histogram2d": [
           {
            "colorbar": {
             "outlinewidth": 0,
             "ticks": ""
            },
            "colorscale": [
             [
              0,
              "#0d0887"
             ],
             [
              0.1111111111111111,
              "#46039f"
             ],
             [
              0.2222222222222222,
              "#7201a8"
             ],
             [
              0.3333333333333333,
              "#9c179e"
             ],
             [
              0.4444444444444444,
              "#bd3786"
             ],
             [
              0.5555555555555556,
              "#d8576b"
             ],
             [
              0.6666666666666666,
              "#ed7953"
             ],
             [
              0.7777777777777778,
              "#fb9f3a"
             ],
             [
              0.8888888888888888,
              "#fdca26"
             ],
             [
              1,
              "#f0f921"
             ]
            ],
            "type": "histogram2d"
           }
          ],
          "histogram2dcontour": [
           {
            "colorbar": {
             "outlinewidth": 0,
             "ticks": ""
            },
            "colorscale": [
             [
              0,
              "#0d0887"
             ],
             [
              0.1111111111111111,
              "#46039f"
             ],
             [
              0.2222222222222222,
              "#7201a8"
             ],
             [
              0.3333333333333333,
              "#9c179e"
             ],
             [
              0.4444444444444444,
              "#bd3786"
             ],
             [
              0.5555555555555556,
              "#d8576b"
             ],
             [
              0.6666666666666666,
              "#ed7953"
             ],
             [
              0.7777777777777778,
              "#fb9f3a"
             ],
             [
              0.8888888888888888,
              "#fdca26"
             ],
             [
              1,
              "#f0f921"
             ]
            ],
            "type": "histogram2dcontour"
           }
          ],
          "mesh3d": [
           {
            "colorbar": {
             "outlinewidth": 0,
             "ticks": ""
            },
            "type": "mesh3d"
           }
          ],
          "parcoords": [
           {
            "line": {
             "colorbar": {
              "outlinewidth": 0,
              "ticks": ""
             }
            },
            "type": "parcoords"
           }
          ],
          "pie": [
           {
            "automargin": true,
            "type": "pie"
           }
          ],
          "scatter": [
           {
            "fillpattern": {
             "fillmode": "overlay",
             "size": 10,
             "solidity": 0.2
            },
            "type": "scatter"
           }
          ],
          "scatter3d": [
           {
            "line": {
             "colorbar": {
              "outlinewidth": 0,
              "ticks": ""
             }
            },
            "marker": {
             "colorbar": {
              "outlinewidth": 0,
              "ticks": ""
             }
            },
            "type": "scatter3d"
           }
          ],
          "scattercarpet": [
           {
            "marker": {
             "colorbar": {
              "outlinewidth": 0,
              "ticks": ""
             }
            },
            "type": "scattercarpet"
           }
          ],
          "scattergeo": [
           {
            "marker": {
             "colorbar": {
              "outlinewidth": 0,
              "ticks": ""
             }
            },
            "type": "scattergeo"
           }
          ],
          "scattergl": [
           {
            "marker": {
             "colorbar": {
              "outlinewidth": 0,
              "ticks": ""
             }
            },
            "type": "scattergl"
           }
          ],
          "scattermapbox": [
           {
            "marker": {
             "colorbar": {
              "outlinewidth": 0,
              "ticks": ""
             }
            },
            "type": "scattermapbox"
           }
          ],
          "scatterpolar": [
           {
            "marker": {
             "colorbar": {
              "outlinewidth": 0,
              "ticks": ""
             }
            },
            "type": "scatterpolar"
           }
          ],
          "scatterpolargl": [
           {
            "marker": {
             "colorbar": {
              "outlinewidth": 0,
              "ticks": ""
             }
            },
            "type": "scatterpolargl"
           }
          ],
          "scatterternary": [
           {
            "marker": {
             "colorbar": {
              "outlinewidth": 0,
              "ticks": ""
             }
            },
            "type": "scatterternary"
           }
          ],
          "surface": [
           {
            "colorbar": {
             "outlinewidth": 0,
             "ticks": ""
            },
            "colorscale": [
             [
              0,
              "#0d0887"
             ],
             [
              0.1111111111111111,
              "#46039f"
             ],
             [
              0.2222222222222222,
              "#7201a8"
             ],
             [
              0.3333333333333333,
              "#9c179e"
             ],
             [
              0.4444444444444444,
              "#bd3786"
             ],
             [
              0.5555555555555556,
              "#d8576b"
             ],
             [
              0.6666666666666666,
              "#ed7953"
             ],
             [
              0.7777777777777778,
              "#fb9f3a"
             ],
             [
              0.8888888888888888,
              "#fdca26"
             ],
             [
              1,
              "#f0f921"
             ]
            ],
            "type": "surface"
           }
          ],
          "table": [
           {
            "cells": {
             "fill": {
              "color": "#EBF0F8"
             },
             "line": {
              "color": "white"
             }
            },
            "header": {
             "fill": {
              "color": "#C8D4E3"
             },
             "line": {
              "color": "white"
             }
            },
            "type": "table"
           }
          ]
         },
         "layout": {
          "annotationdefaults": {
           "arrowcolor": "#2a3f5f",
           "arrowhead": 0,
           "arrowwidth": 1
          },
          "autotypenumbers": "strict",
          "coloraxis": {
           "colorbar": {
            "outlinewidth": 0,
            "ticks": ""
           }
          },
          "colorscale": {
           "diverging": [
            [
             0,
             "#8e0152"
            ],
            [
             0.1,
             "#c51b7d"
            ],
            [
             0.2,
             "#de77ae"
            ],
            [
             0.3,
             "#f1b6da"
            ],
            [
             0.4,
             "#fde0ef"
            ],
            [
             0.5,
             "#f7f7f7"
            ],
            [
             0.6,
             "#e6f5d0"
            ],
            [
             0.7,
             "#b8e186"
            ],
            [
             0.8,
             "#7fbc41"
            ],
            [
             0.9,
             "#4d9221"
            ],
            [
             1,
             "#276419"
            ]
           ],
           "sequential": [
            [
             0,
             "#0d0887"
            ],
            [
             0.1111111111111111,
             "#46039f"
            ],
            [
             0.2222222222222222,
             "#7201a8"
            ],
            [
             0.3333333333333333,
             "#9c179e"
            ],
            [
             0.4444444444444444,
             "#bd3786"
            ],
            [
             0.5555555555555556,
             "#d8576b"
            ],
            [
             0.6666666666666666,
             "#ed7953"
            ],
            [
             0.7777777777777778,
             "#fb9f3a"
            ],
            [
             0.8888888888888888,
             "#fdca26"
            ],
            [
             1,
             "#f0f921"
            ]
           ],
           "sequentialminus": [
            [
             0,
             "#0d0887"
            ],
            [
             0.1111111111111111,
             "#46039f"
            ],
            [
             0.2222222222222222,
             "#7201a8"
            ],
            [
             0.3333333333333333,
             "#9c179e"
            ],
            [
             0.4444444444444444,
             "#bd3786"
            ],
            [
             0.5555555555555556,
             "#d8576b"
            ],
            [
             0.6666666666666666,
             "#ed7953"
            ],
            [
             0.7777777777777778,
             "#fb9f3a"
            ],
            [
             0.8888888888888888,
             "#fdca26"
            ],
            [
             1,
             "#f0f921"
            ]
           ]
          },
          "colorway": [
           "#636efa",
           "#EF553B",
           "#00cc96",
           "#ab63fa",
           "#FFA15A",
           "#19d3f3",
           "#FF6692",
           "#B6E880",
           "#FF97FF",
           "#FECB52"
          ],
          "font": {
           "color": "#2a3f5f"
          },
          "geo": {
           "bgcolor": "white",
           "lakecolor": "white",
           "landcolor": "#E5ECF6",
           "showlakes": true,
           "showland": true,
           "subunitcolor": "white"
          },
          "hoverlabel": {
           "align": "left"
          },
          "hovermode": "closest",
          "mapbox": {
           "style": "light"
          },
          "paper_bgcolor": "white",
          "plot_bgcolor": "#E5ECF6",
          "polar": {
           "angularaxis": {
            "gridcolor": "white",
            "linecolor": "white",
            "ticks": ""
           },
           "bgcolor": "#E5ECF6",
           "radialaxis": {
            "gridcolor": "white",
            "linecolor": "white",
            "ticks": ""
           }
          },
          "scene": {
           "xaxis": {
            "backgroundcolor": "#E5ECF6",
            "gridcolor": "white",
            "gridwidth": 2,
            "linecolor": "white",
            "showbackground": true,
            "ticks": "",
            "zerolinecolor": "white"
           },
           "yaxis": {
            "backgroundcolor": "#E5ECF6",
            "gridcolor": "white",
            "gridwidth": 2,
            "linecolor": "white",
            "showbackground": true,
            "ticks": "",
            "zerolinecolor": "white"
           },
           "zaxis": {
            "backgroundcolor": "#E5ECF6",
            "gridcolor": "white",
            "gridwidth": 2,
            "linecolor": "white",
            "showbackground": true,
            "ticks": "",
            "zerolinecolor": "white"
           }
          },
          "shapedefaults": {
           "line": {
            "color": "#2a3f5f"
           }
          },
          "ternary": {
           "aaxis": {
            "gridcolor": "white",
            "linecolor": "white",
            "ticks": ""
           },
           "baxis": {
            "gridcolor": "white",
            "linecolor": "white",
            "ticks": ""
           },
           "bgcolor": "#E5ECF6",
           "caxis": {
            "gridcolor": "white",
            "linecolor": "white",
            "ticks": ""
           }
          },
          "title": {
           "x": 0.05
          },
          "xaxis": {
           "automargin": true,
           "gridcolor": "white",
           "linecolor": "white",
           "ticks": "",
           "title": {
            "standoff": 15
           },
           "zerolinecolor": "white",
           "zerolinewidth": 2
          },
          "yaxis": {
           "automargin": true,
           "gridcolor": "white",
           "linecolor": "white",
           "ticks": "",
           "title": {
            "standoff": 15
           },
           "zerolinecolor": "white",
           "zerolinewidth": 2
          }
         }
        },
        "title": {
         "text": "Sorted Probe Accuracies on Capitals"
        },
        "xaxis": {
         "anchor": "y",
         "constrain": "domain",
         "domain": [
          0,
          1
         ],
         "scaleanchor": "y",
         "title": {
          "text": "Heads (sorted)"
         }
        },
        "yaxis": {
         "anchor": "x",
         "autorange": true,
         "constrain": "domain",
         "domain": [
          0,
          1
         ],
         "title": {
          "text": "Layers"
         }
        }
       }
      },
      "text/html": [
       "<div>                            <div id=\"b94c42e4-9dcd-4963-9e90-4f82598f0c66\" class=\"plotly-graph-div\" style=\"height:525px; width:100%;\"></div>            <script type=\"text/javascript\">                require([\"plotly\"], function(Plotly) {                    window.PLOTLYENV=window.PLOTLYENV || {};                                    if (document.getElementById(\"b94c42e4-9dcd-4963-9e90-4f82598f0c66\")) {                    Plotly.newPlot(                        \"b94c42e4-9dcd-4963-9e90-4f82598f0c66\",                        [{\"coloraxis\":\"coloraxis\",\"name\":\"0\",\"z\":[[0.1935483870967742,0.1935483870967742,0.1935483870967742,0.1935483870967742,0.1935483870967742,0.1935483870967742,0.1935483870967742,0.1935483870967742,0.20967741935483872,0.1935483870967742,0.1935483870967742,0.1935483870967742,0.1935483870967742,0.1935483870967742,0.1935483870967742,0.1935483870967742,0.1935483870967742,0.1935483870967742,0.1935483870967742,0.1935483870967742,0.1935483870967742,0.1935483870967742,0.2056451612903226,0.1935483870967742,0.1935483870967742],[0.29838709677419356,0.25806451612903225,0.23387096774193547,0.23790322580645162,0.2782258064516129,0.24596774193548387,0.22580645161290322,0.375,0.2782258064516129,0.32661290322580644,0.3588709677419355,0.2903225806451613,0.23387096774193547,0.2782258064516129,0.22983870967741934,0.3024193548387097,0.25806451612903225,0.2701612903225806,0.25,0.1975806451612903,0.2620967741935484,0.22580645161290322,0.2661290322580645,0.23790322580645162,0.2862903225806452],[0.1774193548387097,0.23790322580645162,0.2782258064516129,0.22580645161290322,0.3024193548387097,0.2701612903225806,0.33064516129032256,0.22580645161290322,0.25806451612903225,0.24596774193548387,0.2782258064516129,0.2782258064516129,0.4032258064516129,0.20161290322580644,0.2217741935483871,0.22580645161290322,0.2661290322580645,0.24596774193548387,0.25,0.25806451612903225,0.29435483870967744,0.2056451612903226,0.2862903225806452,0.25806451612903225,0.27419354838709675],[0.31048387096774194,0.2903225806451613,0.21774193548387097,0.23790322580645162,0.3024193548387097,0.32661290322580644,0.23387096774193547,0.2661290322580645,0.3346774193548387,0.2540322580645161,0.24596774193548387,0.25,0.2782258064516129,0.22580645161290322,0.2217741935483871,0.3064516129032258,0.22580645161290322,0.21370967741935484,0.2540322580645161,0.25806451612903225,0.28225806451612906,0.2540322580645161,0.20967741935483872,0.2903225806451613,0.24596774193548387],[0.2661290322580645,0.23790322580645162,0.1935483870967742,0.29838709677419356,0.28225806451612906,0.2056451612903226,0.24596774193548387,0.28225806451612906,0.3346774193548387,0.24193548387096775,0.2862903225806452,0.21370967741935484,0.24193548387096775,0.3951612903225806,0.2782258064516129,0.2661290322580645,0.25,0.31451612903225806,0.2782258064516129,0.3629032258064516,0.25,0.2661290322580645,0.28225806451612906,0.25806451612903225,0.23387096774193547],[0.27419354838709675,0.3346774193548387,0.2661290322580645,0.23790322580645162,0.3588709677419355,0.3064516129032258,0.29435483870967744,0.25,0.23387096774193547,0.29435483870967744,0.24596774193548387,0.2217741935483871,0.24193548387096775,0.27419354838709675,0.375,0.3024193548387097,0.32661290322580644,0.2217741935483871,0.4314516129032258,0.25,0.25806451612903225,0.23790322580645162,0.24596774193548387,0.23790322580645162,0.3064516129032258],[0.2620967741935484,0.31048387096774194,0.2540322580645161,0.25806451612903225,0.2217741935483871,0.25806451612903225,0.2661290322580645,0.29435483870967744,0.24193548387096775,0.29838709677419356,0.2620967741935484,0.21774193548387097,0.29435483870967744,0.24596774193548387,0.22580645161290322,0.2620967741935484,0.23790322580645162,0.32661290322580644,0.2661290322580645,0.3709677419354839,0.2862903225806452,0.24596774193548387,0.31451612903225806,0.3225806451612903,0.31451612903225806],[0.3548387096774194,0.21774193548387097,0.2620967741935484,0.25806451612903225,0.3024193548387097,0.2540322580645161,0.24193548387096775,0.2903225806451613,0.2661290322580645,0.24596774193548387,0.27419354838709675,0.2903225806451613,0.24193548387096775,0.2620967741935484,0.35080645161290325,0.2903225806451613,0.2903225806451613,0.23790322580645162,0.27419354838709675,0.29435483870967744,0.24193548387096775,0.3548387096774194,0.2540322580645161,0.33064516129032256,0.29838709677419356],[0.27419354838709675,0.22580645161290322,0.24596774193548387,0.29838709677419356,0.2661290322580645,0.3185483870967742,0.2540322580645161,0.2661290322580645,0.32661290322580644,0.2903225806451613,0.21774193548387097,0.25806451612903225,0.22580645161290322,0.2540322580645161,0.2862903225806452,0.4435483870967742,0.3024193548387097,0.29435483870967744,0.2620967741935484,0.25,0.24596774193548387,0.25806451612903225,0.36693548387096775,0.3346774193548387,0.23790322580645162],[0.1935483870967742,0.4112903225806452,0.22983870967741934,0.21370967741935484,0.28225806451612906,0.35080645161290325,0.2056451612903226,0.29838709677419356,0.31048387096774194,0.3346774193548387,0.22983870967741934,0.23387096774193547,0.4314516129032258,0.4314516129032258,0.32661290322580644,0.24596774193548387,0.2782258064516129,0.2661290322580645,0.2661290322580645,0.29838709677419356,0.3346774193548387,0.28225806451612906,0.3185483870967742,0.2661290322580645,0.24193548387096775],[0.2903225806451613,0.24596774193548387,0.3346774193548387,0.3024193548387097,0.22983870967741934,0.25,0.21774193548387097,0.1935483870967742,0.2540322580645161,0.2782258064516129,0.3024193548387097,0.3064516129032258,0.40725806451612906,0.20967741935483872,0.27419354838709675,0.1935483870967742,0.3024193548387097,0.27419354838709675,0.29838709677419356,0.3548387096774194,0.2862903225806452,0.3185483870967742,0.33064516129032256,0.3225806451612903,0.20161290322580644],[0.23387096774193547,0.4879032258064516,0.2903225806451613,0.3346774193548387,0.3024193548387097,0.43951612903225806,0.1935483870967742,0.2056451612903226,0.46774193548387094,0.25806451612903225,0.2862903225806452,0.1935483870967742,0.3870967741935484,0.3629032258064516,0.29435483870967744,0.24193548387096775,0.1975806451612903,0.31451612903225806,0.22983870967741934,0.40725806451612906,0.25,0.3185483870967742,0.3467741935483871,0.4153225806451613,0.33064516129032256],[0.29838709677419356,0.21774193548387097,0.23790322580645162,0.3225806451612903,0.3185483870967742,0.2903225806451613,0.22983870967741934,0.2661290322580645,0.3064516129032258,0.4112903225806452,0.3346774193548387,0.2903225806451613,0.36693548387096775,0.31048387096774194,0.4112903225806452,0.25,0.2903225806451613,0.1935483870967742,0.31048387096774194,0.3548387096774194,0.3225806451612903,0.33064516129032256,0.3064516129032258,0.3225806451612903,0.21774193548387097],[0.6088709677419355,0.3024193548387097,0.33064516129032256,0.3225806451612903,0.1935483870967742,0.32661290322580644,0.43951612903225806,0.33064516129032256,0.3346774193548387,0.3548387096774194,0.3467741935483871,0.45161290322580644,0.3951612903225806,0.34274193548387094,0.2782258064516129,0.3387096774193548,0.36693548387096775,0.29838709677419356,0.2620967741935484,0.33064516129032256,0.32661290322580644,0.2903225806451613,0.3911290322580645,0.3709677419354839,0.34274193548387094],[0.3588709677419355,0.3387096774193548,0.5040322580645161,0.3467741935483871,0.375,0.6169354838709677,0.3870967741935484,0.3064516129032258,0.3588709677419355,0.375,0.3346774193548387,0.4475806451612903,0.3911290322580645,0.3387096774193548,0.3911290322580645,0.43548387096774194,0.4475806451612903,0.3951612903225806,0.36693548387096775,0.5241935483870968,0.4959677419354839,0.375,0.3225806451612903,0.3709677419354839,0.47580645161290325],[0.375,0.3790322580645161,0.3709677419354839,0.4879032258064516,0.3870967741935484,0.24193548387096775,0.33064516129032256,0.4112903225806452,0.3185483870967742,0.4475806451612903,0.29435483870967744,0.40725806451612906,0.4112903225806452,0.22580645161290322,0.3629032258064516,0.5201612903225806,0.31451612903225806,0.3387096774193548,0.49193548387096775,0.4153225806451613,0.32661290322580644,0.4314516129032258,0.41935483870967744,0.23790322580645162,0.3387096774193548],[0.46774193548387094,0.4153225806451613,0.40725806451612906,0.5846774193548387,0.40725806451612906,0.3548387096774194,0.43951612903225806,0.45161290322580644,0.41935483870967744,0.3951612903225806,0.35080645161290325,0.2782258064516129,0.3709677419354839,0.4637096774193548,0.3387096774193548,0.5483870967741935,0.31048387096774194,0.4314516129032258,0.47580645161290325,0.29435483870967744,0.47580645161290325,0.6048387096774194,0.375,0.5282258064516129,0.39919354838709675],[0.4435483870967742,0.6733870967741935,0.532258064516129,0.3790322580645161,0.25806451612903225,0.5241935483870968,0.5362903225806451,0.4717741935483871,0.29435483870967744,0.42338709677419356,0.4838709677419355,0.42338709677419356,0.3346774193548387,0.4112903225806452,0.46774193548387094,0.4838709677419355,0.5685483870967742,0.6129032258064516,0.5806451612903226,0.43548387096774194,0.5766129032258065,0.4838709677419355,0.2056451612903226,0.33064516129032256,0.38306451612903225],[0.45161290322580644,0.45564516129032256,0.5403225806451613,0.4435483870967742,0.4879032258064516,0.5483870967741935,0.42338709677419356,0.3629032258064516,0.5201612903225806,0.375,0.5766129032258065,0.40725806451612906,0.4798387096774194,0.2862903225806452,0.5201612903225806,0.5725806451612904,0.38306451612903225,0.4959677419354839,0.6411290322580645,0.5161290322580645,0.5080645161290323,0.4879032258064516,0.4838709677419355,0.3225806451612903,0.3024193548387097],[0.5282258064516129,0.4314516129032258,0.2217741935483871,0.31451612903225806,0.41935483870967744,0.5766129032258065,0.3629032258064516,0.3548387096774194,0.3951612903225806,0.4274193548387097,0.6814516129032258,0.4153225806451613,0.3225806451612903,0.5604838709677419,0.5,0.5645161290322581,0.46774193548387094,0.6088709677419355,0.6774193548387096,0.4879032258064516,0.6653225806451613,0.3225806451612903,0.3790322580645161,0.3629032258064516,0.5080645161290323],[0.29838709677419356,0.43548387096774194,0.4032258064516129,0.45161290322580644,0.5,0.6451612903225806,0.6169354838709677,0.5403225806451613,0.4314516129032258,0.5201612903225806,0.35080645161290325,0.23387096774193547,0.4274193548387097,0.5645161290322581,0.3951612903225806,0.3629032258064516,0.5766129032258065,0.5443548387096774,0.4637096774193548,0.7016129032258065,0.5564516129032258,0.7258064516129032,0.5362903225806451,0.4032258064516129,0.3467741935483871],[0.24193548387096775,0.43548387096774194,0.5725806451612904,0.42338709677419356,0.5725806451612904,0.5,0.43548387096774194,0.5120967741935484,0.5524193548387096,0.3951612903225806,0.6411290322580645,0.5645161290322581,0.625,0.8145161290322581,0.5362903225806451,0.5846774193548387,0.5645161290322581,0.5806451612903226,0.3911290322580645,0.7258064516129032,0.4475806451612903,0.5887096774193549,0.45564516129032256,0.49193548387096775,0.3790322580645161],[0.31451612903225806,0.5362903225806451,0.4596774193548387,0.6088709677419355,0.3709677419354839,0.3588709677419355,0.5080645161290323,0.5241935483870968,0.6209677419354839,0.4959677419354839,0.3951612903225806,0.6169354838709677,0.4637096774193548,0.3548387096774194,0.4798387096774194,0.6693548387096774,0.3870967741935484,0.5524193548387096,0.4717741935483871,0.2540322580645161,0.4032258064516129,0.5887096774193549,0.5604838709677419,0.5564516129032258,0.6451612903225806],[0.6733870967741935,0.4153225806451613,0.4032258064516129,0.5887096774193549,0.5241935483870968,0.5362903225806451,0.5766129032258065,0.4112903225806452,0.43548387096774194,0.42338709677419356,0.5362903225806451,0.7661290322580645,0.3709677419354839,0.6008064516129032,0.4798387096774194,0.4838709677419355,0.6814516129032258,0.4314516129032258,0.6612903225806451,0.5887096774193549,0.7459677419354839,0.5685483870967742,0.657258064516129,0.5967741935483871,0.3629032258064516],[0.23790322580645162,0.6411290322580645,0.45564516129032256,0.6088709677419355,0.6854838709677419,0.6451612903225806,0.6532258064516129,0.5443548387096774,0.5604838709677419,0.6653225806451613,0.6532258064516129,0.6975806451612904,0.43548387096774194,0.5080645161290323,0.6008064516129032,0.4153225806451613,0.7580645161290323,0.31451612903225806,0.49193548387096775,0.49193548387096775,0.40725806451612906,0.3951612903225806,0.47580645161290325,0.4596774193548387,0.46774193548387094],[0.6008064516129032,0.657258064516129,0.42338709677419356,0.5201612903225806,0.6129032258064516,0.5362903225806451,0.5887096774193549,0.4717741935483871,0.5483870967741935,0.5685483870967742,0.532258064516129,0.39919354838709675,0.5645161290322581,0.5766129032258065,0.5846774193548387,0.5443548387096774,0.36693548387096775,0.717741935483871,0.28225806451612906,0.5564516129032258,0.3548387096774194,0.6088709677419355,0.6814516129032258,0.5,0.5645161290322581],[0.5604838709677419,0.5282258064516129,0.3548387096774194,0.4637096774193548,0.4838709677419355,0.3467741935483871,0.6209677419354839,0.31048387096774194,0.7056451612903226,0.33064516129032256,0.5080645161290323,0.6370967741935484,0.34274193548387094,0.22983870967741934,0.657258064516129,0.5282258064516129,0.7096774193548387,0.4798387096774194,0.3870967741935484,0.35080645161290325,0.5201612903225806,0.31451612903225806,0.5806451612903226,0.5685483870967742,0.5967741935483871],[0.21370967741935484,0.5403225806451613,0.47580645161290325,0.6330645161290323,0.3588709677419355,0.7258064516129032,0.3387096774193548,0.375,0.24596774193548387,0.4959677419354839,0.3790322580645161,0.49193548387096775,0.5685483870967742,0.43951612903225806,0.5443548387096774,0.4274193548387097,0.47580645161290325,0.5967741935483871,0.4274193548387097,0.42338709677419356,0.4838709677419355,0.3467741935483871,0.4435483870967742,0.2903225806451613,0.5846774193548387],[0.34274193548387094,0.3588709677419355,0.4475806451612903,0.5806451612903226,0.4112903225806452,0.3225806451612903,0.5806451612903226,0.5443548387096774,0.29838709677419356,0.29435483870967744,0.3185483870967742,0.3467741935483871,0.5161290322580645,0.22580645161290322,0.5766129032258065,0.7540322580645161,0.20967741935483872,0.5241935483870968,0.6975806451612904,0.5362903225806451,0.33064516129032256,0.6370967741935484,0.24596774193548387,0.5080645161290323,0.4959677419354839],[0.6290322580645161,0.5766129032258065,0.6895161290322581,0.3629032258064516,0.5040322580645161,0.6774193548387096,0.4435483870967742,0.38306451612903225,0.6612903225806451,0.717741935483871,0.3951612903225806,0.6169354838709677,0.2862903225806452,0.4959677419354839,0.31451612903225806,0.36693548387096775,0.47580645161290325,0.532258064516129,0.4112903225806452,0.6532258064516129,0.6370967741935484,0.6008064516129032,0.5887096774193549,0.4435483870967742,0.6612903225806451],[0.5362903225806451,0.47580645161290325,0.5040322580645161,0.4838709677419355,0.3467741935483871,0.7217741935483871,0.46774193548387094,0.3629032258064516,0.6733870967741935,0.40725806451612906,0.4637096774193548,0.6854838709677419,0.24596774193548387,0.6048387096774194,0.3225806451612903,0.36693548387096775,0.3911290322580645,0.4959677419354839,0.46774193548387094,0.5201612903225806,0.5524193548387096,0.3951612903225806,0.33064516129032256,0.6411290322580645,0.5403225806451613],[0.4475806451612903,0.5040322580645161,0.3064516129032258,0.6129032258064516,0.5766129032258065,0.6451612903225806,0.4032258064516129,0.5564516129032258,0.6854838709677419,0.39919354838709675,0.46774193548387094,0.6653225806451613,0.3588709677419355,0.5766129032258065,0.22580645161290322,0.5080645161290323,0.6209677419354839,0.4798387096774194,0.49193548387096775,0.5120967741935484,0.5483870967741935,0.31048387096774194,0.29435483870967744,0.4153225806451613,0.6048387096774194],[0.4435483870967742,0.6491935483870968,0.5120967741935484,0.5887096774193549,0.5,0.4637096774193548,0.45161290322580644,0.375,0.5120967741935484,0.4637096774193548,0.5,0.5846774193548387,0.3024193548387097,0.5846774193548387,0.5483870967741935,0.6612903225806451,0.31451612903225806,0.5080645161290323,0.3911290322580645,0.532258064516129,0.6854838709677419,0.2540322580645161,0.43548387096774194,0.4032258064516129,0.40725806451612906],[0.5846774193548387,0.5241935483870968,0.6693548387096774,0.25806451612903225,0.3911290322580645,0.25,0.4274193548387097,0.6491935483870968,0.4314516129032258,0.5080645161290323,0.5766129032258065,0.3951612903225806,0.3387096774193548,0.6814516129032258,0.6088709677419355,0.3225806451612903,0.43951612903225806,0.4475806451612903,0.7096774193548387,0.5604838709677419,0.5,0.21370967741935484,0.49193548387096775,0.33064516129032256,0.45564516129032256],[0.3346774193548387,0.3387096774193548,0.3629032258064516,0.34274193548387094,0.49193548387096775,0.40725806451612906,0.3588709677419355,0.5,0.23387096774193547,0.4112903225806452,0.6129032258064516,0.592741935483871,0.6451612903225806,0.3024193548387097,0.43951612903225806,0.2862903225806452,0.5120967741935484,0.7137096774193549,0.22983870967741934,0.375,0.6370967741935484,0.5241935483870968,0.5161290322580645,0.31451612903225806,0.23790322580645162],[0.6129032258064516,0.3225806451612903,0.43951612903225806,0.45564516129032256,0.4314516129032258,0.43951612903225806,0.3911290322580645,0.592741935483871,0.5766129032258065,0.3064516129032258,0.35080645161290325,0.3064516129032258,0.5040322580645161,0.3951612903225806,0.33064516129032256,0.4435483870967742,0.5846774193548387,0.7096774193548387,0.3548387096774194,0.7096774193548387,0.4112903225806452,0.4032258064516129,0.2701612903225806,0.29838709677419356,0.5887096774193549],[0.4032258064516129,0.22983870967741934,0.6612903225806451,0.7016129032258065,0.29435483870967744,0.4475806451612903,0.45564516129032256,0.2056451612903226,0.4032258064516129,0.4032258064516129,0.6048387096774194,0.25,0.2620967741935484,0.6451612903225806,0.3629032258064516,0.36693548387096775,0.22580645161290322,0.7379032258064516,0.6008064516129032,0.46774193548387094,0.3790322580645161,0.3225806451612903,0.4435483870967742,0.5040322580645161,0.3790322580645161],[0.6209677419354839,0.2661290322580645,0.2540322580645161,0.25806451612903225,0.40725806451612906,0.3064516129032258,0.32661290322580644,0.6088709677419355,0.6290322580645161,0.3548387096774194,0.5403225806451613,0.3548387096774194,0.4879032258064516,0.40725806451612906,0.3911290322580645,0.31451612903225806,0.25,0.4959677419354839,0.3467741935483871,0.43951612903225806,0.29838709677419356,0.43548387096774194,0.5201612903225806,0.28225806451612906,0.27419354838709675],[0.4112903225806452,0.4838709677419355,0.5524193548387096,0.5120967741935484,0.3629032258064516,0.36693548387096775,0.5725806451612904,0.5241935483870968,0.43548387096774194,0.42338709677419356,0.1935483870967742,0.5443548387096774,0.4274193548387097,0.6532258064516129,0.592741935483871,0.3629032258064516,0.36693548387096775,0.5201612903225806,0.28225806451612906,0.375,0.3185483870967742,0.4435483870967742,0.6451612903225806,0.5282258064516129,0.3346774193548387],[0.5685483870967742,0.47580645161290325,0.3467741935483871,0.41935483870967744,0.23790322580645162,0.5161290322580645,0.3951612903225806,0.4959677419354839,0.31451612903225806,0.6491935483870968,0.5887096774193549,0.6330645161290323,0.6370967741935484,0.4274193548387097,0.40725806451612906,0.5,0.46774193548387094,0.32661290322580644,0.3790322580645161,0.34274193548387094,0.3790322580645161,0.5403225806451613,0.4475806451612903,0.31451612903225806,0.3870967741935484],[0.4314516129032258,0.4637096774193548,0.43951612903225806,0.3185483870967742,0.4435483870967742,0.23790322580645162,0.4879032258064516,0.31048387096774194,0.2782258064516129,0.5282258064516129,0.3548387096774194,0.6209677419354839,0.2903225806451613,0.5967741935483871,0.2903225806451613,0.3225806451612903,0.7137096774193549,0.2620967741935484,0.3467741935483871,0.4475806451612903,0.3911290322580645,0.3185483870967742,0.5403225806451613,0.532258064516129,0.4032258064516129],[0.5645161290322581,0.42338709677419356,0.3467741935483871,0.3629032258064516,0.4153225806451613,0.657258064516129,0.25,0.3185483870967742,0.2903225806451613,0.3709677419354839,0.34274193548387094,0.42338709677419356,0.3629032258064516,0.4435483870967742,0.3225806451612903,0.22983870967741934,0.6774193548387096,0.31451612903225806,0.5967741935483871,0.4112903225806452,0.3346774193548387,0.36693548387096775,0.4032258064516129,0.3024193548387097,0.32661290322580644],[0.2782258064516129,0.4879032258064516,0.4879032258064516,0.4475806451612903,0.42338709677419356,0.4596774193548387,0.5806451612903226,0.49193548387096775,0.5201612903225806,0.5080645161290323,0.3629032258064516,0.6330645161290323,0.6290322580645161,0.49193548387096775,0.3064516129032258,0.43548387096774194,0.2217741935483871,0.4879032258064516,0.5282258064516129,0.5080645161290323,0.5846774193548387,0.1975806451612903,0.6774193548387096,0.2903225806451613,0.25],[0.2620967741935484,0.4717741935483871,0.2540322580645161,0.3064516129032258,0.7338709677419355,0.4798387096774194,0.6411290322580645,0.5362903225806451,0.6048387096774194,0.3024193548387097,0.2701612903225806,0.5,0.40725806451612906,0.3346774193548387,0.3951612903225806,0.42338709677419356,0.40725806451612906,0.3951612903225806,0.3588709677419355,0.45161290322580644,0.375,0.41935483870967744,0.4596774193548387,0.5604838709677419,0.2903225806451613],[0.39919354838709675,0.5362903225806451,0.4798387096774194,0.33064516129032256,0.3548387096774194,0.4274193548387097,0.27419354838709675,0.5403225806451613,0.22983870967741934,0.43951612903225806,0.375,0.5604838709677419,0.40725806451612906,0.4153225806451613,0.5524193548387096,0.6774193548387096,0.6733870967741935,0.3346774193548387,0.22580645161290322,0.6935483870967742,0.5,0.6975806451612904,0.4959677419354839,0.41935483870967744,0.2056451612903226],[0.4596774193548387,0.3588709677419355,0.4596774193548387,0.46774193548387094,0.2903225806451613,0.22580645161290322,0.4959677419354839,0.35080645161290325,0.29838709677419356,0.5403225806451613,0.3951612903225806,0.4838709677419355,0.39919354838709675,0.45161290322580644,0.6975806451612904,0.4314516129032258,0.5201612903225806,0.5967741935483871,0.5967741935483871,0.3629032258064516,0.40725806451612906,0.6370967741935484,0.5806451612903226,0.39919354838709675,0.3225806451612903],[0.5040322580645161,0.6129032258064516,0.46774193548387094,0.4637096774193548,0.5201612903225806,0.45564516129032256,0.45564516129032256,0.6209677419354839,0.49193548387096775,0.6129032258064516,0.6129032258064516,0.47580645161290325,0.6048387096774194,0.4314516129032258,0.4596774193548387,0.5564516129032258,0.5846774193548387,0.5766129032258065,0.4314516129032258,0.6048387096774194,0.46774193548387094,0.5766129032258065,0.4838709677419355,0.5806451612903226,0.3467741935483871],[0.42338709677419356,0.6370967741935484,0.49193548387096775,0.5887096774193549,0.6169354838709677,0.5201612903225806,0.5161290322580645,0.41935483870967744,0.532258064516129,0.5403225806451613,0.5241935483870968,0.4314516129032258,0.4838709677419355,0.5161290322580645,0.5403225806451613,0.5846774193548387,0.592741935483871,0.6330645161290323,0.5403225806451613,0.5725806451612904,0.6048387096774194,0.4838709677419355,0.5806451612903226,0.5201612903225806,0.4838709677419355]],\"type\":\"heatmap\",\"xaxis\":\"x\",\"yaxis\":\"y\",\"hovertemplate\":\"Heads (sorted): %{x}<br>Layers: %{y}<br>color: %{z}<extra></extra>\"}],                        {\"template\":{\"data\":{\"histogram2dcontour\":[{\"type\":\"histogram2dcontour\",\"colorbar\":{\"outlinewidth\":0,\"ticks\":\"\"},\"colorscale\":[[0.0,\"#0d0887\"],[0.1111111111111111,\"#46039f\"],[0.2222222222222222,\"#7201a8\"],[0.3333333333333333,\"#9c179e\"],[0.4444444444444444,\"#bd3786\"],[0.5555555555555556,\"#d8576b\"],[0.6666666666666666,\"#ed7953\"],[0.7777777777777778,\"#fb9f3a\"],[0.8888888888888888,\"#fdca26\"],[1.0,\"#f0f921\"]]}],\"choropleth\":[{\"type\":\"choropleth\",\"colorbar\":{\"outlinewidth\":0,\"ticks\":\"\"}}],\"histogram2d\":[{\"type\":\"histogram2d\",\"colorbar\":{\"outlinewidth\":0,\"ticks\":\"\"},\"colorscale\":[[0.0,\"#0d0887\"],[0.1111111111111111,\"#46039f\"],[0.2222222222222222,\"#7201a8\"],[0.3333333333333333,\"#9c179e\"],[0.4444444444444444,\"#bd3786\"],[0.5555555555555556,\"#d8576b\"],[0.6666666666666666,\"#ed7953\"],[0.7777777777777778,\"#fb9f3a\"],[0.8888888888888888,\"#fdca26\"],[1.0,\"#f0f921\"]]}],\"heatmap\":[{\"type\":\"heatmap\",\"colorbar\":{\"outlinewidth\":0,\"ticks\":\"\"},\"colorscale\":[[0.0,\"#0d0887\"],[0.1111111111111111,\"#46039f\"],[0.2222222222222222,\"#7201a8\"],[0.3333333333333333,\"#9c179e\"],[0.4444444444444444,\"#bd3786\"],[0.5555555555555556,\"#d8576b\"],[0.6666666666666666,\"#ed7953\"],[0.7777777777777778,\"#fb9f3a\"],[0.8888888888888888,\"#fdca26\"],[1.0,\"#f0f921\"]]}],\"heatmapgl\":[{\"type\":\"heatmapgl\",\"colorbar\":{\"outlinewidth\":0,\"ticks\":\"\"},\"colorscale\":[[0.0,\"#0d0887\"],[0.1111111111111111,\"#46039f\"],[0.2222222222222222,\"#7201a8\"],[0.3333333333333333,\"#9c179e\"],[0.4444444444444444,\"#bd3786\"],[0.5555555555555556,\"#d8576b\"],[0.6666666666666666,\"#ed7953\"],[0.7777777777777778,\"#fb9f3a\"],[0.8888888888888888,\"#fdca26\"],[1.0,\"#f0f921\"]]}],\"contourcarpet\":[{\"type\":\"contourcarpet\",\"colorbar\":{\"outlinewidth\":0,\"ticks\":\"\"}}],\"contour\":[{\"type\":\"contour\",\"colorbar\":{\"outlinewidth\":0,\"ticks\":\"\"},\"colorscale\":[[0.0,\"#0d0887\"],[0.1111111111111111,\"#46039f\"],[0.2222222222222222,\"#7201a8\"],[0.3333333333333333,\"#9c179e\"],[0.4444444444444444,\"#bd3786\"],[0.5555555555555556,\"#d8576b\"],[0.6666666666666666,\"#ed7953\"],[0.7777777777777778,\"#fb9f3a\"],[0.8888888888888888,\"#fdca26\"],[1.0,\"#f0f921\"]]}],\"surface\":[{\"type\":\"surface\",\"colorbar\":{\"outlinewidth\":0,\"ticks\":\"\"},\"colorscale\":[[0.0,\"#0d0887\"],[0.1111111111111111,\"#46039f\"],[0.2222222222222222,\"#7201a8\"],[0.3333333333333333,\"#9c179e\"],[0.4444444444444444,\"#bd3786\"],[0.5555555555555556,\"#d8576b\"],[0.6666666666666666,\"#ed7953\"],[0.7777777777777778,\"#fb9f3a\"],[0.8888888888888888,\"#fdca26\"],[1.0,\"#f0f921\"]]}],\"mesh3d\":[{\"type\":\"mesh3d\",\"colorbar\":{\"outlinewidth\":0,\"ticks\":\"\"}}],\"scatter\":[{\"fillpattern\":{\"fillmode\":\"overlay\",\"size\":10,\"solidity\":0.2},\"type\":\"scatter\"}],\"parcoords\":[{\"type\":\"parcoords\",\"line\":{\"colorbar\":{\"outlinewidth\":0,\"ticks\":\"\"}}}],\"scatterpolargl\":[{\"type\":\"scatterpolargl\",\"marker\":{\"colorbar\":{\"outlinewidth\":0,\"ticks\":\"\"}}}],\"bar\":[{\"error_x\":{\"color\":\"#2a3f5f\"},\"error_y\":{\"color\":\"#2a3f5f\"},\"marker\":{\"line\":{\"color\":\"#E5ECF6\",\"width\":0.5},\"pattern\":{\"fillmode\":\"overlay\",\"size\":10,\"solidity\":0.2}},\"type\":\"bar\"}],\"scattergeo\":[{\"type\":\"scattergeo\",\"marker\":{\"colorbar\":{\"outlinewidth\":0,\"ticks\":\"\"}}}],\"scatterpolar\":[{\"type\":\"scatterpolar\",\"marker\":{\"colorbar\":{\"outlinewidth\":0,\"ticks\":\"\"}}}],\"histogram\":[{\"marker\":{\"pattern\":{\"fillmode\":\"overlay\",\"size\":10,\"solidity\":0.2}},\"type\":\"histogram\"}],\"scattergl\":[{\"type\":\"scattergl\",\"marker\":{\"colorbar\":{\"outlinewidth\":0,\"ticks\":\"\"}}}],\"scatter3d\":[{\"type\":\"scatter3d\",\"line\":{\"colorbar\":{\"outlinewidth\":0,\"ticks\":\"\"}},\"marker\":{\"colorbar\":{\"outlinewidth\":0,\"ticks\":\"\"}}}],\"scattermapbox\":[{\"type\":\"scattermapbox\",\"marker\":{\"colorbar\":{\"outlinewidth\":0,\"ticks\":\"\"}}}],\"scatterternary\":[{\"type\":\"scatterternary\",\"marker\":{\"colorbar\":{\"outlinewidth\":0,\"ticks\":\"\"}}}],\"scattercarpet\":[{\"type\":\"scattercarpet\",\"marker\":{\"colorbar\":{\"outlinewidth\":0,\"ticks\":\"\"}}}],\"carpet\":[{\"aaxis\":{\"endlinecolor\":\"#2a3f5f\",\"gridcolor\":\"white\",\"linecolor\":\"white\",\"minorgridcolor\":\"white\",\"startlinecolor\":\"#2a3f5f\"},\"baxis\":{\"endlinecolor\":\"#2a3f5f\",\"gridcolor\":\"white\",\"linecolor\":\"white\",\"minorgridcolor\":\"white\",\"startlinecolor\":\"#2a3f5f\"},\"type\":\"carpet\"}],\"table\":[{\"cells\":{\"fill\":{\"color\":\"#EBF0F8\"},\"line\":{\"color\":\"white\"}},\"header\":{\"fill\":{\"color\":\"#C8D4E3\"},\"line\":{\"color\":\"white\"}},\"type\":\"table\"}],\"barpolar\":[{\"marker\":{\"line\":{\"color\":\"#E5ECF6\",\"width\":0.5},\"pattern\":{\"fillmode\":\"overlay\",\"size\":10,\"solidity\":0.2}},\"type\":\"barpolar\"}],\"pie\":[{\"automargin\":true,\"type\":\"pie\"}]},\"layout\":{\"autotypenumbers\":\"strict\",\"colorway\":[\"#636efa\",\"#EF553B\",\"#00cc96\",\"#ab63fa\",\"#FFA15A\",\"#19d3f3\",\"#FF6692\",\"#B6E880\",\"#FF97FF\",\"#FECB52\"],\"font\":{\"color\":\"#2a3f5f\"},\"hovermode\":\"closest\",\"hoverlabel\":{\"align\":\"left\"},\"paper_bgcolor\":\"white\",\"plot_bgcolor\":\"#E5ECF6\",\"polar\":{\"bgcolor\":\"#E5ECF6\",\"angularaxis\":{\"gridcolor\":\"white\",\"linecolor\":\"white\",\"ticks\":\"\"},\"radialaxis\":{\"gridcolor\":\"white\",\"linecolor\":\"white\",\"ticks\":\"\"}},\"ternary\":{\"bgcolor\":\"#E5ECF6\",\"aaxis\":{\"gridcolor\":\"white\",\"linecolor\":\"white\",\"ticks\":\"\"},\"baxis\":{\"gridcolor\":\"white\",\"linecolor\":\"white\",\"ticks\":\"\"},\"caxis\":{\"gridcolor\":\"white\",\"linecolor\":\"white\",\"ticks\":\"\"}},\"coloraxis\":{\"colorbar\":{\"outlinewidth\":0,\"ticks\":\"\"}},\"colorscale\":{\"sequential\":[[0.0,\"#0d0887\"],[0.1111111111111111,\"#46039f\"],[0.2222222222222222,\"#7201a8\"],[0.3333333333333333,\"#9c179e\"],[0.4444444444444444,\"#bd3786\"],[0.5555555555555556,\"#d8576b\"],[0.6666666666666666,\"#ed7953\"],[0.7777777777777778,\"#fb9f3a\"],[0.8888888888888888,\"#fdca26\"],[1.0,\"#f0f921\"]],\"sequentialminus\":[[0.0,\"#0d0887\"],[0.1111111111111111,\"#46039f\"],[0.2222222222222222,\"#7201a8\"],[0.3333333333333333,\"#9c179e\"],[0.4444444444444444,\"#bd3786\"],[0.5555555555555556,\"#d8576b\"],[0.6666666666666666,\"#ed7953\"],[0.7777777777777778,\"#fb9f3a\"],[0.8888888888888888,\"#fdca26\"],[1.0,\"#f0f921\"]],\"diverging\":[[0,\"#8e0152\"],[0.1,\"#c51b7d\"],[0.2,\"#de77ae\"],[0.3,\"#f1b6da\"],[0.4,\"#fde0ef\"],[0.5,\"#f7f7f7\"],[0.6,\"#e6f5d0\"],[0.7,\"#b8e186\"],[0.8,\"#7fbc41\"],[0.9,\"#4d9221\"],[1,\"#276419\"]]},\"xaxis\":{\"gridcolor\":\"white\",\"linecolor\":\"white\",\"ticks\":\"\",\"title\":{\"standoff\":15},\"zerolinecolor\":\"white\",\"automargin\":true,\"zerolinewidth\":2},\"yaxis\":{\"gridcolor\":\"white\",\"linecolor\":\"white\",\"ticks\":\"\",\"title\":{\"standoff\":15},\"zerolinecolor\":\"white\",\"automargin\":true,\"zerolinewidth\":2},\"scene\":{\"xaxis\":{\"backgroundcolor\":\"#E5ECF6\",\"gridcolor\":\"white\",\"linecolor\":\"white\",\"showbackground\":true,\"ticks\":\"\",\"zerolinecolor\":\"white\",\"gridwidth\":2},\"yaxis\":{\"backgroundcolor\":\"#E5ECF6\",\"gridcolor\":\"white\",\"linecolor\":\"white\",\"showbackground\":true,\"ticks\":\"\",\"zerolinecolor\":\"white\",\"gridwidth\":2},\"zaxis\":{\"backgroundcolor\":\"#E5ECF6\",\"gridcolor\":\"white\",\"linecolor\":\"white\",\"showbackground\":true,\"ticks\":\"\",\"zerolinecolor\":\"white\",\"gridwidth\":2}},\"shapedefaults\":{\"line\":{\"color\":\"#2a3f5f\"}},\"annotationdefaults\":{\"arrowcolor\":\"#2a3f5f\",\"arrowhead\":0,\"arrowwidth\":1},\"geo\":{\"bgcolor\":\"white\",\"landcolor\":\"#E5ECF6\",\"subunitcolor\":\"white\",\"showland\":true,\"showlakes\":true,\"lakecolor\":\"white\"},\"title\":{\"x\":0.05},\"mapbox\":{\"style\":\"light\"}}},\"xaxis\":{\"anchor\":\"y\",\"domain\":[0.0,1.0],\"scaleanchor\":\"y\",\"constrain\":\"domain\",\"title\":{\"text\":\"Heads (sorted)\"}},\"yaxis\":{\"anchor\":\"x\",\"domain\":[0.0,1.0],\"autorange\":true,\"constrain\":\"domain\",\"title\":{\"text\":\"Layers\"}},\"coloraxis\":{\"colorscale\":[[0.0,\"rgb(103,0,31)\"],[0.1,\"rgb(178,24,43)\"],[0.2,\"rgb(214,96,77)\"],[0.3,\"rgb(244,165,130)\"],[0.4,\"rgb(253,219,199)\"],[0.5,\"rgb(247,247,247)\"],[0.6,\"rgb(209,229,240)\"],[0.7,\"rgb(146,197,222)\"],[0.8,\"rgb(67,147,195)\"],[0.9,\"rgb(33,102,172)\"],[1.0,\"rgb(5,48,97)\"]],\"cmid\":0},\"title\":{\"text\":\"Sorted Probe Accuracies on Capitals\"}},                        {\"responsive\": true}                    ).then(function(){\n",
       "                            \n",
       "var gd = document.getElementById('b94c42e4-9dcd-4963-9e90-4f82598f0c66');\n",
       "var x = new MutationObserver(function (mutations, observer) {{\n",
       "        var display = window.getComputedStyle(gd).display;\n",
       "        if (!display || display === 'none') {{\n",
       "            console.log([gd, 'removed!']);\n",
       "            Plotly.purge(gd);\n",
       "            observer.disconnect();\n",
       "        }}\n",
       "}});\n",
       "\n",
       "// Listen for the removal of the full notebook cells\n",
       "var notebookContainer = gd.closest('#notebook-container');\n",
       "if (notebookContainer) {{\n",
       "    x.observe(notebookContainer, {childList: true});\n",
       "}}\n",
       "\n",
       "// Listen for the clearing of the current output cell\n",
       "var outputEl = gd.closest('.output');\n",
       "if (outputEl) {{\n",
       "    x.observe(outputEl, {childList: true});\n",
       "}}\n",
       "\n",
       "                        })                };                });            </script>        </div>"
      ]
     },
     "metadata": {},
     "output_type": "display_data"
    }
   ],
   "source": [
    "# a = -np.sort(-all_head_accs_np.reshape(nin_d.model.cfg.n_layers, nin_d.model.cfg.n_heads), axis = 1)\n",
    "#layer 21, head 13\n",
    "px.imshow(np.array(total_accs).reshape(nin_d.model.cfg.n_layers, nin_d.model.cfg.n_heads), labels = {\"x\" : \"Heads (sorted)\", \"y\": \"Layers\"},title = \"Sorted Probe Accuracies on Capitals\", color_continuous_midpoint = 0, color_continuous_scale=\"RdBu\", origin = \"lower\")\n"
   ]
  },
  {
   "cell_type": "code",
   "execution_count": 53,
   "metadata": {},
   "outputs": [
    {
     "data": {
      "text/plain": [
       "{'input': 'Q: What is the capital of Transnistria? A: Georgetown\\nQ: What is the capital of Solomon Islands? A: Marigot\\nQ: What is the capital of Ghana? A: Managua\\nQ: What is the capital of Faroe Islands? A: Tórshavn\\nQ: What is the capital of Kuwait? A: Havana\\nQ: What is the capital of Iceland? A:',\n",
       " 'label': 'Reykjavík',\n",
       " 'n_few_shot': 5,\n",
       " 'prop_wrong': 0.8752982456752721,\n",
       " 'n_correct': 1,\n",
       " 'model_correct': 1}"
      ]
     },
     "execution_count": 53,
     "metadata": {},
     "output_type": "execute_result"
    }
   ],
   "source": [
    "nin_d.dataset[98]"
   ]
  },
  {
   "cell_type": "code",
   "execution_count": 47,
   "metadata": {},
   "outputs": [
    {
     "data": {
      "application/vnd.plotly.v1+json": {
       "config": {
        "plotlyServerURL": "https://plot.ly"
       },
       "data": [
        {
         "coloraxis": "coloraxis",
         "hovertemplate": "Heads (sorted): %{x}<br>Layers: %{y}<br>color: %{z}<extra></extra>",
         "name": "0",
         "type": "heatmap",
         "xaxis": "x",
         "yaxis": "y",
         "z": [
          [
           0.20967741935483872,
           0.2056451612903226,
           0.1935483870967742,
           0.1935483870967742,
           0.1935483870967742,
           0.1935483870967742,
           0.1935483870967742,
           0.1935483870967742,
           0.1935483870967742,
           0.1935483870967742,
           0.1935483870967742,
           0.1935483870967742,
           0.1935483870967742,
           0.1935483870967742,
           0.1935483870967742,
           0.1935483870967742,
           0.1935483870967742,
           0.1935483870967742,
           0.1935483870967742,
           0.1935483870967742,
           0.1935483870967742,
           0.1935483870967742,
           0.1935483870967742,
           0.1935483870967742,
           0.1935483870967742
          ],
          [
           0.375,
           0.3588709677419355,
           0.32661290322580644,
           0.3024193548387097,
           0.29838709677419356,
           0.2903225806451613,
           0.2862903225806452,
           0.2782258064516129,
           0.2782258064516129,
           0.2782258064516129,
           0.2701612903225806,
           0.2661290322580645,
           0.2620967741935484,
           0.25806451612903225,
           0.25806451612903225,
           0.25,
           0.24596774193548387,
           0.23790322580645162,
           0.23790322580645162,
           0.23387096774193547,
           0.23387096774193547,
           0.22983870967741934,
           0.22580645161290322,
           0.22580645161290322,
           0.1975806451612903
          ],
          [
           0.4032258064516129,
           0.33064516129032256,
           0.3024193548387097,
           0.29435483870967744,
           0.2862903225806452,
           0.2782258064516129,
           0.2782258064516129,
           0.2782258064516129,
           0.27419354838709675,
           0.2701612903225806,
           0.2661290322580645,
           0.25806451612903225,
           0.25806451612903225,
           0.25806451612903225,
           0.25,
           0.24596774193548387,
           0.24596774193548387,
           0.23790322580645162,
           0.22580645161290322,
           0.22580645161290322,
           0.22580645161290322,
           0.2217741935483871,
           0.2056451612903226,
           0.20161290322580644,
           0.1774193548387097
          ],
          [
           0.3346774193548387,
           0.32661290322580644,
           0.31048387096774194,
           0.3064516129032258,
           0.3024193548387097,
           0.2903225806451613,
           0.2903225806451613,
           0.28225806451612906,
           0.2782258064516129,
           0.2661290322580645,
           0.25806451612903225,
           0.2540322580645161,
           0.2540322580645161,
           0.2540322580645161,
           0.25,
           0.24596774193548387,
           0.24596774193548387,
           0.23790322580645162,
           0.23387096774193547,
           0.22580645161290322,
           0.22580645161290322,
           0.2217741935483871,
           0.21774193548387097,
           0.21370967741935484,
           0.20967741935483872
          ],
          [
           0.3951612903225806,
           0.3629032258064516,
           0.3346774193548387,
           0.31451612903225806,
           0.29838709677419356,
           0.2862903225806452,
           0.28225806451612906,
           0.28225806451612906,
           0.28225806451612906,
           0.2782258064516129,
           0.2782258064516129,
           0.2661290322580645,
           0.2661290322580645,
           0.2661290322580645,
           0.25806451612903225,
           0.25,
           0.25,
           0.24596774193548387,
           0.24193548387096775,
           0.24193548387096775,
           0.23790322580645162,
           0.23387096774193547,
           0.21370967741935484,
           0.2056451612903226,
           0.1935483870967742
          ],
          [
           0.4314516129032258,
           0.375,
           0.3588709677419355,
           0.3346774193548387,
           0.32661290322580644,
           0.3064516129032258,
           0.3064516129032258,
           0.3024193548387097,
           0.29435483870967744,
           0.29435483870967744,
           0.27419354838709675,
           0.27419354838709675,
           0.2661290322580645,
           0.25806451612903225,
           0.25,
           0.25,
           0.24596774193548387,
           0.24596774193548387,
           0.24193548387096775,
           0.23790322580645162,
           0.23790322580645162,
           0.23790322580645162,
           0.23387096774193547,
           0.2217741935483871,
           0.2217741935483871
          ],
          [
           0.3709677419354839,
           0.32661290322580644,
           0.3225806451612903,
           0.31451612903225806,
           0.31451612903225806,
           0.31048387096774194,
           0.29838709677419356,
           0.29435483870967744,
           0.29435483870967744,
           0.2862903225806452,
           0.2661290322580645,
           0.2661290322580645,
           0.2620967741935484,
           0.2620967741935484,
           0.2620967741935484,
           0.25806451612903225,
           0.25806451612903225,
           0.2540322580645161,
           0.24596774193548387,
           0.24596774193548387,
           0.24193548387096775,
           0.23790322580645162,
           0.22580645161290322,
           0.2217741935483871,
           0.21774193548387097
          ],
          [
           0.3548387096774194,
           0.3548387096774194,
           0.35080645161290325,
           0.33064516129032256,
           0.3024193548387097,
           0.29838709677419356,
           0.29435483870967744,
           0.2903225806451613,
           0.2903225806451613,
           0.2903225806451613,
           0.2903225806451613,
           0.27419354838709675,
           0.27419354838709675,
           0.2661290322580645,
           0.2620967741935484,
           0.2620967741935484,
           0.25806451612903225,
           0.2540322580645161,
           0.2540322580645161,
           0.24596774193548387,
           0.24193548387096775,
           0.24193548387096775,
           0.24193548387096775,
           0.23790322580645162,
           0.21774193548387097
          ],
          [
           0.4435483870967742,
           0.36693548387096775,
           0.3346774193548387,
           0.32661290322580644,
           0.3185483870967742,
           0.3024193548387097,
           0.29838709677419356,
           0.29435483870967744,
           0.2903225806451613,
           0.2862903225806452,
           0.27419354838709675,
           0.2661290322580645,
           0.2661290322580645,
           0.2620967741935484,
           0.25806451612903225,
           0.25806451612903225,
           0.2540322580645161,
           0.2540322580645161,
           0.25,
           0.24596774193548387,
           0.24596774193548387,
           0.23790322580645162,
           0.22580645161290322,
           0.22580645161290322,
           0.21774193548387097
          ],
          [
           0.4314516129032258,
           0.4314516129032258,
           0.4112903225806452,
           0.35080645161290325,
           0.3346774193548387,
           0.3346774193548387,
           0.32661290322580644,
           0.3185483870967742,
           0.31048387096774194,
           0.29838709677419356,
           0.29838709677419356,
           0.28225806451612906,
           0.28225806451612906,
           0.2782258064516129,
           0.2661290322580645,
           0.2661290322580645,
           0.2661290322580645,
           0.24596774193548387,
           0.24193548387096775,
           0.23387096774193547,
           0.22983870967741934,
           0.22983870967741934,
           0.21370967741935484,
           0.2056451612903226,
           0.1935483870967742
          ],
          [
           0.40725806451612906,
           0.3548387096774194,
           0.3346774193548387,
           0.33064516129032256,
           0.3225806451612903,
           0.3185483870967742,
           0.3064516129032258,
           0.3024193548387097,
           0.3024193548387097,
           0.3024193548387097,
           0.29838709677419356,
           0.2903225806451613,
           0.2862903225806452,
           0.2782258064516129,
           0.27419354838709675,
           0.27419354838709675,
           0.2540322580645161,
           0.25,
           0.24596774193548387,
           0.22983870967741934,
           0.21774193548387097,
           0.20967741935483872,
           0.20161290322580644,
           0.1935483870967742,
           0.1935483870967742
          ],
          [
           0.4879032258064516,
           0.46774193548387094,
           0.43951612903225806,
           0.4153225806451613,
           0.40725806451612906,
           0.3870967741935484,
           0.3629032258064516,
           0.3467741935483871,
           0.3346774193548387,
           0.33064516129032256,
           0.3185483870967742,
           0.31451612903225806,
           0.3024193548387097,
           0.29435483870967744,
           0.2903225806451613,
           0.2862903225806452,
           0.25806451612903225,
           0.25,
           0.24193548387096775,
           0.23387096774193547,
           0.22983870967741934,
           0.2056451612903226,
           0.1975806451612903,
           0.1935483870967742,
           0.1935483870967742
          ],
          [
           0.4112903225806452,
           0.4112903225806452,
           0.36693548387096775,
           0.3548387096774194,
           0.3346774193548387,
           0.33064516129032256,
           0.3225806451612903,
           0.3225806451612903,
           0.3225806451612903,
           0.3185483870967742,
           0.31048387096774194,
           0.31048387096774194,
           0.3064516129032258,
           0.3064516129032258,
           0.29838709677419356,
           0.2903225806451613,
           0.2903225806451613,
           0.2903225806451613,
           0.2661290322580645,
           0.25,
           0.23790322580645162,
           0.22983870967741934,
           0.21774193548387097,
           0.21774193548387097,
           0.1935483870967742
          ],
          [
           0.6088709677419355,
           0.45161290322580644,
           0.43951612903225806,
           0.3951612903225806,
           0.3911290322580645,
           0.3709677419354839,
           0.36693548387096775,
           0.3548387096774194,
           0.3467741935483871,
           0.34274193548387094,
           0.34274193548387094,
           0.3387096774193548,
           0.3346774193548387,
           0.33064516129032256,
           0.33064516129032256,
           0.33064516129032256,
           0.32661290322580644,
           0.32661290322580644,
           0.3225806451612903,
           0.3024193548387097,
           0.29838709677419356,
           0.2903225806451613,
           0.2782258064516129,
           0.2620967741935484,
           0.1935483870967742
          ],
          [
           0.6169354838709677,
           0.5241935483870968,
           0.5040322580645161,
           0.4959677419354839,
           0.47580645161290325,
           0.4475806451612903,
           0.4475806451612903,
           0.43548387096774194,
           0.3951612903225806,
           0.3911290322580645,
           0.3911290322580645,
           0.3870967741935484,
           0.375,
           0.375,
           0.375,
           0.3709677419354839,
           0.36693548387096775,
           0.3588709677419355,
           0.3588709677419355,
           0.3467741935483871,
           0.3387096774193548,
           0.3387096774193548,
           0.3346774193548387,
           0.3225806451612903,
           0.3064516129032258
          ],
          [
           0.5201612903225806,
           0.49193548387096775,
           0.4879032258064516,
           0.4475806451612903,
           0.4314516129032258,
           0.41935483870967744,
           0.4153225806451613,
           0.4112903225806452,
           0.4112903225806452,
           0.40725806451612906,
           0.3870967741935484,
           0.3790322580645161,
           0.375,
           0.3709677419354839,
           0.3629032258064516,
           0.3387096774193548,
           0.3387096774193548,
           0.33064516129032256,
           0.32661290322580644,
           0.3185483870967742,
           0.31451612903225806,
           0.29435483870967744,
           0.24193548387096775,
           0.23790322580645162,
           0.22580645161290322
          ],
          [
           0.6048387096774194,
           0.5846774193548387,
           0.5483870967741935,
           0.5282258064516129,
           0.47580645161290325,
           0.47580645161290325,
           0.46774193548387094,
           0.4637096774193548,
           0.45161290322580644,
           0.43951612903225806,
           0.4314516129032258,
           0.41935483870967744,
           0.4153225806451613,
           0.40725806451612906,
           0.40725806451612906,
           0.39919354838709675,
           0.3951612903225806,
           0.375,
           0.3709677419354839,
           0.3548387096774194,
           0.35080645161290325,
           0.3387096774193548,
           0.31048387096774194,
           0.29435483870967744,
           0.2782258064516129
          ],
          [
           0.6733870967741935,
           0.6129032258064516,
           0.5806451612903226,
           0.5766129032258065,
           0.5685483870967742,
           0.5362903225806451,
           0.532258064516129,
           0.5241935483870968,
           0.4838709677419355,
           0.4838709677419355,
           0.4838709677419355,
           0.4717741935483871,
           0.46774193548387094,
           0.4435483870967742,
           0.43548387096774194,
           0.42338709677419356,
           0.42338709677419356,
           0.4112903225806452,
           0.38306451612903225,
           0.3790322580645161,
           0.3346774193548387,
           0.33064516129032256,
           0.29435483870967744,
           0.25806451612903225,
           0.2056451612903226
          ],
          [
           0.6411290322580645,
           0.5766129032258065,
           0.5725806451612904,
           0.5483870967741935,
           0.5403225806451613,
           0.5201612903225806,
           0.5201612903225806,
           0.5161290322580645,
           0.5080645161290323,
           0.4959677419354839,
           0.4879032258064516,
           0.4879032258064516,
           0.4838709677419355,
           0.4798387096774194,
           0.45564516129032256,
           0.45161290322580644,
           0.4435483870967742,
           0.42338709677419356,
           0.40725806451612906,
           0.38306451612903225,
           0.375,
           0.3629032258064516,
           0.3225806451612903,
           0.3024193548387097,
           0.2862903225806452
          ],
          [
           0.6814516129032258,
           0.6774193548387096,
           0.6653225806451613,
           0.6088709677419355,
           0.5766129032258065,
           0.5645161290322581,
           0.5604838709677419,
           0.5282258064516129,
           0.5080645161290323,
           0.5,
           0.4879032258064516,
           0.46774193548387094,
           0.4314516129032258,
           0.4274193548387097,
           0.41935483870967744,
           0.4153225806451613,
           0.3951612903225806,
           0.3790322580645161,
           0.3629032258064516,
           0.3629032258064516,
           0.3548387096774194,
           0.3225806451612903,
           0.3225806451612903,
           0.31451612903225806,
           0.2217741935483871
          ],
          [
           0.7258064516129032,
           0.7016129032258065,
           0.6451612903225806,
           0.6169354838709677,
           0.5766129032258065,
           0.5645161290322581,
           0.5564516129032258,
           0.5443548387096774,
           0.5403225806451613,
           0.5362903225806451,
           0.5201612903225806,
           0.5,
           0.4637096774193548,
           0.45161290322580644,
           0.43548387096774194,
           0.4314516129032258,
           0.4274193548387097,
           0.4032258064516129,
           0.4032258064516129,
           0.3951612903225806,
           0.3629032258064516,
           0.35080645161290325,
           0.3467741935483871,
           0.29838709677419356,
           0.23387096774193547
          ],
          [
           0.8145161290322581,
           0.7258064516129032,
           0.6411290322580645,
           0.625,
           0.5887096774193549,
           0.5846774193548387,
           0.5806451612903226,
           0.5725806451612904,
           0.5725806451612904,
           0.5645161290322581,
           0.5645161290322581,
           0.5524193548387096,
           0.5362903225806451,
           0.5120967741935484,
           0.5,
           0.49193548387096775,
           0.45564516129032256,
           0.4475806451612903,
           0.43548387096774194,
           0.43548387096774194,
           0.42338709677419356,
           0.3951612903225806,
           0.3911290322580645,
           0.3790322580645161,
           0.24193548387096775
          ],
          [
           0.6693548387096774,
           0.6451612903225806,
           0.6209677419354839,
           0.6169354838709677,
           0.6088709677419355,
           0.5887096774193549,
           0.5604838709677419,
           0.5564516129032258,
           0.5524193548387096,
           0.5362903225806451,
           0.5241935483870968,
           0.5080645161290323,
           0.4959677419354839,
           0.4798387096774194,
           0.4717741935483871,
           0.4637096774193548,
           0.4596774193548387,
           0.4032258064516129,
           0.3951612903225806,
           0.3870967741935484,
           0.3709677419354839,
           0.3588709677419355,
           0.3548387096774194,
           0.31451612903225806,
           0.2540322580645161
          ],
          [
           0.7661290322580645,
           0.7459677419354839,
           0.6814516129032258,
           0.6733870967741935,
           0.6612903225806451,
           0.657258064516129,
           0.6008064516129032,
           0.5967741935483871,
           0.5887096774193549,
           0.5887096774193549,
           0.5766129032258065,
           0.5685483870967742,
           0.5362903225806451,
           0.5362903225806451,
           0.5241935483870968,
           0.4838709677419355,
           0.4798387096774194,
           0.43548387096774194,
           0.4314516129032258,
           0.42338709677419356,
           0.4153225806451613,
           0.4112903225806452,
           0.4032258064516129,
           0.3709677419354839,
           0.3629032258064516
          ],
          [
           0.7580645161290323,
           0.6975806451612904,
           0.6854838709677419,
           0.6653225806451613,
           0.6532258064516129,
           0.6532258064516129,
           0.6451612903225806,
           0.6411290322580645,
           0.6088709677419355,
           0.6008064516129032,
           0.5604838709677419,
           0.5443548387096774,
           0.5080645161290323,
           0.49193548387096775,
           0.49193548387096775,
           0.47580645161290325,
           0.46774193548387094,
           0.4596774193548387,
           0.45564516129032256,
           0.43548387096774194,
           0.4153225806451613,
           0.40725806451612906,
           0.3951612903225806,
           0.31451612903225806,
           0.23790322580645162
          ],
          [
           0.717741935483871,
           0.6814516129032258,
           0.657258064516129,
           0.6129032258064516,
           0.6088709677419355,
           0.6008064516129032,
           0.5887096774193549,
           0.5846774193548387,
           0.5766129032258065,
           0.5685483870967742,
           0.5645161290322581,
           0.5645161290322581,
           0.5564516129032258,
           0.5483870967741935,
           0.5443548387096774,
           0.5362903225806451,
           0.532258064516129,
           0.5201612903225806,
           0.5,
           0.4717741935483871,
           0.42338709677419356,
           0.39919354838709675,
           0.36693548387096775,
           0.3548387096774194,
           0.28225806451612906
          ],
          [
           0.7096774193548387,
           0.7056451612903226,
           0.657258064516129,
           0.6370967741935484,
           0.6209677419354839,
           0.5967741935483871,
           0.5806451612903226,
           0.5685483870967742,
           0.5604838709677419,
           0.5282258064516129,
           0.5282258064516129,
           0.5201612903225806,
           0.5080645161290323,
           0.4838709677419355,
           0.4798387096774194,
           0.4637096774193548,
           0.3870967741935484,
           0.3548387096774194,
           0.35080645161290325,
           0.3467741935483871,
           0.34274193548387094,
           0.33064516129032256,
           0.31451612903225806,
           0.31048387096774194,
           0.22983870967741934
          ],
          [
           0.7258064516129032,
           0.6330645161290323,
           0.5967741935483871,
           0.5846774193548387,
           0.5685483870967742,
           0.5443548387096774,
           0.5403225806451613,
           0.4959677419354839,
           0.49193548387096775,
           0.4838709677419355,
           0.47580645161290325,
           0.47580645161290325,
           0.4435483870967742,
           0.43951612903225806,
           0.4274193548387097,
           0.4274193548387097,
           0.42338709677419356,
           0.3790322580645161,
           0.375,
           0.3588709677419355,
           0.3467741935483871,
           0.3387096774193548,
           0.2903225806451613,
           0.24596774193548387,
           0.21370967741935484
          ],
          [
           0.7540322580645161,
           0.6975806451612904,
           0.6370967741935484,
           0.5806451612903226,
           0.5806451612903226,
           0.5766129032258065,
           0.5443548387096774,
           0.5362903225806451,
           0.5241935483870968,
           0.5161290322580645,
           0.5080645161290323,
           0.4959677419354839,
           0.4475806451612903,
           0.4112903225806452,
           0.3588709677419355,
           0.3467741935483871,
           0.34274193548387094,
           0.33064516129032256,
           0.3225806451612903,
           0.3185483870967742,
           0.29838709677419356,
           0.29435483870967744,
           0.24596774193548387,
           0.22580645161290322,
           0.20967741935483872
          ],
          [
           0.717741935483871,
           0.6895161290322581,
           0.6774193548387096,
           0.6612903225806451,
           0.6612903225806451,
           0.6532258064516129,
           0.6370967741935484,
           0.6290322580645161,
           0.6169354838709677,
           0.6008064516129032,
           0.5887096774193549,
           0.5766129032258065,
           0.532258064516129,
           0.5040322580645161,
           0.4959677419354839,
           0.47580645161290325,
           0.4435483870967742,
           0.4435483870967742,
           0.4112903225806452,
           0.3951612903225806,
           0.38306451612903225,
           0.36693548387096775,
           0.3629032258064516,
           0.31451612903225806,
           0.2862903225806452
          ],
          [
           0.7217741935483871,
           0.6854838709677419,
           0.6733870967741935,
           0.6411290322580645,
           0.6048387096774194,
           0.5524193548387096,
           0.5403225806451613,
           0.5362903225806451,
           0.5201612903225806,
           0.5040322580645161,
           0.4959677419354839,
           0.4838709677419355,
           0.47580645161290325,
           0.46774193548387094,
           0.46774193548387094,
           0.4637096774193548,
           0.40725806451612906,
           0.3951612903225806,
           0.3911290322580645,
           0.36693548387096775,
           0.3629032258064516,
           0.3467741935483871,
           0.33064516129032256,
           0.3225806451612903,
           0.24596774193548387
          ],
          [
           0.6854838709677419,
           0.6653225806451613,
           0.6451612903225806,
           0.6209677419354839,
           0.6129032258064516,
           0.6048387096774194,
           0.5766129032258065,
           0.5766129032258065,
           0.5564516129032258,
           0.5483870967741935,
           0.5120967741935484,
           0.5080645161290323,
           0.5040322580645161,
           0.49193548387096775,
           0.4798387096774194,
           0.46774193548387094,
           0.4475806451612903,
           0.4153225806451613,
           0.4032258064516129,
           0.39919354838709675,
           0.3588709677419355,
           0.31048387096774194,
           0.3064516129032258,
           0.29435483870967744,
           0.22580645161290322
          ],
          [
           0.6854838709677419,
           0.6612903225806451,
           0.6491935483870968,
           0.5887096774193549,
           0.5846774193548387,
           0.5846774193548387,
           0.5483870967741935,
           0.532258064516129,
           0.5120967741935484,
           0.5120967741935484,
           0.5080645161290323,
           0.5,
           0.5,
           0.4637096774193548,
           0.4637096774193548,
           0.45161290322580644,
           0.4435483870967742,
           0.43548387096774194,
           0.40725806451612906,
           0.4032258064516129,
           0.3911290322580645,
           0.375,
           0.31451612903225806,
           0.3024193548387097,
           0.2540322580645161
          ],
          [
           0.7096774193548387,
           0.6814516129032258,
           0.6693548387096774,
           0.6491935483870968,
           0.6088709677419355,
           0.5846774193548387,
           0.5766129032258065,
           0.5604838709677419,
           0.5241935483870968,
           0.5080645161290323,
           0.5,
           0.49193548387096775,
           0.45564516129032256,
           0.4475806451612903,
           0.43951612903225806,
           0.4314516129032258,
           0.4274193548387097,
           0.3951612903225806,
           0.3911290322580645,
           0.3387096774193548,
           0.33064516129032256,
           0.3225806451612903,
           0.25806451612903225,
           0.25,
           0.21370967741935484
          ],
          [
           0.7137096774193549,
           0.6451612903225806,
           0.6370967741935484,
           0.6129032258064516,
           0.592741935483871,
           0.5241935483870968,
           0.5161290322580645,
           0.5120967741935484,
           0.5,
           0.49193548387096775,
           0.43951612903225806,
           0.4112903225806452,
           0.40725806451612906,
           0.375,
           0.3629032258064516,
           0.3588709677419355,
           0.34274193548387094,
           0.3387096774193548,
           0.3346774193548387,
           0.31451612903225806,
           0.3024193548387097,
           0.2862903225806452,
           0.23790322580645162,
           0.23387096774193547,
           0.22983870967741934
          ],
          [
           0.7096774193548387,
           0.7096774193548387,
           0.6129032258064516,
           0.592741935483871,
           0.5887096774193549,
           0.5846774193548387,
           0.5766129032258065,
           0.5040322580645161,
           0.45564516129032256,
           0.4435483870967742,
           0.43951612903225806,
           0.43951612903225806,
           0.4314516129032258,
           0.4112903225806452,
           0.4032258064516129,
           0.3951612903225806,
           0.3911290322580645,
           0.3548387096774194,
           0.35080645161290325,
           0.33064516129032256,
           0.3225806451612903,
           0.3064516129032258,
           0.3064516129032258,
           0.29838709677419356,
           0.2701612903225806
          ],
          [
           0.7379032258064516,
           0.7016129032258065,
           0.6612903225806451,
           0.6451612903225806,
           0.6048387096774194,
           0.6008064516129032,
           0.5040322580645161,
           0.46774193548387094,
           0.45564516129032256,
           0.4475806451612903,
           0.4435483870967742,
           0.4032258064516129,
           0.4032258064516129,
           0.4032258064516129,
           0.3790322580645161,
           0.3790322580645161,
           0.36693548387096775,
           0.3629032258064516,
           0.3225806451612903,
           0.29435483870967744,
           0.2620967741935484,
           0.25,
           0.22983870967741934,
           0.22580645161290322,
           0.2056451612903226
          ],
          [
           0.6290322580645161,
           0.6209677419354839,
           0.6088709677419355,
           0.5403225806451613,
           0.5201612903225806,
           0.4959677419354839,
           0.4879032258064516,
           0.43951612903225806,
           0.43548387096774194,
           0.40725806451612906,
           0.40725806451612906,
           0.3911290322580645,
           0.3548387096774194,
           0.3548387096774194,
           0.3467741935483871,
           0.32661290322580644,
           0.31451612903225806,
           0.3064516129032258,
           0.29838709677419356,
           0.28225806451612906,
           0.27419354838709675,
           0.2661290322580645,
           0.25806451612903225,
           0.2540322580645161,
           0.25
          ],
          [
           0.6532258064516129,
           0.6451612903225806,
           0.592741935483871,
           0.5725806451612904,
           0.5524193548387096,
           0.5443548387096774,
           0.5282258064516129,
           0.5241935483870968,
           0.5201612903225806,
           0.5120967741935484,
           0.4838709677419355,
           0.4435483870967742,
           0.43548387096774194,
           0.4274193548387097,
           0.42338709677419356,
           0.4112903225806452,
           0.375,
           0.36693548387096775,
           0.36693548387096775,
           0.3629032258064516,
           0.3629032258064516,
           0.3346774193548387,
           0.3185483870967742,
           0.28225806451612906,
           0.1935483870967742
          ],
          [
           0.6491935483870968,
           0.6370967741935484,
           0.6330645161290323,
           0.5887096774193549,
           0.5685483870967742,
           0.5403225806451613,
           0.5161290322580645,
           0.5,
           0.4959677419354839,
           0.47580645161290325,
           0.46774193548387094,
           0.4475806451612903,
           0.4274193548387097,
           0.41935483870967744,
           0.40725806451612906,
           0.3951612903225806,
           0.3870967741935484,
           0.3790322580645161,
           0.3790322580645161,
           0.3467741935483871,
           0.34274193548387094,
           0.32661290322580644,
           0.31451612903225806,
           0.31451612903225806,
           0.23790322580645162
          ],
          [
           0.7137096774193549,
           0.6209677419354839,
           0.5967741935483871,
           0.5403225806451613,
           0.532258064516129,
           0.5282258064516129,
           0.4879032258064516,
           0.4637096774193548,
           0.4475806451612903,
           0.4435483870967742,
           0.43951612903225806,
           0.4314516129032258,
           0.4032258064516129,
           0.3911290322580645,
           0.3548387096774194,
           0.3467741935483871,
           0.3225806451612903,
           0.3185483870967742,
           0.3185483870967742,
           0.31048387096774194,
           0.2903225806451613,
           0.2903225806451613,
           0.2782258064516129,
           0.2620967741935484,
           0.23790322580645162
          ],
          [
           0.6774193548387096,
           0.657258064516129,
           0.5967741935483871,
           0.5645161290322581,
           0.4435483870967742,
           0.42338709677419356,
           0.42338709677419356,
           0.4153225806451613,
           0.4112903225806452,
           0.4032258064516129,
           0.3709677419354839,
           0.36693548387096775,
           0.3629032258064516,
           0.3629032258064516,
           0.3467741935483871,
           0.34274193548387094,
           0.3346774193548387,
           0.32661290322580644,
           0.3225806451612903,
           0.3185483870967742,
           0.31451612903225806,
           0.3024193548387097,
           0.2903225806451613,
           0.25,
           0.22983870967741934
          ],
          [
           0.6774193548387096,
           0.6330645161290323,
           0.6290322580645161,
           0.5846774193548387,
           0.5806451612903226,
           0.5282258064516129,
           0.5201612903225806,
           0.5080645161290323,
           0.5080645161290323,
           0.49193548387096775,
           0.49193548387096775,
           0.4879032258064516,
           0.4879032258064516,
           0.4879032258064516,
           0.4596774193548387,
           0.4475806451612903,
           0.43548387096774194,
           0.42338709677419356,
           0.3629032258064516,
           0.3064516129032258,
           0.2903225806451613,
           0.2782258064516129,
           0.25,
           0.2217741935483871,
           0.1975806451612903
          ],
          [
           0.7338709677419355,
           0.6411290322580645,
           0.6048387096774194,
           0.5604838709677419,
           0.5362903225806451,
           0.5,
           0.4798387096774194,
           0.4717741935483871,
           0.4596774193548387,
           0.45161290322580644,
           0.42338709677419356,
           0.41935483870967744,
           0.40725806451612906,
           0.40725806451612906,
           0.3951612903225806,
           0.3951612903225806,
           0.375,
           0.3588709677419355,
           0.3346774193548387,
           0.3064516129032258,
           0.3024193548387097,
           0.2903225806451613,
           0.2701612903225806,
           0.2620967741935484,
           0.2540322580645161
          ],
          [
           0.6975806451612904,
           0.6935483870967742,
           0.6774193548387096,
           0.6733870967741935,
           0.5604838709677419,
           0.5524193548387096,
           0.5403225806451613,
           0.5362903225806451,
           0.5,
           0.4959677419354839,
           0.4798387096774194,
           0.43951612903225806,
           0.4274193548387097,
           0.41935483870967744,
           0.4153225806451613,
           0.40725806451612906,
           0.39919354838709675,
           0.375,
           0.3548387096774194,
           0.3346774193548387,
           0.33064516129032256,
           0.27419354838709675,
           0.22983870967741934,
           0.22580645161290322,
           0.2056451612903226
          ],
          [
           0.6975806451612904,
           0.6370967741935484,
           0.5967741935483871,
           0.5967741935483871,
           0.5806451612903226,
           0.5403225806451613,
           0.5201612903225806,
           0.4959677419354839,
           0.4838709677419355,
           0.46774193548387094,
           0.4596774193548387,
           0.4596774193548387,
           0.45161290322580644,
           0.4314516129032258,
           0.40725806451612906,
           0.39919354838709675,
           0.39919354838709675,
           0.3951612903225806,
           0.3629032258064516,
           0.3588709677419355,
           0.35080645161290325,
           0.3225806451612903,
           0.29838709677419356,
           0.2903225806451613,
           0.22580645161290322
          ],
          [
           0.6209677419354839,
           0.6129032258064516,
           0.6129032258064516,
           0.6129032258064516,
           0.6048387096774194,
           0.6048387096774194,
           0.5846774193548387,
           0.5806451612903226,
           0.5766129032258065,
           0.5766129032258065,
           0.5564516129032258,
           0.5201612903225806,
           0.5040322580645161,
           0.49193548387096775,
           0.4838709677419355,
           0.47580645161290325,
           0.46774193548387094,
           0.46774193548387094,
           0.4637096774193548,
           0.4596774193548387,
           0.45564516129032256,
           0.45564516129032256,
           0.4314516129032258,
           0.4314516129032258,
           0.3467741935483871
          ],
          [
           0.6370967741935484,
           0.6330645161290323,
           0.6169354838709677,
           0.6048387096774194,
           0.592741935483871,
           0.5887096774193549,
           0.5846774193548387,
           0.5806451612903226,
           0.5725806451612904,
           0.5403225806451613,
           0.5403225806451613,
           0.5403225806451613,
           0.532258064516129,
           0.5241935483870968,
           0.5201612903225806,
           0.5201612903225806,
           0.5161290322580645,
           0.5161290322580645,
           0.49193548387096775,
           0.4838709677419355,
           0.4838709677419355,
           0.4838709677419355,
           0.4314516129032258,
           0.42338709677419356,
           0.41935483870967744
          ]
         ]
        }
       ],
       "layout": {
        "coloraxis": {
         "cmid": 0,
         "colorscale": [
          [
           0,
           "rgb(103,0,31)"
          ],
          [
           0.1,
           "rgb(178,24,43)"
          ],
          [
           0.2,
           "rgb(214,96,77)"
          ],
          [
           0.3,
           "rgb(244,165,130)"
          ],
          [
           0.4,
           "rgb(253,219,199)"
          ],
          [
           0.5,
           "rgb(247,247,247)"
          ],
          [
           0.6,
           "rgb(209,229,240)"
          ],
          [
           0.7,
           "rgb(146,197,222)"
          ],
          [
           0.8,
           "rgb(67,147,195)"
          ],
          [
           0.9,
           "rgb(33,102,172)"
          ],
          [
           1,
           "rgb(5,48,97)"
          ]
         ]
        },
        "template": {
         "data": {
          "bar": [
           {
            "error_x": {
             "color": "#2a3f5f"
            },
            "error_y": {
             "color": "#2a3f5f"
            },
            "marker": {
             "line": {
              "color": "#E5ECF6",
              "width": 0.5
             },
             "pattern": {
              "fillmode": "overlay",
              "size": 10,
              "solidity": 0.2
             }
            },
            "type": "bar"
           }
          ],
          "barpolar": [
           {
            "marker": {
             "line": {
              "color": "#E5ECF6",
              "width": 0.5
             },
             "pattern": {
              "fillmode": "overlay",
              "size": 10,
              "solidity": 0.2
             }
            },
            "type": "barpolar"
           }
          ],
          "carpet": [
           {
            "aaxis": {
             "endlinecolor": "#2a3f5f",
             "gridcolor": "white",
             "linecolor": "white",
             "minorgridcolor": "white",
             "startlinecolor": "#2a3f5f"
            },
            "baxis": {
             "endlinecolor": "#2a3f5f",
             "gridcolor": "white",
             "linecolor": "white",
             "minorgridcolor": "white",
             "startlinecolor": "#2a3f5f"
            },
            "type": "carpet"
           }
          ],
          "choropleth": [
           {
            "colorbar": {
             "outlinewidth": 0,
             "ticks": ""
            },
            "type": "choropleth"
           }
          ],
          "contour": [
           {
            "colorbar": {
             "outlinewidth": 0,
             "ticks": ""
            },
            "colorscale": [
             [
              0,
              "#0d0887"
             ],
             [
              0.1111111111111111,
              "#46039f"
             ],
             [
              0.2222222222222222,
              "#7201a8"
             ],
             [
              0.3333333333333333,
              "#9c179e"
             ],
             [
              0.4444444444444444,
              "#bd3786"
             ],
             [
              0.5555555555555556,
              "#d8576b"
             ],
             [
              0.6666666666666666,
              "#ed7953"
             ],
             [
              0.7777777777777778,
              "#fb9f3a"
             ],
             [
              0.8888888888888888,
              "#fdca26"
             ],
             [
              1,
              "#f0f921"
             ]
            ],
            "type": "contour"
           }
          ],
          "contourcarpet": [
           {
            "colorbar": {
             "outlinewidth": 0,
             "ticks": ""
            },
            "type": "contourcarpet"
           }
          ],
          "heatmap": [
           {
            "colorbar": {
             "outlinewidth": 0,
             "ticks": ""
            },
            "colorscale": [
             [
              0,
              "#0d0887"
             ],
             [
              0.1111111111111111,
              "#46039f"
             ],
             [
              0.2222222222222222,
              "#7201a8"
             ],
             [
              0.3333333333333333,
              "#9c179e"
             ],
             [
              0.4444444444444444,
              "#bd3786"
             ],
             [
              0.5555555555555556,
              "#d8576b"
             ],
             [
              0.6666666666666666,
              "#ed7953"
             ],
             [
              0.7777777777777778,
              "#fb9f3a"
             ],
             [
              0.8888888888888888,
              "#fdca26"
             ],
             [
              1,
              "#f0f921"
             ]
            ],
            "type": "heatmap"
           }
          ],
          "heatmapgl": [
           {
            "colorbar": {
             "outlinewidth": 0,
             "ticks": ""
            },
            "colorscale": [
             [
              0,
              "#0d0887"
             ],
             [
              0.1111111111111111,
              "#46039f"
             ],
             [
              0.2222222222222222,
              "#7201a8"
             ],
             [
              0.3333333333333333,
              "#9c179e"
             ],
             [
              0.4444444444444444,
              "#bd3786"
             ],
             [
              0.5555555555555556,
              "#d8576b"
             ],
             [
              0.6666666666666666,
              "#ed7953"
             ],
             [
              0.7777777777777778,
              "#fb9f3a"
             ],
             [
              0.8888888888888888,
              "#fdca26"
             ],
             [
              1,
              "#f0f921"
             ]
            ],
            "type": "heatmapgl"
           }
          ],
          "histogram": [
           {
            "marker": {
             "pattern": {
              "fillmode": "overlay",
              "size": 10,
              "solidity": 0.2
             }
            },
            "type": "histogram"
           }
          ],
          "histogram2d": [
           {
            "colorbar": {
             "outlinewidth": 0,
             "ticks": ""
            },
            "colorscale": [
             [
              0,
              "#0d0887"
             ],
             [
              0.1111111111111111,
              "#46039f"
             ],
             [
              0.2222222222222222,
              "#7201a8"
             ],
             [
              0.3333333333333333,
              "#9c179e"
             ],
             [
              0.4444444444444444,
              "#bd3786"
             ],
             [
              0.5555555555555556,
              "#d8576b"
             ],
             [
              0.6666666666666666,
              "#ed7953"
             ],
             [
              0.7777777777777778,
              "#fb9f3a"
             ],
             [
              0.8888888888888888,
              "#fdca26"
             ],
             [
              1,
              "#f0f921"
             ]
            ],
            "type": "histogram2d"
           }
          ],
          "histogram2dcontour": [
           {
            "colorbar": {
             "outlinewidth": 0,
             "ticks": ""
            },
            "colorscale": [
             [
              0,
              "#0d0887"
             ],
             [
              0.1111111111111111,
              "#46039f"
             ],
             [
              0.2222222222222222,
              "#7201a8"
             ],
             [
              0.3333333333333333,
              "#9c179e"
             ],
             [
              0.4444444444444444,
              "#bd3786"
             ],
             [
              0.5555555555555556,
              "#d8576b"
             ],
             [
              0.6666666666666666,
              "#ed7953"
             ],
             [
              0.7777777777777778,
              "#fb9f3a"
             ],
             [
              0.8888888888888888,
              "#fdca26"
             ],
             [
              1,
              "#f0f921"
             ]
            ],
            "type": "histogram2dcontour"
           }
          ],
          "mesh3d": [
           {
            "colorbar": {
             "outlinewidth": 0,
             "ticks": ""
            },
            "type": "mesh3d"
           }
          ],
          "parcoords": [
           {
            "line": {
             "colorbar": {
              "outlinewidth": 0,
              "ticks": ""
             }
            },
            "type": "parcoords"
           }
          ],
          "pie": [
           {
            "automargin": true,
            "type": "pie"
           }
          ],
          "scatter": [
           {
            "fillpattern": {
             "fillmode": "overlay",
             "size": 10,
             "solidity": 0.2
            },
            "type": "scatter"
           }
          ],
          "scatter3d": [
           {
            "line": {
             "colorbar": {
              "outlinewidth": 0,
              "ticks": ""
             }
            },
            "marker": {
             "colorbar": {
              "outlinewidth": 0,
              "ticks": ""
             }
            },
            "type": "scatter3d"
           }
          ],
          "scattercarpet": [
           {
            "marker": {
             "colorbar": {
              "outlinewidth": 0,
              "ticks": ""
             }
            },
            "type": "scattercarpet"
           }
          ],
          "scattergeo": [
           {
            "marker": {
             "colorbar": {
              "outlinewidth": 0,
              "ticks": ""
             }
            },
            "type": "scattergeo"
           }
          ],
          "scattergl": [
           {
            "marker": {
             "colorbar": {
              "outlinewidth": 0,
              "ticks": ""
             }
            },
            "type": "scattergl"
           }
          ],
          "scattermapbox": [
           {
            "marker": {
             "colorbar": {
              "outlinewidth": 0,
              "ticks": ""
             }
            },
            "type": "scattermapbox"
           }
          ],
          "scatterpolar": [
           {
            "marker": {
             "colorbar": {
              "outlinewidth": 0,
              "ticks": ""
             }
            },
            "type": "scatterpolar"
           }
          ],
          "scatterpolargl": [
           {
            "marker": {
             "colorbar": {
              "outlinewidth": 0,
              "ticks": ""
             }
            },
            "type": "scatterpolargl"
           }
          ],
          "scatterternary": [
           {
            "marker": {
             "colorbar": {
              "outlinewidth": 0,
              "ticks": ""
             }
            },
            "type": "scatterternary"
           }
          ],
          "surface": [
           {
            "colorbar": {
             "outlinewidth": 0,
             "ticks": ""
            },
            "colorscale": [
             [
              0,
              "#0d0887"
             ],
             [
              0.1111111111111111,
              "#46039f"
             ],
             [
              0.2222222222222222,
              "#7201a8"
             ],
             [
              0.3333333333333333,
              "#9c179e"
             ],
             [
              0.4444444444444444,
              "#bd3786"
             ],
             [
              0.5555555555555556,
              "#d8576b"
             ],
             [
              0.6666666666666666,
              "#ed7953"
             ],
             [
              0.7777777777777778,
              "#fb9f3a"
             ],
             [
              0.8888888888888888,
              "#fdca26"
             ],
             [
              1,
              "#f0f921"
             ]
            ],
            "type": "surface"
           }
          ],
          "table": [
           {
            "cells": {
             "fill": {
              "color": "#EBF0F8"
             },
             "line": {
              "color": "white"
             }
            },
            "header": {
             "fill": {
              "color": "#C8D4E3"
             },
             "line": {
              "color": "white"
             }
            },
            "type": "table"
           }
          ]
         },
         "layout": {
          "annotationdefaults": {
           "arrowcolor": "#2a3f5f",
           "arrowhead": 0,
           "arrowwidth": 1
          },
          "autotypenumbers": "strict",
          "coloraxis": {
           "colorbar": {
            "outlinewidth": 0,
            "ticks": ""
           }
          },
          "colorscale": {
           "diverging": [
            [
             0,
             "#8e0152"
            ],
            [
             0.1,
             "#c51b7d"
            ],
            [
             0.2,
             "#de77ae"
            ],
            [
             0.3,
             "#f1b6da"
            ],
            [
             0.4,
             "#fde0ef"
            ],
            [
             0.5,
             "#f7f7f7"
            ],
            [
             0.6,
             "#e6f5d0"
            ],
            [
             0.7,
             "#b8e186"
            ],
            [
             0.8,
             "#7fbc41"
            ],
            [
             0.9,
             "#4d9221"
            ],
            [
             1,
             "#276419"
            ]
           ],
           "sequential": [
            [
             0,
             "#0d0887"
            ],
            [
             0.1111111111111111,
             "#46039f"
            ],
            [
             0.2222222222222222,
             "#7201a8"
            ],
            [
             0.3333333333333333,
             "#9c179e"
            ],
            [
             0.4444444444444444,
             "#bd3786"
            ],
            [
             0.5555555555555556,
             "#d8576b"
            ],
            [
             0.6666666666666666,
             "#ed7953"
            ],
            [
             0.7777777777777778,
             "#fb9f3a"
            ],
            [
             0.8888888888888888,
             "#fdca26"
            ],
            [
             1,
             "#f0f921"
            ]
           ],
           "sequentialminus": [
            [
             0,
             "#0d0887"
            ],
            [
             0.1111111111111111,
             "#46039f"
            ],
            [
             0.2222222222222222,
             "#7201a8"
            ],
            [
             0.3333333333333333,
             "#9c179e"
            ],
            [
             0.4444444444444444,
             "#bd3786"
            ],
            [
             0.5555555555555556,
             "#d8576b"
            ],
            [
             0.6666666666666666,
             "#ed7953"
            ],
            [
             0.7777777777777778,
             "#fb9f3a"
            ],
            [
             0.8888888888888888,
             "#fdca26"
            ],
            [
             1,
             "#f0f921"
            ]
           ]
          },
          "colorway": [
           "#636efa",
           "#EF553B",
           "#00cc96",
           "#ab63fa",
           "#FFA15A",
           "#19d3f3",
           "#FF6692",
           "#B6E880",
           "#FF97FF",
           "#FECB52"
          ],
          "font": {
           "color": "#2a3f5f"
          },
          "geo": {
           "bgcolor": "white",
           "lakecolor": "white",
           "landcolor": "#E5ECF6",
           "showlakes": true,
           "showland": true,
           "subunitcolor": "white"
          },
          "hoverlabel": {
           "align": "left"
          },
          "hovermode": "closest",
          "mapbox": {
           "style": "light"
          },
          "paper_bgcolor": "white",
          "plot_bgcolor": "#E5ECF6",
          "polar": {
           "angularaxis": {
            "gridcolor": "white",
            "linecolor": "white",
            "ticks": ""
           },
           "bgcolor": "#E5ECF6",
           "radialaxis": {
            "gridcolor": "white",
            "linecolor": "white",
            "ticks": ""
           }
          },
          "scene": {
           "xaxis": {
            "backgroundcolor": "#E5ECF6",
            "gridcolor": "white",
            "gridwidth": 2,
            "linecolor": "white",
            "showbackground": true,
            "ticks": "",
            "zerolinecolor": "white"
           },
           "yaxis": {
            "backgroundcolor": "#E5ECF6",
            "gridcolor": "white",
            "gridwidth": 2,
            "linecolor": "white",
            "showbackground": true,
            "ticks": "",
            "zerolinecolor": "white"
           },
           "zaxis": {
            "backgroundcolor": "#E5ECF6",
            "gridcolor": "white",
            "gridwidth": 2,
            "linecolor": "white",
            "showbackground": true,
            "ticks": "",
            "zerolinecolor": "white"
           }
          },
          "shapedefaults": {
           "line": {
            "color": "#2a3f5f"
           }
          },
          "ternary": {
           "aaxis": {
            "gridcolor": "white",
            "linecolor": "white",
            "ticks": ""
           },
           "baxis": {
            "gridcolor": "white",
            "linecolor": "white",
            "ticks": ""
           },
           "bgcolor": "#E5ECF6",
           "caxis": {
            "gridcolor": "white",
            "linecolor": "white",
            "ticks": ""
           }
          },
          "title": {
           "x": 0.05
          },
          "xaxis": {
           "automargin": true,
           "gridcolor": "white",
           "linecolor": "white",
           "ticks": "",
           "title": {
            "standoff": 15
           },
           "zerolinecolor": "white",
           "zerolinewidth": 2
          },
          "yaxis": {
           "automargin": true,
           "gridcolor": "white",
           "linecolor": "white",
           "ticks": "",
           "title": {
            "standoff": 15
           },
           "zerolinecolor": "white",
           "zerolinewidth": 2
          }
         }
        },
        "title": {
         "text": "Sorted Probe Accuracies on Capitals"
        },
        "xaxis": {
         "anchor": "y",
         "constrain": "domain",
         "domain": [
          0,
          1
         ],
         "scaleanchor": "y",
         "title": {
          "text": "Heads (sorted)"
         }
        },
        "yaxis": {
         "anchor": "x",
         "autorange": true,
         "constrain": "domain",
         "domain": [
          0,
          1
         ],
         "title": {
          "text": "Layers"
         }
        }
       }
      },
      "text/html": [
       "<div>                            <div id=\"3c8d2277-06c7-4ffe-a4b1-dd855075c7f0\" class=\"plotly-graph-div\" style=\"height:525px; width:100%;\"></div>            <script type=\"text/javascript\">                require([\"plotly\"], function(Plotly) {                    window.PLOTLYENV=window.PLOTLYENV || {};                                    if (document.getElementById(\"3c8d2277-06c7-4ffe-a4b1-dd855075c7f0\")) {                    Plotly.newPlot(                        \"3c8d2277-06c7-4ffe-a4b1-dd855075c7f0\",                        [{\"coloraxis\":\"coloraxis\",\"name\":\"0\",\"z\":[[0.20967741935483872,0.2056451612903226,0.1935483870967742,0.1935483870967742,0.1935483870967742,0.1935483870967742,0.1935483870967742,0.1935483870967742,0.1935483870967742,0.1935483870967742,0.1935483870967742,0.1935483870967742,0.1935483870967742,0.1935483870967742,0.1935483870967742,0.1935483870967742,0.1935483870967742,0.1935483870967742,0.1935483870967742,0.1935483870967742,0.1935483870967742,0.1935483870967742,0.1935483870967742,0.1935483870967742,0.1935483870967742],[0.375,0.3588709677419355,0.32661290322580644,0.3024193548387097,0.29838709677419356,0.2903225806451613,0.2862903225806452,0.2782258064516129,0.2782258064516129,0.2782258064516129,0.2701612903225806,0.2661290322580645,0.2620967741935484,0.25806451612903225,0.25806451612903225,0.25,0.24596774193548387,0.23790322580645162,0.23790322580645162,0.23387096774193547,0.23387096774193547,0.22983870967741934,0.22580645161290322,0.22580645161290322,0.1975806451612903],[0.4032258064516129,0.33064516129032256,0.3024193548387097,0.29435483870967744,0.2862903225806452,0.2782258064516129,0.2782258064516129,0.2782258064516129,0.27419354838709675,0.2701612903225806,0.2661290322580645,0.25806451612903225,0.25806451612903225,0.25806451612903225,0.25,0.24596774193548387,0.24596774193548387,0.23790322580645162,0.22580645161290322,0.22580645161290322,0.22580645161290322,0.2217741935483871,0.2056451612903226,0.20161290322580644,0.1774193548387097],[0.3346774193548387,0.32661290322580644,0.31048387096774194,0.3064516129032258,0.3024193548387097,0.2903225806451613,0.2903225806451613,0.28225806451612906,0.2782258064516129,0.2661290322580645,0.25806451612903225,0.2540322580645161,0.2540322580645161,0.2540322580645161,0.25,0.24596774193548387,0.24596774193548387,0.23790322580645162,0.23387096774193547,0.22580645161290322,0.22580645161290322,0.2217741935483871,0.21774193548387097,0.21370967741935484,0.20967741935483872],[0.3951612903225806,0.3629032258064516,0.3346774193548387,0.31451612903225806,0.29838709677419356,0.2862903225806452,0.28225806451612906,0.28225806451612906,0.28225806451612906,0.2782258064516129,0.2782258064516129,0.2661290322580645,0.2661290322580645,0.2661290322580645,0.25806451612903225,0.25,0.25,0.24596774193548387,0.24193548387096775,0.24193548387096775,0.23790322580645162,0.23387096774193547,0.21370967741935484,0.2056451612903226,0.1935483870967742],[0.4314516129032258,0.375,0.3588709677419355,0.3346774193548387,0.32661290322580644,0.3064516129032258,0.3064516129032258,0.3024193548387097,0.29435483870967744,0.29435483870967744,0.27419354838709675,0.27419354838709675,0.2661290322580645,0.25806451612903225,0.25,0.25,0.24596774193548387,0.24596774193548387,0.24193548387096775,0.23790322580645162,0.23790322580645162,0.23790322580645162,0.23387096774193547,0.2217741935483871,0.2217741935483871],[0.3709677419354839,0.32661290322580644,0.3225806451612903,0.31451612903225806,0.31451612903225806,0.31048387096774194,0.29838709677419356,0.29435483870967744,0.29435483870967744,0.2862903225806452,0.2661290322580645,0.2661290322580645,0.2620967741935484,0.2620967741935484,0.2620967741935484,0.25806451612903225,0.25806451612903225,0.2540322580645161,0.24596774193548387,0.24596774193548387,0.24193548387096775,0.23790322580645162,0.22580645161290322,0.2217741935483871,0.21774193548387097],[0.3548387096774194,0.3548387096774194,0.35080645161290325,0.33064516129032256,0.3024193548387097,0.29838709677419356,0.29435483870967744,0.2903225806451613,0.2903225806451613,0.2903225806451613,0.2903225806451613,0.27419354838709675,0.27419354838709675,0.2661290322580645,0.2620967741935484,0.2620967741935484,0.25806451612903225,0.2540322580645161,0.2540322580645161,0.24596774193548387,0.24193548387096775,0.24193548387096775,0.24193548387096775,0.23790322580645162,0.21774193548387097],[0.4435483870967742,0.36693548387096775,0.3346774193548387,0.32661290322580644,0.3185483870967742,0.3024193548387097,0.29838709677419356,0.29435483870967744,0.2903225806451613,0.2862903225806452,0.27419354838709675,0.2661290322580645,0.2661290322580645,0.2620967741935484,0.25806451612903225,0.25806451612903225,0.2540322580645161,0.2540322580645161,0.25,0.24596774193548387,0.24596774193548387,0.23790322580645162,0.22580645161290322,0.22580645161290322,0.21774193548387097],[0.4314516129032258,0.4314516129032258,0.4112903225806452,0.35080645161290325,0.3346774193548387,0.3346774193548387,0.32661290322580644,0.3185483870967742,0.31048387096774194,0.29838709677419356,0.29838709677419356,0.28225806451612906,0.28225806451612906,0.2782258064516129,0.2661290322580645,0.2661290322580645,0.2661290322580645,0.24596774193548387,0.24193548387096775,0.23387096774193547,0.22983870967741934,0.22983870967741934,0.21370967741935484,0.2056451612903226,0.1935483870967742],[0.40725806451612906,0.3548387096774194,0.3346774193548387,0.33064516129032256,0.3225806451612903,0.3185483870967742,0.3064516129032258,0.3024193548387097,0.3024193548387097,0.3024193548387097,0.29838709677419356,0.2903225806451613,0.2862903225806452,0.2782258064516129,0.27419354838709675,0.27419354838709675,0.2540322580645161,0.25,0.24596774193548387,0.22983870967741934,0.21774193548387097,0.20967741935483872,0.20161290322580644,0.1935483870967742,0.1935483870967742],[0.4879032258064516,0.46774193548387094,0.43951612903225806,0.4153225806451613,0.40725806451612906,0.3870967741935484,0.3629032258064516,0.3467741935483871,0.3346774193548387,0.33064516129032256,0.3185483870967742,0.31451612903225806,0.3024193548387097,0.29435483870967744,0.2903225806451613,0.2862903225806452,0.25806451612903225,0.25,0.24193548387096775,0.23387096774193547,0.22983870967741934,0.2056451612903226,0.1975806451612903,0.1935483870967742,0.1935483870967742],[0.4112903225806452,0.4112903225806452,0.36693548387096775,0.3548387096774194,0.3346774193548387,0.33064516129032256,0.3225806451612903,0.3225806451612903,0.3225806451612903,0.3185483870967742,0.31048387096774194,0.31048387096774194,0.3064516129032258,0.3064516129032258,0.29838709677419356,0.2903225806451613,0.2903225806451613,0.2903225806451613,0.2661290322580645,0.25,0.23790322580645162,0.22983870967741934,0.21774193548387097,0.21774193548387097,0.1935483870967742],[0.6088709677419355,0.45161290322580644,0.43951612903225806,0.3951612903225806,0.3911290322580645,0.3709677419354839,0.36693548387096775,0.3548387096774194,0.3467741935483871,0.34274193548387094,0.34274193548387094,0.3387096774193548,0.3346774193548387,0.33064516129032256,0.33064516129032256,0.33064516129032256,0.32661290322580644,0.32661290322580644,0.3225806451612903,0.3024193548387097,0.29838709677419356,0.2903225806451613,0.2782258064516129,0.2620967741935484,0.1935483870967742],[0.6169354838709677,0.5241935483870968,0.5040322580645161,0.4959677419354839,0.47580645161290325,0.4475806451612903,0.4475806451612903,0.43548387096774194,0.3951612903225806,0.3911290322580645,0.3911290322580645,0.3870967741935484,0.375,0.375,0.375,0.3709677419354839,0.36693548387096775,0.3588709677419355,0.3588709677419355,0.3467741935483871,0.3387096774193548,0.3387096774193548,0.3346774193548387,0.3225806451612903,0.3064516129032258],[0.5201612903225806,0.49193548387096775,0.4879032258064516,0.4475806451612903,0.4314516129032258,0.41935483870967744,0.4153225806451613,0.4112903225806452,0.4112903225806452,0.40725806451612906,0.3870967741935484,0.3790322580645161,0.375,0.3709677419354839,0.3629032258064516,0.3387096774193548,0.3387096774193548,0.33064516129032256,0.32661290322580644,0.3185483870967742,0.31451612903225806,0.29435483870967744,0.24193548387096775,0.23790322580645162,0.22580645161290322],[0.6048387096774194,0.5846774193548387,0.5483870967741935,0.5282258064516129,0.47580645161290325,0.47580645161290325,0.46774193548387094,0.4637096774193548,0.45161290322580644,0.43951612903225806,0.4314516129032258,0.41935483870967744,0.4153225806451613,0.40725806451612906,0.40725806451612906,0.39919354838709675,0.3951612903225806,0.375,0.3709677419354839,0.3548387096774194,0.35080645161290325,0.3387096774193548,0.31048387096774194,0.29435483870967744,0.2782258064516129],[0.6733870967741935,0.6129032258064516,0.5806451612903226,0.5766129032258065,0.5685483870967742,0.5362903225806451,0.532258064516129,0.5241935483870968,0.4838709677419355,0.4838709677419355,0.4838709677419355,0.4717741935483871,0.46774193548387094,0.4435483870967742,0.43548387096774194,0.42338709677419356,0.42338709677419356,0.4112903225806452,0.38306451612903225,0.3790322580645161,0.3346774193548387,0.33064516129032256,0.29435483870967744,0.25806451612903225,0.2056451612903226],[0.6411290322580645,0.5766129032258065,0.5725806451612904,0.5483870967741935,0.5403225806451613,0.5201612903225806,0.5201612903225806,0.5161290322580645,0.5080645161290323,0.4959677419354839,0.4879032258064516,0.4879032258064516,0.4838709677419355,0.4798387096774194,0.45564516129032256,0.45161290322580644,0.4435483870967742,0.42338709677419356,0.40725806451612906,0.38306451612903225,0.375,0.3629032258064516,0.3225806451612903,0.3024193548387097,0.2862903225806452],[0.6814516129032258,0.6774193548387096,0.6653225806451613,0.6088709677419355,0.5766129032258065,0.5645161290322581,0.5604838709677419,0.5282258064516129,0.5080645161290323,0.5,0.4879032258064516,0.46774193548387094,0.4314516129032258,0.4274193548387097,0.41935483870967744,0.4153225806451613,0.3951612903225806,0.3790322580645161,0.3629032258064516,0.3629032258064516,0.3548387096774194,0.3225806451612903,0.3225806451612903,0.31451612903225806,0.2217741935483871],[0.7258064516129032,0.7016129032258065,0.6451612903225806,0.6169354838709677,0.5766129032258065,0.5645161290322581,0.5564516129032258,0.5443548387096774,0.5403225806451613,0.5362903225806451,0.5201612903225806,0.5,0.4637096774193548,0.45161290322580644,0.43548387096774194,0.4314516129032258,0.4274193548387097,0.4032258064516129,0.4032258064516129,0.3951612903225806,0.3629032258064516,0.35080645161290325,0.3467741935483871,0.29838709677419356,0.23387096774193547],[0.8145161290322581,0.7258064516129032,0.6411290322580645,0.625,0.5887096774193549,0.5846774193548387,0.5806451612903226,0.5725806451612904,0.5725806451612904,0.5645161290322581,0.5645161290322581,0.5524193548387096,0.5362903225806451,0.5120967741935484,0.5,0.49193548387096775,0.45564516129032256,0.4475806451612903,0.43548387096774194,0.43548387096774194,0.42338709677419356,0.3951612903225806,0.3911290322580645,0.3790322580645161,0.24193548387096775],[0.6693548387096774,0.6451612903225806,0.6209677419354839,0.6169354838709677,0.6088709677419355,0.5887096774193549,0.5604838709677419,0.5564516129032258,0.5524193548387096,0.5362903225806451,0.5241935483870968,0.5080645161290323,0.4959677419354839,0.4798387096774194,0.4717741935483871,0.4637096774193548,0.4596774193548387,0.4032258064516129,0.3951612903225806,0.3870967741935484,0.3709677419354839,0.3588709677419355,0.3548387096774194,0.31451612903225806,0.2540322580645161],[0.7661290322580645,0.7459677419354839,0.6814516129032258,0.6733870967741935,0.6612903225806451,0.657258064516129,0.6008064516129032,0.5967741935483871,0.5887096774193549,0.5887096774193549,0.5766129032258065,0.5685483870967742,0.5362903225806451,0.5362903225806451,0.5241935483870968,0.4838709677419355,0.4798387096774194,0.43548387096774194,0.4314516129032258,0.42338709677419356,0.4153225806451613,0.4112903225806452,0.4032258064516129,0.3709677419354839,0.3629032258064516],[0.7580645161290323,0.6975806451612904,0.6854838709677419,0.6653225806451613,0.6532258064516129,0.6532258064516129,0.6451612903225806,0.6411290322580645,0.6088709677419355,0.6008064516129032,0.5604838709677419,0.5443548387096774,0.5080645161290323,0.49193548387096775,0.49193548387096775,0.47580645161290325,0.46774193548387094,0.4596774193548387,0.45564516129032256,0.43548387096774194,0.4153225806451613,0.40725806451612906,0.3951612903225806,0.31451612903225806,0.23790322580645162],[0.717741935483871,0.6814516129032258,0.657258064516129,0.6129032258064516,0.6088709677419355,0.6008064516129032,0.5887096774193549,0.5846774193548387,0.5766129032258065,0.5685483870967742,0.5645161290322581,0.5645161290322581,0.5564516129032258,0.5483870967741935,0.5443548387096774,0.5362903225806451,0.532258064516129,0.5201612903225806,0.5,0.4717741935483871,0.42338709677419356,0.39919354838709675,0.36693548387096775,0.3548387096774194,0.28225806451612906],[0.7096774193548387,0.7056451612903226,0.657258064516129,0.6370967741935484,0.6209677419354839,0.5967741935483871,0.5806451612903226,0.5685483870967742,0.5604838709677419,0.5282258064516129,0.5282258064516129,0.5201612903225806,0.5080645161290323,0.4838709677419355,0.4798387096774194,0.4637096774193548,0.3870967741935484,0.3548387096774194,0.35080645161290325,0.3467741935483871,0.34274193548387094,0.33064516129032256,0.31451612903225806,0.31048387096774194,0.22983870967741934],[0.7258064516129032,0.6330645161290323,0.5967741935483871,0.5846774193548387,0.5685483870967742,0.5443548387096774,0.5403225806451613,0.4959677419354839,0.49193548387096775,0.4838709677419355,0.47580645161290325,0.47580645161290325,0.4435483870967742,0.43951612903225806,0.4274193548387097,0.4274193548387097,0.42338709677419356,0.3790322580645161,0.375,0.3588709677419355,0.3467741935483871,0.3387096774193548,0.2903225806451613,0.24596774193548387,0.21370967741935484],[0.7540322580645161,0.6975806451612904,0.6370967741935484,0.5806451612903226,0.5806451612903226,0.5766129032258065,0.5443548387096774,0.5362903225806451,0.5241935483870968,0.5161290322580645,0.5080645161290323,0.4959677419354839,0.4475806451612903,0.4112903225806452,0.3588709677419355,0.3467741935483871,0.34274193548387094,0.33064516129032256,0.3225806451612903,0.3185483870967742,0.29838709677419356,0.29435483870967744,0.24596774193548387,0.22580645161290322,0.20967741935483872],[0.717741935483871,0.6895161290322581,0.6774193548387096,0.6612903225806451,0.6612903225806451,0.6532258064516129,0.6370967741935484,0.6290322580645161,0.6169354838709677,0.6008064516129032,0.5887096774193549,0.5766129032258065,0.532258064516129,0.5040322580645161,0.4959677419354839,0.47580645161290325,0.4435483870967742,0.4435483870967742,0.4112903225806452,0.3951612903225806,0.38306451612903225,0.36693548387096775,0.3629032258064516,0.31451612903225806,0.2862903225806452],[0.7217741935483871,0.6854838709677419,0.6733870967741935,0.6411290322580645,0.6048387096774194,0.5524193548387096,0.5403225806451613,0.5362903225806451,0.5201612903225806,0.5040322580645161,0.4959677419354839,0.4838709677419355,0.47580645161290325,0.46774193548387094,0.46774193548387094,0.4637096774193548,0.40725806451612906,0.3951612903225806,0.3911290322580645,0.36693548387096775,0.3629032258064516,0.3467741935483871,0.33064516129032256,0.3225806451612903,0.24596774193548387],[0.6854838709677419,0.6653225806451613,0.6451612903225806,0.6209677419354839,0.6129032258064516,0.6048387096774194,0.5766129032258065,0.5766129032258065,0.5564516129032258,0.5483870967741935,0.5120967741935484,0.5080645161290323,0.5040322580645161,0.49193548387096775,0.4798387096774194,0.46774193548387094,0.4475806451612903,0.4153225806451613,0.4032258064516129,0.39919354838709675,0.3588709677419355,0.31048387096774194,0.3064516129032258,0.29435483870967744,0.22580645161290322],[0.6854838709677419,0.6612903225806451,0.6491935483870968,0.5887096774193549,0.5846774193548387,0.5846774193548387,0.5483870967741935,0.532258064516129,0.5120967741935484,0.5120967741935484,0.5080645161290323,0.5,0.5,0.4637096774193548,0.4637096774193548,0.45161290322580644,0.4435483870967742,0.43548387096774194,0.40725806451612906,0.4032258064516129,0.3911290322580645,0.375,0.31451612903225806,0.3024193548387097,0.2540322580645161],[0.7096774193548387,0.6814516129032258,0.6693548387096774,0.6491935483870968,0.6088709677419355,0.5846774193548387,0.5766129032258065,0.5604838709677419,0.5241935483870968,0.5080645161290323,0.5,0.49193548387096775,0.45564516129032256,0.4475806451612903,0.43951612903225806,0.4314516129032258,0.4274193548387097,0.3951612903225806,0.3911290322580645,0.3387096774193548,0.33064516129032256,0.3225806451612903,0.25806451612903225,0.25,0.21370967741935484],[0.7137096774193549,0.6451612903225806,0.6370967741935484,0.6129032258064516,0.592741935483871,0.5241935483870968,0.5161290322580645,0.5120967741935484,0.5,0.49193548387096775,0.43951612903225806,0.4112903225806452,0.40725806451612906,0.375,0.3629032258064516,0.3588709677419355,0.34274193548387094,0.3387096774193548,0.3346774193548387,0.31451612903225806,0.3024193548387097,0.2862903225806452,0.23790322580645162,0.23387096774193547,0.22983870967741934],[0.7096774193548387,0.7096774193548387,0.6129032258064516,0.592741935483871,0.5887096774193549,0.5846774193548387,0.5766129032258065,0.5040322580645161,0.45564516129032256,0.4435483870967742,0.43951612903225806,0.43951612903225806,0.4314516129032258,0.4112903225806452,0.4032258064516129,0.3951612903225806,0.3911290322580645,0.3548387096774194,0.35080645161290325,0.33064516129032256,0.3225806451612903,0.3064516129032258,0.3064516129032258,0.29838709677419356,0.2701612903225806],[0.7379032258064516,0.7016129032258065,0.6612903225806451,0.6451612903225806,0.6048387096774194,0.6008064516129032,0.5040322580645161,0.46774193548387094,0.45564516129032256,0.4475806451612903,0.4435483870967742,0.4032258064516129,0.4032258064516129,0.4032258064516129,0.3790322580645161,0.3790322580645161,0.36693548387096775,0.3629032258064516,0.3225806451612903,0.29435483870967744,0.2620967741935484,0.25,0.22983870967741934,0.22580645161290322,0.2056451612903226],[0.6290322580645161,0.6209677419354839,0.6088709677419355,0.5403225806451613,0.5201612903225806,0.4959677419354839,0.4879032258064516,0.43951612903225806,0.43548387096774194,0.40725806451612906,0.40725806451612906,0.3911290322580645,0.3548387096774194,0.3548387096774194,0.3467741935483871,0.32661290322580644,0.31451612903225806,0.3064516129032258,0.29838709677419356,0.28225806451612906,0.27419354838709675,0.2661290322580645,0.25806451612903225,0.2540322580645161,0.25],[0.6532258064516129,0.6451612903225806,0.592741935483871,0.5725806451612904,0.5524193548387096,0.5443548387096774,0.5282258064516129,0.5241935483870968,0.5201612903225806,0.5120967741935484,0.4838709677419355,0.4435483870967742,0.43548387096774194,0.4274193548387097,0.42338709677419356,0.4112903225806452,0.375,0.36693548387096775,0.36693548387096775,0.3629032258064516,0.3629032258064516,0.3346774193548387,0.3185483870967742,0.28225806451612906,0.1935483870967742],[0.6491935483870968,0.6370967741935484,0.6330645161290323,0.5887096774193549,0.5685483870967742,0.5403225806451613,0.5161290322580645,0.5,0.4959677419354839,0.47580645161290325,0.46774193548387094,0.4475806451612903,0.4274193548387097,0.41935483870967744,0.40725806451612906,0.3951612903225806,0.3870967741935484,0.3790322580645161,0.3790322580645161,0.3467741935483871,0.34274193548387094,0.32661290322580644,0.31451612903225806,0.31451612903225806,0.23790322580645162],[0.7137096774193549,0.6209677419354839,0.5967741935483871,0.5403225806451613,0.532258064516129,0.5282258064516129,0.4879032258064516,0.4637096774193548,0.4475806451612903,0.4435483870967742,0.43951612903225806,0.4314516129032258,0.4032258064516129,0.3911290322580645,0.3548387096774194,0.3467741935483871,0.3225806451612903,0.3185483870967742,0.3185483870967742,0.31048387096774194,0.2903225806451613,0.2903225806451613,0.2782258064516129,0.2620967741935484,0.23790322580645162],[0.6774193548387096,0.657258064516129,0.5967741935483871,0.5645161290322581,0.4435483870967742,0.42338709677419356,0.42338709677419356,0.4153225806451613,0.4112903225806452,0.4032258064516129,0.3709677419354839,0.36693548387096775,0.3629032258064516,0.3629032258064516,0.3467741935483871,0.34274193548387094,0.3346774193548387,0.32661290322580644,0.3225806451612903,0.3185483870967742,0.31451612903225806,0.3024193548387097,0.2903225806451613,0.25,0.22983870967741934],[0.6774193548387096,0.6330645161290323,0.6290322580645161,0.5846774193548387,0.5806451612903226,0.5282258064516129,0.5201612903225806,0.5080645161290323,0.5080645161290323,0.49193548387096775,0.49193548387096775,0.4879032258064516,0.4879032258064516,0.4879032258064516,0.4596774193548387,0.4475806451612903,0.43548387096774194,0.42338709677419356,0.3629032258064516,0.3064516129032258,0.2903225806451613,0.2782258064516129,0.25,0.2217741935483871,0.1975806451612903],[0.7338709677419355,0.6411290322580645,0.6048387096774194,0.5604838709677419,0.5362903225806451,0.5,0.4798387096774194,0.4717741935483871,0.4596774193548387,0.45161290322580644,0.42338709677419356,0.41935483870967744,0.40725806451612906,0.40725806451612906,0.3951612903225806,0.3951612903225806,0.375,0.3588709677419355,0.3346774193548387,0.3064516129032258,0.3024193548387097,0.2903225806451613,0.2701612903225806,0.2620967741935484,0.2540322580645161],[0.6975806451612904,0.6935483870967742,0.6774193548387096,0.6733870967741935,0.5604838709677419,0.5524193548387096,0.5403225806451613,0.5362903225806451,0.5,0.4959677419354839,0.4798387096774194,0.43951612903225806,0.4274193548387097,0.41935483870967744,0.4153225806451613,0.40725806451612906,0.39919354838709675,0.375,0.3548387096774194,0.3346774193548387,0.33064516129032256,0.27419354838709675,0.22983870967741934,0.22580645161290322,0.2056451612903226],[0.6975806451612904,0.6370967741935484,0.5967741935483871,0.5967741935483871,0.5806451612903226,0.5403225806451613,0.5201612903225806,0.4959677419354839,0.4838709677419355,0.46774193548387094,0.4596774193548387,0.4596774193548387,0.45161290322580644,0.4314516129032258,0.40725806451612906,0.39919354838709675,0.39919354838709675,0.3951612903225806,0.3629032258064516,0.3588709677419355,0.35080645161290325,0.3225806451612903,0.29838709677419356,0.2903225806451613,0.22580645161290322],[0.6209677419354839,0.6129032258064516,0.6129032258064516,0.6129032258064516,0.6048387096774194,0.6048387096774194,0.5846774193548387,0.5806451612903226,0.5766129032258065,0.5766129032258065,0.5564516129032258,0.5201612903225806,0.5040322580645161,0.49193548387096775,0.4838709677419355,0.47580645161290325,0.46774193548387094,0.46774193548387094,0.4637096774193548,0.4596774193548387,0.45564516129032256,0.45564516129032256,0.4314516129032258,0.4314516129032258,0.3467741935483871],[0.6370967741935484,0.6330645161290323,0.6169354838709677,0.6048387096774194,0.592741935483871,0.5887096774193549,0.5846774193548387,0.5806451612903226,0.5725806451612904,0.5403225806451613,0.5403225806451613,0.5403225806451613,0.532258064516129,0.5241935483870968,0.5201612903225806,0.5201612903225806,0.5161290322580645,0.5161290322580645,0.49193548387096775,0.4838709677419355,0.4838709677419355,0.4838709677419355,0.4314516129032258,0.42338709677419356,0.41935483870967744]],\"type\":\"heatmap\",\"xaxis\":\"x\",\"yaxis\":\"y\",\"hovertemplate\":\"Heads (sorted): %{x}<br>Layers: %{y}<br>color: %{z}<extra></extra>\"}],                        {\"template\":{\"data\":{\"histogram2dcontour\":[{\"type\":\"histogram2dcontour\",\"colorbar\":{\"outlinewidth\":0,\"ticks\":\"\"},\"colorscale\":[[0.0,\"#0d0887\"],[0.1111111111111111,\"#46039f\"],[0.2222222222222222,\"#7201a8\"],[0.3333333333333333,\"#9c179e\"],[0.4444444444444444,\"#bd3786\"],[0.5555555555555556,\"#d8576b\"],[0.6666666666666666,\"#ed7953\"],[0.7777777777777778,\"#fb9f3a\"],[0.8888888888888888,\"#fdca26\"],[1.0,\"#f0f921\"]]}],\"choropleth\":[{\"type\":\"choropleth\",\"colorbar\":{\"outlinewidth\":0,\"ticks\":\"\"}}],\"histogram2d\":[{\"type\":\"histogram2d\",\"colorbar\":{\"outlinewidth\":0,\"ticks\":\"\"},\"colorscale\":[[0.0,\"#0d0887\"],[0.1111111111111111,\"#46039f\"],[0.2222222222222222,\"#7201a8\"],[0.3333333333333333,\"#9c179e\"],[0.4444444444444444,\"#bd3786\"],[0.5555555555555556,\"#d8576b\"],[0.6666666666666666,\"#ed7953\"],[0.7777777777777778,\"#fb9f3a\"],[0.8888888888888888,\"#fdca26\"],[1.0,\"#f0f921\"]]}],\"heatmap\":[{\"type\":\"heatmap\",\"colorbar\":{\"outlinewidth\":0,\"ticks\":\"\"},\"colorscale\":[[0.0,\"#0d0887\"],[0.1111111111111111,\"#46039f\"],[0.2222222222222222,\"#7201a8\"],[0.3333333333333333,\"#9c179e\"],[0.4444444444444444,\"#bd3786\"],[0.5555555555555556,\"#d8576b\"],[0.6666666666666666,\"#ed7953\"],[0.7777777777777778,\"#fb9f3a\"],[0.8888888888888888,\"#fdca26\"],[1.0,\"#f0f921\"]]}],\"heatmapgl\":[{\"type\":\"heatmapgl\",\"colorbar\":{\"outlinewidth\":0,\"ticks\":\"\"},\"colorscale\":[[0.0,\"#0d0887\"],[0.1111111111111111,\"#46039f\"],[0.2222222222222222,\"#7201a8\"],[0.3333333333333333,\"#9c179e\"],[0.4444444444444444,\"#bd3786\"],[0.5555555555555556,\"#d8576b\"],[0.6666666666666666,\"#ed7953\"],[0.7777777777777778,\"#fb9f3a\"],[0.8888888888888888,\"#fdca26\"],[1.0,\"#f0f921\"]]}],\"contourcarpet\":[{\"type\":\"contourcarpet\",\"colorbar\":{\"outlinewidth\":0,\"ticks\":\"\"}}],\"contour\":[{\"type\":\"contour\",\"colorbar\":{\"outlinewidth\":0,\"ticks\":\"\"},\"colorscale\":[[0.0,\"#0d0887\"],[0.1111111111111111,\"#46039f\"],[0.2222222222222222,\"#7201a8\"],[0.3333333333333333,\"#9c179e\"],[0.4444444444444444,\"#bd3786\"],[0.5555555555555556,\"#d8576b\"],[0.6666666666666666,\"#ed7953\"],[0.7777777777777778,\"#fb9f3a\"],[0.8888888888888888,\"#fdca26\"],[1.0,\"#f0f921\"]]}],\"surface\":[{\"type\":\"surface\",\"colorbar\":{\"outlinewidth\":0,\"ticks\":\"\"},\"colorscale\":[[0.0,\"#0d0887\"],[0.1111111111111111,\"#46039f\"],[0.2222222222222222,\"#7201a8\"],[0.3333333333333333,\"#9c179e\"],[0.4444444444444444,\"#bd3786\"],[0.5555555555555556,\"#d8576b\"],[0.6666666666666666,\"#ed7953\"],[0.7777777777777778,\"#fb9f3a\"],[0.8888888888888888,\"#fdca26\"],[1.0,\"#f0f921\"]]}],\"mesh3d\":[{\"type\":\"mesh3d\",\"colorbar\":{\"outlinewidth\":0,\"ticks\":\"\"}}],\"scatter\":[{\"fillpattern\":{\"fillmode\":\"overlay\",\"size\":10,\"solidity\":0.2},\"type\":\"scatter\"}],\"parcoords\":[{\"type\":\"parcoords\",\"line\":{\"colorbar\":{\"outlinewidth\":0,\"ticks\":\"\"}}}],\"scatterpolargl\":[{\"type\":\"scatterpolargl\",\"marker\":{\"colorbar\":{\"outlinewidth\":0,\"ticks\":\"\"}}}],\"bar\":[{\"error_x\":{\"color\":\"#2a3f5f\"},\"error_y\":{\"color\":\"#2a3f5f\"},\"marker\":{\"line\":{\"color\":\"#E5ECF6\",\"width\":0.5},\"pattern\":{\"fillmode\":\"overlay\",\"size\":10,\"solidity\":0.2}},\"type\":\"bar\"}],\"scattergeo\":[{\"type\":\"scattergeo\",\"marker\":{\"colorbar\":{\"outlinewidth\":0,\"ticks\":\"\"}}}],\"scatterpolar\":[{\"type\":\"scatterpolar\",\"marker\":{\"colorbar\":{\"outlinewidth\":0,\"ticks\":\"\"}}}],\"histogram\":[{\"marker\":{\"pattern\":{\"fillmode\":\"overlay\",\"size\":10,\"solidity\":0.2}},\"type\":\"histogram\"}],\"scattergl\":[{\"type\":\"scattergl\",\"marker\":{\"colorbar\":{\"outlinewidth\":0,\"ticks\":\"\"}}}],\"scatter3d\":[{\"type\":\"scatter3d\",\"line\":{\"colorbar\":{\"outlinewidth\":0,\"ticks\":\"\"}},\"marker\":{\"colorbar\":{\"outlinewidth\":0,\"ticks\":\"\"}}}],\"scattermapbox\":[{\"type\":\"scattermapbox\",\"marker\":{\"colorbar\":{\"outlinewidth\":0,\"ticks\":\"\"}}}],\"scatterternary\":[{\"type\":\"scatterternary\",\"marker\":{\"colorbar\":{\"outlinewidth\":0,\"ticks\":\"\"}}}],\"scattercarpet\":[{\"type\":\"scattercarpet\",\"marker\":{\"colorbar\":{\"outlinewidth\":0,\"ticks\":\"\"}}}],\"carpet\":[{\"aaxis\":{\"endlinecolor\":\"#2a3f5f\",\"gridcolor\":\"white\",\"linecolor\":\"white\",\"minorgridcolor\":\"white\",\"startlinecolor\":\"#2a3f5f\"},\"baxis\":{\"endlinecolor\":\"#2a3f5f\",\"gridcolor\":\"white\",\"linecolor\":\"white\",\"minorgridcolor\":\"white\",\"startlinecolor\":\"#2a3f5f\"},\"type\":\"carpet\"}],\"table\":[{\"cells\":{\"fill\":{\"color\":\"#EBF0F8\"},\"line\":{\"color\":\"white\"}},\"header\":{\"fill\":{\"color\":\"#C8D4E3\"},\"line\":{\"color\":\"white\"}},\"type\":\"table\"}],\"barpolar\":[{\"marker\":{\"line\":{\"color\":\"#E5ECF6\",\"width\":0.5},\"pattern\":{\"fillmode\":\"overlay\",\"size\":10,\"solidity\":0.2}},\"type\":\"barpolar\"}],\"pie\":[{\"automargin\":true,\"type\":\"pie\"}]},\"layout\":{\"autotypenumbers\":\"strict\",\"colorway\":[\"#636efa\",\"#EF553B\",\"#00cc96\",\"#ab63fa\",\"#FFA15A\",\"#19d3f3\",\"#FF6692\",\"#B6E880\",\"#FF97FF\",\"#FECB52\"],\"font\":{\"color\":\"#2a3f5f\"},\"hovermode\":\"closest\",\"hoverlabel\":{\"align\":\"left\"},\"paper_bgcolor\":\"white\",\"plot_bgcolor\":\"#E5ECF6\",\"polar\":{\"bgcolor\":\"#E5ECF6\",\"angularaxis\":{\"gridcolor\":\"white\",\"linecolor\":\"white\",\"ticks\":\"\"},\"radialaxis\":{\"gridcolor\":\"white\",\"linecolor\":\"white\",\"ticks\":\"\"}},\"ternary\":{\"bgcolor\":\"#E5ECF6\",\"aaxis\":{\"gridcolor\":\"white\",\"linecolor\":\"white\",\"ticks\":\"\"},\"baxis\":{\"gridcolor\":\"white\",\"linecolor\":\"white\",\"ticks\":\"\"},\"caxis\":{\"gridcolor\":\"white\",\"linecolor\":\"white\",\"ticks\":\"\"}},\"coloraxis\":{\"colorbar\":{\"outlinewidth\":0,\"ticks\":\"\"}},\"colorscale\":{\"sequential\":[[0.0,\"#0d0887\"],[0.1111111111111111,\"#46039f\"],[0.2222222222222222,\"#7201a8\"],[0.3333333333333333,\"#9c179e\"],[0.4444444444444444,\"#bd3786\"],[0.5555555555555556,\"#d8576b\"],[0.6666666666666666,\"#ed7953\"],[0.7777777777777778,\"#fb9f3a\"],[0.8888888888888888,\"#fdca26\"],[1.0,\"#f0f921\"]],\"sequentialminus\":[[0.0,\"#0d0887\"],[0.1111111111111111,\"#46039f\"],[0.2222222222222222,\"#7201a8\"],[0.3333333333333333,\"#9c179e\"],[0.4444444444444444,\"#bd3786\"],[0.5555555555555556,\"#d8576b\"],[0.6666666666666666,\"#ed7953\"],[0.7777777777777778,\"#fb9f3a\"],[0.8888888888888888,\"#fdca26\"],[1.0,\"#f0f921\"]],\"diverging\":[[0,\"#8e0152\"],[0.1,\"#c51b7d\"],[0.2,\"#de77ae\"],[0.3,\"#f1b6da\"],[0.4,\"#fde0ef\"],[0.5,\"#f7f7f7\"],[0.6,\"#e6f5d0\"],[0.7,\"#b8e186\"],[0.8,\"#7fbc41\"],[0.9,\"#4d9221\"],[1,\"#276419\"]]},\"xaxis\":{\"gridcolor\":\"white\",\"linecolor\":\"white\",\"ticks\":\"\",\"title\":{\"standoff\":15},\"zerolinecolor\":\"white\",\"automargin\":true,\"zerolinewidth\":2},\"yaxis\":{\"gridcolor\":\"white\",\"linecolor\":\"white\",\"ticks\":\"\",\"title\":{\"standoff\":15},\"zerolinecolor\":\"white\",\"automargin\":true,\"zerolinewidth\":2},\"scene\":{\"xaxis\":{\"backgroundcolor\":\"#E5ECF6\",\"gridcolor\":\"white\",\"linecolor\":\"white\",\"showbackground\":true,\"ticks\":\"\",\"zerolinecolor\":\"white\",\"gridwidth\":2},\"yaxis\":{\"backgroundcolor\":\"#E5ECF6\",\"gridcolor\":\"white\",\"linecolor\":\"white\",\"showbackground\":true,\"ticks\":\"\",\"zerolinecolor\":\"white\",\"gridwidth\":2},\"zaxis\":{\"backgroundcolor\":\"#E5ECF6\",\"gridcolor\":\"white\",\"linecolor\":\"white\",\"showbackground\":true,\"ticks\":\"\",\"zerolinecolor\":\"white\",\"gridwidth\":2}},\"shapedefaults\":{\"line\":{\"color\":\"#2a3f5f\"}},\"annotationdefaults\":{\"arrowcolor\":\"#2a3f5f\",\"arrowhead\":0,\"arrowwidth\":1},\"geo\":{\"bgcolor\":\"white\",\"landcolor\":\"#E5ECF6\",\"subunitcolor\":\"white\",\"showland\":true,\"showlakes\":true,\"lakecolor\":\"white\"},\"title\":{\"x\":0.05},\"mapbox\":{\"style\":\"light\"}}},\"xaxis\":{\"anchor\":\"y\",\"domain\":[0.0,1.0],\"scaleanchor\":\"y\",\"constrain\":\"domain\",\"title\":{\"text\":\"Heads (sorted)\"}},\"yaxis\":{\"anchor\":\"x\",\"domain\":[0.0,1.0],\"autorange\":true,\"constrain\":\"domain\",\"title\":{\"text\":\"Layers\"}},\"coloraxis\":{\"colorscale\":[[0.0,\"rgb(103,0,31)\"],[0.1,\"rgb(178,24,43)\"],[0.2,\"rgb(214,96,77)\"],[0.3,\"rgb(244,165,130)\"],[0.4,\"rgb(253,219,199)\"],[0.5,\"rgb(247,247,247)\"],[0.6,\"rgb(209,229,240)\"],[0.7,\"rgb(146,197,222)\"],[0.8,\"rgb(67,147,195)\"],[0.9,\"rgb(33,102,172)\"],[1.0,\"rgb(5,48,97)\"]],\"cmid\":0},\"title\":{\"text\":\"Sorted Probe Accuracies on Capitals\"}},                        {\"responsive\": true}                    ).then(function(){\n",
       "                            \n",
       "var gd = document.getElementById('3c8d2277-06c7-4ffe-a4b1-dd855075c7f0');\n",
       "var x = new MutationObserver(function (mutations, observer) {{\n",
       "        var display = window.getComputedStyle(gd).display;\n",
       "        if (!display || display === 'none') {{\n",
       "            console.log([gd, 'removed!']);\n",
       "            Plotly.purge(gd);\n",
       "            observer.disconnect();\n",
       "        }}\n",
       "}});\n",
       "\n",
       "// Listen for the removal of the full notebook cells\n",
       "var notebookContainer = gd.closest('#notebook-container');\n",
       "if (notebookContainer) {{\n",
       "    x.observe(notebookContainer, {childList: true});\n",
       "}}\n",
       "\n",
       "// Listen for the clearing of the current output cell\n",
       "var outputEl = gd.closest('.output');\n",
       "if (outputEl) {{\n",
       "    x.observe(outputEl, {childList: true});\n",
       "}}\n",
       "\n",
       "                        })                };                });            </script>        </div>"
      ]
     },
     "metadata": {},
     "output_type": "display_data"
    }
   ],
   "source": [
    "a = -np.sort(-np.array(total_accs).reshape(nin_d.model.cfg.n_layers, nin_d.model.cfg.n_heads), axis = 1)\n",
    "\n",
    "px.imshow(a, labels = {\"x\" : \"Heads (sorted)\", \"y\": \"Layers\"},title = \"Sorted Probe Accuracies on Capitals\", color_continuous_midpoint = 0, color_continuous_scale=\"RdBu\", origin = \"lower\")\n"
   ]
  },
  {
   "cell_type": "code",
   "execution_count": null,
   "metadata": {},
   "outputs": [],
   "source": []
  }
 ],
 "metadata": {
  "kernelspec": {
   "display_name": "Python 3 (ipykernel)",
   "language": "python",
   "name": "python3"
  },
  "language_info": {
   "codemirror_mode": {
    "name": "ipython",
    "version": 3
   },
   "file_extension": ".py",
   "mimetype": "text/x-python",
   "name": "python",
   "nbconvert_exporter": "python",
   "pygments_lexer": "ipython3",
   "version": "3.8.10"
  },
  "orig_nbformat": 4
 },
 "nbformat": 4,
 "nbformat_minor": 2
}
