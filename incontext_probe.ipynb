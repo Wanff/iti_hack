{
 "cells": [
  {
   "cell_type": "code",
   "execution_count": 1,
   "metadata": {},
   "outputs": [
    {
     "name": "stderr",
     "output_type": "stream",
     "text": [
      "/tmp/ipykernel_284852/1348182768.py:5: DeprecationWarning: `magic(...)` is deprecated since IPython 0.13 (warning added in 8.1), use run_line_magic(magic_name, parameter_s).\n",
      "  ipython.magic(\"load_ext autoreload\")\n",
      "/tmp/ipykernel_284852/1348182768.py:6: DeprecationWarning: `magic(...)` is deprecated since IPython 0.13 (warning added in 8.1), use run_line_magic(magic_name, parameter_s).\n",
      "  ipython.magic(\"autoreload 2\")\n"
     ]
    }
   ],
   "source": [
    "from IPython import get_ipython\n",
    "\n",
    "ipython = get_ipython()\n",
    "# Code to automatically update the TransformerLens code as its edited without restarting the kernel\n",
    "ipython.magic(\"load_ext autoreload\")\n",
    "ipython.magic(\"autoreload 2\")\n",
    "    \n",
    "import plotly.io as pio\n",
    "# pio.renderers.default = \"png\"\n",
    "# Import stuff\n",
    "import torch\n",
    "import torch.nn as nn\n",
    "import torch.nn.functional as F\n",
    "import torch.optim as optim\n",
    "import numpy as np\n",
    "import einops\n",
    "from fancy_einsum import einsum\n",
    "import tqdm.notebook as tqdm\n",
    "import random\n",
    "from pathlib import Path\n",
    "import plotly.express as px\n",
    "from torch.utils.data import DataLoader\n",
    "\n",
    "from jaxtyping import Float, Int\n",
    "from typing import List, Union, Optional\n",
    "from functools import partial\n",
    "import copy\n",
    "\n",
    "import itertools\n",
    "from transformers import AutoModelForCausalLM, AutoConfig, AutoTokenizer\n",
    "import dataclasses\n",
    "import datasets\n",
    "from IPython.display import HTML\n",
    "\n",
    "from tqdm import tqdm\n"
   ]
  },
  {
   "cell_type": "code",
   "execution_count": 2,
   "metadata": {},
   "outputs": [],
   "source": [
    "# import pysvelte\n",
    "# \n",
    "import transformer_lens\n",
    "import transformer_lens.utils as utils\n",
    "from transformer_lens.hook_points import (\n",
    "    HookedRootModule,\n",
    "    HookPoint,\n",
    ")  # Hooking utilities\n",
    "from transformer_lens import HookedTransformer, HookedTransformerConfig, FactoredMatrix, ActivationCache\n",
    "\n",
    "torch.set_grad_enabled(False)\n",
    "device = \"cpu\""
   ]
  },
  {
   "cell_type": "code",
   "execution_count": 3,
   "metadata": {},
   "outputs": [
    {
     "name": "stderr",
     "output_type": "stream",
     "text": [
      "Using pad_token, but it is not set yet.\n"
     ]
    },
    {
     "name": "stdout",
     "output_type": "stream",
     "text": [
      "Loaded pretrained model gpt2-xl into HookedTransformer\n"
     ]
    }
   ],
   "source": [
    "model = HookedTransformer.from_pretrained(\n",
    "    \"gpt2-xl\",\n",
    "    center_unembed=False,\n",
    "    center_writing_weights=False,\n",
    "    fold_ln=False,\n",
    "    refactor_factored_attn_matrices=True,\n",
    "    device=device\n",
    ")\n",
    "\n",
    "model.cfg.total_heads = model.cfg.n_heads * model.cfg.n_layers"
   ]
  },
  {
   "cell_type": "code",
   "execution_count": 4,
   "metadata": {},
   "outputs": [],
   "source": [
    "def query_logits(logits, return_type = \"logits\", TOP_N = 10):\n",
    "\n",
    "        \"\"\"\n",
    "        Gets top 10 predictions after last token in a prompt\n",
    "        \"\"\"\n",
    "        last_tok_logits = logits[0, -1]\n",
    "        \n",
    "        #gets probs after last tok in seq\n",
    "        \n",
    "        if return_type == \"probs\":\n",
    "            scores = F.softmax(last_tok_logits, dim=-1).detach().cpu().numpy() #the [0] is to index out of the batch idx\n",
    "        else:\n",
    "            scores = last_tok_logits.detach().cpu().numpy()\n",
    "\n",
    "        #assert probs add to 1\n",
    "        # assert np.abs(np.sum(probs) - 1) <= 0.01, str(np.abs(np.sum(probs)-1)) \n",
    "\n",
    "        probs_ = []\n",
    "        for index, prob in enumerate(scores):\n",
    "            probs_.append((index, prob))\n",
    "\n",
    "        top_k = sorted(probs_, key = lambda x: x[1], reverse = True)[:TOP_N]\n",
    "        top_k = [(t[1].item(), model.tokenizer.decode(t[0])) for t in top_k]\n",
    "        \n",
    "        return top_k\n",
    "    \n",
    "def is_logits_contain_label(ranked_logits, correct_answer):\n",
    "    # Convert correct_answer to lower case and strip white space\n",
    "    correct_answer = correct_answer.strip().lower()\n",
    "\n",
    "    # Loop through the top 10 logits\n",
    "    for logit_score, logit_value in ranked_logits:\n",
    "        # Convert logit_value to lower case and strip white space\n",
    "        logit_value = logit_value.strip().lower()\n",
    "\n",
    "        # Check if the correct answer contains the logit value\n",
    "        if correct_answer.find(logit_value) != -1: \n",
    "            return True\n",
    "    return False\n"
   ]
  },
  {
   "cell_type": "code",
   "execution_count": 5,
   "metadata": {},
   "outputs": [],
   "source": [
    "import random\n",
    "import pandas as pd\n",
    "from torch.utils.data import Dataset\n",
    "\n",
    "class CapitalsDataset(Dataset):\n",
    "    def __init__(self, csv_file):\n",
    "        # Load the dataset\n",
    "        self.dataframe = pd.read_csv(csv_file)\n",
    "\n",
    "    def __len__(self):\n",
    "        # Return the length of the dataset\n",
    "        return len(self.dataframe)\n",
    "\n",
    "    def __getitem__(self, idx):\n",
    "        #idx must be int\n",
    "        if torch.is_tensor(idx):\n",
    "            idx = idx.tolist()\n",
    "\n",
    "        # Get the country and capital at the provided index\n",
    "        country = self.dataframe.at[idx, 'country']\n",
    "        capital = self.dataframe.at[idx, 'capital']\n",
    "\n",
    "        # Format the input and label strings\n",
    "        input_string = f\"Q: What is the capital of {str(country)}? A:\"\n",
    "        label_string = f\"{str(capital)}\"\n",
    "\n",
    "        # Return a dict with the input and label\n",
    "        sample = {'input': input_string, 'label': label_string}\n",
    "        return sample\n",
    "\n",
    "def generate_few_shot_prompt(capitals_dataset, n_few_shot, prohibited_indices=[], prop_wrong = 0):\n",
    "    # Get a list of allowed indices (all indices not in prohibited_indices)\n",
    "    allowed_indices = [i for i in range(len(capitals_dataset)) if i not in prohibited_indices]\n",
    "\n",
    "    # Ensure n_few_shot is not greater than the size of the dataset\n",
    "    n_few_shot = min(n_few_shot, len(allowed_indices))\n",
    "\n",
    "    # Randomly select n_few_shot indices from the allowed indices without replacement\n",
    "    indices = random.sample(allowed_indices, n_few_shot)\n",
    "\n",
    "    # Generate the few-shot prompt\n",
    "    prompt = \"\"\n",
    "    for index in indices:\n",
    "        sample = capitals_dataset[index]\n",
    "        \n",
    "        if np.random.rand() < prop_wrong:\n",
    "            allowed_indices = [i for i in range(len(capitals_dataset)) if i not in (prohibited_indices + [index])]\n",
    "\n",
    "            diff_idx = random.sample(allowed_indices, 1)[0]\n",
    "                        \n",
    "            prompt += f\"{sample['input']} {capitals_dataset[diff_idx]['label']}\\n\"\n",
    "        else:  \n",
    "            prompt += f\"{sample['input']} {sample['label']}\\n\"\n",
    "        \n",
    "    return prompt"
   ]
  },
  {
   "cell_type": "code",
   "execution_count": 6,
   "metadata": {},
   "outputs": [],
   "source": [
    "\n",
    "# Create the original dataset\n",
    "capitals_dataset = CapitalsDataset(csv_file='world_capitals.csv')\n",
    "\n",
    "# Create the new dataset\n",
    "few_shot_capitals_prompts = []\n",
    "n_few_shot = 5 # Set this to your desired number of few-shot examples\n",
    "for i in range(len(capitals_dataset)):\n",
    "    # Generate a few-shot prompt without the current index\n",
    "    prompt = generate_few_shot_prompt(capitals_dataset, n_few_shot, prohibited_indices=[i])\n",
    "\n",
    "    # Get the current sample and add the prompt to the 'input'\n",
    "    sample = capitals_dataset[i]\n",
    "    sample['input'] = prompt + sample['input']\n",
    "\n",
    "    # Add the sample to the new dataset\n",
    "    few_shot_capitals_prompts.append(sample)\n"
   ]
  },
  {
   "cell_type": "code",
   "execution_count": null,
   "metadata": {},
   "outputs": [],
   "source": [
    "# n_correct = 0 \n",
    "# for row in tqdm(few_shot_capitals_prompts):\n",
    "#     prompt = row[\"input\"]\n",
    "#     label = row[\"label\"]\n",
    "\n",
    "#     logits = model(prompt)\n",
    "    \n",
    "#     ranked_logits = query_logits(logits, TOP_N = 1)\n",
    "    \n",
    "#     if is_logits_contain_label(ranked_logits, label):\n",
    "#         n_correct +=1\n",
    "#         row[\"model_correct\"] = 1\n",
    "#     else:\n",
    "#         row[\"model_correct\"] = 0\n",
    "    \n",
    "# n_correct / len(few_shot_capitals_prompts)"
   ]
  },
  {
   "cell_type": "code",
   "execution_count": 158,
   "metadata": {},
   "outputs": [],
   "source": [
    "from sklearn.model_selection import train_test_split\n",
    "from einops import repeat\n",
    "from sklearn.linear_model import LogisticRegression, LinearRegression\n",
    "from sklearn.metrics import accuracy_score, f1_score, precision_score, recall_score, r2_score\n",
    "\n",
    "class NumCorrectIncontextProbeDataset():\n",
    "    def __init__(self, capitals_dataset, model, id: str = None, probe_id: str = None, seed = 0, acts_to_load = [\"attn_head\"]):\n",
    "        self.capitals_dataset = capitals_dataset\n",
    "        self.model = model\n",
    "        \n",
    "        if id is not None:\n",
    "            acts_dict, self.dataset = self.load_acts_and_dataset(id, acts_to_load = acts_to_load)\n",
    "            for act in acts_dict:\n",
    "                if act == \"attn_head\":\n",
    "                    self.attn_head_acts = acts_dict[act]\n",
    "                if act == \"mlp\":\n",
    "                    self.mlp_acts = acts_dict[act]\n",
    "                if act == \"resid\":\n",
    "                    self.resid_acts = acts_dict[act]      \n",
    "                     \n",
    "            self.labels = [sample[\"n_correct\"] for sample in self.dataset]\n",
    "        else:\n",
    "            self.dataset = self.gen_dataset()\n",
    "            self.labels = [sample[\"n_correct\"] for sample in self.dataset]\n",
    "            self.attn_head_acts = []\n",
    "            self.mlp_acts = []\n",
    "            self.resid_acts = []\n",
    "            \n",
    "        if probe_id is not None:\n",
    "            self.probes = torch.load(f\"activations/{probe_id}.pkl\")\n",
    "        \n",
    "        np.random.seed(seed)\n",
    "        torch.manual_seed(seed)        \n",
    "        \n",
    "    def generate_few_shot_prompt_wrong(self, n_few_shot, prohibited_index, prop_wrong = 0):\n",
    "        # Get a list of allowed indices (all indices not in prohibited_indices)\n",
    "        allowed_indices = [i for i in range(len(capitals_dataset)) if i not in [prohibited_index]]\n",
    "\n",
    "        # Ensure n_few_shot is not greater than the size of the dataset\n",
    "        n_few_shot = min(n_few_shot, len(allowed_indices))\n",
    "\n",
    "        # Randomly select n_few_shot indices from the allowed indices without replacement\n",
    "        indices = random.sample(allowed_indices, n_few_shot)\n",
    "\n",
    "        # Generate the few-shot prompt\n",
    "        prompt = \"\"\n",
    "        n_correct = 0\n",
    "        for index in indices:\n",
    "            sample = self.capitals_dataset[index]\n",
    "            \n",
    "            if np.random.rand() < prop_wrong:\n",
    "                allowed_indices = [i for i in range(len(capitals_dataset)) if i not in ([prohibited_index] + [index])]\n",
    "\n",
    "                diff_idx = random.sample(allowed_indices, 1)[0]\n",
    "                            \n",
    "                prompt += f\"{sample['input']} {capitals_dataset[diff_idx]['label']}\\n\"\n",
    "            else:  \n",
    "                prompt += f\"{sample['input']} {sample['label']}\\n\"\n",
    "                n_correct += 1\n",
    "                \n",
    "        return prompt, n_correct\n",
    "    \n",
    "    def gen_dataset(self, n_few_shot: int = 5):\n",
    "        dataset = []\n",
    "        for i in range(len(self.capitals_dataset)):\n",
    "            # Generate a few-shot prompt without the current index\n",
    "            # n_few_shot = np.random.randint(10)\n",
    "            \n",
    "            prop_wrong = np.random.rand()\n",
    "            prompt, n_correct = self.generate_few_shot_prompt_wrong(n_few_shot, prohibited_index = i, prop_wrong = prop_wrong)\n",
    "\n",
    "            # Get the current sample and add the prompt to the 'input'\n",
    "            sample = self.capitals_dataset[i]\n",
    "            sample['input'] = prompt + sample['input']\n",
    "            sample['n_few_shot'] = n_few_shot\n",
    "            sample[\"prop_wrong\"] = prop_wrong\n",
    "            sample['n_correct'] = n_correct\n",
    "        \n",
    "            # Add the sample to the new dataset\n",
    "            dataset.append(sample)\n",
    "        \n",
    "        return dataset\n",
    "        \n",
    "    def gen_attn_head_acts(self, store_acts = True, filepath = \"activations/\", id = None):\n",
    "        for sample in tqdm(self.dataset):\n",
    "            prompt = sample[\"input\"]\n",
    "            label = sample[\"label\"]\n",
    "            \n",
    "            original_logits, cache = self.model.run_with_cache(prompt)\n",
    "\n",
    "            ranked_logits = query_logits(original_logits, TOP_N = 1)\n",
    "            \n",
    "            if is_logits_contain_label(ranked_logits, label):\n",
    "                sample[\"model_correct\"] = 1\n",
    "            else:\n",
    "                sample[\"model_correct\"] = 0\n",
    "                \n",
    "        \n",
    "        if store_acts:\n",
    "            if id is None:\n",
    "                id = np.random.randint(10000)\n",
    "            torch.save(self.attn_head_acts, f'{filepath}{id}_attn_head_acts.pt')\n",
    "            torch.save(self.dataset, f'{filepath}{id}_dataset.pkl')\n",
    "            print(f\"Stored at {id}\")\n",
    "        \n",
    "        return self.attn_head_acts\n",
    "    \n",
    "    def gen_acts(self, store_acts = True, act_types: List = [\"attn_out\", \"mlp_out\", \"resid_post\"], filepath = \"activations/\", id = None):\n",
    "        for sample in tqdm(self.dataset):\n",
    "            prompt = sample[\"input\"]\n",
    "            label = sample[\"label\"]\n",
    "            \n",
    "            original_logits, cache = self.model.run_with_cache(prompt)\n",
    "\n",
    "            ranked_logits = query_logits(original_logits, TOP_N = 1)\n",
    "            \n",
    "            if is_logits_contain_label(ranked_logits, label):\n",
    "                sample[\"model_correct\"] = 1\n",
    "            else:\n",
    "                sample[\"model_correct\"] = 0\n",
    "            \n",
    "            for act in act_types:\n",
    "                if act == \"mlp_out\":\n",
    "                    self.mlp_acts.append(cache.stack_activation(act)[:, 0, -1].numpy())\n",
    "                elif act == \"resid_post\":\n",
    "                    self.resid_acts.append(cache.stack_activation(act)[:, 0, -1].numpy())\n",
    "                elif act == \"attn_out\":\n",
    "                    self.attn_head_acts.append(cache.stack_head_results(layer = -1, pos_slice = -1).squeeze(1).numpy())\n",
    "                    \n",
    "        if store_acts:\n",
    "            if id is None:\n",
    "                id = np.random.randint(10000)\n",
    "            torch.save(self.resid_acts, f'{filepath}{id}_resid_acts.pt')\n",
    "            torch.save(self.mlp_acts, f'{filepath}{id}_mlp_acts.pt')\n",
    "            torch.save(self.attn_head_acts, f'{filepath}{id}_attn_head_acts.pt')\n",
    "\n",
    "            torch.save(self.dataset, f'{filepath}{id}_dataset.pkl')\n",
    "\n",
    "            print(f\"Stored at {id}\")\n",
    "        \n",
    "        return self.attn_head_acts, self.mlp_acts, self.resid_acts\n",
    "    \n",
    "    def load_acts_and_dataset(self, id, filepath = \"activations/\", acts_to_load = [\"attn_head\"]):\n",
    "        \n",
    "        act_type_to_acts = {}\n",
    "        for act in acts_to_load:\n",
    "            act_type_to_acts[act] = torch.load(f'{filepath}{id}_{act}_acts.pt')\n",
    "        # attn_head_acts = torch.load(f'{filepath}{id}_attn_head_acts.pt')\n",
    "        # mlp_acts = torch.load(f'{filepath}{id}_mlp_acts.pt')\n",
    "        # resid_acts = torch.load(f'{filepath}{id}_resid_acts.pt')\n",
    "\n",
    "        dataset = torch.load(f'{filepath}{id}_dataset.pkl')\n",
    "\n",
    "        return act_type_to_acts, dataset\n",
    "\n",
    "\n",
    "    def get_train_test_split(self, test_ratio = 0.2, label_type = \"categorical\", act_type = \"attn\"):\n",
    "        # attn_head_acts_list = [self.attn_head_acts[i] for i in range(self.attn_head_acts.shape[0])]\n",
    "            \n",
    "        \n",
    "        if label_type == \"categorical\":\n",
    "            labels = [sample[\"n_correct\"] for sample in self.dataset]\n",
    "        elif label_type == \"proportion\":\n",
    "            labels = [sample[\"n_correct\"] / 5.0 for sample in self.dataset]\n",
    "        elif label_type == \"binary\":\n",
    "            labels = [1 if sample[\"n_correct\"] == 5 else 0 for sample in self.dataset]\n",
    "\n",
    "        if act_type == \"attn\":\n",
    "            acts = self.attn_head_acts\n",
    "        elif act_type == \"mlp\":\n",
    "            acts = self.mlp_acts\n",
    "        elif act_type == \"resid\":\n",
    "            acts = self.resid_acts\n",
    "            \n",
    "        X_train, X_test, y_train, y_test = train_test_split(acts, labels, test_size=test_ratio)\n",
    "        \n",
    "        if isinstance(X_train, np.ndarray) or isinstance(X_train, List):\n",
    "            X_train = np.stack(X_train, axis = 0)\n",
    "            X_test = np.stack(X_test, axis = 0)  \n",
    "        elif isinstance(X_train, torch.Tensor):\n",
    "            X_train = torch.stack(X_train, axis = 0)\n",
    "            X_test = torch.stack(X_test, axis = 0)  \n",
    "        \n",
    "        # y_train = torch.from_numpy(np.array(y_train, dtype = np.float32))\n",
    "        # y_test = torch.from_numpy(np.array(y_test, dtype = np.float32))\n",
    "        # y_train = repeat(y_train, 'b -> b num_attn_heads', num_attn_heads=self.model.cfg.total_heads)\n",
    "        # y_test = repeat(y_test, 'b -> b num_attn_heads', num_attn_heads=self.model.cfg.total_heads)\n",
    "\n",
    "        return X_train, X_test, np.array(y_train), np.array(y_test)\n",
    "\n",
    "    def train_probes(self, test_ratio = 0.2, save_probes = True, filepath = \"activations/\", label_type = \"categorical\", act_type = \"attn\", solver = \"lbfgs\", id = None):\n",
    "\n",
    "        X_train, X_test, y_train, y_test = self.get_train_test_split(test_ratio = test_ratio, label_type = label_type, act_type = act_type)\n",
    "        \n",
    "        all_head_accs = []\n",
    "        probes = []\n",
    "        print(f\"X_train shape: {X_train.shape}, X_test shape: {X_test.shape}, y_train shape: {y_train.shape}, y_test shape: {y_test.shape}\")\n",
    "        \n",
    "        if act_type == \"attn\":\n",
    "            num_probes = self.model.cfg.total_heads\n",
    "        else:\n",
    "            num_probes = self.model.cfg.n_layers\n",
    "            \n",
    "        for i in tqdm(range(num_probes)):\n",
    "                X_train_head = X_train[:,i,:]\n",
    "                X_test_head = X_test[:,i,:]\n",
    "\n",
    "                if label_type == \"proportion\":\n",
    "                    clf = LinearRegression().fit(X_train_head, y_train)\n",
    "                    y_val_pred = clf.predict(X_test_head)\n",
    "                    all_head_accs.append(r2_score(y_test, y_val_pred))\n",
    "\n",
    "                else:\n",
    "                    clf = LogisticRegression(max_iter=1000, solver = solver).fit(X_train_head, y_train)\n",
    "                    y_val_pred = clf.predict(X_test_head)                \n",
    "                    all_head_accs.append(accuracy_score(y_test, y_val_pred))\n",
    "                \n",
    "                probes.append(clf)\n",
    "\n",
    "        self.probes = probes\n",
    "        \n",
    "        self.all_head_accs_np = np.array(all_head_accs)\n",
    "        \n",
    "        if save_probes:\n",
    "            if id is None:\n",
    "                id = np.random.randint(10000)\n",
    "            torch.save(self.probes, f'{filepath}{id}_probes.pkl')\n",
    "\n",
    "        return self.all_head_accs_np\n",
    "    \n",
    "    def call_probes(self):\n",
    "        labels = [sample[\"n_correct\"] for sample in self.dataset]\n",
    "        total_accs = []\n",
    "        y_preds = []\n",
    "        for i, clf in tqdm(enumerate(self.probes)):\n",
    "            acts = [act[i].numpy() for act in self.attn_head_acts]\n",
    "            y_pred = clf.predict(acts)\n",
    "            \n",
    "            total_accs.append(accuracy_score(labels, y_pred))\n",
    "            y_preds.append(y_pred)\n",
    "        return y_preds, total_accs"
   ]
  },
  {
   "cell_type": "code",
   "execution_count": 77,
   "metadata": {},
   "outputs": [],
   "source": [
    "nin_d = NumCorrectIncontextProbeDataset(capitals_dataset, model)"
   ]
  },
  {
   "cell_type": "code",
   "execution_count": 159,
   "metadata": {},
   "outputs": [],
   "source": [
    "# all_head_accs_np = nin_d.train_probes(test_ratio = 0.3, id = \"saga_1000\")\n",
    "# a, b, c = nin_d.gen_acts(id = \"capitals_nind_amr\")\n",
    "\n",
    "nin_d = NumCorrectIncontextProbeDataset(capitals_dataset, model, id = \"capitals_nind_amr\", acts_to_load = [\"attn_head\", \"mlp\", \"resid\"])"
   ]
  },
  {
   "cell_type": "code",
   "execution_count": 162,
   "metadata": {},
   "outputs": [
    {
     "name": "stdout",
     "output_type": "stream",
     "text": [
      "X_train shape: (198, 1200, 1600), X_test shape: (50, 1200, 1600), y_train shape: (198,), y_test shape: (50,)\n"
     ]
    },
    {
     "name": "stderr",
     "output_type": "stream",
     "text": [
      "100%|██████████| 1200/1200 [00:15<00:00, 75.92it/s]\n"
     ]
    }
   ],
   "source": [
    "# X_train, X_test, y_train, y_test  = nin_d.get_train_test_split(test_ratio = 0.3, label_type = \"proportion\", act_type = \"attn\")\n",
    "# all_head_accs_np = nin_d.train_probes(test_ratio = 0.2, id = \"mse_prop_mlp\", label_type = \"proportion\", act_type = \"mlp\")\n",
    "all_head_accs_np = nin_d.train_probes(test_ratio = 0.2, id = None, save_probes = False, label_type = \"binary\", act_type = \"attn\")"
   ]
  },
  {
   "cell_type": "code",
   "execution_count": 44,
   "metadata": {},
   "outputs": [
    {
     "data": {
      "text/plain": [
       "{3: 0.009,\n",
       " 0: 0.10033333333333333,\n",
       " 4: 0.005222222222222222,\n",
       " 2: 0.0208,\n",
       " 5: 0.03844444444444445,\n",
       " 1: 0.03345555555555556}"
      ]
     },
     "execution_count": 44,
     "metadata": {},
     "output_type": "execute_result"
    }
   ],
   "source": [
    "# Class specific accuracy\n",
    "X_train, X_test, y_train, y_test  = nin_d.get_train_test_split(test_ratio = 0.3)\n",
    "labels = y_test\n",
    "\n",
    "class_to_class_acc = {} \n",
    "\n",
    "for i, clf in tqdm(enumerate(nin_d.probes)):\n",
    "    acts = X_test[:,i]\n",
    "    y_pred = clf.predict(acts)\n",
    "\n",
    "    for label, pred in zip(labels, y_pred):\n",
    "        if label not in class_to_class_acc:\n",
    "            class_to_class_acc[label] = 0\n",
    "        \n",
    "        if label == pred:\n",
    "            class_to_class_acc[label] += 1\n",
    "            \n",
    "for key in class_to_class_acc:\n",
    "    class_to_class_acc[key] /= (len(y_test) * len(nin_d.probes))\n",
    "\n",
    "class_to_class_acc"
   ]
  },
  {
   "cell_type": "code",
   "execution_count": 49,
   "metadata": {},
   "outputs": [
    {
     "data": {
      "application/vnd.plotly.v1+json": {
       "config": {
        "plotlyServerURL": "https://plot.ly"
       },
       "data": [
        {
         "coloraxis": "coloraxis",
         "hovertemplate": "N Correct InContext: %{x}<br>N Correct In Context: %{y}<br>color: %{z}<extra></extra>",
         "name": "0",
         "type": "heatmap",
         "xaxis": "x",
         "yaxis": "y",
         "z": [
          [
           0.9999999932448069,
           -0.053320647738291885,
           -0.15203615336184156,
           -0.26487112493933335,
           -0.3098678683695228,
           -0.4196766111986168
          ],
          [
           -0.053320647738291885,
           0.9999999941885471,
           -0.1568444710690528,
           -0.18236142033846894,
           -0.20503989615982088,
           -0.30575433639925903
          ],
          [
           -0.15203615336184156,
           -0.1568444710690528,
           0.9999999956289927,
           -0.239722007708624,
           -0.15427776112240585,
           -0.19395791856455616
          ],
          [
           -0.26487112493933335,
           -0.18236142033846894,
           -0.239722007708624,
           0.9999999982118607,
           -0.17112721954569377,
           -0.054111420835639974
          ],
          [
           -0.3098678683695228,
           -0.20503989615982088,
           -0.15427776112240585,
           -0.17112721954569377,
           0.9999999999006589,
           -0.035304722010235615
          ],
          [
           -0.4196766111986168,
           -0.30575433639925903,
           -0.19395791856455616,
           -0.054111420835639974,
           -0.035304722010235615,
           0.999999996026357
          ]
         ]
        }
       ],
       "layout": {
        "coloraxis": {
         "cmid": 0,
         "colorscale": [
          [
           0,
           "rgb(103,0,31)"
          ],
          [
           0.1,
           "rgb(178,24,43)"
          ],
          [
           0.2,
           "rgb(214,96,77)"
          ],
          [
           0.3,
           "rgb(244,165,130)"
          ],
          [
           0.4,
           "rgb(253,219,199)"
          ],
          [
           0.5,
           "rgb(247,247,247)"
          ],
          [
           0.6,
           "rgb(209,229,240)"
          ],
          [
           0.7,
           "rgb(146,197,222)"
          ],
          [
           0.8,
           "rgb(67,147,195)"
          ],
          [
           0.9,
           "rgb(33,102,172)"
          ],
          [
           1,
           "rgb(5,48,97)"
          ]
         ]
        },
        "template": {
         "data": {
          "bar": [
           {
            "error_x": {
             "color": "#2a3f5f"
            },
            "error_y": {
             "color": "#2a3f5f"
            },
            "marker": {
             "line": {
              "color": "#E5ECF6",
              "width": 0.5
             },
             "pattern": {
              "fillmode": "overlay",
              "size": 10,
              "solidity": 0.2
             }
            },
            "type": "bar"
           }
          ],
          "barpolar": [
           {
            "marker": {
             "line": {
              "color": "#E5ECF6",
              "width": 0.5
             },
             "pattern": {
              "fillmode": "overlay",
              "size": 10,
              "solidity": 0.2
             }
            },
            "type": "barpolar"
           }
          ],
          "carpet": [
           {
            "aaxis": {
             "endlinecolor": "#2a3f5f",
             "gridcolor": "white",
             "linecolor": "white",
             "minorgridcolor": "white",
             "startlinecolor": "#2a3f5f"
            },
            "baxis": {
             "endlinecolor": "#2a3f5f",
             "gridcolor": "white",
             "linecolor": "white",
             "minorgridcolor": "white",
             "startlinecolor": "#2a3f5f"
            },
            "type": "carpet"
           }
          ],
          "choropleth": [
           {
            "colorbar": {
             "outlinewidth": 0,
             "ticks": ""
            },
            "type": "choropleth"
           }
          ],
          "contour": [
           {
            "colorbar": {
             "outlinewidth": 0,
             "ticks": ""
            },
            "colorscale": [
             [
              0,
              "#0d0887"
             ],
             [
              0.1111111111111111,
              "#46039f"
             ],
             [
              0.2222222222222222,
              "#7201a8"
             ],
             [
              0.3333333333333333,
              "#9c179e"
             ],
             [
              0.4444444444444444,
              "#bd3786"
             ],
             [
              0.5555555555555556,
              "#d8576b"
             ],
             [
              0.6666666666666666,
              "#ed7953"
             ],
             [
              0.7777777777777778,
              "#fb9f3a"
             ],
             [
              0.8888888888888888,
              "#fdca26"
             ],
             [
              1,
              "#f0f921"
             ]
            ],
            "type": "contour"
           }
          ],
          "contourcarpet": [
           {
            "colorbar": {
             "outlinewidth": 0,
             "ticks": ""
            },
            "type": "contourcarpet"
           }
          ],
          "heatmap": [
           {
            "colorbar": {
             "outlinewidth": 0,
             "ticks": ""
            },
            "colorscale": [
             [
              0,
              "#0d0887"
             ],
             [
              0.1111111111111111,
              "#46039f"
             ],
             [
              0.2222222222222222,
              "#7201a8"
             ],
             [
              0.3333333333333333,
              "#9c179e"
             ],
             [
              0.4444444444444444,
              "#bd3786"
             ],
             [
              0.5555555555555556,
              "#d8576b"
             ],
             [
              0.6666666666666666,
              "#ed7953"
             ],
             [
              0.7777777777777778,
              "#fb9f3a"
             ],
             [
              0.8888888888888888,
              "#fdca26"
             ],
             [
              1,
              "#f0f921"
             ]
            ],
            "type": "heatmap"
           }
          ],
          "heatmapgl": [
           {
            "colorbar": {
             "outlinewidth": 0,
             "ticks": ""
            },
            "colorscale": [
             [
              0,
              "#0d0887"
             ],
             [
              0.1111111111111111,
              "#46039f"
             ],
             [
              0.2222222222222222,
              "#7201a8"
             ],
             [
              0.3333333333333333,
              "#9c179e"
             ],
             [
              0.4444444444444444,
              "#bd3786"
             ],
             [
              0.5555555555555556,
              "#d8576b"
             ],
             [
              0.6666666666666666,
              "#ed7953"
             ],
             [
              0.7777777777777778,
              "#fb9f3a"
             ],
             [
              0.8888888888888888,
              "#fdca26"
             ],
             [
              1,
              "#f0f921"
             ]
            ],
            "type": "heatmapgl"
           }
          ],
          "histogram": [
           {
            "marker": {
             "pattern": {
              "fillmode": "overlay",
              "size": 10,
              "solidity": 0.2
             }
            },
            "type": "histogram"
           }
          ],
          "histogram2d": [
           {
            "colorbar": {
             "outlinewidth": 0,
             "ticks": ""
            },
            "colorscale": [
             [
              0,
              "#0d0887"
             ],
             [
              0.1111111111111111,
              "#46039f"
             ],
             [
              0.2222222222222222,
              "#7201a8"
             ],
             [
              0.3333333333333333,
              "#9c179e"
             ],
             [
              0.4444444444444444,
              "#bd3786"
             ],
             [
              0.5555555555555556,
              "#d8576b"
             ],
             [
              0.6666666666666666,
              "#ed7953"
             ],
             [
              0.7777777777777778,
              "#fb9f3a"
             ],
             [
              0.8888888888888888,
              "#fdca26"
             ],
             [
              1,
              "#f0f921"
             ]
            ],
            "type": "histogram2d"
           }
          ],
          "histogram2dcontour": [
           {
            "colorbar": {
             "outlinewidth": 0,
             "ticks": ""
            },
            "colorscale": [
             [
              0,
              "#0d0887"
             ],
             [
              0.1111111111111111,
              "#46039f"
             ],
             [
              0.2222222222222222,
              "#7201a8"
             ],
             [
              0.3333333333333333,
              "#9c179e"
             ],
             [
              0.4444444444444444,
              "#bd3786"
             ],
             [
              0.5555555555555556,
              "#d8576b"
             ],
             [
              0.6666666666666666,
              "#ed7953"
             ],
             [
              0.7777777777777778,
              "#fb9f3a"
             ],
             [
              0.8888888888888888,
              "#fdca26"
             ],
             [
              1,
              "#f0f921"
             ]
            ],
            "type": "histogram2dcontour"
           }
          ],
          "mesh3d": [
           {
            "colorbar": {
             "outlinewidth": 0,
             "ticks": ""
            },
            "type": "mesh3d"
           }
          ],
          "parcoords": [
           {
            "line": {
             "colorbar": {
              "outlinewidth": 0,
              "ticks": ""
             }
            },
            "type": "parcoords"
           }
          ],
          "pie": [
           {
            "automargin": true,
            "type": "pie"
           }
          ],
          "scatter": [
           {
            "fillpattern": {
             "fillmode": "overlay",
             "size": 10,
             "solidity": 0.2
            },
            "type": "scatter"
           }
          ],
          "scatter3d": [
           {
            "line": {
             "colorbar": {
              "outlinewidth": 0,
              "ticks": ""
             }
            },
            "marker": {
             "colorbar": {
              "outlinewidth": 0,
              "ticks": ""
             }
            },
            "type": "scatter3d"
           }
          ],
          "scattercarpet": [
           {
            "marker": {
             "colorbar": {
              "outlinewidth": 0,
              "ticks": ""
             }
            },
            "type": "scattercarpet"
           }
          ],
          "scattergeo": [
           {
            "marker": {
             "colorbar": {
              "outlinewidth": 0,
              "ticks": ""
             }
            },
            "type": "scattergeo"
           }
          ],
          "scattergl": [
           {
            "marker": {
             "colorbar": {
              "outlinewidth": 0,
              "ticks": ""
             }
            },
            "type": "scattergl"
           }
          ],
          "scattermapbox": [
           {
            "marker": {
             "colorbar": {
              "outlinewidth": 0,
              "ticks": ""
             }
            },
            "type": "scattermapbox"
           }
          ],
          "scatterpolar": [
           {
            "marker": {
             "colorbar": {
              "outlinewidth": 0,
              "ticks": ""
             }
            },
            "type": "scatterpolar"
           }
          ],
          "scatterpolargl": [
           {
            "marker": {
             "colorbar": {
              "outlinewidth": 0,
              "ticks": ""
             }
            },
            "type": "scatterpolargl"
           }
          ],
          "scatterternary": [
           {
            "marker": {
             "colorbar": {
              "outlinewidth": 0,
              "ticks": ""
             }
            },
            "type": "scatterternary"
           }
          ],
          "surface": [
           {
            "colorbar": {
             "outlinewidth": 0,
             "ticks": ""
            },
            "colorscale": [
             [
              0,
              "#0d0887"
             ],
             [
              0.1111111111111111,
              "#46039f"
             ],
             [
              0.2222222222222222,
              "#7201a8"
             ],
             [
              0.3333333333333333,
              "#9c179e"
             ],
             [
              0.4444444444444444,
              "#bd3786"
             ],
             [
              0.5555555555555556,
              "#d8576b"
             ],
             [
              0.6666666666666666,
              "#ed7953"
             ],
             [
              0.7777777777777778,
              "#fb9f3a"
             ],
             [
              0.8888888888888888,
              "#fdca26"
             ],
             [
              1,
              "#f0f921"
             ]
            ],
            "type": "surface"
           }
          ],
          "table": [
           {
            "cells": {
             "fill": {
              "color": "#EBF0F8"
             },
             "line": {
              "color": "white"
             }
            },
            "header": {
             "fill": {
              "color": "#C8D4E3"
             },
             "line": {
              "color": "white"
             }
            },
            "type": "table"
           }
          ]
         },
         "layout": {
          "annotationdefaults": {
           "arrowcolor": "#2a3f5f",
           "arrowhead": 0,
           "arrowwidth": 1
          },
          "autotypenumbers": "strict",
          "coloraxis": {
           "colorbar": {
            "outlinewidth": 0,
            "ticks": ""
           }
          },
          "colorscale": {
           "diverging": [
            [
             0,
             "#8e0152"
            ],
            [
             0.1,
             "#c51b7d"
            ],
            [
             0.2,
             "#de77ae"
            ],
            [
             0.3,
             "#f1b6da"
            ],
            [
             0.4,
             "#fde0ef"
            ],
            [
             0.5,
             "#f7f7f7"
            ],
            [
             0.6,
             "#e6f5d0"
            ],
            [
             0.7,
             "#b8e186"
            ],
            [
             0.8,
             "#7fbc41"
            ],
            [
             0.9,
             "#4d9221"
            ],
            [
             1,
             "#276419"
            ]
           ],
           "sequential": [
            [
             0,
             "#0d0887"
            ],
            [
             0.1111111111111111,
             "#46039f"
            ],
            [
             0.2222222222222222,
             "#7201a8"
            ],
            [
             0.3333333333333333,
             "#9c179e"
            ],
            [
             0.4444444444444444,
             "#bd3786"
            ],
            [
             0.5555555555555556,
             "#d8576b"
            ],
            [
             0.6666666666666666,
             "#ed7953"
            ],
            [
             0.7777777777777778,
             "#fb9f3a"
            ],
            [
             0.8888888888888888,
             "#fdca26"
            ],
            [
             1,
             "#f0f921"
            ]
           ],
           "sequentialminus": [
            [
             0,
             "#0d0887"
            ],
            [
             0.1111111111111111,
             "#46039f"
            ],
            [
             0.2222222222222222,
             "#7201a8"
            ],
            [
             0.3333333333333333,
             "#9c179e"
            ],
            [
             0.4444444444444444,
             "#bd3786"
            ],
            [
             0.5555555555555556,
             "#d8576b"
            ],
            [
             0.6666666666666666,
             "#ed7953"
            ],
            [
             0.7777777777777778,
             "#fb9f3a"
            ],
            [
             0.8888888888888888,
             "#fdca26"
            ],
            [
             1,
             "#f0f921"
            ]
           ]
          },
          "colorway": [
           "#636efa",
           "#EF553B",
           "#00cc96",
           "#ab63fa",
           "#FFA15A",
           "#19d3f3",
           "#FF6692",
           "#B6E880",
           "#FF97FF",
           "#FECB52"
          ],
          "font": {
           "color": "#2a3f5f"
          },
          "geo": {
           "bgcolor": "white",
           "lakecolor": "white",
           "landcolor": "#E5ECF6",
           "showlakes": true,
           "showland": true,
           "subunitcolor": "white"
          },
          "hoverlabel": {
           "align": "left"
          },
          "hovermode": "closest",
          "mapbox": {
           "style": "light"
          },
          "paper_bgcolor": "white",
          "plot_bgcolor": "#E5ECF6",
          "polar": {
           "angularaxis": {
            "gridcolor": "white",
            "linecolor": "white",
            "ticks": ""
           },
           "bgcolor": "#E5ECF6",
           "radialaxis": {
            "gridcolor": "white",
            "linecolor": "white",
            "ticks": ""
           }
          },
          "scene": {
           "xaxis": {
            "backgroundcolor": "#E5ECF6",
            "gridcolor": "white",
            "gridwidth": 2,
            "linecolor": "white",
            "showbackground": true,
            "ticks": "",
            "zerolinecolor": "white"
           },
           "yaxis": {
            "backgroundcolor": "#E5ECF6",
            "gridcolor": "white",
            "gridwidth": 2,
            "linecolor": "white",
            "showbackground": true,
            "ticks": "",
            "zerolinecolor": "white"
           },
           "zaxis": {
            "backgroundcolor": "#E5ECF6",
            "gridcolor": "white",
            "gridwidth": 2,
            "linecolor": "white",
            "showbackground": true,
            "ticks": "",
            "zerolinecolor": "white"
           }
          },
          "shapedefaults": {
           "line": {
            "color": "#2a3f5f"
           }
          },
          "ternary": {
           "aaxis": {
            "gridcolor": "white",
            "linecolor": "white",
            "ticks": ""
           },
           "baxis": {
            "gridcolor": "white",
            "linecolor": "white",
            "ticks": ""
           },
           "bgcolor": "#E5ECF6",
           "caxis": {
            "gridcolor": "white",
            "linecolor": "white",
            "ticks": ""
           }
          },
          "title": {
           "x": 0.05
          },
          "xaxis": {
           "automargin": true,
           "gridcolor": "white",
           "linecolor": "white",
           "ticks": "",
           "title": {
            "standoff": 15
           },
           "zerolinecolor": "white",
           "zerolinewidth": 2
          },
          "yaxis": {
           "automargin": true,
           "gridcolor": "white",
           "linecolor": "white",
           "ticks": "",
           "title": {
            "standoff": 15
           },
           "zerolinecolor": "white",
           "zerolinewidth": 2
          }
         }
        },
        "title": {
         "text": "Cos sim of categorical probe"
        },
        "xaxis": {
         "anchor": "y",
         "constrain": "domain",
         "domain": [
          0,
          1
         ],
         "scaleanchor": "y",
         "title": {
          "text": "N Correct InContext"
         }
        },
        "yaxis": {
         "anchor": "x",
         "autorange": true,
         "constrain": "domain",
         "domain": [
          0,
          1
         ],
         "title": {
          "text": "N Correct In Context"
         }
        }
       }
      },
      "text/html": [
       "<div>                            <div id=\"9545ba54-0324-46e1-966c-0d59ccfb942b\" class=\"plotly-graph-div\" style=\"height:525px; width:100%;\"></div>            <script type=\"text/javascript\">                require([\"plotly\"], function(Plotly) {                    window.PLOTLYENV=window.PLOTLYENV || {};                                    if (document.getElementById(\"9545ba54-0324-46e1-966c-0d59ccfb942b\")) {                    Plotly.newPlot(                        \"9545ba54-0324-46e1-966c-0d59ccfb942b\",                        [{\"coloraxis\":\"coloraxis\",\"name\":\"0\",\"z\":[[0.9999999932448069,-0.053320647738291885,-0.15203615336184156,-0.26487112493933335,-0.3098678683695228,-0.4196766111986168],[-0.053320647738291885,0.9999999941885471,-0.1568444710690528,-0.18236142033846894,-0.20503989615982088,-0.30575433639925903],[-0.15203615336184156,-0.1568444710690528,0.9999999956289927,-0.239722007708624,-0.15427776112240585,-0.19395791856455616],[-0.26487112493933335,-0.18236142033846894,-0.239722007708624,0.9999999982118607,-0.17112721954569377,-0.054111420835639974],[-0.3098678683695228,-0.20503989615982088,-0.15427776112240585,-0.17112721954569377,0.9999999999006589,-0.035304722010235615],[-0.4196766111986168,-0.30575433639925903,-0.19395791856455616,-0.054111420835639974,-0.035304722010235615,0.999999996026357]],\"type\":\"heatmap\",\"xaxis\":\"x\",\"yaxis\":\"y\",\"hovertemplate\":\"N Correct InContext: %{x}<br>N Correct In Context: %{y}<br>color: %{z}<extra></extra>\"}],                        {\"template\":{\"data\":{\"histogram2dcontour\":[{\"type\":\"histogram2dcontour\",\"colorbar\":{\"outlinewidth\":0,\"ticks\":\"\"},\"colorscale\":[[0.0,\"#0d0887\"],[0.1111111111111111,\"#46039f\"],[0.2222222222222222,\"#7201a8\"],[0.3333333333333333,\"#9c179e\"],[0.4444444444444444,\"#bd3786\"],[0.5555555555555556,\"#d8576b\"],[0.6666666666666666,\"#ed7953\"],[0.7777777777777778,\"#fb9f3a\"],[0.8888888888888888,\"#fdca26\"],[1.0,\"#f0f921\"]]}],\"choropleth\":[{\"type\":\"choropleth\",\"colorbar\":{\"outlinewidth\":0,\"ticks\":\"\"}}],\"histogram2d\":[{\"type\":\"histogram2d\",\"colorbar\":{\"outlinewidth\":0,\"ticks\":\"\"},\"colorscale\":[[0.0,\"#0d0887\"],[0.1111111111111111,\"#46039f\"],[0.2222222222222222,\"#7201a8\"],[0.3333333333333333,\"#9c179e\"],[0.4444444444444444,\"#bd3786\"],[0.5555555555555556,\"#d8576b\"],[0.6666666666666666,\"#ed7953\"],[0.7777777777777778,\"#fb9f3a\"],[0.8888888888888888,\"#fdca26\"],[1.0,\"#f0f921\"]]}],\"heatmap\":[{\"type\":\"heatmap\",\"colorbar\":{\"outlinewidth\":0,\"ticks\":\"\"},\"colorscale\":[[0.0,\"#0d0887\"],[0.1111111111111111,\"#46039f\"],[0.2222222222222222,\"#7201a8\"],[0.3333333333333333,\"#9c179e\"],[0.4444444444444444,\"#bd3786\"],[0.5555555555555556,\"#d8576b\"],[0.6666666666666666,\"#ed7953\"],[0.7777777777777778,\"#fb9f3a\"],[0.8888888888888888,\"#fdca26\"],[1.0,\"#f0f921\"]]}],\"heatmapgl\":[{\"type\":\"heatmapgl\",\"colorbar\":{\"outlinewidth\":0,\"ticks\":\"\"},\"colorscale\":[[0.0,\"#0d0887\"],[0.1111111111111111,\"#46039f\"],[0.2222222222222222,\"#7201a8\"],[0.3333333333333333,\"#9c179e\"],[0.4444444444444444,\"#bd3786\"],[0.5555555555555556,\"#d8576b\"],[0.6666666666666666,\"#ed7953\"],[0.7777777777777778,\"#fb9f3a\"],[0.8888888888888888,\"#fdca26\"],[1.0,\"#f0f921\"]]}],\"contourcarpet\":[{\"type\":\"contourcarpet\",\"colorbar\":{\"outlinewidth\":0,\"ticks\":\"\"}}],\"contour\":[{\"type\":\"contour\",\"colorbar\":{\"outlinewidth\":0,\"ticks\":\"\"},\"colorscale\":[[0.0,\"#0d0887\"],[0.1111111111111111,\"#46039f\"],[0.2222222222222222,\"#7201a8\"],[0.3333333333333333,\"#9c179e\"],[0.4444444444444444,\"#bd3786\"],[0.5555555555555556,\"#d8576b\"],[0.6666666666666666,\"#ed7953\"],[0.7777777777777778,\"#fb9f3a\"],[0.8888888888888888,\"#fdca26\"],[1.0,\"#f0f921\"]]}],\"surface\":[{\"type\":\"surface\",\"colorbar\":{\"outlinewidth\":0,\"ticks\":\"\"},\"colorscale\":[[0.0,\"#0d0887\"],[0.1111111111111111,\"#46039f\"],[0.2222222222222222,\"#7201a8\"],[0.3333333333333333,\"#9c179e\"],[0.4444444444444444,\"#bd3786\"],[0.5555555555555556,\"#d8576b\"],[0.6666666666666666,\"#ed7953\"],[0.7777777777777778,\"#fb9f3a\"],[0.8888888888888888,\"#fdca26\"],[1.0,\"#f0f921\"]]}],\"mesh3d\":[{\"type\":\"mesh3d\",\"colorbar\":{\"outlinewidth\":0,\"ticks\":\"\"}}],\"scatter\":[{\"fillpattern\":{\"fillmode\":\"overlay\",\"size\":10,\"solidity\":0.2},\"type\":\"scatter\"}],\"parcoords\":[{\"type\":\"parcoords\",\"line\":{\"colorbar\":{\"outlinewidth\":0,\"ticks\":\"\"}}}],\"scatterpolargl\":[{\"type\":\"scatterpolargl\",\"marker\":{\"colorbar\":{\"outlinewidth\":0,\"ticks\":\"\"}}}],\"bar\":[{\"error_x\":{\"color\":\"#2a3f5f\"},\"error_y\":{\"color\":\"#2a3f5f\"},\"marker\":{\"line\":{\"color\":\"#E5ECF6\",\"width\":0.5},\"pattern\":{\"fillmode\":\"overlay\",\"size\":10,\"solidity\":0.2}},\"type\":\"bar\"}],\"scattergeo\":[{\"type\":\"scattergeo\",\"marker\":{\"colorbar\":{\"outlinewidth\":0,\"ticks\":\"\"}}}],\"scatterpolar\":[{\"type\":\"scatterpolar\",\"marker\":{\"colorbar\":{\"outlinewidth\":0,\"ticks\":\"\"}}}],\"histogram\":[{\"marker\":{\"pattern\":{\"fillmode\":\"overlay\",\"size\":10,\"solidity\":0.2}},\"type\":\"histogram\"}],\"scattergl\":[{\"type\":\"scattergl\",\"marker\":{\"colorbar\":{\"outlinewidth\":0,\"ticks\":\"\"}}}],\"scatter3d\":[{\"type\":\"scatter3d\",\"line\":{\"colorbar\":{\"outlinewidth\":0,\"ticks\":\"\"}},\"marker\":{\"colorbar\":{\"outlinewidth\":0,\"ticks\":\"\"}}}],\"scattermapbox\":[{\"type\":\"scattermapbox\",\"marker\":{\"colorbar\":{\"outlinewidth\":0,\"ticks\":\"\"}}}],\"scatterternary\":[{\"type\":\"scatterternary\",\"marker\":{\"colorbar\":{\"outlinewidth\":0,\"ticks\":\"\"}}}],\"scattercarpet\":[{\"type\":\"scattercarpet\",\"marker\":{\"colorbar\":{\"outlinewidth\":0,\"ticks\":\"\"}}}],\"carpet\":[{\"aaxis\":{\"endlinecolor\":\"#2a3f5f\",\"gridcolor\":\"white\",\"linecolor\":\"white\",\"minorgridcolor\":\"white\",\"startlinecolor\":\"#2a3f5f\"},\"baxis\":{\"endlinecolor\":\"#2a3f5f\",\"gridcolor\":\"white\",\"linecolor\":\"white\",\"minorgridcolor\":\"white\",\"startlinecolor\":\"#2a3f5f\"},\"type\":\"carpet\"}],\"table\":[{\"cells\":{\"fill\":{\"color\":\"#EBF0F8\"},\"line\":{\"color\":\"white\"}},\"header\":{\"fill\":{\"color\":\"#C8D4E3\"},\"line\":{\"color\":\"white\"}},\"type\":\"table\"}],\"barpolar\":[{\"marker\":{\"line\":{\"color\":\"#E5ECF6\",\"width\":0.5},\"pattern\":{\"fillmode\":\"overlay\",\"size\":10,\"solidity\":0.2}},\"type\":\"barpolar\"}],\"pie\":[{\"automargin\":true,\"type\":\"pie\"}]},\"layout\":{\"autotypenumbers\":\"strict\",\"colorway\":[\"#636efa\",\"#EF553B\",\"#00cc96\",\"#ab63fa\",\"#FFA15A\",\"#19d3f3\",\"#FF6692\",\"#B6E880\",\"#FF97FF\",\"#FECB52\"],\"font\":{\"color\":\"#2a3f5f\"},\"hovermode\":\"closest\",\"hoverlabel\":{\"align\":\"left\"},\"paper_bgcolor\":\"white\",\"plot_bgcolor\":\"#E5ECF6\",\"polar\":{\"bgcolor\":\"#E5ECF6\",\"angularaxis\":{\"gridcolor\":\"white\",\"linecolor\":\"white\",\"ticks\":\"\"},\"radialaxis\":{\"gridcolor\":\"white\",\"linecolor\":\"white\",\"ticks\":\"\"}},\"ternary\":{\"bgcolor\":\"#E5ECF6\",\"aaxis\":{\"gridcolor\":\"white\",\"linecolor\":\"white\",\"ticks\":\"\"},\"baxis\":{\"gridcolor\":\"white\",\"linecolor\":\"white\",\"ticks\":\"\"},\"caxis\":{\"gridcolor\":\"white\",\"linecolor\":\"white\",\"ticks\":\"\"}},\"coloraxis\":{\"colorbar\":{\"outlinewidth\":0,\"ticks\":\"\"}},\"colorscale\":{\"sequential\":[[0.0,\"#0d0887\"],[0.1111111111111111,\"#46039f\"],[0.2222222222222222,\"#7201a8\"],[0.3333333333333333,\"#9c179e\"],[0.4444444444444444,\"#bd3786\"],[0.5555555555555556,\"#d8576b\"],[0.6666666666666666,\"#ed7953\"],[0.7777777777777778,\"#fb9f3a\"],[0.8888888888888888,\"#fdca26\"],[1.0,\"#f0f921\"]],\"sequentialminus\":[[0.0,\"#0d0887\"],[0.1111111111111111,\"#46039f\"],[0.2222222222222222,\"#7201a8\"],[0.3333333333333333,\"#9c179e\"],[0.4444444444444444,\"#bd3786\"],[0.5555555555555556,\"#d8576b\"],[0.6666666666666666,\"#ed7953\"],[0.7777777777777778,\"#fb9f3a\"],[0.8888888888888888,\"#fdca26\"],[1.0,\"#f0f921\"]],\"diverging\":[[0,\"#8e0152\"],[0.1,\"#c51b7d\"],[0.2,\"#de77ae\"],[0.3,\"#f1b6da\"],[0.4,\"#fde0ef\"],[0.5,\"#f7f7f7\"],[0.6,\"#e6f5d0\"],[0.7,\"#b8e186\"],[0.8,\"#7fbc41\"],[0.9,\"#4d9221\"],[1,\"#276419\"]]},\"xaxis\":{\"gridcolor\":\"white\",\"linecolor\":\"white\",\"ticks\":\"\",\"title\":{\"standoff\":15},\"zerolinecolor\":\"white\",\"automargin\":true,\"zerolinewidth\":2},\"yaxis\":{\"gridcolor\":\"white\",\"linecolor\":\"white\",\"ticks\":\"\",\"title\":{\"standoff\":15},\"zerolinecolor\":\"white\",\"automargin\":true,\"zerolinewidth\":2},\"scene\":{\"xaxis\":{\"backgroundcolor\":\"#E5ECF6\",\"gridcolor\":\"white\",\"linecolor\":\"white\",\"showbackground\":true,\"ticks\":\"\",\"zerolinecolor\":\"white\",\"gridwidth\":2},\"yaxis\":{\"backgroundcolor\":\"#E5ECF6\",\"gridcolor\":\"white\",\"linecolor\":\"white\",\"showbackground\":true,\"ticks\":\"\",\"zerolinecolor\":\"white\",\"gridwidth\":2},\"zaxis\":{\"backgroundcolor\":\"#E5ECF6\",\"gridcolor\":\"white\",\"linecolor\":\"white\",\"showbackground\":true,\"ticks\":\"\",\"zerolinecolor\":\"white\",\"gridwidth\":2}},\"shapedefaults\":{\"line\":{\"color\":\"#2a3f5f\"}},\"annotationdefaults\":{\"arrowcolor\":\"#2a3f5f\",\"arrowhead\":0,\"arrowwidth\":1},\"geo\":{\"bgcolor\":\"white\",\"landcolor\":\"#E5ECF6\",\"subunitcolor\":\"white\",\"showland\":true,\"showlakes\":true,\"lakecolor\":\"white\"},\"title\":{\"x\":0.05},\"mapbox\":{\"style\":\"light\"}}},\"xaxis\":{\"anchor\":\"y\",\"domain\":[0.0,1.0],\"scaleanchor\":\"y\",\"constrain\":\"domain\",\"title\":{\"text\":\"N Correct InContext\"}},\"yaxis\":{\"anchor\":\"x\",\"domain\":[0.0,1.0],\"autorange\":true,\"constrain\":\"domain\",\"title\":{\"text\":\"N Correct In Context\"}},\"coloraxis\":{\"colorscale\":[[0.0,\"rgb(103,0,31)\"],[0.1,\"rgb(178,24,43)\"],[0.2,\"rgb(214,96,77)\"],[0.3,\"rgb(244,165,130)\"],[0.4,\"rgb(253,219,199)\"],[0.5,\"rgb(247,247,247)\"],[0.6,\"rgb(209,229,240)\"],[0.7,\"rgb(146,197,222)\"],[0.8,\"rgb(67,147,195)\"],[0.9,\"rgb(33,102,172)\"],[1.0,\"rgb(5,48,97)\"]],\"cmid\":0},\"title\":{\"text\":\"Cos sim of categorical probe\"}},                        {\"responsive\": true}                    ).then(function(){\n",
       "                            \n",
       "var gd = document.getElementById('9545ba54-0324-46e1-966c-0d59ccfb942b');\n",
       "var x = new MutationObserver(function (mutations, observer) {{\n",
       "        var display = window.getComputedStyle(gd).display;\n",
       "        if (!display || display === 'none') {{\n",
       "            console.log([gd, 'removed!']);\n",
       "            Plotly.purge(gd);\n",
       "            observer.disconnect();\n",
       "        }}\n",
       "}});\n",
       "\n",
       "// Listen for the removal of the full notebook cells\n",
       "var notebookContainer = gd.closest('#notebook-container');\n",
       "if (notebookContainer) {{\n",
       "    x.observe(notebookContainer, {childList: true});\n",
       "}}\n",
       "\n",
       "// Listen for the clearing of the current output cell\n",
       "var outputEl = gd.closest('.output');\n",
       "if (outputEl) {{\n",
       "    x.observe(outputEl, {childList: true});\n",
       "}}\n",
       "\n",
       "                        })                };                });            </script>        </div>"
      ]
     },
     "metadata": {},
     "output_type": "display_data"
    }
   ],
   "source": [
    "cos = nn.CosineSimilarity()\n",
    "\n",
    "probe_num_context_cossim = []\n",
    "for probe in nin_d.probes:\n",
    "    cossims = np.empty((6, 6))\n",
    "    for i in range(6):\n",
    "        for j in range(6):\n",
    "            cossims[i, j] = cos(torch.from_numpy(probe.coef_[i]).reshape(1, -1), torch.from_numpy(probe.coef_[j]).reshape(1, -1)).item()\n",
    "\n",
    "    probe_num_context_cossim.append(cossims)\n",
    "\n",
    "probe_num_context_cossim = np.stack(probe_num_context_cossim).mean(axis = 0)\n",
    "px.imshow(probe_num_context_cossim, labels = {\"x\" : \"N Correct InContext\", \"y\": \"N Correct In Context\"},title = \"Cos sim of categorical probe\", color_continuous_midpoint = 0, color_continuous_scale=\"RdBu\", origin = \"lower\")"
   ]
  },
  {
   "cell_type": "code",
   "execution_count": 164,
   "metadata": {},
   "outputs": [
    {
     "data": {
      "application/vnd.plotly.v1+json": {
       "config": {
        "plotlyServerURL": "https://plot.ly"
       },
       "data": [
        {
         "coloraxis": "coloraxis",
         "hovertemplate": "Heads (sorted): %{x}<br>Layers: %{y}<br>color: %{z}<extra></extra>",
         "name": "0",
         "type": "heatmap",
         "xaxis": "x",
         "yaxis": "y",
         "z": [
          [
           0.8,
           0.8,
           0.8,
           0.8,
           0.8,
           0.8,
           0.8,
           0.8,
           0.8,
           0.8,
           0.8,
           0.8,
           0.8,
           0.8,
           0.8,
           0.8,
           0.8,
           0.8,
           0.8,
           0.8,
           0.8,
           0.8,
           0.8,
           0.8,
           0.8
          ],
          [
           0.8,
           0.8,
           0.8,
           0.8,
           0.8,
           0.8,
           0.8,
           0.8,
           0.8,
           0.8,
           0.8,
           0.8,
           0.8,
           0.8,
           0.8,
           0.8,
           0.8,
           0.8,
           0.8,
           0.8,
           0.8,
           0.8,
           0.8,
           0.8,
           0.8
          ],
          [
           0.8,
           0.8,
           0.8,
           0.8,
           0.8,
           0.8,
           0.8,
           0.8,
           0.8,
           0.8,
           0.8,
           0.8,
           0.8,
           0.8,
           0.8,
           0.8,
           0.8,
           0.8,
           0.8,
           0.8,
           0.8,
           0.8,
           0.8,
           0.8,
           0.8
          ],
          [
           0.8,
           0.8,
           0.8,
           0.8,
           0.8,
           0.8,
           0.8,
           0.8,
           0.8,
           0.8,
           0.8,
           0.8,
           0.8,
           0.8,
           0.8,
           0.8,
           0.8,
           0.8,
           0.8,
           0.8,
           0.8,
           0.8,
           0.8,
           0.8,
           0.8
          ],
          [
           0.8,
           0.8,
           0.8,
           0.8,
           0.8,
           0.8,
           0.8,
           0.8,
           0.8,
           0.8,
           0.8,
           0.8,
           0.8,
           0.8,
           0.8,
           0.8,
           0.8,
           0.8,
           0.8,
           0.8,
           0.8,
           0.8,
           0.8,
           0.8,
           0.8
          ],
          [
           0.8,
           0.8,
           0.8,
           0.8,
           0.8,
           0.8,
           0.8,
           0.8,
           0.8,
           0.8,
           0.8,
           0.8,
           0.8,
           0.8,
           0.8,
           0.8,
           0.8,
           0.8,
           0.8,
           0.8,
           0.8,
           0.8,
           0.8,
           0.8,
           0.8
          ],
          [
           0.8,
           0.8,
           0.8,
           0.8,
           0.8,
           0.8,
           0.8,
           0.8,
           0.8,
           0.8,
           0.8,
           0.8,
           0.8,
           0.8,
           0.8,
           0.8,
           0.8,
           0.8,
           0.8,
           0.8,
           0.8,
           0.8,
           0.8,
           0.8,
           0.8
          ],
          [
           0.8,
           0.8,
           0.8,
           0.8,
           0.8,
           0.8,
           0.8,
           0.8,
           0.8,
           0.8,
           0.8,
           0.8,
           0.8,
           0.8,
           0.8,
           0.8,
           0.8,
           0.8,
           0.8,
           0.8,
           0.8,
           0.8,
           0.8,
           0.8,
           0.8
          ],
          [
           0.8,
           0.8,
           0.8,
           0.8,
           0.8,
           0.8,
           0.8,
           0.8,
           0.8,
           0.8,
           0.8,
           0.8,
           0.8,
           0.8,
           0.8,
           0.8,
           0.8,
           0.8,
           0.8,
           0.8,
           0.8,
           0.8,
           0.8,
           0.8,
           0.8
          ],
          [
           0.8,
           0.8,
           0.8,
           0.8,
           0.8,
           0.8,
           0.8,
           0.8,
           0.8,
           0.8,
           0.8,
           0.8,
           0.8,
           0.8,
           0.8,
           0.8,
           0.8,
           0.8,
           0.8,
           0.8,
           0.8,
           0.8,
           0.8,
           0.78,
           0.78
          ],
          [
           0.8,
           0.8,
           0.8,
           0.8,
           0.8,
           0.8,
           0.8,
           0.8,
           0.8,
           0.8,
           0.8,
           0.8,
           0.8,
           0.8,
           0.8,
           0.8,
           0.8,
           0.8,
           0.8,
           0.8,
           0.8,
           0.8,
           0.8,
           0.8,
           0.8
          ],
          [
           0.8,
           0.8,
           0.8,
           0.8,
           0.8,
           0.8,
           0.8,
           0.8,
           0.8,
           0.8,
           0.8,
           0.8,
           0.8,
           0.8,
           0.8,
           0.8,
           0.8,
           0.8,
           0.8,
           0.8,
           0.8,
           0.8,
           0.8,
           0.8,
           0.8
          ],
          [
           0.8,
           0.8,
           0.8,
           0.8,
           0.8,
           0.8,
           0.8,
           0.8,
           0.8,
           0.8,
           0.8,
           0.8,
           0.8,
           0.8,
           0.8,
           0.8,
           0.8,
           0.8,
           0.8,
           0.8,
           0.8,
           0.8,
           0.8,
           0.8,
           0.8
          ],
          [
           0.82,
           0.8,
           0.8,
           0.8,
           0.8,
           0.8,
           0.8,
           0.8,
           0.8,
           0.8,
           0.8,
           0.8,
           0.8,
           0.8,
           0.8,
           0.8,
           0.8,
           0.8,
           0.8,
           0.8,
           0.8,
           0.8,
           0.8,
           0.8,
           0.8
          ],
          [
           0.8,
           0.8,
           0.8,
           0.8,
           0.8,
           0.8,
           0.8,
           0.8,
           0.8,
           0.8,
           0.8,
           0.8,
           0.8,
           0.8,
           0.8,
           0.8,
           0.8,
           0.8,
           0.8,
           0.8,
           0.8,
           0.78,
           0.78,
           0.78,
           0.78
          ],
          [
           0.8,
           0.8,
           0.8,
           0.8,
           0.8,
           0.8,
           0.8,
           0.8,
           0.8,
           0.8,
           0.8,
           0.8,
           0.8,
           0.8,
           0.8,
           0.8,
           0.8,
           0.8,
           0.8,
           0.8,
           0.8,
           0.8,
           0.8,
           0.8,
           0.8
          ],
          [
           0.82,
           0.8,
           0.8,
           0.8,
           0.8,
           0.8,
           0.8,
           0.8,
           0.8,
           0.8,
           0.8,
           0.8,
           0.8,
           0.8,
           0.8,
           0.8,
           0.8,
           0.8,
           0.8,
           0.8,
           0.8,
           0.78,
           0.78,
           0.78,
           0.78
          ],
          [
           0.82,
           0.82,
           0.8,
           0.8,
           0.8,
           0.8,
           0.8,
           0.8,
           0.8,
           0.8,
           0.8,
           0.8,
           0.8,
           0.8,
           0.8,
           0.8,
           0.8,
           0.8,
           0.8,
           0.8,
           0.78,
           0.78,
           0.76,
           0.76,
           0.74
          ],
          [
           0.8,
           0.8,
           0.8,
           0.8,
           0.8,
           0.8,
           0.8,
           0.8,
           0.8,
           0.8,
           0.8,
           0.8,
           0.8,
           0.8,
           0.8,
           0.8,
           0.8,
           0.8,
           0.78,
           0.78,
           0.78,
           0.76,
           0.76,
           0.76,
           0.74
          ],
          [
           0.88,
           0.84,
           0.84,
           0.82,
           0.82,
           0.82,
           0.82,
           0.8,
           0.8,
           0.8,
           0.8,
           0.8,
           0.8,
           0.8,
           0.8,
           0.8,
           0.8,
           0.8,
           0.8,
           0.8,
           0.8,
           0.8,
           0.8,
           0.8,
           0.76
          ],
          [
           0.9,
           0.86,
           0.86,
           0.86,
           0.8,
           0.8,
           0.8,
           0.8,
           0.8,
           0.8,
           0.8,
           0.8,
           0.8,
           0.8,
           0.8,
           0.8,
           0.8,
           0.8,
           0.8,
           0.8,
           0.8,
           0.8,
           0.8,
           0.8,
           0.78
          ],
          [
           0.86,
           0.86,
           0.86,
           0.84,
           0.84,
           0.82,
           0.82,
           0.82,
           0.8,
           0.8,
           0.8,
           0.8,
           0.8,
           0.8,
           0.8,
           0.8,
           0.8,
           0.8,
           0.8,
           0.8,
           0.78,
           0.78,
           0.78,
           0.78,
           0.74
          ],
          [
           0.88,
           0.86,
           0.86,
           0.84,
           0.84,
           0.82,
           0.82,
           0.82,
           0.82,
           0.82,
           0.82,
           0.82,
           0.8,
           0.8,
           0.8,
           0.8,
           0.8,
           0.8,
           0.8,
           0.8,
           0.8,
           0.8,
           0.8,
           0.8,
           0.76
          ],
          [
           0.9,
           0.86,
           0.86,
           0.84,
           0.84,
           0.84,
           0.84,
           0.84,
           0.84,
           0.82,
           0.82,
           0.82,
           0.82,
           0.8,
           0.8,
           0.8,
           0.8,
           0.8,
           0.8,
           0.8,
           0.8,
           0.8,
           0.78,
           0.78,
           0.78
          ],
          [
           0.88,
           0.86,
           0.84,
           0.84,
           0.82,
           0.82,
           0.82,
           0.82,
           0.82,
           0.82,
           0.8,
           0.8,
           0.8,
           0.8,
           0.8,
           0.8,
           0.8,
           0.8,
           0.8,
           0.8,
           0.8,
           0.78,
           0.76,
           0.76,
           0.74
          ],
          [
           0.88,
           0.86,
           0.84,
           0.84,
           0.82,
           0.82,
           0.82,
           0.82,
           0.82,
           0.82,
           0.82,
           0.82,
           0.82,
           0.82,
           0.82,
           0.8,
           0.8,
           0.8,
           0.8,
           0.8,
           0.8,
           0.8,
           0.8,
           0.8,
           0.8
          ],
          [
           0.86,
           0.86,
           0.84,
           0.84,
           0.84,
           0.82,
           0.82,
           0.82,
           0.82,
           0.8,
           0.8,
           0.8,
           0.8,
           0.8,
           0.8,
           0.8,
           0.8,
           0.8,
           0.8,
           0.8,
           0.8,
           0.8,
           0.78,
           0.78,
           0.72
          ],
          [
           0.84,
           0.82,
           0.82,
           0.8,
           0.8,
           0.8,
           0.8,
           0.8,
           0.8,
           0.8,
           0.8,
           0.8,
           0.8,
           0.8,
           0.8,
           0.8,
           0.8,
           0.8,
           0.8,
           0.8,
           0.78,
           0.78,
           0.78,
           0.76,
           0.74
          ],
          [
           0.84,
           0.82,
           0.82,
           0.82,
           0.8,
           0.8,
           0.8,
           0.8,
           0.8,
           0.8,
           0.8,
           0.8,
           0.8,
           0.8,
           0.8,
           0.8,
           0.8,
           0.8,
           0.8,
           0.8,
           0.8,
           0.8,
           0.8,
           0.76,
           0.64
          ],
          [
           0.88,
           0.86,
           0.86,
           0.86,
           0.84,
           0.84,
           0.82,
           0.8,
           0.8,
           0.8,
           0.8,
           0.8,
           0.8,
           0.8,
           0.8,
           0.8,
           0.8,
           0.8,
           0.8,
           0.8,
           0.78,
           0.78,
           0.78,
           0.76,
           0.66
          ],
          [
           0.8,
           0.8,
           0.8,
           0.8,
           0.8,
           0.8,
           0.8,
           0.8,
           0.8,
           0.8,
           0.8,
           0.8,
           0.8,
           0.8,
           0.8,
           0.78,
           0.78,
           0.78,
           0.78,
           0.78,
           0.78,
           0.76,
           0.76,
           0.7,
           0.68
          ],
          [
           0.88,
           0.88,
           0.84,
           0.82,
           0.82,
           0.8,
           0.8,
           0.8,
           0.8,
           0.8,
           0.8,
           0.8,
           0.8,
           0.8,
           0.8,
           0.8,
           0.8,
           0.8,
           0.8,
           0.78,
           0.76,
           0.76,
           0.76,
           0.74,
           0.64
          ],
          [
           0.84,
           0.82,
           0.82,
           0.8,
           0.8,
           0.8,
           0.8,
           0.8,
           0.8,
           0.8,
           0.8,
           0.8,
           0.8,
           0.8,
           0.8,
           0.8,
           0.78,
           0.78,
           0.78,
           0.78,
           0.78,
           0.78,
           0.78,
           0.78,
           0.78
          ],
          [
           0.84,
           0.82,
           0.8,
           0.8,
           0.8,
           0.8,
           0.8,
           0.8,
           0.8,
           0.8,
           0.8,
           0.8,
           0.8,
           0.8,
           0.8,
           0.8,
           0.8,
           0.78,
           0.78,
           0.78,
           0.76,
           0.76,
           0.74,
           0.7,
           0.7
          ],
          [
           0.82,
           0.82,
           0.8,
           0.8,
           0.8,
           0.8,
           0.8,
           0.8,
           0.8,
           0.8,
           0.8,
           0.8,
           0.8,
           0.8,
           0.8,
           0.8,
           0.8,
           0.8,
           0.8,
           0.78,
           0.78,
           0.72,
           0.72,
           0.7,
           0.62
          ],
          [
           0.8,
           0.8,
           0.8,
           0.8,
           0.8,
           0.8,
           0.8,
           0.8,
           0.8,
           0.8,
           0.8,
           0.8,
           0.8,
           0.8,
           0.8,
           0.8,
           0.78,
           0.78,
           0.78,
           0.76,
           0.74,
           0.74,
           0.74,
           0.72,
           0.7
          ],
          [
           0.82,
           0.82,
           0.8,
           0.8,
           0.8,
           0.8,
           0.8,
           0.8,
           0.8,
           0.8,
           0.8,
           0.8,
           0.8,
           0.8,
           0.8,
           0.8,
           0.8,
           0.8,
           0.8,
           0.8,
           0.76,
           0.76,
           0.72,
           0.72,
           0.66
          ],
          [
           0.82,
           0.82,
           0.8,
           0.8,
           0.8,
           0.8,
           0.8,
           0.8,
           0.8,
           0.8,
           0.8,
           0.8,
           0.8,
           0.8,
           0.8,
           0.8,
           0.8,
           0.8,
           0.8,
           0.8,
           0.78,
           0.78,
           0.78,
           0.76,
           0.72
          ],
          [
           0.84,
           0.82,
           0.8,
           0.8,
           0.8,
           0.8,
           0.8,
           0.8,
           0.8,
           0.8,
           0.8,
           0.8,
           0.8,
           0.8,
           0.8,
           0.8,
           0.8,
           0.8,
           0.78,
           0.78,
           0.78,
           0.76,
           0.76,
           0.76,
           0.74
          ],
          [
           0.82,
           0.8,
           0.8,
           0.8,
           0.8,
           0.8,
           0.8,
           0.8,
           0.8,
           0.8,
           0.8,
           0.8,
           0.8,
           0.8,
           0.8,
           0.8,
           0.78,
           0.78,
           0.78,
           0.78,
           0.76,
           0.76,
           0.74,
           0.72,
           0.7
          ],
          [
           0.82,
           0.82,
           0.82,
           0.8,
           0.8,
           0.8,
           0.8,
           0.8,
           0.8,
           0.8,
           0.8,
           0.8,
           0.8,
           0.8,
           0.8,
           0.8,
           0.8,
           0.8,
           0.78,
           0.78,
           0.78,
           0.76,
           0.76,
           0.74,
           0.68
          ],
          [
           0.8,
           0.8,
           0.8,
           0.8,
           0.8,
           0.8,
           0.8,
           0.8,
           0.8,
           0.8,
           0.8,
           0.8,
           0.8,
           0.8,
           0.8,
           0.8,
           0.8,
           0.8,
           0.8,
           0.78,
           0.78,
           0.78,
           0.76,
           0.72,
           0.7
          ],
          [
           0.86,
           0.82,
           0.82,
           0.8,
           0.8,
           0.8,
           0.8,
           0.8,
           0.8,
           0.8,
           0.8,
           0.8,
           0.8,
           0.8,
           0.8,
           0.78,
           0.78,
           0.78,
           0.76,
           0.76,
           0.76,
           0.74,
           0.72,
           0.72,
           0.66
          ],
          [
           0.82,
           0.82,
           0.82,
           0.8,
           0.8,
           0.8,
           0.8,
           0.8,
           0.8,
           0.8,
           0.8,
           0.8,
           0.8,
           0.8,
           0.8,
           0.8,
           0.8,
           0.8,
           0.78,
           0.78,
           0.78,
           0.76,
           0.74,
           0.74,
           0.7
          ],
          [
           0.8,
           0.8,
           0.8,
           0.8,
           0.8,
           0.8,
           0.8,
           0.8,
           0.8,
           0.8,
           0.8,
           0.8,
           0.8,
           0.8,
           0.8,
           0.78,
           0.76,
           0.76,
           0.76,
           0.74,
           0.74,
           0.72,
           0.72,
           0.68,
           0.68
          ],
          [
           0.84,
           0.84,
           0.8,
           0.8,
           0.8,
           0.8,
           0.8,
           0.8,
           0.8,
           0.8,
           0.8,
           0.8,
           0.8,
           0.78,
           0.78,
           0.78,
           0.78,
           0.78,
           0.78,
           0.78,
           0.76,
           0.74,
           0.72,
           0.7,
           0.7
          ],
          [
           0.82,
           0.82,
           0.82,
           0.8,
           0.8,
           0.8,
           0.8,
           0.8,
           0.8,
           0.8,
           0.78,
           0.78,
           0.78,
           0.78,
           0.78,
           0.78,
           0.78,
           0.74,
           0.74,
           0.74,
           0.72,
           0.72,
           0.72,
           0.7,
           0.64
          ],
          [
           0.84,
           0.82,
           0.82,
           0.82,
           0.82,
           0.82,
           0.8,
           0.8,
           0.8,
           0.8,
           0.8,
           0.8,
           0.8,
           0.8,
           0.8,
           0.8,
           0.8,
           0.8,
           0.78,
           0.78,
           0.78,
           0.78,
           0.76,
           0.76,
           0.68
          ]
         ]
        }
       ],
       "layout": {
        "coloraxis": {
         "cmid": 0.79,
         "colorscale": [
          [
           0,
           "rgb(103,0,31)"
          ],
          [
           0.1,
           "rgb(178,24,43)"
          ],
          [
           0.2,
           "rgb(214,96,77)"
          ],
          [
           0.3,
           "rgb(244,165,130)"
          ],
          [
           0.4,
           "rgb(253,219,199)"
          ],
          [
           0.5,
           "rgb(247,247,247)"
          ],
          [
           0.6,
           "rgb(209,229,240)"
          ],
          [
           0.7,
           "rgb(146,197,222)"
          ],
          [
           0.8,
           "rgb(67,147,195)"
          ],
          [
           0.9,
           "rgb(33,102,172)"
          ],
          [
           1,
           "rgb(5,48,97)"
          ]
         ]
        },
        "template": {
         "data": {
          "bar": [
           {
            "error_x": {
             "color": "#2a3f5f"
            },
            "error_y": {
             "color": "#2a3f5f"
            },
            "marker": {
             "line": {
              "color": "#E5ECF6",
              "width": 0.5
             },
             "pattern": {
              "fillmode": "overlay",
              "size": 10,
              "solidity": 0.2
             }
            },
            "type": "bar"
           }
          ],
          "barpolar": [
           {
            "marker": {
             "line": {
              "color": "#E5ECF6",
              "width": 0.5
             },
             "pattern": {
              "fillmode": "overlay",
              "size": 10,
              "solidity": 0.2
             }
            },
            "type": "barpolar"
           }
          ],
          "carpet": [
           {
            "aaxis": {
             "endlinecolor": "#2a3f5f",
             "gridcolor": "white",
             "linecolor": "white",
             "minorgridcolor": "white",
             "startlinecolor": "#2a3f5f"
            },
            "baxis": {
             "endlinecolor": "#2a3f5f",
             "gridcolor": "white",
             "linecolor": "white",
             "minorgridcolor": "white",
             "startlinecolor": "#2a3f5f"
            },
            "type": "carpet"
           }
          ],
          "choropleth": [
           {
            "colorbar": {
             "outlinewidth": 0,
             "ticks": ""
            },
            "type": "choropleth"
           }
          ],
          "contour": [
           {
            "colorbar": {
             "outlinewidth": 0,
             "ticks": ""
            },
            "colorscale": [
             [
              0,
              "#0d0887"
             ],
             [
              0.1111111111111111,
              "#46039f"
             ],
             [
              0.2222222222222222,
              "#7201a8"
             ],
             [
              0.3333333333333333,
              "#9c179e"
             ],
             [
              0.4444444444444444,
              "#bd3786"
             ],
             [
              0.5555555555555556,
              "#d8576b"
             ],
             [
              0.6666666666666666,
              "#ed7953"
             ],
             [
              0.7777777777777778,
              "#fb9f3a"
             ],
             [
              0.8888888888888888,
              "#fdca26"
             ],
             [
              1,
              "#f0f921"
             ]
            ],
            "type": "contour"
           }
          ],
          "contourcarpet": [
           {
            "colorbar": {
             "outlinewidth": 0,
             "ticks": ""
            },
            "type": "contourcarpet"
           }
          ],
          "heatmap": [
           {
            "colorbar": {
             "outlinewidth": 0,
             "ticks": ""
            },
            "colorscale": [
             [
              0,
              "#0d0887"
             ],
             [
              0.1111111111111111,
              "#46039f"
             ],
             [
              0.2222222222222222,
              "#7201a8"
             ],
             [
              0.3333333333333333,
              "#9c179e"
             ],
             [
              0.4444444444444444,
              "#bd3786"
             ],
             [
              0.5555555555555556,
              "#d8576b"
             ],
             [
              0.6666666666666666,
              "#ed7953"
             ],
             [
              0.7777777777777778,
              "#fb9f3a"
             ],
             [
              0.8888888888888888,
              "#fdca26"
             ],
             [
              1,
              "#f0f921"
             ]
            ],
            "type": "heatmap"
           }
          ],
          "heatmapgl": [
           {
            "colorbar": {
             "outlinewidth": 0,
             "ticks": ""
            },
            "colorscale": [
             [
              0,
              "#0d0887"
             ],
             [
              0.1111111111111111,
              "#46039f"
             ],
             [
              0.2222222222222222,
              "#7201a8"
             ],
             [
              0.3333333333333333,
              "#9c179e"
             ],
             [
              0.4444444444444444,
              "#bd3786"
             ],
             [
              0.5555555555555556,
              "#d8576b"
             ],
             [
              0.6666666666666666,
              "#ed7953"
             ],
             [
              0.7777777777777778,
              "#fb9f3a"
             ],
             [
              0.8888888888888888,
              "#fdca26"
             ],
             [
              1,
              "#f0f921"
             ]
            ],
            "type": "heatmapgl"
           }
          ],
          "histogram": [
           {
            "marker": {
             "pattern": {
              "fillmode": "overlay",
              "size": 10,
              "solidity": 0.2
             }
            },
            "type": "histogram"
           }
          ],
          "histogram2d": [
           {
            "colorbar": {
             "outlinewidth": 0,
             "ticks": ""
            },
            "colorscale": [
             [
              0,
              "#0d0887"
             ],
             [
              0.1111111111111111,
              "#46039f"
             ],
             [
              0.2222222222222222,
              "#7201a8"
             ],
             [
              0.3333333333333333,
              "#9c179e"
             ],
             [
              0.4444444444444444,
              "#bd3786"
             ],
             [
              0.5555555555555556,
              "#d8576b"
             ],
             [
              0.6666666666666666,
              "#ed7953"
             ],
             [
              0.7777777777777778,
              "#fb9f3a"
             ],
             [
              0.8888888888888888,
              "#fdca26"
             ],
             [
              1,
              "#f0f921"
             ]
            ],
            "type": "histogram2d"
           }
          ],
          "histogram2dcontour": [
           {
            "colorbar": {
             "outlinewidth": 0,
             "ticks": ""
            },
            "colorscale": [
             [
              0,
              "#0d0887"
             ],
             [
              0.1111111111111111,
              "#46039f"
             ],
             [
              0.2222222222222222,
              "#7201a8"
             ],
             [
              0.3333333333333333,
              "#9c179e"
             ],
             [
              0.4444444444444444,
              "#bd3786"
             ],
             [
              0.5555555555555556,
              "#d8576b"
             ],
             [
              0.6666666666666666,
              "#ed7953"
             ],
             [
              0.7777777777777778,
              "#fb9f3a"
             ],
             [
              0.8888888888888888,
              "#fdca26"
             ],
             [
              1,
              "#f0f921"
             ]
            ],
            "type": "histogram2dcontour"
           }
          ],
          "mesh3d": [
           {
            "colorbar": {
             "outlinewidth": 0,
             "ticks": ""
            },
            "type": "mesh3d"
           }
          ],
          "parcoords": [
           {
            "line": {
             "colorbar": {
              "outlinewidth": 0,
              "ticks": ""
             }
            },
            "type": "parcoords"
           }
          ],
          "pie": [
           {
            "automargin": true,
            "type": "pie"
           }
          ],
          "scatter": [
           {
            "fillpattern": {
             "fillmode": "overlay",
             "size": 10,
             "solidity": 0.2
            },
            "type": "scatter"
           }
          ],
          "scatter3d": [
           {
            "line": {
             "colorbar": {
              "outlinewidth": 0,
              "ticks": ""
             }
            },
            "marker": {
             "colorbar": {
              "outlinewidth": 0,
              "ticks": ""
             }
            },
            "type": "scatter3d"
           }
          ],
          "scattercarpet": [
           {
            "marker": {
             "colorbar": {
              "outlinewidth": 0,
              "ticks": ""
             }
            },
            "type": "scattercarpet"
           }
          ],
          "scattergeo": [
           {
            "marker": {
             "colorbar": {
              "outlinewidth": 0,
              "ticks": ""
             }
            },
            "type": "scattergeo"
           }
          ],
          "scattergl": [
           {
            "marker": {
             "colorbar": {
              "outlinewidth": 0,
              "ticks": ""
             }
            },
            "type": "scattergl"
           }
          ],
          "scattermapbox": [
           {
            "marker": {
             "colorbar": {
              "outlinewidth": 0,
              "ticks": ""
             }
            },
            "type": "scattermapbox"
           }
          ],
          "scatterpolar": [
           {
            "marker": {
             "colorbar": {
              "outlinewidth": 0,
              "ticks": ""
             }
            },
            "type": "scatterpolar"
           }
          ],
          "scatterpolargl": [
           {
            "marker": {
             "colorbar": {
              "outlinewidth": 0,
              "ticks": ""
             }
            },
            "type": "scatterpolargl"
           }
          ],
          "scatterternary": [
           {
            "marker": {
             "colorbar": {
              "outlinewidth": 0,
              "ticks": ""
             }
            },
            "type": "scatterternary"
           }
          ],
          "surface": [
           {
            "colorbar": {
             "outlinewidth": 0,
             "ticks": ""
            },
            "colorscale": [
             [
              0,
              "#0d0887"
             ],
             [
              0.1111111111111111,
              "#46039f"
             ],
             [
              0.2222222222222222,
              "#7201a8"
             ],
             [
              0.3333333333333333,
              "#9c179e"
             ],
             [
              0.4444444444444444,
              "#bd3786"
             ],
             [
              0.5555555555555556,
              "#d8576b"
             ],
             [
              0.6666666666666666,
              "#ed7953"
             ],
             [
              0.7777777777777778,
              "#fb9f3a"
             ],
             [
              0.8888888888888888,
              "#fdca26"
             ],
             [
              1,
              "#f0f921"
             ]
            ],
            "type": "surface"
           }
          ],
          "table": [
           {
            "cells": {
             "fill": {
              "color": "#EBF0F8"
             },
             "line": {
              "color": "white"
             }
            },
            "header": {
             "fill": {
              "color": "#C8D4E3"
             },
             "line": {
              "color": "white"
             }
            },
            "type": "table"
           }
          ]
         },
         "layout": {
          "annotationdefaults": {
           "arrowcolor": "#2a3f5f",
           "arrowhead": 0,
           "arrowwidth": 1
          },
          "autotypenumbers": "strict",
          "coloraxis": {
           "colorbar": {
            "outlinewidth": 0,
            "ticks": ""
           }
          },
          "colorscale": {
           "diverging": [
            [
             0,
             "#8e0152"
            ],
            [
             0.1,
             "#c51b7d"
            ],
            [
             0.2,
             "#de77ae"
            ],
            [
             0.3,
             "#f1b6da"
            ],
            [
             0.4,
             "#fde0ef"
            ],
            [
             0.5,
             "#f7f7f7"
            ],
            [
             0.6,
             "#e6f5d0"
            ],
            [
             0.7,
             "#b8e186"
            ],
            [
             0.8,
             "#7fbc41"
            ],
            [
             0.9,
             "#4d9221"
            ],
            [
             1,
             "#276419"
            ]
           ],
           "sequential": [
            [
             0,
             "#0d0887"
            ],
            [
             0.1111111111111111,
             "#46039f"
            ],
            [
             0.2222222222222222,
             "#7201a8"
            ],
            [
             0.3333333333333333,
             "#9c179e"
            ],
            [
             0.4444444444444444,
             "#bd3786"
            ],
            [
             0.5555555555555556,
             "#d8576b"
            ],
            [
             0.6666666666666666,
             "#ed7953"
            ],
            [
             0.7777777777777778,
             "#fb9f3a"
            ],
            [
             0.8888888888888888,
             "#fdca26"
            ],
            [
             1,
             "#f0f921"
            ]
           ],
           "sequentialminus": [
            [
             0,
             "#0d0887"
            ],
            [
             0.1111111111111111,
             "#46039f"
            ],
            [
             0.2222222222222222,
             "#7201a8"
            ],
            [
             0.3333333333333333,
             "#9c179e"
            ],
            [
             0.4444444444444444,
             "#bd3786"
            ],
            [
             0.5555555555555556,
             "#d8576b"
            ],
            [
             0.6666666666666666,
             "#ed7953"
            ],
            [
             0.7777777777777778,
             "#fb9f3a"
            ],
            [
             0.8888888888888888,
             "#fdca26"
            ],
            [
             1,
             "#f0f921"
            ]
           ]
          },
          "colorway": [
           "#636efa",
           "#EF553B",
           "#00cc96",
           "#ab63fa",
           "#FFA15A",
           "#19d3f3",
           "#FF6692",
           "#B6E880",
           "#FF97FF",
           "#FECB52"
          ],
          "font": {
           "color": "#2a3f5f"
          },
          "geo": {
           "bgcolor": "white",
           "lakecolor": "white",
           "landcolor": "#E5ECF6",
           "showlakes": true,
           "showland": true,
           "subunitcolor": "white"
          },
          "hoverlabel": {
           "align": "left"
          },
          "hovermode": "closest",
          "mapbox": {
           "style": "light"
          },
          "paper_bgcolor": "white",
          "plot_bgcolor": "#E5ECF6",
          "polar": {
           "angularaxis": {
            "gridcolor": "white",
            "linecolor": "white",
            "ticks": ""
           },
           "bgcolor": "#E5ECF6",
           "radialaxis": {
            "gridcolor": "white",
            "linecolor": "white",
            "ticks": ""
           }
          },
          "scene": {
           "xaxis": {
            "backgroundcolor": "#E5ECF6",
            "gridcolor": "white",
            "gridwidth": 2,
            "linecolor": "white",
            "showbackground": true,
            "ticks": "",
            "zerolinecolor": "white"
           },
           "yaxis": {
            "backgroundcolor": "#E5ECF6",
            "gridcolor": "white",
            "gridwidth": 2,
            "linecolor": "white",
            "showbackground": true,
            "ticks": "",
            "zerolinecolor": "white"
           },
           "zaxis": {
            "backgroundcolor": "#E5ECF6",
            "gridcolor": "white",
            "gridwidth": 2,
            "linecolor": "white",
            "showbackground": true,
            "ticks": "",
            "zerolinecolor": "white"
           }
          },
          "shapedefaults": {
           "line": {
            "color": "#2a3f5f"
           }
          },
          "ternary": {
           "aaxis": {
            "gridcolor": "white",
            "linecolor": "white",
            "ticks": ""
           },
           "baxis": {
            "gridcolor": "white",
            "linecolor": "white",
            "ticks": ""
           },
           "bgcolor": "#E5ECF6",
           "caxis": {
            "gridcolor": "white",
            "linecolor": "white",
            "ticks": ""
           }
          },
          "title": {
           "x": 0.05
          },
          "xaxis": {
           "automargin": true,
           "gridcolor": "white",
           "linecolor": "white",
           "ticks": "",
           "title": {
            "standoff": 15
           },
           "zerolinecolor": "white",
           "zerolinewidth": 2
          },
          "yaxis": {
           "automargin": true,
           "gridcolor": "white",
           "linecolor": "white",
           "ticks": "",
           "title": {
            "standoff": 15
           },
           "zerolinecolor": "white",
           "zerolinewidth": 2
          }
         }
        },
        "title": {
         "text": "Sorted Probe Accuracies on Num Correct Incontext"
        },
        "xaxis": {
         "anchor": "y",
         "constrain": "domain",
         "domain": [
          0,
          1
         ],
         "scaleanchor": "y",
         "title": {
          "text": "Heads (sorted)"
         }
        },
        "yaxis": {
         "anchor": "x",
         "autorange": true,
         "constrain": "domain",
         "domain": [
          0,
          1
         ],
         "title": {
          "text": "Layers"
         }
        }
       }
      },
      "text/html": [
       "<div>                            <div id=\"7c60bbe7-9971-4936-803f-9ad4ed25a1ab\" class=\"plotly-graph-div\" style=\"height:525px; width:100%;\"></div>            <script type=\"text/javascript\">                require([\"plotly\"], function(Plotly) {                    window.PLOTLYENV=window.PLOTLYENV || {};                                    if (document.getElementById(\"7c60bbe7-9971-4936-803f-9ad4ed25a1ab\")) {                    Plotly.newPlot(                        \"7c60bbe7-9971-4936-803f-9ad4ed25a1ab\",                        [{\"coloraxis\":\"coloraxis\",\"name\":\"0\",\"z\":[[0.8,0.8,0.8,0.8,0.8,0.8,0.8,0.8,0.8,0.8,0.8,0.8,0.8,0.8,0.8,0.8,0.8,0.8,0.8,0.8,0.8,0.8,0.8,0.8,0.8],[0.8,0.8,0.8,0.8,0.8,0.8,0.8,0.8,0.8,0.8,0.8,0.8,0.8,0.8,0.8,0.8,0.8,0.8,0.8,0.8,0.8,0.8,0.8,0.8,0.8],[0.8,0.8,0.8,0.8,0.8,0.8,0.8,0.8,0.8,0.8,0.8,0.8,0.8,0.8,0.8,0.8,0.8,0.8,0.8,0.8,0.8,0.8,0.8,0.8,0.8],[0.8,0.8,0.8,0.8,0.8,0.8,0.8,0.8,0.8,0.8,0.8,0.8,0.8,0.8,0.8,0.8,0.8,0.8,0.8,0.8,0.8,0.8,0.8,0.8,0.8],[0.8,0.8,0.8,0.8,0.8,0.8,0.8,0.8,0.8,0.8,0.8,0.8,0.8,0.8,0.8,0.8,0.8,0.8,0.8,0.8,0.8,0.8,0.8,0.8,0.8],[0.8,0.8,0.8,0.8,0.8,0.8,0.8,0.8,0.8,0.8,0.8,0.8,0.8,0.8,0.8,0.8,0.8,0.8,0.8,0.8,0.8,0.8,0.8,0.8,0.8],[0.8,0.8,0.8,0.8,0.8,0.8,0.8,0.8,0.8,0.8,0.8,0.8,0.8,0.8,0.8,0.8,0.8,0.8,0.8,0.8,0.8,0.8,0.8,0.8,0.8],[0.8,0.8,0.8,0.8,0.8,0.8,0.8,0.8,0.8,0.8,0.8,0.8,0.8,0.8,0.8,0.8,0.8,0.8,0.8,0.8,0.8,0.8,0.8,0.8,0.8],[0.8,0.8,0.8,0.8,0.8,0.8,0.8,0.8,0.8,0.8,0.8,0.8,0.8,0.8,0.8,0.8,0.8,0.8,0.8,0.8,0.8,0.8,0.8,0.8,0.8],[0.8,0.8,0.8,0.8,0.8,0.8,0.8,0.8,0.8,0.8,0.8,0.8,0.8,0.8,0.8,0.8,0.8,0.8,0.8,0.8,0.8,0.8,0.8,0.78,0.78],[0.8,0.8,0.8,0.8,0.8,0.8,0.8,0.8,0.8,0.8,0.8,0.8,0.8,0.8,0.8,0.8,0.8,0.8,0.8,0.8,0.8,0.8,0.8,0.8,0.8],[0.8,0.8,0.8,0.8,0.8,0.8,0.8,0.8,0.8,0.8,0.8,0.8,0.8,0.8,0.8,0.8,0.8,0.8,0.8,0.8,0.8,0.8,0.8,0.8,0.8],[0.8,0.8,0.8,0.8,0.8,0.8,0.8,0.8,0.8,0.8,0.8,0.8,0.8,0.8,0.8,0.8,0.8,0.8,0.8,0.8,0.8,0.8,0.8,0.8,0.8],[0.82,0.8,0.8,0.8,0.8,0.8,0.8,0.8,0.8,0.8,0.8,0.8,0.8,0.8,0.8,0.8,0.8,0.8,0.8,0.8,0.8,0.8,0.8,0.8,0.8],[0.8,0.8,0.8,0.8,0.8,0.8,0.8,0.8,0.8,0.8,0.8,0.8,0.8,0.8,0.8,0.8,0.8,0.8,0.8,0.8,0.8,0.78,0.78,0.78,0.78],[0.8,0.8,0.8,0.8,0.8,0.8,0.8,0.8,0.8,0.8,0.8,0.8,0.8,0.8,0.8,0.8,0.8,0.8,0.8,0.8,0.8,0.8,0.8,0.8,0.8],[0.82,0.8,0.8,0.8,0.8,0.8,0.8,0.8,0.8,0.8,0.8,0.8,0.8,0.8,0.8,0.8,0.8,0.8,0.8,0.8,0.8,0.78,0.78,0.78,0.78],[0.82,0.82,0.8,0.8,0.8,0.8,0.8,0.8,0.8,0.8,0.8,0.8,0.8,0.8,0.8,0.8,0.8,0.8,0.8,0.8,0.78,0.78,0.76,0.76,0.74],[0.8,0.8,0.8,0.8,0.8,0.8,0.8,0.8,0.8,0.8,0.8,0.8,0.8,0.8,0.8,0.8,0.8,0.8,0.78,0.78,0.78,0.76,0.76,0.76,0.74],[0.88,0.84,0.84,0.82,0.82,0.82,0.82,0.8,0.8,0.8,0.8,0.8,0.8,0.8,0.8,0.8,0.8,0.8,0.8,0.8,0.8,0.8,0.8,0.8,0.76],[0.9,0.86,0.86,0.86,0.8,0.8,0.8,0.8,0.8,0.8,0.8,0.8,0.8,0.8,0.8,0.8,0.8,0.8,0.8,0.8,0.8,0.8,0.8,0.8,0.78],[0.86,0.86,0.86,0.84,0.84,0.82,0.82,0.82,0.8,0.8,0.8,0.8,0.8,0.8,0.8,0.8,0.8,0.8,0.8,0.8,0.78,0.78,0.78,0.78,0.74],[0.88,0.86,0.86,0.84,0.84,0.82,0.82,0.82,0.82,0.82,0.82,0.82,0.8,0.8,0.8,0.8,0.8,0.8,0.8,0.8,0.8,0.8,0.8,0.8,0.76],[0.9,0.86,0.86,0.84,0.84,0.84,0.84,0.84,0.84,0.82,0.82,0.82,0.82,0.8,0.8,0.8,0.8,0.8,0.8,0.8,0.8,0.8,0.78,0.78,0.78],[0.88,0.86,0.84,0.84,0.82,0.82,0.82,0.82,0.82,0.82,0.8,0.8,0.8,0.8,0.8,0.8,0.8,0.8,0.8,0.8,0.8,0.78,0.76,0.76,0.74],[0.88,0.86,0.84,0.84,0.82,0.82,0.82,0.82,0.82,0.82,0.82,0.82,0.82,0.82,0.82,0.8,0.8,0.8,0.8,0.8,0.8,0.8,0.8,0.8,0.8],[0.86,0.86,0.84,0.84,0.84,0.82,0.82,0.82,0.82,0.8,0.8,0.8,0.8,0.8,0.8,0.8,0.8,0.8,0.8,0.8,0.8,0.8,0.78,0.78,0.72],[0.84,0.82,0.82,0.8,0.8,0.8,0.8,0.8,0.8,0.8,0.8,0.8,0.8,0.8,0.8,0.8,0.8,0.8,0.8,0.8,0.78,0.78,0.78,0.76,0.74],[0.84,0.82,0.82,0.82,0.8,0.8,0.8,0.8,0.8,0.8,0.8,0.8,0.8,0.8,0.8,0.8,0.8,0.8,0.8,0.8,0.8,0.8,0.8,0.76,0.64],[0.88,0.86,0.86,0.86,0.84,0.84,0.82,0.8,0.8,0.8,0.8,0.8,0.8,0.8,0.8,0.8,0.8,0.8,0.8,0.8,0.78,0.78,0.78,0.76,0.66],[0.8,0.8,0.8,0.8,0.8,0.8,0.8,0.8,0.8,0.8,0.8,0.8,0.8,0.8,0.8,0.78,0.78,0.78,0.78,0.78,0.78,0.76,0.76,0.7,0.68],[0.88,0.88,0.84,0.82,0.82,0.8,0.8,0.8,0.8,0.8,0.8,0.8,0.8,0.8,0.8,0.8,0.8,0.8,0.8,0.78,0.76,0.76,0.76,0.74,0.64],[0.84,0.82,0.82,0.8,0.8,0.8,0.8,0.8,0.8,0.8,0.8,0.8,0.8,0.8,0.8,0.8,0.78,0.78,0.78,0.78,0.78,0.78,0.78,0.78,0.78],[0.84,0.82,0.8,0.8,0.8,0.8,0.8,0.8,0.8,0.8,0.8,0.8,0.8,0.8,0.8,0.8,0.8,0.78,0.78,0.78,0.76,0.76,0.74,0.7,0.7],[0.82,0.82,0.8,0.8,0.8,0.8,0.8,0.8,0.8,0.8,0.8,0.8,0.8,0.8,0.8,0.8,0.8,0.8,0.8,0.78,0.78,0.72,0.72,0.7,0.62],[0.8,0.8,0.8,0.8,0.8,0.8,0.8,0.8,0.8,0.8,0.8,0.8,0.8,0.8,0.8,0.8,0.78,0.78,0.78,0.76,0.74,0.74,0.74,0.72,0.7],[0.82,0.82,0.8,0.8,0.8,0.8,0.8,0.8,0.8,0.8,0.8,0.8,0.8,0.8,0.8,0.8,0.8,0.8,0.8,0.8,0.76,0.76,0.72,0.72,0.66],[0.82,0.82,0.8,0.8,0.8,0.8,0.8,0.8,0.8,0.8,0.8,0.8,0.8,0.8,0.8,0.8,0.8,0.8,0.8,0.8,0.78,0.78,0.78,0.76,0.72],[0.84,0.82,0.8,0.8,0.8,0.8,0.8,0.8,0.8,0.8,0.8,0.8,0.8,0.8,0.8,0.8,0.8,0.8,0.78,0.78,0.78,0.76,0.76,0.76,0.74],[0.82,0.8,0.8,0.8,0.8,0.8,0.8,0.8,0.8,0.8,0.8,0.8,0.8,0.8,0.8,0.8,0.78,0.78,0.78,0.78,0.76,0.76,0.74,0.72,0.7],[0.82,0.82,0.82,0.8,0.8,0.8,0.8,0.8,0.8,0.8,0.8,0.8,0.8,0.8,0.8,0.8,0.8,0.8,0.78,0.78,0.78,0.76,0.76,0.74,0.68],[0.8,0.8,0.8,0.8,0.8,0.8,0.8,0.8,0.8,0.8,0.8,0.8,0.8,0.8,0.8,0.8,0.8,0.8,0.8,0.78,0.78,0.78,0.76,0.72,0.7],[0.86,0.82,0.82,0.8,0.8,0.8,0.8,0.8,0.8,0.8,0.8,0.8,0.8,0.8,0.8,0.78,0.78,0.78,0.76,0.76,0.76,0.74,0.72,0.72,0.66],[0.82,0.82,0.82,0.8,0.8,0.8,0.8,0.8,0.8,0.8,0.8,0.8,0.8,0.8,0.8,0.8,0.8,0.8,0.78,0.78,0.78,0.76,0.74,0.74,0.7],[0.8,0.8,0.8,0.8,0.8,0.8,0.8,0.8,0.8,0.8,0.8,0.8,0.8,0.8,0.8,0.78,0.76,0.76,0.76,0.74,0.74,0.72,0.72,0.68,0.68],[0.84,0.84,0.8,0.8,0.8,0.8,0.8,0.8,0.8,0.8,0.8,0.8,0.8,0.78,0.78,0.78,0.78,0.78,0.78,0.78,0.76,0.74,0.72,0.7,0.7],[0.82,0.82,0.82,0.8,0.8,0.8,0.8,0.8,0.8,0.8,0.78,0.78,0.78,0.78,0.78,0.78,0.78,0.74,0.74,0.74,0.72,0.72,0.72,0.7,0.64],[0.84,0.82,0.82,0.82,0.82,0.82,0.8,0.8,0.8,0.8,0.8,0.8,0.8,0.8,0.8,0.8,0.8,0.8,0.78,0.78,0.78,0.78,0.76,0.76,0.68]],\"type\":\"heatmap\",\"xaxis\":\"x\",\"yaxis\":\"y\",\"hovertemplate\":\"Heads (sorted): %{x}<br>Layers: %{y}<br>color: %{z}<extra></extra>\"}],                        {\"template\":{\"data\":{\"histogram2dcontour\":[{\"type\":\"histogram2dcontour\",\"colorbar\":{\"outlinewidth\":0,\"ticks\":\"\"},\"colorscale\":[[0.0,\"#0d0887\"],[0.1111111111111111,\"#46039f\"],[0.2222222222222222,\"#7201a8\"],[0.3333333333333333,\"#9c179e\"],[0.4444444444444444,\"#bd3786\"],[0.5555555555555556,\"#d8576b\"],[0.6666666666666666,\"#ed7953\"],[0.7777777777777778,\"#fb9f3a\"],[0.8888888888888888,\"#fdca26\"],[1.0,\"#f0f921\"]]}],\"choropleth\":[{\"type\":\"choropleth\",\"colorbar\":{\"outlinewidth\":0,\"ticks\":\"\"}}],\"histogram2d\":[{\"type\":\"histogram2d\",\"colorbar\":{\"outlinewidth\":0,\"ticks\":\"\"},\"colorscale\":[[0.0,\"#0d0887\"],[0.1111111111111111,\"#46039f\"],[0.2222222222222222,\"#7201a8\"],[0.3333333333333333,\"#9c179e\"],[0.4444444444444444,\"#bd3786\"],[0.5555555555555556,\"#d8576b\"],[0.6666666666666666,\"#ed7953\"],[0.7777777777777778,\"#fb9f3a\"],[0.8888888888888888,\"#fdca26\"],[1.0,\"#f0f921\"]]}],\"heatmap\":[{\"type\":\"heatmap\",\"colorbar\":{\"outlinewidth\":0,\"ticks\":\"\"},\"colorscale\":[[0.0,\"#0d0887\"],[0.1111111111111111,\"#46039f\"],[0.2222222222222222,\"#7201a8\"],[0.3333333333333333,\"#9c179e\"],[0.4444444444444444,\"#bd3786\"],[0.5555555555555556,\"#d8576b\"],[0.6666666666666666,\"#ed7953\"],[0.7777777777777778,\"#fb9f3a\"],[0.8888888888888888,\"#fdca26\"],[1.0,\"#f0f921\"]]}],\"heatmapgl\":[{\"type\":\"heatmapgl\",\"colorbar\":{\"outlinewidth\":0,\"ticks\":\"\"},\"colorscale\":[[0.0,\"#0d0887\"],[0.1111111111111111,\"#46039f\"],[0.2222222222222222,\"#7201a8\"],[0.3333333333333333,\"#9c179e\"],[0.4444444444444444,\"#bd3786\"],[0.5555555555555556,\"#d8576b\"],[0.6666666666666666,\"#ed7953\"],[0.7777777777777778,\"#fb9f3a\"],[0.8888888888888888,\"#fdca26\"],[1.0,\"#f0f921\"]]}],\"contourcarpet\":[{\"type\":\"contourcarpet\",\"colorbar\":{\"outlinewidth\":0,\"ticks\":\"\"}}],\"contour\":[{\"type\":\"contour\",\"colorbar\":{\"outlinewidth\":0,\"ticks\":\"\"},\"colorscale\":[[0.0,\"#0d0887\"],[0.1111111111111111,\"#46039f\"],[0.2222222222222222,\"#7201a8\"],[0.3333333333333333,\"#9c179e\"],[0.4444444444444444,\"#bd3786\"],[0.5555555555555556,\"#d8576b\"],[0.6666666666666666,\"#ed7953\"],[0.7777777777777778,\"#fb9f3a\"],[0.8888888888888888,\"#fdca26\"],[1.0,\"#f0f921\"]]}],\"surface\":[{\"type\":\"surface\",\"colorbar\":{\"outlinewidth\":0,\"ticks\":\"\"},\"colorscale\":[[0.0,\"#0d0887\"],[0.1111111111111111,\"#46039f\"],[0.2222222222222222,\"#7201a8\"],[0.3333333333333333,\"#9c179e\"],[0.4444444444444444,\"#bd3786\"],[0.5555555555555556,\"#d8576b\"],[0.6666666666666666,\"#ed7953\"],[0.7777777777777778,\"#fb9f3a\"],[0.8888888888888888,\"#fdca26\"],[1.0,\"#f0f921\"]]}],\"mesh3d\":[{\"type\":\"mesh3d\",\"colorbar\":{\"outlinewidth\":0,\"ticks\":\"\"}}],\"scatter\":[{\"fillpattern\":{\"fillmode\":\"overlay\",\"size\":10,\"solidity\":0.2},\"type\":\"scatter\"}],\"parcoords\":[{\"type\":\"parcoords\",\"line\":{\"colorbar\":{\"outlinewidth\":0,\"ticks\":\"\"}}}],\"scatterpolargl\":[{\"type\":\"scatterpolargl\",\"marker\":{\"colorbar\":{\"outlinewidth\":0,\"ticks\":\"\"}}}],\"bar\":[{\"error_x\":{\"color\":\"#2a3f5f\"},\"error_y\":{\"color\":\"#2a3f5f\"},\"marker\":{\"line\":{\"color\":\"#E5ECF6\",\"width\":0.5},\"pattern\":{\"fillmode\":\"overlay\",\"size\":10,\"solidity\":0.2}},\"type\":\"bar\"}],\"scattergeo\":[{\"type\":\"scattergeo\",\"marker\":{\"colorbar\":{\"outlinewidth\":0,\"ticks\":\"\"}}}],\"scatterpolar\":[{\"type\":\"scatterpolar\",\"marker\":{\"colorbar\":{\"outlinewidth\":0,\"ticks\":\"\"}}}],\"histogram\":[{\"marker\":{\"pattern\":{\"fillmode\":\"overlay\",\"size\":10,\"solidity\":0.2}},\"type\":\"histogram\"}],\"scattergl\":[{\"type\":\"scattergl\",\"marker\":{\"colorbar\":{\"outlinewidth\":0,\"ticks\":\"\"}}}],\"scatter3d\":[{\"type\":\"scatter3d\",\"line\":{\"colorbar\":{\"outlinewidth\":0,\"ticks\":\"\"}},\"marker\":{\"colorbar\":{\"outlinewidth\":0,\"ticks\":\"\"}}}],\"scattermapbox\":[{\"type\":\"scattermapbox\",\"marker\":{\"colorbar\":{\"outlinewidth\":0,\"ticks\":\"\"}}}],\"scatterternary\":[{\"type\":\"scatterternary\",\"marker\":{\"colorbar\":{\"outlinewidth\":0,\"ticks\":\"\"}}}],\"scattercarpet\":[{\"type\":\"scattercarpet\",\"marker\":{\"colorbar\":{\"outlinewidth\":0,\"ticks\":\"\"}}}],\"carpet\":[{\"aaxis\":{\"endlinecolor\":\"#2a3f5f\",\"gridcolor\":\"white\",\"linecolor\":\"white\",\"minorgridcolor\":\"white\",\"startlinecolor\":\"#2a3f5f\"},\"baxis\":{\"endlinecolor\":\"#2a3f5f\",\"gridcolor\":\"white\",\"linecolor\":\"white\",\"minorgridcolor\":\"white\",\"startlinecolor\":\"#2a3f5f\"},\"type\":\"carpet\"}],\"table\":[{\"cells\":{\"fill\":{\"color\":\"#EBF0F8\"},\"line\":{\"color\":\"white\"}},\"header\":{\"fill\":{\"color\":\"#C8D4E3\"},\"line\":{\"color\":\"white\"}},\"type\":\"table\"}],\"barpolar\":[{\"marker\":{\"line\":{\"color\":\"#E5ECF6\",\"width\":0.5},\"pattern\":{\"fillmode\":\"overlay\",\"size\":10,\"solidity\":0.2}},\"type\":\"barpolar\"}],\"pie\":[{\"automargin\":true,\"type\":\"pie\"}]},\"layout\":{\"autotypenumbers\":\"strict\",\"colorway\":[\"#636efa\",\"#EF553B\",\"#00cc96\",\"#ab63fa\",\"#FFA15A\",\"#19d3f3\",\"#FF6692\",\"#B6E880\",\"#FF97FF\",\"#FECB52\"],\"font\":{\"color\":\"#2a3f5f\"},\"hovermode\":\"closest\",\"hoverlabel\":{\"align\":\"left\"},\"paper_bgcolor\":\"white\",\"plot_bgcolor\":\"#E5ECF6\",\"polar\":{\"bgcolor\":\"#E5ECF6\",\"angularaxis\":{\"gridcolor\":\"white\",\"linecolor\":\"white\",\"ticks\":\"\"},\"radialaxis\":{\"gridcolor\":\"white\",\"linecolor\":\"white\",\"ticks\":\"\"}},\"ternary\":{\"bgcolor\":\"#E5ECF6\",\"aaxis\":{\"gridcolor\":\"white\",\"linecolor\":\"white\",\"ticks\":\"\"},\"baxis\":{\"gridcolor\":\"white\",\"linecolor\":\"white\",\"ticks\":\"\"},\"caxis\":{\"gridcolor\":\"white\",\"linecolor\":\"white\",\"ticks\":\"\"}},\"coloraxis\":{\"colorbar\":{\"outlinewidth\":0,\"ticks\":\"\"}},\"colorscale\":{\"sequential\":[[0.0,\"#0d0887\"],[0.1111111111111111,\"#46039f\"],[0.2222222222222222,\"#7201a8\"],[0.3333333333333333,\"#9c179e\"],[0.4444444444444444,\"#bd3786\"],[0.5555555555555556,\"#d8576b\"],[0.6666666666666666,\"#ed7953\"],[0.7777777777777778,\"#fb9f3a\"],[0.8888888888888888,\"#fdca26\"],[1.0,\"#f0f921\"]],\"sequentialminus\":[[0.0,\"#0d0887\"],[0.1111111111111111,\"#46039f\"],[0.2222222222222222,\"#7201a8\"],[0.3333333333333333,\"#9c179e\"],[0.4444444444444444,\"#bd3786\"],[0.5555555555555556,\"#d8576b\"],[0.6666666666666666,\"#ed7953\"],[0.7777777777777778,\"#fb9f3a\"],[0.8888888888888888,\"#fdca26\"],[1.0,\"#f0f921\"]],\"diverging\":[[0,\"#8e0152\"],[0.1,\"#c51b7d\"],[0.2,\"#de77ae\"],[0.3,\"#f1b6da\"],[0.4,\"#fde0ef\"],[0.5,\"#f7f7f7\"],[0.6,\"#e6f5d0\"],[0.7,\"#b8e186\"],[0.8,\"#7fbc41\"],[0.9,\"#4d9221\"],[1,\"#276419\"]]},\"xaxis\":{\"gridcolor\":\"white\",\"linecolor\":\"white\",\"ticks\":\"\",\"title\":{\"standoff\":15},\"zerolinecolor\":\"white\",\"automargin\":true,\"zerolinewidth\":2},\"yaxis\":{\"gridcolor\":\"white\",\"linecolor\":\"white\",\"ticks\":\"\",\"title\":{\"standoff\":15},\"zerolinecolor\":\"white\",\"automargin\":true,\"zerolinewidth\":2},\"scene\":{\"xaxis\":{\"backgroundcolor\":\"#E5ECF6\",\"gridcolor\":\"white\",\"linecolor\":\"white\",\"showbackground\":true,\"ticks\":\"\",\"zerolinecolor\":\"white\",\"gridwidth\":2},\"yaxis\":{\"backgroundcolor\":\"#E5ECF6\",\"gridcolor\":\"white\",\"linecolor\":\"white\",\"showbackground\":true,\"ticks\":\"\",\"zerolinecolor\":\"white\",\"gridwidth\":2},\"zaxis\":{\"backgroundcolor\":\"#E5ECF6\",\"gridcolor\":\"white\",\"linecolor\":\"white\",\"showbackground\":true,\"ticks\":\"\",\"zerolinecolor\":\"white\",\"gridwidth\":2}},\"shapedefaults\":{\"line\":{\"color\":\"#2a3f5f\"}},\"annotationdefaults\":{\"arrowcolor\":\"#2a3f5f\",\"arrowhead\":0,\"arrowwidth\":1},\"geo\":{\"bgcolor\":\"white\",\"landcolor\":\"#E5ECF6\",\"subunitcolor\":\"white\",\"showland\":true,\"showlakes\":true,\"lakecolor\":\"white\"},\"title\":{\"x\":0.05},\"mapbox\":{\"style\":\"light\"}}},\"xaxis\":{\"anchor\":\"y\",\"domain\":[0.0,1.0],\"scaleanchor\":\"y\",\"constrain\":\"domain\",\"title\":{\"text\":\"Heads (sorted)\"}},\"yaxis\":{\"anchor\":\"x\",\"domain\":[0.0,1.0],\"autorange\":true,\"constrain\":\"domain\",\"title\":{\"text\":\"Layers\"}},\"coloraxis\":{\"colorscale\":[[0.0,\"rgb(103,0,31)\"],[0.1,\"rgb(178,24,43)\"],[0.2,\"rgb(214,96,77)\"],[0.3,\"rgb(244,165,130)\"],[0.4,\"rgb(253,219,199)\"],[0.5,\"rgb(247,247,247)\"],[0.6,\"rgb(209,229,240)\"],[0.7,\"rgb(146,197,222)\"],[0.8,\"rgb(67,147,195)\"],[0.9,\"rgb(33,102,172)\"],[1.0,\"rgb(5,48,97)\"]],\"cmid\":0.79},\"title\":{\"text\":\"Sorted Probe Accuracies on Num Correct Incontext\"}},                        {\"responsive\": true}                    ).then(function(){\n",
       "                            \n",
       "var gd = document.getElementById('7c60bbe7-9971-4936-803f-9ad4ed25a1ab');\n",
       "var x = new MutationObserver(function (mutations, observer) {{\n",
       "        var display = window.getComputedStyle(gd).display;\n",
       "        if (!display || display === 'none') {{\n",
       "            console.log([gd, 'removed!']);\n",
       "            Plotly.purge(gd);\n",
       "            observer.disconnect();\n",
       "        }}\n",
       "}});\n",
       "\n",
       "// Listen for the removal of the full notebook cells\n",
       "var notebookContainer = gd.closest('#notebook-container');\n",
       "if (notebookContainer) {{\n",
       "    x.observe(notebookContainer, {childList: true});\n",
       "}}\n",
       "\n",
       "// Listen for the clearing of the current output cell\n",
       "var outputEl = gd.closest('.output');\n",
       "if (outputEl) {{\n",
       "    x.observe(outputEl, {childList: true});\n",
       "}}\n",
       "\n",
       "                        })                };                });            </script>        </div>"
      ]
     },
     "metadata": {},
     "output_type": "display_data"
    }
   ],
   "source": [
    "a = -np.sort(-all_head_accs_np.reshape(nin_d.model.cfg.n_layers, nin_d.model.cfg.n_heads), axis = 1)\n",
    "px.imshow(a, labels = {\"x\" : \"Heads (sorted)\", \"y\": \"Layers\"},title = \"Sorted Probe Accuracies on Num Correct Incontext\", color_continuous_midpoint = 0.79, color_continuous_scale=\"RdBu\", origin = \"lower\")"
   ]
  },
  {
   "cell_type": "code",
   "execution_count": 161,
   "metadata": {},
   "outputs": [
    {
     "data": {
      "application/vnd.plotly.v1+json": {
       "config": {
        "plotlyServerURL": "https://plot.ly"
       },
       "data": [
        {
         "hovertemplate": "variable=0<br>index=%{x}<br>value=%{y}<extra></extra>",
         "legendgroup": "0",
         "line": {
          "color": "#636efa",
          "dash": "solid"
         },
         "marker": {
          "symbol": "circle"
         },
         "mode": "lines",
         "name": "0",
         "orientation": "v",
         "showlegend": true,
         "type": "scatter",
         "x": [
          0,
          1,
          2,
          3,
          4,
          5,
          6,
          7,
          8,
          9,
          10,
          11,
          12,
          13,
          14,
          15,
          16,
          17,
          18,
          19,
          20,
          21,
          22,
          23,
          24,
          25,
          26,
          27,
          28,
          29,
          30,
          31,
          32,
          33,
          34,
          35,
          36,
          37,
          38,
          39,
          40,
          41,
          42,
          43,
          44,
          45,
          46,
          47
         ],
         "xaxis": "x",
         "y": [
          0.84,
          0.84,
          0.82,
          0.84,
          0.86,
          0.86,
          0.86,
          0.84,
          0.84,
          0.8,
          0.82,
          0.8,
          0.8,
          0.76,
          0.76,
          0.76,
          0.76,
          0.74,
          0.72,
          0.78,
          0.86,
          0.84,
          0.86,
          0.86,
          0.86,
          0.88,
          0.88,
          0.84,
          0.86,
          0.86,
          0.86,
          0.88,
          0.86,
          0.86,
          0.86,
          0.86,
          0.86,
          0.82,
          0.82,
          0.86,
          0.86,
          0.84,
          0.84,
          0.88,
          0.88,
          0.88,
          0.88,
          0.86
         ],
         "yaxis": "y"
        }
       ],
       "layout": {
        "legend": {
         "title": {
          "text": "variable"
         },
         "tracegroupgap": 0
        },
        "template": {
         "data": {
          "bar": [
           {
            "error_x": {
             "color": "#2a3f5f"
            },
            "error_y": {
             "color": "#2a3f5f"
            },
            "marker": {
             "line": {
              "color": "#E5ECF6",
              "width": 0.5
             },
             "pattern": {
              "fillmode": "overlay",
              "size": 10,
              "solidity": 0.2
             }
            },
            "type": "bar"
           }
          ],
          "barpolar": [
           {
            "marker": {
             "line": {
              "color": "#E5ECF6",
              "width": 0.5
             },
             "pattern": {
              "fillmode": "overlay",
              "size": 10,
              "solidity": 0.2
             }
            },
            "type": "barpolar"
           }
          ],
          "carpet": [
           {
            "aaxis": {
             "endlinecolor": "#2a3f5f",
             "gridcolor": "white",
             "linecolor": "white",
             "minorgridcolor": "white",
             "startlinecolor": "#2a3f5f"
            },
            "baxis": {
             "endlinecolor": "#2a3f5f",
             "gridcolor": "white",
             "linecolor": "white",
             "minorgridcolor": "white",
             "startlinecolor": "#2a3f5f"
            },
            "type": "carpet"
           }
          ],
          "choropleth": [
           {
            "colorbar": {
             "outlinewidth": 0,
             "ticks": ""
            },
            "type": "choropleth"
           }
          ],
          "contour": [
           {
            "colorbar": {
             "outlinewidth": 0,
             "ticks": ""
            },
            "colorscale": [
             [
              0,
              "#0d0887"
             ],
             [
              0.1111111111111111,
              "#46039f"
             ],
             [
              0.2222222222222222,
              "#7201a8"
             ],
             [
              0.3333333333333333,
              "#9c179e"
             ],
             [
              0.4444444444444444,
              "#bd3786"
             ],
             [
              0.5555555555555556,
              "#d8576b"
             ],
             [
              0.6666666666666666,
              "#ed7953"
             ],
             [
              0.7777777777777778,
              "#fb9f3a"
             ],
             [
              0.8888888888888888,
              "#fdca26"
             ],
             [
              1,
              "#f0f921"
             ]
            ],
            "type": "contour"
           }
          ],
          "contourcarpet": [
           {
            "colorbar": {
             "outlinewidth": 0,
             "ticks": ""
            },
            "type": "contourcarpet"
           }
          ],
          "heatmap": [
           {
            "colorbar": {
             "outlinewidth": 0,
             "ticks": ""
            },
            "colorscale": [
             [
              0,
              "#0d0887"
             ],
             [
              0.1111111111111111,
              "#46039f"
             ],
             [
              0.2222222222222222,
              "#7201a8"
             ],
             [
              0.3333333333333333,
              "#9c179e"
             ],
             [
              0.4444444444444444,
              "#bd3786"
             ],
             [
              0.5555555555555556,
              "#d8576b"
             ],
             [
              0.6666666666666666,
              "#ed7953"
             ],
             [
              0.7777777777777778,
              "#fb9f3a"
             ],
             [
              0.8888888888888888,
              "#fdca26"
             ],
             [
              1,
              "#f0f921"
             ]
            ],
            "type": "heatmap"
           }
          ],
          "heatmapgl": [
           {
            "colorbar": {
             "outlinewidth": 0,
             "ticks": ""
            },
            "colorscale": [
             [
              0,
              "#0d0887"
             ],
             [
              0.1111111111111111,
              "#46039f"
             ],
             [
              0.2222222222222222,
              "#7201a8"
             ],
             [
              0.3333333333333333,
              "#9c179e"
             ],
             [
              0.4444444444444444,
              "#bd3786"
             ],
             [
              0.5555555555555556,
              "#d8576b"
             ],
             [
              0.6666666666666666,
              "#ed7953"
             ],
             [
              0.7777777777777778,
              "#fb9f3a"
             ],
             [
              0.8888888888888888,
              "#fdca26"
             ],
             [
              1,
              "#f0f921"
             ]
            ],
            "type": "heatmapgl"
           }
          ],
          "histogram": [
           {
            "marker": {
             "pattern": {
              "fillmode": "overlay",
              "size": 10,
              "solidity": 0.2
             }
            },
            "type": "histogram"
           }
          ],
          "histogram2d": [
           {
            "colorbar": {
             "outlinewidth": 0,
             "ticks": ""
            },
            "colorscale": [
             [
              0,
              "#0d0887"
             ],
             [
              0.1111111111111111,
              "#46039f"
             ],
             [
              0.2222222222222222,
              "#7201a8"
             ],
             [
              0.3333333333333333,
              "#9c179e"
             ],
             [
              0.4444444444444444,
              "#bd3786"
             ],
             [
              0.5555555555555556,
              "#d8576b"
             ],
             [
              0.6666666666666666,
              "#ed7953"
             ],
             [
              0.7777777777777778,
              "#fb9f3a"
             ],
             [
              0.8888888888888888,
              "#fdca26"
             ],
             [
              1,
              "#f0f921"
             ]
            ],
            "type": "histogram2d"
           }
          ],
          "histogram2dcontour": [
           {
            "colorbar": {
             "outlinewidth": 0,
             "ticks": ""
            },
            "colorscale": [
             [
              0,
              "#0d0887"
             ],
             [
              0.1111111111111111,
              "#46039f"
             ],
             [
              0.2222222222222222,
              "#7201a8"
             ],
             [
              0.3333333333333333,
              "#9c179e"
             ],
             [
              0.4444444444444444,
              "#bd3786"
             ],
             [
              0.5555555555555556,
              "#d8576b"
             ],
             [
              0.6666666666666666,
              "#ed7953"
             ],
             [
              0.7777777777777778,
              "#fb9f3a"
             ],
             [
              0.8888888888888888,
              "#fdca26"
             ],
             [
              1,
              "#f0f921"
             ]
            ],
            "type": "histogram2dcontour"
           }
          ],
          "mesh3d": [
           {
            "colorbar": {
             "outlinewidth": 0,
             "ticks": ""
            },
            "type": "mesh3d"
           }
          ],
          "parcoords": [
           {
            "line": {
             "colorbar": {
              "outlinewidth": 0,
              "ticks": ""
             }
            },
            "type": "parcoords"
           }
          ],
          "pie": [
           {
            "automargin": true,
            "type": "pie"
           }
          ],
          "scatter": [
           {
            "fillpattern": {
             "fillmode": "overlay",
             "size": 10,
             "solidity": 0.2
            },
            "type": "scatter"
           }
          ],
          "scatter3d": [
           {
            "line": {
             "colorbar": {
              "outlinewidth": 0,
              "ticks": ""
             }
            },
            "marker": {
             "colorbar": {
              "outlinewidth": 0,
              "ticks": ""
             }
            },
            "type": "scatter3d"
           }
          ],
          "scattercarpet": [
           {
            "marker": {
             "colorbar": {
              "outlinewidth": 0,
              "ticks": ""
             }
            },
            "type": "scattercarpet"
           }
          ],
          "scattergeo": [
           {
            "marker": {
             "colorbar": {
              "outlinewidth": 0,
              "ticks": ""
             }
            },
            "type": "scattergeo"
           }
          ],
          "scattergl": [
           {
            "marker": {
             "colorbar": {
              "outlinewidth": 0,
              "ticks": ""
             }
            },
            "type": "scattergl"
           }
          ],
          "scattermapbox": [
           {
            "marker": {
             "colorbar": {
              "outlinewidth": 0,
              "ticks": ""
             }
            },
            "type": "scattermapbox"
           }
          ],
          "scatterpolar": [
           {
            "marker": {
             "colorbar": {
              "outlinewidth": 0,
              "ticks": ""
             }
            },
            "type": "scatterpolar"
           }
          ],
          "scatterpolargl": [
           {
            "marker": {
             "colorbar": {
              "outlinewidth": 0,
              "ticks": ""
             }
            },
            "type": "scatterpolargl"
           }
          ],
          "scatterternary": [
           {
            "marker": {
             "colorbar": {
              "outlinewidth": 0,
              "ticks": ""
             }
            },
            "type": "scatterternary"
           }
          ],
          "surface": [
           {
            "colorbar": {
             "outlinewidth": 0,
             "ticks": ""
            },
            "colorscale": [
             [
              0,
              "#0d0887"
             ],
             [
              0.1111111111111111,
              "#46039f"
             ],
             [
              0.2222222222222222,
              "#7201a8"
             ],
             [
              0.3333333333333333,
              "#9c179e"
             ],
             [
              0.4444444444444444,
              "#bd3786"
             ],
             [
              0.5555555555555556,
              "#d8576b"
             ],
             [
              0.6666666666666666,
              "#ed7953"
             ],
             [
              0.7777777777777778,
              "#fb9f3a"
             ],
             [
              0.8888888888888888,
              "#fdca26"
             ],
             [
              1,
              "#f0f921"
             ]
            ],
            "type": "surface"
           }
          ],
          "table": [
           {
            "cells": {
             "fill": {
              "color": "#EBF0F8"
             },
             "line": {
              "color": "white"
             }
            },
            "header": {
             "fill": {
              "color": "#C8D4E3"
             },
             "line": {
              "color": "white"
             }
            },
            "type": "table"
           }
          ]
         },
         "layout": {
          "annotationdefaults": {
           "arrowcolor": "#2a3f5f",
           "arrowhead": 0,
           "arrowwidth": 1
          },
          "autotypenumbers": "strict",
          "coloraxis": {
           "colorbar": {
            "outlinewidth": 0,
            "ticks": ""
           }
          },
          "colorscale": {
           "diverging": [
            [
             0,
             "#8e0152"
            ],
            [
             0.1,
             "#c51b7d"
            ],
            [
             0.2,
             "#de77ae"
            ],
            [
             0.3,
             "#f1b6da"
            ],
            [
             0.4,
             "#fde0ef"
            ],
            [
             0.5,
             "#f7f7f7"
            ],
            [
             0.6,
             "#e6f5d0"
            ],
            [
             0.7,
             "#b8e186"
            ],
            [
             0.8,
             "#7fbc41"
            ],
            [
             0.9,
             "#4d9221"
            ],
            [
             1,
             "#276419"
            ]
           ],
           "sequential": [
            [
             0,
             "#0d0887"
            ],
            [
             0.1111111111111111,
             "#46039f"
            ],
            [
             0.2222222222222222,
             "#7201a8"
            ],
            [
             0.3333333333333333,
             "#9c179e"
            ],
            [
             0.4444444444444444,
             "#bd3786"
            ],
            [
             0.5555555555555556,
             "#d8576b"
            ],
            [
             0.6666666666666666,
             "#ed7953"
            ],
            [
             0.7777777777777778,
             "#fb9f3a"
            ],
            [
             0.8888888888888888,
             "#fdca26"
            ],
            [
             1,
             "#f0f921"
            ]
           ],
           "sequentialminus": [
            [
             0,
             "#0d0887"
            ],
            [
             0.1111111111111111,
             "#46039f"
            ],
            [
             0.2222222222222222,
             "#7201a8"
            ],
            [
             0.3333333333333333,
             "#9c179e"
            ],
            [
             0.4444444444444444,
             "#bd3786"
            ],
            [
             0.5555555555555556,
             "#d8576b"
            ],
            [
             0.6666666666666666,
             "#ed7953"
            ],
            [
             0.7777777777777778,
             "#fb9f3a"
            ],
            [
             0.8888888888888888,
             "#fdca26"
            ],
            [
             1,
             "#f0f921"
            ]
           ]
          },
          "colorway": [
           "#636efa",
           "#EF553B",
           "#00cc96",
           "#ab63fa",
           "#FFA15A",
           "#19d3f3",
           "#FF6692",
           "#B6E880",
           "#FF97FF",
           "#FECB52"
          ],
          "font": {
           "color": "#2a3f5f"
          },
          "geo": {
           "bgcolor": "white",
           "lakecolor": "white",
           "landcolor": "#E5ECF6",
           "showlakes": true,
           "showland": true,
           "subunitcolor": "white"
          },
          "hoverlabel": {
           "align": "left"
          },
          "hovermode": "closest",
          "mapbox": {
           "style": "light"
          },
          "paper_bgcolor": "white",
          "plot_bgcolor": "#E5ECF6",
          "polar": {
           "angularaxis": {
            "gridcolor": "white",
            "linecolor": "white",
            "ticks": ""
           },
           "bgcolor": "#E5ECF6",
           "radialaxis": {
            "gridcolor": "white",
            "linecolor": "white",
            "ticks": ""
           }
          },
          "scene": {
           "xaxis": {
            "backgroundcolor": "#E5ECF6",
            "gridcolor": "white",
            "gridwidth": 2,
            "linecolor": "white",
            "showbackground": true,
            "ticks": "",
            "zerolinecolor": "white"
           },
           "yaxis": {
            "backgroundcolor": "#E5ECF6",
            "gridcolor": "white",
            "gridwidth": 2,
            "linecolor": "white",
            "showbackground": true,
            "ticks": "",
            "zerolinecolor": "white"
           },
           "zaxis": {
            "backgroundcolor": "#E5ECF6",
            "gridcolor": "white",
            "gridwidth": 2,
            "linecolor": "white",
            "showbackground": true,
            "ticks": "",
            "zerolinecolor": "white"
           }
          },
          "shapedefaults": {
           "line": {
            "color": "#2a3f5f"
           }
          },
          "ternary": {
           "aaxis": {
            "gridcolor": "white",
            "linecolor": "white",
            "ticks": ""
           },
           "baxis": {
            "gridcolor": "white",
            "linecolor": "white",
            "ticks": ""
           },
           "bgcolor": "#E5ECF6",
           "caxis": {
            "gridcolor": "white",
            "linecolor": "white",
            "ticks": ""
           }
          },
          "title": {
           "x": 0.05
          },
          "xaxis": {
           "automargin": true,
           "gridcolor": "white",
           "linecolor": "white",
           "ticks": "",
           "title": {
            "standoff": 15
           },
           "zerolinecolor": "white",
           "zerolinewidth": 2
          },
          "yaxis": {
           "automargin": true,
           "gridcolor": "white",
           "linecolor": "white",
           "ticks": "",
           "title": {
            "standoff": 15
           },
           "zerolinecolor": "white",
           "zerolinewidth": 2
          }
         }
        },
        "title": {
         "text": "MLP R2 Score on Prop Num Correct InContext"
        },
        "xaxis": {
         "anchor": "y",
         "domain": [
          0,
          1
         ],
         "title": {
          "text": "index"
         }
        },
        "yaxis": {
         "anchor": "x",
         "domain": [
          0,
          1
         ],
         "title": {
          "text": "value"
         }
        }
       }
      },
      "text/html": [
       "<div>                            <div id=\"c4318420-7cbe-46a8-80ac-3c7bdfce9a9a\" class=\"plotly-graph-div\" style=\"height:525px; width:100%;\"></div>            <script type=\"text/javascript\">                require([\"plotly\"], function(Plotly) {                    window.PLOTLYENV=window.PLOTLYENV || {};                                    if (document.getElementById(\"c4318420-7cbe-46a8-80ac-3c7bdfce9a9a\")) {                    Plotly.newPlot(                        \"c4318420-7cbe-46a8-80ac-3c7bdfce9a9a\",                        [{\"hovertemplate\":\"variable=0<br>index=%{x}<br>value=%{y}<extra></extra>\",\"legendgroup\":\"0\",\"line\":{\"color\":\"#636efa\",\"dash\":\"solid\"},\"marker\":{\"symbol\":\"circle\"},\"mode\":\"lines\",\"name\":\"0\",\"orientation\":\"v\",\"showlegend\":true,\"x\":[0,1,2,3,4,5,6,7,8,9,10,11,12,13,14,15,16,17,18,19,20,21,22,23,24,25,26,27,28,29,30,31,32,33,34,35,36,37,38,39,40,41,42,43,44,45,46,47],\"xaxis\":\"x\",\"y\":[0.84,0.84,0.82,0.84,0.86,0.86,0.86,0.84,0.84,0.8,0.82,0.8,0.8,0.76,0.76,0.76,0.76,0.74,0.72,0.78,0.86,0.84,0.86,0.86,0.86,0.88,0.88,0.84,0.86,0.86,0.86,0.88,0.86,0.86,0.86,0.86,0.86,0.82,0.82,0.86,0.86,0.84,0.84,0.88,0.88,0.88,0.88,0.86],\"yaxis\":\"y\",\"type\":\"scatter\"}],                        {\"template\":{\"data\":{\"histogram2dcontour\":[{\"type\":\"histogram2dcontour\",\"colorbar\":{\"outlinewidth\":0,\"ticks\":\"\"},\"colorscale\":[[0.0,\"#0d0887\"],[0.1111111111111111,\"#46039f\"],[0.2222222222222222,\"#7201a8\"],[0.3333333333333333,\"#9c179e\"],[0.4444444444444444,\"#bd3786\"],[0.5555555555555556,\"#d8576b\"],[0.6666666666666666,\"#ed7953\"],[0.7777777777777778,\"#fb9f3a\"],[0.8888888888888888,\"#fdca26\"],[1.0,\"#f0f921\"]]}],\"choropleth\":[{\"type\":\"choropleth\",\"colorbar\":{\"outlinewidth\":0,\"ticks\":\"\"}}],\"histogram2d\":[{\"type\":\"histogram2d\",\"colorbar\":{\"outlinewidth\":0,\"ticks\":\"\"},\"colorscale\":[[0.0,\"#0d0887\"],[0.1111111111111111,\"#46039f\"],[0.2222222222222222,\"#7201a8\"],[0.3333333333333333,\"#9c179e\"],[0.4444444444444444,\"#bd3786\"],[0.5555555555555556,\"#d8576b\"],[0.6666666666666666,\"#ed7953\"],[0.7777777777777778,\"#fb9f3a\"],[0.8888888888888888,\"#fdca26\"],[1.0,\"#f0f921\"]]}],\"heatmap\":[{\"type\":\"heatmap\",\"colorbar\":{\"outlinewidth\":0,\"ticks\":\"\"},\"colorscale\":[[0.0,\"#0d0887\"],[0.1111111111111111,\"#46039f\"],[0.2222222222222222,\"#7201a8\"],[0.3333333333333333,\"#9c179e\"],[0.4444444444444444,\"#bd3786\"],[0.5555555555555556,\"#d8576b\"],[0.6666666666666666,\"#ed7953\"],[0.7777777777777778,\"#fb9f3a\"],[0.8888888888888888,\"#fdca26\"],[1.0,\"#f0f921\"]]}],\"heatmapgl\":[{\"type\":\"heatmapgl\",\"colorbar\":{\"outlinewidth\":0,\"ticks\":\"\"},\"colorscale\":[[0.0,\"#0d0887\"],[0.1111111111111111,\"#46039f\"],[0.2222222222222222,\"#7201a8\"],[0.3333333333333333,\"#9c179e\"],[0.4444444444444444,\"#bd3786\"],[0.5555555555555556,\"#d8576b\"],[0.6666666666666666,\"#ed7953\"],[0.7777777777777778,\"#fb9f3a\"],[0.8888888888888888,\"#fdca26\"],[1.0,\"#f0f921\"]]}],\"contourcarpet\":[{\"type\":\"contourcarpet\",\"colorbar\":{\"outlinewidth\":0,\"ticks\":\"\"}}],\"contour\":[{\"type\":\"contour\",\"colorbar\":{\"outlinewidth\":0,\"ticks\":\"\"},\"colorscale\":[[0.0,\"#0d0887\"],[0.1111111111111111,\"#46039f\"],[0.2222222222222222,\"#7201a8\"],[0.3333333333333333,\"#9c179e\"],[0.4444444444444444,\"#bd3786\"],[0.5555555555555556,\"#d8576b\"],[0.6666666666666666,\"#ed7953\"],[0.7777777777777778,\"#fb9f3a\"],[0.8888888888888888,\"#fdca26\"],[1.0,\"#f0f921\"]]}],\"surface\":[{\"type\":\"surface\",\"colorbar\":{\"outlinewidth\":0,\"ticks\":\"\"},\"colorscale\":[[0.0,\"#0d0887\"],[0.1111111111111111,\"#46039f\"],[0.2222222222222222,\"#7201a8\"],[0.3333333333333333,\"#9c179e\"],[0.4444444444444444,\"#bd3786\"],[0.5555555555555556,\"#d8576b\"],[0.6666666666666666,\"#ed7953\"],[0.7777777777777778,\"#fb9f3a\"],[0.8888888888888888,\"#fdca26\"],[1.0,\"#f0f921\"]]}],\"mesh3d\":[{\"type\":\"mesh3d\",\"colorbar\":{\"outlinewidth\":0,\"ticks\":\"\"}}],\"scatter\":[{\"fillpattern\":{\"fillmode\":\"overlay\",\"size\":10,\"solidity\":0.2},\"type\":\"scatter\"}],\"parcoords\":[{\"type\":\"parcoords\",\"line\":{\"colorbar\":{\"outlinewidth\":0,\"ticks\":\"\"}}}],\"scatterpolargl\":[{\"type\":\"scatterpolargl\",\"marker\":{\"colorbar\":{\"outlinewidth\":0,\"ticks\":\"\"}}}],\"bar\":[{\"error_x\":{\"color\":\"#2a3f5f\"},\"error_y\":{\"color\":\"#2a3f5f\"},\"marker\":{\"line\":{\"color\":\"#E5ECF6\",\"width\":0.5},\"pattern\":{\"fillmode\":\"overlay\",\"size\":10,\"solidity\":0.2}},\"type\":\"bar\"}],\"scattergeo\":[{\"type\":\"scattergeo\",\"marker\":{\"colorbar\":{\"outlinewidth\":0,\"ticks\":\"\"}}}],\"scatterpolar\":[{\"type\":\"scatterpolar\",\"marker\":{\"colorbar\":{\"outlinewidth\":0,\"ticks\":\"\"}}}],\"histogram\":[{\"marker\":{\"pattern\":{\"fillmode\":\"overlay\",\"size\":10,\"solidity\":0.2}},\"type\":\"histogram\"}],\"scattergl\":[{\"type\":\"scattergl\",\"marker\":{\"colorbar\":{\"outlinewidth\":0,\"ticks\":\"\"}}}],\"scatter3d\":[{\"type\":\"scatter3d\",\"line\":{\"colorbar\":{\"outlinewidth\":0,\"ticks\":\"\"}},\"marker\":{\"colorbar\":{\"outlinewidth\":0,\"ticks\":\"\"}}}],\"scattermapbox\":[{\"type\":\"scattermapbox\",\"marker\":{\"colorbar\":{\"outlinewidth\":0,\"ticks\":\"\"}}}],\"scatterternary\":[{\"type\":\"scatterternary\",\"marker\":{\"colorbar\":{\"outlinewidth\":0,\"ticks\":\"\"}}}],\"scattercarpet\":[{\"type\":\"scattercarpet\",\"marker\":{\"colorbar\":{\"outlinewidth\":0,\"ticks\":\"\"}}}],\"carpet\":[{\"aaxis\":{\"endlinecolor\":\"#2a3f5f\",\"gridcolor\":\"white\",\"linecolor\":\"white\",\"minorgridcolor\":\"white\",\"startlinecolor\":\"#2a3f5f\"},\"baxis\":{\"endlinecolor\":\"#2a3f5f\",\"gridcolor\":\"white\",\"linecolor\":\"white\",\"minorgridcolor\":\"white\",\"startlinecolor\":\"#2a3f5f\"},\"type\":\"carpet\"}],\"table\":[{\"cells\":{\"fill\":{\"color\":\"#EBF0F8\"},\"line\":{\"color\":\"white\"}},\"header\":{\"fill\":{\"color\":\"#C8D4E3\"},\"line\":{\"color\":\"white\"}},\"type\":\"table\"}],\"barpolar\":[{\"marker\":{\"line\":{\"color\":\"#E5ECF6\",\"width\":0.5},\"pattern\":{\"fillmode\":\"overlay\",\"size\":10,\"solidity\":0.2}},\"type\":\"barpolar\"}],\"pie\":[{\"automargin\":true,\"type\":\"pie\"}]},\"layout\":{\"autotypenumbers\":\"strict\",\"colorway\":[\"#636efa\",\"#EF553B\",\"#00cc96\",\"#ab63fa\",\"#FFA15A\",\"#19d3f3\",\"#FF6692\",\"#B6E880\",\"#FF97FF\",\"#FECB52\"],\"font\":{\"color\":\"#2a3f5f\"},\"hovermode\":\"closest\",\"hoverlabel\":{\"align\":\"left\"},\"paper_bgcolor\":\"white\",\"plot_bgcolor\":\"#E5ECF6\",\"polar\":{\"bgcolor\":\"#E5ECF6\",\"angularaxis\":{\"gridcolor\":\"white\",\"linecolor\":\"white\",\"ticks\":\"\"},\"radialaxis\":{\"gridcolor\":\"white\",\"linecolor\":\"white\",\"ticks\":\"\"}},\"ternary\":{\"bgcolor\":\"#E5ECF6\",\"aaxis\":{\"gridcolor\":\"white\",\"linecolor\":\"white\",\"ticks\":\"\"},\"baxis\":{\"gridcolor\":\"white\",\"linecolor\":\"white\",\"ticks\":\"\"},\"caxis\":{\"gridcolor\":\"white\",\"linecolor\":\"white\",\"ticks\":\"\"}},\"coloraxis\":{\"colorbar\":{\"outlinewidth\":0,\"ticks\":\"\"}},\"colorscale\":{\"sequential\":[[0.0,\"#0d0887\"],[0.1111111111111111,\"#46039f\"],[0.2222222222222222,\"#7201a8\"],[0.3333333333333333,\"#9c179e\"],[0.4444444444444444,\"#bd3786\"],[0.5555555555555556,\"#d8576b\"],[0.6666666666666666,\"#ed7953\"],[0.7777777777777778,\"#fb9f3a\"],[0.8888888888888888,\"#fdca26\"],[1.0,\"#f0f921\"]],\"sequentialminus\":[[0.0,\"#0d0887\"],[0.1111111111111111,\"#46039f\"],[0.2222222222222222,\"#7201a8\"],[0.3333333333333333,\"#9c179e\"],[0.4444444444444444,\"#bd3786\"],[0.5555555555555556,\"#d8576b\"],[0.6666666666666666,\"#ed7953\"],[0.7777777777777778,\"#fb9f3a\"],[0.8888888888888888,\"#fdca26\"],[1.0,\"#f0f921\"]],\"diverging\":[[0,\"#8e0152\"],[0.1,\"#c51b7d\"],[0.2,\"#de77ae\"],[0.3,\"#f1b6da\"],[0.4,\"#fde0ef\"],[0.5,\"#f7f7f7\"],[0.6,\"#e6f5d0\"],[0.7,\"#b8e186\"],[0.8,\"#7fbc41\"],[0.9,\"#4d9221\"],[1,\"#276419\"]]},\"xaxis\":{\"gridcolor\":\"white\",\"linecolor\":\"white\",\"ticks\":\"\",\"title\":{\"standoff\":15},\"zerolinecolor\":\"white\",\"automargin\":true,\"zerolinewidth\":2},\"yaxis\":{\"gridcolor\":\"white\",\"linecolor\":\"white\",\"ticks\":\"\",\"title\":{\"standoff\":15},\"zerolinecolor\":\"white\",\"automargin\":true,\"zerolinewidth\":2},\"scene\":{\"xaxis\":{\"backgroundcolor\":\"#E5ECF6\",\"gridcolor\":\"white\",\"linecolor\":\"white\",\"showbackground\":true,\"ticks\":\"\",\"zerolinecolor\":\"white\",\"gridwidth\":2},\"yaxis\":{\"backgroundcolor\":\"#E5ECF6\",\"gridcolor\":\"white\",\"linecolor\":\"white\",\"showbackground\":true,\"ticks\":\"\",\"zerolinecolor\":\"white\",\"gridwidth\":2},\"zaxis\":{\"backgroundcolor\":\"#E5ECF6\",\"gridcolor\":\"white\",\"linecolor\":\"white\",\"showbackground\":true,\"ticks\":\"\",\"zerolinecolor\":\"white\",\"gridwidth\":2}},\"shapedefaults\":{\"line\":{\"color\":\"#2a3f5f\"}},\"annotationdefaults\":{\"arrowcolor\":\"#2a3f5f\",\"arrowhead\":0,\"arrowwidth\":1},\"geo\":{\"bgcolor\":\"white\",\"landcolor\":\"#E5ECF6\",\"subunitcolor\":\"white\",\"showland\":true,\"showlakes\":true,\"lakecolor\":\"white\"},\"title\":{\"x\":0.05},\"mapbox\":{\"style\":\"light\"}}},\"xaxis\":{\"anchor\":\"y\",\"domain\":[0.0,1.0],\"title\":{\"text\":\"index\"}},\"yaxis\":{\"anchor\":\"x\",\"domain\":[0.0,1.0],\"title\":{\"text\":\"value\"}},\"legend\":{\"title\":{\"text\":\"variable\"},\"tracegroupgap\":0},\"title\":{\"text\":\"MLP R2 Score on Prop Num Correct InContext\"}},                        {\"responsive\": true}                    ).then(function(){\n",
       "                            \n",
       "var gd = document.getElementById('c4318420-7cbe-46a8-80ac-3c7bdfce9a9a');\n",
       "var x = new MutationObserver(function (mutations, observer) {{\n",
       "        var display = window.getComputedStyle(gd).display;\n",
       "        if (!display || display === 'none') {{\n",
       "            console.log([gd, 'removed!']);\n",
       "            Plotly.purge(gd);\n",
       "            observer.disconnect();\n",
       "        }}\n",
       "}});\n",
       "\n",
       "// Listen for the removal of the full notebook cells\n",
       "var notebookContainer = gd.closest('#notebook-container');\n",
       "if (notebookContainer) {{\n",
       "    x.observe(notebookContainer, {childList: true});\n",
       "}}\n",
       "\n",
       "// Listen for the clearing of the current output cell\n",
       "var outputEl = gd.closest('.output');\n",
       "if (outputEl) {{\n",
       "    x.observe(outputEl, {childList: true});\n",
       "}}\n",
       "\n",
       "                        })                };                });            </script>        </div>"
      ]
     },
     "metadata": {},
     "output_type": "display_data"
    }
   ],
   "source": [
    "px.line(all_head_accs_np, labels = {\"x\" : \"Layers\", \"y\": \"Acc\"}, title = \"MLP R2 Score on Prop Num Correct InContext\")"
   ]
  },
  {
   "cell_type": "code",
   "execution_count": 60,
   "metadata": {},
   "outputs": [
    {
     "name": "stderr",
     "output_type": "stream",
     "text": [
      "1200it [00:00, 2715.56it/s]\n"
     ]
    }
   ],
   "source": [
    "# labels = [sample[\"n_correct\"] for sample in nin_d.dataset]\n",
    "X_train, X_test, y_train, y_test  = nin_d.get_train_test_split(test_ratio = 0.3)\n",
    "\n",
    "labels = y_test\n",
    "total_accs = []\n",
    "y_preds = []\n",
    "\n",
    "# nin_d.attn_head_acts = np.stack(nin_d.attn_head_acts).numpy()\n",
    "\n",
    "for i, clf in tqdm(enumerate(nin_d.probes)):\n",
    "    # print(torch.stack(nin_d.attn_head_acts)[:, i].shape)\n",
    "    # y_pred = clf.predict(nin_d.attn_head_acts[:, i])\n",
    "    y_pred = clf.predict(X_test[:, i])\n",
    "    y_preds.append(y_pred)\n",
    "    total_accs.append(accuracy_score(labels, y_pred))"
   ]
  },
  {
   "cell_type": "code",
   "execution_count": 97,
   "metadata": {},
   "outputs": [
    {
     "data": {
      "image/png": "[encoded data removed]",
      "text/plain": [
       "<Figure size 640x480 with 1 Axes>"
      ]
     },
     "metadata": {},
     "output_type": "display_data"
    }
   ],
   "source": [
    "import numpy as np\n",
    "import matplotlib.pyplot as plt\n",
    "\n",
    "def histogram(arr, title):\n",
    "\n",
    "    mean_tqa = np.mean(arr)\n",
    "    std_tqa = np.std(arr)\n",
    "\n",
    "    # Plot histogram\n",
    "    plt.hist(arr, bins=10, edgecolor='black')\n",
    "\n",
    "    # Add vertical lines for mean and standard deviation\n",
    "    plt.axvline(mean_tqa, color='r', linestyle='dashed', linewidth=1, label=f'Mean: {mean_tqa:.2f}')\n",
    "    plt.axvline(mean_tqa - std_tqa, color='b', linestyle='dotted', linewidth=1, label=f'STD: {std_tqa:.2f}')\n",
    "    plt.axvline(mean_tqa + std_tqa, color='b', linestyle='dotted', linewidth=1)\n",
    "\n",
    "    # Set title and labels\n",
    "    plt.title(title)\n",
    "    plt.xlabel('Accuracy')\n",
    "    plt.ylabel('Frequency')\n",
    "\n",
    "    # Add a legend\n",
    "    plt.legend()\n",
    "\n",
    "    # Show plot\n",
    "    plt.show()\n",
    "\n",
    "histogram(all_head_accs_np, title = \"distribution of incontext probe accs mlp binary\")"
   ]
  },
  {
   "cell_type": "code",
   "execution_count": 45,
   "metadata": {},
   "outputs": [
    {
     "data": {
      "application/vnd.plotly.v1+json": {
       "config": {
        "plotlyServerURL": "https://plot.ly"
       },
       "data": [
        {
         "coloraxis": "coloraxis",
         "hovertemplate": "Heads (sorted): %{x}<br>Layers: %{y}<br>color: %{z}<extra></extra>",
         "name": "0",
         "type": "heatmap",
         "xaxis": "x",
         "yaxis": "y",
         "z": [
          [
           0.1935483870967742,
           0.1935483870967742,
           0.1935483870967742,
           0.1935483870967742,
           0.1935483870967742,
           0.1935483870967742,
           0.1935483870967742,
           0.1935483870967742,
           0.20967741935483872,
           0.1935483870967742,
           0.1935483870967742,
           0.1935483870967742,
           0.1935483870967742,
           0.1935483870967742,
           0.1935483870967742,
           0.1935483870967742,
           0.1935483870967742,
           0.1935483870967742,
           0.1935483870967742,
           0.1935483870967742,
           0.1935483870967742,
           0.1935483870967742,
           0.2056451612903226,
           0.1935483870967742,
           0.1935483870967742
          ],
          [
           0.29838709677419356,
           0.25806451612903225,
           0.23387096774193547,
           0.23790322580645162,
           0.2782258064516129,
           0.24596774193548387,
           0.22580645161290322,
           0.375,
           0.2782258064516129,
           0.32661290322580644,
           0.3588709677419355,
           0.2903225806451613,
           0.23387096774193547,
           0.2782258064516129,
           0.22983870967741934,
           0.3024193548387097,
           0.25806451612903225,
           0.2701612903225806,
           0.25,
           0.1975806451612903,
           0.2620967741935484,
           0.22580645161290322,
           0.2661290322580645,
           0.23790322580645162,
           0.2862903225806452
          ],
          [
           0.1774193548387097,
           0.23790322580645162,
           0.2782258064516129,
           0.22580645161290322,
           0.3024193548387097,
           0.2701612903225806,
           0.33064516129032256,
           0.22580645161290322,
           0.25806451612903225,
           0.24596774193548387,
           0.2782258064516129,
           0.2782258064516129,
           0.4032258064516129,
           0.20161290322580644,
           0.2217741935483871,
           0.22580645161290322,
           0.2661290322580645,
           0.24596774193548387,
           0.25,
           0.25806451612903225,
           0.29435483870967744,
           0.2056451612903226,
           0.2862903225806452,
           0.25806451612903225,
           0.27419354838709675
          ],
          [
           0.31048387096774194,
           0.2903225806451613,
           0.21774193548387097,
           0.23790322580645162,
           0.3024193548387097,
           0.32661290322580644,
           0.23387096774193547,
           0.2661290322580645,
           0.3346774193548387,
           0.2540322580645161,
           0.24596774193548387,
           0.25,
           0.2782258064516129,
           0.22580645161290322,
           0.2217741935483871,
           0.3064516129032258,
           0.22580645161290322,
           0.21370967741935484,
           0.2540322580645161,
           0.25806451612903225,
           0.28225806451612906,
           0.2540322580645161,
           0.20967741935483872,
           0.2903225806451613,
           0.24596774193548387
          ],
          [
           0.2661290322580645,
           0.23790322580645162,
           0.1935483870967742,
           0.29838709677419356,
           0.28225806451612906,
           0.2056451612903226,
           0.24596774193548387,
           0.28225806451612906,
           0.3346774193548387,
           0.24193548387096775,
           0.2862903225806452,
           0.21370967741935484,
           0.24193548387096775,
           0.3951612903225806,
           0.2782258064516129,
           0.2661290322580645,
           0.25,
           0.31451612903225806,
           0.2782258064516129,
           0.3629032258064516,
           0.25,
           0.2661290322580645,
           0.28225806451612906,
           0.25806451612903225,
           0.23387096774193547
          ],
          [
           0.27419354838709675,
           0.3346774193548387,
           0.2661290322580645,
           0.23790322580645162,
           0.3588709677419355,
           0.3064516129032258,
           0.29435483870967744,
           0.25,
           0.23387096774193547,
           0.29435483870967744,
           0.24596774193548387,
           0.2217741935483871,
           0.24193548387096775,
           0.27419354838709675,
           0.375,
           0.3024193548387097,
           0.32661290322580644,
           0.2217741935483871,
           0.4314516129032258,
           0.25,
           0.25806451612903225,
           0.23790322580645162,
           0.24596774193548387,
           0.23790322580645162,
           0.3064516129032258
          ],
          [
           0.2620967741935484,
           0.31048387096774194,
           0.2540322580645161,
           0.25806451612903225,
           0.2217741935483871,
           0.25806451612903225,
           0.2661290322580645,
           0.29435483870967744,
           0.24193548387096775,
           0.29838709677419356,
           0.2620967741935484,
           0.21774193548387097,
           0.29435483870967744,
           0.24596774193548387,
           0.22580645161290322,
           0.2620967741935484,
           0.23790322580645162,
           0.32661290322580644,
           0.2661290322580645,
           0.3709677419354839,
           0.2862903225806452,
           0.24596774193548387,
           0.31451612903225806,
           0.3225806451612903,
           0.31451612903225806
          ],
          [
           0.3548387096774194,
           0.21774193548387097,
           0.2620967741935484,
           0.25806451612903225,
           0.3024193548387097,
           0.2540322580645161,
           0.24193548387096775,
           0.2903225806451613,
           0.2661290322580645,
           0.24596774193548387,
           0.27419354838709675,
           0.2903225806451613,
           0.24193548387096775,
           0.2620967741935484,
           0.35080645161290325,
           0.2903225806451613,
           0.2903225806451613,
           0.23790322580645162,
           0.27419354838709675,
           0.29435483870967744,
           0.24193548387096775,
           0.3548387096774194,
           0.2540322580645161,
           0.33064516129032256,
           0.29838709677419356
          ],
          [
           0.27419354838709675,
           0.22580645161290322,
           0.24596774193548387,
           0.29838709677419356,
           0.2661290322580645,
           0.3185483870967742,
           0.2540322580645161,
           0.2661290322580645,
           0.32661290322580644,
           0.2903225806451613,
           0.21774193548387097,
           0.25806451612903225,
           0.22580645161290322,
           0.2540322580645161,
           0.2862903225806452,
           0.4435483870967742,
           0.3024193548387097,
           0.29435483870967744,
           0.2620967741935484,
           0.25,
           0.24596774193548387,
           0.25806451612903225,
           0.36693548387096775,
           0.3346774193548387,
           0.23790322580645162
          ],
          [
           0.1935483870967742,
           0.4112903225806452,
           0.22983870967741934,
           0.21370967741935484,
           0.28225806451612906,
           0.35080645161290325,
           0.2056451612903226,
           0.29838709677419356,
           0.31048387096774194,
           0.3346774193548387,
           0.22983870967741934,
           0.23387096774193547,
           0.4314516129032258,
           0.4314516129032258,
           0.32661290322580644,
           0.24596774193548387,
           0.2782258064516129,
           0.2661290322580645,
           0.2661290322580645,
           0.29838709677419356,
           0.3346774193548387,
           0.28225806451612906,
           0.3185483870967742,
           0.2661290322580645,
           0.24193548387096775
          ],
          [
           0.2903225806451613,
           0.24596774193548387,
           0.3346774193548387,
           0.3024193548387097,
           0.22983870967741934,
           0.25,
           0.21774193548387097,
           0.1935483870967742,
           0.2540322580645161,
           0.2782258064516129,
           0.3024193548387097,
           0.3064516129032258,
           0.40725806451612906,
           0.20967741935483872,
           0.27419354838709675,
           0.1935483870967742,
           0.3024193548387097,
           0.27419354838709675,
           0.29838709677419356,
           0.3548387096774194,
           0.2862903225806452,
           0.3185483870967742,
           0.33064516129032256,
           0.3225806451612903,
           0.20161290322580644
          ],
          [
           0.23387096774193547,
           0.4879032258064516,
           0.2903225806451613,
           0.3346774193548387,
           0.3024193548387097,
           0.43951612903225806,
           0.1935483870967742,
           0.2056451612903226,
           0.46774193548387094,
           0.25806451612903225,
           0.2862903225806452,
           0.1935483870967742,
           0.3870967741935484,
           0.3629032258064516,
           0.29435483870967744,
           0.24193548387096775,
           0.1975806451612903,
           0.31451612903225806,
           0.22983870967741934,
           0.40725806451612906,
           0.25,
           0.3185483870967742,
           0.3467741935483871,
           0.4153225806451613,
           0.33064516129032256
          ],
          [
           0.29838709677419356,
           0.21774193548387097,
           0.23790322580645162,
           0.3225806451612903,
           0.3185483870967742,
           0.2903225806451613,
           0.22983870967741934,
           0.2661290322580645,
           0.3064516129032258,
           0.4112903225806452,
           0.3346774193548387,
           0.2903225806451613,
           0.36693548387096775,
           0.31048387096774194,
           0.4112903225806452,
           0.25,
           0.2903225806451613,
           0.1935483870967742,
           0.31048387096774194,
           0.3548387096774194,
           0.3225806451612903,
           0.33064516129032256,
           0.3064516129032258,
           0.3225806451612903,
           0.21774193548387097
          ],
          [
           0.6088709677419355,
           0.3024193548387097,
           0.33064516129032256,
           0.3225806451612903,
           0.1935483870967742,
           0.32661290322580644,
           0.43951612903225806,
           0.33064516129032256,
           0.3346774193548387,
           0.3548387096774194,
           0.3467741935483871,
           0.45161290322580644,
           0.3951612903225806,
           0.34274193548387094,
           0.2782258064516129,
           0.3387096774193548,
           0.36693548387096775,
           0.29838709677419356,
           0.2620967741935484,
           0.33064516129032256,
           0.32661290322580644,
           0.2903225806451613,
           0.3911290322580645,
           0.3709677419354839,
           0.34274193548387094
          ],
          [
           0.3588709677419355,
           0.3387096774193548,
           0.5040322580645161,
           0.3467741935483871,
           0.375,
           0.6169354838709677,
           0.3870967741935484,
           0.3064516129032258,
           0.3588709677419355,
           0.375,
           0.3346774193548387,
           0.4475806451612903,
           0.3911290322580645,
           0.3387096774193548,
           0.3911290322580645,
           0.43548387096774194,
           0.4475806451612903,
           0.3951612903225806,
           0.36693548387096775,
           0.5241935483870968,
           0.4959677419354839,
           0.375,
           0.3225806451612903,
           0.3709677419354839,
           0.47580645161290325
          ],
          [
           0.375,
           0.3790322580645161,
           0.3709677419354839,
           0.4879032258064516,
           0.3870967741935484,
           0.24193548387096775,
           0.33064516129032256,
           0.4112903225806452,
           0.3185483870967742,
           0.4475806451612903,
           0.29435483870967744,
           0.40725806451612906,
           0.4112903225806452,
           0.22580645161290322,
           0.3629032258064516,
           0.5201612903225806,
           0.31451612903225806,
           0.3387096774193548,
           0.49193548387096775,
           0.4153225806451613,
           0.32661290322580644,
           0.4314516129032258,
           0.41935483870967744,
           0.23790322580645162,
           0.3387096774193548
          ],
          [
           0.46774193548387094,
           0.4153225806451613,
           0.40725806451612906,
           0.5846774193548387,
           0.40725806451612906,
           0.3548387096774194,
           0.43951612903225806,
           0.45161290322580644,
           0.41935483870967744,
           0.3951612903225806,
           0.35080645161290325,
           0.2782258064516129,
           0.3709677419354839,
           0.4637096774193548,
           0.3387096774193548,
           0.5483870967741935,
           0.31048387096774194,
           0.4314516129032258,
           0.47580645161290325,
           0.29435483870967744,
           0.47580645161290325,
           0.6048387096774194,
           0.375,
           0.5282258064516129,
           0.39919354838709675
          ],
          [
           0.4435483870967742,
           0.6733870967741935,
           0.532258064516129,
           0.3790322580645161,
           0.25806451612903225,
           0.5241935483870968,
           0.5362903225806451,
           0.4717741935483871,
           0.29435483870967744,
           0.42338709677419356,
           0.4838709677419355,
           0.42338709677419356,
           0.3346774193548387,
           0.4112903225806452,
           0.46774193548387094,
           0.4838709677419355,
           0.5685483870967742,
           0.6129032258064516,
           0.5806451612903226,
           0.43548387096774194,
           0.5766129032258065,
           0.4838709677419355,
           0.2056451612903226,
           0.33064516129032256,
           0.38306451612903225
          ],
          [
           0.45161290322580644,
           0.45564516129032256,
           0.5403225806451613,
           0.4435483870967742,
           0.4879032258064516,
           0.5483870967741935,
           0.42338709677419356,
           0.3629032258064516,
           0.5201612903225806,
           0.375,
           0.5766129032258065,
           0.40725806451612906,
           0.4798387096774194,
           0.2862903225806452,
           0.5201612903225806,
           0.5725806451612904,
           0.38306451612903225,
           0.4959677419354839,
           0.6411290322580645,
           0.5161290322580645,
           0.5080645161290323,
           0.4879032258064516,
           0.4838709677419355,
           0.3225806451612903,
           0.3024193548387097
          ],
          [
           0.5282258064516129,
           0.4314516129032258,
           0.2217741935483871,
           0.31451612903225806,
           0.41935483870967744,
           0.5766129032258065,
           0.3629032258064516,
           0.3548387096774194,
           0.3951612903225806,
           0.4274193548387097,
           0.6814516129032258,
           0.4153225806451613,
           0.3225806451612903,
           0.5604838709677419,
           0.5,
           0.5645161290322581,
           0.46774193548387094,
           0.6088709677419355,
           0.6774193548387096,
           0.4879032258064516,
           0.6653225806451613,
           0.3225806451612903,
           0.3790322580645161,
           0.3629032258064516,
           0.5080645161290323
          ],
          [
           0.29838709677419356,
           0.43548387096774194,
           0.4032258064516129,
           0.45161290322580644,
           0.5,
           0.6451612903225806,
           0.6169354838709677,
           0.5403225806451613,
           0.4314516129032258,
           0.5201612903225806,
           0.35080645161290325,
           0.23387096774193547,
           0.4274193548387097,
           0.5645161290322581,
           0.3951612903225806,
           0.3629032258064516,
           0.5766129032258065,
           0.5443548387096774,
           0.4637096774193548,
           0.7016129032258065,
           0.5564516129032258,
           0.7258064516129032,
           0.5362903225806451,
           0.4032258064516129,
           0.3467741935483871
          ],
          [
           0.24193548387096775,
           0.43548387096774194,
           0.5725806451612904,
           0.42338709677419356,
           0.5725806451612904,
           0.5,
           0.43548387096774194,
           0.5120967741935484,
           0.5524193548387096,
           0.3951612903225806,
           0.6411290322580645,
           0.5645161290322581,
           0.625,
           0.8145161290322581,
           0.5362903225806451,
           0.5846774193548387,
           0.5645161290322581,
           0.5806451612903226,
           0.3911290322580645,
           0.7258064516129032,
           0.4475806451612903,
           0.5887096774193549,
           0.45564516129032256,
           0.49193548387096775,
           0.3790322580645161
          ],
          [
           0.31451612903225806,
           0.5362903225806451,
           0.4596774193548387,
           0.6088709677419355,
           0.3709677419354839,
           0.3588709677419355,
           0.5080645161290323,
           0.5241935483870968,
           0.6209677419354839,
           0.4959677419354839,
           0.3951612903225806,
           0.6169354838709677,
           0.4637096774193548,
           0.3548387096774194,
           0.4798387096774194,
           0.6693548387096774,
           0.3870967741935484,
           0.5524193548387096,
           0.4717741935483871,
           0.2540322580645161,
           0.4032258064516129,
           0.5887096774193549,
           0.5604838709677419,
           0.5564516129032258,
           0.6451612903225806
          ],
          [
           0.6733870967741935,
           0.4153225806451613,
           0.4032258064516129,
           0.5887096774193549,
           0.5241935483870968,
           0.5362903225806451,
           0.5766129032258065,
           0.4112903225806452,
           0.43548387096774194,
           0.42338709677419356,
           0.5362903225806451,
           0.7661290322580645,
           0.3709677419354839,
           0.6008064516129032,
           0.4798387096774194,
           0.4838709677419355,
           0.6814516129032258,
           0.4314516129032258,
           0.6612903225806451,
           0.5887096774193549,
           0.7459677419354839,
           0.5685483870967742,
           0.657258064516129,
           0.5967741935483871,
           0.3629032258064516
          ],
          [
           0.23790322580645162,
           0.6411290322580645,
           0.45564516129032256,
           0.6088709677419355,
           0.6854838709677419,
           0.6451612903225806,
           0.6532258064516129,
           0.5443548387096774,
           0.5604838709677419,
           0.6653225806451613,
           0.6532258064516129,
           0.6975806451612904,
           0.43548387096774194,
           0.5080645161290323,
           0.6008064516129032,
           0.4153225806451613,
           0.7580645161290323,
           0.31451612903225806,
           0.49193548387096775,
           0.49193548387096775,
           0.40725806451612906,
           0.3951612903225806,
           0.47580645161290325,
           0.4596774193548387,
           0.46774193548387094
          ],
          [
           0.6008064516129032,
           0.657258064516129,
           0.42338709677419356,
           0.5201612903225806,
           0.6129032258064516,
           0.5362903225806451,
           0.5887096774193549,
           0.4717741935483871,
           0.5483870967741935,
           0.5685483870967742,
           0.532258064516129,
           0.39919354838709675,
           0.5645161290322581,
           0.5766129032258065,
           0.5846774193548387,
           0.5443548387096774,
           0.36693548387096775,
           0.717741935483871,
           0.28225806451612906,
           0.5564516129032258,
           0.3548387096774194,
           0.6088709677419355,
           0.6814516129032258,
           0.5,
           0.5645161290322581
          ],
          [
           0.5604838709677419,
           0.5282258064516129,
           0.3548387096774194,
           0.4637096774193548,
           0.4838709677419355,
           0.3467741935483871,
           0.6209677419354839,
           0.31048387096774194,
           0.7056451612903226,
           0.33064516129032256,
           0.5080645161290323,
           0.6370967741935484,
           0.34274193548387094,
           0.22983870967741934,
           0.657258064516129,
           0.5282258064516129,
           0.7096774193548387,
           0.4798387096774194,
           0.3870967741935484,
           0.35080645161290325,
           0.5201612903225806,
           0.31451612903225806,
           0.5806451612903226,
           0.5685483870967742,
           0.5967741935483871
          ],
          [
           0.21370967741935484,
           0.5403225806451613,
           0.47580645161290325,
           0.6330645161290323,
           0.3588709677419355,
           0.7258064516129032,
           0.3387096774193548,
           0.375,
           0.24596774193548387,
           0.4959677419354839,
           0.3790322580645161,
           0.49193548387096775,
           0.5685483870967742,
           0.43951612903225806,
           0.5443548387096774,
           0.4274193548387097,
           0.47580645161290325,
           0.5967741935483871,
           0.4274193548387097,
           0.42338709677419356,
           0.4838709677419355,
           0.3467741935483871,
           0.4435483870967742,
           0.2903225806451613,
           0.5846774193548387
          ],
          [
           0.34274193548387094,
           0.3588709677419355,
           0.4475806451612903,
           0.5806451612903226,
           0.4112903225806452,
           0.3225806451612903,
           0.5806451612903226,
           0.5443548387096774,
           0.29838709677419356,
           0.29435483870967744,
           0.3185483870967742,
           0.3467741935483871,
           0.5161290322580645,
           0.22580645161290322,
           0.5766129032258065,
           0.7540322580645161,
           0.20967741935483872,
           0.5241935483870968,
           0.6975806451612904,
           0.5362903225806451,
           0.33064516129032256,
           0.6370967741935484,
           0.24596774193548387,
           0.5080645161290323,
           0.4959677419354839
          ],
          [
           0.6290322580645161,
           0.5766129032258065,
           0.6895161290322581,
           0.3629032258064516,
           0.5040322580645161,
           0.6774193548387096,
           0.4435483870967742,
           0.38306451612903225,
           0.6612903225806451,
           0.717741935483871,
           0.3951612903225806,
           0.6169354838709677,
           0.2862903225806452,
           0.4959677419354839,
           0.31451612903225806,
           0.36693548387096775,
           0.47580645161290325,
           0.532258064516129,
           0.4112903225806452,
           0.6532258064516129,
           0.6370967741935484,
           0.6008064516129032,
           0.5887096774193549,
           0.4435483870967742,
           0.6612903225806451
          ],
          [
           0.5362903225806451,
           0.47580645161290325,
           0.5040322580645161,
           0.4838709677419355,
           0.3467741935483871,
           0.7217741935483871,
           0.46774193548387094,
           0.3629032258064516,
           0.6733870967741935,
           0.40725806451612906,
           0.4637096774193548,
           0.6854838709677419,
           0.24596774193548387,
           0.6048387096774194,
           0.3225806451612903,
           0.36693548387096775,
           0.3911290322580645,
           0.4959677419354839,
           0.46774193548387094,
           0.5201612903225806,
           0.5524193548387096,
           0.3951612903225806,
           0.33064516129032256,
           0.6411290322580645,
           0.5403225806451613
          ],
          [
           0.4475806451612903,
           0.5040322580645161,
           0.3064516129032258,
           0.6129032258064516,
           0.5766129032258065,
           0.6451612903225806,
           0.4032258064516129,
           0.5564516129032258,
           0.6854838709677419,
           0.39919354838709675,
           0.46774193548387094,
           0.6653225806451613,
           0.3588709677419355,
           0.5766129032258065,
           0.22580645161290322,
           0.5080645161290323,
           0.6209677419354839,
           0.4798387096774194,
           0.49193548387096775,
           0.5120967741935484,
           0.5483870967741935,
           0.31048387096774194,
           0.29435483870967744,
           0.4153225806451613,
           0.6048387096774194
          ],
          [
           0.4435483870967742,
           0.6491935483870968,
           0.5120967741935484,
           0.5887096774193549,
           0.5,
           0.4637096774193548,
           0.45161290322580644,
           0.375,
           0.5120967741935484,
           0.4637096774193548,
           0.5,
           0.5846774193548387,
           0.3024193548387097,
           0.5846774193548387,
           0.5483870967741935,
           0.6612903225806451,
           0.31451612903225806,
           0.5080645161290323,
           0.3911290322580645,
           0.532258064516129,
           0.6854838709677419,
           0.2540322580645161,
           0.43548387096774194,
           0.4032258064516129,
           0.40725806451612906
          ],
          [
           0.5846774193548387,
           0.5241935483870968,
           0.6693548387096774,
           0.25806451612903225,
           0.3911290322580645,
           0.25,
           0.4274193548387097,
           0.6491935483870968,
           0.4314516129032258,
           0.5080645161290323,
           0.5766129032258065,
           0.3951612903225806,
           0.3387096774193548,
           0.6814516129032258,
           0.6088709677419355,
           0.3225806451612903,
           0.43951612903225806,
           0.4475806451612903,
           0.7096774193548387,
           0.5604838709677419,
           0.5,
           0.21370967741935484,
           0.49193548387096775,
           0.33064516129032256,
           0.45564516129032256
          ],
          [
           0.3346774193548387,
           0.3387096774193548,
           0.3629032258064516,
           0.34274193548387094,
           0.49193548387096775,
           0.40725806451612906,
           0.3588709677419355,
           0.5,
           0.23387096774193547,
           0.4112903225806452,
           0.6129032258064516,
           0.592741935483871,
           0.6451612903225806,
           0.3024193548387097,
           0.43951612903225806,
           0.2862903225806452,
           0.5120967741935484,
           0.7137096774193549,
           0.22983870967741934,
           0.375,
           0.6370967741935484,
           0.5241935483870968,
           0.5161290322580645,
           0.31451612903225806,
           0.23790322580645162
          ],
          [
           0.6129032258064516,
           0.3225806451612903,
           0.43951612903225806,
           0.45564516129032256,
           0.4314516129032258,
           0.43951612903225806,
           0.3911290322580645,
           0.592741935483871,
           0.5766129032258065,
           0.3064516129032258,
           0.35080645161290325,
           0.3064516129032258,
           0.5040322580645161,
           0.3951612903225806,
           0.33064516129032256,
           0.4435483870967742,
           0.5846774193548387,
           0.7096774193548387,
           0.3548387096774194,
           0.7096774193548387,
           0.4112903225806452,
           0.4032258064516129,
           0.2701612903225806,
           0.29838709677419356,
           0.5887096774193549
          ],
          [
           0.4032258064516129,
           0.22983870967741934,
           0.6612903225806451,
           0.7016129032258065,
           0.29435483870967744,
           0.4475806451612903,
           0.45564516129032256,
           0.2056451612903226,
           0.4032258064516129,
           0.4032258064516129,
           0.6048387096774194,
           0.25,
           0.2620967741935484,
           0.6451612903225806,
           0.3629032258064516,
           0.36693548387096775,
           0.22580645161290322,
           0.7379032258064516,
           0.6008064516129032,
           0.46774193548387094,
           0.3790322580645161,
           0.3225806451612903,
           0.4435483870967742,
           0.5040322580645161,
           0.3790322580645161
          ],
          [
           0.6209677419354839,
           0.2661290322580645,
           0.2540322580645161,
           0.25806451612903225,
           0.40725806451612906,
           0.3064516129032258,
           0.32661290322580644,
           0.6088709677419355,
           0.6290322580645161,
           0.3548387096774194,
           0.5403225806451613,
           0.3548387096774194,
           0.4879032258064516,
           0.40725806451612906,
           0.3911290322580645,
           0.31451612903225806,
           0.25,
           0.4959677419354839,
           0.3467741935483871,
           0.43951612903225806,
           0.29838709677419356,
           0.43548387096774194,
           0.5201612903225806,
           0.28225806451612906,
           0.27419354838709675
          ],
          [
           0.4112903225806452,
           0.4838709677419355,
           0.5524193548387096,
           0.5120967741935484,
           0.3629032258064516,
           0.36693548387096775,
           0.5725806451612904,
           0.5241935483870968,
           0.43548387096774194,
           0.42338709677419356,
           0.1935483870967742,
           0.5443548387096774,
           0.4274193548387097,
           0.6532258064516129,
           0.592741935483871,
           0.3629032258064516,
           0.36693548387096775,
           0.5201612903225806,
           0.28225806451612906,
           0.375,
           0.3185483870967742,
           0.4435483870967742,
           0.6451612903225806,
           0.5282258064516129,
           0.3346774193548387
          ],
          [
           0.5685483870967742,
           0.47580645161290325,
           0.3467741935483871,
           0.41935483870967744,
           0.23790322580645162,
           0.5161290322580645,
           0.3951612903225806,
           0.4959677419354839,
           0.31451612903225806,
           0.6491935483870968,
           0.5887096774193549,
           0.6330645161290323,
           0.6370967741935484,
           0.4274193548387097,
           0.40725806451612906,
           0.5,
           0.46774193548387094,
           0.32661290322580644,
           0.3790322580645161,
           0.34274193548387094,
           0.3790322580645161,
           0.5403225806451613,
           0.4475806451612903,
           0.31451612903225806,
           0.3870967741935484
          ],
          [
           0.4314516129032258,
           0.4637096774193548,
           0.43951612903225806,
           0.3185483870967742,
           0.4435483870967742,
           0.23790322580645162,
           0.4879032258064516,
           0.31048387096774194,
           0.2782258064516129,
           0.5282258064516129,
           0.3548387096774194,
           0.6209677419354839,
           0.2903225806451613,
           0.5967741935483871,
           0.2903225806451613,
           0.3225806451612903,
           0.7137096774193549,
           0.2620967741935484,
           0.3467741935483871,
           0.4475806451612903,
           0.3911290322580645,
           0.3185483870967742,
           0.5403225806451613,
           0.532258064516129,
           0.4032258064516129
          ],
          [
           0.5645161290322581,
           0.42338709677419356,
           0.3467741935483871,
           0.3629032258064516,
           0.4153225806451613,
           0.657258064516129,
           0.25,
           0.3185483870967742,
           0.2903225806451613,
           0.3709677419354839,
           0.34274193548387094,
           0.42338709677419356,
           0.3629032258064516,
           0.4435483870967742,
           0.3225806451612903,
           0.22983870967741934,
           0.6774193548387096,
           0.31451612903225806,
           0.5967741935483871,
           0.4112903225806452,
           0.3346774193548387,
           0.36693548387096775,
           0.4032258064516129,
           0.3024193548387097,
           0.32661290322580644
          ],
          [
           0.2782258064516129,
           0.4879032258064516,
           0.4879032258064516,
           0.4475806451612903,
           0.42338709677419356,
           0.4596774193548387,
           0.5806451612903226,
           0.49193548387096775,
           0.5201612903225806,
           0.5080645161290323,
           0.3629032258064516,
           0.6330645161290323,
           0.6290322580645161,
           0.49193548387096775,
           0.3064516129032258,
           0.43548387096774194,
           0.2217741935483871,
           0.4879032258064516,
           0.5282258064516129,
           0.5080645161290323,
           0.5846774193548387,
           0.1975806451612903,
           0.6774193548387096,
           0.2903225806451613,
           0.25
          ],
          [
           0.2620967741935484,
           0.4717741935483871,
           0.2540322580645161,
           0.3064516129032258,
           0.7338709677419355,
           0.4798387096774194,
           0.6411290322580645,
           0.5362903225806451,
           0.6048387096774194,
           0.3024193548387097,
           0.2701612903225806,
           0.5,
           0.40725806451612906,
           0.3346774193548387,
           0.3951612903225806,
           0.42338709677419356,
           0.40725806451612906,
           0.3951612903225806,
           0.3588709677419355,
           0.45161290322580644,
           0.375,
           0.41935483870967744,
           0.4596774193548387,
           0.5604838709677419,
           0.2903225806451613
          ],
          [
           0.39919354838709675,
           0.5362903225806451,
           0.4798387096774194,
           0.33064516129032256,
           0.3548387096774194,
           0.4274193548387097,
           0.27419354838709675,
           0.5403225806451613,
           0.22983870967741934,
           0.43951612903225806,
           0.375,
           0.5604838709677419,
           0.40725806451612906,
           0.4153225806451613,
           0.5524193548387096,
           0.6774193548387096,
           0.6733870967741935,
           0.3346774193548387,
           0.22580645161290322,
           0.6935483870967742,
           0.5,
           0.6975806451612904,
           0.4959677419354839,
           0.41935483870967744,
           0.2056451612903226
          ],
          [
           0.4596774193548387,
           0.3588709677419355,
           0.4596774193548387,
           0.46774193548387094,
           0.2903225806451613,
           0.22580645161290322,
           0.4959677419354839,
           0.35080645161290325,
           0.29838709677419356,
           0.5403225806451613,
           0.3951612903225806,
           0.4838709677419355,
           0.39919354838709675,
           0.45161290322580644,
           0.6975806451612904,
           0.4314516129032258,
           0.5201612903225806,
           0.5967741935483871,
           0.5967741935483871,
           0.3629032258064516,
           0.40725806451612906,
           0.6370967741935484,
           0.5806451612903226,
           0.39919354838709675,
           0.3225806451612903
          ],
          [
           0.5040322580645161,
           0.6129032258064516,
           0.46774193548387094,
           0.4637096774193548,
           0.5201612903225806,
           0.45564516129032256,
           0.45564516129032256,
           0.6209677419354839,
           0.49193548387096775,
           0.6129032258064516,
           0.6129032258064516,
           0.47580645161290325,
           0.6048387096774194,
           0.4314516129032258,
           0.4596774193548387,
           0.5564516129032258,
           0.5846774193548387,
           0.5766129032258065,
           0.4314516129032258,
           0.6048387096774194,
           0.46774193548387094,
           0.5766129032258065,
           0.4838709677419355,
           0.5806451612903226,
           0.3467741935483871
          ],
          [
           0.42338709677419356,
           0.6370967741935484,
           0.49193548387096775,
           0.5887096774193549,
           0.6169354838709677,
           0.5201612903225806,
           0.5161290322580645,
           0.41935483870967744,
           0.532258064516129,
           0.5403225806451613,
           0.5241935483870968,
           0.4314516129032258,
           0.4838709677419355,
           0.5161290322580645,
           0.5403225806451613,
           0.5846774193548387,
           0.592741935483871,
           0.6330645161290323,
           0.5403225806451613,
           0.5725806451612904,
           0.6048387096774194,
           0.4838709677419355,
           0.5806451612903226,
           0.5201612903225806,
           0.4838709677419355
          ]
         ]
        }
       ],
       "layout": {
        "coloraxis": {
         "cmid": 0,
         "colorscale": [
          [
           0,
           "rgb(103,0,31)"
          ],
          [
           0.1,
           "rgb(178,24,43)"
          ],
          [
           0.2,
           "rgb(214,96,77)"
          ],
          [
           0.3,
           "rgb(244,165,130)"
          ],
          [
           0.4,
           "rgb(253,219,199)"
          ],
          [
           0.5,
           "rgb(247,247,247)"
          ],
          [
           0.6,
           "rgb(209,229,240)"
          ],
          [
           0.7,
           "rgb(146,197,222)"
          ],
          [
           0.8,
           "rgb(67,147,195)"
          ],
          [
           0.9,
           "rgb(33,102,172)"
          ],
          [
           1,
           "rgb(5,48,97)"
          ]
         ]
        },
        "template": {
         "data": {
          "bar": [
           {
            "error_x": {
             "color": "#2a3f5f"
            },
            "error_y": {
             "color": "#2a3f5f"
            },
            "marker": {
             "line": {
              "color": "#E5ECF6",
              "width": 0.5
             },
             "pattern": {
              "fillmode": "overlay",
              "size": 10,
              "solidity": 0.2
             }
            },
            "type": "bar"
           }
          ],
          "barpolar": [
           {
            "marker": {
             "line": {
              "color": "#E5ECF6",
              "width": 0.5
             },
             "pattern": {
              "fillmode": "overlay",
              "size": 10,
              "solidity": 0.2
             }
            },
            "type": "barpolar"
           }
          ],
          "carpet": [
           {
            "aaxis": {
             "endlinecolor": "#2a3f5f",
             "gridcolor": "white",
             "linecolor": "white",
             "minorgridcolor": "white",
             "startlinecolor": "#2a3f5f"
            },
            "baxis": {
             "endlinecolor": "#2a3f5f",
             "gridcolor": "white",
             "linecolor": "white",
             "minorgridcolor": "white",
             "startlinecolor": "#2a3f5f"
            },
            "type": "carpet"
           }
          ],
          "choropleth": [
           {
            "colorbar": {
             "outlinewidth": 0,
             "ticks": ""
            },
            "type": "choropleth"
           }
          ],
          "contour": [
           {
            "colorbar": {
             "outlinewidth": 0,
             "ticks": ""
            },
            "colorscale": [
             [
              0,
              "#0d0887"
             ],
             [
              0.1111111111111111,
              "#46039f"
             ],
             [
              0.2222222222222222,
              "#7201a8"
             ],
             [
              0.3333333333333333,
              "#9c179e"
             ],
             [
              0.4444444444444444,
              "#bd3786"
             ],
             [
              0.5555555555555556,
              "#d8576b"
             ],
             [
              0.6666666666666666,
              "#ed7953"
             ],
             [
              0.7777777777777778,
              "#fb9f3a"
             ],
             [
              0.8888888888888888,
              "#fdca26"
             ],
             [
              1,
              "#f0f921"
             ]
            ],
            "type": "contour"
           }
          ],
          "contourcarpet": [
           {
            "colorbar": {
             "outlinewidth": 0,
             "ticks": ""
            },
            "type": "contourcarpet"
           }
          ],
          "heatmap": [
           {
            "colorbar": {
             "outlinewidth": 0,
             "ticks": ""
            },
            "colorscale": [
             [
              0,
              "#0d0887"
             ],
             [
              0.1111111111111111,
              "#46039f"
             ],
             [
              0.2222222222222222,
              "#7201a8"
             ],
             [
              0.3333333333333333,
              "#9c179e"
             ],
             [
              0.4444444444444444,
              "#bd3786"
             ],
             [
              0.5555555555555556,
              "#d8576b"
             ],
             [
              0.6666666666666666,
              "#ed7953"
             ],
             [
              0.7777777777777778,
              "#fb9f3a"
             ],
             [
              0.8888888888888888,
              "#fdca26"
             ],
             [
              1,
              "#f0f921"
             ]
            ],
            "type": "heatmap"
           }
          ],
          "heatmapgl": [
           {
            "colorbar": {
             "outlinewidth": 0,
             "ticks": ""
            },
            "colorscale": [
             [
              0,
              "#0d0887"
             ],
             [
              0.1111111111111111,
              "#46039f"
             ],
             [
              0.2222222222222222,
              "#7201a8"
             ],
             [
              0.3333333333333333,
              "#9c179e"
             ],
             [
              0.4444444444444444,
              "#bd3786"
             ],
             [
              0.5555555555555556,
              "#d8576b"
             ],
             [
              0.6666666666666666,
              "#ed7953"
             ],
             [
              0.7777777777777778,
              "#fb9f3a"
             ],
             [
              0.8888888888888888,
              "#fdca26"
             ],
             [
              1,
              "#f0f921"
             ]
            ],
            "type": "heatmapgl"
           }
          ],
          "histogram": [
           {
            "marker": {
             "pattern": {
              "fillmode": "overlay",
              "size": 10,
              "solidity": 0.2
             }
            },
            "type": "histogram"
           }
          ],
          "histogram2d": [
           {
            "colorbar": {
             "outlinewidth": 0,
             "ticks": ""
            },
            "colorscale": [
             [
              0,
              "#0d0887"
             ],
             [
              0.1111111111111111,
              "#46039f"
             ],
             [
              0.2222222222222222,
              "#7201a8"
             ],
             [
              0.3333333333333333,
              "#9c179e"
             ],
             [
              0.4444444444444444,
              "#bd3786"
             ],
             [
              0.5555555555555556,
              "#d8576b"
             ],
             [
              0.6666666666666666,
              "#ed7953"
             ],
             [
              0.7777777777777778,
              "#fb9f3a"
             ],
             [
              0.8888888888888888,
              "#fdca26"
             ],
             [
              1,
              "#f0f921"
             ]
            ],
            "type": "histogram2d"
           }
          ],
          "histogram2dcontour": [
           {
            "colorbar": {
             "outlinewidth": 0,
             "ticks": ""
            },
            "colorscale": [
             [
              0,
              "#0d0887"
             ],
             [
              0.1111111111111111,
              "#46039f"
             ],
             [
              0.2222222222222222,
              "#7201a8"
             ],
             [
              0.3333333333333333,
              "#9c179e"
             ],
             [
              0.4444444444444444,
              "#bd3786"
             ],
             [
              0.5555555555555556,
              "#d8576b"
             ],
             [
              0.6666666666666666,
              "#ed7953"
             ],
             [
              0.7777777777777778,
              "#fb9f3a"
             ],
             [
              0.8888888888888888,
              "#fdca26"
             ],
             [
              1,
              "#f0f921"
             ]
            ],
            "type": "histogram2dcontour"
           }
          ],
          "mesh3d": [
           {
            "colorbar": {
             "outlinewidth": 0,
             "ticks": ""
            },
            "type": "mesh3d"
           }
          ],
          "parcoords": [
           {
            "line": {
             "colorbar": {
              "outlinewidth": 0,
              "ticks": ""
             }
            },
            "type": "parcoords"
           }
          ],
          "pie": [
           {
            "automargin": true,
            "type": "pie"
           }
          ],
          "scatter": [
           {
            "fillpattern": {
             "fillmode": "overlay",
             "size": 10,
             "solidity": 0.2
            },
            "type": "scatter"
           }
          ],
          "scatter3d": [
           {
            "line": {
             "colorbar": {
              "outlinewidth": 0,
              "ticks": ""
             }
            },
            "marker": {
             "colorbar": {
              "outlinewidth": 0,
              "ticks": ""
             }
            },
            "type": "scatter3d"
           }
          ],
          "scattercarpet": [
           {
            "marker": {
             "colorbar": {
              "outlinewidth": 0,
              "ticks": ""
             }
            },
            "type": "scattercarpet"
           }
          ],
          "scattergeo": [
           {
            "marker": {
             "colorbar": {
              "outlinewidth": 0,
              "ticks": ""
             }
            },
            "type": "scattergeo"
           }
          ],
          "scattergl": [
           {
            "marker": {
             "colorbar": {
              "outlinewidth": 0,
              "ticks": ""
             }
            },
            "type": "scattergl"
           }
          ],
          "scattermapbox": [
           {
            "marker": {
             "colorbar": {
              "outlinewidth": 0,
              "ticks": ""
             }
            },
            "type": "scattermapbox"
           }
          ],
          "scatterpolar": [
           {
            "marker": {
             "colorbar": {
              "outlinewidth": 0,
              "ticks": ""
             }
            },
            "type": "scatterpolar"
           }
          ],
          "scatterpolargl": [
           {
            "marker": {
             "colorbar": {
              "outlinewidth": 0,
              "ticks": ""
             }
            },
            "type": "scatterpolargl"
           }
          ],
          "scatterternary": [
           {
            "marker": {
             "colorbar": {
              "outlinewidth": 0,
              "ticks": ""
             }
            },
            "type": "scatterternary"
           }
          ],
          "surface": [
           {
            "colorbar": {
             "outlinewidth": 0,
             "ticks": ""
            },
            "colorscale": [
             [
              0,
              "#0d0887"
             ],
             [
              0.1111111111111111,
              "#46039f"
             ],
             [
              0.2222222222222222,
              "#7201a8"
             ],
             [
              0.3333333333333333,
              "#9c179e"
             ],
             [
              0.4444444444444444,
              "#bd3786"
             ],
             [
              0.5555555555555556,
              "#d8576b"
             ],
             [
              0.6666666666666666,
              "#ed7953"
             ],
             [
              0.7777777777777778,
              "#fb9f3a"
             ],
             [
              0.8888888888888888,
              "#fdca26"
             ],
             [
              1,
              "#f0f921"
             ]
            ],
            "type": "surface"
           }
          ],
          "table": [
           {
            "cells": {
             "fill": {
              "color": "#EBF0F8"
             },
             "line": {
              "color": "white"
             }
            },
            "header": {
             "fill": {
              "color": "#C8D4E3"
             },
             "line": {
              "color": "white"
             }
            },
            "type": "table"
           }
          ]
         },
         "layout": {
          "annotationdefaults": {
           "arrowcolor": "#2a3f5f",
           "arrowhead": 0,
           "arrowwidth": 1
          },
          "autotypenumbers": "strict",
          "coloraxis": {
           "colorbar": {
            "outlinewidth": 0,
            "ticks": ""
           }
          },
          "colorscale": {
           "diverging": [
            [
             0,
             "#8e0152"
            ],
            [
             0.1,
             "#c51b7d"
            ],
            [
             0.2,
             "#de77ae"
            ],
            [
             0.3,
             "#f1b6da"
            ],
            [
             0.4,
             "#fde0ef"
            ],
            [
             0.5,
             "#f7f7f7"
            ],
            [
             0.6,
             "#e6f5d0"
            ],
            [
             0.7,
             "#b8e186"
            ],
            [
             0.8,
             "#7fbc41"
            ],
            [
             0.9,
             "#4d9221"
            ],
            [
             1,
             "#276419"
            ]
           ],
           "sequential": [
            [
             0,
             "#0d0887"
            ],
            [
             0.1111111111111111,
             "#46039f"
            ],
            [
             0.2222222222222222,
             "#7201a8"
            ],
            [
             0.3333333333333333,
             "#9c179e"
            ],
            [
             0.4444444444444444,
             "#bd3786"
            ],
            [
             0.5555555555555556,
             "#d8576b"
            ],
            [
             0.6666666666666666,
             "#ed7953"
            ],
            [
             0.7777777777777778,
             "#fb9f3a"
            ],
            [
             0.8888888888888888,
             "#fdca26"
            ],
            [
             1,
             "#f0f921"
            ]
           ],
           "sequentialminus": [
            [
             0,
             "#0d0887"
            ],
            [
             0.1111111111111111,
             "#46039f"
            ],
            [
             0.2222222222222222,
             "#7201a8"
            ],
            [
             0.3333333333333333,
             "#9c179e"
            ],
            [
             0.4444444444444444,
             "#bd3786"
            ],
            [
             0.5555555555555556,
             "#d8576b"
            ],
            [
             0.6666666666666666,
             "#ed7953"
            ],
            [
             0.7777777777777778,
             "#fb9f3a"
            ],
            [
             0.8888888888888888,
             "#fdca26"
            ],
            [
             1,
             "#f0f921"
            ]
           ]
          },
          "colorway": [
           "#636efa",
           "#EF553B",
           "#00cc96",
           "#ab63fa",
           "#FFA15A",
           "#19d3f3",
           "#FF6692",
           "#B6E880",
           "#FF97FF",
           "#FECB52"
          ],
          "font": {
           "color": "#2a3f5f"
          },
          "geo": {
           "bgcolor": "white",
           "lakecolor": "white",
           "landcolor": "#E5ECF6",
           "showlakes": true,
           "showland": true,
           "subunitcolor": "white"
          },
          "hoverlabel": {
           "align": "left"
          },
          "hovermode": "closest",
          "mapbox": {
           "style": "light"
          },
          "paper_bgcolor": "white",
          "plot_bgcolor": "#E5ECF6",
          "polar": {
           "angularaxis": {
            "gridcolor": "white",
            "linecolor": "white",
            "ticks": ""
           },
           "bgcolor": "#E5ECF6",
           "radialaxis": {
            "gridcolor": "white",
            "linecolor": "white",
            "ticks": ""
           }
          },
          "scene": {
           "xaxis": {
            "backgroundcolor": "#E5ECF6",
            "gridcolor": "white",
            "gridwidth": 2,
            "linecolor": "white",
            "showbackground": true,
            "ticks": "",
            "zerolinecolor": "white"
           },
           "yaxis": {
            "backgroundcolor": "#E5ECF6",
            "gridcolor": "white",
            "gridwidth": 2,
            "linecolor": "white",
            "showbackground": true,
            "ticks": "",
            "zerolinecolor": "white"
           },
           "zaxis": {
            "backgroundcolor": "#E5ECF6",
            "gridcolor": "white",
            "gridwidth": 2,
            "linecolor": "white",
            "showbackground": true,
            "ticks": "",
            "zerolinecolor": "white"
           }
          },
          "shapedefaults": {
           "line": {
            "color": "#2a3f5f"
           }
          },
          "ternary": {
           "aaxis": {
            "gridcolor": "white",
            "linecolor": "white",
            "ticks": ""
           },
           "baxis": {
            "gridcolor": "white",
            "linecolor": "white",
            "ticks": ""
           },
           "bgcolor": "#E5ECF6",
           "caxis": {
            "gridcolor": "white",
            "linecolor": "white",
            "ticks": ""
           }
          },
          "title": {
           "x": 0.05
          },
          "xaxis": {
           "automargin": true,
           "gridcolor": "white",
           "linecolor": "white",
           "ticks": "",
           "title": {
            "standoff": 15
           },
           "zerolinecolor": "white",
           "zerolinewidth": 2
          },
          "yaxis": {
           "automargin": true,
           "gridcolor": "white",
           "linecolor": "white",
           "ticks": "",
           "title": {
            "standoff": 15
           },
           "zerolinecolor": "white",
           "zerolinewidth": 2
          }
         }
        },
        "title": {
         "text": "Sorted Probe Accuracies on Capitals"
        },
        "xaxis": {
         "anchor": "y",
         "constrain": "domain",
         "domain": [
          0,
          1
         ],
         "scaleanchor": "y",
         "title": {
          "text": "Heads (sorted)"
         }
        },
        "yaxis": {
         "anchor": "x",
         "autorange": true,
         "constrain": "domain",
         "domain": [
          0,
          1
         ],
         "title": {
          "text": "Layers"
         }
        }
       }
      },
      "text/html": [
       "<div>                            <div id=\"b94c42e4-9dcd-4963-9e90-4f82598f0c66\" class=\"plotly-graph-div\" style=\"height:525px; width:100%;\"></div>            <script type=\"text/javascript\">                require([\"plotly\"], function(Plotly) {                    window.PLOTLYENV=window.PLOTLYENV || {};                                    if (document.getElementById(\"b94c42e4-9dcd-4963-9e90-4f82598f0c66\")) {                    Plotly.newPlot(                        \"b94c42e4-9dcd-4963-9e90-4f82598f0c66\",                        [{\"coloraxis\":\"coloraxis\",\"name\":\"0\",\"z\":[[0.1935483870967742,0.1935483870967742,0.1935483870967742,0.1935483870967742,0.1935483870967742,0.1935483870967742,0.1935483870967742,0.1935483870967742,0.20967741935483872,0.1935483870967742,0.1935483870967742,0.1935483870967742,0.1935483870967742,0.1935483870967742,0.1935483870967742,0.1935483870967742,0.1935483870967742,0.1935483870967742,0.1935483870967742,0.1935483870967742,0.1935483870967742,0.1935483870967742,0.2056451612903226,0.1935483870967742,0.1935483870967742],[0.29838709677419356,0.25806451612903225,0.23387096774193547,0.23790322580645162,0.2782258064516129,0.24596774193548387,0.22580645161290322,0.375,0.2782258064516129,0.32661290322580644,0.3588709677419355,0.2903225806451613,0.23387096774193547,0.2782258064516129,0.22983870967741934,0.3024193548387097,0.25806451612903225,0.2701612903225806,0.25,0.1975806451612903,0.2620967741935484,0.22580645161290322,0.2661290322580645,0.23790322580645162,0.2862903225806452],[0.1774193548387097,0.23790322580645162,0.2782258064516129,0.22580645161290322,0.3024193548387097,0.2701612903225806,0.33064516129032256,0.22580645161290322,0.25806451612903225,0.24596774193548387,0.2782258064516129,0.2782258064516129,0.4032258064516129,0.20161290322580644,0.2217741935483871,0.22580645161290322,0.2661290322580645,0.24596774193548387,0.25,0.25806451612903225,0.29435483870967744,0.2056451612903226,0.2862903225806452,0.25806451612903225,0.27419354838709675],[0.31048387096774194,0.2903225806451613,0.21774193548387097,0.23790322580645162,0.3024193548387097,0.32661290322580644,0.23387096774193547,0.2661290322580645,0.3346774193548387,0.2540322580645161,0.24596774193548387,0.25,0.2782258064516129,0.22580645161290322,0.2217741935483871,0.3064516129032258,0.22580645161290322,0.21370967741935484,0.2540322580645161,0.25806451612903225,0.28225806451612906,0.2540322580645161,0.20967741935483872,0.2903225806451613,0.24596774193548387],[0.2661290322580645,0.23790322580645162,0.1935483870967742,0.29838709677419356,0.28225806451612906,0.2056451612903226,0.24596774193548387,0.28225806451612906,0.3346774193548387,0.24193548387096775,0.2862903225806452,0.21370967741935484,0.24193548387096775,0.3951612903225806,0.2782258064516129,0.2661290322580645,0.25,0.31451612903225806,0.2782258064516129,0.3629032258064516,0.25,0.2661290322580645,0.28225806451612906,0.25806451612903225,0.23387096774193547],[0.27419354838709675,0.3346774193548387,0.2661290322580645,0.23790322580645162,0.3588709677419355,0.3064516129032258,0.29435483870967744,0.25,0.23387096774193547,0.29435483870967744,0.24596774193548387,0.2217741935483871,0.24193548387096775,0.27419354838709675,0.375,0.3024193548387097,0.32661290322580644,0.2217741935483871,0.4314516129032258,0.25,0.25806451612903225,0.23790322580645162,0.24596774193548387,0.23790322580645162,0.3064516129032258],[0.2620967741935484,0.31048387096774194,0.2540322580645161,0.25806451612903225,0.2217741935483871,0.25806451612903225,0.2661290322580645,0.29435483870967744,0.24193548387096775,0.29838709677419356,0.2620967741935484,0.21774193548387097,0.29435483870967744,0.24596774193548387,0.22580645161290322,0.2620967741935484,0.23790322580645162,0.32661290322580644,0.2661290322580645,0.3709677419354839,0.2862903225806452,0.24596774193548387,0.31451612903225806,0.3225806451612903,0.31451612903225806],[0.3548387096774194,0.21774193548387097,0.2620967741935484,0.25806451612903225,0.3024193548387097,0.2540322580645161,0.24193548387096775,0.2903225806451613,0.2661290322580645,0.24596774193548387,0.27419354838709675,0.2903225806451613,0.24193548387096775,0.2620967741935484,0.35080645161290325,0.2903225806451613,0.2903225806451613,0.23790322580645162,0.27419354838709675,0.29435483870967744,0.24193548387096775,0.3548387096774194,0.2540322580645161,0.33064516129032256,0.29838709677419356],[0.27419354838709675,0.22580645161290322,0.24596774193548387,0.29838709677419356,0.2661290322580645,0.3185483870967742,0.2540322580645161,0.2661290322580645,0.32661290322580644,0.2903225806451613,0.21774193548387097,0.25806451612903225,0.22580645161290322,0.2540322580645161,0.2862903225806452,0.4435483870967742,0.3024193548387097,0.29435483870967744,0.2620967741935484,0.25,0.24596774193548387,0.25806451612903225,0.36693548387096775,0.3346774193548387,0.23790322580645162],[0.1935483870967742,0.4112903225806452,0.22983870967741934,0.21370967741935484,0.28225806451612906,0.35080645161290325,0.2056451612903226,0.29838709677419356,0.31048387096774194,0.3346774193548387,0.22983870967741934,0.23387096774193547,0.4314516129032258,0.4314516129032258,0.32661290322580644,0.24596774193548387,0.2782258064516129,0.2661290322580645,0.2661290322580645,0.29838709677419356,0.3346774193548387,0.28225806451612906,0.3185483870967742,0.2661290322580645,0.24193548387096775],[0.2903225806451613,0.24596774193548387,0.3346774193548387,0.3024193548387097,0.22983870967741934,0.25,0.21774193548387097,0.1935483870967742,0.2540322580645161,0.2782258064516129,0.3024193548387097,0.3064516129032258,0.40725806451612906,0.20967741935483872,0.27419354838709675,0.1935483870967742,0.3024193548387097,0.27419354838709675,0.29838709677419356,0.3548387096774194,0.2862903225806452,0.3185483870967742,0.33064516129032256,0.3225806451612903,0.20161290322580644],[0.23387096774193547,0.4879032258064516,0.2903225806451613,0.3346774193548387,0.3024193548387097,0.43951612903225806,0.1935483870967742,0.2056451612903226,0.46774193548387094,0.25806451612903225,0.2862903225806452,0.1935483870967742,0.3870967741935484,0.3629032258064516,0.29435483870967744,0.24193548387096775,0.1975806451612903,0.31451612903225806,0.22983870967741934,0.40725806451612906,0.25,0.3185483870967742,0.3467741935483871,0.4153225806451613,0.33064516129032256],[0.29838709677419356,0.21774193548387097,0.23790322580645162,0.3225806451612903,0.3185483870967742,0.2903225806451613,0.22983870967741934,0.2661290322580645,0.3064516129032258,0.4112903225806452,0.3346774193548387,0.2903225806451613,0.36693548387096775,0.31048387096774194,0.4112903225806452,0.25,0.2903225806451613,0.1935483870967742,0.31048387096774194,0.3548387096774194,0.3225806451612903,0.33064516129032256,0.3064516129032258,0.3225806451612903,0.21774193548387097],[0.6088709677419355,0.3024193548387097,0.33064516129032256,0.3225806451612903,0.1935483870967742,0.32661290322580644,0.43951612903225806,0.33064516129032256,0.3346774193548387,0.3548387096774194,0.3467741935483871,0.45161290322580644,0.3951612903225806,0.34274193548387094,0.2782258064516129,0.3387096774193548,0.36693548387096775,0.29838709677419356,0.2620967741935484,0.33064516129032256,0.32661290322580644,0.2903225806451613,0.3911290322580645,0.3709677419354839,0.34274193548387094],[0.3588709677419355,0.3387096774193548,0.5040322580645161,0.3467741935483871,0.375,0.6169354838709677,0.3870967741935484,0.3064516129032258,0.3588709677419355,0.375,0.3346774193548387,0.4475806451612903,0.3911290322580645,0.3387096774193548,0.3911290322580645,0.43548387096774194,0.4475806451612903,0.3951612903225806,0.36693548387096775,0.5241935483870968,0.4959677419354839,0.375,0.3225806451612903,0.3709677419354839,0.47580645161290325],[0.375,0.3790322580645161,0.3709677419354839,0.4879032258064516,0.3870967741935484,0.24193548387096775,0.33064516129032256,0.4112903225806452,0.3185483870967742,0.4475806451612903,0.29435483870967744,0.40725806451612906,0.4112903225806452,0.22580645161290322,0.3629032258064516,0.5201612903225806,0.31451612903225806,0.3387096774193548,0.49193548387096775,0.4153225806451613,0.32661290322580644,0.4314516129032258,0.41935483870967744,0.23790322580645162,0.3387096774193548],[0.46774193548387094,0.4153225806451613,0.40725806451612906,0.5846774193548387,0.40725806451612906,0.3548387096774194,0.43951612903225806,0.45161290322580644,0.41935483870967744,0.3951612903225806,0.35080645161290325,0.2782258064516129,0.3709677419354839,0.4637096774193548,0.3387096774193548,0.5483870967741935,0.31048387096774194,0.4314516129032258,0.47580645161290325,0.29435483870967744,0.47580645161290325,0.6048387096774194,0.375,0.5282258064516129,0.39919354838709675],[0.4435483870967742,0.6733870967741935,0.532258064516129,0.3790322580645161,0.25806451612903225,0.5241935483870968,0.5362903225806451,0.4717741935483871,0.29435483870967744,0.42338709677419356,0.4838709677419355,0.42338709677419356,0.3346774193548387,0.4112903225806452,0.46774193548387094,0.4838709677419355,0.5685483870967742,0.6129032258064516,0.5806451612903226,0.43548387096774194,0.5766129032258065,0.4838709677419355,0.2056451612903226,0.33064516129032256,0.38306451612903225],[0.45161290322580644,0.45564516129032256,0.5403225806451613,0.4435483870967742,0.4879032258064516,0.5483870967741935,0.42338709677419356,0.3629032258064516,0.5201612903225806,0.375,0.5766129032258065,0.40725806451612906,0.4798387096774194,0.2862903225806452,0.5201612903225806,0.5725806451612904,0.38306451612903225,0.4959677419354839,0.6411290322580645,0.5161290322580645,0.5080645161290323,0.4879032258064516,0.4838709677419355,0.3225806451612903,0.3024193548387097],[0.5282258064516129,0.4314516129032258,0.2217741935483871,0.31451612903225806,0.41935483870967744,0.5766129032258065,0.3629032258064516,0.3548387096774194,0.3951612903225806,0.4274193548387097,0.6814516129032258,0.4153225806451613,0.3225806451612903,0.5604838709677419,0.5,0.5645161290322581,0.46774193548387094,0.6088709677419355,0.6774193548387096,0.4879032258064516,0.6653225806451613,0.3225806451612903,0.3790322580645161,0.3629032258064516,0.5080645161290323],[0.29838709677419356,0.43548387096774194,0.4032258064516129,0.45161290322580644,0.5,0.6451612903225806,0.6169354838709677,0.5403225806451613,0.4314516129032258,0.5201612903225806,0.35080645161290325,0.23387096774193547,0.4274193548387097,0.5645161290322581,0.3951612903225806,0.3629032258064516,0.5766129032258065,0.5443548387096774,0.4637096774193548,0.7016129032258065,0.5564516129032258,0.7258064516129032,0.5362903225806451,0.4032258064516129,0.3467741935483871],[0.24193548387096775,0.43548387096774194,0.5725806451612904,0.42338709677419356,0.5725806451612904,0.5,0.43548387096774194,0.5120967741935484,0.5524193548387096,0.3951612903225806,0.6411290322580645,0.5645161290322581,0.625,0.8145161290322581,0.5362903225806451,0.5846774193548387,0.5645161290322581,0.5806451612903226,0.3911290322580645,0.7258064516129032,0.4475806451612903,0.5887096774193549,0.45564516129032256,0.49193548387096775,0.3790322580645161],[0.31451612903225806,0.5362903225806451,0.4596774193548387,0.6088709677419355,0.3709677419354839,0.3588709677419355,0.5080645161290323,0.5241935483870968,0.6209677419354839,0.4959677419354839,0.3951612903225806,0.6169354838709677,0.4637096774193548,0.3548387096774194,0.4798387096774194,0.6693548387096774,0.3870967741935484,0.5524193548387096,0.4717741935483871,0.2540322580645161,0.4032258064516129,0.5887096774193549,0.5604838709677419,0.5564516129032258,0.6451612903225806],[0.6733870967741935,0.4153225806451613,0.4032258064516129,0.5887096774193549,0.5241935483870968,0.5362903225806451,0.5766129032258065,0.4112903225806452,0.43548387096774194,0.42338709677419356,0.5362903225806451,0.7661290322580645,0.3709677419354839,0.6008064516129032,0.4798387096774194,0.4838709677419355,0.6814516129032258,0.4314516129032258,0.6612903225806451,0.5887096774193549,0.7459677419354839,0.5685483870967742,0.657258064516129,0.5967741935483871,0.3629032258064516],[0.23790322580645162,0.6411290322580645,0.45564516129032256,0.6088709677419355,0.6854838709677419,0.6451612903225806,0.6532258064516129,0.5443548387096774,0.5604838709677419,0.6653225806451613,0.6532258064516129,0.6975806451612904,0.43548387096774194,0.5080645161290323,0.6008064516129032,0.4153225806451613,0.7580645161290323,0.31451612903225806,0.49193548387096775,0.49193548387096775,0.40725806451612906,0.3951612903225806,0.47580645161290325,0.4596774193548387,0.46774193548387094],[0.6008064516129032,0.657258064516129,0.42338709677419356,0.5201612903225806,0.6129032258064516,0.5362903225806451,0.5887096774193549,0.4717741935483871,0.5483870967741935,0.5685483870967742,0.532258064516129,0.39919354838709675,0.5645161290322581,0.5766129032258065,0.5846774193548387,0.5443548387096774,0.36693548387096775,0.717741935483871,0.28225806451612906,0.5564516129032258,0.3548387096774194,0.6088709677419355,0.6814516129032258,0.5,0.5645161290322581],[0.5604838709677419,0.5282258064516129,0.3548387096774194,0.4637096774193548,0.4838709677419355,0.3467741935483871,0.6209677419354839,0.31048387096774194,0.7056451612903226,0.33064516129032256,0.5080645161290323,0.6370967741935484,0.34274193548387094,0.22983870967741934,0.657258064516129,0.5282258064516129,0.7096774193548387,0.4798387096774194,0.3870967741935484,0.35080645161290325,0.5201612903225806,0.31451612903225806,0.5806451612903226,0.5685483870967742,0.5967741935483871],[0.21370967741935484,0.5403225806451613,0.47580645161290325,0.6330645161290323,0.3588709677419355,0.7258064516129032,0.3387096774193548,0.375,0.24596774193548387,0.4959677419354839,0.3790322580645161,0.49193548387096775,0.5685483870967742,0.43951612903225806,0.5443548387096774,0.4274193548387097,0.47580645161290325,0.5967741935483871,0.4274193548387097,0.42338709677419356,0.4838709677419355,0.3467741935483871,0.4435483870967742,0.2903225806451613,0.5846774193548387],[0.34274193548387094,0.3588709677419355,0.4475806451612903,0.5806451612903226,0.4112903225806452,0.3225806451612903,0.5806451612903226,0.5443548387096774,0.29838709677419356,0.29435483870967744,0.3185483870967742,0.3467741935483871,0.5161290322580645,0.22580645161290322,0.5766129032258065,0.7540322580645161,0.20967741935483872,0.5241935483870968,0.6975806451612904,0.5362903225806451,0.33064516129032256,0.6370967741935484,0.24596774193548387,0.5080645161290323,0.4959677419354839],[0.6290322580645161,0.5766129032258065,0.6895161290322581,0.3629032258064516,0.5040322580645161,0.6774193548387096,0.4435483870967742,0.38306451612903225,0.6612903225806451,0.717741935483871,0.3951612903225806,0.6169354838709677,0.2862903225806452,0.4959677419354839,0.31451612903225806,0.36693548387096775,0.47580645161290325,0.532258064516129,0.4112903225806452,0.6532258064516129,0.6370967741935484,0.6008064516129032,0.5887096774193549,0.4435483870967742,0.6612903225806451],[0.5362903225806451,0.47580645161290325,0.5040322580645161,0.4838709677419355,0.3467741935483871,0.7217741935483871,0.46774193548387094,0.3629032258064516,0.6733870967741935,0.40725806451612906,0.4637096774193548,0.6854838709677419,0.24596774193548387,0.6048387096774194,0.3225806451612903,0.36693548387096775,0.3911290322580645,0.4959677419354839,0.46774193548387094,0.5201612903225806,0.5524193548387096,0.3951612903225806,0.33064516129032256,0.6411290322580645,0.5403225806451613],[0.4475806451612903,0.5040322580645161,0.3064516129032258,0.6129032258064516,0.5766129032258065,0.6451612903225806,0.4032258064516129,0.5564516129032258,0.6854838709677419,0.39919354838709675,0.46774193548387094,0.6653225806451613,0.3588709677419355,0.5766129032258065,0.22580645161290322,0.5080645161290323,0.6209677419354839,0.4798387096774194,0.49193548387096775,0.5120967741935484,0.5483870967741935,0.31048387096774194,0.29435483870967744,0.4153225806451613,0.6048387096774194],[0.4435483870967742,0.6491935483870968,0.5120967741935484,0.5887096774193549,0.5,0.4637096774193548,0.45161290322580644,0.375,0.5120967741935484,0.4637096774193548,0.5,0.5846774193548387,0.3024193548387097,0.5846774193548387,0.5483870967741935,0.6612903225806451,0.31451612903225806,0.5080645161290323,0.3911290322580645,0.532258064516129,0.6854838709677419,0.2540322580645161,0.43548387096774194,0.4032258064516129,0.40725806451612906],[0.5846774193548387,0.5241935483870968,0.6693548387096774,0.25806451612903225,0.3911290322580645,0.25,0.4274193548387097,0.6491935483870968,0.4314516129032258,0.5080645161290323,0.5766129032258065,0.3951612903225806,0.3387096774193548,0.6814516129032258,0.6088709677419355,0.3225806451612903,0.43951612903225806,0.4475806451612903,0.7096774193548387,0.5604838709677419,0.5,0.21370967741935484,0.49193548387096775,0.33064516129032256,0.45564516129032256],[0.3346774193548387,0.3387096774193548,0.3629032258064516,0.34274193548387094,0.49193548387096775,0.40725806451612906,0.3588709677419355,0.5,0.23387096774193547,0.4112903225806452,0.6129032258064516,0.592741935483871,0.6451612903225806,0.3024193548387097,0.43951612903225806,0.2862903225806452,0.5120967741935484,0.7137096774193549,0.22983870967741934,0.375,0.6370967741935484,0.5241935483870968,0.5161290322580645,0.31451612903225806,0.23790322580645162],[0.6129032258064516,0.3225806451612903,0.43951612903225806,0.45564516129032256,0.4314516129032258,0.43951612903225806,0.3911290322580645,0.592741935483871,0.5766129032258065,0.3064516129032258,0.35080645161290325,0.3064516129032258,0.5040322580645161,0.3951612903225806,0.33064516129032256,0.4435483870967742,0.5846774193548387,0.7096774193548387,0.3548387096774194,0.7096774193548387,0.4112903225806452,0.4032258064516129,0.2701612903225806,0.29838709677419356,0.5887096774193549],[0.4032258064516129,0.22983870967741934,0.6612903225806451,0.7016129032258065,0.29435483870967744,0.4475806451612903,0.45564516129032256,0.2056451612903226,0.4032258064516129,0.4032258064516129,0.6048387096774194,0.25,0.2620967741935484,0.6451612903225806,0.3629032258064516,0.36693548387096775,0.22580645161290322,0.7379032258064516,0.6008064516129032,0.46774193548387094,0.3790322580645161,0.3225806451612903,0.4435483870967742,0.5040322580645161,0.3790322580645161],[0.6209677419354839,0.2661290322580645,0.2540322580645161,0.25806451612903225,0.40725806451612906,0.3064516129032258,0.32661290322580644,0.6088709677419355,0.6290322580645161,0.3548387096774194,0.5403225806451613,0.3548387096774194,0.4879032258064516,0.40725806451612906,0.3911290322580645,0.31451612903225806,0.25,0.4959677419354839,0.3467741935483871,0.43951612903225806,0.29838709677419356,0.43548387096774194,0.5201612903225806,0.28225806451612906,0.27419354838709675],[0.4112903225806452,0.4838709677419355,0.5524193548387096,0.5120967741935484,0.3629032258064516,0.36693548387096775,0.5725806451612904,0.5241935483870968,0.43548387096774194,0.42338709677419356,0.1935483870967742,0.5443548387096774,0.4274193548387097,0.6532258064516129,0.592741935483871,0.3629032258064516,0.36693548387096775,0.5201612903225806,0.28225806451612906,0.375,0.3185483870967742,0.4435483870967742,0.6451612903225806,0.5282258064516129,0.3346774193548387],[0.5685483870967742,0.47580645161290325,0.3467741935483871,0.41935483870967744,0.23790322580645162,0.5161290322580645,0.3951612903225806,0.4959677419354839,0.31451612903225806,0.6491935483870968,0.5887096774193549,0.6330645161290323,0.6370967741935484,0.4274193548387097,0.40725806451612906,0.5,0.46774193548387094,0.32661290322580644,0.3790322580645161,0.34274193548387094,0.3790322580645161,0.5403225806451613,0.4475806451612903,0.31451612903225806,0.3870967741935484],[0.4314516129032258,0.4637096774193548,0.43951612903225806,0.3185483870967742,0.4435483870967742,0.23790322580645162,0.4879032258064516,0.31048387096774194,0.2782258064516129,0.5282258064516129,0.3548387096774194,0.6209677419354839,0.2903225806451613,0.5967741935483871,0.2903225806451613,0.3225806451612903,0.7137096774193549,0.2620967741935484,0.3467741935483871,0.4475806451612903,0.3911290322580645,0.3185483870967742,0.5403225806451613,0.532258064516129,0.4032258064516129],[0.5645161290322581,0.42338709677419356,0.3467741935483871,0.3629032258064516,0.4153225806451613,0.657258064516129,0.25,0.3185483870967742,0.2903225806451613,0.3709677419354839,0.34274193548387094,0.42338709677419356,0.3629032258064516,0.4435483870967742,0.3225806451612903,0.22983870967741934,0.6774193548387096,0.31451612903225806,0.5967741935483871,0.4112903225806452,0.3346774193548387,0.36693548387096775,0.4032258064516129,0.3024193548387097,0.32661290322580644],[0.2782258064516129,0.4879032258064516,0.4879032258064516,0.4475806451612903,0.42338709677419356,0.4596774193548387,0.5806451612903226,0.49193548387096775,0.5201612903225806,0.5080645161290323,0.3629032258064516,0.6330645161290323,0.6290322580645161,0.49193548387096775,0.3064516129032258,0.43548387096774194,0.2217741935483871,0.4879032258064516,0.5282258064516129,0.5080645161290323,0.5846774193548387,0.1975806451612903,0.6774193548387096,0.2903225806451613,0.25],[0.2620967741935484,0.4717741935483871,0.2540322580645161,0.3064516129032258,0.7338709677419355,0.4798387096774194,0.6411290322580645,0.5362903225806451,0.6048387096774194,0.3024193548387097,0.2701612903225806,0.5,0.40725806451612906,0.3346774193548387,0.3951612903225806,0.42338709677419356,0.40725806451612906,0.3951612903225806,0.3588709677419355,0.45161290322580644,0.375,0.41935483870967744,0.4596774193548387,0.5604838709677419,0.2903225806451613],[0.39919354838709675,0.5362903225806451,0.4798387096774194,0.33064516129032256,0.3548387096774194,0.4274193548387097,0.27419354838709675,0.5403225806451613,0.22983870967741934,0.43951612903225806,0.375,0.5604838709677419,0.40725806451612906,0.4153225806451613,0.5524193548387096,0.6774193548387096,0.6733870967741935,0.3346774193548387,0.22580645161290322,0.6935483870967742,0.5,0.6975806451612904,0.4959677419354839,0.41935483870967744,0.2056451612903226],[0.4596774193548387,0.3588709677419355,0.4596774193548387,0.46774193548387094,0.2903225806451613,0.22580645161290322,0.4959677419354839,0.35080645161290325,0.29838709677419356,0.5403225806451613,0.3951612903225806,0.4838709677419355,0.39919354838709675,0.45161290322580644,0.6975806451612904,0.4314516129032258,0.5201612903225806,0.5967741935483871,0.5967741935483871,0.3629032258064516,0.40725806451612906,0.6370967741935484,0.5806451612903226,0.39919354838709675,0.3225806451612903],[0.5040322580645161,0.6129032258064516,0.46774193548387094,0.4637096774193548,0.5201612903225806,0.45564516129032256,0.45564516129032256,0.6209677419354839,0.49193548387096775,0.6129032258064516,0.6129032258064516,0.47580645161290325,0.6048387096774194,0.4314516129032258,0.4596774193548387,0.5564516129032258,0.5846774193548387,0.5766129032258065,0.4314516129032258,0.6048387096774194,0.46774193548387094,0.5766129032258065,0.4838709677419355,0.5806451612903226,0.3467741935483871],[0.42338709677419356,0.6370967741935484,0.49193548387096775,0.5887096774193549,0.6169354838709677,0.5201612903225806,0.5161290322580645,0.41935483870967744,0.532258064516129,0.5403225806451613,0.5241935483870968,0.4314516129032258,0.4838709677419355,0.5161290322580645,0.5403225806451613,0.5846774193548387,0.592741935483871,0.6330645161290323,0.5403225806451613,0.5725806451612904,0.6048387096774194,0.4838709677419355,0.5806451612903226,0.5201612903225806,0.4838709677419355]],\"type\":\"heatmap\",\"xaxis\":\"x\",\"yaxis\":\"y\",\"hovertemplate\":\"Heads (sorted): %{x}<br>Layers: %{y}<br>color: %{z}<extra></extra>\"}],                        {\"template\":{\"data\":{\"histogram2dcontour\":[{\"type\":\"histogram2dcontour\",\"colorbar\":{\"outlinewidth\":0,\"ticks\":\"\"},\"colorscale\":[[0.0,\"#0d0887\"],[0.1111111111111111,\"#46039f\"],[0.2222222222222222,\"#7201a8\"],[0.3333333333333333,\"#9c179e\"],[0.4444444444444444,\"#bd3786\"],[0.5555555555555556,\"#d8576b\"],[0.6666666666666666,\"#ed7953\"],[0.7777777777777778,\"#fb9f3a\"],[0.8888888888888888,\"#fdca26\"],[1.0,\"#f0f921\"]]}],\"choropleth\":[{\"type\":\"choropleth\",\"colorbar\":{\"outlinewidth\":0,\"ticks\":\"\"}}],\"histogram2d\":[{\"type\":\"histogram2d\",\"colorbar\":{\"outlinewidth\":0,\"ticks\":\"\"},\"colorscale\":[[0.0,\"#0d0887\"],[0.1111111111111111,\"#46039f\"],[0.2222222222222222,\"#7201a8\"],[0.3333333333333333,\"#9c179e\"],[0.4444444444444444,\"#bd3786\"],[0.5555555555555556,\"#d8576b\"],[0.6666666666666666,\"#ed7953\"],[0.7777777777777778,\"#fb9f3a\"],[0.8888888888888888,\"#fdca26\"],[1.0,\"#f0f921\"]]}],\"heatmap\":[{\"type\":\"heatmap\",\"colorbar\":{\"outlinewidth\":0,\"ticks\":\"\"},\"colorscale\":[[0.0,\"#0d0887\"],[0.1111111111111111,\"#46039f\"],[0.2222222222222222,\"#7201a8\"],[0.3333333333333333,\"#9c179e\"],[0.4444444444444444,\"#bd3786\"],[0.5555555555555556,\"#d8576b\"],[0.6666666666666666,\"#ed7953\"],[0.7777777777777778,\"#fb9f3a\"],[0.8888888888888888,\"#fdca26\"],[1.0,\"#f0f921\"]]}],\"heatmapgl\":[{\"type\":\"heatmapgl\",\"colorbar\":{\"outlinewidth\":0,\"ticks\":\"\"},\"colorscale\":[[0.0,\"#0d0887\"],[0.1111111111111111,\"#46039f\"],[0.2222222222222222,\"#7201a8\"],[0.3333333333333333,\"#9c179e\"],[0.4444444444444444,\"#bd3786\"],[0.5555555555555556,\"#d8576b\"],[0.6666666666666666,\"#ed7953\"],[0.7777777777777778,\"#fb9f3a\"],[0.8888888888888888,\"#fdca26\"],[1.0,\"#f0f921\"]]}],\"contourcarpet\":[{\"type\":\"contourcarpet\",\"colorbar\":{\"outlinewidth\":0,\"ticks\":\"\"}}],\"contour\":[{\"type\":\"contour\",\"colorbar\":{\"outlinewidth\":0,\"ticks\":\"\"},\"colorscale\":[[0.0,\"#0d0887\"],[0.1111111111111111,\"#46039f\"],[0.2222222222222222,\"#7201a8\"],[0.3333333333333333,\"#9c179e\"],[0.4444444444444444,\"#bd3786\"],[0.5555555555555556,\"#d8576b\"],[0.6666666666666666,\"#ed7953\"],[0.7777777777777778,\"#fb9f3a\"],[0.8888888888888888,\"#fdca26\"],[1.0,\"#f0f921\"]]}],\"surface\":[{\"type\":\"surface\",\"colorbar\":{\"outlinewidth\":0,\"ticks\":\"\"},\"colorscale\":[[0.0,\"#0d0887\"],[0.1111111111111111,\"#46039f\"],[0.2222222222222222,\"#7201a8\"],[0.3333333333333333,\"#9c179e\"],[0.4444444444444444,\"#bd3786\"],[0.5555555555555556,\"#d8576b\"],[0.6666666666666666,\"#ed7953\"],[0.7777777777777778,\"#fb9f3a\"],[0.8888888888888888,\"#fdca26\"],[1.0,\"#f0f921\"]]}],\"mesh3d\":[{\"type\":\"mesh3d\",\"colorbar\":{\"outlinewidth\":0,\"ticks\":\"\"}}],\"scatter\":[{\"fillpattern\":{\"fillmode\":\"overlay\",\"size\":10,\"solidity\":0.2},\"type\":\"scatter\"}],\"parcoords\":[{\"type\":\"parcoords\",\"line\":{\"colorbar\":{\"outlinewidth\":0,\"ticks\":\"\"}}}],\"scatterpolargl\":[{\"type\":\"scatterpolargl\",\"marker\":{\"colorbar\":{\"outlinewidth\":0,\"ticks\":\"\"}}}],\"bar\":[{\"error_x\":{\"color\":\"#2a3f5f\"},\"error_y\":{\"color\":\"#2a3f5f\"},\"marker\":{\"line\":{\"color\":\"#E5ECF6\",\"width\":0.5},\"pattern\":{\"fillmode\":\"overlay\",\"size\":10,\"solidity\":0.2}},\"type\":\"bar\"}],\"scattergeo\":[{\"type\":\"scattergeo\",\"marker\":{\"colorbar\":{\"outlinewidth\":0,\"ticks\":\"\"}}}],\"scatterpolar\":[{\"type\":\"scatterpolar\",\"marker\":{\"colorbar\":{\"outlinewidth\":0,\"ticks\":\"\"}}}],\"histogram\":[{\"marker\":{\"pattern\":{\"fillmode\":\"overlay\",\"size\":10,\"solidity\":0.2}},\"type\":\"histogram\"}],\"scattergl\":[{\"type\":\"scattergl\",\"marker\":{\"colorbar\":{\"outlinewidth\":0,\"ticks\":\"\"}}}],\"scatter3d\":[{\"type\":\"scatter3d\",\"line\":{\"colorbar\":{\"outlinewidth\":0,\"ticks\":\"\"}},\"marker\":{\"colorbar\":{\"outlinewidth\":0,\"ticks\":\"\"}}}],\"scattermapbox\":[{\"type\":\"scattermapbox\",\"marker\":{\"colorbar\":{\"outlinewidth\":0,\"ticks\":\"\"}}}],\"scatterternary\":[{\"type\":\"scatterternary\",\"marker\":{\"colorbar\":{\"outlinewidth\":0,\"ticks\":\"\"}}}],\"scattercarpet\":[{\"type\":\"scattercarpet\",\"marker\":{\"colorbar\":{\"outlinewidth\":0,\"ticks\":\"\"}}}],\"carpet\":[{\"aaxis\":{\"endlinecolor\":\"#2a3f5f\",\"gridcolor\":\"white\",\"linecolor\":\"white\",\"minorgridcolor\":\"white\",\"startlinecolor\":\"#2a3f5f\"},\"baxis\":{\"endlinecolor\":\"#2a3f5f\",\"gridcolor\":\"white\",\"linecolor\":\"white\",\"minorgridcolor\":\"white\",\"startlinecolor\":\"#2a3f5f\"},\"type\":\"carpet\"}],\"table\":[{\"cells\":{\"fill\":{\"color\":\"#EBF0F8\"},\"line\":{\"color\":\"white\"}},\"header\":{\"fill\":{\"color\":\"#C8D4E3\"},\"line\":{\"color\":\"white\"}},\"type\":\"table\"}],\"barpolar\":[{\"marker\":{\"line\":{\"color\":\"#E5ECF6\",\"width\":0.5},\"pattern\":{\"fillmode\":\"overlay\",\"size\":10,\"solidity\":0.2}},\"type\":\"barpolar\"}],\"pie\":[{\"automargin\":true,\"type\":\"pie\"}]},\"layout\":{\"autotypenumbers\":\"strict\",\"colorway\":[\"#636efa\",\"#EF553B\",\"#00cc96\",\"#ab63fa\",\"#FFA15A\",\"#19d3f3\",\"#FF6692\",\"#B6E880\",\"#FF97FF\",\"#FECB52\"],\"font\":{\"color\":\"#2a3f5f\"},\"hovermode\":\"closest\",\"hoverlabel\":{\"align\":\"left\"},\"paper_bgcolor\":\"white\",\"plot_bgcolor\":\"#E5ECF6\",\"polar\":{\"bgcolor\":\"#E5ECF6\",\"angularaxis\":{\"gridcolor\":\"white\",\"linecolor\":\"white\",\"ticks\":\"\"},\"radialaxis\":{\"gridcolor\":\"white\",\"linecolor\":\"white\",\"ticks\":\"\"}},\"ternary\":{\"bgcolor\":\"#E5ECF6\",\"aaxis\":{\"gridcolor\":\"white\",\"linecolor\":\"white\",\"ticks\":\"\"},\"baxis\":{\"gridcolor\":\"white\",\"linecolor\":\"white\",\"ticks\":\"\"},\"caxis\":{\"gridcolor\":\"white\",\"linecolor\":\"white\",\"ticks\":\"\"}},\"coloraxis\":{\"colorbar\":{\"outlinewidth\":0,\"ticks\":\"\"}},\"colorscale\":{\"sequential\":[[0.0,\"#0d0887\"],[0.1111111111111111,\"#46039f\"],[0.2222222222222222,\"#7201a8\"],[0.3333333333333333,\"#9c179e\"],[0.4444444444444444,\"#bd3786\"],[0.5555555555555556,\"#d8576b\"],[0.6666666666666666,\"#ed7953\"],[0.7777777777777778,\"#fb9f3a\"],[0.8888888888888888,\"#fdca26\"],[1.0,\"#f0f921\"]],\"sequentialminus\":[[0.0,\"#0d0887\"],[0.1111111111111111,\"#46039f\"],[0.2222222222222222,\"#7201a8\"],[0.3333333333333333,\"#9c179e\"],[0.4444444444444444,\"#bd3786\"],[0.5555555555555556,\"#d8576b\"],[0.6666666666666666,\"#ed7953\"],[0.7777777777777778,\"#fb9f3a\"],[0.8888888888888888,\"#fdca26\"],[1.0,\"#f0f921\"]],\"diverging\":[[0,\"#8e0152\"],[0.1,\"#c51b7d\"],[0.2,\"#de77ae\"],[0.3,\"#f1b6da\"],[0.4,\"#fde0ef\"],[0.5,\"#f7f7f7\"],[0.6,\"#e6f5d0\"],[0.7,\"#b8e186\"],[0.8,\"#7fbc41\"],[0.9,\"#4d9221\"],[1,\"#276419\"]]},\"xaxis\":{\"gridcolor\":\"white\",\"linecolor\":\"white\",\"ticks\":\"\",\"title\":{\"standoff\":15},\"zerolinecolor\":\"white\",\"automargin\":true,\"zerolinewidth\":2},\"yaxis\":{\"gridcolor\":\"white\",\"linecolor\":\"white\",\"ticks\":\"\",\"title\":{\"standoff\":15},\"zerolinecolor\":\"white\",\"automargin\":true,\"zerolinewidth\":2},\"scene\":{\"xaxis\":{\"backgroundcolor\":\"#E5ECF6\",\"gridcolor\":\"white\",\"linecolor\":\"white\",\"showbackground\":true,\"ticks\":\"\",\"zerolinecolor\":\"white\",\"gridwidth\":2},\"yaxis\":{\"backgroundcolor\":\"#E5ECF6\",\"gridcolor\":\"white\",\"linecolor\":\"white\",\"showbackground\":true,\"ticks\":\"\",\"zerolinecolor\":\"white\",\"gridwidth\":2},\"zaxis\":{\"backgroundcolor\":\"#E5ECF6\",\"gridcolor\":\"white\",\"linecolor\":\"white\",\"showbackground\":true,\"ticks\":\"\",\"zerolinecolor\":\"white\",\"gridwidth\":2}},\"shapedefaults\":{\"line\":{\"color\":\"#2a3f5f\"}},\"annotationdefaults\":{\"arrowcolor\":\"#2a3f5f\",\"arrowhead\":0,\"arrowwidth\":1},\"geo\":{\"bgcolor\":\"white\",\"landcolor\":\"#E5ECF6\",\"subunitcolor\":\"white\",\"showland\":true,\"showlakes\":true,\"lakecolor\":\"white\"},\"title\":{\"x\":0.05},\"mapbox\":{\"style\":\"light\"}}},\"xaxis\":{\"anchor\":\"y\",\"domain\":[0.0,1.0],\"scaleanchor\":\"y\",\"constrain\":\"domain\",\"title\":{\"text\":\"Heads (sorted)\"}},\"yaxis\":{\"anchor\":\"x\",\"domain\":[0.0,1.0],\"autorange\":true,\"constrain\":\"domain\",\"title\":{\"text\":\"Layers\"}},\"coloraxis\":{\"colorscale\":[[0.0,\"rgb(103,0,31)\"],[0.1,\"rgb(178,24,43)\"],[0.2,\"rgb(214,96,77)\"],[0.3,\"rgb(244,165,130)\"],[0.4,\"rgb(253,219,199)\"],[0.5,\"rgb(247,247,247)\"],[0.6,\"rgb(209,229,240)\"],[0.7,\"rgb(146,197,222)\"],[0.8,\"rgb(67,147,195)\"],[0.9,\"rgb(33,102,172)\"],[1.0,\"rgb(5,48,97)\"]],\"cmid\":0},\"title\":{\"text\":\"Sorted Probe Accuracies on Capitals\"}},                        {\"responsive\": true}                    ).then(function(){\n",
       "                            \n",
       "var gd = document.getElementById('b94c42e4-9dcd-4963-9e90-4f82598f0c66');\n",
       "var x = new MutationObserver(function (mutations, observer) {{\n",
       "        var display = window.getComputedStyle(gd).display;\n",
       "        if (!display || display === 'none') {{\n",
       "            console.log([gd, 'removed!']);\n",
       "            Plotly.purge(gd);\n",
       "            observer.disconnect();\n",
       "        }}\n",
       "}});\n",
       "\n",
       "// Listen for the removal of the full notebook cells\n",
       "var notebookContainer = gd.closest('#notebook-container');\n",
       "if (notebookContainer) {{\n",
       "    x.observe(notebookContainer, {childList: true});\n",
       "}}\n",
       "\n",
       "// Listen for the clearing of the current output cell\n",
       "var outputEl = gd.closest('.output');\n",
       "if (outputEl) {{\n",
       "    x.observe(outputEl, {childList: true});\n",
       "}}\n",
       "\n",
       "                        })                };                });            </script>        </div>"
      ]
     },
     "metadata": {},
     "output_type": "display_data"
    }
   ],
   "source": [
    "# a = -np.sort(-all_head_accs_np.reshape(nin_d.model.cfg.n_layers, nin_d.model.cfg.n_heads), axis = 1)\n",
    "#layer 21, head 13\n",
    "px.imshow(np.array(total_accs).reshape(nin_d.model.cfg.n_layers, nin_d.model.cfg.n_heads), labels = {\"x\" : \"Heads (sorted)\", \"y\": \"Layers\"},title = \"Sorted Probe Accuracies on Capitals\", color_continuous_midpoint = 0, color_continuous_scale=\"RdBu\", origin = \"lower\")\n"
   ]
  },
  {
   "cell_type": "code",
   "execution_count": 53,
   "metadata": {},
   "outputs": [
    {
     "data": {
      "text/plain": [
       "{'input': 'Q: What is the capital of Transnistria? A: Georgetown\\nQ: What is the capital of Solomon Islands? A: Marigot\\nQ: What is the capital of Ghana? A: Managua\\nQ: What is the capital of Faroe Islands? A: Tórshavn\\nQ: What is the capital of Kuwait? A: Havana\\nQ: What is the capital of Iceland? A:',\n",
       " 'label': 'Reykjavík',\n",
       " 'n_few_shot': 5,\n",
       " 'prop_wrong': 0.8752982456752721,\n",
       " 'n_correct': 1,\n",
       " 'model_correct': 1}"
      ]
     },
     "execution_count": 53,
     "metadata": {},
     "output_type": "execute_result"
    }
   ],
   "source": [
    "nin_d.dataset[98]"
   ]
  },
  {
   "cell_type": "code",
   "execution_count": 47,
   "metadata": {},
   "outputs": [
    {
     "data": {
      "application/vnd.plotly.v1+json": {
       "config": {
        "plotlyServerURL": "https://plot.ly"
       },
       "data": [
        {
         "coloraxis": "coloraxis",
         "hovertemplate": "Heads (sorted): %{x}<br>Layers: %{y}<br>color: %{z}<extra></extra>",
         "name": "0",
         "type": "heatmap",
         "xaxis": "x",
         "yaxis": "y",
         "z": [
          [
           0.20967741935483872,
           0.2056451612903226,
           0.1935483870967742,
           0.1935483870967742,
           0.1935483870967742,
           0.1935483870967742,
           0.1935483870967742,
           0.1935483870967742,
           0.1935483870967742,
           0.1935483870967742,
           0.1935483870967742,
           0.1935483870967742,
           0.1935483870967742,
           0.1935483870967742,
           0.1935483870967742,
           0.1935483870967742,
           0.1935483870967742,
           0.1935483870967742,
           0.1935483870967742,
           0.1935483870967742,
           0.1935483870967742,
           0.1935483870967742,
           0.1935483870967742,
           0.1935483870967742,
           0.1935483870967742
          ],
          [
           0.375,
           0.3588709677419355,
           0.32661290322580644,
           0.3024193548387097,
           0.29838709677419356,
           0.2903225806451613,
           0.2862903225806452,
           0.2782258064516129,
           0.2782258064516129,
           0.2782258064516129,
           0.2701612903225806,
           0.2661290322580645,
           0.2620967741935484,
           0.25806451612903225,
           0.25806451612903225,
           0.25,
           0.24596774193548387,
           0.23790322580645162,
           0.23790322580645162,
           0.23387096774193547,
           0.23387096774193547,
           0.22983870967741934,
           0.22580645161290322,
           0.22580645161290322,
           0.1975806451612903
          ],
          [
           0.4032258064516129,
           0.33064516129032256,
           0.3024193548387097,
           0.29435483870967744,
           0.2862903225806452,
           0.2782258064516129,
           0.2782258064516129,
           0.2782258064516129,
           0.27419354838709675,
           0.2701612903225806,
           0.2661290322580645,
           0.25806451612903225,
           0.25806451612903225,
           0.25806451612903225,
           0.25,
           0.24596774193548387,
           0.24596774193548387,
           0.23790322580645162,
           0.22580645161290322,
           0.22580645161290322,
           0.22580645161290322,
           0.2217741935483871,
           0.2056451612903226,
           0.20161290322580644,
           0.1774193548387097
          ],
          [
           0.3346774193548387,
           0.32661290322580644,
           0.31048387096774194,
           0.3064516129032258,
           0.3024193548387097,
           0.2903225806451613,
           0.2903225806451613,
           0.28225806451612906,
           0.2782258064516129,
           0.2661290322580645,
           0.25806451612903225,
           0.2540322580645161,
           0.2540322580645161,
           0.2540322580645161,
           0.25,
           0.24596774193548387,
           0.24596774193548387,
           0.23790322580645162,
           0.23387096774193547,
           0.22580645161290322,
           0.22580645161290322,
           0.2217741935483871,
           0.21774193548387097,
           0.21370967741935484,
           0.20967741935483872
          ],
          [
           0.3951612903225806,
           0.3629032258064516,
           0.3346774193548387,
           0.31451612903225806,
           0.29838709677419356,
           0.2862903225806452,
           0.28225806451612906,
           0.28225806451612906,
           0.28225806451612906,
           0.2782258064516129,
           0.2782258064516129,
           0.2661290322580645,
           0.2661290322580645,
           0.2661290322580645,
           0.25806451612903225,
           0.25,
           0.25,
           0.24596774193548387,
           0.24193548387096775,
           0.24193548387096775,
           0.23790322580645162,
           0.23387096774193547,
           0.21370967741935484,
           0.2056451612903226,
           0.1935483870967742
          ],
          [
           0.4314516129032258,
           0.375,
           0.3588709677419355,
           0.3346774193548387,
           0.32661290322580644,
           0.3064516129032258,
           0.3064516129032258,
           0.3024193548387097,
           0.29435483870967744,
           0.29435483870967744,
           0.27419354838709675,
           0.27419354838709675,
           0.2661290322580645,
           0.25806451612903225,
           0.25,
           0.25,
           0.24596774193548387,
           0.24596774193548387,
           0.24193548387096775,
           0.23790322580645162,
           0.23790322580645162,
           0.23790322580645162,
           0.23387096774193547,
           0.2217741935483871,
           0.2217741935483871
          ],
          [
           0.3709677419354839,
           0.32661290322580644,
           0.3225806451612903,
           0.31451612903225806,
           0.31451612903225806,
           0.31048387096774194,
           0.29838709677419356,
           0.29435483870967744,
           0.29435483870967744,
           0.2862903225806452,
           0.2661290322580645,
           0.2661290322580645,
           0.2620967741935484,
           0.2620967741935484,
           0.2620967741935484,
           0.25806451612903225,
           0.25806451612903225,
           0.2540322580645161,
           0.24596774193548387,
           0.24596774193548387,
           0.24193548387096775,
           0.23790322580645162,
           0.22580645161290322,
           0.2217741935483871,
           0.21774193548387097
          ],
          [
           0.3548387096774194,
           0.3548387096774194,
           0.35080645161290325,
           0.33064516129032256,
           0.3024193548387097,
           0.29838709677419356,
           0.29435483870967744,
           0.2903225806451613,
           0.2903225806451613,
           0.2903225806451613,
           0.2903225806451613,
           0.27419354838709675,
           0.27419354838709675,
           0.2661290322580645,
           0.2620967741935484,
           0.2620967741935484,
           0.25806451612903225,
           0.2540322580645161,
           0.2540322580645161,
           0.24596774193548387,
           0.24193548387096775,
           0.24193548387096775,
           0.24193548387096775,
           0.23790322580645162,
           0.21774193548387097
          ],
          [
           0.4435483870967742,
           0.36693548387096775,
           0.3346774193548387,
           0.32661290322580644,
           0.3185483870967742,
           0.3024193548387097,
           0.29838709677419356,
           0.29435483870967744,
           0.2903225806451613,
           0.2862903225806452,
           0.27419354838709675,
           0.2661290322580645,
           0.2661290322580645,
           0.2620967741935484,
           0.25806451612903225,
           0.25806451612903225,
           0.2540322580645161,
           0.2540322580645161,
           0.25,
           0.24596774193548387,
           0.24596774193548387,
           0.23790322580645162,
           0.22580645161290322,
           0.22580645161290322,
           0.21774193548387097
          ],
          [
           0.4314516129032258,
           0.4314516129032258,
           0.4112903225806452,
           0.35080645161290325,
           0.3346774193548387,
           0.3346774193548387,
           0.32661290322580644,
           0.3185483870967742,
           0.31048387096774194,
           0.29838709677419356,
           0.29838709677419356,
           0.28225806451612906,
           0.28225806451612906,
           0.2782258064516129,
           0.2661290322580645,
           0.2661290322580645,
           0.2661290322580645,
           0.24596774193548387,
           0.24193548387096775,
           0.23387096774193547,
           0.22983870967741934,
           0.22983870967741934,
           0.21370967741935484,
           0.2056451612903226,
           0.1935483870967742
          ],
          [
           0.40725806451612906,
           0.3548387096774194,
           0.3346774193548387,
           0.33064516129032256,
           0.3225806451612903,
           0.3185483870967742,
           0.3064516129032258,
           0.3024193548387097,
           0.3024193548387097,
           0.3024193548387097,
           0.29838709677419356,
           0.2903225806451613,
           0.2862903225806452,
           0.2782258064516129,
           0.27419354838709675,
           0.27419354838709675,
           0.2540322580645161,
           0.25,
           0.24596774193548387,
           0.22983870967741934,
           0.21774193548387097,
           0.20967741935483872,
           0.20161290322580644,
           0.1935483870967742,
           0.1935483870967742
          ],
          [
           0.4879032258064516,
           0.46774193548387094,
           0.43951612903225806,
           0.4153225806451613,
           0.40725806451612906,
           0.3870967741935484,
           0.3629032258064516,
           0.3467741935483871,
           0.3346774193548387,
           0.33064516129032256,
           0.3185483870967742,
           0.31451612903225806,
           0.3024193548387097,
           0.29435483870967744,
           0.2903225806451613,
           0.2862903225806452,
           0.25806451612903225,
           0.25,
           0.24193548387096775,
           0.23387096774193547,
           0.22983870967741934,
           0.2056451612903226,
           0.1975806451612903,
           0.1935483870967742,
           0.1935483870967742
          ],
          [
           0.4112903225806452,
           0.4112903225806452,
           0.36693548387096775,
           0.3548387096774194,
           0.3346774193548387,
           0.33064516129032256,
           0.3225806451612903,
           0.3225806451612903,
           0.3225806451612903,
           0.3185483870967742,
           0.31048387096774194,
           0.31048387096774194,
           0.3064516129032258,
           0.3064516129032258,
           0.29838709677419356,
           0.2903225806451613,
           0.2903225806451613,
           0.2903225806451613,
           0.2661290322580645,
           0.25,
           0.23790322580645162,
           0.22983870967741934,
           0.21774193548387097,
           0.21774193548387097,
           0.1935483870967742
          ],
          [
           0.6088709677419355,
           0.45161290322580644,
           0.43951612903225806,
           0.3951612903225806,
           0.3911290322580645,
           0.3709677419354839,
           0.36693548387096775,
           0.3548387096774194,
           0.3467741935483871,
           0.34274193548387094,
           0.34274193548387094,
           0.3387096774193548,
           0.3346774193548387,
           0.33064516129032256,
           0.33064516129032256,
           0.33064516129032256,
           0.32661290322580644,
           0.32661290322580644,
           0.3225806451612903,
           0.3024193548387097,
           0.29838709677419356,
           0.2903225806451613,
           0.2782258064516129,
           0.2620967741935484,
           0.1935483870967742
          ],
          [
           0.6169354838709677,
           0.5241935483870968,
           0.5040322580645161,
           0.4959677419354839,
           0.47580645161290325,
           0.4475806451612903,
           0.4475806451612903,
           0.43548387096774194,
           0.3951612903225806,
           0.3911290322580645,
           0.3911290322580645,
           0.3870967741935484,
           0.375,
           0.375,
           0.375,
           0.3709677419354839,
           0.36693548387096775,
           0.3588709677419355,
           0.3588709677419355,
           0.3467741935483871,
           0.3387096774193548,
           0.3387096774193548,
           0.3346774193548387,
           0.3225806451612903,
           0.3064516129032258
          ],
          [
           0.5201612903225806,
           0.49193548387096775,
           0.4879032258064516,
           0.4475806451612903,
           0.4314516129032258,
           0.41935483870967744,
           0.4153225806451613,
           0.4112903225806452,
           0.4112903225806452,
           0.40725806451612906,
           0.3870967741935484,
           0.3790322580645161,
           0.375,
           0.3709677419354839,
           0.3629032258064516,
           0.3387096774193548,
           0.3387096774193548,
           0.33064516129032256,
           0.32661290322580644,
           0.3185483870967742,
           0.31451612903225806,
           0.29435483870967744,
           0.24193548387096775,
           0.23790322580645162,
           0.22580645161290322
          ],
          [
           0.6048387096774194,
           0.5846774193548387,
           0.5483870967741935,
           0.5282258064516129,
           0.47580645161290325,
           0.47580645161290325,
           0.46774193548387094,
           0.4637096774193548,
           0.45161290322580644,
           0.43951612903225806,
           0.4314516129032258,
           0.41935483870967744,
           0.4153225806451613,
           0.40725806451612906,
           0.40725806451612906,
           0.39919354838709675,
           0.3951612903225806,
           0.375,
           0.3709677419354839,
           0.3548387096774194,
           0.35080645161290325,
           0.3387096774193548,
           0.31048387096774194,
           0.29435483870967744,
           0.2782258064516129
          ],
          [
           0.6733870967741935,
           0.6129032258064516,
           0.5806451612903226,
           0.5766129032258065,
           0.5685483870967742,
           0.5362903225806451,
           0.532258064516129,
           0.5241935483870968,
           0.4838709677419355,
           0.4838709677419355,
           0.4838709677419355,
           0.4717741935483871,
           0.46774193548387094,
           0.4435483870967742,
           0.43548387096774194,
           0.42338709677419356,
           0.42338709677419356,
           0.4112903225806452,
           0.38306451612903225,
           0.3790322580645161,
           0.3346774193548387,
           0.33064516129032256,
           0.29435483870967744,
           0.25806451612903225,
           0.2056451612903226
          ],
          [
           0.6411290322580645,
           0.5766129032258065,
           0.5725806451612904,
           0.5483870967741935,
           0.5403225806451613,
           0.5201612903225806,
           0.5201612903225806,
           0.5161290322580645,
           0.5080645161290323,
           0.4959677419354839,
           0.4879032258064516,
           0.4879032258064516,
           0.4838709677419355,
           0.4798387096774194,
           0.45564516129032256,
           0.45161290322580644,
           0.4435483870967742,
           0.42338709677419356,
           0.40725806451612906,
           0.38306451612903225,
           0.375,
           0.3629032258064516,
           0.3225806451612903,
           0.3024193548387097,
           0.2862903225806452
          ],
          [
           0.6814516129032258,
           0.6774193548387096,
           0.6653225806451613,
           0.6088709677419355,
           0.5766129032258065,
           0.5645161290322581,
           0.5604838709677419,
           0.5282258064516129,
           0.5080645161290323,
           0.5,
           0.4879032258064516,
           0.46774193548387094,
           0.4314516129032258,
           0.4274193548387097,
           0.41935483870967744,
           0.4153225806451613,
           0.3951612903225806,
           0.3790322580645161,
           0.3629032258064516,
           0.3629032258064516,
           0.3548387096774194,
           0.3225806451612903,
           0.3225806451612903,
           0.31451612903225806,
           0.2217741935483871
          ],
          [
           0.7258064516129032,
           0.7016129032258065,
           0.6451612903225806,
           0.6169354838709677,
           0.5766129032258065,
           0.5645161290322581,
           0.5564516129032258,
           0.5443548387096774,
           0.5403225806451613,
           0.5362903225806451,
           0.5201612903225806,
           0.5,
           0.4637096774193548,
           0.45161290322580644,
           0.43548387096774194,
           0.4314516129032258,
           0.4274193548387097,
           0.4032258064516129,
           0.4032258064516129,
           0.3951612903225806,
           0.3629032258064516,
           0.35080645161290325,
           0.3467741935483871,
           0.29838709677419356,
           0.23387096774193547
          ],
          [
           0.8145161290322581,
           0.7258064516129032,
           0.6411290322580645,
           0.625,
           0.5887096774193549,
           0.5846774193548387,
           0.5806451612903226,
           0.5725806451612904,
           0.5725806451612904,
           0.5645161290322581,
           0.5645161290322581,
           0.5524193548387096,
           0.5362903225806451,
           0.5120967741935484,
           0.5,
           0.49193548387096775,
           0.45564516129032256,
           0.4475806451612903,
           0.43548387096774194,
           0.43548387096774194,
           0.42338709677419356,
           0.3951612903225806,
           0.3911290322580645,
           0.3790322580645161,
           0.24193548387096775
          ],
          [
           0.6693548387096774,
           0.6451612903225806,
           0.6209677419354839,
           0.6169354838709677,
           0.6088709677419355,
           0.5887096774193549,
           0.5604838709677419,
           0.5564516129032258,
           0.5524193548387096,
           0.5362903225806451,
           0.5241935483870968,
           0.5080645161290323,
           0.4959677419354839,
           0.4798387096774194,
           0.4717741935483871,
           0.4637096774193548,
           0.4596774193548387,
           0.4032258064516129,
           0.3951612903225806,
           0.3870967741935484,
           0.3709677419354839,
           0.3588709677419355,
           0.3548387096774194,
           0.31451612903225806,
           0.2540322580645161
          ],
          [
           0.7661290322580645,
           0.7459677419354839,
           0.6814516129032258,
           0.6733870967741935,
           0.6612903225806451,
           0.657258064516129,
           0.6008064516129032,
           0.5967741935483871,
           0.5887096774193549,
           0.5887096774193549,
           0.5766129032258065,
           0.5685483870967742,
           0.5362903225806451,
           0.5362903225806451,
           0.5241935483870968,
           0.4838709677419355,
           0.4798387096774194,
           0.43548387096774194,
           0.4314516129032258,
           0.42338709677419356,
           0.4153225806451613,
           0.4112903225806452,
           0.4032258064516129,
           0.3709677419354839,
           0.3629032258064516
          ],
          [
           0.7580645161290323,
           0.6975806451612904,
           0.6854838709677419,
           0.6653225806451613,
           0.6532258064516129,
           0.6532258064516129,
           0.6451612903225806,
           0.6411290322580645,
           0.6088709677419355,
           0.6008064516129032,
           0.5604838709677419,
           0.5443548387096774,
           0.5080645161290323,
           0.49193548387096775,
           0.49193548387096775,
           0.47580645161290325,
           0.46774193548387094,
           0.4596774193548387,
           0.45564516129032256,
           0.43548387096774194,
           0.4153225806451613,
           0.40725806451612906,
           0.3951612903225806,
           0.31451612903225806,
           0.23790322580645162
          ],
          [
           0.717741935483871,
           0.6814516129032258,
           0.657258064516129,
           0.6129032258064516,
           0.6088709677419355,
           0.6008064516129032,
           0.5887096774193549,
           0.5846774193548387,
           0.5766129032258065,
           0.5685483870967742,
           0.5645161290322581,
           0.5645161290322581,
           0.5564516129032258,
           0.5483870967741935,
           0.5443548387096774,
           0.5362903225806451,
           0.532258064516129,
           0.5201612903225806,
           0.5,
           0.4717741935483871,
           0.42338709677419356,
           0.39919354838709675,
           0.36693548387096775,
           0.3548387096774194,
           0.28225806451612906
          ],
          [
           0.7096774193548387,
           0.7056451612903226,
           0.657258064516129,
           0.6370967741935484,
           0.6209677419354839,
           0.5967741935483871,
           0.5806451612903226,
           0.5685483870967742,
           0.5604838709677419,
           0.5282258064516129,
           0.5282258064516129,
           0.5201612903225806,
           0.5080645161290323,
           0.4838709677419355,
           0.4798387096774194,
           0.4637096774193548,
           0.3870967741935484,
           0.3548387096774194,
           0.35080645161290325,
           0.3467741935483871,
           0.34274193548387094,
           0.33064516129032256,
           0.31451612903225806,
           0.31048387096774194,
           0.22983870967741934
          ],
          [
           0.7258064516129032,
           0.6330645161290323,
           0.5967741935483871,
           0.5846774193548387,
           0.5685483870967742,
           0.5443548387096774,
           0.5403225806451613,
           0.4959677419354839,
           0.49193548387096775,
           0.4838709677419355,
           0.47580645161290325,
           0.47580645161290325,
           0.4435483870967742,
           0.43951612903225806,
           0.4274193548387097,
           0.4274193548387097,
           0.42338709677419356,
           0.3790322580645161,
           0.375,
           0.3588709677419355,
           0.3467741935483871,
           0.3387096774193548,
           0.2903225806451613,
           0.24596774193548387,
           0.21370967741935484
          ],
          [
           0.7540322580645161,
           0.6975806451612904,
           0.6370967741935484,
           0.5806451612903226,
           0.5806451612903226,
           0.5766129032258065,
           0.5443548387096774,
           0.5362903225806451,
           0.5241935483870968,
           0.5161290322580645,
           0.5080645161290323,
           0.4959677419354839,
           0.4475806451612903,
           0.4112903225806452,
           0.3588709677419355,
           0.3467741935483871,
           0.34274193548387094,
           0.33064516129032256,
           0.3225806451612903,
           0.3185483870967742,
           0.29838709677419356,
           0.29435483870967744,
           0.24596774193548387,
           0.22580645161290322,
           0.20967741935483872
          ],
          [
           0.717741935483871,
           0.6895161290322581,
           0.6774193548387096,
           0.6612903225806451,
           0.6612903225806451,
           0.6532258064516129,
           0.6370967741935484,
           0.6290322580645161,
           0.6169354838709677,
           0.6008064516129032,
           0.5887096774193549,
           0.5766129032258065,
           0.532258064516129,
           0.5040322580645161,
           0.4959677419354839,
           0.47580645161290325,
           0.4435483870967742,
           0.4435483870967742,
           0.4112903225806452,
           0.3951612903225806,
           0.38306451612903225,
           0.36693548387096775,
           0.3629032258064516,
           0.31451612903225806,
           0.2862903225806452
          ],
          [
           0.7217741935483871,
           0.6854838709677419,
           0.6733870967741935,
           0.6411290322580645,
           0.6048387096774194,
           0.5524193548387096,
           0.5403225806451613,
           0.5362903225806451,
           0.5201612903225806,
           0.5040322580645161,
           0.4959677419354839,
           0.4838709677419355,
           0.47580645161290325,
           0.46774193548387094,
           0.46774193548387094,
           0.4637096774193548,
           0.40725806451612906,
           0.3951612903225806,
           0.3911290322580645,
           0.36693548387096775,
           0.3629032258064516,
           0.3467741935483871,
           0.33064516129032256,
           0.3225806451612903,
           0.24596774193548387
          ],
          [
           0.6854838709677419,
           0.6653225806451613,
           0.6451612903225806,
           0.6209677419354839,
           0.6129032258064516,
           0.6048387096774194,
           0.5766129032258065,
           0.5766129032258065,
           0.5564516129032258,
           0.5483870967741935,
           0.5120967741935484,
           0.5080645161290323,
           0.5040322580645161,
           0.49193548387096775,
           0.4798387096774194,
           0.46774193548387094,
           0.4475806451612903,
           0.4153225806451613,
           0.4032258064516129,
           0.39919354838709675,
           0.3588709677419355,
           0.31048387096774194,
           0.3064516129032258,
           0.29435483870967744,
           0.22580645161290322
          ],
          [
           0.6854838709677419,
           0.6612903225806451,
           0.6491935483870968,
           0.5887096774193549,
           0.5846774193548387,
           0.5846774193548387,
           0.5483870967741935,
           0.532258064516129,
           0.5120967741935484,
           0.5120967741935484,
           0.5080645161290323,
           0.5,
           0.5,
           0.4637096774193548,
           0.4637096774193548,
           0.45161290322580644,
           0.4435483870967742,
           0.43548387096774194,
           0.40725806451612906,
           0.4032258064516129,
           0.3911290322580645,
           0.375,
           0.31451612903225806,
           0.3024193548387097,
           0.2540322580645161
          ],
          [
           0.7096774193548387,
           0.6814516129032258,
           0.6693548387096774,
           0.6491935483870968,
           0.6088709677419355,
           0.5846774193548387,
           0.5766129032258065,
           0.5604838709677419,
           0.5241935483870968,
           0.5080645161290323,
           0.5,
           0.49193548387096775,
           0.45564516129032256,
           0.4475806451612903,
           0.43951612903225806,
           0.4314516129032258,
           0.4274193548387097,
           0.3951612903225806,
           0.3911290322580645,
           0.3387096774193548,
           0.33064516129032256,
           0.3225806451612903,
           0.25806451612903225,
           0.25,
           0.21370967741935484
          ],
          [
           0.7137096774193549,
           0.6451612903225806,
           0.6370967741935484,
           0.6129032258064516,
           0.592741935483871,
           0.5241935483870968,
           0.5161290322580645,
           0.5120967741935484,
           0.5,
           0.49193548387096775,
           0.43951612903225806,
           0.4112903225806452,
           0.40725806451612906,
           0.375,
           0.3629032258064516,
           0.3588709677419355,
           0.34274193548387094,
           0.3387096774193548,
           0.3346774193548387,
           0.31451612903225806,
           0.3024193548387097,
           0.2862903225806452,
           0.23790322580645162,
           0.23387096774193547,
           0.22983870967741934
          ],
          [
           0.7096774193548387,
           0.7096774193548387,
           0.6129032258064516,
           0.592741935483871,
           0.5887096774193549,
           0.5846774193548387,
           0.5766129032258065,
           0.5040322580645161,
           0.45564516129032256,
           0.4435483870967742,
           0.43951612903225806,
           0.43951612903225806,
           0.4314516129032258,
           0.4112903225806452,
           0.4032258064516129,
           0.3951612903225806,
           0.3911290322580645,
           0.3548387096774194,
           0.35080645161290325,
           0.33064516129032256,
           0.3225806451612903,
           0.3064516129032258,
           0.3064516129032258,
           0.29838709677419356,
           0.2701612903225806
          ],
          [
           0.7379032258064516,
           0.7016129032258065,
           0.6612903225806451,
           0.6451612903225806,
           0.6048387096774194,
           0.6008064516129032,
           0.5040322580645161,
           0.46774193548387094,
           0.45564516129032256,
           0.4475806451612903,
           0.4435483870967742,
           0.4032258064516129,
           0.4032258064516129,
           0.4032258064516129,
           0.3790322580645161,
           0.3790322580645161,
           0.36693548387096775,
           0.3629032258064516,
           0.3225806451612903,
           0.29435483870967744,
           0.2620967741935484,
           0.25,
           0.22983870967741934,
           0.22580645161290322,
           0.2056451612903226
          ],
          [
           0.6290322580645161,
           0.6209677419354839,
           0.6088709677419355,
           0.5403225806451613,
           0.5201612903225806,
           0.4959677419354839,
           0.4879032258064516,
           0.43951612903225806,
           0.43548387096774194,
           0.40725806451612906,
           0.40725806451612906,
           0.3911290322580645,
           0.3548387096774194,
           0.3548387096774194,
           0.3467741935483871,
           0.32661290322580644,
           0.31451612903225806,
           0.3064516129032258,
           0.29838709677419356,
           0.28225806451612906,
           0.27419354838709675,
           0.2661290322580645,
           0.25806451612903225,
           0.2540322580645161,
           0.25
          ],
          [
           0.6532258064516129,
           0.6451612903225806,
           0.592741935483871,
           0.5725806451612904,
           0.5524193548387096,
           0.5443548387096774,
           0.5282258064516129,
           0.5241935483870968,
           0.5201612903225806,
           0.5120967741935484,
           0.4838709677419355,
           0.4435483870967742,
           0.43548387096774194,
           0.4274193548387097,
           0.42338709677419356,
           0.4112903225806452,
           0.375,
           0.36693548387096775,
           0.36693548387096775,
           0.3629032258064516,
           0.3629032258064516,
           0.3346774193548387,
           0.3185483870967742,
           0.28225806451612906,
           0.1935483870967742
          ],
          [
           0.6491935483870968,
           0.6370967741935484,
           0.6330645161290323,
           0.5887096774193549,
           0.5685483870967742,
           0.5403225806451613,
           0.5161290322580645,
           0.5,
           0.4959677419354839,
           0.47580645161290325,
           0.46774193548387094,
           0.4475806451612903,
           0.4274193548387097,
           0.41935483870967744,
           0.40725806451612906,
           0.3951612903225806,
           0.3870967741935484,
           0.3790322580645161,
           0.3790322580645161,
           0.3467741935483871,
           0.34274193548387094,
           0.32661290322580644,
           0.31451612903225806,
           0.31451612903225806,
           0.23790322580645162
          ],
          [
           0.7137096774193549,
           0.6209677419354839,
           0.5967741935483871,
           0.5403225806451613,
           0.532258064516129,
           0.5282258064516129,
           0.4879032258064516,
           0.4637096774193548,
           0.4475806451612903,
           0.4435483870967742,
           0.43951612903225806,
           0.4314516129032258,
           0.4032258064516129,
           0.3911290322580645,
           0.3548387096774194,
           0.3467741935483871,
           0.3225806451612903,
           0.3185483870967742,
           0.3185483870967742,
           0.31048387096774194,
           0.2903225806451613,
           0.2903225806451613,
           0.2782258064516129,
           0.2620967741935484,
           0.23790322580645162
          ],
          [
           0.6774193548387096,
           0.657258064516129,
           0.5967741935483871,
           0.5645161290322581,
           0.4435483870967742,
           0.42338709677419356,
           0.42338709677419356,
           0.4153225806451613,
           0.4112903225806452,
           0.4032258064516129,
           0.3709677419354839,
           0.36693548387096775,
           0.3629032258064516,
           0.3629032258064516,
           0.3467741935483871,
           0.34274193548387094,
           0.3346774193548387,
           0.32661290322580644,
           0.3225806451612903,
           0.3185483870967742,
           0.31451612903225806,
           0.3024193548387097,
           0.2903225806451613,
           0.25,
           0.22983870967741934
          ],
          [
           0.6774193548387096,
           0.6330645161290323,
           0.6290322580645161,
           0.5846774193548387,
           0.5806451612903226,
           0.5282258064516129,
           0.5201612903225806,
           0.5080645161290323,
           0.5080645161290323,
           0.49193548387096775,
           0.49193548387096775,
           0.4879032258064516,
           0.4879032258064516,
           0.4879032258064516,
           0.4596774193548387,
           0.4475806451612903,
           0.43548387096774194,
           0.42338709677419356,
           0.3629032258064516,
           0.3064516129032258,
           0.2903225806451613,
           0.2782258064516129,
           0.25,
           0.2217741935483871,
           0.1975806451612903
          ],
          [
           0.7338709677419355,
           0.6411290322580645,
           0.6048387096774194,
           0.5604838709677419,
           0.5362903225806451,
           0.5,
           0.4798387096774194,
           0.4717741935483871,
           0.4596774193548387,
           0.45161290322580644,
           0.42338709677419356,
           0.41935483870967744,
           0.40725806451612906,
           0.40725806451612906,
           0.3951612903225806,
           0.3951612903225806,
           0.375,
           0.3588709677419355,
           0.3346774193548387,
           0.3064516129032258,
           0.3024193548387097,
           0.2903225806451613,
           0.2701612903225806,
           0.2620967741935484,
           0.2540322580645161
          ],
          [
           0.6975806451612904,
           0.6935483870967742,
           0.6774193548387096,
           0.6733870967741935,
           0.5604838709677419,
           0.5524193548387096,
           0.5403225806451613,
           0.5362903225806451,
           0.5,
           0.4959677419354839,
           0.4798387096774194,
           0.43951612903225806,
           0.4274193548387097,
           0.41935483870967744,
           0.4153225806451613,
           0.40725806451612906,
           0.39919354838709675,
           0.375,
           0.3548387096774194,
           0.3346774193548387,
           0.33064516129032256,
           0.27419354838709675,
           0.22983870967741934,
           0.22580645161290322,
           0.2056451612903226
          ],
          [
           0.6975806451612904,
           0.6370967741935484,
           0.5967741935483871,
           0.5967741935483871,
           0.5806451612903226,
           0.5403225806451613,
           0.5201612903225806,
           0.4959677419354839,
           0.4838709677419355,
           0.46774193548387094,
           0.4596774193548387,
           0.4596774193548387,
           0.45161290322580644,
           0.4314516129032258,
           0.40725806451612906,
           0.39919354838709675,
           0.39919354838709675,
           0.3951612903225806,
           0.3629032258064516,
           0.3588709677419355,
           0.35080645161290325,
           0.3225806451612903,
           0.29838709677419356,
           0.2903225806451613,
           0.22580645161290322
          ],
          [
           0.6209677419354839,
           0.6129032258064516,
           0.6129032258064516,
           0.6129032258064516,
           0.6048387096774194,
           0.6048387096774194,
           0.5846774193548387,
           0.5806451612903226,
           0.5766129032258065,
           0.5766129032258065,
           0.5564516129032258,
           0.5201612903225806,
           0.5040322580645161,
           0.49193548387096775,
           0.4838709677419355,
           0.47580645161290325,
           0.46774193548387094,
           0.46774193548387094,
           0.4637096774193548,
           0.4596774193548387,
           0.45564516129032256,
           0.45564516129032256,
           0.4314516129032258,
           0.4314516129032258,
           0.3467741935483871
          ],
          [
           0.6370967741935484,
           0.6330645161290323,
           0.6169354838709677,
           0.6048387096774194,
           0.592741935483871,
           0.5887096774193549,
           0.5846774193548387,
           0.5806451612903226,
           0.5725806451612904,
           0.5403225806451613,
           0.5403225806451613,
           0.5403225806451613,
           0.532258064516129,
           0.5241935483870968,
           0.5201612903225806,
           0.5201612903225806,
           0.5161290322580645,
           0.5161290322580645,
           0.49193548387096775,
           0.4838709677419355,
           0.4838709677419355,
           0.4838709677419355,
           0.4314516129032258,
           0.42338709677419356,
           0.41935483870967744
          ]
         ]
        }
       ],
       "layout": {
        "coloraxis": {
         "cmid": 0,
         "colorscale": [
          [
           0,
           "rgb(103,0,31)"
          ],
          [
           0.1,
           "rgb(178,24,43)"
          ],
          [
           0.2,
           "rgb(214,96,77)"
          ],
          [
           0.3,
           "rgb(244,165,130)"
          ],
          [
           0.4,
           "rgb(253,219,199)"
          ],
          [
           0.5,
           "rgb(247,247,247)"
          ],
          [
           0.6,
           "rgb(209,229,240)"
          ],
          [
           0.7,
           "rgb(146,197,222)"
          ],
          [
           0.8,
           "rgb(67,147,195)"
          ],
          [
           0.9,
           "rgb(33,102,172)"
          ],
          [
           1,
           "rgb(5,48,97)"
          ]
         ]
        },
        "template": {
         "data": {
          "bar": [
           {
            "error_x": {
             "color": "#2a3f5f"
            },
            "error_y": {
             "color": "#2a3f5f"
            },
            "marker": {
             "line": {
              "color": "#E5ECF6",
              "width": 0.5
             },
             "pattern": {
              "fillmode": "overlay",
              "size": 10,
              "solidity": 0.2
             }
            },
            "type": "bar"
           }
          ],
          "barpolar": [
           {
            "marker": {
             "line": {
              "color": "#E5ECF6",
              "width": 0.5
             },
             "pattern": {
              "fillmode": "overlay",
              "size": 10,
              "solidity": 0.2
             }
            },
            "type": "barpolar"
           }
          ],
          "carpet": [
           {
            "aaxis": {
             "endlinecolor": "#2a3f5f",
             "gridcolor": "white",
             "linecolor": "white",
             "minorgridcolor": "white",
             "startlinecolor": "#2a3f5f"
            },
            "baxis": {
             "endlinecolor": "#2a3f5f",
             "gridcolor": "white",
             "linecolor": "white",
             "minorgridcolor": "white",
             "startlinecolor": "#2a3f5f"
            },
            "type": "carpet"
           }
          ],
          "choropleth": [
           {
            "colorbar": {
             "outlinewidth": 0,
             "ticks": ""
            },
            "type": "choropleth"
           }
          ],
          "contour": [
           {
            "colorbar": {
             "outlinewidth": 0,
             "ticks": ""
            },
            "colorscale": [
             [
              0,
              "#0d0887"
             ],
             [
              0.1111111111111111,
              "#46039f"
             ],
             [
              0.2222222222222222,
              "#7201a8"
             ],
             [
              0.3333333333333333,
              "#9c179e"
             ],
             [
              0.4444444444444444,
              "#bd3786"
             ],
             [
              0.5555555555555556,
              "#d8576b"
             ],
             [
              0.6666666666666666,
              "#ed7953"
             ],
             [
              0.7777777777777778,
              "#fb9f3a"
             ],
             [
              0.8888888888888888,
              "#fdca26"
             ],
             [
              1,
              "#f0f921"
             ]
            ],
            "type": "contour"
           }
          ],
          "contourcarpet": [
           {
            "colorbar": {
             "outlinewidth": 0,
             "ticks": ""
            },
            "type": "contourcarpet"
           }
          ],
          "heatmap": [
           {
            "colorbar": {
             "outlinewidth": 0,
             "ticks": ""
            },
            "colorscale": [
             [
              0,
              "#0d0887"
             ],
             [
              0.1111111111111111,
              "#46039f"
             ],
             [
              0.2222222222222222,
              "#7201a8"
             ],
             [
              0.3333333333333333,
              "#9c179e"
             ],
             [
              0.4444444444444444,
              "#bd3786"
             ],
             [
              0.5555555555555556,
              "#d8576b"
             ],
             [
              0.6666666666666666,
              "#ed7953"
             ],
             [
              0.7777777777777778,
              "#fb9f3a"
             ],
             [
              0.8888888888888888,
              "#fdca26"
             ],
             [
              1,
              "#f0f921"
             ]
            ],
            "type": "heatmap"
           }
          ],
          "heatmapgl": [
           {
            "colorbar": {
             "outlinewidth": 0,
             "ticks": ""
            },
            "colorscale": [
             [
              0,
              "#0d0887"
             ],
             [
              0.1111111111111111,
              "#46039f"
             ],
             [
              0.2222222222222222,
              "#7201a8"
             ],
             [
              0.3333333333333333,
              "#9c179e"
             ],
             [
              0.4444444444444444,
              "#bd3786"
             ],
             [
              0.5555555555555556,
              "#d8576b"
             ],
             [
              0.6666666666666666,
              "#ed7953"
             ],
             [
              0.7777777777777778,
              "#fb9f3a"
             ],
             [
              0.8888888888888888,
              "#fdca26"
             ],
             [
              1,
              "#f0f921"
             ]
            ],
            "type": "heatmapgl"
           }
          ],
          "histogram": [
           {
            "marker": {
             "pattern": {
              "fillmode": "overlay",
              "size": 10,
              "solidity": 0.2
             }
            },
            "type": "histogram"
           }
          ],
          "histogram2d": [
           {
            "colorbar": {
             "outlinewidth": 0,
             "ticks": ""
            },
            "colorscale": [
             [
              0,
              "#0d0887"
             ],
             [
              0.1111111111111111,
              "#46039f"
             ],
             [
              0.2222222222222222,
              "#7201a8"
             ],
             [
              0.3333333333333333,
              "#9c179e"
             ],
             [
              0.4444444444444444,
              "#bd3786"
             ],
             [
              0.5555555555555556,
              "#d8576b"
             ],
             [
              0.6666666666666666,
              "#ed7953"
             ],
             [
              0.7777777777777778,
              "#fb9f3a"
             ],
             [
              0.8888888888888888,
              "#fdca26"
             ],
             [
              1,
              "#f0f921"
             ]
            ],
            "type": "histogram2d"
           }
          ],
          "histogram2dcontour": [
           {
            "colorbar": {
             "outlinewidth": 0,
             "ticks": ""
            },
            "colorscale": [
             [
              0,
              "#0d0887"
             ],
             [
              0.1111111111111111,
              "#46039f"
             ],
             [
              0.2222222222222222,
              "#7201a8"
             ],
             [
              0.3333333333333333,
              "#9c179e"
             ],
             [
              0.4444444444444444,
              "#bd3786"
             ],
             [
              0.5555555555555556,
              "#d8576b"
             ],
             [
              0.6666666666666666,
              "#ed7953"
             ],
             [
              0.7777777777777778,
              "#fb9f3a"
             ],
             [
              0.8888888888888888,
              "#fdca26"
             ],
             [
              1,
              "#f0f921"
             ]
            ],
            "type": "histogram2dcontour"
           }
          ],
          "mesh3d": [
           {
            "colorbar": {
             "outlinewidth": 0,
             "ticks": ""
            },
            "type": "mesh3d"
           }
          ],
          "parcoords": [
           {
            "line": {
             "colorbar": {
              "outlinewidth": 0,
              "ticks": ""
             }
            },
            "type": "parcoords"
           }
          ],
          "pie": [
           {
            "automargin": true,
            "type": "pie"
           }
          ],
          "scatter": [
           {
            "fillpattern": {
             "fillmode": "overlay",
             "size": 10,
             "solidity": 0.2
            },
            "type": "scatter"
           }
          ],
          "scatter3d": [
           {
            "line": {
             "colorbar": {
              "outlinewidth": 0,
              "ticks": ""
             }
            },
            "marker": {
             "colorbar": {
              "outlinewidth": 0,
              "ticks": ""
             }
            },
            "type": "scatter3d"
           }
          ],
          "scattercarpet": [
           {
            "marker": {
             "colorbar": {
              "outlinewidth": 0,
              "ticks": ""
             }
            },
            "type": "scattercarpet"
           }
          ],
          "scattergeo": [
           {
            "marker": {
             "colorbar": {
              "outlinewidth": 0,
              "ticks": ""
             }
            },
            "type": "scattergeo"
           }
          ],
          "scattergl": [
           {
            "marker": {
             "colorbar": {
              "outlinewidth": 0,
              "ticks": ""
             }
            },
            "type": "scattergl"
           }
          ],
          "scattermapbox": [
           {
            "marker": {
             "colorbar": {
              "outlinewidth": 0,
              "ticks": ""
             }
            },
            "type": "scattermapbox"
           }
          ],
          "scatterpolar": [
           {
            "marker": {
             "colorbar": {
              "outlinewidth": 0,
              "ticks": ""
             }
            },
            "type": "scatterpolar"
           }
          ],
          "scatterpolargl": [
           {
            "marker": {
             "colorbar": {
              "outlinewidth": 0,
              "ticks": ""
             }
            },
            "type": "scatterpolargl"
           }
          ],
          "scatterternary": [
           {
            "marker": {
             "colorbar": {
              "outlinewidth": 0,
              "ticks": ""
             }
            },
            "type": "scatterternary"
           }
          ],
          "surface": [
           {
            "colorbar": {
             "outlinewidth": 0,
             "ticks": ""
            },
            "colorscale": [
             [
              0,
              "#0d0887"
             ],
             [
              0.1111111111111111,
              "#46039f"
             ],
             [
              0.2222222222222222,
              "#7201a8"
             ],
             [
              0.3333333333333333,
              "#9c179e"
             ],
             [
              0.4444444444444444,
              "#bd3786"
             ],
             [
              0.5555555555555556,
              "#d8576b"
             ],
             [
              0.6666666666666666,
              "#ed7953"
             ],
             [
              0.7777777777777778,
              "#fb9f3a"
             ],
             [
              0.8888888888888888,
              "#fdca26"
             ],
             [
              1,
              "#f0f921"
             ]
            ],
            "type": "surface"
           }
          ],
          "table": [
           {
            "cells": {
             "fill": {
              "color": "#EBF0F8"
             },
             "line": {
              "color": "white"
             }
            },
            "header": {
             "fill": {
              "color": "#C8D4E3"
             },
             "line": {
              "color": "white"
             }
            },
            "type": "table"
           }
          ]
         },
         "layout": {
          "annotationdefaults": {
           "arrowcolor": "#2a3f5f",
           "arrowhead": 0,
           "arrowwidth": 1
          },
          "autotypenumbers": "strict",
          "coloraxis": {
           "colorbar": {
            "outlinewidth": 0,
            "ticks": ""
           }
          },
          "colorscale": {
           "diverging": [
            [
             0,
             "#8e0152"
            ],
            [
             0.1,
             "#c51b7d"
            ],
            [
             0.2,
             "#de77ae"
            ],
            [
             0.3,
             "#f1b6da"
            ],
            [
             0.4,
             "#fde0ef"
            ],
            [
             0.5,
             "#f7f7f7"
            ],
            [
             0.6,
             "#e6f5d0"
            ],
            [
             0.7,
             "#b8e186"
            ],
            [
             0.8,
             "#7fbc41"
            ],
            [
             0.9,
             "#4d9221"
            ],
            [
             1,
             "#276419"
            ]
           ],
           "sequential": [
            [
             0,
             "#0d0887"
            ],
            [
             0.1111111111111111,
             "#46039f"
            ],
            [
             0.2222222222222222,
             "#7201a8"
            ],
            [
             0.3333333333333333,
             "#9c179e"
            ],
            [
             0.4444444444444444,
             "#bd3786"
            ],
            [
             0.5555555555555556,
             "#d8576b"
            ],
            [
             0.6666666666666666,
             "#ed7953"
            ],
            [
             0.7777777777777778,
             "#fb9f3a"
            ],
            [
             0.8888888888888888,
             "#fdca26"
            ],
            [
             1,
             "#f0f921"
            ]
           ],
           "sequentialminus": [
            [
             0,
             "#0d0887"
            ],
            [
             0.1111111111111111,
             "#46039f"
            ],
            [
             0.2222222222222222,
             "#7201a8"
            ],
            [
             0.3333333333333333,
             "#9c179e"
            ],
            [
             0.4444444444444444,
             "#bd3786"
            ],
            [
             0.5555555555555556,
             "#d8576b"
            ],
            [
             0.6666666666666666,
             "#ed7953"
            ],
            [
             0.7777777777777778,
             "#fb9f3a"
            ],
            [
             0.8888888888888888,
             "#fdca26"
            ],
            [
             1,
             "#f0f921"
            ]
           ]
          },
          "colorway": [
           "#636efa",
           "#EF553B",
           "#00cc96",
           "#ab63fa",
           "#FFA15A",
           "#19d3f3",
           "#FF6692",
           "#B6E880",
           "#FF97FF",
           "#FECB52"
          ],
          "font": {
           "color": "#2a3f5f"
          },
          "geo": {
           "bgcolor": "white",
           "lakecolor": "white",
           "landcolor": "#E5ECF6",
           "showlakes": true,
           "showland": true,
           "subunitcolor": "white"
          },
          "hoverlabel": {
           "align": "left"
          },
          "hovermode": "closest",
          "mapbox": {
           "style": "light"
          },
          "paper_bgcolor": "white",
          "plot_bgcolor": "#E5ECF6",
          "polar": {
           "angularaxis": {
            "gridcolor": "white",
            "linecolor": "white",
            "ticks": ""
           },
           "bgcolor": "#E5ECF6",
           "radialaxis": {
            "gridcolor": "white",
            "linecolor": "white",
            "ticks": ""
           }
          },
          "scene": {
           "xaxis": {
            "backgroundcolor": "#E5ECF6",
            "gridcolor": "white",
            "gridwidth": 2,
            "linecolor": "white",
            "showbackground": true,
            "ticks": "",
            "zerolinecolor": "white"
           },
           "yaxis": {
            "backgroundcolor": "#E5ECF6",
            "gridcolor": "white",
            "gridwidth": 2,
            "linecolor": "white",
            "showbackground": true,
            "ticks": "",
            "zerolinecolor": "white"
           },
           "zaxis": {
            "backgroundcolor": "#E5ECF6",
            "gridcolor": "white",
            "gridwidth": 2,
            "linecolor": "white",
            "showbackground": true,
            "ticks": "",
            "zerolinecolor": "white"
           }
          },
          "shapedefaults": {
           "line": {
            "color": "#2a3f5f"
           }
          },
          "ternary": {
           "aaxis": {
            "gridcolor": "white",
            "linecolor": "white",
            "ticks": ""
           },
           "baxis": {
            "gridcolor": "white",
            "linecolor": "white",
            "ticks": ""
           },
           "bgcolor": "#E5ECF6",
           "caxis": {
            "gridcolor": "white",
            "linecolor": "white",
            "ticks": ""
           }
          },
          "title": {
           "x": 0.05
          },
          "xaxis": {
           "automargin": true,
           "gridcolor": "white",
           "linecolor": "white",
           "ticks": "",
           "title": {
            "standoff": 15
           },
           "zerolinecolor": "white",
           "zerolinewidth": 2
          },
          "yaxis": {
           "automargin": true,
           "gridcolor": "white",
           "linecolor": "white",
           "ticks": "",
           "title": {
            "standoff": 15
           },
           "zerolinecolor": "white",
           "zerolinewidth": 2
          }
         }
        },
        "title": {
         "text": "Sorted Probe Accuracies on Capitals"
        },
        "xaxis": {
         "anchor": "y",
         "constrain": "domain",
         "domain": [
          0,
          1
         ],
         "scaleanchor": "y",
         "title": {
          "text": "Heads (sorted)"
         }
        },
        "yaxis": {
         "anchor": "x",
         "autorange": true,
         "constrain": "domain",
         "domain": [
          0,
          1
         ],
         "title": {
          "text": "Layers"
         }
        }
       }
      },
      "text/html": [
       "<div>                            <div id=\"3c8d2277-06c7-4ffe-a4b1-dd855075c7f0\" class=\"plotly-graph-div\" style=\"height:525px; width:100%;\"></div>            <script type=\"text/javascript\">                require([\"plotly\"], function(Plotly) {                    window.PLOTLYENV=window.PLOTLYENV || {};                                    if (document.getElementById(\"3c8d2277-06c7-4ffe-a4b1-dd855075c7f0\")) {                    Plotly.newPlot(                        \"3c8d2277-06c7-4ffe-a4b1-dd855075c7f0\",                        [{\"coloraxis\":\"coloraxis\",\"name\":\"0\",\"z\":[[0.20967741935483872,0.2056451612903226,0.1935483870967742,0.1935483870967742,0.1935483870967742,0.1935483870967742,0.1935483870967742,0.1935483870967742,0.1935483870967742,0.1935483870967742,0.1935483870967742,0.1935483870967742,0.1935483870967742,0.1935483870967742,0.1935483870967742,0.1935483870967742,0.1935483870967742,0.1935483870967742,0.1935483870967742,0.1935483870967742,0.1935483870967742,0.1935483870967742,0.1935483870967742,0.1935483870967742,0.1935483870967742],[0.375,0.3588709677419355,0.32661290322580644,0.3024193548387097,0.29838709677419356,0.2903225806451613,0.2862903225806452,0.2782258064516129,0.2782258064516129,0.2782258064516129,0.2701612903225806,0.2661290322580645,0.2620967741935484,0.25806451612903225,0.25806451612903225,0.25,0.24596774193548387,0.23790322580645162,0.23790322580645162,0.23387096774193547,0.23387096774193547,0.22983870967741934,0.22580645161290322,0.22580645161290322,0.1975806451612903],[0.4032258064516129,0.33064516129032256,0.3024193548387097,0.29435483870967744,0.2862903225806452,0.2782258064516129,0.2782258064516129,0.2782258064516129,0.27419354838709675,0.2701612903225806,0.2661290322580645,0.25806451612903225,0.25806451612903225,0.25806451612903225,0.25,0.24596774193548387,0.24596774193548387,0.23790322580645162,0.22580645161290322,0.22580645161290322,0.22580645161290322,0.2217741935483871,0.2056451612903226,0.20161290322580644,0.1774193548387097],[0.3346774193548387,0.32661290322580644,0.31048387096774194,0.3064516129032258,0.3024193548387097,0.2903225806451613,0.2903225806451613,0.28225806451612906,0.2782258064516129,0.2661290322580645,0.25806451612903225,0.2540322580645161,0.2540322580645161,0.2540322580645161,0.25,0.24596774193548387,0.24596774193548387,0.23790322580645162,0.23387096774193547,0.22580645161290322,0.22580645161290322,0.2217741935483871,0.21774193548387097,0.21370967741935484,0.20967741935483872],[0.3951612903225806,0.3629032258064516,0.3346774193548387,0.31451612903225806,0.29838709677419356,0.2862903225806452,0.28225806451612906,0.28225806451612906,0.28225806451612906,0.2782258064516129,0.2782258064516129,0.2661290322580645,0.2661290322580645,0.2661290322580645,0.25806451612903225,0.25,0.25,0.24596774193548387,0.24193548387096775,0.24193548387096775,0.23790322580645162,0.23387096774193547,0.21370967741935484,0.2056451612903226,0.1935483870967742],[0.4314516129032258,0.375,0.3588709677419355,0.3346774193548387,0.32661290322580644,0.3064516129032258,0.3064516129032258,0.3024193548387097,0.29435483870967744,0.29435483870967744,0.27419354838709675,0.27419354838709675,0.2661290322580645,0.25806451612903225,0.25,0.25,0.24596774193548387,0.24596774193548387,0.24193548387096775,0.23790322580645162,0.23790322580645162,0.23790322580645162,0.23387096774193547,0.2217741935483871,0.2217741935483871],[0.3709677419354839,0.32661290322580644,0.3225806451612903,0.31451612903225806,0.31451612903225806,0.31048387096774194,0.29838709677419356,0.29435483870967744,0.29435483870967744,0.2862903225806452,0.2661290322580645,0.2661290322580645,0.2620967741935484,0.2620967741935484,0.2620967741935484,0.25806451612903225,0.25806451612903225,0.2540322580645161,0.24596774193548387,0.24596774193548387,0.24193548387096775,0.23790322580645162,0.22580645161290322,0.2217741935483871,0.21774193548387097],[0.3548387096774194,0.3548387096774194,0.35080645161290325,0.33064516129032256,0.3024193548387097,0.29838709677419356,0.29435483870967744,0.2903225806451613,0.2903225806451613,0.2903225806451613,0.2903225806451613,0.27419354838709675,0.27419354838709675,0.2661290322580645,0.2620967741935484,0.2620967741935484,0.25806451612903225,0.2540322580645161,0.2540322580645161,0.24596774193548387,0.24193548387096775,0.24193548387096775,0.24193548387096775,0.23790322580645162,0.21774193548387097],[0.4435483870967742,0.36693548387096775,0.3346774193548387,0.32661290322580644,0.3185483870967742,0.3024193548387097,0.29838709677419356,0.29435483870967744,0.2903225806451613,0.2862903225806452,0.27419354838709675,0.2661290322580645,0.2661290322580645,0.2620967741935484,0.25806451612903225,0.25806451612903225,0.2540322580645161,0.2540322580645161,0.25,0.24596774193548387,0.24596774193548387,0.23790322580645162,0.22580645161290322,0.22580645161290322,0.21774193548387097],[0.4314516129032258,0.4314516129032258,0.4112903225806452,0.35080645161290325,0.3346774193548387,0.3346774193548387,0.32661290322580644,0.3185483870967742,0.31048387096774194,0.29838709677419356,0.29838709677419356,0.28225806451612906,0.28225806451612906,0.2782258064516129,0.2661290322580645,0.2661290322580645,0.2661290322580645,0.24596774193548387,0.24193548387096775,0.23387096774193547,0.22983870967741934,0.22983870967741934,0.21370967741935484,0.2056451612903226,0.1935483870967742],[0.40725806451612906,0.3548387096774194,0.3346774193548387,0.33064516129032256,0.3225806451612903,0.3185483870967742,0.3064516129032258,0.3024193548387097,0.3024193548387097,0.3024193548387097,0.29838709677419356,0.2903225806451613,0.2862903225806452,0.2782258064516129,0.27419354838709675,0.27419354838709675,0.2540322580645161,0.25,0.24596774193548387,0.22983870967741934,0.21774193548387097,0.20967741935483872,0.20161290322580644,0.1935483870967742,0.1935483870967742],[0.4879032258064516,0.46774193548387094,0.43951612903225806,0.4153225806451613,0.40725806451612906,0.3870967741935484,0.3629032258064516,0.3467741935483871,0.3346774193548387,0.33064516129032256,0.3185483870967742,0.31451612903225806,0.3024193548387097,0.29435483870967744,0.2903225806451613,0.2862903225806452,0.25806451612903225,0.25,0.24193548387096775,0.23387096774193547,0.22983870967741934,0.2056451612903226,0.1975806451612903,0.1935483870967742,0.1935483870967742],[0.4112903225806452,0.4112903225806452,0.36693548387096775,0.3548387096774194,0.3346774193548387,0.33064516129032256,0.3225806451612903,0.3225806451612903,0.3225806451612903,0.3185483870967742,0.31048387096774194,0.31048387096774194,0.3064516129032258,0.3064516129032258,0.29838709677419356,0.2903225806451613,0.2903225806451613,0.2903225806451613,0.2661290322580645,0.25,0.23790322580645162,0.22983870967741934,0.21774193548387097,0.21774193548387097,0.1935483870967742],[0.6088709677419355,0.45161290322580644,0.43951612903225806,0.3951612903225806,0.3911290322580645,0.3709677419354839,0.36693548387096775,0.3548387096774194,0.3467741935483871,0.34274193548387094,0.34274193548387094,0.3387096774193548,0.3346774193548387,0.33064516129032256,0.33064516129032256,0.33064516129032256,0.32661290322580644,0.32661290322580644,0.3225806451612903,0.3024193548387097,0.29838709677419356,0.2903225806451613,0.2782258064516129,0.2620967741935484,0.1935483870967742],[0.6169354838709677,0.5241935483870968,0.5040322580645161,0.4959677419354839,0.47580645161290325,0.4475806451612903,0.4475806451612903,0.43548387096774194,0.3951612903225806,0.3911290322580645,0.3911290322580645,0.3870967741935484,0.375,0.375,0.375,0.3709677419354839,0.36693548387096775,0.3588709677419355,0.3588709677419355,0.3467741935483871,0.3387096774193548,0.3387096774193548,0.3346774193548387,0.3225806451612903,0.3064516129032258],[0.5201612903225806,0.49193548387096775,0.4879032258064516,0.4475806451612903,0.4314516129032258,0.41935483870967744,0.4153225806451613,0.4112903225806452,0.4112903225806452,0.40725806451612906,0.3870967741935484,0.3790322580645161,0.375,0.3709677419354839,0.3629032258064516,0.3387096774193548,0.3387096774193548,0.33064516129032256,0.32661290322580644,0.3185483870967742,0.31451612903225806,0.29435483870967744,0.24193548387096775,0.23790322580645162,0.22580645161290322],[0.6048387096774194,0.5846774193548387,0.5483870967741935,0.5282258064516129,0.47580645161290325,0.47580645161290325,0.46774193548387094,0.4637096774193548,0.45161290322580644,0.43951612903225806,0.4314516129032258,0.41935483870967744,0.4153225806451613,0.40725806451612906,0.40725806451612906,0.39919354838709675,0.3951612903225806,0.375,0.3709677419354839,0.3548387096774194,0.35080645161290325,0.3387096774193548,0.31048387096774194,0.29435483870967744,0.2782258064516129],[0.6733870967741935,0.6129032258064516,0.5806451612903226,0.5766129032258065,0.5685483870967742,0.5362903225806451,0.532258064516129,0.5241935483870968,0.4838709677419355,0.4838709677419355,0.4838709677419355,0.4717741935483871,0.46774193548387094,0.4435483870967742,0.43548387096774194,0.42338709677419356,0.42338709677419356,0.4112903225806452,0.38306451612903225,0.3790322580645161,0.3346774193548387,0.33064516129032256,0.29435483870967744,0.25806451612903225,0.2056451612903226],[0.6411290322580645,0.5766129032258065,0.5725806451612904,0.5483870967741935,0.5403225806451613,0.5201612903225806,0.5201612903225806,0.5161290322580645,0.5080645161290323,0.4959677419354839,0.4879032258064516,0.4879032258064516,0.4838709677419355,0.4798387096774194,0.45564516129032256,0.45161290322580644,0.4435483870967742,0.42338709677419356,0.40725806451612906,0.38306451612903225,0.375,0.3629032258064516,0.3225806451612903,0.3024193548387097,0.2862903225806452],[0.6814516129032258,0.6774193548387096,0.6653225806451613,0.6088709677419355,0.5766129032258065,0.5645161290322581,0.5604838709677419,0.5282258064516129,0.5080645161290323,0.5,0.4879032258064516,0.46774193548387094,0.4314516129032258,0.4274193548387097,0.41935483870967744,0.4153225806451613,0.3951612903225806,0.3790322580645161,0.3629032258064516,0.3629032258064516,0.3548387096774194,0.3225806451612903,0.3225806451612903,0.31451612903225806,0.2217741935483871],[0.7258064516129032,0.7016129032258065,0.6451612903225806,0.6169354838709677,0.5766129032258065,0.5645161290322581,0.5564516129032258,0.5443548387096774,0.5403225806451613,0.5362903225806451,0.5201612903225806,0.5,0.4637096774193548,0.45161290322580644,0.43548387096774194,0.4314516129032258,0.4274193548387097,0.4032258064516129,0.4032258064516129,0.3951612903225806,0.3629032258064516,0.35080645161290325,0.3467741935483871,0.29838709677419356,0.23387096774193547],[0.8145161290322581,0.7258064516129032,0.6411290322580645,0.625,0.5887096774193549,0.5846774193548387,0.5806451612903226,0.5725806451612904,0.5725806451612904,0.5645161290322581,0.5645161290322581,0.5524193548387096,0.5362903225806451,0.5120967741935484,0.5,0.49193548387096775,0.45564516129032256,0.4475806451612903,0.43548387096774194,0.43548387096774194,0.42338709677419356,0.3951612903225806,0.3911290322580645,0.3790322580645161,0.24193548387096775],[0.6693548387096774,0.6451612903225806,0.6209677419354839,0.6169354838709677,0.6088709677419355,0.5887096774193549,0.5604838709677419,0.5564516129032258,0.5524193548387096,0.5362903225806451,0.5241935483870968,0.5080645161290323,0.4959677419354839,0.4798387096774194,0.4717741935483871,0.4637096774193548,0.4596774193548387,0.4032258064516129,0.3951612903225806,0.3870967741935484,0.3709677419354839,0.3588709677419355,0.3548387096774194,0.31451612903225806,0.2540322580645161],[0.7661290322580645,0.7459677419354839,0.6814516129032258,0.6733870967741935,0.6612903225806451,0.657258064516129,0.6008064516129032,0.5967741935483871,0.5887096774193549,0.5887096774193549,0.5766129032258065,0.5685483870967742,0.5362903225806451,0.5362903225806451,0.5241935483870968,0.4838709677419355,0.4798387096774194,0.43548387096774194,0.4314516129032258,0.42338709677419356,0.4153225806451613,0.4112903225806452,0.4032258064516129,0.3709677419354839,0.3629032258064516],[0.7580645161290323,0.6975806451612904,0.6854838709677419,0.6653225806451613,0.6532258064516129,0.6532258064516129,0.6451612903225806,0.6411290322580645,0.6088709677419355,0.6008064516129032,0.5604838709677419,0.5443548387096774,0.5080645161290323,0.49193548387096775,0.49193548387096775,0.47580645161290325,0.46774193548387094,0.4596774193548387,0.45564516129032256,0.43548387096774194,0.4153225806451613,0.40725806451612906,0.3951612903225806,0.31451612903225806,0.23790322580645162],[0.717741935483871,0.6814516129032258,0.657258064516129,0.6129032258064516,0.6088709677419355,0.6008064516129032,0.5887096774193549,0.5846774193548387,0.5766129032258065,0.5685483870967742,0.5645161290322581,0.5645161290322581,0.5564516129032258,0.5483870967741935,0.5443548387096774,0.5362903225806451,0.532258064516129,0.5201612903225806,0.5,0.4717741935483871,0.42338709677419356,0.39919354838709675,0.36693548387096775,0.3548387096774194,0.28225806451612906],[0.7096774193548387,0.7056451612903226,0.657258064516129,0.6370967741935484,0.6209677419354839,0.5967741935483871,0.5806451612903226,0.5685483870967742,0.5604838709677419,0.5282258064516129,0.5282258064516129,0.5201612903225806,0.5080645161290323,0.4838709677419355,0.4798387096774194,0.4637096774193548,0.3870967741935484,0.3548387096774194,0.35080645161290325,0.3467741935483871,0.34274193548387094,0.33064516129032256,0.31451612903225806,0.31048387096774194,0.22983870967741934],[0.7258064516129032,0.6330645161290323,0.5967741935483871,0.5846774193548387,0.5685483870967742,0.5443548387096774,0.5403225806451613,0.4959677419354839,0.49193548387096775,0.4838709677419355,0.47580645161290325,0.47580645161290325,0.4435483870967742,0.43951612903225806,0.4274193548387097,0.4274193548387097,0.42338709677419356,0.3790322580645161,0.375,0.3588709677419355,0.3467741935483871,0.3387096774193548,0.2903225806451613,0.24596774193548387,0.21370967741935484],[0.7540322580645161,0.6975806451612904,0.6370967741935484,0.5806451612903226,0.5806451612903226,0.5766129032258065,0.5443548387096774,0.5362903225806451,0.5241935483870968,0.5161290322580645,0.5080645161290323,0.4959677419354839,0.4475806451612903,0.4112903225806452,0.3588709677419355,0.3467741935483871,0.34274193548387094,0.33064516129032256,0.3225806451612903,0.3185483870967742,0.29838709677419356,0.29435483870967744,0.24596774193548387,0.22580645161290322,0.20967741935483872],[0.717741935483871,0.6895161290322581,0.6774193548387096,0.6612903225806451,0.6612903225806451,0.6532258064516129,0.6370967741935484,0.6290322580645161,0.6169354838709677,0.6008064516129032,0.5887096774193549,0.5766129032258065,0.532258064516129,0.5040322580645161,0.4959677419354839,0.47580645161290325,0.4435483870967742,0.4435483870967742,0.4112903225806452,0.3951612903225806,0.38306451612903225,0.36693548387096775,0.3629032258064516,0.31451612903225806,0.2862903225806452],[0.7217741935483871,0.6854838709677419,0.6733870967741935,0.6411290322580645,0.6048387096774194,0.5524193548387096,0.5403225806451613,0.5362903225806451,0.5201612903225806,0.5040322580645161,0.4959677419354839,0.4838709677419355,0.47580645161290325,0.46774193548387094,0.46774193548387094,0.4637096774193548,0.40725806451612906,0.3951612903225806,0.3911290322580645,0.36693548387096775,0.3629032258064516,0.3467741935483871,0.33064516129032256,0.3225806451612903,0.24596774193548387],[0.6854838709677419,0.6653225806451613,0.6451612903225806,0.6209677419354839,0.6129032258064516,0.6048387096774194,0.5766129032258065,0.5766129032258065,0.5564516129032258,0.5483870967741935,0.5120967741935484,0.5080645161290323,0.5040322580645161,0.49193548387096775,0.4798387096774194,0.46774193548387094,0.4475806451612903,0.4153225806451613,0.4032258064516129,0.39919354838709675,0.3588709677419355,0.31048387096774194,0.3064516129032258,0.29435483870967744,0.22580645161290322],[0.6854838709677419,0.6612903225806451,0.6491935483870968,0.5887096774193549,0.5846774193548387,0.5846774193548387,0.5483870967741935,0.532258064516129,0.5120967741935484,0.5120967741935484,0.5080645161290323,0.5,0.5,0.4637096774193548,0.4637096774193548,0.45161290322580644,0.4435483870967742,0.43548387096774194,0.40725806451612906,0.4032258064516129,0.3911290322580645,0.375,0.31451612903225806,0.3024193548387097,0.2540322580645161],[0.7096774193548387,0.6814516129032258,0.6693548387096774,0.6491935483870968,0.6088709677419355,0.5846774193548387,0.5766129032258065,0.5604838709677419,0.5241935483870968,0.5080645161290323,0.5,0.49193548387096775,0.45564516129032256,0.4475806451612903,0.43951612903225806,0.4314516129032258,0.4274193548387097,0.3951612903225806,0.3911290322580645,0.3387096774193548,0.33064516129032256,0.3225806451612903,0.25806451612903225,0.25,0.21370967741935484],[0.7137096774193549,0.6451612903225806,0.6370967741935484,0.6129032258064516,0.592741935483871,0.5241935483870968,0.5161290322580645,0.5120967741935484,0.5,0.49193548387096775,0.43951612903225806,0.4112903225806452,0.40725806451612906,0.375,0.3629032258064516,0.3588709677419355,0.34274193548387094,0.3387096774193548,0.3346774193548387,0.31451612903225806,0.3024193548387097,0.2862903225806452,0.23790322580645162,0.23387096774193547,0.22983870967741934],[0.7096774193548387,0.7096774193548387,0.6129032258064516,0.592741935483871,0.5887096774193549,0.5846774193548387,0.5766129032258065,0.5040322580645161,0.45564516129032256,0.4435483870967742,0.43951612903225806,0.43951612903225806,0.4314516129032258,0.4112903225806452,0.4032258064516129,0.3951612903225806,0.3911290322580645,0.3548387096774194,0.35080645161290325,0.33064516129032256,0.3225806451612903,0.3064516129032258,0.3064516129032258,0.29838709677419356,0.2701612903225806],[0.7379032258064516,0.7016129032258065,0.6612903225806451,0.6451612903225806,0.6048387096774194,0.6008064516129032,0.5040322580645161,0.46774193548387094,0.45564516129032256,0.4475806451612903,0.4435483870967742,0.4032258064516129,0.4032258064516129,0.4032258064516129,0.3790322580645161,0.3790322580645161,0.36693548387096775,0.3629032258064516,0.3225806451612903,0.29435483870967744,0.2620967741935484,0.25,0.22983870967741934,0.22580645161290322,0.2056451612903226],[0.6290322580645161,0.6209677419354839,0.6088709677419355,0.5403225806451613,0.5201612903225806,0.4959677419354839,0.4879032258064516,0.43951612903225806,0.43548387096774194,0.40725806451612906,0.40725806451612906,0.3911290322580645,0.3548387096774194,0.3548387096774194,0.3467741935483871,0.32661290322580644,0.31451612903225806,0.3064516129032258,0.29838709677419356,0.28225806451612906,0.27419354838709675,0.2661290322580645,0.25806451612903225,0.2540322580645161,0.25],[0.6532258064516129,0.6451612903225806,0.592741935483871,0.5725806451612904,0.5524193548387096,0.5443548387096774,0.5282258064516129,0.5241935483870968,0.5201612903225806,0.5120967741935484,0.4838709677419355,0.4435483870967742,0.43548387096774194,0.4274193548387097,0.42338709677419356,0.4112903225806452,0.375,0.36693548387096775,0.36693548387096775,0.3629032258064516,0.3629032258064516,0.3346774193548387,0.3185483870967742,0.28225806451612906,0.1935483870967742],[0.6491935483870968,0.6370967741935484,0.6330645161290323,0.5887096774193549,0.5685483870967742,0.5403225806451613,0.5161290322580645,0.5,0.4959677419354839,0.47580645161290325,0.46774193548387094,0.4475806451612903,0.4274193548387097,0.41935483870967744,0.40725806451612906,0.3951612903225806,0.3870967741935484,0.3790322580645161,0.3790322580645161,0.3467741935483871,0.34274193548387094,0.32661290322580644,0.31451612903225806,0.31451612903225806,0.23790322580645162],[0.7137096774193549,0.6209677419354839,0.5967741935483871,0.5403225806451613,0.532258064516129,0.5282258064516129,0.4879032258064516,0.4637096774193548,0.4475806451612903,0.4435483870967742,0.43951612903225806,0.4314516129032258,0.4032258064516129,0.3911290322580645,0.3548387096774194,0.3467741935483871,0.3225806451612903,0.3185483870967742,0.3185483870967742,0.31048387096774194,0.2903225806451613,0.2903225806451613,0.2782258064516129,0.2620967741935484,0.23790322580645162],[0.6774193548387096,0.657258064516129,0.5967741935483871,0.5645161290322581,0.4435483870967742,0.42338709677419356,0.42338709677419356,0.4153225806451613,0.4112903225806452,0.4032258064516129,0.3709677419354839,0.36693548387096775,0.3629032258064516,0.3629032258064516,0.3467741935483871,0.34274193548387094,0.3346774193548387,0.32661290322580644,0.3225806451612903,0.3185483870967742,0.31451612903225806,0.3024193548387097,0.2903225806451613,0.25,0.22983870967741934],[0.6774193548387096,0.6330645161290323,0.6290322580645161,0.5846774193548387,0.5806451612903226,0.5282258064516129,0.5201612903225806,0.5080645161290323,0.5080645161290323,0.49193548387096775,0.49193548387096775,0.4879032258064516,0.4879032258064516,0.4879032258064516,0.4596774193548387,0.4475806451612903,0.43548387096774194,0.42338709677419356,0.3629032258064516,0.3064516129032258,0.2903225806451613,0.2782258064516129,0.25,0.2217741935483871,0.1975806451612903],[0.7338709677419355,0.6411290322580645,0.6048387096774194,0.5604838709677419,0.5362903225806451,0.5,0.4798387096774194,0.4717741935483871,0.4596774193548387,0.45161290322580644,0.42338709677419356,0.41935483870967744,0.40725806451612906,0.40725806451612906,0.3951612903225806,0.3951612903225806,0.375,0.3588709677419355,0.3346774193548387,0.3064516129032258,0.3024193548387097,0.2903225806451613,0.2701612903225806,0.2620967741935484,0.2540322580645161],[0.6975806451612904,0.6935483870967742,0.6774193548387096,0.6733870967741935,0.5604838709677419,0.5524193548387096,0.5403225806451613,0.5362903225806451,0.5,0.4959677419354839,0.4798387096774194,0.43951612903225806,0.4274193548387097,0.41935483870967744,0.4153225806451613,0.40725806451612906,0.39919354838709675,0.375,0.3548387096774194,0.3346774193548387,0.33064516129032256,0.27419354838709675,0.22983870967741934,0.22580645161290322,0.2056451612903226],[0.6975806451612904,0.6370967741935484,0.5967741935483871,0.5967741935483871,0.5806451612903226,0.5403225806451613,0.5201612903225806,0.4959677419354839,0.4838709677419355,0.46774193548387094,0.4596774193548387,0.4596774193548387,0.45161290322580644,0.4314516129032258,0.40725806451612906,0.39919354838709675,0.39919354838709675,0.3951612903225806,0.3629032258064516,0.3588709677419355,0.35080645161290325,0.3225806451612903,0.29838709677419356,0.2903225806451613,0.22580645161290322],[0.6209677419354839,0.6129032258064516,0.6129032258064516,0.6129032258064516,0.6048387096774194,0.6048387096774194,0.5846774193548387,0.5806451612903226,0.5766129032258065,0.5766129032258065,0.5564516129032258,0.5201612903225806,0.5040322580645161,0.49193548387096775,0.4838709677419355,0.47580645161290325,0.46774193548387094,0.46774193548387094,0.4637096774193548,0.4596774193548387,0.45564516129032256,0.45564516129032256,0.4314516129032258,0.4314516129032258,0.3467741935483871],[0.6370967741935484,0.6330645161290323,0.6169354838709677,0.6048387096774194,0.592741935483871,0.5887096774193549,0.5846774193548387,0.5806451612903226,0.5725806451612904,0.5403225806451613,0.5403225806451613,0.5403225806451613,0.532258064516129,0.5241935483870968,0.5201612903225806,0.5201612903225806,0.5161290322580645,0.5161290322580645,0.49193548387096775,0.4838709677419355,0.4838709677419355,0.4838709677419355,0.4314516129032258,0.42338709677419356,0.41935483870967744]],\"type\":\"heatmap\",\"xaxis\":\"x\",\"yaxis\":\"y\",\"hovertemplate\":\"Heads (sorted): %{x}<br>Layers: %{y}<br>color: %{z}<extra></extra>\"}],                        {\"template\":{\"data\":{\"histogram2dcontour\":[{\"type\":\"histogram2dcontour\",\"colorbar\":{\"outlinewidth\":0,\"ticks\":\"\"},\"colorscale\":[[0.0,\"#0d0887\"],[0.1111111111111111,\"#46039f\"],[0.2222222222222222,\"#7201a8\"],[0.3333333333333333,\"#9c179e\"],[0.4444444444444444,\"#bd3786\"],[0.5555555555555556,\"#d8576b\"],[0.6666666666666666,\"#ed7953\"],[0.7777777777777778,\"#fb9f3a\"],[0.8888888888888888,\"#fdca26\"],[1.0,\"#f0f921\"]]}],\"choropleth\":[{\"type\":\"choropleth\",\"colorbar\":{\"outlinewidth\":0,\"ticks\":\"\"}}],\"histogram2d\":[{\"type\":\"histogram2d\",\"colorbar\":{\"outlinewidth\":0,\"ticks\":\"\"},\"colorscale\":[[0.0,\"#0d0887\"],[0.1111111111111111,\"#46039f\"],[0.2222222222222222,\"#7201a8\"],[0.3333333333333333,\"#9c179e\"],[0.4444444444444444,\"#bd3786\"],[0.5555555555555556,\"#d8576b\"],[0.6666666666666666,\"#ed7953\"],[0.7777777777777778,\"#fb9f3a\"],[0.8888888888888888,\"#fdca26\"],[1.0,\"#f0f921\"]]}],\"heatmap\":[{\"type\":\"heatmap\",\"colorbar\":{\"outlinewidth\":0,\"ticks\":\"\"},\"colorscale\":[[0.0,\"#0d0887\"],[0.1111111111111111,\"#46039f\"],[0.2222222222222222,\"#7201a8\"],[0.3333333333333333,\"#9c179e\"],[0.4444444444444444,\"#bd3786\"],[0.5555555555555556,\"#d8576b\"],[0.6666666666666666,\"#ed7953\"],[0.7777777777777778,\"#fb9f3a\"],[0.8888888888888888,\"#fdca26\"],[1.0,\"#f0f921\"]]}],\"heatmapgl\":[{\"type\":\"heatmapgl\",\"colorbar\":{\"outlinewidth\":0,\"ticks\":\"\"},\"colorscale\":[[0.0,\"#0d0887\"],[0.1111111111111111,\"#46039f\"],[0.2222222222222222,\"#7201a8\"],[0.3333333333333333,\"#9c179e\"],[0.4444444444444444,\"#bd3786\"],[0.5555555555555556,\"#d8576b\"],[0.6666666666666666,\"#ed7953\"],[0.7777777777777778,\"#fb9f3a\"],[0.8888888888888888,\"#fdca26\"],[1.0,\"#f0f921\"]]}],\"contourcarpet\":[{\"type\":\"contourcarpet\",\"colorbar\":{\"outlinewidth\":0,\"ticks\":\"\"}}],\"contour\":[{\"type\":\"contour\",\"colorbar\":{\"outlinewidth\":0,\"ticks\":\"\"},\"colorscale\":[[0.0,\"#0d0887\"],[0.1111111111111111,\"#46039f\"],[0.2222222222222222,\"#7201a8\"],[0.3333333333333333,\"#9c179e\"],[0.4444444444444444,\"#bd3786\"],[0.5555555555555556,\"#d8576b\"],[0.6666666666666666,\"#ed7953\"],[0.7777777777777778,\"#fb9f3a\"],[0.8888888888888888,\"#fdca26\"],[1.0,\"#f0f921\"]]}],\"surface\":[{\"type\":\"surface\",\"colorbar\":{\"outlinewidth\":0,\"ticks\":\"\"},\"colorscale\":[[0.0,\"#0d0887\"],[0.1111111111111111,\"#46039f\"],[0.2222222222222222,\"#7201a8\"],[0.3333333333333333,\"#9c179e\"],[0.4444444444444444,\"#bd3786\"],[0.5555555555555556,\"#d8576b\"],[0.6666666666666666,\"#ed7953\"],[0.7777777777777778,\"#fb9f3a\"],[0.8888888888888888,\"#fdca26\"],[1.0,\"#f0f921\"]]}],\"mesh3d\":[{\"type\":\"mesh3d\",\"colorbar\":{\"outlinewidth\":0,\"ticks\":\"\"}}],\"scatter\":[{\"fillpattern\":{\"fillmode\":\"overlay\",\"size\":10,\"solidity\":0.2},\"type\":\"scatter\"}],\"parcoords\":[{\"type\":\"parcoords\",\"line\":{\"colorbar\":{\"outlinewidth\":0,\"ticks\":\"\"}}}],\"scatterpolargl\":[{\"type\":\"scatterpolargl\",\"marker\":{\"colorbar\":{\"outlinewidth\":0,\"ticks\":\"\"}}}],\"bar\":[{\"error_x\":{\"color\":\"#2a3f5f\"},\"error_y\":{\"color\":\"#2a3f5f\"},\"marker\":{\"line\":{\"color\":\"#E5ECF6\",\"width\":0.5},\"pattern\":{\"fillmode\":\"overlay\",\"size\":10,\"solidity\":0.2}},\"type\":\"bar\"}],\"scattergeo\":[{\"type\":\"scattergeo\",\"marker\":{\"colorbar\":{\"outlinewidth\":0,\"ticks\":\"\"}}}],\"scatterpolar\":[{\"type\":\"scatterpolar\",\"marker\":{\"colorbar\":{\"outlinewidth\":0,\"ticks\":\"\"}}}],\"histogram\":[{\"marker\":{\"pattern\":{\"fillmode\":\"overlay\",\"size\":10,\"solidity\":0.2}},\"type\":\"histogram\"}],\"scattergl\":[{\"type\":\"scattergl\",\"marker\":{\"colorbar\":{\"outlinewidth\":0,\"ticks\":\"\"}}}],\"scatter3d\":[{\"type\":\"scatter3d\",\"line\":{\"colorbar\":{\"outlinewidth\":0,\"ticks\":\"\"}},\"marker\":{\"colorbar\":{\"outlinewidth\":0,\"ticks\":\"\"}}}],\"scattermapbox\":[{\"type\":\"scattermapbox\",\"marker\":{\"colorbar\":{\"outlinewidth\":0,\"ticks\":\"\"}}}],\"scatterternary\":[{\"type\":\"scatterternary\",\"marker\":{\"colorbar\":{\"outlinewidth\":0,\"ticks\":\"\"}}}],\"scattercarpet\":[{\"type\":\"scattercarpet\",\"marker\":{\"colorbar\":{\"outlinewidth\":0,\"ticks\":\"\"}}}],\"carpet\":[{\"aaxis\":{\"endlinecolor\":\"#2a3f5f\",\"gridcolor\":\"white\",\"linecolor\":\"white\",\"minorgridcolor\":\"white\",\"startlinecolor\":\"#2a3f5f\"},\"baxis\":{\"endlinecolor\":\"#2a3f5f\",\"gridcolor\":\"white\",\"linecolor\":\"white\",\"minorgridcolor\":\"white\",\"startlinecolor\":\"#2a3f5f\"},\"type\":\"carpet\"}],\"table\":[{\"cells\":{\"fill\":{\"color\":\"#EBF0F8\"},\"line\":{\"color\":\"white\"}},\"header\":{\"fill\":{\"color\":\"#C8D4E3\"},\"line\":{\"color\":\"white\"}},\"type\":\"table\"}],\"barpolar\":[{\"marker\":{\"line\":{\"color\":\"#E5ECF6\",\"width\":0.5},\"pattern\":{\"fillmode\":\"overlay\",\"size\":10,\"solidity\":0.2}},\"type\":\"barpolar\"}],\"pie\":[{\"automargin\":true,\"type\":\"pie\"}]},\"layout\":{\"autotypenumbers\":\"strict\",\"colorway\":[\"#636efa\",\"#EF553B\",\"#00cc96\",\"#ab63fa\",\"#FFA15A\",\"#19d3f3\",\"#FF6692\",\"#B6E880\",\"#FF97FF\",\"#FECB52\"],\"font\":{\"color\":\"#2a3f5f\"},\"hovermode\":\"closest\",\"hoverlabel\":{\"align\":\"left\"},\"paper_bgcolor\":\"white\",\"plot_bgcolor\":\"#E5ECF6\",\"polar\":{\"bgcolor\":\"#E5ECF6\",\"angularaxis\":{\"gridcolor\":\"white\",\"linecolor\":\"white\",\"ticks\":\"\"},\"radialaxis\":{\"gridcolor\":\"white\",\"linecolor\":\"white\",\"ticks\":\"\"}},\"ternary\":{\"bgcolor\":\"#E5ECF6\",\"aaxis\":{\"gridcolor\":\"white\",\"linecolor\":\"white\",\"ticks\":\"\"},\"baxis\":{\"gridcolor\":\"white\",\"linecolor\":\"white\",\"ticks\":\"\"},\"caxis\":{\"gridcolor\":\"white\",\"linecolor\":\"white\",\"ticks\":\"\"}},\"coloraxis\":{\"colorbar\":{\"outlinewidth\":0,\"ticks\":\"\"}},\"colorscale\":{\"sequential\":[[0.0,\"#0d0887\"],[0.1111111111111111,\"#46039f\"],[0.2222222222222222,\"#7201a8\"],[0.3333333333333333,\"#9c179e\"],[0.4444444444444444,\"#bd3786\"],[0.5555555555555556,\"#d8576b\"],[0.6666666666666666,\"#ed7953\"],[0.7777777777777778,\"#fb9f3a\"],[0.8888888888888888,\"#fdca26\"],[1.0,\"#f0f921\"]],\"sequentialminus\":[[0.0,\"#0d0887\"],[0.1111111111111111,\"#46039f\"],[0.2222222222222222,\"#7201a8\"],[0.3333333333333333,\"#9c179e\"],[0.4444444444444444,\"#bd3786\"],[0.5555555555555556,\"#d8576b\"],[0.6666666666666666,\"#ed7953\"],[0.7777777777777778,\"#fb9f3a\"],[0.8888888888888888,\"#fdca26\"],[1.0,\"#f0f921\"]],\"diverging\":[[0,\"#8e0152\"],[0.1,\"#c51b7d\"],[0.2,\"#de77ae\"],[0.3,\"#f1b6da\"],[0.4,\"#fde0ef\"],[0.5,\"#f7f7f7\"],[0.6,\"#e6f5d0\"],[0.7,\"#b8e186\"],[0.8,\"#7fbc41\"],[0.9,\"#4d9221\"],[1,\"#276419\"]]},\"xaxis\":{\"gridcolor\":\"white\",\"linecolor\":\"white\",\"ticks\":\"\",\"title\":{\"standoff\":15},\"zerolinecolor\":\"white\",\"automargin\":true,\"zerolinewidth\":2},\"yaxis\":{\"gridcolor\":\"white\",\"linecolor\":\"white\",\"ticks\":\"\",\"title\":{\"standoff\":15},\"zerolinecolor\":\"white\",\"automargin\":true,\"zerolinewidth\":2},\"scene\":{\"xaxis\":{\"backgroundcolor\":\"#E5ECF6\",\"gridcolor\":\"white\",\"linecolor\":\"white\",\"showbackground\":true,\"ticks\":\"\",\"zerolinecolor\":\"white\",\"gridwidth\":2},\"yaxis\":{\"backgroundcolor\":\"#E5ECF6\",\"gridcolor\":\"white\",\"linecolor\":\"white\",\"showbackground\":true,\"ticks\":\"\",\"zerolinecolor\":\"white\",\"gridwidth\":2},\"zaxis\":{\"backgroundcolor\":\"#E5ECF6\",\"gridcolor\":\"white\",\"linecolor\":\"white\",\"showbackground\":true,\"ticks\":\"\",\"zerolinecolor\":\"white\",\"gridwidth\":2}},\"shapedefaults\":{\"line\":{\"color\":\"#2a3f5f\"}},\"annotationdefaults\":{\"arrowcolor\":\"#2a3f5f\",\"arrowhead\":0,\"arrowwidth\":1},\"geo\":{\"bgcolor\":\"white\",\"landcolor\":\"#E5ECF6\",\"subunitcolor\":\"white\",\"showland\":true,\"showlakes\":true,\"lakecolor\":\"white\"},\"title\":{\"x\":0.05},\"mapbox\":{\"style\":\"light\"}}},\"xaxis\":{\"anchor\":\"y\",\"domain\":[0.0,1.0],\"scaleanchor\":\"y\",\"constrain\":\"domain\",\"title\":{\"text\":\"Heads (sorted)\"}},\"yaxis\":{\"anchor\":\"x\",\"domain\":[0.0,1.0],\"autorange\":true,\"constrain\":\"domain\",\"title\":{\"text\":\"Layers\"}},\"coloraxis\":{\"colorscale\":[[0.0,\"rgb(103,0,31)\"],[0.1,\"rgb(178,24,43)\"],[0.2,\"rgb(214,96,77)\"],[0.3,\"rgb(244,165,130)\"],[0.4,\"rgb(253,219,199)\"],[0.5,\"rgb(247,247,247)\"],[0.6,\"rgb(209,229,240)\"],[0.7,\"rgb(146,197,222)\"],[0.8,\"rgb(67,147,195)\"],[0.9,\"rgb(33,102,172)\"],[1.0,\"rgb(5,48,97)\"]],\"cmid\":0},\"title\":{\"text\":\"Sorted Probe Accuracies on Capitals\"}},                        {\"responsive\": true}                    ).then(function(){\n",
       "                            \n",
       "var gd = document.getElementById('3c8d2277-06c7-4ffe-a4b1-dd855075c7f0');\n",
       "var x = new MutationObserver(function (mutations, observer) {{\n",
       "        var display = window.getComputedStyle(gd).display;\n",
       "        if (!display || display === 'none') {{\n",
       "            console.log([gd, 'removed!']);\n",
       "            Plotly.purge(gd);\n",
       "            observer.disconnect();\n",
       "        }}\n",
       "}});\n",
       "\n",
       "// Listen for the removal of the full notebook cells\n",
       "var notebookContainer = gd.closest('#notebook-container');\n",
       "if (notebookContainer) {{\n",
       "    x.observe(notebookContainer, {childList: true});\n",
       "}}\n",
       "\n",
       "// Listen for the clearing of the current output cell\n",
       "var outputEl = gd.closest('.output');\n",
       "if (outputEl) {{\n",
       "    x.observe(outputEl, {childList: true});\n",
       "}}\n",
       "\n",
       "                        })                };                });            </script>        </div>"
      ]
     },
     "metadata": {},
     "output_type": "display_data"
    }
   ],
   "source": [
    "a = -np.sort(-np.array(total_accs).reshape(nin_d.model.cfg.n_layers, nin_d.model.cfg.n_heads), axis = 1)\n",
    "\n",
    "px.imshow(a, labels = {\"x\" : \"Heads (sorted)\", \"y\": \"Layers\"},title = \"Sorted Probe Accuracies on Capitals\", color_continuous_midpoint = 0, color_continuous_scale=\"RdBu\", origin = \"lower\")\n"
   ]
  },
  {
   "cell_type": "code",
   "execution_count": null,
   "metadata": {},
   "outputs": [],
   "source": []
  },
  {
   "attachments": {},
   "cell_type": "markdown",
   "metadata": {},
   "source": [
    "# Comparing Probes"
   ]
  },
  {
   "cell_type": "code",
   "execution_count": 103,
   "metadata": {},
   "outputs": [],
   "source": [
    "mlp_bin_probes = torch.load(\"activations/lbg_bin_mlp_probes.pkl\")\n",
    "attn_bin_probes = torch.load(\"activations/lbg_bin_attn_probes.pkl\")\n",
    "resid_bin_probes = torch.load(\"activations/lbg_bin_resid_probes.pkl\")\n",
    "saga_cat_probes = torch.load(\"activations/saga_probes.pkl\")"
   ]
  },
  {
   "cell_type": "code",
   "execution_count": 107,
   "metadata": {},
   "outputs": [
    {
     "data": {
      "text/plain": [
       "(1600,)"
      ]
     },
     "execution_count": 107,
     "metadata": {},
     "output_type": "execute_result"
    }
   ],
   "source": [
    "saga_cat_probes[0].coef_[-1].shape"
   ]
  },
  {
   "cell_type": "code",
   "execution_count": 115,
   "metadata": {},
   "outputs": [
    {
     "data": {
      "application/vnd.plotly.v1+json": {
       "config": {
        "plotlyServerURL": "https://plot.ly"
       },
       "data": [
        {
         "coloraxis": "coloraxis",
         "hovertemplate": "Heads (sorted): %{x}<br>Layers: %{y}<br>color: %{z}<extra></extra>",
         "name": "0",
         "type": "heatmap",
         "xaxis": "x",
         "yaxis": "y",
         "z": [
          [
           0.6585460311073225,
           -0.2881488638370026,
           0.2978081697894569,
           0.3831073559673582,
           0.07193858812537568,
           -0.23800723923097172,
           0.5756937862542101,
           -0.6564416913122214,
           0.3053891486512208,
           -0.13347470228546526,
           0.16463437788549715,
           0.016427801898818626,
           0.5293343162809048,
           -0.09777103196707869,
           0.19752222175087858,
           -0.012056722049159913,
           -0.11270578218954459,
           0.011209720541435014,
           0.4439452167036384,
           0.008730489679147585,
           0.13117694914374095,
           -0.08853162791985515,
           -0.0813033395210166,
           0.16883117282835758,
           0.1641995871876177
          ],
          [
           0.03998189225351128,
           0.4247107669521028,
           0.011361666219048022,
           0.30880846868439027,
           0.7683769334767051,
           0.47261955601457006,
           0.42230595474010096,
           0.07985037070023657,
           0.09706335758949702,
           0.1811513674744948,
           0.19107091840513452,
           0.2600522315914219,
           0.1121487340264832,
           -0.11667828403264648,
           0.21368387683458506,
           0.07243995355150133,
           0.20032971555291224,
           0.22045471831926494,
           0.31851934930528225,
           0.4671321283153179,
           0.111280385162328,
           0.3423509133275333,
           0.262188146818899,
           0.33313091543485907,
           -0.104375798583822
          ],
          [
           0.17769092230122396,
           0.5970436889799111,
           0.041309668857857446,
           -0.05445275358094854,
           -0.12312223863877192,
           0.3383654565078329,
           0.0347095925610279,
           0.17270355420811967,
           -0.08535056699791006,
           -0.2675383692070672,
           -0.05474527707135332,
           0.25224820466375236,
           0.16097085225959454,
           0.09619010754132185,
           0.4774904235107072,
           0.49841601315191664,
           0.018529984548269957,
           -0.09102598761834346,
           0.4176695838722156,
           -0.05121144732437005,
           0.13789800398908314,
           0.0932534565401516,
           -0.13405853162977188,
           0.44976671936325374,
           0.15659424422226725
          ],
          [
           0.2640635760585002,
           -0.007208706258966981,
           0.6649846896112924,
           0.24046417351010518,
           0.09517828953760421,
           0.09933270990167181,
           0.14275684809473052,
           -0.19168556172891638,
           -0.1083741479068666,
           0.08797502521295118,
           0.17428809241826684,
           -0.17459707625628837,
           -0.1539766110115375,
           0.3825059256865716,
           0.15659635673310496,
           0.3868253977552755,
           0.2663664474781236,
           -0.24352734586485192,
           -0.08810811469603239,
           0.21519779821223817,
           -0.2756570412160666,
           -0.43012977535573726,
           0.28150830755114464,
           0.3071279616409199,
           0.5182943691447273
          ],
          [
           0.36262694298888154,
           0.31196732880478206,
           -0.6486635575738262,
           0.21219492031065806,
           -0.021162101189257494,
           0.1995529473699804,
           -0.12775829661562493,
           -0.018106221365060703,
           0.21649123819696126,
           0.3648964976652757,
           0.10490587783311857,
           0.4885843783104608,
           0.12874898496005233,
           0.07222120103642532,
           0.04762867821965845,
           0.05880045953294474,
           0.038255231980009574,
           0.4501956633650579,
           0.02705688802014517,
           -0.0916469935484515,
           0.2208381367792342,
           0.22863152216944116,
           0.3562981590870751,
           0.21426291172697298,
           0.35377625694817627
          ],
          [
           0.228161839041484,
           -0.05049894033928155,
           -0.061695974163852044,
           0.05789293787834082,
           0.5028965580647873,
           0.35714618847127116,
           0.012457667283221226,
           0.13335197285978934,
           0.34989970743614346,
           -0.01090655552583149,
           0.009621382937858542,
           0.7342647534530646,
           -0.1593373547531033,
           0.10686526684206675,
           0.07846253976461504,
           0.2641508050169159,
           0.2759436737858826,
           0.12959635416960016,
           -0.1470052676276573,
           0.03373420618985281,
           -0.19154961038457166,
           0.3748614202610413,
           0.1542556668585899,
           0.19584582012342083,
           0.38761284904088433
          ],
          [
           0.30179644809769823,
           0.0421095670988567,
           0.21537201074267137,
           0.441182508285992,
           0.08522135504266332,
           -0.032995575847116626,
           0.2577722564056991,
           0.16441874875024978,
           0.27532496499899756,
           0.3814541256748466,
           0.34452447723881546,
           0.1677735547053425,
           0.1925658415781328,
           0.03229967669127841,
           -0.20698208496501358,
           0.49757203721439375,
           0.03386067654762127,
           0.06559169209174864,
           0.4597423676955653,
           -0.21535080338856655,
           0.07319722334876141,
           -0.1101751036016673,
           0.22852131712339946,
           0.4150610238895272,
           0.015375661400333878
          ],
          [
           0.11781230780524204,
           0.7178227302434383,
           0.10563088125923034,
           0.0754007381426869,
           0.4853490530751008,
           0.26881324563129766,
           0.3523952178253101,
           0.13626058742582925,
           0.004812957320939579,
           0.5117716420119114,
           0.09742381917174943,
           0.1586311924862376,
           0.051609438456252446,
           0.06984240286602798,
           0.09746974838169233,
           0.38888346122220563,
           0.1463416435949057,
           -0.05009195926560492,
           0.20285624203535588,
           0.30322619190404176,
           0.09641974059686187,
           0.14430702350329963,
           0.48725040847723233,
           0.3345767380504183,
           0.14216513925019075
          ],
          [
           0.05430613834440034,
           0.4853693445848955,
           -0.2748375056354612,
           0.3160049005093265,
           -0.16589611859017497,
           0.2549611923047593,
           0.2508812382130672,
           0.21484591826843474,
           0.3319151212401832,
           0.4001773032811188,
           0.11585625078111171,
           0.25210198692869334,
           0.3889374222515576,
           0.38823014932325156,
           0.3284345770477828,
           0.12386109346288646,
           -0.019617780331699315,
           0.1560158310116226,
           0.20899379601665496,
           -0.0032736531686383577,
           0.18554582738318198,
           0.275553485931441,
           0.10227370665373695,
           0.0910457751542372,
           -0.13997921259743293
          ],
          [
           -0.23431572133190587,
           0.04850640113131765,
           0.04479222276662019,
           0.07189968106765632,
           0.3653306653295838,
           0.5881423385536286,
           0.07972361613329142,
           -0.1752102927290747,
           0.14071416475187343,
           0.27145592971678817,
           -0.09499716652746852,
           0.06369569677261148,
           0.1828159743478991,
           -0.07867456024235993,
           0.18669848080160048,
           0.5264927551135474,
           0.4728983625620019,
           0.17497936850127493,
           0.18143686219797267,
           0.19289503320240997,
           0.3825027864971883,
           0.3417667773957472,
           0.02008601131025122,
           0.34150698391066375,
           0.12555905199229286
          ],
          [
           0.18038093309983283,
           -0.04637900072489293,
           0.2984023335570327,
           0.17199432816276963,
           0.17073094481851783,
           -0.15826410230878724,
           0.19226700592411783,
           -0.23742621079755905,
           0.2323154698402155,
           0.07995153437879104,
           0.3294848968159909,
           0.2890648088860771,
           0.41558923659228253,
           -0.08352093939212163,
           0.33011349002397283,
           -0.1070113049574663,
           -0.03136504725412656,
           0.0954397736728718,
           0.3022025818916597,
           0.35532478517102395,
           0.17285545446776482,
           0.5101632997415346,
           0.2615869695156309,
           0.09500821420228278,
           0.16849861378848852
          ],
          [
           0.10525908190188807,
           -0.044249145986739215,
           0.3276296122093605,
           0.29682691200745653,
           0.08020455991834535,
           0.061502756377423154,
           0.04526820799430384,
           -0.0238592276732949,
           0.4276736014332142,
           0.18906205644570556,
           0.24289409645042193,
           0.187808439739024,
           0.30272872603662293,
           0.5214079043115389,
           0.25257206968906354,
           0.5005840930828511,
           0.1800295062679931,
           0.20671561692091905,
           0.39381740958749045,
           0.4061152603903178,
           0.30456288894646555,
           0.11716011638030369,
           0.03685296127522092,
           0.10034569290181547,
           0.3362022474061015
          ],
          [
           0.21249089338382462,
           0.37970195927805095,
           0.3533625903583093,
           0.16658351198804988,
           0.5152390834977583,
           0.24484238940723782,
           0.0574116760925569,
           0.24758333410958566,
           0.4456042691454129,
           0.14252907771459697,
           0.23397766183085755,
           0.24506371943725097,
           0.47669030341401086,
           0.5775043990371614,
           0.16868488112104205,
           0.4969593338038464,
           0.1997304475278035,
           0.14553623310374222,
           0.18825019280589692,
           0.47970067926626125,
           0.5077653439965034,
           0.14860382355709356,
           0.15863687775253235,
           0.28435055243202684,
           0.32542108048103885
          ],
          [
           0.42327574144162483,
           0.2298876261965409,
           0.42589147570335417,
           0.21804866761394984,
           0.24629810667473986,
           0.15876793145441684,
           0.25610602440070457,
           0.33251250635165763,
           0.33065564612048776,
           0.36089653566152013,
           0.5696672269552173,
           -0.03802342353045742,
           0.2013704705419599,
           0.03365645013508783,
           0.10724650033661876,
           -0.2198475192196816,
           0.05423420231623036,
           0.1621658802995091,
           0.5810022721092061,
           0.6528336671809726,
           0.2207998753847044,
           0.436267404284989,
           0.08463997919819347,
           0.26144666614856993,
           0.388154177079413
          ],
          [
           0.2663460849447389,
           -0.12111004324405597,
           0.21904951129241806,
           0.29371737508834384,
           0.39198306063713517,
           0.4523491866145997,
           0.14817480233863775,
           0.20252463152711295,
           0.32799649055777313,
           0.24859336438848162,
           0.3035188333781876,
           0.08524064180286742,
           0.13158942528573295,
           0.44333911449295194,
           0.30050306954438694,
           0.29911128432418205,
           0.2603078571688614,
           0.3246634272099684,
           0.2103703627743128,
           -0.26466378792890094,
           0.06517263694618942,
           0.3613325545238973,
           0.23128197076373827,
           0.40086676369271657,
           0.25353986404307155
          ],
          [
           0.3588115628697517,
           0.10624819699061337,
           0.2741297853804878,
           0.09716181982541139,
           0.1666117015103466,
           0.28566284180211776,
           0.05444589969752994,
           -0.0039247805582025685,
           0.46478964572130876,
           0.010917420688677348,
           0.3686015809144231,
           0.0729996185681278,
           0.4942827536019396,
           0.2805715347998109,
           0.4045187473042357,
           0.21343329535206318,
           -0.20256083982411338,
           0.38449363911836276,
           0.10894080074204487,
           0.2729485676020106,
           0.13621947763936004,
           0.2697728955938144,
           0.20603559338891106,
           0.5918526299880706,
           0.3509438548497754
          ],
          [
           -0.1093387165666955,
           0.4859870237553461,
           0.10436562035507638,
           0.6046133231977449,
           0.2295295616343525,
           0.20647982213168703,
           0.47815888895450254,
           0.30309729736128066,
           0.25121261304854486,
           0.5389508874176417,
           0.13323763379715942,
           0.4412170856130324,
           0.009915300261022584,
           0.5083939464380496,
           0.15708936037905105,
           0.42182939488018334,
           0.35142868960662066,
           0.3732948172749059,
           -0.09445225949004371,
           0.3395355509134397,
           0.0163111019310674,
           0.37600314691851855,
           0.09192749303872993,
           0.36123791884600615,
           0.3852803802688569
          ],
          [
           0.21411295248738207,
           0.17251094661118255,
           0.39033473754874126,
           0.6543699409662005,
           0.12380835581667973,
           -0.031108795347548627,
           0.38008596854181664,
           0.3108861474034368,
           -0.09733276315429887,
           0.2347726858264603,
           0.26914081542318763,
           0.4833089066919029,
           0.044781560204843876,
           0.2441601886063475,
           0.5173413501941453,
           0.4205741434981711,
           0.47165174152757544,
           0.031443833205383756,
           -0.13769351314880218,
           0.46906595984477195,
           0.07383984390768576,
           0.4761738625665588,
           -0.3138030669555916,
           0.505240495615097,
           0.18096244584776833
          ],
          [
           0.47148139285416635,
           0.04917699442266233,
           -0.01492819647605822,
           0.5668618250017042,
           0.3755133491607483,
           0.4507019206211519,
           0.17732116223534833,
           0.21478600770425912,
           0.453354416050623,
           0.4354207725008569,
           0.09844066533048014,
           0.3562659400258361,
           0.08379594651705896,
           0.23469682255108765,
           -0.06794931402792656,
           -0.051731024720475825,
           0.3799845885887788,
           0.37351019600812513,
           0.25095519708533875,
           0.21183740879407856,
           0.20845924011279138,
           0.09435505798807356,
           0.4852146168221688,
           0.12144970199483418,
           -0.019251942950579776
          ],
          [
           0.6089256007593488,
           0.30098550310271355,
           0.7179464526238699,
           0.21881593706039643,
           0.2723656366983922,
           0.5419431264111667,
           -0.04963781391050629,
           0.3158628243262083,
           0.6667714152107611,
           0.43944591824094575,
           0.3314558046249488,
           0.18217144514783243,
           0.06463583195477779,
           0.7598953233717114,
           0.3302547274233645,
           -0.09139486226075422,
           0.16253016399621292,
           0.26201143091690354,
           0.2917073148173157,
           -0.10779909706185178,
           0.40776806370664226,
           0.3943188545058208,
           0.54076456477937,
           0.024440883321902168,
           0.2322890544436346
          ],
          [
           0.6677942863213105,
           0.43254479523193645,
           0.3993969735866445,
           0.696317731985398,
           0.39172478262234767,
           0.5202975606485598,
           0.6765392420615789,
           0.61792098878434,
           0.583478734179582,
           0.4888456908072252,
           0.04702804758748738,
           0.23982660496692904,
           0.3943696062449738,
           0.5751902588221485,
           0.7042320887596152,
           0.4982298679135926,
           0.617168653280795,
           0.14339098469128397,
           0.5623095609674367,
           0.3414385229800653,
           0.32570709009883114,
           0.394649029457538,
           0.27759772877090416,
           0.3633211381365449,
           0.3032229676110998
          ],
          [
           0.7461316140221887,
           0.23397412363996595,
           0.5839888434586866,
           0.587719570185425,
           0.4253484263676644,
           0.2064833139270792,
           0.5882120763470748,
           0.5085518583890688,
           0.4306219312118069,
           0.5828994792354556,
           -0.042778268361888964,
           0.43060848066999385,
           0.4649068292209063,
           0.24019896135045624,
           0.5632539948535996,
           0.6141497388614212,
           0.5222572640156129,
           0.5235193483256999,
           0.4252308388896877,
           0.28434058544554774,
           0.3722686505686571,
           0.5908571706402835,
           0.5754177862618286,
           0.3460146625892405,
           0.46519241666889427
          ],
          [
           0.41316677449013495,
           0.7381178636845649,
           0.5952013903203074,
           0.42376672636339946,
           0.6128934150514537,
           0.859507369150135,
           0.22075123866054183,
           0.5245878616666145,
           -0.0024584814376409983,
           0.508451111455473,
           0.5684517225549164,
           0.5438046804241985,
           0.2844906682824893,
           0.7756574971708164,
           0.57933376222389,
           0.4450379997323288,
           0.32325254907594714,
           0.27100098529754657,
           0.5714557906180523,
           0.44129485922335876,
           0.2939567464568165,
           0.28775793939262373,
           0.1386654832010862,
           0.4598123867350178,
           0.4044032158473463
          ],
          [
           0.15494211078934716,
           0.2871078576074887,
           0.6921940701693176,
           0.5727860608257636,
           0.6897909392606314,
           0.6042744024362998,
           0.608030838388364,
           0.6004470039683372,
           0.6917497533190505,
           0.4639717907116236,
           0.08481430814998957,
           0.15729492147459206,
           0.291902893248803,
           0.5425475048832646,
           0.3162004603432845,
           0.5937562390564974,
           0.47528812906161033,
           0.4952976657824781,
           0.2021281589800901,
           0.4770483781191178,
           0.21446436285415804,
           0.47655640720605974,
           0.41755560558422505,
           0.6709139203710756,
           0.7533187975770537
          ],
          [
           0.8986465956351163,
           0.5216185296575764,
           0.6283470629405304,
           0.4607845790780739,
           0.1714081062625094,
           0.29850981532546667,
           0.4151608040147874,
           0.6637015752477411,
           0.5979168938105397,
           0.39634195029370417,
           0.11021982999659374,
           0.3795998316851744,
           0.5042626653392954,
           0.5346818832861829,
           0.3636847186367746,
           0.6037358782951481,
           -0.051891272690261794,
           0.7504493236977873,
           0.5983763003889225,
           0.52285197205572,
           0.5484323293110607,
           0.38160117638200514,
           0.6189856123849631,
           0.04364563863309867,
           0.7038267827981644
          ],
          [
           0.5361597592006049,
           0.5640349529712048,
           0.5356223750817708,
           0.588178411050552,
           0.5232315162203796,
           0.7106916255661682,
           0.5016906601985318,
           0.7233980397179802,
           0.7007978123370088,
           0.7172173017894802,
           0.4839215925450163,
           0.7436880486518701,
           0.6662615201177733,
           0.5043995998348488,
           0.4425771690454306,
           0.5917633986537247,
           0.3818086254456588,
           0.19376302175474946,
           0.2602614040533512,
           0.5698450780787989,
           0.8213897115290998,
           0.24718538124560555,
           0.36621728155537764,
           0.17705357673604272,
           0.6178689681802857
          ],
          [
           0.43325574381255305,
           0.5262758021035271,
           0.830779599936634,
           0.7354267034921107,
           0.6142761235036835,
           0.7108648441681382,
           0.6813174022108509,
           0.32623353128812826,
           0.0813118916086558,
           0.6813949658941707,
           0.4210701810580308,
           0.5731613709984911,
           0.6595332071635773,
           0.680043225530223,
           0.4064122665475133,
           0.4840314220480131,
           0.2746742076980999,
           0.411793465160593,
           0.5901373170303764,
           0.3477813167285485,
           0.35239850247695914,
           0.6279947203929575,
           0.4796966578563049,
           0.6704739668935081,
           0.526287868106181
          ],
          [
           0.7418792949720618,
           0.603925762220775,
           0.5031060310032023,
           0.42764351193308014,
           0.7424236402405668,
           0.11782657538525676,
           0.7361682803937719,
           0.7967941543313348,
           0.9117008264207678,
           0.7094886634693,
           0.7233027288002358,
           0.5818261299575007,
           0.5147886770943839,
           0.34102131470966535,
           0.5180858026759303,
           0.6606740491627018,
           0.7405601725445672,
           0.6576114748227306,
           0.5047502622547777,
           0.6495411100222649,
           0.5836254817911243,
           0.6055740781438217,
           0.45879218006752187,
           0.6227133041829183,
           0.3732675633672217
          ],
          [
           0.4352071506272187,
           0.5444360181849353,
           0.6957544512851955,
           0.24061860737403967,
           0.44840105361057475,
           0.9639694463939694,
           0.5281358147010478,
           0.6045976701811968,
           0.7871840711655743,
           0.7080219612764272,
           0.7817392095912563,
           0.20439158780823596,
           0.8149340050633501,
           0.8244713642390481,
           0.35411247088474374,
           0.1800130237948753,
           0.7975087028325691,
           0.6247098138362304,
           0.09812153632906966,
           0.483501322023298,
           0.6752550397615227,
           0.46484180301044187,
           0.2637650821161954,
           0.5028934204351653,
           0.4851876301803042
          ],
          [
           0.604952175373469,
           0.4931793665671665,
           0.32236683626564683,
           0.3694218966741455,
           0.5008700846231795,
           0.20200252108516265,
           0.3622167392492287,
           0.03671119531808255,
           -0.11842629432205293,
           0.3663702261885653,
           0.6819813873641111,
           0.29585469654074265,
           0.554440243175616,
           0.4905441111164418,
           0.22247214038503985,
           0.4743965702613028,
           0.5166726740554561,
           0.4783504523593628,
           0.25815754921242784,
           0.050267111069937205,
           0.35491662865085516,
           0.4036712294110336,
           0.5908459832592098,
           0.30647256668620043,
           0.1416825735612799
          ],
          [
           0.46286722896638594,
           0.4817418097261127,
           0.6929324028360394,
           0.34133773373144904,
           0.5236802822197997,
           0.3570463314475739,
           0.35137805203013456,
           0.6988792492866838,
           -0.1597463182162428,
           0.45501036258207966,
           0.47926630041435225,
           0.47527373009563356,
           0.797503237353682,
           0.22287163930036635,
           0.7043536222262676,
           0.6195638318567943,
           0.1921327683920318,
           0.5962189835279158,
           0.6312446049093452,
           0.3756200178799688,
           0.5112331344672343,
           0.07473548640681527,
           0.4186989214608719,
           -0.06812485619636073,
           0.2634312247509299
          ],
          [
           0.3433229233838727,
           0.5986087062334314,
           0.452041159860923,
           0.27020378498279896,
           0.08262537898042012,
           0.4755839137394624,
           0.5195332238091067,
           0.03386570949742239,
           -0.13456897640058355,
           0.46688689889612667,
           0.3460029162679459,
           -0.08964293004608886,
           0.593193967535846,
           0.5312394388148105,
           0.494359073845082,
           0.30856495157629327,
           0.08645380823285242,
           0.46411549122593354,
           0.481396223541004,
           0.38228628982680096,
           0.4787682922824046,
           0.7899294055302926,
           0.5537510241250118,
           0.28897908404763606,
           0.41763256815260935
          ],
          [
           0.5110273752753545,
           0.10877344667410542,
           0.38626041582504916,
           0.345629396561025,
           0.22155676176448685,
           0.46569329527397585,
           -0.03574335849773269,
           0.38648138887256606,
           0.40702898136014076,
           0.39539827069877687,
           0.311076396446604,
           0.23542390269712635,
           0.2490753424413031,
           0.015244124061196691,
           0.6155053825879502,
           0.3338932525335957,
           0.6254418058662852,
           0.49978731740007404,
           0.370171084364994,
           0.2763376806410276,
           0.2627314241131204,
           0.5304658015297656,
           0.6379608029178009,
           0.5976319636966942,
           0.7222269742708328
          ],
          [
           0.3189978621324797,
           0.3191044639062015,
           0.1391990443063465,
           0.7014125775298705,
           0.22010931931206904,
           0.556296890193124,
           0.5564957894849234,
           -0.1340029188913916,
           0.6540628676868677,
           0.3781414225036536,
           0.25255572403072085,
           0.5592476996970277,
           0.16363406507569805,
           0.05065643212255289,
           0.04961213270331396,
           0.41433657601812135,
           0.510870702168754,
           0.19199195654621698,
           -0.04536498646501443,
           0.4356454089246338,
           0.5371964668763729,
           0.1344857759238072,
           0.5241293775577671,
           0.6695486933436008,
           0.5616899688412437
          ],
          [
           0.8041547253879373,
           0.38169430019714157,
           0.18761849056605895,
           0.7806639522163945,
           0.17165663675162562,
           0.11891401685456368,
           0.5854008214909954,
           0.0888969366078658,
           0.17133195516173022,
           0.30972323670312174,
           0.039371343776342126,
           0.06421426345405044,
           0.5033441800834414,
           0.24094785470950142,
           0.6782822070973648,
           -0.1145171068431281,
           0.2520582412081368,
           0.03162229437151383,
           0.6774381283971221,
           0.21815599994634186,
           0.0012973416576423733,
           0.2670733729689562,
           0.46055084426126897,
           0.746657297884056,
           0.0462154578015187
          ],
          [
           -0.044325154709700054,
           0.5047181546089649,
           0.4671672945361298,
           0.40394761896197706,
           0.31479092380954465,
           0.36197057128192034,
           0.34118121234080684,
           0.21933169054070234,
           -0.08478561324650508,
           0.019886874888674435,
           0.713307606049361,
           0.14881862732777806,
           0.4278051211097883,
           0.6209012966629001,
           0.31657116214750813,
           0.2009844846358396,
           0.3026648859816023,
           -0.09035390830753245,
           0.5808330711588214,
           0.15744680143093215,
           0.48662735658098677,
           0.43572783916236,
           0.10320783363455799,
           0.49373426830255257,
           0.059877461020872005
          ],
          [
           0.547857976714954,
           0.21222022606614988,
           -0.03741122450085746,
           0.18120151204740015,
           0.009582748346421484,
           0.3179486950553725,
           -0.0195212853913327,
           -0.32039009518618006,
           0.5548844070066772,
           0.48513986940379494,
           0.20740176275538985,
           0.8515458438027415,
           0.5808211578153624,
           0.1538482660017445,
           0.3442655045954341,
           0.2866613597987556,
           0.6653215319875769,
           -0.09561382110362743,
           0.039162603665608656,
           0.23576447409699508,
           0.4474753398727377,
           0.31680691743087286,
           0.6405316632553297,
           0.47524060752228336,
           0.332230883271936
          ],
          [
           -0.020669436023394862,
           0.6181449779728758,
           0.3972384745740273,
           0.1030763387623639,
           0.06799480255900034,
           0.6048727215347239,
           0.4282886275305272,
           -0.05280593416410423,
           0.2169946381783363,
           0.5771477270674554,
           0.14056596187686698,
           0.40823386103651216,
           0.21555804903625586,
           0.2931388746154551,
           0.05889174217661321,
           0.6304540865216426,
           0.5932576936435221,
           0.3468151972889922,
           0.3245810433935089,
           0.25998855379092145,
           0.46402233749262345,
           0.3728552825190766,
           0.1523797020363388,
           0.21030741771881503,
           -0.1388631817869212
          ],
          [
           0.16176064282760694,
           0.07563242629226734,
           -0.08096280020013535,
           0.3677635255745576,
           0.17091403568663976,
           0.4047761876813908,
           0.30854174872628004,
           0.2260139360755716,
           0.24707818365876638,
           0.11607568190772817,
           -0.14663157070969746,
           0.02509379786124995,
           0.027861929850948125,
           0.08793676667789103,
           0.10855542811808573,
           0.2623220411923333,
           0.12512235739594652,
           0.04818127196360521,
           0.3788250423728491,
           0.2579116367169209,
           0.4979700040094774,
           0.18809675845483978,
           0.3045081980501817,
           0.26700642030836685,
           0.15609886160835823
          ],
          [
           0.15737763251812778,
           0.4547300236670764,
           0.1662973382966647,
           0.25656005853602726,
           0.544927983171085,
           0.12434504405554458,
           0.4568436813256902,
           0.17190890150540003,
           0.31773709138303996,
           -0.07399185646954255,
           0.06336610916283746,
           0.3718654947860321,
           0.24001240385410544,
           0.48444152635655663,
           0.22383101264976105,
           0.28988334396130316,
           0.08049207649234918,
           0.47394135949308347,
           0.3415027970982068,
           0.36445268209299075,
           0.16435322538785288,
           0.03829968171779989,
           0.0560279216679372,
           -0.04636196673482022,
           0.14221707849297904
          ],
          [
           0.04105383868221072,
           0.31736429569767854,
           -0.07443179519742577,
           0.16807691583778744,
           0.40407422448769037,
           0.3226152626649278,
           0.15820971559899807,
           0.2683569385794047,
           0.6702924327146375,
           0.09226369769042832,
           0.085251967585226,
           0.17235034432983018,
           -0.3376705745102655,
           -0.02735348317610965,
           0.3861269280323868,
           0.43320054805961045,
           0.203809011001031,
           -0.005437070424742688,
           0.12191933580134688,
           0.01908248824172413,
           0.1830388640344126,
           0.25892847076281716,
           0.2213414090262899,
           0.10026304955079296,
           0.31919070732782967
          ],
          [
           0.13806646754346813,
           0.15570583502150873,
           0.2191524276530004,
           0.537245639882282,
           -0.2041983746018623,
           -0.0187254710756092,
           0.1849286144870213,
           0.2893213652584229,
           0.43669366927941033,
           0.1524855860949554,
           0.44727769041627696,
           0.11216874948244597,
           0.20104106534524369,
           0.3322843880489088,
           0.0674568198427443,
           0.4210741662948551,
           0.012351396210749717,
           0.34307924078271973,
           0.10975462937991784,
           0.3502341528472965,
           0.06189561573652488,
           0.10941623377582849,
           0.3910668722433891,
           0.30049091598132394,
           0.6445171016722944
          ],
          [
           0.6646102457085724,
           0.3234458349849366,
           0.320379977798089,
           0.24025170360699533,
           0.44996620875381077,
           0.3034290963531154,
           0.1301281547327597,
           0.008301891664116344,
           -0.1269208315214832,
           0.1663390511696235,
           0.42548810720297564,
           0.07413910488512537,
           0.20966661644375734,
           0.17675726342145986,
           0.7531740325134695,
           0.4005387088640624,
           0.24625317396481555,
           0.36405061171792974,
           0.5072884011843943,
           0.3158767806518075,
           0.2952139447729885,
           0.04929242521681876,
           0.14343337932042274,
           0.624120434539698,
           -0.35053679171797897
          ],
          [
           0.7346662030296951,
           0.3038107399505755,
           -0.3135989714451236,
           0.7067491546149242,
           0.186276460321385,
           0.4412543785818636,
           0.21847304878738866,
           -0.13651102983264862,
           0.12453016039063278,
           0.7638476954045519,
           0.2973090399356695,
           -0.02382275838270248,
           0.40297071139405116,
           0.11424276224961659,
           0.09470814756960946,
           0.0770859211168865,
           0.3789023385658602,
           0.37545476357657637,
           -0.05148499700959673,
           0.25629380003152835,
           0.3901487866040642,
           0.12836762544169916,
           0.41175083532305157,
           -0.03040413893916566,
           0.5049135354656366
          ],
          [
           -0.02646326134859791,
           -0.20258551698214708,
           0.2507033715646861,
           0.2848713925429408,
           0.3633211933262352,
           0.12609443212158847,
           0.2201278894409101,
           -0.05177954798178068,
           0.029731217422503765,
           0.05473074156544826,
           0.21635340342234943,
           -0.033769912185438906,
           0.18352796078780115,
           0.10067038199464384,
           0.08256500067984032,
           0.2698984982087026,
           0.2807423153505125,
           0.04135262711890858,
           -0.0744088573212577,
           0.3248446545104149,
           0.22070700311404823,
           -0.05960129764873543,
           -0.1656676862550312,
           0.07559459232506122,
           0.2867759004791723
          ],
          [
           0.197652977110293,
           0.10294323642335787,
           0.2504727756506194,
           0.15497538857463478,
           -0.009995580539274464,
           0.5530776944515199,
           0.01934258811570501,
           0.048668201881627834,
           -0.24421118023266342,
           0.022303659253275383,
           0.27989403495279763,
           0.10064243072885462,
           0.2642244599728413,
           0.2791149711460332,
           0.22546340794887845,
           0.28168158706270546,
           0.08122672277376405,
           -0.03559010402651319,
           -0.03951680221331602,
           0.025305450569408673,
           0.23519894441583566,
           0.22371391143434477,
           0.05074074096803881,
           -0.04144777899613904,
           0.3892321930058069
          ],
          [
           0.11842816630924598,
           0.16864437086639078,
           0.21259443939978528,
           0.22344423842717687,
           0.1784413445707163,
           0.5082106203055465,
           -0.05746462921875866,
           -0.000692828592112657,
           0.2848315451323634,
           0.26706389431193395,
           0.07954322547406839,
           0.003914038538339628,
           0.06579732950482417,
           0.11869148956392328,
           0.15344377821849836,
           -0.07783097708379312,
           0.11512907367924127,
           0.059069459941103124,
           -0.05038295098993205,
           -0.03216202344807328,
           0.1305462569959365,
           0.15532469275208488,
           0.16347296312186385,
           -0.0010352794818595792,
           0.11855152403284816
          ],
          [
           0.27954358521360667,
           0.2752334517315775,
           0.07404452299498891,
           0.14932929999304875,
           0.1312296043131992,
           0.08501538944963799,
           0.12227341418141852,
           0.46456260631824364,
           0.18237423724974217,
           0.07185553585518432,
           0.12669947473799476,
           0.24768755641375134,
           0.3966769981593135,
           0.16682113603160684,
           0.014380388075160247,
           0.08647579561835743,
           0.23815538373309555,
           0.13989308423428792,
           0.2583151876999173,
           -0.18533382487337574,
           0.10907569890837801,
           -0.06451050750363604,
           -0.01909419031034195,
           0.29704988396236354,
           0.23851405760505656
          ]
         ]
        }
       ],
       "layout": {
        "coloraxis": {
         "cmid": 0,
         "colorscale": [
          [
           0,
           "rgb(103,0,31)"
          ],
          [
           0.1,
           "rgb(178,24,43)"
          ],
          [
           0.2,
           "rgb(214,96,77)"
          ],
          [
           0.3,
           "rgb(244,165,130)"
          ],
          [
           0.4,
           "rgb(253,219,199)"
          ],
          [
           0.5,
           "rgb(247,247,247)"
          ],
          [
           0.6,
           "rgb(209,229,240)"
          ],
          [
           0.7,
           "rgb(146,197,222)"
          ],
          [
           0.8,
           "rgb(67,147,195)"
          ],
          [
           0.9,
           "rgb(33,102,172)"
          ],
          [
           1,
           "rgb(5,48,97)"
          ]
         ]
        },
        "template": {
         "data": {
          "bar": [
           {
            "error_x": {
             "color": "#2a3f5f"
            },
            "error_y": {
             "color": "#2a3f5f"
            },
            "marker": {
             "line": {
              "color": "#E5ECF6",
              "width": 0.5
             },
             "pattern": {
              "fillmode": "overlay",
              "size": 10,
              "solidity": 0.2
             }
            },
            "type": "bar"
           }
          ],
          "barpolar": [
           {
            "marker": {
             "line": {
              "color": "#E5ECF6",
              "width": 0.5
             },
             "pattern": {
              "fillmode": "overlay",
              "size": 10,
              "solidity": 0.2
             }
            },
            "type": "barpolar"
           }
          ],
          "carpet": [
           {
            "aaxis": {
             "endlinecolor": "#2a3f5f",
             "gridcolor": "white",
             "linecolor": "white",
             "minorgridcolor": "white",
             "startlinecolor": "#2a3f5f"
            },
            "baxis": {
             "endlinecolor": "#2a3f5f",
             "gridcolor": "white",
             "linecolor": "white",
             "minorgridcolor": "white",
             "startlinecolor": "#2a3f5f"
            },
            "type": "carpet"
           }
          ],
          "choropleth": [
           {
            "colorbar": {
             "outlinewidth": 0,
             "ticks": ""
            },
            "type": "choropleth"
           }
          ],
          "contour": [
           {
            "colorbar": {
             "outlinewidth": 0,
             "ticks": ""
            },
            "colorscale": [
             [
              0,
              "#0d0887"
             ],
             [
              0.1111111111111111,
              "#46039f"
             ],
             [
              0.2222222222222222,
              "#7201a8"
             ],
             [
              0.3333333333333333,
              "#9c179e"
             ],
             [
              0.4444444444444444,
              "#bd3786"
             ],
             [
              0.5555555555555556,
              "#d8576b"
             ],
             [
              0.6666666666666666,
              "#ed7953"
             ],
             [
              0.7777777777777778,
              "#fb9f3a"
             ],
             [
              0.8888888888888888,
              "#fdca26"
             ],
             [
              1,
              "#f0f921"
             ]
            ],
            "type": "contour"
           }
          ],
          "contourcarpet": [
           {
            "colorbar": {
             "outlinewidth": 0,
             "ticks": ""
            },
            "type": "contourcarpet"
           }
          ],
          "heatmap": [
           {
            "colorbar": {
             "outlinewidth": 0,
             "ticks": ""
            },
            "colorscale": [
             [
              0,
              "#0d0887"
             ],
             [
              0.1111111111111111,
              "#46039f"
             ],
             [
              0.2222222222222222,
              "#7201a8"
             ],
             [
              0.3333333333333333,
              "#9c179e"
             ],
             [
              0.4444444444444444,
              "#bd3786"
             ],
             [
              0.5555555555555556,
              "#d8576b"
             ],
             [
              0.6666666666666666,
              "#ed7953"
             ],
             [
              0.7777777777777778,
              "#fb9f3a"
             ],
             [
              0.8888888888888888,
              "#fdca26"
             ],
             [
              1,
              "#f0f921"
             ]
            ],
            "type": "heatmap"
           }
          ],
          "heatmapgl": [
           {
            "colorbar": {
             "outlinewidth": 0,
             "ticks": ""
            },
            "colorscale": [
             [
              0,
              "#0d0887"
             ],
             [
              0.1111111111111111,
              "#46039f"
             ],
             [
              0.2222222222222222,
              "#7201a8"
             ],
             [
              0.3333333333333333,
              "#9c179e"
             ],
             [
              0.4444444444444444,
              "#bd3786"
             ],
             [
              0.5555555555555556,
              "#d8576b"
             ],
             [
              0.6666666666666666,
              "#ed7953"
             ],
             [
              0.7777777777777778,
              "#fb9f3a"
             ],
             [
              0.8888888888888888,
              "#fdca26"
             ],
             [
              1,
              "#f0f921"
             ]
            ],
            "type": "heatmapgl"
           }
          ],
          "histogram": [
           {
            "marker": {
             "pattern": {
              "fillmode": "overlay",
              "size": 10,
              "solidity": 0.2
             }
            },
            "type": "histogram"
           }
          ],
          "histogram2d": [
           {
            "colorbar": {
             "outlinewidth": 0,
             "ticks": ""
            },
            "colorscale": [
             [
              0,
              "#0d0887"
             ],
             [
              0.1111111111111111,
              "#46039f"
             ],
             [
              0.2222222222222222,
              "#7201a8"
             ],
             [
              0.3333333333333333,
              "#9c179e"
             ],
             [
              0.4444444444444444,
              "#bd3786"
             ],
             [
              0.5555555555555556,
              "#d8576b"
             ],
             [
              0.6666666666666666,
              "#ed7953"
             ],
             [
              0.7777777777777778,
              "#fb9f3a"
             ],
             [
              0.8888888888888888,
              "#fdca26"
             ],
             [
              1,
              "#f0f921"
             ]
            ],
            "type": "histogram2d"
           }
          ],
          "histogram2dcontour": [
           {
            "colorbar": {
             "outlinewidth": 0,
             "ticks": ""
            },
            "colorscale": [
             [
              0,
              "#0d0887"
             ],
             [
              0.1111111111111111,
              "#46039f"
             ],
             [
              0.2222222222222222,
              "#7201a8"
             ],
             [
              0.3333333333333333,
              "#9c179e"
             ],
             [
              0.4444444444444444,
              "#bd3786"
             ],
             [
              0.5555555555555556,
              "#d8576b"
             ],
             [
              0.6666666666666666,
              "#ed7953"
             ],
             [
              0.7777777777777778,
              "#fb9f3a"
             ],
             [
              0.8888888888888888,
              "#fdca26"
             ],
             [
              1,
              "#f0f921"
             ]
            ],
            "type": "histogram2dcontour"
           }
          ],
          "mesh3d": [
           {
            "colorbar": {
             "outlinewidth": 0,
             "ticks": ""
            },
            "type": "mesh3d"
           }
          ],
          "parcoords": [
           {
            "line": {
             "colorbar": {
              "outlinewidth": 0,
              "ticks": ""
             }
            },
            "type": "parcoords"
           }
          ],
          "pie": [
           {
            "automargin": true,
            "type": "pie"
           }
          ],
          "scatter": [
           {
            "fillpattern": {
             "fillmode": "overlay",
             "size": 10,
             "solidity": 0.2
            },
            "type": "scatter"
           }
          ],
          "scatter3d": [
           {
            "line": {
             "colorbar": {
              "outlinewidth": 0,
              "ticks": ""
             }
            },
            "marker": {
             "colorbar": {
              "outlinewidth": 0,
              "ticks": ""
             }
            },
            "type": "scatter3d"
           }
          ],
          "scattercarpet": [
           {
            "marker": {
             "colorbar": {
              "outlinewidth": 0,
              "ticks": ""
             }
            },
            "type": "scattercarpet"
           }
          ],
          "scattergeo": [
           {
            "marker": {
             "colorbar": {
              "outlinewidth": 0,
              "ticks": ""
             }
            },
            "type": "scattergeo"
           }
          ],
          "scattergl": [
           {
            "marker": {
             "colorbar": {
              "outlinewidth": 0,
              "ticks": ""
             }
            },
            "type": "scattergl"
           }
          ],
          "scattermapbox": [
           {
            "marker": {
             "colorbar": {
              "outlinewidth": 0,
              "ticks": ""
             }
            },
            "type": "scattermapbox"
           }
          ],
          "scatterpolar": [
           {
            "marker": {
             "colorbar": {
              "outlinewidth": 0,
              "ticks": ""
             }
            },
            "type": "scatterpolar"
           }
          ],
          "scatterpolargl": [
           {
            "marker": {
             "colorbar": {
              "outlinewidth": 0,
              "ticks": ""
             }
            },
            "type": "scatterpolargl"
           }
          ],
          "scatterternary": [
           {
            "marker": {
             "colorbar": {
              "outlinewidth": 0,
              "ticks": ""
             }
            },
            "type": "scatterternary"
           }
          ],
          "surface": [
           {
            "colorbar": {
             "outlinewidth": 0,
             "ticks": ""
            },
            "colorscale": [
             [
              0,
              "#0d0887"
             ],
             [
              0.1111111111111111,
              "#46039f"
             ],
             [
              0.2222222222222222,
              "#7201a8"
             ],
             [
              0.3333333333333333,
              "#9c179e"
             ],
             [
              0.4444444444444444,
              "#bd3786"
             ],
             [
              0.5555555555555556,
              "#d8576b"
             ],
             [
              0.6666666666666666,
              "#ed7953"
             ],
             [
              0.7777777777777778,
              "#fb9f3a"
             ],
             [
              0.8888888888888888,
              "#fdca26"
             ],
             [
              1,
              "#f0f921"
             ]
            ],
            "type": "surface"
           }
          ],
          "table": [
           {
            "cells": {
             "fill": {
              "color": "#EBF0F8"
             },
             "line": {
              "color": "white"
             }
            },
            "header": {
             "fill": {
              "color": "#C8D4E3"
             },
             "line": {
              "color": "white"
             }
            },
            "type": "table"
           }
          ]
         },
         "layout": {
          "annotationdefaults": {
           "arrowcolor": "#2a3f5f",
           "arrowhead": 0,
           "arrowwidth": 1
          },
          "autotypenumbers": "strict",
          "coloraxis": {
           "colorbar": {
            "outlinewidth": 0,
            "ticks": ""
           }
          },
          "colorscale": {
           "diverging": [
            [
             0,
             "#8e0152"
            ],
            [
             0.1,
             "#c51b7d"
            ],
            [
             0.2,
             "#de77ae"
            ],
            [
             0.3,
             "#f1b6da"
            ],
            [
             0.4,
             "#fde0ef"
            ],
            [
             0.5,
             "#f7f7f7"
            ],
            [
             0.6,
             "#e6f5d0"
            ],
            [
             0.7,
             "#b8e186"
            ],
            [
             0.8,
             "#7fbc41"
            ],
            [
             0.9,
             "#4d9221"
            ],
            [
             1,
             "#276419"
            ]
           ],
           "sequential": [
            [
             0,
             "#0d0887"
            ],
            [
             0.1111111111111111,
             "#46039f"
            ],
            [
             0.2222222222222222,
             "#7201a8"
            ],
            [
             0.3333333333333333,
             "#9c179e"
            ],
            [
             0.4444444444444444,
             "#bd3786"
            ],
            [
             0.5555555555555556,
             "#d8576b"
            ],
            [
             0.6666666666666666,
             "#ed7953"
            ],
            [
             0.7777777777777778,
             "#fb9f3a"
            ],
            [
             0.8888888888888888,
             "#fdca26"
            ],
            [
             1,
             "#f0f921"
            ]
           ],
           "sequentialminus": [
            [
             0,
             "#0d0887"
            ],
            [
             0.1111111111111111,
             "#46039f"
            ],
            [
             0.2222222222222222,
             "#7201a8"
            ],
            [
             0.3333333333333333,
             "#9c179e"
            ],
            [
             0.4444444444444444,
             "#bd3786"
            ],
            [
             0.5555555555555556,
             "#d8576b"
            ],
            [
             0.6666666666666666,
             "#ed7953"
            ],
            [
             0.7777777777777778,
             "#fb9f3a"
            ],
            [
             0.8888888888888888,
             "#fdca26"
            ],
            [
             1,
             "#f0f921"
            ]
           ]
          },
          "colorway": [
           "#636efa",
           "#EF553B",
           "#00cc96",
           "#ab63fa",
           "#FFA15A",
           "#19d3f3",
           "#FF6692",
           "#B6E880",
           "#FF97FF",
           "#FECB52"
          ],
          "font": {
           "color": "#2a3f5f"
          },
          "geo": {
           "bgcolor": "white",
           "lakecolor": "white",
           "landcolor": "#E5ECF6",
           "showlakes": true,
           "showland": true,
           "subunitcolor": "white"
          },
          "hoverlabel": {
           "align": "left"
          },
          "hovermode": "closest",
          "mapbox": {
           "style": "light"
          },
          "paper_bgcolor": "white",
          "plot_bgcolor": "#E5ECF6",
          "polar": {
           "angularaxis": {
            "gridcolor": "white",
            "linecolor": "white",
            "ticks": ""
           },
           "bgcolor": "#E5ECF6",
           "radialaxis": {
            "gridcolor": "white",
            "linecolor": "white",
            "ticks": ""
           }
          },
          "scene": {
           "xaxis": {
            "backgroundcolor": "#E5ECF6",
            "gridcolor": "white",
            "gridwidth": 2,
            "linecolor": "white",
            "showbackground": true,
            "ticks": "",
            "zerolinecolor": "white"
           },
           "yaxis": {
            "backgroundcolor": "#E5ECF6",
            "gridcolor": "white",
            "gridwidth": 2,
            "linecolor": "white",
            "showbackground": true,
            "ticks": "",
            "zerolinecolor": "white"
           },
           "zaxis": {
            "backgroundcolor": "#E5ECF6",
            "gridcolor": "white",
            "gridwidth": 2,
            "linecolor": "white",
            "showbackground": true,
            "ticks": "",
            "zerolinecolor": "white"
           }
          },
          "shapedefaults": {
           "line": {
            "color": "#2a3f5f"
           }
          },
          "ternary": {
           "aaxis": {
            "gridcolor": "white",
            "linecolor": "white",
            "ticks": ""
           },
           "baxis": {
            "gridcolor": "white",
            "linecolor": "white",
            "ticks": ""
           },
           "bgcolor": "#E5ECF6",
           "caxis": {
            "gridcolor": "white",
            "linecolor": "white",
            "ticks": ""
           }
          },
          "title": {
           "x": 0.05
          },
          "xaxis": {
           "automargin": true,
           "gridcolor": "white",
           "linecolor": "white",
           "ticks": "",
           "title": {
            "standoff": 15
           },
           "zerolinecolor": "white",
           "zerolinewidth": 2
          },
          "yaxis": {
           "automargin": true,
           "gridcolor": "white",
           "linecolor": "white",
           "ticks": "",
           "title": {
            "standoff": 15
           },
           "zerolinecolor": "white",
           "zerolinewidth": 2
          }
         }
        },
        "title": {
         "text": "CosSim of Cat/Bin"
        },
        "xaxis": {
         "anchor": "y",
         "constrain": "domain",
         "domain": [
          0,
          1
         ],
         "scaleanchor": "y",
         "title": {
          "text": "Heads (sorted)"
         }
        },
        "yaxis": {
         "anchor": "x",
         "autorange": true,
         "constrain": "domain",
         "domain": [
          0,
          1
         ],
         "title": {
          "text": "Layers"
         }
        }
       }
      },
      "text/html": [
       "<div>                            <div id=\"2caae13f-3e5c-4adc-aec5-f7e98666c3b2\" class=\"plotly-graph-div\" style=\"height:525px; width:100%;\"></div>            <script type=\"text/javascript\">                require([\"plotly\"], function(Plotly) {                    window.PLOTLYENV=window.PLOTLYENV || {};                                    if (document.getElementById(\"2caae13f-3e5c-4adc-aec5-f7e98666c3b2\")) {                    Plotly.newPlot(                        \"2caae13f-3e5c-4adc-aec5-f7e98666c3b2\",                        [{\"coloraxis\":\"coloraxis\",\"name\":\"0\",\"z\":[[0.6585460311073225,-0.2881488638370026,0.2978081697894569,0.3831073559673582,0.07193858812537568,-0.23800723923097172,0.5756937862542101,-0.6564416913122214,0.3053891486512208,-0.13347470228546526,0.16463437788549715,0.016427801898818626,0.5293343162809048,-0.09777103196707869,0.19752222175087858,-0.012056722049159913,-0.11270578218954459,0.011209720541435014,0.4439452167036384,0.008730489679147585,0.13117694914374095,-0.08853162791985515,-0.0813033395210166,0.16883117282835758,0.1641995871876177],[0.03998189225351128,0.4247107669521028,0.011361666219048022,0.30880846868439027,0.7683769334767051,0.47261955601457006,0.42230595474010096,0.07985037070023657,0.09706335758949702,0.1811513674744948,0.19107091840513452,0.2600522315914219,0.1121487340264832,-0.11667828403264648,0.21368387683458506,0.07243995355150133,0.20032971555291224,0.22045471831926494,0.31851934930528225,0.4671321283153179,0.111280385162328,0.3423509133275333,0.262188146818899,0.33313091543485907,-0.104375798583822],[0.17769092230122396,0.5970436889799111,0.041309668857857446,-0.05445275358094854,-0.12312223863877192,0.3383654565078329,0.0347095925610279,0.17270355420811967,-0.08535056699791006,-0.2675383692070672,-0.05474527707135332,0.25224820466375236,0.16097085225959454,0.09619010754132185,0.4774904235107072,0.49841601315191664,0.018529984548269957,-0.09102598761834346,0.4176695838722156,-0.05121144732437005,0.13789800398908314,0.0932534565401516,-0.13405853162977188,0.44976671936325374,0.15659424422226725],[0.2640635760585002,-0.007208706258966981,0.6649846896112924,0.24046417351010518,0.09517828953760421,0.09933270990167181,0.14275684809473052,-0.19168556172891638,-0.1083741479068666,0.08797502521295118,0.17428809241826684,-0.17459707625628837,-0.1539766110115375,0.3825059256865716,0.15659635673310496,0.3868253977552755,0.2663664474781236,-0.24352734586485192,-0.08810811469603239,0.21519779821223817,-0.2756570412160666,-0.43012977535573726,0.28150830755114464,0.3071279616409199,0.5182943691447273],[0.36262694298888154,0.31196732880478206,-0.6486635575738262,0.21219492031065806,-0.021162101189257494,0.1995529473699804,-0.12775829661562493,-0.018106221365060703,0.21649123819696126,0.3648964976652757,0.10490587783311857,0.4885843783104608,0.12874898496005233,0.07222120103642532,0.04762867821965845,0.05880045953294474,0.038255231980009574,0.4501956633650579,0.02705688802014517,-0.0916469935484515,0.2208381367792342,0.22863152216944116,0.3562981590870751,0.21426291172697298,0.35377625694817627],[0.228161839041484,-0.05049894033928155,-0.061695974163852044,0.05789293787834082,0.5028965580647873,0.35714618847127116,0.012457667283221226,0.13335197285978934,0.34989970743614346,-0.01090655552583149,0.009621382937858542,0.7342647534530646,-0.1593373547531033,0.10686526684206675,0.07846253976461504,0.2641508050169159,0.2759436737858826,0.12959635416960016,-0.1470052676276573,0.03373420618985281,-0.19154961038457166,0.3748614202610413,0.1542556668585899,0.19584582012342083,0.38761284904088433],[0.30179644809769823,0.0421095670988567,0.21537201074267137,0.441182508285992,0.08522135504266332,-0.032995575847116626,0.2577722564056991,0.16441874875024978,0.27532496499899756,0.3814541256748466,0.34452447723881546,0.1677735547053425,0.1925658415781328,0.03229967669127841,-0.20698208496501358,0.49757203721439375,0.03386067654762127,0.06559169209174864,0.4597423676955653,-0.21535080338856655,0.07319722334876141,-0.1101751036016673,0.22852131712339946,0.4150610238895272,0.015375661400333878],[0.11781230780524204,0.7178227302434383,0.10563088125923034,0.0754007381426869,0.4853490530751008,0.26881324563129766,0.3523952178253101,0.13626058742582925,0.004812957320939579,0.5117716420119114,0.09742381917174943,0.1586311924862376,0.051609438456252446,0.06984240286602798,0.09746974838169233,0.38888346122220563,0.1463416435949057,-0.05009195926560492,0.20285624203535588,0.30322619190404176,0.09641974059686187,0.14430702350329963,0.48725040847723233,0.3345767380504183,0.14216513925019075],[0.05430613834440034,0.4853693445848955,-0.2748375056354612,0.3160049005093265,-0.16589611859017497,0.2549611923047593,0.2508812382130672,0.21484591826843474,0.3319151212401832,0.4001773032811188,0.11585625078111171,0.25210198692869334,0.3889374222515576,0.38823014932325156,0.3284345770477828,0.12386109346288646,-0.019617780331699315,0.1560158310116226,0.20899379601665496,-0.0032736531686383577,0.18554582738318198,0.275553485931441,0.10227370665373695,0.0910457751542372,-0.13997921259743293],[-0.23431572133190587,0.04850640113131765,0.04479222276662019,0.07189968106765632,0.3653306653295838,0.5881423385536286,0.07972361613329142,-0.1752102927290747,0.14071416475187343,0.27145592971678817,-0.09499716652746852,0.06369569677261148,0.1828159743478991,-0.07867456024235993,0.18669848080160048,0.5264927551135474,0.4728983625620019,0.17497936850127493,0.18143686219797267,0.19289503320240997,0.3825027864971883,0.3417667773957472,0.02008601131025122,0.34150698391066375,0.12555905199229286],[0.18038093309983283,-0.04637900072489293,0.2984023335570327,0.17199432816276963,0.17073094481851783,-0.15826410230878724,0.19226700592411783,-0.23742621079755905,0.2323154698402155,0.07995153437879104,0.3294848968159909,0.2890648088860771,0.41558923659228253,-0.08352093939212163,0.33011349002397283,-0.1070113049574663,-0.03136504725412656,0.0954397736728718,0.3022025818916597,0.35532478517102395,0.17285545446776482,0.5101632997415346,0.2615869695156309,0.09500821420228278,0.16849861378848852],[0.10525908190188807,-0.044249145986739215,0.3276296122093605,0.29682691200745653,0.08020455991834535,0.061502756377423154,0.04526820799430384,-0.0238592276732949,0.4276736014332142,0.18906205644570556,0.24289409645042193,0.187808439739024,0.30272872603662293,0.5214079043115389,0.25257206968906354,0.5005840930828511,0.1800295062679931,0.20671561692091905,0.39381740958749045,0.4061152603903178,0.30456288894646555,0.11716011638030369,0.03685296127522092,0.10034569290181547,0.3362022474061015],[0.21249089338382462,0.37970195927805095,0.3533625903583093,0.16658351198804988,0.5152390834977583,0.24484238940723782,0.0574116760925569,0.24758333410958566,0.4456042691454129,0.14252907771459697,0.23397766183085755,0.24506371943725097,0.47669030341401086,0.5775043990371614,0.16868488112104205,0.4969593338038464,0.1997304475278035,0.14553623310374222,0.18825019280589692,0.47970067926626125,0.5077653439965034,0.14860382355709356,0.15863687775253235,0.28435055243202684,0.32542108048103885],[0.42327574144162483,0.2298876261965409,0.42589147570335417,0.21804866761394984,0.24629810667473986,0.15876793145441684,0.25610602440070457,0.33251250635165763,0.33065564612048776,0.36089653566152013,0.5696672269552173,-0.03802342353045742,0.2013704705419599,0.03365645013508783,0.10724650033661876,-0.2198475192196816,0.05423420231623036,0.1621658802995091,0.5810022721092061,0.6528336671809726,0.2207998753847044,0.436267404284989,0.08463997919819347,0.26144666614856993,0.388154177079413],[0.2663460849447389,-0.12111004324405597,0.21904951129241806,0.29371737508834384,0.39198306063713517,0.4523491866145997,0.14817480233863775,0.20252463152711295,0.32799649055777313,0.24859336438848162,0.3035188333781876,0.08524064180286742,0.13158942528573295,0.44333911449295194,0.30050306954438694,0.29911128432418205,0.2603078571688614,0.3246634272099684,0.2103703627743128,-0.26466378792890094,0.06517263694618942,0.3613325545238973,0.23128197076373827,0.40086676369271657,0.25353986404307155],[0.3588115628697517,0.10624819699061337,0.2741297853804878,0.09716181982541139,0.1666117015103466,0.28566284180211776,0.05444589969752994,-0.0039247805582025685,0.46478964572130876,0.010917420688677348,0.3686015809144231,0.0729996185681278,0.4942827536019396,0.2805715347998109,0.4045187473042357,0.21343329535206318,-0.20256083982411338,0.38449363911836276,0.10894080074204487,0.2729485676020106,0.13621947763936004,0.2697728955938144,0.20603559338891106,0.5918526299880706,0.3509438548497754],[-0.1093387165666955,0.4859870237553461,0.10436562035507638,0.6046133231977449,0.2295295616343525,0.20647982213168703,0.47815888895450254,0.30309729736128066,0.25121261304854486,0.5389508874176417,0.13323763379715942,0.4412170856130324,0.009915300261022584,0.5083939464380496,0.15708936037905105,0.42182939488018334,0.35142868960662066,0.3732948172749059,-0.09445225949004371,0.3395355509134397,0.0163111019310674,0.37600314691851855,0.09192749303872993,0.36123791884600615,0.3852803802688569],[0.21411295248738207,0.17251094661118255,0.39033473754874126,0.6543699409662005,0.12380835581667973,-0.031108795347548627,0.38008596854181664,0.3108861474034368,-0.09733276315429887,0.2347726858264603,0.26914081542318763,0.4833089066919029,0.044781560204843876,0.2441601886063475,0.5173413501941453,0.4205741434981711,0.47165174152757544,0.031443833205383756,-0.13769351314880218,0.46906595984477195,0.07383984390768576,0.4761738625665588,-0.3138030669555916,0.505240495615097,0.18096244584776833],[0.47148139285416635,0.04917699442266233,-0.01492819647605822,0.5668618250017042,0.3755133491607483,0.4507019206211519,0.17732116223534833,0.21478600770425912,0.453354416050623,0.4354207725008569,0.09844066533048014,0.3562659400258361,0.08379594651705896,0.23469682255108765,-0.06794931402792656,-0.051731024720475825,0.3799845885887788,0.37351019600812513,0.25095519708533875,0.21183740879407856,0.20845924011279138,0.09435505798807356,0.4852146168221688,0.12144970199483418,-0.019251942950579776],[0.6089256007593488,0.30098550310271355,0.7179464526238699,0.21881593706039643,0.2723656366983922,0.5419431264111667,-0.04963781391050629,0.3158628243262083,0.6667714152107611,0.43944591824094575,0.3314558046249488,0.18217144514783243,0.06463583195477779,0.7598953233717114,0.3302547274233645,-0.09139486226075422,0.16253016399621292,0.26201143091690354,0.2917073148173157,-0.10779909706185178,0.40776806370664226,0.3943188545058208,0.54076456477937,0.024440883321902168,0.2322890544436346],[0.6677942863213105,0.43254479523193645,0.3993969735866445,0.696317731985398,0.39172478262234767,0.5202975606485598,0.6765392420615789,0.61792098878434,0.583478734179582,0.4888456908072252,0.04702804758748738,0.23982660496692904,0.3943696062449738,0.5751902588221485,0.7042320887596152,0.4982298679135926,0.617168653280795,0.14339098469128397,0.5623095609674367,0.3414385229800653,0.32570709009883114,0.394649029457538,0.27759772877090416,0.3633211381365449,0.3032229676110998],[0.7461316140221887,0.23397412363996595,0.5839888434586866,0.587719570185425,0.4253484263676644,0.2064833139270792,0.5882120763470748,0.5085518583890688,0.4306219312118069,0.5828994792354556,-0.042778268361888964,0.43060848066999385,0.4649068292209063,0.24019896135045624,0.5632539948535996,0.6141497388614212,0.5222572640156129,0.5235193483256999,0.4252308388896877,0.28434058544554774,0.3722686505686571,0.5908571706402835,0.5754177862618286,0.3460146625892405,0.46519241666889427],[0.41316677449013495,0.7381178636845649,0.5952013903203074,0.42376672636339946,0.6128934150514537,0.859507369150135,0.22075123866054183,0.5245878616666145,-0.0024584814376409983,0.508451111455473,0.5684517225549164,0.5438046804241985,0.2844906682824893,0.7756574971708164,0.57933376222389,0.4450379997323288,0.32325254907594714,0.27100098529754657,0.5714557906180523,0.44129485922335876,0.2939567464568165,0.28775793939262373,0.1386654832010862,0.4598123867350178,0.4044032158473463],[0.15494211078934716,0.2871078576074887,0.6921940701693176,0.5727860608257636,0.6897909392606314,0.6042744024362998,0.608030838388364,0.6004470039683372,0.6917497533190505,0.4639717907116236,0.08481430814998957,0.15729492147459206,0.291902893248803,0.5425475048832646,0.3162004603432845,0.5937562390564974,0.47528812906161033,0.4952976657824781,0.2021281589800901,0.4770483781191178,0.21446436285415804,0.47655640720605974,0.41755560558422505,0.6709139203710756,0.7533187975770537],[0.8986465956351163,0.5216185296575764,0.6283470629405304,0.4607845790780739,0.1714081062625094,0.29850981532546667,0.4151608040147874,0.6637015752477411,0.5979168938105397,0.39634195029370417,0.11021982999659374,0.3795998316851744,0.5042626653392954,0.5346818832861829,0.3636847186367746,0.6037358782951481,-0.051891272690261794,0.7504493236977873,0.5983763003889225,0.52285197205572,0.5484323293110607,0.38160117638200514,0.6189856123849631,0.04364563863309867,0.7038267827981644],[0.5361597592006049,0.5640349529712048,0.5356223750817708,0.588178411050552,0.5232315162203796,0.7106916255661682,0.5016906601985318,0.7233980397179802,0.7007978123370088,0.7172173017894802,0.4839215925450163,0.7436880486518701,0.6662615201177733,0.5043995998348488,0.4425771690454306,0.5917633986537247,0.3818086254456588,0.19376302175474946,0.2602614040533512,0.5698450780787989,0.8213897115290998,0.24718538124560555,0.36621728155537764,0.17705357673604272,0.6178689681802857],[0.43325574381255305,0.5262758021035271,0.830779599936634,0.7354267034921107,0.6142761235036835,0.7108648441681382,0.6813174022108509,0.32623353128812826,0.0813118916086558,0.6813949658941707,0.4210701810580308,0.5731613709984911,0.6595332071635773,0.680043225530223,0.4064122665475133,0.4840314220480131,0.2746742076980999,0.411793465160593,0.5901373170303764,0.3477813167285485,0.35239850247695914,0.6279947203929575,0.4796966578563049,0.6704739668935081,0.526287868106181],[0.7418792949720618,0.603925762220775,0.5031060310032023,0.42764351193308014,0.7424236402405668,0.11782657538525676,0.7361682803937719,0.7967941543313348,0.9117008264207678,0.7094886634693,0.7233027288002358,0.5818261299575007,0.5147886770943839,0.34102131470966535,0.5180858026759303,0.6606740491627018,0.7405601725445672,0.6576114748227306,0.5047502622547777,0.6495411100222649,0.5836254817911243,0.6055740781438217,0.45879218006752187,0.6227133041829183,0.3732675633672217],[0.4352071506272187,0.5444360181849353,0.6957544512851955,0.24061860737403967,0.44840105361057475,0.9639694463939694,0.5281358147010478,0.6045976701811968,0.7871840711655743,0.7080219612764272,0.7817392095912563,0.20439158780823596,0.8149340050633501,0.8244713642390481,0.35411247088474374,0.1800130237948753,0.7975087028325691,0.6247098138362304,0.09812153632906966,0.483501322023298,0.6752550397615227,0.46484180301044187,0.2637650821161954,0.5028934204351653,0.4851876301803042],[0.604952175373469,0.4931793665671665,0.32236683626564683,0.3694218966741455,0.5008700846231795,0.20200252108516265,0.3622167392492287,0.03671119531808255,-0.11842629432205293,0.3663702261885653,0.6819813873641111,0.29585469654074265,0.554440243175616,0.4905441111164418,0.22247214038503985,0.4743965702613028,0.5166726740554561,0.4783504523593628,0.25815754921242784,0.050267111069937205,0.35491662865085516,0.4036712294110336,0.5908459832592098,0.30647256668620043,0.1416825735612799],[0.46286722896638594,0.4817418097261127,0.6929324028360394,0.34133773373144904,0.5236802822197997,0.3570463314475739,0.35137805203013456,0.6988792492866838,-0.1597463182162428,0.45501036258207966,0.47926630041435225,0.47527373009563356,0.797503237353682,0.22287163930036635,0.7043536222262676,0.6195638318567943,0.1921327683920318,0.5962189835279158,0.6312446049093452,0.3756200178799688,0.5112331344672343,0.07473548640681527,0.4186989214608719,-0.06812485619636073,0.2634312247509299],[0.3433229233838727,0.5986087062334314,0.452041159860923,0.27020378498279896,0.08262537898042012,0.4755839137394624,0.5195332238091067,0.03386570949742239,-0.13456897640058355,0.46688689889612667,0.3460029162679459,-0.08964293004608886,0.593193967535846,0.5312394388148105,0.494359073845082,0.30856495157629327,0.08645380823285242,0.46411549122593354,0.481396223541004,0.38228628982680096,0.4787682922824046,0.7899294055302926,0.5537510241250118,0.28897908404763606,0.41763256815260935],[0.5110273752753545,0.10877344667410542,0.38626041582504916,0.345629396561025,0.22155676176448685,0.46569329527397585,-0.03574335849773269,0.38648138887256606,0.40702898136014076,0.39539827069877687,0.311076396446604,0.23542390269712635,0.2490753424413031,0.015244124061196691,0.6155053825879502,0.3338932525335957,0.6254418058662852,0.49978731740007404,0.370171084364994,0.2763376806410276,0.2627314241131204,0.5304658015297656,0.6379608029178009,0.5976319636966942,0.7222269742708328],[0.3189978621324797,0.3191044639062015,0.1391990443063465,0.7014125775298705,0.22010931931206904,0.556296890193124,0.5564957894849234,-0.1340029188913916,0.6540628676868677,0.3781414225036536,0.25255572403072085,0.5592476996970277,0.16363406507569805,0.05065643212255289,0.04961213270331396,0.41433657601812135,0.510870702168754,0.19199195654621698,-0.04536498646501443,0.4356454089246338,0.5371964668763729,0.1344857759238072,0.5241293775577671,0.6695486933436008,0.5616899688412437],[0.8041547253879373,0.38169430019714157,0.18761849056605895,0.7806639522163945,0.17165663675162562,0.11891401685456368,0.5854008214909954,0.0888969366078658,0.17133195516173022,0.30972323670312174,0.039371343776342126,0.06421426345405044,0.5033441800834414,0.24094785470950142,0.6782822070973648,-0.1145171068431281,0.2520582412081368,0.03162229437151383,0.6774381283971221,0.21815599994634186,0.0012973416576423733,0.2670733729689562,0.46055084426126897,0.746657297884056,0.0462154578015187],[-0.044325154709700054,0.5047181546089649,0.4671672945361298,0.40394761896197706,0.31479092380954465,0.36197057128192034,0.34118121234080684,0.21933169054070234,-0.08478561324650508,0.019886874888674435,0.713307606049361,0.14881862732777806,0.4278051211097883,0.6209012966629001,0.31657116214750813,0.2009844846358396,0.3026648859816023,-0.09035390830753245,0.5808330711588214,0.15744680143093215,0.48662735658098677,0.43572783916236,0.10320783363455799,0.49373426830255257,0.059877461020872005],[0.547857976714954,0.21222022606614988,-0.03741122450085746,0.18120151204740015,0.009582748346421484,0.3179486950553725,-0.0195212853913327,-0.32039009518618006,0.5548844070066772,0.48513986940379494,0.20740176275538985,0.8515458438027415,0.5808211578153624,0.1538482660017445,0.3442655045954341,0.2866613597987556,0.6653215319875769,-0.09561382110362743,0.039162603665608656,0.23576447409699508,0.4474753398727377,0.31680691743087286,0.6405316632553297,0.47524060752228336,0.332230883271936],[-0.020669436023394862,0.6181449779728758,0.3972384745740273,0.1030763387623639,0.06799480255900034,0.6048727215347239,0.4282886275305272,-0.05280593416410423,0.2169946381783363,0.5771477270674554,0.14056596187686698,0.40823386103651216,0.21555804903625586,0.2931388746154551,0.05889174217661321,0.6304540865216426,0.5932576936435221,0.3468151972889922,0.3245810433935089,0.25998855379092145,0.46402233749262345,0.3728552825190766,0.1523797020363388,0.21030741771881503,-0.1388631817869212],[0.16176064282760694,0.07563242629226734,-0.08096280020013535,0.3677635255745576,0.17091403568663976,0.4047761876813908,0.30854174872628004,0.2260139360755716,0.24707818365876638,0.11607568190772817,-0.14663157070969746,0.02509379786124995,0.027861929850948125,0.08793676667789103,0.10855542811808573,0.2623220411923333,0.12512235739594652,0.04818127196360521,0.3788250423728491,0.2579116367169209,0.4979700040094774,0.18809675845483978,0.3045081980501817,0.26700642030836685,0.15609886160835823],[0.15737763251812778,0.4547300236670764,0.1662973382966647,0.25656005853602726,0.544927983171085,0.12434504405554458,0.4568436813256902,0.17190890150540003,0.31773709138303996,-0.07399185646954255,0.06336610916283746,0.3718654947860321,0.24001240385410544,0.48444152635655663,0.22383101264976105,0.28988334396130316,0.08049207649234918,0.47394135949308347,0.3415027970982068,0.36445268209299075,0.16435322538785288,0.03829968171779989,0.0560279216679372,-0.04636196673482022,0.14221707849297904],[0.04105383868221072,0.31736429569767854,-0.07443179519742577,0.16807691583778744,0.40407422448769037,0.3226152626649278,0.15820971559899807,0.2683569385794047,0.6702924327146375,0.09226369769042832,0.085251967585226,0.17235034432983018,-0.3376705745102655,-0.02735348317610965,0.3861269280323868,0.43320054805961045,0.203809011001031,-0.005437070424742688,0.12191933580134688,0.01908248824172413,0.1830388640344126,0.25892847076281716,0.2213414090262899,0.10026304955079296,0.31919070732782967],[0.13806646754346813,0.15570583502150873,0.2191524276530004,0.537245639882282,-0.2041983746018623,-0.0187254710756092,0.1849286144870213,0.2893213652584229,0.43669366927941033,0.1524855860949554,0.44727769041627696,0.11216874948244597,0.20104106534524369,0.3322843880489088,0.0674568198427443,0.4210741662948551,0.012351396210749717,0.34307924078271973,0.10975462937991784,0.3502341528472965,0.06189561573652488,0.10941623377582849,0.3910668722433891,0.30049091598132394,0.6445171016722944],[0.6646102457085724,0.3234458349849366,0.320379977798089,0.24025170360699533,0.44996620875381077,0.3034290963531154,0.1301281547327597,0.008301891664116344,-0.1269208315214832,0.1663390511696235,0.42548810720297564,0.07413910488512537,0.20966661644375734,0.17675726342145986,0.7531740325134695,0.4005387088640624,0.24625317396481555,0.36405061171792974,0.5072884011843943,0.3158767806518075,0.2952139447729885,0.04929242521681876,0.14343337932042274,0.624120434539698,-0.35053679171797897],[0.7346662030296951,0.3038107399505755,-0.3135989714451236,0.7067491546149242,0.186276460321385,0.4412543785818636,0.21847304878738866,-0.13651102983264862,0.12453016039063278,0.7638476954045519,0.2973090399356695,-0.02382275838270248,0.40297071139405116,0.11424276224961659,0.09470814756960946,0.0770859211168865,0.3789023385658602,0.37545476357657637,-0.05148499700959673,0.25629380003152835,0.3901487866040642,0.12836762544169916,0.41175083532305157,-0.03040413893916566,0.5049135354656366],[-0.02646326134859791,-0.20258551698214708,0.2507033715646861,0.2848713925429408,0.3633211933262352,0.12609443212158847,0.2201278894409101,-0.05177954798178068,0.029731217422503765,0.05473074156544826,0.21635340342234943,-0.033769912185438906,0.18352796078780115,0.10067038199464384,0.08256500067984032,0.2698984982087026,0.2807423153505125,0.04135262711890858,-0.0744088573212577,0.3248446545104149,0.22070700311404823,-0.05960129764873543,-0.1656676862550312,0.07559459232506122,0.2867759004791723],[0.197652977110293,0.10294323642335787,0.2504727756506194,0.15497538857463478,-0.009995580539274464,0.5530776944515199,0.01934258811570501,0.048668201881627834,-0.24421118023266342,0.022303659253275383,0.27989403495279763,0.10064243072885462,0.2642244599728413,0.2791149711460332,0.22546340794887845,0.28168158706270546,0.08122672277376405,-0.03559010402651319,-0.03951680221331602,0.025305450569408673,0.23519894441583566,0.22371391143434477,0.05074074096803881,-0.04144777899613904,0.3892321930058069],[0.11842816630924598,0.16864437086639078,0.21259443939978528,0.22344423842717687,0.1784413445707163,0.5082106203055465,-0.05746462921875866,-0.000692828592112657,0.2848315451323634,0.26706389431193395,0.07954322547406839,0.003914038538339628,0.06579732950482417,0.11869148956392328,0.15344377821849836,-0.07783097708379312,0.11512907367924127,0.059069459941103124,-0.05038295098993205,-0.03216202344807328,0.1305462569959365,0.15532469275208488,0.16347296312186385,-0.0010352794818595792,0.11855152403284816],[0.27954358521360667,0.2752334517315775,0.07404452299498891,0.14932929999304875,0.1312296043131992,0.08501538944963799,0.12227341418141852,0.46456260631824364,0.18237423724974217,0.07185553585518432,0.12669947473799476,0.24768755641375134,0.3966769981593135,0.16682113603160684,0.014380388075160247,0.08647579561835743,0.23815538373309555,0.13989308423428792,0.2583151876999173,-0.18533382487337574,0.10907569890837801,-0.06451050750363604,-0.01909419031034195,0.29704988396236354,0.23851405760505656]],\"type\":\"heatmap\",\"xaxis\":\"x\",\"yaxis\":\"y\",\"hovertemplate\":\"Heads (sorted): %{x}<br>Layers: %{y}<br>color: %{z}<extra></extra>\"}],                        {\"template\":{\"data\":{\"histogram2dcontour\":[{\"type\":\"histogram2dcontour\",\"colorbar\":{\"outlinewidth\":0,\"ticks\":\"\"},\"colorscale\":[[0.0,\"#0d0887\"],[0.1111111111111111,\"#46039f\"],[0.2222222222222222,\"#7201a8\"],[0.3333333333333333,\"#9c179e\"],[0.4444444444444444,\"#bd3786\"],[0.5555555555555556,\"#d8576b\"],[0.6666666666666666,\"#ed7953\"],[0.7777777777777778,\"#fb9f3a\"],[0.8888888888888888,\"#fdca26\"],[1.0,\"#f0f921\"]]}],\"choropleth\":[{\"type\":\"choropleth\",\"colorbar\":{\"outlinewidth\":0,\"ticks\":\"\"}}],\"histogram2d\":[{\"type\":\"histogram2d\",\"colorbar\":{\"outlinewidth\":0,\"ticks\":\"\"},\"colorscale\":[[0.0,\"#0d0887\"],[0.1111111111111111,\"#46039f\"],[0.2222222222222222,\"#7201a8\"],[0.3333333333333333,\"#9c179e\"],[0.4444444444444444,\"#bd3786\"],[0.5555555555555556,\"#d8576b\"],[0.6666666666666666,\"#ed7953\"],[0.7777777777777778,\"#fb9f3a\"],[0.8888888888888888,\"#fdca26\"],[1.0,\"#f0f921\"]]}],\"heatmap\":[{\"type\":\"heatmap\",\"colorbar\":{\"outlinewidth\":0,\"ticks\":\"\"},\"colorscale\":[[0.0,\"#0d0887\"],[0.1111111111111111,\"#46039f\"],[0.2222222222222222,\"#7201a8\"],[0.3333333333333333,\"#9c179e\"],[0.4444444444444444,\"#bd3786\"],[0.5555555555555556,\"#d8576b\"],[0.6666666666666666,\"#ed7953\"],[0.7777777777777778,\"#fb9f3a\"],[0.8888888888888888,\"#fdca26\"],[1.0,\"#f0f921\"]]}],\"heatmapgl\":[{\"type\":\"heatmapgl\",\"colorbar\":{\"outlinewidth\":0,\"ticks\":\"\"},\"colorscale\":[[0.0,\"#0d0887\"],[0.1111111111111111,\"#46039f\"],[0.2222222222222222,\"#7201a8\"],[0.3333333333333333,\"#9c179e\"],[0.4444444444444444,\"#bd3786\"],[0.5555555555555556,\"#d8576b\"],[0.6666666666666666,\"#ed7953\"],[0.7777777777777778,\"#fb9f3a\"],[0.8888888888888888,\"#fdca26\"],[1.0,\"#f0f921\"]]}],\"contourcarpet\":[{\"type\":\"contourcarpet\",\"colorbar\":{\"outlinewidth\":0,\"ticks\":\"\"}}],\"contour\":[{\"type\":\"contour\",\"colorbar\":{\"outlinewidth\":0,\"ticks\":\"\"},\"colorscale\":[[0.0,\"#0d0887\"],[0.1111111111111111,\"#46039f\"],[0.2222222222222222,\"#7201a8\"],[0.3333333333333333,\"#9c179e\"],[0.4444444444444444,\"#bd3786\"],[0.5555555555555556,\"#d8576b\"],[0.6666666666666666,\"#ed7953\"],[0.7777777777777778,\"#fb9f3a\"],[0.8888888888888888,\"#fdca26\"],[1.0,\"#f0f921\"]]}],\"surface\":[{\"type\":\"surface\",\"colorbar\":{\"outlinewidth\":0,\"ticks\":\"\"},\"colorscale\":[[0.0,\"#0d0887\"],[0.1111111111111111,\"#46039f\"],[0.2222222222222222,\"#7201a8\"],[0.3333333333333333,\"#9c179e\"],[0.4444444444444444,\"#bd3786\"],[0.5555555555555556,\"#d8576b\"],[0.6666666666666666,\"#ed7953\"],[0.7777777777777778,\"#fb9f3a\"],[0.8888888888888888,\"#fdca26\"],[1.0,\"#f0f921\"]]}],\"mesh3d\":[{\"type\":\"mesh3d\",\"colorbar\":{\"outlinewidth\":0,\"ticks\":\"\"}}],\"scatter\":[{\"fillpattern\":{\"fillmode\":\"overlay\",\"size\":10,\"solidity\":0.2},\"type\":\"scatter\"}],\"parcoords\":[{\"type\":\"parcoords\",\"line\":{\"colorbar\":{\"outlinewidth\":0,\"ticks\":\"\"}}}],\"scatterpolargl\":[{\"type\":\"scatterpolargl\",\"marker\":{\"colorbar\":{\"outlinewidth\":0,\"ticks\":\"\"}}}],\"bar\":[{\"error_x\":{\"color\":\"#2a3f5f\"},\"error_y\":{\"color\":\"#2a3f5f\"},\"marker\":{\"line\":{\"color\":\"#E5ECF6\",\"width\":0.5},\"pattern\":{\"fillmode\":\"overlay\",\"size\":10,\"solidity\":0.2}},\"type\":\"bar\"}],\"scattergeo\":[{\"type\":\"scattergeo\",\"marker\":{\"colorbar\":{\"outlinewidth\":0,\"ticks\":\"\"}}}],\"scatterpolar\":[{\"type\":\"scatterpolar\",\"marker\":{\"colorbar\":{\"outlinewidth\":0,\"ticks\":\"\"}}}],\"histogram\":[{\"marker\":{\"pattern\":{\"fillmode\":\"overlay\",\"size\":10,\"solidity\":0.2}},\"type\":\"histogram\"}],\"scattergl\":[{\"type\":\"scattergl\",\"marker\":{\"colorbar\":{\"outlinewidth\":0,\"ticks\":\"\"}}}],\"scatter3d\":[{\"type\":\"scatter3d\",\"line\":{\"colorbar\":{\"outlinewidth\":0,\"ticks\":\"\"}},\"marker\":{\"colorbar\":{\"outlinewidth\":0,\"ticks\":\"\"}}}],\"scattermapbox\":[{\"type\":\"scattermapbox\",\"marker\":{\"colorbar\":{\"outlinewidth\":0,\"ticks\":\"\"}}}],\"scatterternary\":[{\"type\":\"scatterternary\",\"marker\":{\"colorbar\":{\"outlinewidth\":0,\"ticks\":\"\"}}}],\"scattercarpet\":[{\"type\":\"scattercarpet\",\"marker\":{\"colorbar\":{\"outlinewidth\":0,\"ticks\":\"\"}}}],\"carpet\":[{\"aaxis\":{\"endlinecolor\":\"#2a3f5f\",\"gridcolor\":\"white\",\"linecolor\":\"white\",\"minorgridcolor\":\"white\",\"startlinecolor\":\"#2a3f5f\"},\"baxis\":{\"endlinecolor\":\"#2a3f5f\",\"gridcolor\":\"white\",\"linecolor\":\"white\",\"minorgridcolor\":\"white\",\"startlinecolor\":\"#2a3f5f\"},\"type\":\"carpet\"}],\"table\":[{\"cells\":{\"fill\":{\"color\":\"#EBF0F8\"},\"line\":{\"color\":\"white\"}},\"header\":{\"fill\":{\"color\":\"#C8D4E3\"},\"line\":{\"color\":\"white\"}},\"type\":\"table\"}],\"barpolar\":[{\"marker\":{\"line\":{\"color\":\"#E5ECF6\",\"width\":0.5},\"pattern\":{\"fillmode\":\"overlay\",\"size\":10,\"solidity\":0.2}},\"type\":\"barpolar\"}],\"pie\":[{\"automargin\":true,\"type\":\"pie\"}]},\"layout\":{\"autotypenumbers\":\"strict\",\"colorway\":[\"#636efa\",\"#EF553B\",\"#00cc96\",\"#ab63fa\",\"#FFA15A\",\"#19d3f3\",\"#FF6692\",\"#B6E880\",\"#FF97FF\",\"#FECB52\"],\"font\":{\"color\":\"#2a3f5f\"},\"hovermode\":\"closest\",\"hoverlabel\":{\"align\":\"left\"},\"paper_bgcolor\":\"white\",\"plot_bgcolor\":\"#E5ECF6\",\"polar\":{\"bgcolor\":\"#E5ECF6\",\"angularaxis\":{\"gridcolor\":\"white\",\"linecolor\":\"white\",\"ticks\":\"\"},\"radialaxis\":{\"gridcolor\":\"white\",\"linecolor\":\"white\",\"ticks\":\"\"}},\"ternary\":{\"bgcolor\":\"#E5ECF6\",\"aaxis\":{\"gridcolor\":\"white\",\"linecolor\":\"white\",\"ticks\":\"\"},\"baxis\":{\"gridcolor\":\"white\",\"linecolor\":\"white\",\"ticks\":\"\"},\"caxis\":{\"gridcolor\":\"white\",\"linecolor\":\"white\",\"ticks\":\"\"}},\"coloraxis\":{\"colorbar\":{\"outlinewidth\":0,\"ticks\":\"\"}},\"colorscale\":{\"sequential\":[[0.0,\"#0d0887\"],[0.1111111111111111,\"#46039f\"],[0.2222222222222222,\"#7201a8\"],[0.3333333333333333,\"#9c179e\"],[0.4444444444444444,\"#bd3786\"],[0.5555555555555556,\"#d8576b\"],[0.6666666666666666,\"#ed7953\"],[0.7777777777777778,\"#fb9f3a\"],[0.8888888888888888,\"#fdca26\"],[1.0,\"#f0f921\"]],\"sequentialminus\":[[0.0,\"#0d0887\"],[0.1111111111111111,\"#46039f\"],[0.2222222222222222,\"#7201a8\"],[0.3333333333333333,\"#9c179e\"],[0.4444444444444444,\"#bd3786\"],[0.5555555555555556,\"#d8576b\"],[0.6666666666666666,\"#ed7953\"],[0.7777777777777778,\"#fb9f3a\"],[0.8888888888888888,\"#fdca26\"],[1.0,\"#f0f921\"]],\"diverging\":[[0,\"#8e0152\"],[0.1,\"#c51b7d\"],[0.2,\"#de77ae\"],[0.3,\"#f1b6da\"],[0.4,\"#fde0ef\"],[0.5,\"#f7f7f7\"],[0.6,\"#e6f5d0\"],[0.7,\"#b8e186\"],[0.8,\"#7fbc41\"],[0.9,\"#4d9221\"],[1,\"#276419\"]]},\"xaxis\":{\"gridcolor\":\"white\",\"linecolor\":\"white\",\"ticks\":\"\",\"title\":{\"standoff\":15},\"zerolinecolor\":\"white\",\"automargin\":true,\"zerolinewidth\":2},\"yaxis\":{\"gridcolor\":\"white\",\"linecolor\":\"white\",\"ticks\":\"\",\"title\":{\"standoff\":15},\"zerolinecolor\":\"white\",\"automargin\":true,\"zerolinewidth\":2},\"scene\":{\"xaxis\":{\"backgroundcolor\":\"#E5ECF6\",\"gridcolor\":\"white\",\"linecolor\":\"white\",\"showbackground\":true,\"ticks\":\"\",\"zerolinecolor\":\"white\",\"gridwidth\":2},\"yaxis\":{\"backgroundcolor\":\"#E5ECF6\",\"gridcolor\":\"white\",\"linecolor\":\"white\",\"showbackground\":true,\"ticks\":\"\",\"zerolinecolor\":\"white\",\"gridwidth\":2},\"zaxis\":{\"backgroundcolor\":\"#E5ECF6\",\"gridcolor\":\"white\",\"linecolor\":\"white\",\"showbackground\":true,\"ticks\":\"\",\"zerolinecolor\":\"white\",\"gridwidth\":2}},\"shapedefaults\":{\"line\":{\"color\":\"#2a3f5f\"}},\"annotationdefaults\":{\"arrowcolor\":\"#2a3f5f\",\"arrowhead\":0,\"arrowwidth\":1},\"geo\":{\"bgcolor\":\"white\",\"landcolor\":\"#E5ECF6\",\"subunitcolor\":\"white\",\"showland\":true,\"showlakes\":true,\"lakecolor\":\"white\"},\"title\":{\"x\":0.05},\"mapbox\":{\"style\":\"light\"}}},\"xaxis\":{\"anchor\":\"y\",\"domain\":[0.0,1.0],\"scaleanchor\":\"y\",\"constrain\":\"domain\",\"title\":{\"text\":\"Heads (sorted)\"}},\"yaxis\":{\"anchor\":\"x\",\"domain\":[0.0,1.0],\"autorange\":true,\"constrain\":\"domain\",\"title\":{\"text\":\"Layers\"}},\"coloraxis\":{\"colorscale\":[[0.0,\"rgb(103,0,31)\"],[0.1,\"rgb(178,24,43)\"],[0.2,\"rgb(214,96,77)\"],[0.3,\"rgb(244,165,130)\"],[0.4,\"rgb(253,219,199)\"],[0.5,\"rgb(247,247,247)\"],[0.6,\"rgb(209,229,240)\"],[0.7,\"rgb(146,197,222)\"],[0.8,\"rgb(67,147,195)\"],[0.9,\"rgb(33,102,172)\"],[1.0,\"rgb(5,48,97)\"]],\"cmid\":0},\"title\":{\"text\":\"CosSim of Cat/Bin\"}},                        {\"responsive\": true}                    ).then(function(){\n",
       "                            \n",
       "var gd = document.getElementById('2caae13f-3e5c-4adc-aec5-f7e98666c3b2');\n",
       "var x = new MutationObserver(function (mutations, observer) {{\n",
       "        var display = window.getComputedStyle(gd).display;\n",
       "        if (!display || display === 'none') {{\n",
       "            console.log([gd, 'removed!']);\n",
       "            Plotly.purge(gd);\n",
       "            observer.disconnect();\n",
       "        }}\n",
       "}});\n",
       "\n",
       "// Listen for the removal of the full notebook cells\n",
       "var notebookContainer = gd.closest('#notebook-container');\n",
       "if (notebookContainer) {{\n",
       "    x.observe(notebookContainer, {childList: true});\n",
       "}}\n",
       "\n",
       "// Listen for the clearing of the current output cell\n",
       "var outputEl = gd.closest('.output');\n",
       "if (outputEl) {{\n",
       "    x.observe(outputEl, {childList: true});\n",
       "}}\n",
       "\n",
       "                        })                };                });            </script>        </div>"
      ]
     },
     "metadata": {},
     "output_type": "display_data"
    }
   ],
   "source": [
    "def compute_probe_cos_sims(a, b):\n",
    "    #a and b are coefs\n",
    "    \n",
    "    cos = nn.CosineSimilarity()\n",
    "    \n",
    "    cossims = []\n",
    "    for p_a, p_b in zip(a, b):\n",
    "        cossims.append(cos(torch.from_numpy(p_a).reshape(1, -1), torch.from_numpy(p_b).reshape(1, -1)).item())\n",
    "    \n",
    "    return np.array(cossims)\n",
    "\n",
    "\n",
    "bin_coefs = [a.coef_ for a in attn_bin_probes]\n",
    "cat_coefs = [a.coef_[5] for a in saga_cat_probes]\n",
    "\n",
    "cossims = compute_probe_cos_sims(bin_coefs, cat_coefs)\n",
    "\n",
    "px.imshow(np.array(cossims).reshape(nin_d.model.cfg.n_layers, nin_d.model.cfg.n_heads), labels = {\"x\" : \"Heads (sorted)\", \"y\": \"Layers\"},title = \"CosSim of Cat/Bin\", color_continuous_midpoint = 0, color_continuous_scale=\"RdBu\", origin = \"lower\")\n"
   ]
  },
  {
   "cell_type": "code",
   "execution_count": 140,
   "metadata": {},
   "outputs": [
    {
     "name": "stderr",
     "output_type": "stream",
     "text": [
      "1200it [00:01, 875.99it/s]\n"
     ]
    }
   ],
   "source": [
    "\n",
    "# labels = [sample[\"n_correct\"] for sample in dataset]\n",
    "labels = [1 if sample[\"n_correct\"] == 5 else 0 for sample in nin_d.dataset]\n",
    "\n",
    "bin_total_accs = []\n",
    "\n",
    "for i, clf in tqdm(enumerate(attn_bin_probes)):\n",
    "    acts = [act[i] for act in nin_d.attn_head_acts]\n",
    "    y_pred = clf.predict(acts)\n",
    "    \n",
    "    bin_total_accs.append(accuracy_score(labels, y_pred))\n"
   ]
  },
  {
   "cell_type": "code",
   "execution_count": 136,
   "metadata": {},
   "outputs": [
    {
     "data": {
      "text/plain": [
       "(0.8048756720430107, 0.023647425764748962)"
      ]
     },
     "execution_count": 136,
     "metadata": {},
     "output_type": "execute_result"
    }
   ],
   "source": [
    "np.mean(total_accs), np.std(total_accs)"
   ]
  },
  {
   "cell_type": "code",
   "execution_count": 141,
   "metadata": {},
   "outputs": [
    {
     "name": "stderr",
     "output_type": "stream",
     "text": [
      "1200it [00:02, 530.01it/s]\n"
     ]
    }
   ],
   "source": [
    "import math\n",
    "\n",
    "labels = [1 if sample[\"n_correct\"] == 5 else 0 for sample in nin_d.dataset]\n",
    "\n",
    "cat_total_accs = []\n",
    "\n",
    "def sigmoid(x):\n",
    "  return 1 / (1 + math.exp(-x))\n",
    "\n",
    "for i, clf in tqdm(enumerate(saga_cat_probes)):\n",
    "    acts = [act[i] for act in nin_d.attn_head_acts]\n",
    "    \n",
    "    outs = np.matmul(acts, clf.coef_[5])\n",
    "    \n",
    "    y_pred = [np.round(sigmoid(o)) for o in outs]\n",
    "    # print(y_pred)\n",
    "    # y_pred = [np.round(o) for o in y_pred]\n",
    "    # y_pred = clf.predict(acts)\n",
    "    # print(y_pred)\n",
    "    cat_total_accs.append(accuracy_score(labels, y_pred))"
   ]
  },
  {
   "cell_type": "code",
   "execution_count": 138,
   "metadata": {},
   "outputs": [
    {
     "data": {
      "text/plain": [
       "(0.5625672043010753, 0.22491151098731743)"
      ]
     },
     "execution_count": 138,
     "metadata": {},
     "output_type": "execute_result"
    }
   ],
   "source": [
    "np.mean(total_accs), np.std(total_accs)"
   ]
  },
  {
   "cell_type": "code",
   "execution_count": 144,
   "metadata": {},
   "outputs": [
    {
     "data": {
      "application/vnd.plotly.v1+json": {
       "config": {
        "plotlyServerURL": "https://plot.ly"
       },
       "data": [
        {
         "coloraxis": "coloraxis",
         "hovertemplate": "Heads (sorted): %{x}<br>Layers: %{y}<br>color: %{z}<extra></extra>",
         "name": "0",
         "type": "heatmap",
         "xaxis": "x",
         "yaxis": "y",
         "z": [
          [
           -0.5806451612903225,
           0,
           -0.5806451612903225,
           0,
           -0.5806451612903225,
           -0.5120967741935484,
           -0.5282258064516129,
           -0.5806451612903225,
           -0.5443548387096774,
           -0.04435483870967738,
           -0.2540322580645161,
           -0.5282258064516129,
           -0.5806451612903225,
           -0.41129032258064513,
           -0.4919354838709677,
           -0.5483870967741935,
           -0.5806451612903225,
           -0.5806451612903225,
           -0.5806451612903225,
           -0.2701612903225806,
           -0.016129032258064502,
           -0.49999999999999994,
           -0.0040322580645161255,
           -0.5806451612903225,
           -0.30645161290322576
          ],
          [
           -0.3911290322580645,
           0,
           -0.5806451612903225,
           -0.5806451612903225,
           -0.5806451612903225,
           -0.10080645161290314,
           -0.0040322580645161255,
           -0.39919354838709675,
           0,
           -0.21370967741935476,
           -0.5362903225806451,
           -0.3911290322580645,
           0,
           -0.3387096774193548,
           0,
           -0.5806451612903225,
           -0.5806451612903225,
           0,
           -0.5806451612903225,
           -0.5282258064516129,
           -0.008064516129032251,
           -0.5806451612903225,
           -0.5362903225806451,
           0,
           -0.0040322580645161255
          ],
          [
           -0.5766129032258064,
           -0.0040322580645161255,
           -0.016129032258064502,
           -0.19758064516129026,
           -0.012096774193548376,
           0,
           0,
           -0.0040322580645161255,
           -0.5685483870967741,
           0,
           0,
           -0.5806451612903225,
           -0.10080645161290314,
           -0.3104838709677419,
           0.0040322580645161255,
           -0.07661290322580638,
           -0.23790322580645162,
           -0.5806451612903225,
           -0.5766129032258064,
           0,
           -0.5806451612903225,
           0,
           -0.24193548387096775,
           0,
           -0.06048387096774188
          ],
          [
           -0.5806451612903225,
           -0.0040322580645161255,
           -0.0040322580645161255,
           -0.03629032258064513,
           -0.5483870967741935,
           0,
           -0.0040322580645161255,
           -0.21370967741935476,
           0,
           0,
           -0.0040322580645161255,
           -0.41129032258064513,
           -0.4032258064516129,
           -0.5806451612903225,
           0,
           0,
           -0.23790322580645162,
           0,
           0,
           0,
           -0.5806451612903225,
           -0.5806451612903225,
           -0.5806451612903225,
           -0.5806451612903225,
           0
          ],
          [
           0,
           -0.5806451612903225,
           0,
           -0.5766129032258064,
           -0.5806451612903225,
           -0.5483870967741935,
           0,
           -0.5806451612903225,
           -0.5806451612903225,
           -0.5806451612903225,
           -0.5725806451612903,
           0,
           0,
           -0.5806451612903225,
           -0.3870967741935484,
           -0.5806451612903225,
           -0.012096774193548376,
           0,
           -0.5806451612903225,
           -0.008064516129032251,
           0,
           -0.5806451612903225,
           -0.020161290322580627,
           -0.5806451612903225,
           0
          ],
          [
           -0.5806451612903225,
           -0.07661290322580638,
           -0.07258064516129026,
           -0.5806451612903225,
           -0.4637096774193548,
           -0.5443548387096774,
           0,
           0,
           -0.03629032258064513,
           -0.5806451612903225,
           -0.012096774193548376,
           -0.3911290322580645,
           -0.5766129032258064,
           0,
           0,
           0,
           0,
           -0.048387096774193505,
           -0.028225806451612878,
           -0.5806451612903225,
           -0.03629032258064513,
           0,
           -0.5806451612903225,
           -0.33064516129032256,
           0
          ],
          [
           0,
           -0.5806451612903225,
           -0.5806451612903225,
           -0.5483870967741935,
           -0.5806451612903225,
           -0.3508064516129032,
           0,
           -0.43145161290322576,
           -0.439516129032258,
           0,
           0.0040322580645161255,
           -0.08467741935483863,
           -0.407258064516129,
           -0.5806451612903225,
           -0.5806451612903225,
           0,
           -0.32661290322580644,
           -0.5725806451612903,
           -0.5806451612903225,
           -0.5362903225806451,
           0,
           -0.5806451612903225,
           -0.5766129032258064,
           -0.5806451612903225,
           -0.39919354838709675
          ],
          [
           0,
           0,
           0,
           -0.5806451612903225,
           -0.15322580645161288,
           0,
           -0.5806451612903225,
           -0.008064516129032251,
           0,
           0,
           0,
           -0.5241935483870968,
           -0.5806451612903225,
           -0.5806451612903225,
           -0.3548387096774193,
           -0.5806451612903225,
           -0.5806451612903225,
           -0.10080645161290314,
           -0.020161290322580627,
           0,
           0,
           -0.34677419354838707,
           0,
           0,
           -0.24596774193548387
          ],
          [
           -0.5766129032258064,
           0.024193548387096864,
           0,
           -0.5806451612903225,
           -0.5806451612903225,
           0,
           -0.5806451612903225,
           -0.5766129032258064,
           -0.5766129032258064,
           -0.5806451612903225,
           0.0040322580645161255,
           -0.5806451612903225,
           0,
           0.0040322580645161255,
           -0.0040322580645161255,
           0,
           -0.07661290322580638,
           -0.5604838709677419,
           -0.5806451612903225,
           -0.5806451612903225,
           0,
           -0.5766129032258064,
           -0.020161290322580627,
           -0.5806451612903225,
           -0.5403225806451613
          ],
          [
           0,
           -0.0040322580645161255,
           0,
           -0.5806451612903225,
           0,
           -0.5806451612903225,
           0,
           -0.47177419354838707,
           -0.10080645161290314,
           0,
           0,
           0,
           -0.5806451612903225,
           -0.06048387096774188,
           0,
           -0.5806451612903225,
           0,
           -0.5806451612903225,
           -0.45161290322580644,
           0,
           -0.5846774193548386,
           -0.2620967741935484,
           -0.35887096774193544,
           0,
           0
          ],
          [
           -0.09677419354838701,
           -0.5403225806451613,
           0,
           -0.5806451612903225,
           0,
           0,
           0,
           -0.03629032258064513,
           -0.0040322580645161255,
           0,
           -0.5806451612903225,
           -0.28629032258064513,
           -0.5403225806451613,
           -0.314516129032258,
           -0.5806451612903225,
           0,
           0,
           0,
           -0.5806451612903225,
           -0.008064516129032251,
           0,
           -0.5806451612903225,
           0,
           -0.5806451612903225,
           0
          ],
          [
           -0.5806451612903225,
           -0.23790322580645162,
           -0.5806451612903225,
           -0.5806451612903225,
           -0.21370967741935476,
           -0.008064516129032251,
           -0.33064516129032256,
           0,
           -0.028225806451612878,
           -0.5806451612903225,
           0,
           -0.5806451612903225,
           0,
           -0.20967741935483863,
           0,
           0,
           -0.5806451612903225,
           -0.5806451612903225,
           0,
           -0.5483870967741935,
           -0.0040322580645161255,
           0,
           0,
           -0.040322580645161255,
           -0.5806451612903225
          ],
          [
           0,
           0,
           -0.06854838709677413,
           0,
           -0.5806451612903225,
           -0.06048387096774188,
           -0.5806451612903225,
           0,
           -0.5806451612903225,
           -0.06854838709677413,
           -0.5806451612903225,
           -0.0040322580645161255,
           -0.12096774193548387,
           -0.5806451612903225,
           -0.18548387096774188,
           -0.5806451612903225,
           -0.5806451612903225,
           0,
           0,
           0,
           -0.5806451612903225,
           -0.5806451612903225,
           -0.5806451612903225,
           -0.5564516129032258,
           -0.5806451612903225
          ],
          [
           -0.4919354838709677,
           0,
           -0.43145161290322576,
           -0.008064516129032251,
           0,
           -0.1733870967741935,
           -0.5806451612903225,
           0,
           -0.3870967741935484,
           0,
           -0.5806451612903225,
           -0.2983870967741935,
           -0.02822580645161299,
           0.0040322580645161255,
           -0.41129032258064513,
           0,
           -0.5806451612903225,
           -0.5806451612903225,
           0,
           -0.5846774193548386,
           -0.5806451612903225,
           -0.5766129032258064,
           0,
           -0.03629032258064513,
           -0.5806451612903225
          ],
          [
           0,
           -0.5806451612903225,
           -0.5846774193548386,
           -0.10080645161290314,
           0,
           -0.16129032258064524,
           -0.125,
           -0.2620967741935484,
           0,
           0,
           0,
           -0.125,
           -0.5806451612903225,
           -0.0040322580645161255,
           0,
           0,
           -0.5766129032258064,
           -0.5806451612903225,
           -0.040322580645161255,
           -0.42741935483870963,
           -0.47177419354838707,
           -0.5806451612903225,
           -0.5766129032258064,
           -0.5806451612903225,
           -0.5120967741935483
          ],
          [
           -0.5806451612903225,
           -0.41129032258064513,
           -0.5806451612903225,
           -0.5766129032258064,
           0,
           -0.5806451612903225,
           -0.5766129032258064,
           -0.0040322580645161255,
           0,
           -0.5806451612903225,
           0,
           -0.0040322580645161255,
           -0.5806451612903225,
           -0.5806451612903225,
           -0.3548387096774193,
           -0.48790322580645157,
           0,
           0,
           -0.48387096774193544,
           -0.08064516129032251,
           0,
           -0.0040322580645161255,
           -0.532258064516129,
           0,
           -0.5806451612903225
          ],
          [
           -0.3104838709677419,
           0,
           -0.11693548387096775,
           -0.0766129032258065,
           0,
           -0.5806451612903225,
           -0.17741935483870963,
           -0.5806451612903225,
           -0.06854838709677413,
           0,
           -0.5806451612903225,
           -0.5806451612903225,
           0,
           -0.5846774193548386,
           0,
           -0.37499999999999994,
           0,
           -0.5806451612903225,
           -0.4919354838709677,
           -0.5806451612903225,
           -0.439516129032258,
           -0.6048387096774194,
           -0.5604838709677419,
           -0.03629032258064513,
           -0.5403225806451613
          ],
          [
           -0.2056451612903225,
           -0.6330645161290323,
           -0.5362903225806452,
           -0.25806451612903225,
           -0.5806451612903225,
           -0.25,
           -0.2661290322580645,
           -0.5483870967741935,
           -0.008064516129032251,
           -0.4637096774193548,
           -0.5806451612903225,
           -0.5725806451612903,
           -0.125,
           -0.5846774193548386,
           -0.05241935483870963,
           -0.5806451612903225,
           -0.25806451612903236,
           -0.25,
           -0.35080645161290325,
           0,
           -0.439516129032258,
           -0.028225806451612878,
           -0.5846774193548386,
           -0.5725806451612903,
           -0.439516129032258
          ],
          [
           -0.27419354838709675,
           -0.42741935483870963,
           -0.4919354838709678,
           0,
           -0.42741935483870963,
           -0.5443548387096774,
           -0.0040322580645161255,
           -0.19758064516129026,
           -0.5846774193548386,
           0,
           -0.2983870967741936,
           0.0040322580645161255,
           -0.5887096774193548,
           -0.189516129032258,
           -0.048387096774193616,
           -0.2943548387096775,
           -0.5604838709677419,
           -0.4798387096774193,
           -0.08870967741935487,
           -0.032258064516129115,
           -0.5806451612903225,
           -0.564516129032258,
           -0.040322580645161366,
           -0.46774193548387094,
           -0.5766129032258064
          ],
          [
           -0.13709677419354838,
           -0.5362903225806451,
           -0.5685483870967741,
           -0.08870967741935476,
           -0.5887096774193548,
           -0.016129032258064502,
           -0.5483870967741935,
           -0.5443548387096774,
           -0.5806451612903225,
           -0.48790322580645157,
           -0.28629032258064513,
           -0.31854838709677413,
           -0.5846774193548386,
           -0.02016129032258074,
           -0.5766129032258065,
           -0.5403225806451614,
           -0.032258064516129004,
           -0.02822580645161299,
           -0.3266129032258065,
           -0.564516129032258,
           -0.2983870967741936,
           -0.5806451612903225,
           -0.439516129032258,
           -0.25,
           -0.3548387096774193
          ],
          [
           -0.14919354838709675,
           -0.5846774193548386,
           0,
           -0.008064516129032251,
           -0.40725806451612906,
           -0.06048387096774188,
           -0.48790322580645157,
           -0.012096774193548376,
           -0.35887096774193544,
           -0.020161290322580627,
           -0.5806451612903225,
           0,
           -0.024193548387096753,
           -0.032258064516129115,
           -0.2540322580645161,
           -0.5725806451612903,
           -0.35080645161290325,
           -0.1733870967741935,
           -0.5443548387096774,
           -0.33870967741935487,
           -0.5766129032258064,
           -0.09677419354838712,
           -0.6048387096774194,
           -0.3104838709677419,
           -0.31854838709677413
          ],
          [
           0,
           -0.5524193548387096,
           -0.16532258064516137,
           0,
           -0.024193548387096864,
           -0.012096774193548376,
           -0.5806451612903225,
           -0.03629032258064524,
           -0.5362903225806452,
           0,
           -0.6169354838709677,
           -0.6209677419354839,
           -0.07258064516129037,
           -0.1411290322580645,
           -0.05645161290322587,
           -0.6209677419354839,
           -0.03629032258064524,
           -0.02822580645161299,
           -0.048387096774193505,
           -0.3145161290322581,
           -0.032258064516129004,
           -0.12903225806451613,
           -0.008064516129032251,
           -0.020161290322580627,
           -0.157258064516129
          ],
          [
           0,
           -0.02016129032258074,
           -0.008064516129032251,
           -0.06048387096774188,
           0,
           0.032258064516129115,
           -0.47580645161290325,
           -0.020161290322580627,
           -0.30241935483870974,
           -0.024193548387096753,
           0,
           -0.0766129032258065,
           -0.592741935483871,
           0.0040322580645161255,
           -0.0040322580645161255,
           -0.020161290322580627,
           -0.0040322580645161255,
           -0.6330645161290323,
           -0.6209677419354839,
           -0.028225806451612878,
           -0.13306451612903225,
           -0.6169354838709677,
           -0.6169354838709677,
           -0.032258064516129115,
           -0.5080645161290323
          ],
          [
           -0.5725806451612903,
           0,
           -0.0040322580645161255,
           -0.04435483870967749,
           -0.5080645161290323,
           0,
           -0.0766129032258065,
           -0.0040322580645161255,
           0,
           0,
           -0.2822580645161291,
           -0.16129032258064513,
           -0.1733870967741935,
           -0.23790322580645162,
           -0.016129032258064502,
           -0.012096774193548376,
           -0.092741935483871,
           -0.5080645161290323,
           -0.6491935483870968,
           -0.41532258064516137,
           -0.10887096774193539,
           -0.3709677419354839,
           -0.6330645161290323,
           -0.1411290322580645,
           0
          ],
          [
           -0.08064516129032251,
           -0.06048387096774199,
           -0.07258064516129026,
           -0.44758064516129037,
           -0.6048387096774194,
           -0.2661290322580645,
           -0.6048387096774193,
           -0.020161290322580627,
           -0.03629032258064524,
           -0.08467741935483875,
           -0.6330645161290323,
           -0.092741935483871,
           -0.04435483870967738,
           -0.02822580645161299,
           -0.06048387096774199,
           -0.3387096774193548,
           -0.6653225806451613,
           -0.5806451612903225,
           -0.05645161290322587,
           -0.6088709677419355,
           -0.09677419354838701,
           -0.282258064516129,
           -0.008064516129032251,
           -0.21370967741935476,
           0.020161290322580627
          ],
          [
           -0.040322580645161366,
           -0.048387096774193616,
           0.0040322580645161255,
           -0.435483870967742,
           -0.08870967741935487,
           -0.06048387096774199,
           -0.04435483870967749,
           -0.10483870967741926,
           -0.07258064516129037,
           -0.092741935483871,
           -0.20967741935483863,
           -0.05241935483870963,
           0.0040322580645161255,
           -0.18951612903225812,
           -0.03629032258064524,
           -0.04435483870967749,
           -0.5524193548387096,
           -0.49193548387096775,
           -0.03629032258064513,
           -0.028225806451612878,
           -0.15322580645161288,
           -0.6048387096774194,
           -0.2016129032258065,
           -0.03629032258064524,
           -0.11290322580645162
          ],
          [
           -0.04435483870967749,
           -0.5080645161290323,
           -0.0040322580645161255,
           -0.22983870967741937,
           -0.03629032258064513,
           -0.2943548387096774,
           -0.1088709677419355,
           -0.28629032258064513,
           -0.467741935483871,
           -0.020161290322580627,
           -0.02016129032258074,
           -0.06048387096774199,
           -0.13306451612903225,
           0,
           -0.3629032258064516,
           -0.16532258064516137,
           -0.41129032258064513,
           -0.012096774193548376,
           -0.07661290322580638,
           -0.407258064516129,
           -0.625,
           0,
           -0.04435483870967749,
           0.032258064516129115,
           -0.032258064516129115
          ],
          [
           -0.012096774193548376,
           -0.032258064516129115,
           -0.12096774193548387,
           -0.04435483870967749,
           0,
           -0.5766129032258065,
           0.0040322580645161255,
           0,
           -0.34274193548387094,
           0,
           -0.15322580645161288,
           -0.03629032258064513,
           -0.18145161290322587,
           -0.028225806451612878,
           -0.040322580645161366,
           -0.4233870967741935,
           -0.5362903225806451,
           -0.2943548387096775,
           -0.08064516129032251,
           -0.024193548387096753,
           0.0040322580645161255,
           0.0040322580645161255,
           -0.016129032258064502,
           -0.032258064516129004,
           -0.5241935483870968
          ],
          [
           -0.0040322580645161255,
           0,
           -0.028225806451612878,
           -0.16532258064516137,
           -0.09274193548387089,
           -0.016129032258064502,
           -0.06854838709677424,
           -0.17741935483870974,
           0,
           -0.0040322580645161255,
           -0.4596774193548387,
           -0.028225806451612878,
           -0.020161290322580627,
           -0.45564516129032256,
           -0.10483870967741937,
           -0.5887096774193548,
           -0.008064516129032251,
           -0.3387096774193548,
           -0.560483870967742,
           -0.03629032258064513,
           -0.08064516129032251,
           -0.07258064516129037,
           -0.3951612903225806,
           -0.3709677419354838,
           -0.028225806451612878
          ],
          [
           -0.08467741935483863,
           -0.5846774193548387,
           -0.125,
           -0.06854838709677413,
           -0.008064516129032251,
           -0.5403225806451613,
           -0.0040322580645161255,
           -0.564516129032258,
           -0.3629032258064516,
           -0.5201612903225807,
           -0.03629032258064513,
           -0.15725806451612911,
           0,
           -0.5967741935483871,
           -0.056451612903225756,
           -0.08467741935483863,
           -0.6411290322580645,
           -0.27419354838709686,
           -0.24596774193548387,
           -0.5887096774193548,
           -0.06854838709677424,
           -0.5120967741935484,
           -0.2620967741935484,
           -0.20161290322580638,
           -0.6491935483870968
          ],
          [
           -0.05645161290322587,
           -0.056451612903225756,
           -0.020161290322580627,
           -0.5846774193548386,
           -0.012096774193548376,
           -0.27419354838709675,
           -0.020161290322580627,
           -0.5080645161290323,
           -0.3951612903225807,
           -0.008064516129032251,
           -0.0040322580645161255,
           -0.153225806451613,
           0,
           -0.5080645161290323,
           -0.25806451612903225,
           0,
           0,
           0,
           -0.008064516129032251,
           -0.032258064516129004,
           -0.02822580645161299,
           -0.3709677419354838,
           -0.12096774193548387,
           -0.592741935483871,
           -0.040322580645161366
          ],
          [
           -0.2943548387096774,
           0.0040322580645161255,
           -0.29032258064516125,
           -0.4838709677419355,
           -0.14516129032258063,
           -0.048387096774193616,
           -0.5120967741935484,
           -0.25806451612903236,
           -0.36693548387096775,
           -0.10483870967741926,
           -0.012096774193548376,
           -0.5483870967741935,
           -0.1411290322580645,
           -0.04435483870967738,
           -0.19758064516129026,
           -0.06451612903225801,
           -0.040322580645161366,
           -0.22983870967741926,
           -0.07258064516129026,
           0.0040322580645161255,
           -0.016129032258064502,
           0,
           -0.2782258064516129,
           -0.07258064516129026,
           -0.06854838709677424
          ],
          [
           -0.07258064516129026,
           -0.37500000000000006,
           -0.020161290322580627,
           -0.02822580645161299,
           -0.0040322580645161255,
           0.012096774193548376,
           -0.11290322580645151,
           -0.5201612903225806,
           -0.008064516129032251,
           0,
           -0.016129032258064502,
           -0.4637096774193548,
           -0.2701612903225806,
           -0.2782258064516129,
           -0.19354838709677424,
           -0.25806451612903225,
           -0.0040322580645161255,
           -0.07661290322580638,
           -0.028225806451612878,
           -0.5564516129032259,
           -0.07258064516129037,
           -0.5161290322580645,
           -0.18548387096774188,
           -0.532258064516129,
           -0.08064516129032251
          ],
          [
           -0.18145161290322587,
           -0.20967741935483875,
           -0.3588709677419355,
           -0.24596774193548387,
           -0.14516129032258063,
           -0.18548387096774188,
           -0.048387096774193505,
           -0.3629032258064516,
           -0.21370967741935476,
           -0.20564516129032262,
           -0.3145161290322581,
           -0.34677419354838707,
           -0.024193548387096753,
           -0.2620967741935484,
           -0.23790322580645162,
           -0.012096774193548376,
           -0.03629032258064513,
           -0.33467741935483875,
           -0.3951612903225807,
           -0.032258064516129115,
           -0.3870967741935483,
           -0.5806451612903225,
           -0.5201612903225805,
           0.008064516129032251,
           -0.08467741935483863
          ],
          [
           -0.41129032258064513,
           -0.48387096774193544,
           -0.3911290322580645,
           -0.221774193548387,
           -0.05241935483870974,
           -0.2540322580645161,
           -0.14516129032258063,
           -0.5040322580645162,
           -0.5080645161290323,
           -0.23790322580645162,
           -0.3991935483870968,
           -0.07258064516129037,
           -0.3306451612903226,
           -0.2983870967741935,
           -0.221774193548387,
           -0.43145161290322576,
           -0.020161290322580627,
           -0.44354838709677424,
           -0.39919354838709675,
           -0.008064516129032251,
           -0.3790322580645161,
           -0.4959677419354838,
           -0.4879032258064517,
           0,
           0
          ],
          [
           -0.30241935483870974,
           -0.2943548387096774,
           -0.040322580645161255,
           -0.12096774193548387,
           -0.36290322580645157,
           -0.5564516129032258,
           -0.020161290322580627,
           -0.07258064516129037,
           -0.09677419354838712,
           -0.020161290322580627,
           -0.0040322580645161255,
           -0.15322580645161288,
           -0.016129032258064502,
           -0.008064516129032251,
           -0.21774193548387089,
           -0.2338709677419354,
           -0.09677419354838712,
           -0.5080645161290323,
           0.008064516129032251,
           -0.31854838709677424,
           -0.5483870967741936,
           -0.20161290322580638,
           -0.11290322580645162,
           -0.48790322580645157,
           -0.24193548387096775
          ],
          [
           -0.008064516129032251,
           -0.15322580645161288,
           -0.532258064516129,
           -0.12903225806451613,
           -0.439516129032258,
           -0.18548387096774188,
           -0.14516129032258074,
           -0.45564516129032256,
           0,
           -0.048387096774193505,
           -0.13709677419354838,
           -0.4798387096774193,
           -0.08064516129032251,
           -0.27419354838709675,
           -0.13306451612903225,
           -0.3548387096774193,
           -0.5725806451612903,
           -0.37903225806451607,
           -0.3669354838709678,
           -0.48387096774193544,
           -0.0040322580645161255,
           -0.008064516129032251,
           -0.4596774193548387,
           -0.22983870967741926,
           -0.4637096774193548
          ],
          [
           -0.1411290322580645,
           0,
           -0.0040322580645161255,
           -0.49999999999999994,
           -0.0040322580645161255,
           -0.008064516129032251,
           -0.020161290322580627,
           -0.35080645161290325,
           -0.33870967741935487,
           0.012096774193548376,
           -0.16129032258064524,
           -0.028225806451612878,
           -0.020161290322580627,
           -0.44758064516129026,
           -0.5685483870967741,
           -0.16935483870967738,
           -0.024193548387096753,
           -0.185483870967742,
           -0.11693548387096775,
           -0.46774193548387094,
           -0.012096774193548376,
           -0.29032258064516137,
           -0.41532258064516125,
           -0.016129032258064502,
           -0.407258064516129
          ],
          [
           -0.22983870967741937,
           -0.22983870967741937,
           -0.11693548387096775,
           -0.020161290322580627,
           -0.008064516129032251,
           0,
           -0.5806451612903226,
           -0.16935483870967738,
           -0.08870967741935476,
           -0.2782258064516129,
           -0.20967741935483863,
           -0.3669354838709678,
           -0.03629032258064513,
           -0.49596774193548393,
           -0.17338709677419362,
           -0.3387096774193548,
           -0.028225806451612878,
           -0.3145161290322581,
           -0.1088709677419355,
           -0.2540322580645161,
           0,
           -0.27016129032258074,
           -0.310483870967742,
           -0.10483870967741937,
           -0.016129032258064502
          ],
          [
           -0.3951612903225807,
           0,
           -0.016129032258064502,
           -0.008064516129032251,
           0,
           -0.37499999999999994,
           -0.11290322580645162,
           -0.25806451612903225,
           -0.07258064516129026,
           -0.4717741935483871,
           -0.3830645161290323,
           -0.2943548387096774,
           -0.30645161290322587,
           -0.221774193548387,
           -0.008064516129032251,
           -0.34677419354838707,
           -0.016129032258064502,
           -0.0040322580645161255,
           -0.09274193548387089,
           -0.36290322580645157,
           -0.032258064516129004,
           -0.23790322580645162,
           -0.4233870967741935,
           -0.0040322580645161255,
           0
          ],
          [
           -0.13709677419354838,
           -0.032258064516129115,
           -0.2379032258064515,
           -0.48387096774193544,
           -0.10483870967741926,
           -0.0040322580645161255,
           -0.17741935483870963,
           -0.20161290322580638,
           -0.08870967741935476,
           -0.10080645161290314,
           -0.30645161290322576,
           -0.16532258064516125,
           -0.36290322580645157,
           -0.3145161290322581,
           -0.11290322580645162,
           -0.03629032258064513,
           -0.22580645161290325,
           -0.08870967741935476,
           -0.008064516129032251,
           -0.032258064516129004,
           -0.04435483870967738,
           -0.12903225806451613,
           -0.45967741935483875,
           -0.2983870967741936,
           -0.024193548387096753
          ],
          [
           -0.06451612903225812,
           -0.008064516129032251,
           -0.012096774193548376,
           -0.0040322580645161255,
           -0.25806451612903225,
           -0.3629032258064516,
           -0.28629032258064513,
           -0.012096774193548376,
           -0.028225806451612878,
           -0.17741935483870963,
           -0.1733870967741935,
           -0.012096774193548376,
           -0.2540322580645161,
           -0.15322580645161288,
           -0.3870967741935484,
           -0.18145161290322576,
           -0.375,
           -0.1733870967741935,
           -0.2016129032258065,
           -0.0040322580645161255,
           -0.028225806451612878,
           -0.439516129032258,
           -0.10887096774193539,
           0,
           -0.3508064516129032
          ],
          [
           0,
           -0.18548387096774188,
           -0.07258064516129026,
           -0.2016129032258065,
           -0.008064516129032251,
           -0.34677419354838707,
           -0.18145161290322587,
           -0.1411290322580646,
           -0.4758064516129032,
           -0.20564516129032262,
           -0.1693548387096775,
           -0.1088709677419355,
           -0.2782258064516129,
           -0.125,
           -0.5403225806451613,
           -0.19758064516129026,
           -0.4959677419354838,
           -0.048387096774193505,
           -0.04435483870967749,
           -0.048387096774193616,
           -0.24596774193548387,
           -0.41532258064516125,
           -0.185483870967742,
           -0.24193548387096775,
           -0.06451612903225801
          ],
          [
           -0.2943548387096774,
           -0.22580645161290325,
           -0.08870967741935476,
           0,
           -0.39919354838709675,
           -0.1088709677419355,
           -0.12096774193548387,
           -0.43145161290322587,
           -0.2338709677419354,
           -0.5483870967741935,
           -0.008064516129032251,
           -0.5201612903225807,
           -0.2701612903225806,
           -0.3508064516129032,
           -0.10080645161290314,
           -0.28629032258064513,
           -0.020161290322580627,
           -0.0040322580645161255,
           -0.30241935483870963,
           -0.2822580645161291,
           -0.20161290322580638,
           -0.12903225806451613,
           -0.4193548387096775,
           -0.2016129032258065,
           -0.09677419354838701
          ],
          [
           -0.4758064516129032,
           -0.23790322580645162,
           -0.22580645161290325,
           -0.040322580645161255,
           -0.12096774193548387,
           -0.33467741935483863,
           -0.012096774193548376,
           -0.15322580645161288,
           -0.016129032258064502,
           -0.1370967741935485,
           -0.4798387096774193,
           -0.22177419354838712,
           -0.012096774193548376,
           -0.30645161290322587,
           -0.153225806451613,
           -0.16532258064516137,
           -0.25806451612903225,
           -0.46774193548387094,
           -0.08064516129032251,
           -0.3548387096774194,
           -0.27016129032258074,
           -0.4274193548387097,
           -0.10080645161290314,
           -0.02016129032258074,
           -0.012096774193548376
          ],
          [
           -0.12903225806451613,
           -0.5120967741935483,
           -0.30645161290322576,
           -0.18548387096774188,
           -0.5080645161290323,
           -0.5604838709677419,
           -0.125,
           -0.09677419354838701,
           -0.5564516129032258,
           -0.2016129032258065,
           -0.3911290322580645,
           -0.35887096774193544,
           -0.3669354838709677,
           -0.14516129032258063,
           -0.17338709677419362,
           -0.5604838709677419,
           -0.20967741935483875,
           -0.5040322580645162,
           -0.18145161290322587,
           -0.4193548387096774,
           -0.5725806451612903,
           -0.2661290322580645,
           -0.153225806451613,
           -0.1733870967741935,
           -0.020161290322580627
          ],
          [
           -0.16532258064516137,
           -0.15322580645161288,
           -0.21370967741935476,
           -0.48387096774193555,
           -0.157258064516129,
           -0.056451612903225756,
           -0.30645161290322587,
           -0.3669354838709678,
           -0.040322580645161366,
           -0.33467741935483863,
           -0.48387096774193555,
           -0.048387096774193505,
           -0.37500000000000006,
           -0.09274193548387089,
           -0.221774193548387,
           -0.0766129032258065,
           -0.092741935483871,
           -0.2822580645161291,
           -0.44354838709677413,
           -0.13709677419354838,
           -0.6169354838709677,
           -0.3669354838709677,
           -0.4879032258064517,
           -0.40322580645161293,
           -0.25806451612903225
          ],
          [
           -0.41532258064516125,
           -0.5161290322580645,
           -0.14919354838709675,
           -0.22580645161290325,
           -0.1411290322580645,
           -0.6129032258064516,
           -0.30241935483870974,
           -0.09677419354838701,
           -0.5120967741935485,
           -0.5604838709677419,
           -0.06854838709677424,
           -0.048387096774193505,
           -0.5443548387096774,
           -0.5201612903225807,
           -0.06854838709677413,
           -0.42338709677419356,
           -0.17338709677419362,
           -0.185483870967742,
           -0.10483870967741926,
           -0.5362903225806452,
           -0.1411290322580646,
           -0.532258064516129,
           -0.2338709677419355,
           -0.04435483870967749,
           -0.06048387096774199
          ]
         ]
        }
       ],
       "layout": {
        "coloraxis": {
         "cmid": 0,
         "colorscale": [
          [
           0,
           "rgb(103,0,31)"
          ],
          [
           0.1,
           "rgb(178,24,43)"
          ],
          [
           0.2,
           "rgb(214,96,77)"
          ],
          [
           0.3,
           "rgb(244,165,130)"
          ],
          [
           0.4,
           "rgb(253,219,199)"
          ],
          [
           0.5,
           "rgb(247,247,247)"
          ],
          [
           0.6,
           "rgb(209,229,240)"
          ],
          [
           0.7,
           "rgb(146,197,222)"
          ],
          [
           0.8,
           "rgb(67,147,195)"
          ],
          [
           0.9,
           "rgb(33,102,172)"
          ],
          [
           1,
           "rgb(5,48,97)"
          ]
         ]
        },
        "template": {
         "data": {
          "bar": [
           {
            "error_x": {
             "color": "#2a3f5f"
            },
            "error_y": {
             "color": "#2a3f5f"
            },
            "marker": {
             "line": {
              "color": "#E5ECF6",
              "width": 0.5
             },
             "pattern": {
              "fillmode": "overlay",
              "size": 10,
              "solidity": 0.2
             }
            },
            "type": "bar"
           }
          ],
          "barpolar": [
           {
            "marker": {
             "line": {
              "color": "#E5ECF6",
              "width": 0.5
             },
             "pattern": {
              "fillmode": "overlay",
              "size": 10,
              "solidity": 0.2
             }
            },
            "type": "barpolar"
           }
          ],
          "carpet": [
           {
            "aaxis": {
             "endlinecolor": "#2a3f5f",
             "gridcolor": "white",
             "linecolor": "white",
             "minorgridcolor": "white",
             "startlinecolor": "#2a3f5f"
            },
            "baxis": {
             "endlinecolor": "#2a3f5f",
             "gridcolor": "white",
             "linecolor": "white",
             "minorgridcolor": "white",
             "startlinecolor": "#2a3f5f"
            },
            "type": "carpet"
           }
          ],
          "choropleth": [
           {
            "colorbar": {
             "outlinewidth": 0,
             "ticks": ""
            },
            "type": "choropleth"
           }
          ],
          "contour": [
           {
            "colorbar": {
             "outlinewidth": 0,
             "ticks": ""
            },
            "colorscale": [
             [
              0,
              "#0d0887"
             ],
             [
              0.1111111111111111,
              "#46039f"
             ],
             [
              0.2222222222222222,
              "#7201a8"
             ],
             [
              0.3333333333333333,
              "#9c179e"
             ],
             [
              0.4444444444444444,
              "#bd3786"
             ],
             [
              0.5555555555555556,
              "#d8576b"
             ],
             [
              0.6666666666666666,
              "#ed7953"
             ],
             [
              0.7777777777777778,
              "#fb9f3a"
             ],
             [
              0.8888888888888888,
              "#fdca26"
             ],
             [
              1,
              "#f0f921"
             ]
            ],
            "type": "contour"
           }
          ],
          "contourcarpet": [
           {
            "colorbar": {
             "outlinewidth": 0,
             "ticks": ""
            },
            "type": "contourcarpet"
           }
          ],
          "heatmap": [
           {
            "colorbar": {
             "outlinewidth": 0,
             "ticks": ""
            },
            "colorscale": [
             [
              0,
              "#0d0887"
             ],
             [
              0.1111111111111111,
              "#46039f"
             ],
             [
              0.2222222222222222,
              "#7201a8"
             ],
             [
              0.3333333333333333,
              "#9c179e"
             ],
             [
              0.4444444444444444,
              "#bd3786"
             ],
             [
              0.5555555555555556,
              "#d8576b"
             ],
             [
              0.6666666666666666,
              "#ed7953"
             ],
             [
              0.7777777777777778,
              "#fb9f3a"
             ],
             [
              0.8888888888888888,
              "#fdca26"
             ],
             [
              1,
              "#f0f921"
             ]
            ],
            "type": "heatmap"
           }
          ],
          "heatmapgl": [
           {
            "colorbar": {
             "outlinewidth": 0,
             "ticks": ""
            },
            "colorscale": [
             [
              0,
              "#0d0887"
             ],
             [
              0.1111111111111111,
              "#46039f"
             ],
             [
              0.2222222222222222,
              "#7201a8"
             ],
             [
              0.3333333333333333,
              "#9c179e"
             ],
             [
              0.4444444444444444,
              "#bd3786"
             ],
             [
              0.5555555555555556,
              "#d8576b"
             ],
             [
              0.6666666666666666,
              "#ed7953"
             ],
             [
              0.7777777777777778,
              "#fb9f3a"
             ],
             [
              0.8888888888888888,
              "#fdca26"
             ],
             [
              1,
              "#f0f921"
             ]
            ],
            "type": "heatmapgl"
           }
          ],
          "histogram": [
           {
            "marker": {
             "pattern": {
              "fillmode": "overlay",
              "size": 10,
              "solidity": 0.2
             }
            },
            "type": "histogram"
           }
          ],
          "histogram2d": [
           {
            "colorbar": {
             "outlinewidth": 0,
             "ticks": ""
            },
            "colorscale": [
             [
              0,
              "#0d0887"
             ],
             [
              0.1111111111111111,
              "#46039f"
             ],
             [
              0.2222222222222222,
              "#7201a8"
             ],
             [
              0.3333333333333333,
              "#9c179e"
             ],
             [
              0.4444444444444444,
              "#bd3786"
             ],
             [
              0.5555555555555556,
              "#d8576b"
             ],
             [
              0.6666666666666666,
              "#ed7953"
             ],
             [
              0.7777777777777778,
              "#fb9f3a"
             ],
             [
              0.8888888888888888,
              "#fdca26"
             ],
             [
              1,
              "#f0f921"
             ]
            ],
            "type": "histogram2d"
           }
          ],
          "histogram2dcontour": [
           {
            "colorbar": {
             "outlinewidth": 0,
             "ticks": ""
            },
            "colorscale": [
             [
              0,
              "#0d0887"
             ],
             [
              0.1111111111111111,
              "#46039f"
             ],
             [
              0.2222222222222222,
              "#7201a8"
             ],
             [
              0.3333333333333333,
              "#9c179e"
             ],
             [
              0.4444444444444444,
              "#bd3786"
             ],
             [
              0.5555555555555556,
              "#d8576b"
             ],
             [
              0.6666666666666666,
              "#ed7953"
             ],
             [
              0.7777777777777778,
              "#fb9f3a"
             ],
             [
              0.8888888888888888,
              "#fdca26"
             ],
             [
              1,
              "#f0f921"
             ]
            ],
            "type": "histogram2dcontour"
           }
          ],
          "mesh3d": [
           {
            "colorbar": {
             "outlinewidth": 0,
             "ticks": ""
            },
            "type": "mesh3d"
           }
          ],
          "parcoords": [
           {
            "line": {
             "colorbar": {
              "outlinewidth": 0,
              "ticks": ""
             }
            },
            "type": "parcoords"
           }
          ],
          "pie": [
           {
            "automargin": true,
            "type": "pie"
           }
          ],
          "scatter": [
           {
            "fillpattern": {
             "fillmode": "overlay",
             "size": 10,
             "solidity": 0.2
            },
            "type": "scatter"
           }
          ],
          "scatter3d": [
           {
            "line": {
             "colorbar": {
              "outlinewidth": 0,
              "ticks": ""
             }
            },
            "marker": {
             "colorbar": {
              "outlinewidth": 0,
              "ticks": ""
             }
            },
            "type": "scatter3d"
           }
          ],
          "scattercarpet": [
           {
            "marker": {
             "colorbar": {
              "outlinewidth": 0,
              "ticks": ""
             }
            },
            "type": "scattercarpet"
           }
          ],
          "scattergeo": [
           {
            "marker": {
             "colorbar": {
              "outlinewidth": 0,
              "ticks": ""
             }
            },
            "type": "scattergeo"
           }
          ],
          "scattergl": [
           {
            "marker": {
             "colorbar": {
              "outlinewidth": 0,
              "ticks": ""
             }
            },
            "type": "scattergl"
           }
          ],
          "scattermapbox": [
           {
            "marker": {
             "colorbar": {
              "outlinewidth": 0,
              "ticks": ""
             }
            },
            "type": "scattermapbox"
           }
          ],
          "scatterpolar": [
           {
            "marker": {
             "colorbar": {
              "outlinewidth": 0,
              "ticks": ""
             }
            },
            "type": "scatterpolar"
           }
          ],
          "scatterpolargl": [
           {
            "marker": {
             "colorbar": {
              "outlinewidth": 0,
              "ticks": ""
             }
            },
            "type": "scatterpolargl"
           }
          ],
          "scatterternary": [
           {
            "marker": {
             "colorbar": {
              "outlinewidth": 0,
              "ticks": ""
             }
            },
            "type": "scatterternary"
           }
          ],
          "surface": [
           {
            "colorbar": {
             "outlinewidth": 0,
             "ticks": ""
            },
            "colorscale": [
             [
              0,
              "#0d0887"
             ],
             [
              0.1111111111111111,
              "#46039f"
             ],
             [
              0.2222222222222222,
              "#7201a8"
             ],
             [
              0.3333333333333333,
              "#9c179e"
             ],
             [
              0.4444444444444444,
              "#bd3786"
             ],
             [
              0.5555555555555556,
              "#d8576b"
             ],
             [
              0.6666666666666666,
              "#ed7953"
             ],
             [
              0.7777777777777778,
              "#fb9f3a"
             ],
             [
              0.8888888888888888,
              "#fdca26"
             ],
             [
              1,
              "#f0f921"
             ]
            ],
            "type": "surface"
           }
          ],
          "table": [
           {
            "cells": {
             "fill": {
              "color": "#EBF0F8"
             },
             "line": {
              "color": "white"
             }
            },
            "header": {
             "fill": {
              "color": "#C8D4E3"
             },
             "line": {
              "color": "white"
             }
            },
            "type": "table"
           }
          ]
         },
         "layout": {
          "annotationdefaults": {
           "arrowcolor": "#2a3f5f",
           "arrowhead": 0,
           "arrowwidth": 1
          },
          "autotypenumbers": "strict",
          "coloraxis": {
           "colorbar": {
            "outlinewidth": 0,
            "ticks": ""
           }
          },
          "colorscale": {
           "diverging": [
            [
             0,
             "#8e0152"
            ],
            [
             0.1,
             "#c51b7d"
            ],
            [
             0.2,
             "#de77ae"
            ],
            [
             0.3,
             "#f1b6da"
            ],
            [
             0.4,
             "#fde0ef"
            ],
            [
             0.5,
             "#f7f7f7"
            ],
            [
             0.6,
             "#e6f5d0"
            ],
            [
             0.7,
             "#b8e186"
            ],
            [
             0.8,
             "#7fbc41"
            ],
            [
             0.9,
             "#4d9221"
            ],
            [
             1,
             "#276419"
            ]
           ],
           "sequential": [
            [
             0,
             "#0d0887"
            ],
            [
             0.1111111111111111,
             "#46039f"
            ],
            [
             0.2222222222222222,
             "#7201a8"
            ],
            [
             0.3333333333333333,
             "#9c179e"
            ],
            [
             0.4444444444444444,
             "#bd3786"
            ],
            [
             0.5555555555555556,
             "#d8576b"
            ],
            [
             0.6666666666666666,
             "#ed7953"
            ],
            [
             0.7777777777777778,
             "#fb9f3a"
            ],
            [
             0.8888888888888888,
             "#fdca26"
            ],
            [
             1,
             "#f0f921"
            ]
           ],
           "sequentialminus": [
            [
             0,
             "#0d0887"
            ],
            [
             0.1111111111111111,
             "#46039f"
            ],
            [
             0.2222222222222222,
             "#7201a8"
            ],
            [
             0.3333333333333333,
             "#9c179e"
            ],
            [
             0.4444444444444444,
             "#bd3786"
            ],
            [
             0.5555555555555556,
             "#d8576b"
            ],
            [
             0.6666666666666666,
             "#ed7953"
            ],
            [
             0.7777777777777778,
             "#fb9f3a"
            ],
            [
             0.8888888888888888,
             "#fdca26"
            ],
            [
             1,
             "#f0f921"
            ]
           ]
          },
          "colorway": [
           "#636efa",
           "#EF553B",
           "#00cc96",
           "#ab63fa",
           "#FFA15A",
           "#19d3f3",
           "#FF6692",
           "#B6E880",
           "#FF97FF",
           "#FECB52"
          ],
          "font": {
           "color": "#2a3f5f"
          },
          "geo": {
           "bgcolor": "white",
           "lakecolor": "white",
           "landcolor": "#E5ECF6",
           "showlakes": true,
           "showland": true,
           "subunitcolor": "white"
          },
          "hoverlabel": {
           "align": "left"
          },
          "hovermode": "closest",
          "mapbox": {
           "style": "light"
          },
          "paper_bgcolor": "white",
          "plot_bgcolor": "#E5ECF6",
          "polar": {
           "angularaxis": {
            "gridcolor": "white",
            "linecolor": "white",
            "ticks": ""
           },
           "bgcolor": "#E5ECF6",
           "radialaxis": {
            "gridcolor": "white",
            "linecolor": "white",
            "ticks": ""
           }
          },
          "scene": {
           "xaxis": {
            "backgroundcolor": "#E5ECF6",
            "gridcolor": "white",
            "gridwidth": 2,
            "linecolor": "white",
            "showbackground": true,
            "ticks": "",
            "zerolinecolor": "white"
           },
           "yaxis": {
            "backgroundcolor": "#E5ECF6",
            "gridcolor": "white",
            "gridwidth": 2,
            "linecolor": "white",
            "showbackground": true,
            "ticks": "",
            "zerolinecolor": "white"
           },
           "zaxis": {
            "backgroundcolor": "#E5ECF6",
            "gridcolor": "white",
            "gridwidth": 2,
            "linecolor": "white",
            "showbackground": true,
            "ticks": "",
            "zerolinecolor": "white"
           }
          },
          "shapedefaults": {
           "line": {
            "color": "#2a3f5f"
           }
          },
          "ternary": {
           "aaxis": {
            "gridcolor": "white",
            "linecolor": "white",
            "ticks": ""
           },
           "baxis": {
            "gridcolor": "white",
            "linecolor": "white",
            "ticks": ""
           },
           "bgcolor": "#E5ECF6",
           "caxis": {
            "gridcolor": "white",
            "linecolor": "white",
            "ticks": ""
           }
          },
          "title": {
           "x": 0.05
          },
          "xaxis": {
           "automargin": true,
           "gridcolor": "white",
           "linecolor": "white",
           "ticks": "",
           "title": {
            "standoff": 15
           },
           "zerolinecolor": "white",
           "zerolinewidth": 2
          },
          "yaxis": {
           "automargin": true,
           "gridcolor": "white",
           "linecolor": "white",
           "ticks": "",
           "title": {
            "standoff": 15
           },
           "zerolinecolor": "white",
           "zerolinewidth": 2
          }
         }
        },
        "title": {
         "text": "AccDiff of Cat/Bin"
        },
        "xaxis": {
         "anchor": "y",
         "constrain": "domain",
         "domain": [
          0,
          1
         ],
         "scaleanchor": "y",
         "title": {
          "text": "Heads (sorted)"
         }
        },
        "yaxis": {
         "anchor": "x",
         "autorange": true,
         "constrain": "domain",
         "domain": [
          0,
          1
         ],
         "title": {
          "text": "Layers"
         }
        }
       }
      },
      "text/html": [
       "<div>                            <div id=\"575ba019-bb7a-43e9-8c12-c4a11e063769\" class=\"plotly-graph-div\" style=\"height:525px; width:100%;\"></div>            <script type=\"text/javascript\">                require([\"plotly\"], function(Plotly) {                    window.PLOTLYENV=window.PLOTLYENV || {};                                    if (document.getElementById(\"575ba019-bb7a-43e9-8c12-c4a11e063769\")) {                    Plotly.newPlot(                        \"575ba019-bb7a-43e9-8c12-c4a11e063769\",                        [{\"coloraxis\":\"coloraxis\",\"name\":\"0\",\"z\":[[-0.5806451612903225,0.0,-0.5806451612903225,0.0,-0.5806451612903225,-0.5120967741935484,-0.5282258064516129,-0.5806451612903225,-0.5443548387096774,-0.04435483870967738,-0.2540322580645161,-0.5282258064516129,-0.5806451612903225,-0.41129032258064513,-0.4919354838709677,-0.5483870967741935,-0.5806451612903225,-0.5806451612903225,-0.5806451612903225,-0.2701612903225806,-0.016129032258064502,-0.49999999999999994,-0.0040322580645161255,-0.5806451612903225,-0.30645161290322576],[-0.3911290322580645,0.0,-0.5806451612903225,-0.5806451612903225,-0.5806451612903225,-0.10080645161290314,-0.0040322580645161255,-0.39919354838709675,0.0,-0.21370967741935476,-0.5362903225806451,-0.3911290322580645,0.0,-0.3387096774193548,0.0,-0.5806451612903225,-0.5806451612903225,0.0,-0.5806451612903225,-0.5282258064516129,-0.008064516129032251,-0.5806451612903225,-0.5362903225806451,0.0,-0.0040322580645161255],[-0.5766129032258064,-0.0040322580645161255,-0.016129032258064502,-0.19758064516129026,-0.012096774193548376,0.0,0.0,-0.0040322580645161255,-0.5685483870967741,0.0,0.0,-0.5806451612903225,-0.10080645161290314,-0.3104838709677419,0.0040322580645161255,-0.07661290322580638,-0.23790322580645162,-0.5806451612903225,-0.5766129032258064,0.0,-0.5806451612903225,0.0,-0.24193548387096775,0.0,-0.06048387096774188],[-0.5806451612903225,-0.0040322580645161255,-0.0040322580645161255,-0.03629032258064513,-0.5483870967741935,0.0,-0.0040322580645161255,-0.21370967741935476,0.0,0.0,-0.0040322580645161255,-0.41129032258064513,-0.4032258064516129,-0.5806451612903225,0.0,0.0,-0.23790322580645162,0.0,0.0,0.0,-0.5806451612903225,-0.5806451612903225,-0.5806451612903225,-0.5806451612903225,0.0],[0.0,-0.5806451612903225,0.0,-0.5766129032258064,-0.5806451612903225,-0.5483870967741935,0.0,-0.5806451612903225,-0.5806451612903225,-0.5806451612903225,-0.5725806451612903,0.0,0.0,-0.5806451612903225,-0.3870967741935484,-0.5806451612903225,-0.012096774193548376,0.0,-0.5806451612903225,-0.008064516129032251,0.0,-0.5806451612903225,-0.020161290322580627,-0.5806451612903225,0.0],[-0.5806451612903225,-0.07661290322580638,-0.07258064516129026,-0.5806451612903225,-0.4637096774193548,-0.5443548387096774,0.0,0.0,-0.03629032258064513,-0.5806451612903225,-0.012096774193548376,-0.3911290322580645,-0.5766129032258064,0.0,0.0,0.0,0.0,-0.048387096774193505,-0.028225806451612878,-0.5806451612903225,-0.03629032258064513,0.0,-0.5806451612903225,-0.33064516129032256,0.0],[0.0,-0.5806451612903225,-0.5806451612903225,-0.5483870967741935,-0.5806451612903225,-0.3508064516129032,0.0,-0.43145161290322576,-0.439516129032258,0.0,0.0040322580645161255,-0.08467741935483863,-0.407258064516129,-0.5806451612903225,-0.5806451612903225,0.0,-0.32661290322580644,-0.5725806451612903,-0.5806451612903225,-0.5362903225806451,0.0,-0.5806451612903225,-0.5766129032258064,-0.5806451612903225,-0.39919354838709675],[0.0,0.0,0.0,-0.5806451612903225,-0.15322580645161288,0.0,-0.5806451612903225,-0.008064516129032251,0.0,0.0,0.0,-0.5241935483870968,-0.5806451612903225,-0.5806451612903225,-0.3548387096774193,-0.5806451612903225,-0.5806451612903225,-0.10080645161290314,-0.020161290322580627,0.0,0.0,-0.34677419354838707,0.0,0.0,-0.24596774193548387],[-0.5766129032258064,0.024193548387096864,0.0,-0.5806451612903225,-0.5806451612903225,0.0,-0.5806451612903225,-0.5766129032258064,-0.5766129032258064,-0.5806451612903225,0.0040322580645161255,-0.5806451612903225,0.0,0.0040322580645161255,-0.0040322580645161255,0.0,-0.07661290322580638,-0.5604838709677419,-0.5806451612903225,-0.5806451612903225,0.0,-0.5766129032258064,-0.020161290322580627,-0.5806451612903225,-0.5403225806451613],[0.0,-0.0040322580645161255,0.0,-0.5806451612903225,0.0,-0.5806451612903225,0.0,-0.47177419354838707,-0.10080645161290314,0.0,0.0,0.0,-0.5806451612903225,-0.06048387096774188,0.0,-0.5806451612903225,0.0,-0.5806451612903225,-0.45161290322580644,0.0,-0.5846774193548386,-0.2620967741935484,-0.35887096774193544,0.0,0.0],[-0.09677419354838701,-0.5403225806451613,0.0,-0.5806451612903225,0.0,0.0,0.0,-0.03629032258064513,-0.0040322580645161255,0.0,-0.5806451612903225,-0.28629032258064513,-0.5403225806451613,-0.314516129032258,-0.5806451612903225,0.0,0.0,0.0,-0.5806451612903225,-0.008064516129032251,0.0,-0.5806451612903225,0.0,-0.5806451612903225,0.0],[-0.5806451612903225,-0.23790322580645162,-0.5806451612903225,-0.5806451612903225,-0.21370967741935476,-0.008064516129032251,-0.33064516129032256,0.0,-0.028225806451612878,-0.5806451612903225,0.0,-0.5806451612903225,0.0,-0.20967741935483863,0.0,0.0,-0.5806451612903225,-0.5806451612903225,0.0,-0.5483870967741935,-0.0040322580645161255,0.0,0.0,-0.040322580645161255,-0.5806451612903225],[0.0,0.0,-0.06854838709677413,0.0,-0.5806451612903225,-0.06048387096774188,-0.5806451612903225,0.0,-0.5806451612903225,-0.06854838709677413,-0.5806451612903225,-0.0040322580645161255,-0.12096774193548387,-0.5806451612903225,-0.18548387096774188,-0.5806451612903225,-0.5806451612903225,0.0,0.0,0.0,-0.5806451612903225,-0.5806451612903225,-0.5806451612903225,-0.5564516129032258,-0.5806451612903225],[-0.4919354838709677,0.0,-0.43145161290322576,-0.008064516129032251,0.0,-0.1733870967741935,-0.5806451612903225,0.0,-0.3870967741935484,0.0,-0.5806451612903225,-0.2983870967741935,-0.02822580645161299,0.0040322580645161255,-0.41129032258064513,0.0,-0.5806451612903225,-0.5806451612903225,0.0,-0.5846774193548386,-0.5806451612903225,-0.5766129032258064,0.0,-0.03629032258064513,-0.5806451612903225],[0.0,-0.5806451612903225,-0.5846774193548386,-0.10080645161290314,0.0,-0.16129032258064524,-0.125,-0.2620967741935484,0.0,0.0,0.0,-0.125,-0.5806451612903225,-0.0040322580645161255,0.0,0.0,-0.5766129032258064,-0.5806451612903225,-0.040322580645161255,-0.42741935483870963,-0.47177419354838707,-0.5806451612903225,-0.5766129032258064,-0.5806451612903225,-0.5120967741935483],[-0.5806451612903225,-0.41129032258064513,-0.5806451612903225,-0.5766129032258064,0.0,-0.5806451612903225,-0.5766129032258064,-0.0040322580645161255,0.0,-0.5806451612903225,0.0,-0.0040322580645161255,-0.5806451612903225,-0.5806451612903225,-0.3548387096774193,-0.48790322580645157,0.0,0.0,-0.48387096774193544,-0.08064516129032251,0.0,-0.0040322580645161255,-0.532258064516129,0.0,-0.5806451612903225],[-0.3104838709677419,0.0,-0.11693548387096775,-0.0766129032258065,0.0,-0.5806451612903225,-0.17741935483870963,-0.5806451612903225,-0.06854838709677413,0.0,-0.5806451612903225,-0.5806451612903225,0.0,-0.5846774193548386,0.0,-0.37499999999999994,0.0,-0.5806451612903225,-0.4919354838709677,-0.5806451612903225,-0.439516129032258,-0.6048387096774194,-0.5604838709677419,-0.03629032258064513,-0.5403225806451613],[-0.2056451612903225,-0.6330645161290323,-0.5362903225806452,-0.25806451612903225,-0.5806451612903225,-0.25,-0.2661290322580645,-0.5483870967741935,-0.008064516129032251,-0.4637096774193548,-0.5806451612903225,-0.5725806451612903,-0.125,-0.5846774193548386,-0.05241935483870963,-0.5806451612903225,-0.25806451612903236,-0.25,-0.35080645161290325,0.0,-0.439516129032258,-0.028225806451612878,-0.5846774193548386,-0.5725806451612903,-0.439516129032258],[-0.27419354838709675,-0.42741935483870963,-0.4919354838709678,0.0,-0.42741935483870963,-0.5443548387096774,-0.0040322580645161255,-0.19758064516129026,-0.5846774193548386,0.0,-0.2983870967741936,0.0040322580645161255,-0.5887096774193548,-0.189516129032258,-0.048387096774193616,-0.2943548387096775,-0.5604838709677419,-0.4798387096774193,-0.08870967741935487,-0.032258064516129115,-0.5806451612903225,-0.564516129032258,-0.040322580645161366,-0.46774193548387094,-0.5766129032258064],[-0.13709677419354838,-0.5362903225806451,-0.5685483870967741,-0.08870967741935476,-0.5887096774193548,-0.016129032258064502,-0.5483870967741935,-0.5443548387096774,-0.5806451612903225,-0.48790322580645157,-0.28629032258064513,-0.31854838709677413,-0.5846774193548386,-0.02016129032258074,-0.5766129032258065,-0.5403225806451614,-0.032258064516129004,-0.02822580645161299,-0.3266129032258065,-0.564516129032258,-0.2983870967741936,-0.5806451612903225,-0.439516129032258,-0.25,-0.3548387096774193],[-0.14919354838709675,-0.5846774193548386,0.0,-0.008064516129032251,-0.40725806451612906,-0.06048387096774188,-0.48790322580645157,-0.012096774193548376,-0.35887096774193544,-0.020161290322580627,-0.5806451612903225,0.0,-0.024193548387096753,-0.032258064516129115,-0.2540322580645161,-0.5725806451612903,-0.35080645161290325,-0.1733870967741935,-0.5443548387096774,-0.33870967741935487,-0.5766129032258064,-0.09677419354838712,-0.6048387096774194,-0.3104838709677419,-0.31854838709677413],[0.0,-0.5524193548387096,-0.16532258064516137,0.0,-0.024193548387096864,-0.012096774193548376,-0.5806451612903225,-0.03629032258064524,-0.5362903225806452,0.0,-0.6169354838709677,-0.6209677419354839,-0.07258064516129037,-0.1411290322580645,-0.05645161290322587,-0.6209677419354839,-0.03629032258064524,-0.02822580645161299,-0.048387096774193505,-0.3145161290322581,-0.032258064516129004,-0.12903225806451613,-0.008064516129032251,-0.020161290322580627,-0.157258064516129],[0.0,-0.02016129032258074,-0.008064516129032251,-0.06048387096774188,0.0,0.032258064516129115,-0.47580645161290325,-0.020161290322580627,-0.30241935483870974,-0.024193548387096753,0.0,-0.0766129032258065,-0.592741935483871,0.0040322580645161255,-0.0040322580645161255,-0.020161290322580627,-0.0040322580645161255,-0.6330645161290323,-0.6209677419354839,-0.028225806451612878,-0.13306451612903225,-0.6169354838709677,-0.6169354838709677,-0.032258064516129115,-0.5080645161290323],[-0.5725806451612903,0.0,-0.0040322580645161255,-0.04435483870967749,-0.5080645161290323,0.0,-0.0766129032258065,-0.0040322580645161255,0.0,0.0,-0.2822580645161291,-0.16129032258064513,-0.1733870967741935,-0.23790322580645162,-0.016129032258064502,-0.012096774193548376,-0.092741935483871,-0.5080645161290323,-0.6491935483870968,-0.41532258064516137,-0.10887096774193539,-0.3709677419354839,-0.6330645161290323,-0.1411290322580645,0.0],[-0.08064516129032251,-0.06048387096774199,-0.07258064516129026,-0.44758064516129037,-0.6048387096774194,-0.2661290322580645,-0.6048387096774193,-0.020161290322580627,-0.03629032258064524,-0.08467741935483875,-0.6330645161290323,-0.092741935483871,-0.04435483870967738,-0.02822580645161299,-0.06048387096774199,-0.3387096774193548,-0.6653225806451613,-0.5806451612903225,-0.05645161290322587,-0.6088709677419355,-0.09677419354838701,-0.282258064516129,-0.008064516129032251,-0.21370967741935476,0.020161290322580627],[-0.040322580645161366,-0.048387096774193616,0.0040322580645161255,-0.435483870967742,-0.08870967741935487,-0.06048387096774199,-0.04435483870967749,-0.10483870967741926,-0.07258064516129037,-0.092741935483871,-0.20967741935483863,-0.05241935483870963,0.0040322580645161255,-0.18951612903225812,-0.03629032258064524,-0.04435483870967749,-0.5524193548387096,-0.49193548387096775,-0.03629032258064513,-0.028225806451612878,-0.15322580645161288,-0.6048387096774194,-0.2016129032258065,-0.03629032258064524,-0.11290322580645162],[-0.04435483870967749,-0.5080645161290323,-0.0040322580645161255,-0.22983870967741937,-0.03629032258064513,-0.2943548387096774,-0.1088709677419355,-0.28629032258064513,-0.467741935483871,-0.020161290322580627,-0.02016129032258074,-0.06048387096774199,-0.13306451612903225,0.0,-0.3629032258064516,-0.16532258064516137,-0.41129032258064513,-0.012096774193548376,-0.07661290322580638,-0.407258064516129,-0.625,0.0,-0.04435483870967749,0.032258064516129115,-0.032258064516129115],[-0.012096774193548376,-0.032258064516129115,-0.12096774193548387,-0.04435483870967749,0.0,-0.5766129032258065,0.0040322580645161255,0.0,-0.34274193548387094,0.0,-0.15322580645161288,-0.03629032258064513,-0.18145161290322587,-0.028225806451612878,-0.040322580645161366,-0.4233870967741935,-0.5362903225806451,-0.2943548387096775,-0.08064516129032251,-0.024193548387096753,0.0040322580645161255,0.0040322580645161255,-0.016129032258064502,-0.032258064516129004,-0.5241935483870968],[-0.0040322580645161255,0.0,-0.028225806451612878,-0.16532258064516137,-0.09274193548387089,-0.016129032258064502,-0.06854838709677424,-0.17741935483870974,0.0,-0.0040322580645161255,-0.4596774193548387,-0.028225806451612878,-0.020161290322580627,-0.45564516129032256,-0.10483870967741937,-0.5887096774193548,-0.008064516129032251,-0.3387096774193548,-0.560483870967742,-0.03629032258064513,-0.08064516129032251,-0.07258064516129037,-0.3951612903225806,-0.3709677419354838,-0.028225806451612878],[-0.08467741935483863,-0.5846774193548387,-0.125,-0.06854838709677413,-0.008064516129032251,-0.5403225806451613,-0.0040322580645161255,-0.564516129032258,-0.3629032258064516,-0.5201612903225807,-0.03629032258064513,-0.15725806451612911,0.0,-0.5967741935483871,-0.056451612903225756,-0.08467741935483863,-0.6411290322580645,-0.27419354838709686,-0.24596774193548387,-0.5887096774193548,-0.06854838709677424,-0.5120967741935484,-0.2620967741935484,-0.20161290322580638,-0.6491935483870968],[-0.05645161290322587,-0.056451612903225756,-0.020161290322580627,-0.5846774193548386,-0.012096774193548376,-0.27419354838709675,-0.020161290322580627,-0.5080645161290323,-0.3951612903225807,-0.008064516129032251,-0.0040322580645161255,-0.153225806451613,0.0,-0.5080645161290323,-0.25806451612903225,0.0,0.0,0.0,-0.008064516129032251,-0.032258064516129004,-0.02822580645161299,-0.3709677419354838,-0.12096774193548387,-0.592741935483871,-0.040322580645161366],[-0.2943548387096774,0.0040322580645161255,-0.29032258064516125,-0.4838709677419355,-0.14516129032258063,-0.048387096774193616,-0.5120967741935484,-0.25806451612903236,-0.36693548387096775,-0.10483870967741926,-0.012096774193548376,-0.5483870967741935,-0.1411290322580645,-0.04435483870967738,-0.19758064516129026,-0.06451612903225801,-0.040322580645161366,-0.22983870967741926,-0.07258064516129026,0.0040322580645161255,-0.016129032258064502,0.0,-0.2782258064516129,-0.07258064516129026,-0.06854838709677424],[-0.07258064516129026,-0.37500000000000006,-0.020161290322580627,-0.02822580645161299,-0.0040322580645161255,0.012096774193548376,-0.11290322580645151,-0.5201612903225806,-0.008064516129032251,0.0,-0.016129032258064502,-0.4637096774193548,-0.2701612903225806,-0.2782258064516129,-0.19354838709677424,-0.25806451612903225,-0.0040322580645161255,-0.07661290322580638,-0.028225806451612878,-0.5564516129032259,-0.07258064516129037,-0.5161290322580645,-0.18548387096774188,-0.532258064516129,-0.08064516129032251],[-0.18145161290322587,-0.20967741935483875,-0.3588709677419355,-0.24596774193548387,-0.14516129032258063,-0.18548387096774188,-0.048387096774193505,-0.3629032258064516,-0.21370967741935476,-0.20564516129032262,-0.3145161290322581,-0.34677419354838707,-0.024193548387096753,-0.2620967741935484,-0.23790322580645162,-0.012096774193548376,-0.03629032258064513,-0.33467741935483875,-0.3951612903225807,-0.032258064516129115,-0.3870967741935483,-0.5806451612903225,-0.5201612903225805,0.008064516129032251,-0.08467741935483863],[-0.41129032258064513,-0.48387096774193544,-0.3911290322580645,-0.221774193548387,-0.05241935483870974,-0.2540322580645161,-0.14516129032258063,-0.5040322580645162,-0.5080645161290323,-0.23790322580645162,-0.3991935483870968,-0.07258064516129037,-0.3306451612903226,-0.2983870967741935,-0.221774193548387,-0.43145161290322576,-0.020161290322580627,-0.44354838709677424,-0.39919354838709675,-0.008064516129032251,-0.3790322580645161,-0.4959677419354838,-0.4879032258064517,0.0,0.0],[-0.30241935483870974,-0.2943548387096774,-0.040322580645161255,-0.12096774193548387,-0.36290322580645157,-0.5564516129032258,-0.020161290322580627,-0.07258064516129037,-0.09677419354838712,-0.020161290322580627,-0.0040322580645161255,-0.15322580645161288,-0.016129032258064502,-0.008064516129032251,-0.21774193548387089,-0.2338709677419354,-0.09677419354838712,-0.5080645161290323,0.008064516129032251,-0.31854838709677424,-0.5483870967741936,-0.20161290322580638,-0.11290322580645162,-0.48790322580645157,-0.24193548387096775],[-0.008064516129032251,-0.15322580645161288,-0.532258064516129,-0.12903225806451613,-0.439516129032258,-0.18548387096774188,-0.14516129032258074,-0.45564516129032256,0.0,-0.048387096774193505,-0.13709677419354838,-0.4798387096774193,-0.08064516129032251,-0.27419354838709675,-0.13306451612903225,-0.3548387096774193,-0.5725806451612903,-0.37903225806451607,-0.3669354838709678,-0.48387096774193544,-0.0040322580645161255,-0.008064516129032251,-0.4596774193548387,-0.22983870967741926,-0.4637096774193548],[-0.1411290322580645,0.0,-0.0040322580645161255,-0.49999999999999994,-0.0040322580645161255,-0.008064516129032251,-0.020161290322580627,-0.35080645161290325,-0.33870967741935487,0.012096774193548376,-0.16129032258064524,-0.028225806451612878,-0.020161290322580627,-0.44758064516129026,-0.5685483870967741,-0.16935483870967738,-0.024193548387096753,-0.185483870967742,-0.11693548387096775,-0.46774193548387094,-0.012096774193548376,-0.29032258064516137,-0.41532258064516125,-0.016129032258064502,-0.407258064516129],[-0.22983870967741937,-0.22983870967741937,-0.11693548387096775,-0.020161290322580627,-0.008064516129032251,0.0,-0.5806451612903226,-0.16935483870967738,-0.08870967741935476,-0.2782258064516129,-0.20967741935483863,-0.3669354838709678,-0.03629032258064513,-0.49596774193548393,-0.17338709677419362,-0.3387096774193548,-0.028225806451612878,-0.3145161290322581,-0.1088709677419355,-0.2540322580645161,0.0,-0.27016129032258074,-0.310483870967742,-0.10483870967741937,-0.016129032258064502],[-0.3951612903225807,0.0,-0.016129032258064502,-0.008064516129032251,0.0,-0.37499999999999994,-0.11290322580645162,-0.25806451612903225,-0.07258064516129026,-0.4717741935483871,-0.3830645161290323,-0.2943548387096774,-0.30645161290322587,-0.221774193548387,-0.008064516129032251,-0.34677419354838707,-0.016129032258064502,-0.0040322580645161255,-0.09274193548387089,-0.36290322580645157,-0.032258064516129004,-0.23790322580645162,-0.4233870967741935,-0.0040322580645161255,0.0],[-0.13709677419354838,-0.032258064516129115,-0.2379032258064515,-0.48387096774193544,-0.10483870967741926,-0.0040322580645161255,-0.17741935483870963,-0.20161290322580638,-0.08870967741935476,-0.10080645161290314,-0.30645161290322576,-0.16532258064516125,-0.36290322580645157,-0.3145161290322581,-0.11290322580645162,-0.03629032258064513,-0.22580645161290325,-0.08870967741935476,-0.008064516129032251,-0.032258064516129004,-0.04435483870967738,-0.12903225806451613,-0.45967741935483875,-0.2983870967741936,-0.024193548387096753],[-0.06451612903225812,-0.008064516129032251,-0.012096774193548376,-0.0040322580645161255,-0.25806451612903225,-0.3629032258064516,-0.28629032258064513,-0.012096774193548376,-0.028225806451612878,-0.17741935483870963,-0.1733870967741935,-0.012096774193548376,-0.2540322580645161,-0.15322580645161288,-0.3870967741935484,-0.18145161290322576,-0.375,-0.1733870967741935,-0.2016129032258065,-0.0040322580645161255,-0.028225806451612878,-0.439516129032258,-0.10887096774193539,0.0,-0.3508064516129032],[0.0,-0.18548387096774188,-0.07258064516129026,-0.2016129032258065,-0.008064516129032251,-0.34677419354838707,-0.18145161290322587,-0.1411290322580646,-0.4758064516129032,-0.20564516129032262,-0.1693548387096775,-0.1088709677419355,-0.2782258064516129,-0.125,-0.5403225806451613,-0.19758064516129026,-0.4959677419354838,-0.048387096774193505,-0.04435483870967749,-0.048387096774193616,-0.24596774193548387,-0.41532258064516125,-0.185483870967742,-0.24193548387096775,-0.06451612903225801],[-0.2943548387096774,-0.22580645161290325,-0.08870967741935476,0.0,-0.39919354838709675,-0.1088709677419355,-0.12096774193548387,-0.43145161290322587,-0.2338709677419354,-0.5483870967741935,-0.008064516129032251,-0.5201612903225807,-0.2701612903225806,-0.3508064516129032,-0.10080645161290314,-0.28629032258064513,-0.020161290322580627,-0.0040322580645161255,-0.30241935483870963,-0.2822580645161291,-0.20161290322580638,-0.12903225806451613,-0.4193548387096775,-0.2016129032258065,-0.09677419354838701],[-0.4758064516129032,-0.23790322580645162,-0.22580645161290325,-0.040322580645161255,-0.12096774193548387,-0.33467741935483863,-0.012096774193548376,-0.15322580645161288,-0.016129032258064502,-0.1370967741935485,-0.4798387096774193,-0.22177419354838712,-0.012096774193548376,-0.30645161290322587,-0.153225806451613,-0.16532258064516137,-0.25806451612903225,-0.46774193548387094,-0.08064516129032251,-0.3548387096774194,-0.27016129032258074,-0.4274193548387097,-0.10080645161290314,-0.02016129032258074,-0.012096774193548376],[-0.12903225806451613,-0.5120967741935483,-0.30645161290322576,-0.18548387096774188,-0.5080645161290323,-0.5604838709677419,-0.125,-0.09677419354838701,-0.5564516129032258,-0.2016129032258065,-0.3911290322580645,-0.35887096774193544,-0.3669354838709677,-0.14516129032258063,-0.17338709677419362,-0.5604838709677419,-0.20967741935483875,-0.5040322580645162,-0.18145161290322587,-0.4193548387096774,-0.5725806451612903,-0.2661290322580645,-0.153225806451613,-0.1733870967741935,-0.020161290322580627],[-0.16532258064516137,-0.15322580645161288,-0.21370967741935476,-0.48387096774193555,-0.157258064516129,-0.056451612903225756,-0.30645161290322587,-0.3669354838709678,-0.040322580645161366,-0.33467741935483863,-0.48387096774193555,-0.048387096774193505,-0.37500000000000006,-0.09274193548387089,-0.221774193548387,-0.0766129032258065,-0.092741935483871,-0.2822580645161291,-0.44354838709677413,-0.13709677419354838,-0.6169354838709677,-0.3669354838709677,-0.4879032258064517,-0.40322580645161293,-0.25806451612903225],[-0.41532258064516125,-0.5161290322580645,-0.14919354838709675,-0.22580645161290325,-0.1411290322580645,-0.6129032258064516,-0.30241935483870974,-0.09677419354838701,-0.5120967741935485,-0.5604838709677419,-0.06854838709677424,-0.048387096774193505,-0.5443548387096774,-0.5201612903225807,-0.06854838709677413,-0.42338709677419356,-0.17338709677419362,-0.185483870967742,-0.10483870967741926,-0.5362903225806452,-0.1411290322580646,-0.532258064516129,-0.2338709677419355,-0.04435483870967749,-0.06048387096774199]],\"type\":\"heatmap\",\"xaxis\":\"x\",\"yaxis\":\"y\",\"hovertemplate\":\"Heads (sorted): %{x}<br>Layers: %{y}<br>color: %{z}<extra></extra>\"}],                        {\"template\":{\"data\":{\"histogram2dcontour\":[{\"type\":\"histogram2dcontour\",\"colorbar\":{\"outlinewidth\":0,\"ticks\":\"\"},\"colorscale\":[[0.0,\"#0d0887\"],[0.1111111111111111,\"#46039f\"],[0.2222222222222222,\"#7201a8\"],[0.3333333333333333,\"#9c179e\"],[0.4444444444444444,\"#bd3786\"],[0.5555555555555556,\"#d8576b\"],[0.6666666666666666,\"#ed7953\"],[0.7777777777777778,\"#fb9f3a\"],[0.8888888888888888,\"#fdca26\"],[1.0,\"#f0f921\"]]}],\"choropleth\":[{\"type\":\"choropleth\",\"colorbar\":{\"outlinewidth\":0,\"ticks\":\"\"}}],\"histogram2d\":[{\"type\":\"histogram2d\",\"colorbar\":{\"outlinewidth\":0,\"ticks\":\"\"},\"colorscale\":[[0.0,\"#0d0887\"],[0.1111111111111111,\"#46039f\"],[0.2222222222222222,\"#7201a8\"],[0.3333333333333333,\"#9c179e\"],[0.4444444444444444,\"#bd3786\"],[0.5555555555555556,\"#d8576b\"],[0.6666666666666666,\"#ed7953\"],[0.7777777777777778,\"#fb9f3a\"],[0.8888888888888888,\"#fdca26\"],[1.0,\"#f0f921\"]]}],\"heatmap\":[{\"type\":\"heatmap\",\"colorbar\":{\"outlinewidth\":0,\"ticks\":\"\"},\"colorscale\":[[0.0,\"#0d0887\"],[0.1111111111111111,\"#46039f\"],[0.2222222222222222,\"#7201a8\"],[0.3333333333333333,\"#9c179e\"],[0.4444444444444444,\"#bd3786\"],[0.5555555555555556,\"#d8576b\"],[0.6666666666666666,\"#ed7953\"],[0.7777777777777778,\"#fb9f3a\"],[0.8888888888888888,\"#fdca26\"],[1.0,\"#f0f921\"]]}],\"heatmapgl\":[{\"type\":\"heatmapgl\",\"colorbar\":{\"outlinewidth\":0,\"ticks\":\"\"},\"colorscale\":[[0.0,\"#0d0887\"],[0.1111111111111111,\"#46039f\"],[0.2222222222222222,\"#7201a8\"],[0.3333333333333333,\"#9c179e\"],[0.4444444444444444,\"#bd3786\"],[0.5555555555555556,\"#d8576b\"],[0.6666666666666666,\"#ed7953\"],[0.7777777777777778,\"#fb9f3a\"],[0.8888888888888888,\"#fdca26\"],[1.0,\"#f0f921\"]]}],\"contourcarpet\":[{\"type\":\"contourcarpet\",\"colorbar\":{\"outlinewidth\":0,\"ticks\":\"\"}}],\"contour\":[{\"type\":\"contour\",\"colorbar\":{\"outlinewidth\":0,\"ticks\":\"\"},\"colorscale\":[[0.0,\"#0d0887\"],[0.1111111111111111,\"#46039f\"],[0.2222222222222222,\"#7201a8\"],[0.3333333333333333,\"#9c179e\"],[0.4444444444444444,\"#bd3786\"],[0.5555555555555556,\"#d8576b\"],[0.6666666666666666,\"#ed7953\"],[0.7777777777777778,\"#fb9f3a\"],[0.8888888888888888,\"#fdca26\"],[1.0,\"#f0f921\"]]}],\"surface\":[{\"type\":\"surface\",\"colorbar\":{\"outlinewidth\":0,\"ticks\":\"\"},\"colorscale\":[[0.0,\"#0d0887\"],[0.1111111111111111,\"#46039f\"],[0.2222222222222222,\"#7201a8\"],[0.3333333333333333,\"#9c179e\"],[0.4444444444444444,\"#bd3786\"],[0.5555555555555556,\"#d8576b\"],[0.6666666666666666,\"#ed7953\"],[0.7777777777777778,\"#fb9f3a\"],[0.8888888888888888,\"#fdca26\"],[1.0,\"#f0f921\"]]}],\"mesh3d\":[{\"type\":\"mesh3d\",\"colorbar\":{\"outlinewidth\":0,\"ticks\":\"\"}}],\"scatter\":[{\"fillpattern\":{\"fillmode\":\"overlay\",\"size\":10,\"solidity\":0.2},\"type\":\"scatter\"}],\"parcoords\":[{\"type\":\"parcoords\",\"line\":{\"colorbar\":{\"outlinewidth\":0,\"ticks\":\"\"}}}],\"scatterpolargl\":[{\"type\":\"scatterpolargl\",\"marker\":{\"colorbar\":{\"outlinewidth\":0,\"ticks\":\"\"}}}],\"bar\":[{\"error_x\":{\"color\":\"#2a3f5f\"},\"error_y\":{\"color\":\"#2a3f5f\"},\"marker\":{\"line\":{\"color\":\"#E5ECF6\",\"width\":0.5},\"pattern\":{\"fillmode\":\"overlay\",\"size\":10,\"solidity\":0.2}},\"type\":\"bar\"}],\"scattergeo\":[{\"type\":\"scattergeo\",\"marker\":{\"colorbar\":{\"outlinewidth\":0,\"ticks\":\"\"}}}],\"scatterpolar\":[{\"type\":\"scatterpolar\",\"marker\":{\"colorbar\":{\"outlinewidth\":0,\"ticks\":\"\"}}}],\"histogram\":[{\"marker\":{\"pattern\":{\"fillmode\":\"overlay\",\"size\":10,\"solidity\":0.2}},\"type\":\"histogram\"}],\"scattergl\":[{\"type\":\"scattergl\",\"marker\":{\"colorbar\":{\"outlinewidth\":0,\"ticks\":\"\"}}}],\"scatter3d\":[{\"type\":\"scatter3d\",\"line\":{\"colorbar\":{\"outlinewidth\":0,\"ticks\":\"\"}},\"marker\":{\"colorbar\":{\"outlinewidth\":0,\"ticks\":\"\"}}}],\"scattermapbox\":[{\"type\":\"scattermapbox\",\"marker\":{\"colorbar\":{\"outlinewidth\":0,\"ticks\":\"\"}}}],\"scatterternary\":[{\"type\":\"scatterternary\",\"marker\":{\"colorbar\":{\"outlinewidth\":0,\"ticks\":\"\"}}}],\"scattercarpet\":[{\"type\":\"scattercarpet\",\"marker\":{\"colorbar\":{\"outlinewidth\":0,\"ticks\":\"\"}}}],\"carpet\":[{\"aaxis\":{\"endlinecolor\":\"#2a3f5f\",\"gridcolor\":\"white\",\"linecolor\":\"white\",\"minorgridcolor\":\"white\",\"startlinecolor\":\"#2a3f5f\"},\"baxis\":{\"endlinecolor\":\"#2a3f5f\",\"gridcolor\":\"white\",\"linecolor\":\"white\",\"minorgridcolor\":\"white\",\"startlinecolor\":\"#2a3f5f\"},\"type\":\"carpet\"}],\"table\":[{\"cells\":{\"fill\":{\"color\":\"#EBF0F8\"},\"line\":{\"color\":\"white\"}},\"header\":{\"fill\":{\"color\":\"#C8D4E3\"},\"line\":{\"color\":\"white\"}},\"type\":\"table\"}],\"barpolar\":[{\"marker\":{\"line\":{\"color\":\"#E5ECF6\",\"width\":0.5},\"pattern\":{\"fillmode\":\"overlay\",\"size\":10,\"solidity\":0.2}},\"type\":\"barpolar\"}],\"pie\":[{\"automargin\":true,\"type\":\"pie\"}]},\"layout\":{\"autotypenumbers\":\"strict\",\"colorway\":[\"#636efa\",\"#EF553B\",\"#00cc96\",\"#ab63fa\",\"#FFA15A\",\"#19d3f3\",\"#FF6692\",\"#B6E880\",\"#FF97FF\",\"#FECB52\"],\"font\":{\"color\":\"#2a3f5f\"},\"hovermode\":\"closest\",\"hoverlabel\":{\"align\":\"left\"},\"paper_bgcolor\":\"white\",\"plot_bgcolor\":\"#E5ECF6\",\"polar\":{\"bgcolor\":\"#E5ECF6\",\"angularaxis\":{\"gridcolor\":\"white\",\"linecolor\":\"white\",\"ticks\":\"\"},\"radialaxis\":{\"gridcolor\":\"white\",\"linecolor\":\"white\",\"ticks\":\"\"}},\"ternary\":{\"bgcolor\":\"#E5ECF6\",\"aaxis\":{\"gridcolor\":\"white\",\"linecolor\":\"white\",\"ticks\":\"\"},\"baxis\":{\"gridcolor\":\"white\",\"linecolor\":\"white\",\"ticks\":\"\"},\"caxis\":{\"gridcolor\":\"white\",\"linecolor\":\"white\",\"ticks\":\"\"}},\"coloraxis\":{\"colorbar\":{\"outlinewidth\":0,\"ticks\":\"\"}},\"colorscale\":{\"sequential\":[[0.0,\"#0d0887\"],[0.1111111111111111,\"#46039f\"],[0.2222222222222222,\"#7201a8\"],[0.3333333333333333,\"#9c179e\"],[0.4444444444444444,\"#bd3786\"],[0.5555555555555556,\"#d8576b\"],[0.6666666666666666,\"#ed7953\"],[0.7777777777777778,\"#fb9f3a\"],[0.8888888888888888,\"#fdca26\"],[1.0,\"#f0f921\"]],\"sequentialminus\":[[0.0,\"#0d0887\"],[0.1111111111111111,\"#46039f\"],[0.2222222222222222,\"#7201a8\"],[0.3333333333333333,\"#9c179e\"],[0.4444444444444444,\"#bd3786\"],[0.5555555555555556,\"#d8576b\"],[0.6666666666666666,\"#ed7953\"],[0.7777777777777778,\"#fb9f3a\"],[0.8888888888888888,\"#fdca26\"],[1.0,\"#f0f921\"]],\"diverging\":[[0,\"#8e0152\"],[0.1,\"#c51b7d\"],[0.2,\"#de77ae\"],[0.3,\"#f1b6da\"],[0.4,\"#fde0ef\"],[0.5,\"#f7f7f7\"],[0.6,\"#e6f5d0\"],[0.7,\"#b8e186\"],[0.8,\"#7fbc41\"],[0.9,\"#4d9221\"],[1,\"#276419\"]]},\"xaxis\":{\"gridcolor\":\"white\",\"linecolor\":\"white\",\"ticks\":\"\",\"title\":{\"standoff\":15},\"zerolinecolor\":\"white\",\"automargin\":true,\"zerolinewidth\":2},\"yaxis\":{\"gridcolor\":\"white\",\"linecolor\":\"white\",\"ticks\":\"\",\"title\":{\"standoff\":15},\"zerolinecolor\":\"white\",\"automargin\":true,\"zerolinewidth\":2},\"scene\":{\"xaxis\":{\"backgroundcolor\":\"#E5ECF6\",\"gridcolor\":\"white\",\"linecolor\":\"white\",\"showbackground\":true,\"ticks\":\"\",\"zerolinecolor\":\"white\",\"gridwidth\":2},\"yaxis\":{\"backgroundcolor\":\"#E5ECF6\",\"gridcolor\":\"white\",\"linecolor\":\"white\",\"showbackground\":true,\"ticks\":\"\",\"zerolinecolor\":\"white\",\"gridwidth\":2},\"zaxis\":{\"backgroundcolor\":\"#E5ECF6\",\"gridcolor\":\"white\",\"linecolor\":\"white\",\"showbackground\":true,\"ticks\":\"\",\"zerolinecolor\":\"white\",\"gridwidth\":2}},\"shapedefaults\":{\"line\":{\"color\":\"#2a3f5f\"}},\"annotationdefaults\":{\"arrowcolor\":\"#2a3f5f\",\"arrowhead\":0,\"arrowwidth\":1},\"geo\":{\"bgcolor\":\"white\",\"landcolor\":\"#E5ECF6\",\"subunitcolor\":\"white\",\"showland\":true,\"showlakes\":true,\"lakecolor\":\"white\"},\"title\":{\"x\":0.05},\"mapbox\":{\"style\":\"light\"}}},\"xaxis\":{\"anchor\":\"y\",\"domain\":[0.0,1.0],\"scaleanchor\":\"y\",\"constrain\":\"domain\",\"title\":{\"text\":\"Heads (sorted)\"}},\"yaxis\":{\"anchor\":\"x\",\"domain\":[0.0,1.0],\"autorange\":true,\"constrain\":\"domain\",\"title\":{\"text\":\"Layers\"}},\"coloraxis\":{\"colorscale\":[[0.0,\"rgb(103,0,31)\"],[0.1,\"rgb(178,24,43)\"],[0.2,\"rgb(214,96,77)\"],[0.3,\"rgb(244,165,130)\"],[0.4,\"rgb(253,219,199)\"],[0.5,\"rgb(247,247,247)\"],[0.6,\"rgb(209,229,240)\"],[0.7,\"rgb(146,197,222)\"],[0.8,\"rgb(67,147,195)\"],[0.9,\"rgb(33,102,172)\"],[1.0,\"rgb(5,48,97)\"]],\"cmid\":0},\"title\":{\"text\":\"AccDiff of Cat/Bin\"}},                        {\"responsive\": true}                    ).then(function(){\n",
       "                            \n",
       "var gd = document.getElementById('575ba019-bb7a-43e9-8c12-c4a11e063769');\n",
       "var x = new MutationObserver(function (mutations, observer) {{\n",
       "        var display = window.getComputedStyle(gd).display;\n",
       "        if (!display || display === 'none') {{\n",
       "            console.log([gd, 'removed!']);\n",
       "            Plotly.purge(gd);\n",
       "            observer.disconnect();\n",
       "        }}\n",
       "}});\n",
       "\n",
       "// Listen for the removal of the full notebook cells\n",
       "var notebookContainer = gd.closest('#notebook-container');\n",
       "if (notebookContainer) {{\n",
       "    x.observe(notebookContainer, {childList: true});\n",
       "}}\n",
       "\n",
       "// Listen for the clearing of the current output cell\n",
       "var outputEl = gd.closest('.output');\n",
       "if (outputEl) {{\n",
       "    x.observe(outputEl, {childList: true});\n",
       "}}\n",
       "\n",
       "                        })                };                });            </script>        </div>"
      ]
     },
     "metadata": {},
     "output_type": "display_data"
    }
   ],
   "source": [
    "acc_diffs = np.array(cat_total_accs) - np.array(bin_total_accs)\n",
    "\n",
    "px.imshow(np.array(acc_diffs).reshape(nin_d.model.cfg.n_layers, nin_d.model.cfg.n_heads), labels = {\"x\" : \"Heads (sorted)\", \"y\": \"Layers\"},title = \"AccDiff of Cat/Bin\", color_continuous_midpoint = 0, color_continuous_scale=\"RdBu\", origin = \"lower\")\n"
   ]
  },
  {
   "cell_type": "code",
   "execution_count": null,
   "metadata": {},
   "outputs": [],
   "source": []
  }
 ],
 "metadata": {
  "kernelspec": {
   "display_name": "Python 3",
   "language": "python",
   "name": "python3"
  },
  "language_info": {
   "codemirror_mode": {
    "name": "ipython",
    "version": 3
   },
   "file_extension": ".py",
   "mimetype": "text/x-python",
   "name": "python",
   "nbconvert_exporter": "python",
   "pygments_lexer": "ipython3",
   "version": "3.8.10"
  },
  "orig_nbformat": 4
 },
 "nbformat": 4,
 "nbformat_minor": 2
}
