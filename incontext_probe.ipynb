{
 "cells": [
  {
   "cell_type": "code",
   "execution_count": 1,
   "metadata": {},
   "outputs": [
    {
     "name": "stderr",
     "output_type": "stream",
     "text": [
      "/tmp/ipykernel_95300/1348182768.py:5: DeprecationWarning: `magic(...)` is deprecated since IPython 0.13 (warning added in 8.1), use run_line_magic(magic_name, parameter_s).\n",
      "  ipython.magic(\"load_ext autoreload\")\n",
      "/tmp/ipykernel_95300/1348182768.py:6: DeprecationWarning: `magic(...)` is deprecated since IPython 0.13 (warning added in 8.1), use run_line_magic(magic_name, parameter_s).\n",
      "  ipython.magic(\"autoreload 2\")\n"
     ]
    }
   ],
   "source": [
    "from IPython import get_ipython\n",
    "\n",
    "ipython = get_ipython()\n",
    "# Code to automatically update the TransformerLens code as its edited without restarting the kernel\n",
    "ipython.magic(\"load_ext autoreload\")\n",
    "ipython.magic(\"autoreload 2\")\n",
    "    \n",
    "import plotly.io as pio\n",
    "# pio.renderers.default = \"png\"\n",
    "# Import stuff\n",
    "import torch\n",
    "import torch.nn as nn\n",
    "import torch.nn.functional as F\n",
    "import torch.optim as optim\n",
    "import numpy as np\n",
    "import einops\n",
    "from fancy_einsum import einsum\n",
    "import tqdm.notebook as tqdm\n",
    "import random\n",
    "from pathlib import Path\n",
    "import plotly.express as px\n",
    "from torch.utils.data import DataLoader\n",
    "\n",
    "from jaxtyping import Float, Int\n",
    "from typing import List, Union, Optional\n",
    "from functools import partial\n",
    "import copy\n",
    "\n",
    "import itertools\n",
    "from transformers import AutoModelForCausalLM, AutoConfig, AutoTokenizer\n",
    "import dataclasses\n",
    "import datasets\n",
    "from IPython.display import HTML\n",
    "\n",
    "from tqdm import tqdm\n"
   ]
  },
  {
   "cell_type": "code",
   "execution_count": 2,
   "metadata": {},
   "outputs": [],
   "source": [
    "# import pysvelte\n",
    "# \n",
    "import transformer_lens\n",
    "import transformer_lens.utils as utils\n",
    "from transformer_lens.hook_points import (\n",
    "    HookedRootModule,\n",
    "    HookPoint,\n",
    ")  # Hooking utilities\n",
    "from transformer_lens import HookedTransformer, HookedTransformerConfig, FactoredMatrix, ActivationCache\n",
    "\n",
    "torch.set_grad_enabled(False)\n",
    "device = \"cpu\""
   ]
  },
  {
   "cell_type": "code",
   "execution_count": 3,
   "metadata": {},
   "outputs": [
    {
     "name": "stderr",
     "output_type": "stream",
     "text": [
      "Using pad_token, but it is not set yet.\n"
     ]
    },
    {
     "name": "stdout",
     "output_type": "stream",
     "text": [
      "Loaded pretrained model gpt2-xl into HookedTransformer\n"
     ]
    }
   ],
   "source": [
    "model = HookedTransformer.from_pretrained(\n",
    "    \"gpt2-xl\",\n",
    "    center_unembed=False,\n",
    "    center_writing_weights=False,\n",
    "    fold_ln=False,\n",
    "    refactor_factored_attn_matrices=True,\n",
    "    device=device\n",
    ")\n",
    "\n",
    "model.cfg.total_heads = model.cfg.n_heads * model.cfg.n_layers"
   ]
  },
  {
   "cell_type": "code",
   "execution_count": 4,
   "metadata": {},
   "outputs": [],
   "source": [
    "def query_logits(logits, return_type = \"logits\", TOP_N = 10):\n",
    "\n",
    "        \"\"\"\n",
    "        Gets top 10 predictions after last token in a prompt\n",
    "        \"\"\"\n",
    "        last_tok_logits = logits[0, -1]\n",
    "        \n",
    "        #gets probs after last tok in seq\n",
    "        \n",
    "        if return_type == \"probs\":\n",
    "            scores = F.softmax(last_tok_logits, dim=-1).detach().cpu().numpy() #the [0] is to index out of the batch idx\n",
    "        else:\n",
    "            scores = last_tok_logits.detach().cpu().numpy()\n",
    "\n",
    "        #assert probs add to 1\n",
    "        # assert np.abs(np.sum(probs) - 1) <= 0.01, str(np.abs(np.sum(probs)-1)) \n",
    "\n",
    "        probs_ = []\n",
    "        for index, prob in enumerate(scores):\n",
    "            probs_.append((index, prob))\n",
    "\n",
    "        top_k = sorted(probs_, key = lambda x: x[1], reverse = True)[:TOP_N]\n",
    "        top_k = [(t[1].item(), model.tokenizer.decode(t[0])) for t in top_k]\n",
    "        \n",
    "        return top_k\n",
    "    \n",
    "def is_logits_contain_label(ranked_logits, correct_answer):\n",
    "    # Convert correct_answer to lower case and strip white space\n",
    "    correct_answer = correct_answer.strip().lower()\n",
    "\n",
    "    # Loop through the top 10 logits\n",
    "    for logit_score, logit_value in ranked_logits:\n",
    "        # Convert logit_value to lower case and strip white space\n",
    "        logit_value = logit_value.strip().lower()\n",
    "\n",
    "        # Check if the correct answer contains the logit value\n",
    "        if correct_answer.find(logit_value) != -1: \n",
    "            return True\n",
    "    return False\n"
   ]
  },
  {
   "cell_type": "code",
   "execution_count": 5,
   "metadata": {},
   "outputs": [],
   "source": [
    "import random\n",
    "import pandas as pd\n",
    "from torch.utils.data import Dataset\n",
    "\n",
    "class CapitalsDataset(Dataset):\n",
    "    def __init__(self, csv_file, with_space):\n",
    "        # Load the dataset\n",
    "        self.dataframe = pd.read_csv(csv_file)\n",
    "        self.with_space = with_space\n",
    "\n",
    "    def __len__(self):\n",
    "        # Return the length of the dataset\n",
    "        return len(self.dataframe)\n",
    "\n",
    "    def __getitem__(self, idx):\n",
    "        #idx must be int\n",
    "        if torch.is_tensor(idx):\n",
    "            idx = idx.tolist()\n",
    "\n",
    "        # Get the country and capital at the provided index\n",
    "        country = self.dataframe.at[idx, 'country']\n",
    "        capital = self.dataframe.at[idx, 'capital']\n",
    "\n",
    "        # Format the input and label strings\n",
    "        input_string = f\"Q: What is the capital of {str(country)}? A:\"\n",
    "        if self.with_space:\n",
    "            input_string += \" \\xa0\"\n",
    "        label_string = f\"{str(capital)}\"\n",
    "\n",
    "        # Return a dict with the input and label\n",
    "        sample = {'input': input_string, 'label': label_string}\n",
    "        return sample\n",
    "\n",
    "def generate_few_shot_prompt(capitals_dataset, n_few_shot, prohibited_indices=[], prop_wrong = 0):\n",
    "    # Get a list of allowed indices (all indices not in prohibited_indices)\n",
    "    allowed_indices = [i for i in range(len(capitals_dataset)) if i not in prohibited_indices]\n",
    "\n",
    "    # Ensure n_few_shot is not greater than the size of the dataset\n",
    "    n_few_shot = min(n_few_shot, len(allowed_indices))\n",
    "\n",
    "    # Randomly select n_few_shot indices from the allowed indices without replacement\n",
    "    indices = random.sample(allowed_indices, n_few_shot)\n",
    "\n",
    "    # Generate the few-shot prompt\n",
    "    prompt = \"\"\n",
    "    for index in indices:\n",
    "        sample = capitals_dataset[index]\n",
    "        \n",
    "        if np.random.rand() < prop_wrong:\n",
    "            allowed_indices = [i for i in range(len(capitals_dataset)) if i not in (prohibited_indices + [index])]\n",
    "\n",
    "            diff_idx = random.sample(allowed_indices, 1)[0]\n",
    "                        \n",
    "            prompt += f\"{sample['input']} {capitals_dataset[diff_idx]['label']}\\n\"\n",
    "        else:  \n",
    "            prompt += f\"{sample['input']} {sample['label']}\\n\"\n",
    "        \n",
    "    return prompt"
   ]
  },
  {
   "cell_type": "code",
   "execution_count": 6,
   "metadata": {},
   "outputs": [],
   "source": [
    "# Create the original dataset with spaces\n",
    "capitals_dataset_space = CapitalsDataset(csv_file='world_capitals.csv', with_space=True)\n",
    "\n",
    "# Create the new dataset\n",
    "few_shot_capitals_space_prompts = []\n",
    "n_few_shot = 0 # Set this to your desired number of few-shot examples\n",
    "for i in range(len(capitals_dataset_space)):\n",
    "    # Generate a few-shot prompt without the current index\n",
    "    prompt = generate_few_shot_prompt(capitals_dataset_space, n_few_shot, prohibited_indices=[i])\n",
    "\n",
    "    # Get the current sample and add the prompt to the 'input'\n",
    "    sample = capitals_dataset_space[i]\n",
    "    sample['input'] = prompt + sample['input']\n",
    "\n",
    "    # Add the sample to the new dataset\n",
    "    few_shot_capitals_space_prompts.append(sample)\n",
    "\n",
    "# Create the original dataset with spaces\n",
    "capitals_dataset_no_space = CapitalsDataset(csv_file='world_capitals.csv', with_space=False)\n",
    "\n",
    "# Create the new dataset\n",
    "few_shot_capitals_no_space_prompts = []\n",
    "for i in range(len(capitals_dataset_no_space)):\n",
    "    # Generate a few-shot prompt without the current index\n",
    "    prompt = generate_few_shot_prompt(capitals_dataset_no_space, n_few_shot, prohibited_indices=[i])\n",
    "\n",
    "    # Get the current sample and add the prompt to the 'input'\n",
    "    sample = capitals_dataset_no_space[i]\n",
    "    sample['input'] = prompt + sample['input']\n",
    "\n",
    "    # Add the sample to the new dataset\n",
    "    few_shot_capitals_no_space_prompts.append(sample)\n"
   ]
  },
  {
   "cell_type": "code",
   "execution_count": 7,
   "metadata": {},
   "outputs": [
    {
     "data": {
      "text/plain": [
       "{'input': 'Q: What is the capital of Abkhazia? A: \\xa0', 'label': 'Sukhumi'}"
      ]
     },
     "execution_count": 7,
     "metadata": {},
     "output_type": "execute_result"
    }
   ],
   "source": [
    "few_shot_capitals_space_prompts[0]"
   ]
  },
  {
   "cell_type": "code",
   "execution_count": 8,
   "metadata": {},
   "outputs": [
    {
     "name": "stdout",
     "output_type": "stream",
     "text": [
      "[(16.87539291381836, ' Har'), (13.011051177978516, ' Bul'), (9.19929027557373, ' Victoria'), (9.131611824035645, ' Zimbabwe'), (8.693876266479492, ' Mug'), (8.677135467529297, ' Dar'), (8.539237022399902, ' Mash'), (8.513354301452637, ' M'), (8.46098518371582, ' Mar'), (8.221226692199707, ' Bl')]\n",
      "[(12.76206111907959, ' Har'), (9.672176361083984, ' Bul'), (8.233769416809082, ' Zimbabwe'), (8.147758483886719, ' Mash'), (7.993024826049805, ' Mug'), (7.861281871795654, ' Victoria'), (7.585323333740234, ' M'), (7.412278652191162, ' L'), (7.350394248962402, '\\xa0'), (7.305417060852051, ' G')]\n"
     ]
    }
   ],
   "source": [
    "country_test = \"Zimbabwe\"\n",
    "\n",
    "logits = model(f\"The capital of {country_test} is the city of\")\n",
    "ranked_logits = query_logits(logits, TOP_N = 10)\n",
    "print(ranked_logits)\n",
    "\n",
    "\n",
    "logits = model(f\"The capital of {country_test} is the city of \\xa0\")\n",
    "ranked_logits = query_logits(logits, TOP_N = 10)\n",
    "print(ranked_logits)"
   ]
  },
  {
   "cell_type": "code",
   "execution_count": 9,
   "metadata": {},
   "outputs": [
    {
     "name": "stderr",
     "output_type": "stream",
     "text": [
      "100%|██████████| 50/50 [00:09<00:00,  5.44it/s]\n"
     ]
    },
    {
     "data": {
      "text/plain": [
       "1.0"
      ]
     },
     "execution_count": 9,
     "metadata": {},
     "output_type": "execute_result"
    }
   ],
   "source": [
    "# WITH A SPACE\n",
    "n_correct = 0 \n",
    "dataset_size=50\n",
    "for row in tqdm(few_shot_capitals_space_prompts[:dataset_size]):\n",
    "    prompt = row[\"input\"]\n",
    "    label = row[\"label\"]\n",
    "\n",
    "    logits = model(prompt)\n",
    "    # print(logits)\n",
    "    \n",
    "    ranked_logits = query_logits(logits, TOP_N = 10)\n",
    "    # print(ranked_logits)\n",
    "    # print(label)\n",
    "    \n",
    "    if is_logits_contain_label(ranked_logits, label):\n",
    "        n_correct +=1\n",
    "        row[\"model_correct\"] = 1\n",
    "    else:\n",
    "        row[\"model_correct\"] = 0\n",
    "    \n",
    "n_correct / len(few_shot_capitals_space_prompts[:dataset_size])"
   ]
  },
  {
   "cell_type": "code",
   "execution_count": 10,
   "metadata": {},
   "outputs": [
    {
     "name": "stderr",
     "output_type": "stream",
     "text": [
      "100%|██████████| 50/50 [00:09<00:00,  5.45it/s]\n"
     ]
    },
    {
     "data": {
      "text/plain": [
       "0.96"
      ]
     },
     "execution_count": 10,
     "metadata": {},
     "output_type": "execute_result"
    }
   ],
   "source": [
    "# WITHOUT A SPACE\n",
    "n_correct = 0 \n",
    "dataset_size=50\n",
    "for row in tqdm(few_shot_capitals_no_space_prompts[:dataset_size]):\n",
    "    prompt = row[\"input\"]\n",
    "    label = row[\"label\"]\n",
    "\n",
    "    logits = model(prompt)\n",
    "    \n",
    "    ranked_logits = query_logits(logits, TOP_N = 10)\n",
    "    \n",
    "    if is_logits_contain_label(ranked_logits, label):\n",
    "        n_correct +=1\n",
    "        row[\"model_correct\"] = 1\n",
    "    else:\n",
    "        row[\"model_correct\"] = 0\n",
    "    # print(ranked_logits)\n",
    "    # print(label)\n",
    "    \n",
    "n_correct / len(few_shot_capitals_no_space_prompts[:dataset_size])"
   ]
  },
  {
   "attachments": {},
   "cell_type": "markdown",
   "metadata": {},
   "source": [
    "# Logit Lens"
   ]
  },
  {
   "cell_type": "code",
   "execution_count": 11,
   "metadata": {},
   "outputs": [],
   "source": [
    "# look through ranked logits and see which \n",
    "def get_logit_val(logits, capital_string):\n",
    "    first_token_of_capital = model.to_str_tokens(capital_string)[1]\n",
    "    print(first_token_of_capital)\n",
    "\n",
    "    ranked_logits = query_logits(logits, TOP_N=10000)\n",
    "    for logit in ranked_logits:\n",
    "        if first_token_of_capital.lower() in logit[1].lower():\n",
    "            return logit[1], logit[0]\n",
    "\n",
    "    # if we get here, very bad\n",
    "    print(\"Capital not found in ranked logits. Uh Oh!\")\n",
    "    return capital_string, -1e5"
   ]
  },
  {
   "cell_type": "code",
   "execution_count": 12,
   "metadata": {},
   "outputs": [
    {
     "name": "stdout",
     "output_type": "stream",
     "text": [
      "[(12.729573249816895, ' Beijing'), (10.71007251739502, ' Shanghai'), (10.24016284942627, ' Chong'), (9.549708366394043, ' Xi'), (9.545827865600586, ' Cheng'), (9.298571586608887, ' Guang'), (9.287895202636719, ' Tian'), (9.276071548461914, ' Nan'), (9.256789207458496, ' Shen'), (9.134026527404785, ' Tai'), (8.986799240112305, ' Chang'), (8.730999946594238, ' Qing'), (8.702823638916016, ' Hong'), (8.387773513793945, ' W'), (8.185921669006348, ' Hang'), (7.906286716461182, ' Suz'), (7.693309307098389, ' X'), (7.6402907371521, ' Yang'), (7.4890594482421875, ' Sh'), (7.438599586486816, ' Har'), (7.336167335510254, ' Y'), (7.335968971252441, ' D'), (7.206343650817871, ' Ning'), (7.080493927001953, ' the'), (7.046160697937012, ' Zheng'), (6.978892803192139, ' Zh'), (6.690622329711914, ' New'), (6.613645553588867, ' P'), (6.58955192565918, ' Tokyo'), (6.585175037384033, ' San'), (6.575978755950928, ' Kun'), (6.509332656860352, ' L'), (6.508543014526367, ' Z'), (6.490668296813965, ' London'), (6.44035005569458, ' N'), (6.439865589141846, ' Be'), (6.425426959991455, ' F'), (6.301080703735352, ' S'), (6.245713710784912, ' He'), (6.201411724090576, ' Gu'), (6.11740255355835, ' Jin'), (6.1005964279174805, ' H'), (6.049147129058838, ' Ch'), (6.014575004577637, ' K'), (5.925763130187988, ' T'), (5.827730178833008, ' more'), (5.708459854125977, ' China'), (5.67942476272583, ' U'), (5.646496772766113, ' B'), (5.561941146850586, ' Washington'), (5.555535793304443, ' Shan'), (5.546889305114746, ' C'), (5.545264720916748, ' Pyongyang'), (5.518566608428955, ' Jiang'), (5.513926029205322, ' Xin'), (5.511716365814209, ' a'), (5.507885932922363, ' Wan'), (5.457214832305908, ' Delhi'), (5.446518421173096, ' Dong'), (5.4115705490112305, ' Han'), (5.329225063323975, ' Zhang'), (5.273219108581543, ' Cant'), (5.256087303161621, ' J'), (5.206585884094238, ' Chicago'), (5.190325736999512, ' Qin'), (5.189450263977051, ' Vancouver'), (5.154852867126465, ' Mac'), (5.151150703430176, ' \"'), (5.134532451629639, ' St'), (5.117224216461182, ' Yan'), (5.103305339813232, ' G'), (5.042632579803467, ' Jing'), (5.0244879722595215, ' 1'), (4.998443603515625, ' Sydney'), (4.996870040893555, ' Qi'), (4.961971282958984, ' Singapore'), (4.958774089813232, ' Ta'), (4.947659969329834, ' Kash'), (4.947474956512451, ' Sha'), (4.924812316894531, ' M'), (4.907210350036621, ' Seattle'), (4.898072719573975, ' Tang'), (4.841214179992676, ' Paris'), (4.800079345703125, ' Moscow'), (4.7869672775268555, ' Da'), (4.77501106262207, ' Lan'), (4.773174285888672, ' Richmond'), (4.772968769073486, ' 7'), (4.771701335906982, ' R'), (4.728875160217285, ' over'), (4.728610515594482, ' Lu'), (4.71613073348999, ' 8'), (4.671424388885498, ' Osaka'), (4.65806770324707, ' Toronto'), (4.657726764678955, ' Berlin'), (4.655167102813721, ' Ba'), (4.6190266609191895, ','), (4.610508918762207, ' about'), (4.597378730773926, ' Ha'), (4.577824115753174, ' Houston')]\n",
      "Be\n"
     ]
    },
    {
     "data": {
      "text/plain": [
       "(' Beijing', 12.729573249816895)"
      ]
     },
     "execution_count": 12,
     "metadata": {},
     "output_type": "execute_result"
    }
   ],
   "source": [
    "logits = model(f\"The capital of China is the city of\")\n",
    "print(query_logits(logits, TOP_N=100))\n",
    "get_logit_val(logits, \"Beijing\")"
   ]
  },
  {
   "cell_type": "code",
   "execution_count": 13,
   "metadata": {},
   "outputs": [
    {
     "data": {
      "text/plain": [
       "tensor([ 0.0123,  0.0551,  0.0088,  ...,  0.0188, -0.0055, -0.0230],\n",
       "       requires_grad=True)"
      ]
     },
     "execution_count": 13,
     "metadata": {},
     "output_type": "execute_result"
    }
   ],
   "source": [
    "# print(torch.nn.functional.one_hot(torch.tensor([model.to_single_token(\" Beijing\")]), num_classes=model.cfg.d_vocab) @ model.W_E)\n",
    "\n",
    "model.W_E[model.to_single_token(\" Beijing\")]\n",
    "# torch.nn.functional.one_hot(torch.tensor([model.to_single_token(\" Beijing\")]), num_classes=model.cfg.d_vocab)\n"
   ]
  },
  {
   "cell_type": "code",
   "execution_count": 14,
   "metadata": {},
   "outputs": [
    {
     "name": "stdout",
     "output_type": "stream",
     "text": [
      "torch.Size([1600, 50257])\n"
     ]
    }
   ],
   "source": [
    "# Get the direction in embedding space\n",
    "def get_direction_in_embedding_space(model, capital_token):\n",
    "    return model.W_E[model.to_single_token(capital_token)]\n",
    "\n",
    "print(model.W_U.shape)"
   ]
  },
  {
   "cell_type": "code",
   "execution_count": 15,
   "metadata": {},
   "outputs": [],
   "source": [
    "# final_ln_output should be in direction __ to maximize "
   ]
  },
  {
   "cell_type": "code",
   "execution_count": 16,
   "metadata": {},
   "outputs": [],
   "source": [
    "capital_test = []\n",
    "for i in range(len(capitals_dataset_no_space)):\n",
    "    # Generate a few-shot prompt without the current index\n",
    "    prompt = generate_few_shot_prompt(capitals_dataset_no_space, n_few_shot, prohibited_indices=[i])\n",
    "\n",
    "    # Get the current sample and add the prompt to the 'input'\n",
    "    sample = capitals_dataset_no_space[i]\n",
    "    sample['input'] = prompt + sample['input']\n",
    "\n",
    "    # Add the sample to the new dataset\n",
    "    capital_test.append(sample)\n",
    "\n"
   ]
  },
  {
   "cell_type": "code",
   "execution_count": 17,
   "metadata": {},
   "outputs": [],
   "source": [
    "# dict for all train lengths\n",
    "train_tokens_dict = {}\n",
    "\n",
    "\n",
    "for row in capital_test:\n",
    "    prompt = row[\"input\"]\n",
    "    label = row[\"label\"]\n",
    "\n",
    "    logits = model(prompt)\n",
    "    tokenized_prompt = model.to_tokens(prompt)\n",
    "    if tokenized_prompt.shape[1] not in train_tokens_dict:\n",
    "        train_tokens_dict[tokenized_prompt.shape[1]] = []\n",
    "    train_tokens_dict[tokenized_prompt.shape[1]].append(tokenized_prompt)\n",
    "    # print(f\"{prompt}, {label}\")\n",
    "    # print(get_logit_val(logits, label))"
   ]
  },
  {
   "cell_type": "code",
   "execution_count": 18,
   "metadata": {},
   "outputs": [
    {
     "name": "stdout",
     "output_type": "stream",
     "text": [
      "dict_keys([15, 12, 19, 13, 14, 17, 18, 16, 20])\n",
      "18\n",
      "125\n",
      "2\n",
      "57\n",
      "28\n",
      "6\n",
      "6\n",
      "4\n",
      "2\n"
     ]
    },
    {
     "data": {
      "text/plain": [
       "tensor([[5.0256e+04, 4.8000e+01, 2.5000e+01,  ..., 3.0000e+01, 3.1700e+02,\n",
       "         2.5000e+01],\n",
       "        [5.0256e+04, 4.8000e+01, 2.5000e+01,  ..., 3.0000e+01, 3.1700e+02,\n",
       "         2.5000e+01],\n",
       "        [5.0256e+04, 4.8000e+01, 2.5000e+01,  ..., 3.0000e+01, 3.1700e+02,\n",
       "         2.5000e+01],\n",
       "        ...,\n",
       "        [5.0256e+04, 4.8000e+01, 2.5000e+01,  ..., 3.0000e+01, 3.1700e+02,\n",
       "         2.5000e+01],\n",
       "        [5.0256e+04, 4.8000e+01, 2.5000e+01,  ..., 3.0000e+01, 3.1700e+02,\n",
       "         2.5000e+01],\n",
       "        [5.0256e+04, 4.8000e+01, 2.5000e+01,  ..., 3.0000e+01, 3.1700e+02,\n",
       "         2.5000e+01]])"
      ]
     },
     "execution_count": 18,
     "metadata": {},
     "output_type": "execute_result"
    }
   ],
   "source": [
    "print(train_tokens_dict.keys())\n",
    "for value in train_tokens_dict.values():\n",
    "    print(len(value))\n",
    "\n",
    "# print(train_tokens_dict[12])\n",
    "len_12_tokens = torch.Tensor(len(train_tokens_dict[12]), 12)\n",
    "torch.cat(train_tokens_dict[12], out=len_12_tokens)"
   ]
  },
  {
   "cell_type": "code",
   "execution_count": 19,
   "metadata": {},
   "outputs": [],
   "source": [
    "import os; os.environ[\"ACCELERATE_DISABLE_RICH\"] = \"1\"\n",
    "import sys\n",
    "from functools import partial\n",
    "import json\n",
    "from typing import List, Tuple, Union, Optional, Callable, Dict\n",
    "import torch as t\n",
    "from torch import Tensor\n",
    "from sklearn.linear_model import LinearRegression\n",
    "import numpy as np\n",
    "from plotly.subplots import make_subplots\n",
    "import plotly.express as px\n",
    "import plotly.graph_objects as go\n",
    "import einops\n",
    "from tqdm import tqdm\n",
    "from jaxtyping import Float, Int, Bool\n",
    "from pathlib import Path\n",
    "import pandas as pd\n",
    "import circuitsvis as cv\n",
    "import webbrowser\n",
    "from IPython.display import display\n",
    "from transformer_lens import utils, ActivationCache, HookedTransformer, HookedTransformerConfig\n",
    "from transformer_lens.hook_points import HookPoint\n",
    "from transformer_lens.components import LayerNorm\n"
   ]
  },
  {
   "cell_type": "code",
   "execution_count": 20,
   "metadata": {},
   "outputs": [],
   "source": [
    "def get_activations(\n",
    "    model: HookedTransformer, \n",
    "    toks: Int[Tensor, \"batch seq\"], \n",
    "    names: Union[str, List[str]]\n",
    ") -> Union[t.Tensor, ActivationCache]:\n",
    "    '''\n",
    "    Uses hooks to return activations from the model.\n",
    "\n",
    "    If names is a string, returns the activations for that hook name.\n",
    "    If names is a list of strings, returns a dictionary mapping hook names to tensors of activations.\n",
    "    '''\n",
    "    names_list = [names] if isinstance(names, str) else names\n",
    "    _, cache = model.run_with_cache(\n",
    "        toks,\n",
    "        return_type=None,\n",
    "        names_filter=lambda name: name in names_list,\n",
    "    )\n",
    "\n",
    "    return cache[names] if isinstance(names, str) else cache\n",
    "\n",
    "def get_post_final_ln_dir(model: HookedTransformer, tok_index) -> Float[Tensor, \"d_model\"]:\n",
    "    '''\n",
    "    Returns the direction in which final_ln_output[0, :] should point to maximize P(unbalanced)\n",
    "    '''\n",
    "    # SOLUTION\n",
    "    return model.W_U[:, tok_index]\n",
    "\n",
    "def LN_hook_names(layernorm) -> Tuple[str, str]:\n",
    "    '''\n",
    "    Returns the names of the hooks immediately before and after a given layernorm.\n",
    "    e.g. LN_hook_names(model.ln_final) returns [\"blocks.2.hook_resid_post\", \"ln_final.hook_normalized\"]\n",
    "    '''\n",
    "    if layernorm.name == \"ln_final\":\n",
    "        input_hook_name = utils.get_act_name(\"resid_post\", 2)\n",
    "        output_hook_name = \"ln_final.hook_normalized\"\n",
    "    else:\n",
    "        layer, ln = layernorm.name.split(\".\")[1:]\n",
    "        input_hook_name = utils.get_act_name(\"resid_pre\" if ln==\"ln1\" else \"resid_mid\", layer)\n",
    "        output_hook_name = utils.get_act_name('normalized', layer, ln)\n",
    "\n",
    "    return input_hook_name, output_hook_name\n",
    "\n",
    "def get_ln_fit(\n",
    "    model: HookedTransformer, train_tokens, layernorm, seq_pos: Optional[int] = None\n",
    "):\n",
    "    '''\n",
    "    if seq_pos is None, find best fit aggregated over all sequence positions. Otherwise, fit only for given seq_pos.\n",
    "\n",
    "    Returns: A tuple of a (fitted) sklearn LinearRegression object and the r^2 of the fit\n",
    "    '''\n",
    "    input_hook_name, output_hook_name = LN_hook_names(layernorm)\n",
    "    # SOLUTION\n",
    "\n",
    "    activations_dict = get_activations(model, train_tokens, [input_hook_name, output_hook_name])\n",
    "    inputs = utils.to_numpy(activations_dict[input_hook_name])\n",
    "    outputs = utils.to_numpy(activations_dict[output_hook_name])\n",
    "\n",
    "    if seq_pos is None:\n",
    "        inputs = einops.rearrange(inputs, \"batch seq d_model -> (batch seq) d_model\")\n",
    "        outputs = einops.rearrange(outputs, \"batch seq d_model -> (batch seq) d_model\")\n",
    "    else:\n",
    "        inputs = inputs[:, seq_pos, :]\n",
    "        outputs = outputs[:, seq_pos, :]\n",
    "\n",
    "    final_ln_fit = LinearRegression().fit(inputs, outputs)\n",
    "\n",
    "    r2 = final_ln_fit.score(inputs, outputs)\n",
    "\n",
    "    return (final_ln_fit, r2)\n",
    "\n",
    "def get_pre_final_ln_dir(model: HookedTransformer, train_tokens) -> Float[Tensor, \"d_model\"]:\n",
    "    '''\n",
    "    Returns the direction in residual stream (pre ln_final, at sequence position 0) which\n",
    "    most points in the direction of making an unbalanced classification.\n",
    "    '''\n",
    "    # SOLUTION\n",
    "    post_final_ln_dir = get_post_final_ln_dir(model, -1)\n",
    "\n",
    "    final_ln_fit = get_ln_fit(model, train_tokens, layernorm=model.ln_final, seq_pos=-1)[0]\n",
    "    final_ln_coefs = t.from_numpy(final_ln_fit.coef_).to(device)\n",
    "\n",
    "    return final_ln_coefs.T @ post_final_ln_dir"
   ]
  },
  {
   "cell_type": "code",
   "execution_count": 21,
   "metadata": {},
   "outputs": [
    {
     "name": "stdout",
     "output_type": "stream",
     "text": [
      "torch.Size([1600])\n"
     ]
    }
   ],
   "source": [
    "pre_final_ln_dir = get_pre_final_ln_dir(model, len_12_tokens.int())\n",
    "print(pre_final_ln_dir.shape)"
   ]
  },
  {
   "cell_type": "code",
   "execution_count": 23,
   "metadata": {},
   "outputs": [
    {
     "name": "stdout",
     "output_type": "stream",
     "text": [
      "ActivationCache with keys ['hook_embed', 'hook_pos_embed', 'blocks.0.hook_resid_pre', 'blocks.0.ln1.hook_scale', 'blocks.0.ln1.hook_normalized', 'blocks.0.attn.hook_q', 'blocks.0.attn.hook_k', 'blocks.0.attn.hook_v', 'blocks.0.attn.hook_attn_scores', 'blocks.0.attn.hook_pattern', 'blocks.0.attn.hook_z', 'blocks.0.attn.hook_result', 'blocks.0.hook_attn_out', 'blocks.0.hook_resid_mid', 'blocks.0.ln2.hook_scale', 'blocks.0.ln2.hook_normalized', 'blocks.0.mlp.hook_pre', 'blocks.0.mlp.hook_post', 'blocks.0.hook_mlp_out', 'blocks.0.hook_resid_post', 'blocks.1.hook_resid_pre', 'blocks.1.ln1.hook_scale', 'blocks.1.ln1.hook_normalized', 'blocks.1.attn.hook_q', 'blocks.1.attn.hook_k', 'blocks.1.attn.hook_v', 'blocks.1.attn.hook_attn_scores', 'blocks.1.attn.hook_pattern', 'blocks.1.attn.hook_z', 'blocks.1.attn.hook_result', 'blocks.1.hook_attn_out', 'blocks.1.hook_resid_mid', 'blocks.1.ln2.hook_scale', 'blocks.1.ln2.hook_normalized', 'blocks.1.mlp.hook_pre', 'blocks.1.mlp.hook_post', 'blocks.1.hook_mlp_out', 'blocks.1.hook_resid_post', 'blocks.2.hook_resid_pre', 'blocks.2.ln1.hook_scale', 'blocks.2.ln1.hook_normalized', 'blocks.2.attn.hook_q', 'blocks.2.attn.hook_k', 'blocks.2.attn.hook_v', 'blocks.2.attn.hook_attn_scores', 'blocks.2.attn.hook_pattern', 'blocks.2.attn.hook_z', 'blocks.2.attn.hook_result', 'blocks.2.hook_attn_out', 'blocks.2.hook_resid_mid', 'blocks.2.ln2.hook_scale', 'blocks.2.ln2.hook_normalized', 'blocks.2.mlp.hook_pre', 'blocks.2.mlp.hook_post', 'blocks.2.hook_mlp_out', 'blocks.2.hook_resid_post', 'blocks.3.hook_resid_pre', 'blocks.3.ln1.hook_scale', 'blocks.3.ln1.hook_normalized', 'blocks.3.attn.hook_q', 'blocks.3.attn.hook_k', 'blocks.3.attn.hook_v', 'blocks.3.attn.hook_attn_scores', 'blocks.3.attn.hook_pattern', 'blocks.3.attn.hook_z', 'blocks.3.attn.hook_result', 'blocks.3.hook_attn_out', 'blocks.3.hook_resid_mid', 'blocks.3.ln2.hook_scale', 'blocks.3.ln2.hook_normalized', 'blocks.3.mlp.hook_pre', 'blocks.3.mlp.hook_post', 'blocks.3.hook_mlp_out', 'blocks.3.hook_resid_post', 'blocks.4.hook_resid_pre', 'blocks.4.ln1.hook_scale', 'blocks.4.ln1.hook_normalized', 'blocks.4.attn.hook_q', 'blocks.4.attn.hook_k', 'blocks.4.attn.hook_v', 'blocks.4.attn.hook_attn_scores', 'blocks.4.attn.hook_pattern', 'blocks.4.attn.hook_z', 'blocks.4.attn.hook_result', 'blocks.4.hook_attn_out', 'blocks.4.hook_resid_mid', 'blocks.4.ln2.hook_scale', 'blocks.4.ln2.hook_normalized', 'blocks.4.mlp.hook_pre', 'blocks.4.mlp.hook_post', 'blocks.4.hook_mlp_out', 'blocks.4.hook_resid_post', 'blocks.5.hook_resid_pre', 'blocks.5.ln1.hook_scale', 'blocks.5.ln1.hook_normalized', 'blocks.5.attn.hook_q', 'blocks.5.attn.hook_k', 'blocks.5.attn.hook_v', 'blocks.5.attn.hook_attn_scores', 'blocks.5.attn.hook_pattern', 'blocks.5.attn.hook_z', 'blocks.5.attn.hook_result', 'blocks.5.hook_attn_out', 'blocks.5.hook_resid_mid', 'blocks.5.ln2.hook_scale', 'blocks.5.ln2.hook_normalized', 'blocks.5.mlp.hook_pre', 'blocks.5.mlp.hook_post', 'blocks.5.hook_mlp_out', 'blocks.5.hook_resid_post', 'blocks.6.hook_resid_pre', 'blocks.6.ln1.hook_scale', 'blocks.6.ln1.hook_normalized', 'blocks.6.attn.hook_q', 'blocks.6.attn.hook_k', 'blocks.6.attn.hook_v', 'blocks.6.attn.hook_attn_scores', 'blocks.6.attn.hook_pattern', 'blocks.6.attn.hook_z', 'blocks.6.attn.hook_result', 'blocks.6.hook_attn_out', 'blocks.6.hook_resid_mid', 'blocks.6.ln2.hook_scale', 'blocks.6.ln2.hook_normalized', 'blocks.6.mlp.hook_pre', 'blocks.6.mlp.hook_post', 'blocks.6.hook_mlp_out', 'blocks.6.hook_resid_post', 'blocks.7.hook_resid_pre', 'blocks.7.ln1.hook_scale', 'blocks.7.ln1.hook_normalized', 'blocks.7.attn.hook_q', 'blocks.7.attn.hook_k', 'blocks.7.attn.hook_v', 'blocks.7.attn.hook_attn_scores', 'blocks.7.attn.hook_pattern', 'blocks.7.attn.hook_z', 'blocks.7.attn.hook_result', 'blocks.7.hook_attn_out', 'blocks.7.hook_resid_mid', 'blocks.7.ln2.hook_scale', 'blocks.7.ln2.hook_normalized', 'blocks.7.mlp.hook_pre', 'blocks.7.mlp.hook_post', 'blocks.7.hook_mlp_out', 'blocks.7.hook_resid_post', 'blocks.8.hook_resid_pre', 'blocks.8.ln1.hook_scale', 'blocks.8.ln1.hook_normalized', 'blocks.8.attn.hook_q', 'blocks.8.attn.hook_k', 'blocks.8.attn.hook_v', 'blocks.8.attn.hook_attn_scores', 'blocks.8.attn.hook_pattern', 'blocks.8.attn.hook_z', 'blocks.8.attn.hook_result', 'blocks.8.hook_attn_out', 'blocks.8.hook_resid_mid', 'blocks.8.ln2.hook_scale', 'blocks.8.ln2.hook_normalized', 'blocks.8.mlp.hook_pre', 'blocks.8.mlp.hook_post', 'blocks.8.hook_mlp_out', 'blocks.8.hook_resid_post', 'blocks.9.hook_resid_pre', 'blocks.9.ln1.hook_scale', 'blocks.9.ln1.hook_normalized', 'blocks.9.attn.hook_q', 'blocks.9.attn.hook_k', 'blocks.9.attn.hook_v', 'blocks.9.attn.hook_attn_scores', 'blocks.9.attn.hook_pattern', 'blocks.9.attn.hook_z', 'blocks.9.attn.hook_result', 'blocks.9.hook_attn_out', 'blocks.9.hook_resid_mid', 'blocks.9.ln2.hook_scale', 'blocks.9.ln2.hook_normalized', 'blocks.9.mlp.hook_pre', 'blocks.9.mlp.hook_post', 'blocks.9.hook_mlp_out', 'blocks.9.hook_resid_post', 'blocks.10.hook_resid_pre', 'blocks.10.ln1.hook_scale', 'blocks.10.ln1.hook_normalized', 'blocks.10.attn.hook_q', 'blocks.10.attn.hook_k', 'blocks.10.attn.hook_v', 'blocks.10.attn.hook_attn_scores', 'blocks.10.attn.hook_pattern', 'blocks.10.attn.hook_z', 'blocks.10.attn.hook_result', 'blocks.10.hook_attn_out', 'blocks.10.hook_resid_mid', 'blocks.10.ln2.hook_scale', 'blocks.10.ln2.hook_normalized', 'blocks.10.mlp.hook_pre', 'blocks.10.mlp.hook_post', 'blocks.10.hook_mlp_out', 'blocks.10.hook_resid_post', 'blocks.11.hook_resid_pre', 'blocks.11.ln1.hook_scale', 'blocks.11.ln1.hook_normalized', 'blocks.11.attn.hook_q', 'blocks.11.attn.hook_k', 'blocks.11.attn.hook_v', 'blocks.11.attn.hook_attn_scores', 'blocks.11.attn.hook_pattern', 'blocks.11.attn.hook_z', 'blocks.11.attn.hook_result', 'blocks.11.hook_attn_out', 'blocks.11.hook_resid_mid', 'blocks.11.ln2.hook_scale', 'blocks.11.ln2.hook_normalized', 'blocks.11.mlp.hook_pre', 'blocks.11.mlp.hook_post', 'blocks.11.hook_mlp_out', 'blocks.11.hook_resid_post', 'blocks.12.hook_resid_pre', 'blocks.12.ln1.hook_scale', 'blocks.12.ln1.hook_normalized', 'blocks.12.attn.hook_q', 'blocks.12.attn.hook_k', 'blocks.12.attn.hook_v', 'blocks.12.attn.hook_attn_scores', 'blocks.12.attn.hook_pattern', 'blocks.12.attn.hook_z', 'blocks.12.attn.hook_result', 'blocks.12.hook_attn_out', 'blocks.12.hook_resid_mid', 'blocks.12.ln2.hook_scale', 'blocks.12.ln2.hook_normalized', 'blocks.12.mlp.hook_pre', 'blocks.12.mlp.hook_post', 'blocks.12.hook_mlp_out', 'blocks.12.hook_resid_post', 'blocks.13.hook_resid_pre', 'blocks.13.ln1.hook_scale', 'blocks.13.ln1.hook_normalized', 'blocks.13.attn.hook_q', 'blocks.13.attn.hook_k', 'blocks.13.attn.hook_v', 'blocks.13.attn.hook_attn_scores', 'blocks.13.attn.hook_pattern', 'blocks.13.attn.hook_z', 'blocks.13.attn.hook_result', 'blocks.13.hook_attn_out', 'blocks.13.hook_resid_mid', 'blocks.13.ln2.hook_scale', 'blocks.13.ln2.hook_normalized', 'blocks.13.mlp.hook_pre', 'blocks.13.mlp.hook_post', 'blocks.13.hook_mlp_out', 'blocks.13.hook_resid_post', 'blocks.14.hook_resid_pre', 'blocks.14.ln1.hook_scale', 'blocks.14.ln1.hook_normalized', 'blocks.14.attn.hook_q', 'blocks.14.attn.hook_k', 'blocks.14.attn.hook_v', 'blocks.14.attn.hook_attn_scores', 'blocks.14.attn.hook_pattern', 'blocks.14.attn.hook_z', 'blocks.14.attn.hook_result', 'blocks.14.hook_attn_out', 'blocks.14.hook_resid_mid', 'blocks.14.ln2.hook_scale', 'blocks.14.ln2.hook_normalized', 'blocks.14.mlp.hook_pre', 'blocks.14.mlp.hook_post', 'blocks.14.hook_mlp_out', 'blocks.14.hook_resid_post', 'blocks.15.hook_resid_pre', 'blocks.15.ln1.hook_scale', 'blocks.15.ln1.hook_normalized', 'blocks.15.attn.hook_q', 'blocks.15.attn.hook_k', 'blocks.15.attn.hook_v', 'blocks.15.attn.hook_attn_scores', 'blocks.15.attn.hook_pattern', 'blocks.15.attn.hook_z', 'blocks.15.attn.hook_result', 'blocks.15.hook_attn_out', 'blocks.15.hook_resid_mid', 'blocks.15.ln2.hook_scale', 'blocks.15.ln2.hook_normalized', 'blocks.15.mlp.hook_pre', 'blocks.15.mlp.hook_post', 'blocks.15.hook_mlp_out', 'blocks.15.hook_resid_post', 'blocks.16.hook_resid_pre', 'blocks.16.ln1.hook_scale', 'blocks.16.ln1.hook_normalized', 'blocks.16.attn.hook_q', 'blocks.16.attn.hook_k', 'blocks.16.attn.hook_v', 'blocks.16.attn.hook_attn_scores', 'blocks.16.attn.hook_pattern', 'blocks.16.attn.hook_z', 'blocks.16.attn.hook_result', 'blocks.16.hook_attn_out', 'blocks.16.hook_resid_mid', 'blocks.16.ln2.hook_scale', 'blocks.16.ln2.hook_normalized', 'blocks.16.mlp.hook_pre', 'blocks.16.mlp.hook_post', 'blocks.16.hook_mlp_out', 'blocks.16.hook_resid_post', 'blocks.17.hook_resid_pre', 'blocks.17.ln1.hook_scale', 'blocks.17.ln1.hook_normalized', 'blocks.17.attn.hook_q', 'blocks.17.attn.hook_k', 'blocks.17.attn.hook_v', 'blocks.17.attn.hook_attn_scores', 'blocks.17.attn.hook_pattern', 'blocks.17.attn.hook_z', 'blocks.17.attn.hook_result', 'blocks.17.hook_attn_out', 'blocks.17.hook_resid_mid', 'blocks.17.ln2.hook_scale', 'blocks.17.ln2.hook_normalized', 'blocks.17.mlp.hook_pre', 'blocks.17.mlp.hook_post', 'blocks.17.hook_mlp_out', 'blocks.17.hook_resid_post', 'blocks.18.hook_resid_pre', 'blocks.18.ln1.hook_scale', 'blocks.18.ln1.hook_normalized', 'blocks.18.attn.hook_q', 'blocks.18.attn.hook_k', 'blocks.18.attn.hook_v', 'blocks.18.attn.hook_attn_scores', 'blocks.18.attn.hook_pattern', 'blocks.18.attn.hook_z', 'blocks.18.attn.hook_result', 'blocks.18.hook_attn_out', 'blocks.18.hook_resid_mid', 'blocks.18.ln2.hook_scale', 'blocks.18.ln2.hook_normalized', 'blocks.18.mlp.hook_pre', 'blocks.18.mlp.hook_post', 'blocks.18.hook_mlp_out', 'blocks.18.hook_resid_post', 'blocks.19.hook_resid_pre', 'blocks.19.ln1.hook_scale', 'blocks.19.ln1.hook_normalized', 'blocks.19.attn.hook_q', 'blocks.19.attn.hook_k', 'blocks.19.attn.hook_v', 'blocks.19.attn.hook_attn_scores', 'blocks.19.attn.hook_pattern', 'blocks.19.attn.hook_z', 'blocks.19.attn.hook_result', 'blocks.19.hook_attn_out', 'blocks.19.hook_resid_mid', 'blocks.19.ln2.hook_scale', 'blocks.19.ln2.hook_normalized', 'blocks.19.mlp.hook_pre', 'blocks.19.mlp.hook_post', 'blocks.19.hook_mlp_out', 'blocks.19.hook_resid_post', 'blocks.20.hook_resid_pre', 'blocks.20.ln1.hook_scale', 'blocks.20.ln1.hook_normalized', 'blocks.20.attn.hook_q', 'blocks.20.attn.hook_k', 'blocks.20.attn.hook_v', 'blocks.20.attn.hook_attn_scores', 'blocks.20.attn.hook_pattern', 'blocks.20.attn.hook_z', 'blocks.20.attn.hook_result', 'blocks.20.hook_attn_out', 'blocks.20.hook_resid_mid', 'blocks.20.ln2.hook_scale', 'blocks.20.ln2.hook_normalized', 'blocks.20.mlp.hook_pre', 'blocks.20.mlp.hook_post', 'blocks.20.hook_mlp_out', 'blocks.20.hook_resid_post', 'blocks.21.hook_resid_pre', 'blocks.21.ln1.hook_scale', 'blocks.21.ln1.hook_normalized', 'blocks.21.attn.hook_q', 'blocks.21.attn.hook_k', 'blocks.21.attn.hook_v', 'blocks.21.attn.hook_attn_scores', 'blocks.21.attn.hook_pattern', 'blocks.21.attn.hook_z', 'blocks.21.attn.hook_result', 'blocks.21.hook_attn_out', 'blocks.21.hook_resid_mid', 'blocks.21.ln2.hook_scale', 'blocks.21.ln2.hook_normalized', 'blocks.21.mlp.hook_pre', 'blocks.21.mlp.hook_post', 'blocks.21.hook_mlp_out', 'blocks.21.hook_resid_post', 'blocks.22.hook_resid_pre', 'blocks.22.ln1.hook_scale', 'blocks.22.ln1.hook_normalized', 'blocks.22.attn.hook_q', 'blocks.22.attn.hook_k', 'blocks.22.attn.hook_v', 'blocks.22.attn.hook_attn_scores', 'blocks.22.attn.hook_pattern', 'blocks.22.attn.hook_z', 'blocks.22.attn.hook_result', 'blocks.22.hook_attn_out', 'blocks.22.hook_resid_mid', 'blocks.22.ln2.hook_scale', 'blocks.22.ln2.hook_normalized', 'blocks.22.mlp.hook_pre', 'blocks.22.mlp.hook_post', 'blocks.22.hook_mlp_out', 'blocks.22.hook_resid_post', 'blocks.23.hook_resid_pre', 'blocks.23.ln1.hook_scale', 'blocks.23.ln1.hook_normalized', 'blocks.23.attn.hook_q', 'blocks.23.attn.hook_k', 'blocks.23.attn.hook_v', 'blocks.23.attn.hook_attn_scores', 'blocks.23.attn.hook_pattern', 'blocks.23.attn.hook_z', 'blocks.23.attn.hook_result', 'blocks.23.hook_attn_out', 'blocks.23.hook_resid_mid', 'blocks.23.ln2.hook_scale', 'blocks.23.ln2.hook_normalized', 'blocks.23.mlp.hook_pre', 'blocks.23.mlp.hook_post', 'blocks.23.hook_mlp_out', 'blocks.23.hook_resid_post', 'blocks.24.hook_resid_pre', 'blocks.24.ln1.hook_scale', 'blocks.24.ln1.hook_normalized', 'blocks.24.attn.hook_q', 'blocks.24.attn.hook_k', 'blocks.24.attn.hook_v', 'blocks.24.attn.hook_attn_scores', 'blocks.24.attn.hook_pattern', 'blocks.24.attn.hook_z', 'blocks.24.attn.hook_result', 'blocks.24.hook_attn_out', 'blocks.24.hook_resid_mid', 'blocks.24.ln2.hook_scale', 'blocks.24.ln2.hook_normalized', 'blocks.24.mlp.hook_pre', 'blocks.24.mlp.hook_post', 'blocks.24.hook_mlp_out', 'blocks.24.hook_resid_post', 'blocks.25.hook_resid_pre', 'blocks.25.ln1.hook_scale', 'blocks.25.ln1.hook_normalized', 'blocks.25.attn.hook_q', 'blocks.25.attn.hook_k', 'blocks.25.attn.hook_v', 'blocks.25.attn.hook_attn_scores', 'blocks.25.attn.hook_pattern', 'blocks.25.attn.hook_z', 'blocks.25.attn.hook_result', 'blocks.25.hook_attn_out', 'blocks.25.hook_resid_mid', 'blocks.25.ln2.hook_scale', 'blocks.25.ln2.hook_normalized', 'blocks.25.mlp.hook_pre', 'blocks.25.mlp.hook_post', 'blocks.25.hook_mlp_out', 'blocks.25.hook_resid_post', 'blocks.26.hook_resid_pre', 'blocks.26.ln1.hook_scale', 'blocks.26.ln1.hook_normalized', 'blocks.26.attn.hook_q', 'blocks.26.attn.hook_k', 'blocks.26.attn.hook_v', 'blocks.26.attn.hook_attn_scores', 'blocks.26.attn.hook_pattern', 'blocks.26.attn.hook_z', 'blocks.26.attn.hook_result', 'blocks.26.hook_attn_out', 'blocks.26.hook_resid_mid', 'blocks.26.ln2.hook_scale', 'blocks.26.ln2.hook_normalized', 'blocks.26.mlp.hook_pre', 'blocks.26.mlp.hook_post', 'blocks.26.hook_mlp_out', 'blocks.26.hook_resid_post', 'blocks.27.hook_resid_pre', 'blocks.27.ln1.hook_scale', 'blocks.27.ln1.hook_normalized', 'blocks.27.attn.hook_q', 'blocks.27.attn.hook_k', 'blocks.27.attn.hook_v', 'blocks.27.attn.hook_attn_scores', 'blocks.27.attn.hook_pattern', 'blocks.27.attn.hook_z', 'blocks.27.attn.hook_result', 'blocks.27.hook_attn_out', 'blocks.27.hook_resid_mid', 'blocks.27.ln2.hook_scale', 'blocks.27.ln2.hook_normalized', 'blocks.27.mlp.hook_pre', 'blocks.27.mlp.hook_post', 'blocks.27.hook_mlp_out', 'blocks.27.hook_resid_post', 'blocks.28.hook_resid_pre', 'blocks.28.ln1.hook_scale', 'blocks.28.ln1.hook_normalized', 'blocks.28.attn.hook_q', 'blocks.28.attn.hook_k', 'blocks.28.attn.hook_v', 'blocks.28.attn.hook_attn_scores', 'blocks.28.attn.hook_pattern', 'blocks.28.attn.hook_z', 'blocks.28.attn.hook_result', 'blocks.28.hook_attn_out', 'blocks.28.hook_resid_mid', 'blocks.28.ln2.hook_scale', 'blocks.28.ln2.hook_normalized', 'blocks.28.mlp.hook_pre', 'blocks.28.mlp.hook_post', 'blocks.28.hook_mlp_out', 'blocks.28.hook_resid_post', 'blocks.29.hook_resid_pre', 'blocks.29.ln1.hook_scale', 'blocks.29.ln1.hook_normalized', 'blocks.29.attn.hook_q', 'blocks.29.attn.hook_k', 'blocks.29.attn.hook_v', 'blocks.29.attn.hook_attn_scores', 'blocks.29.attn.hook_pattern', 'blocks.29.attn.hook_z', 'blocks.29.attn.hook_result', 'blocks.29.hook_attn_out', 'blocks.29.hook_resid_mid', 'blocks.29.ln2.hook_scale', 'blocks.29.ln2.hook_normalized', 'blocks.29.mlp.hook_pre', 'blocks.29.mlp.hook_post', 'blocks.29.hook_mlp_out', 'blocks.29.hook_resid_post', 'blocks.30.hook_resid_pre', 'blocks.30.ln1.hook_scale', 'blocks.30.ln1.hook_normalized', 'blocks.30.attn.hook_q', 'blocks.30.attn.hook_k', 'blocks.30.attn.hook_v', 'blocks.30.attn.hook_attn_scores', 'blocks.30.attn.hook_pattern', 'blocks.30.attn.hook_z', 'blocks.30.attn.hook_result', 'blocks.30.hook_attn_out', 'blocks.30.hook_resid_mid', 'blocks.30.ln2.hook_scale', 'blocks.30.ln2.hook_normalized', 'blocks.30.mlp.hook_pre', 'blocks.30.mlp.hook_post', 'blocks.30.hook_mlp_out', 'blocks.30.hook_resid_post', 'blocks.31.hook_resid_pre', 'blocks.31.ln1.hook_scale', 'blocks.31.ln1.hook_normalized', 'blocks.31.attn.hook_q', 'blocks.31.attn.hook_k', 'blocks.31.attn.hook_v', 'blocks.31.attn.hook_attn_scores', 'blocks.31.attn.hook_pattern', 'blocks.31.attn.hook_z', 'blocks.31.attn.hook_result', 'blocks.31.hook_attn_out', 'blocks.31.hook_resid_mid', 'blocks.31.ln2.hook_scale', 'blocks.31.ln2.hook_normalized', 'blocks.31.mlp.hook_pre', 'blocks.31.mlp.hook_post', 'blocks.31.hook_mlp_out', 'blocks.31.hook_resid_post', 'blocks.32.hook_resid_pre', 'blocks.32.ln1.hook_scale', 'blocks.32.ln1.hook_normalized', 'blocks.32.attn.hook_q', 'blocks.32.attn.hook_k', 'blocks.32.attn.hook_v', 'blocks.32.attn.hook_attn_scores', 'blocks.32.attn.hook_pattern', 'blocks.32.attn.hook_z', 'blocks.32.attn.hook_result', 'blocks.32.hook_attn_out', 'blocks.32.hook_resid_mid', 'blocks.32.ln2.hook_scale', 'blocks.32.ln2.hook_normalized', 'blocks.32.mlp.hook_pre', 'blocks.32.mlp.hook_post', 'blocks.32.hook_mlp_out', 'blocks.32.hook_resid_post', 'blocks.33.hook_resid_pre', 'blocks.33.ln1.hook_scale', 'blocks.33.ln1.hook_normalized', 'blocks.33.attn.hook_q', 'blocks.33.attn.hook_k', 'blocks.33.attn.hook_v', 'blocks.33.attn.hook_attn_scores', 'blocks.33.attn.hook_pattern', 'blocks.33.attn.hook_z', 'blocks.33.attn.hook_result', 'blocks.33.hook_attn_out', 'blocks.33.hook_resid_mid', 'blocks.33.ln2.hook_scale', 'blocks.33.ln2.hook_normalized', 'blocks.33.mlp.hook_pre', 'blocks.33.mlp.hook_post', 'blocks.33.hook_mlp_out', 'blocks.33.hook_resid_post', 'blocks.34.hook_resid_pre', 'blocks.34.ln1.hook_scale', 'blocks.34.ln1.hook_normalized', 'blocks.34.attn.hook_q', 'blocks.34.attn.hook_k', 'blocks.34.attn.hook_v', 'blocks.34.attn.hook_attn_scores', 'blocks.34.attn.hook_pattern', 'blocks.34.attn.hook_z', 'blocks.34.attn.hook_result', 'blocks.34.hook_attn_out', 'blocks.34.hook_resid_mid', 'blocks.34.ln2.hook_scale', 'blocks.34.ln2.hook_normalized', 'blocks.34.mlp.hook_pre', 'blocks.34.mlp.hook_post', 'blocks.34.hook_mlp_out', 'blocks.34.hook_resid_post', 'blocks.35.hook_resid_pre', 'blocks.35.ln1.hook_scale', 'blocks.35.ln1.hook_normalized', 'blocks.35.attn.hook_q', 'blocks.35.attn.hook_k', 'blocks.35.attn.hook_v', 'blocks.35.attn.hook_attn_scores', 'blocks.35.attn.hook_pattern', 'blocks.35.attn.hook_z', 'blocks.35.attn.hook_result', 'blocks.35.hook_attn_out', 'blocks.35.hook_resid_mid', 'blocks.35.ln2.hook_scale', 'blocks.35.ln2.hook_normalized', 'blocks.35.mlp.hook_pre', 'blocks.35.mlp.hook_post', 'blocks.35.hook_mlp_out', 'blocks.35.hook_resid_post', 'blocks.36.hook_resid_pre', 'blocks.36.ln1.hook_scale', 'blocks.36.ln1.hook_normalized', 'blocks.36.attn.hook_q', 'blocks.36.attn.hook_k', 'blocks.36.attn.hook_v', 'blocks.36.attn.hook_attn_scores', 'blocks.36.attn.hook_pattern', 'blocks.36.attn.hook_z', 'blocks.36.attn.hook_result', 'blocks.36.hook_attn_out', 'blocks.36.hook_resid_mid', 'blocks.36.ln2.hook_scale', 'blocks.36.ln2.hook_normalized', 'blocks.36.mlp.hook_pre', 'blocks.36.mlp.hook_post', 'blocks.36.hook_mlp_out', 'blocks.36.hook_resid_post', 'blocks.37.hook_resid_pre', 'blocks.37.ln1.hook_scale', 'blocks.37.ln1.hook_normalized', 'blocks.37.attn.hook_q', 'blocks.37.attn.hook_k', 'blocks.37.attn.hook_v', 'blocks.37.attn.hook_attn_scores', 'blocks.37.attn.hook_pattern', 'blocks.37.attn.hook_z', 'blocks.37.attn.hook_result', 'blocks.37.hook_attn_out', 'blocks.37.hook_resid_mid', 'blocks.37.ln2.hook_scale', 'blocks.37.ln2.hook_normalized', 'blocks.37.mlp.hook_pre', 'blocks.37.mlp.hook_post', 'blocks.37.hook_mlp_out', 'blocks.37.hook_resid_post', 'blocks.38.hook_resid_pre', 'blocks.38.ln1.hook_scale', 'blocks.38.ln1.hook_normalized', 'blocks.38.attn.hook_q', 'blocks.38.attn.hook_k', 'blocks.38.attn.hook_v', 'blocks.38.attn.hook_attn_scores', 'blocks.38.attn.hook_pattern', 'blocks.38.attn.hook_z', 'blocks.38.attn.hook_result', 'blocks.38.hook_attn_out', 'blocks.38.hook_resid_mid', 'blocks.38.ln2.hook_scale', 'blocks.38.ln2.hook_normalized', 'blocks.38.mlp.hook_pre', 'blocks.38.mlp.hook_post', 'blocks.38.hook_mlp_out', 'blocks.38.hook_resid_post', 'blocks.39.hook_resid_pre', 'blocks.39.ln1.hook_scale', 'blocks.39.ln1.hook_normalized', 'blocks.39.attn.hook_q', 'blocks.39.attn.hook_k', 'blocks.39.attn.hook_v', 'blocks.39.attn.hook_attn_scores', 'blocks.39.attn.hook_pattern', 'blocks.39.attn.hook_z', 'blocks.39.attn.hook_result', 'blocks.39.hook_attn_out', 'blocks.39.hook_resid_mid', 'blocks.39.ln2.hook_scale', 'blocks.39.ln2.hook_normalized', 'blocks.39.mlp.hook_pre', 'blocks.39.mlp.hook_post', 'blocks.39.hook_mlp_out', 'blocks.39.hook_resid_post', 'blocks.40.hook_resid_pre', 'blocks.40.ln1.hook_scale', 'blocks.40.ln1.hook_normalized', 'blocks.40.attn.hook_q', 'blocks.40.attn.hook_k', 'blocks.40.attn.hook_v', 'blocks.40.attn.hook_attn_scores', 'blocks.40.attn.hook_pattern', 'blocks.40.attn.hook_z', 'blocks.40.attn.hook_result', 'blocks.40.hook_attn_out', 'blocks.40.hook_resid_mid', 'blocks.40.ln2.hook_scale', 'blocks.40.ln2.hook_normalized', 'blocks.40.mlp.hook_pre', 'blocks.40.mlp.hook_post', 'blocks.40.hook_mlp_out', 'blocks.40.hook_resid_post', 'blocks.41.hook_resid_pre', 'blocks.41.ln1.hook_scale', 'blocks.41.ln1.hook_normalized', 'blocks.41.attn.hook_q', 'blocks.41.attn.hook_k', 'blocks.41.attn.hook_v', 'blocks.41.attn.hook_attn_scores', 'blocks.41.attn.hook_pattern', 'blocks.41.attn.hook_z', 'blocks.41.attn.hook_result', 'blocks.41.hook_attn_out', 'blocks.41.hook_resid_mid', 'blocks.41.ln2.hook_scale', 'blocks.41.ln2.hook_normalized', 'blocks.41.mlp.hook_pre', 'blocks.41.mlp.hook_post', 'blocks.41.hook_mlp_out', 'blocks.41.hook_resid_post', 'blocks.42.hook_resid_pre', 'blocks.42.ln1.hook_scale', 'blocks.42.ln1.hook_normalized', 'blocks.42.attn.hook_q', 'blocks.42.attn.hook_k', 'blocks.42.attn.hook_v', 'blocks.42.attn.hook_attn_scores', 'blocks.42.attn.hook_pattern', 'blocks.42.attn.hook_z', 'blocks.42.attn.hook_result', 'blocks.42.hook_attn_out', 'blocks.42.hook_resid_mid', 'blocks.42.ln2.hook_scale', 'blocks.42.ln2.hook_normalized', 'blocks.42.mlp.hook_pre', 'blocks.42.mlp.hook_post', 'blocks.42.hook_mlp_out', 'blocks.42.hook_resid_post', 'blocks.43.hook_resid_pre', 'blocks.43.ln1.hook_scale', 'blocks.43.ln1.hook_normalized', 'blocks.43.attn.hook_q', 'blocks.43.attn.hook_k', 'blocks.43.attn.hook_v', 'blocks.43.attn.hook_attn_scores', 'blocks.43.attn.hook_pattern', 'blocks.43.attn.hook_z', 'blocks.43.attn.hook_result', 'blocks.43.hook_attn_out', 'blocks.43.hook_resid_mid', 'blocks.43.ln2.hook_scale', 'blocks.43.ln2.hook_normalized', 'blocks.43.mlp.hook_pre', 'blocks.43.mlp.hook_post', 'blocks.43.hook_mlp_out', 'blocks.43.hook_resid_post', 'blocks.44.hook_resid_pre', 'blocks.44.ln1.hook_scale', 'blocks.44.ln1.hook_normalized', 'blocks.44.attn.hook_q', 'blocks.44.attn.hook_k', 'blocks.44.attn.hook_v', 'blocks.44.attn.hook_attn_scores', 'blocks.44.attn.hook_pattern', 'blocks.44.attn.hook_z', 'blocks.44.attn.hook_result', 'blocks.44.hook_attn_out', 'blocks.44.hook_resid_mid', 'blocks.44.ln2.hook_scale', 'blocks.44.ln2.hook_normalized', 'blocks.44.mlp.hook_pre', 'blocks.44.mlp.hook_post', 'blocks.44.hook_mlp_out', 'blocks.44.hook_resid_post', 'blocks.45.hook_resid_pre', 'blocks.45.ln1.hook_scale', 'blocks.45.ln1.hook_normalized', 'blocks.45.attn.hook_q', 'blocks.45.attn.hook_k', 'blocks.45.attn.hook_v', 'blocks.45.attn.hook_attn_scores', 'blocks.45.attn.hook_pattern', 'blocks.45.attn.hook_z', 'blocks.45.attn.hook_result', 'blocks.45.hook_attn_out', 'blocks.45.hook_resid_mid', 'blocks.45.ln2.hook_scale', 'blocks.45.ln2.hook_normalized', 'blocks.45.mlp.hook_pre', 'blocks.45.mlp.hook_post', 'blocks.45.hook_mlp_out', 'blocks.45.hook_resid_post', 'blocks.46.hook_resid_pre', 'blocks.46.ln1.hook_scale', 'blocks.46.ln1.hook_normalized', 'blocks.46.attn.hook_q', 'blocks.46.attn.hook_k', 'blocks.46.attn.hook_v', 'blocks.46.attn.hook_attn_scores', 'blocks.46.attn.hook_pattern', 'blocks.46.attn.hook_z', 'blocks.46.attn.hook_result', 'blocks.46.hook_attn_out', 'blocks.46.hook_resid_mid', 'blocks.46.ln2.hook_scale', 'blocks.46.ln2.hook_normalized', 'blocks.46.mlp.hook_pre', 'blocks.46.mlp.hook_post', 'blocks.46.hook_mlp_out', 'blocks.46.hook_resid_post', 'blocks.47.hook_resid_pre', 'blocks.47.ln1.hook_scale', 'blocks.47.ln1.hook_normalized', 'blocks.47.attn.hook_q', 'blocks.47.attn.hook_k', 'blocks.47.attn.hook_v', 'blocks.47.attn.hook_attn_scores', 'blocks.47.attn.hook_pattern', 'blocks.47.attn.hook_z', 'blocks.47.attn.hook_result', 'blocks.47.hook_attn_out', 'blocks.47.hook_resid_mid', 'blocks.47.ln2.hook_scale', 'blocks.47.ln2.hook_normalized', 'blocks.47.mlp.hook_pre', 'blocks.47.mlp.hook_post', 'blocks.47.hook_mlp_out', 'blocks.47.hook_resid_post', 'ln_final.hook_scale', 'ln_final.hook_normalized']\n",
      "torch.Size([125, 12, 25, 1600])\n"
     ]
    }
   ],
   "source": [
    "model.set_use_attn_result(True)\n",
    "_, cache = model.run_with_cache(len_12_tokens.int())\n",
    "print(cache)\n",
    "\n",
    "print(cache[utils.get_act_name(\"result\", 44)].shape)"
   ]
  },
  {
   "cell_type": "code",
   "execution_count": 36,
   "metadata": {},
   "outputs": [
    {
     "data": {
      "text/plain": [
       "(48, 25)"
      ]
     },
     "execution_count": 36,
     "metadata": {},
     "output_type": "execute_result"
    }
   ],
   "source": [
    "head_num=19\n",
    "layer=44\n",
    "\n",
    "\n",
    "all_attributions = []\n",
    "for layer in range(model.cfg.n_layers):\n",
    "    attributions_layer = einops.einsum(cache[utils.get_act_name(\"result\", layer)][:,-1], pre_final_ln_dir, \"b n_h d_m, d_m -> b n_h\").numpy()\n",
    "    all_attributions.append(attributions_layer.mean(axis=0))\n",
    "\n",
    "all_attributions = np.stack(all_attributions, axis=0)\n",
    "all_attributions.shape\n",
    "\n",
    "# head_output_logit_dir = einops.einsum(cache[utils.get_act_name(\"result\", 44)][:,-1,head_num], pre_final_ln_dir, \"b d_m, d_m -> b\")\n",
    "# px.histogram(head_output_logit_dir)"
   ]
  },
  {
   "cell_type": "code",
   "execution_count": 51,
   "metadata": {},
   "outputs": [
    {
     "data": {
      "text/plain": [
       "['<|endoftext|>',\n",
       " '<|endoftext|>',\n",
       " 'Q',\n",
       " ':',\n",
       " ' What',\n",
       " ' is',\n",
       " ' the',\n",
       " ' capital',\n",
       " ' of',\n",
       " ' Algeria',\n",
       " '?',\n",
       " ' A',\n",
       " ':']"
      ]
     },
     "execution_count": 51,
     "metadata": {},
     "output_type": "execute_result"
    }
   ],
   "source": [
    "model.to_str_tokens(model.tokenizer.batch_decode(len_12_tokens.int())[2])"
   ]
  },
  {
   "cell_type": "code",
   "execution_count": 50,
   "metadata": {},
   "outputs": [
    {
     "data": {
      "application/vnd.plotly.v1+json": {
       "config": {
        "plotlyServerURL": "https://plot.ly"
       },
       "data": [
        {
         "coloraxis": "coloraxis",
         "hovertemplate": "x: %{x}<br>y: %{y}<br>color: %{z}<extra></extra>",
         "name": "0",
         "type": "heatmap",
         "xaxis": "x",
         "yaxis": "y",
         "z": [
          [
           1,
           0,
           0,
           0,
           0,
           0,
           0,
           0,
           0,
           0,
           0,
           0
          ],
          [
           0.00016481474449392408,
           0.9998350739479065,
           0,
           0,
           0,
           0,
           0,
           0,
           0,
           0,
           0,
           0
          ],
          [
           0.0002970983914565295,
           0.04537319391965866,
           0.9543296098709106,
           0,
           0,
           0,
           0,
           0,
           0,
           0,
           0,
           0
          ],
          [
           0.00023503410920966417,
           0.05086452141404152,
           0.5846978425979614,
           0.3642025589942932,
           0,
           0,
           0,
           0,
           0,
           0,
           0,
           0
          ],
          [
           0.0013863968197256327,
           0.07847750931978226,
           0.337739497423172,
           0.21369144320487976,
           0.36870524287223816,
           0,
           0,
           0,
           0,
           0,
           0,
           0
          ],
          [
           0.0008315812447108328,
           0.03985327482223511,
           0.17896388471126556,
           0.07392000406980515,
           0.2614457905292511,
           0.44498541951179504,
           0,
           0,
           0,
           0,
           0,
           0
          ],
          [
           0.000024184728317777626,
           0.020107997581362724,
           0.025456594303250313,
           0.029377693310379982,
           0.03817341849207878,
           0.14914409816265106,
           0.7377160787582397,
           0,
           0,
           0,
           0,
           0
          ],
          [
           0.0006109038949944079,
           0.04010159149765968,
           0.14180529117584229,
           0.09167277067899704,
           0.06982075423002243,
           0.13534532487392426,
           0.1368422508239746,
           0.38380101323127747,
           0,
           0,
           0,
           0
          ],
          [
           0.0006893245154060423,
           0.01614997535943985,
           0.08860743045806885,
           0.22156524658203125,
           0.039737850427627563,
           0.08126302063465118,
           0.191788449883461,
           0.16033343970775604,
           0.19986526668071747,
           0,
           0,
           0
          ],
          [
           0.0003757653757929802,
           0.010857109911739826,
           0.18927010893821716,
           0.0472288616001606,
           0.0048072803765535355,
           0.026132864877581596,
           0.07989466935396194,
           0.08613160252571106,
           0.02375626005232334,
           0.5315454602241516,
           0,
           0
          ],
          [
           0.0001587724545970559,
           0.004529513884335756,
           0.13425205647945404,
           0.0375889390707016,
           0.03678702190518379,
           0.06598015874624252,
           0.028121989220380783,
           0.13829727470874786,
           0.039536722004413605,
           0.37986522912979126,
           0.13488233089447021,
           0
          ],
          [
           0.0004526193661149591,
           0.03091457672417164,
           0.09139104932546616,
           0.0844358578324318,
           0.014138885773718357,
           0.05857250094413757,
           0.23451459407806396,
           0.05897284299135208,
           0.11724898964166641,
           0.22082749009132385,
           0.023034583777189255,
           0.0654960349202156
          ]
         ]
        }
       ],
       "layout": {
        "coloraxis": {
         "colorscale": [
          [
           0,
           "#0d0887"
          ],
          [
           0.1111111111111111,
           "#46039f"
          ],
          [
           0.2222222222222222,
           "#7201a8"
          ],
          [
           0.3333333333333333,
           "#9c179e"
          ],
          [
           0.4444444444444444,
           "#bd3786"
          ],
          [
           0.5555555555555556,
           "#d8576b"
          ],
          [
           0.6666666666666666,
           "#ed7953"
          ],
          [
           0.7777777777777778,
           "#fb9f3a"
          ],
          [
           0.8888888888888888,
           "#fdca26"
          ],
          [
           1,
           "#f0f921"
          ]
         ]
        },
        "margin": {
         "t": 60
        },
        "template": {
         "data": {
          "bar": [
           {
            "error_x": {
             "color": "#2a3f5f"
            },
            "error_y": {
             "color": "#2a3f5f"
            },
            "marker": {
             "line": {
              "color": "#E5ECF6",
              "width": 0.5
             },
             "pattern": {
              "fillmode": "overlay",
              "size": 10,
              "solidity": 0.2
             }
            },
            "type": "bar"
           }
          ],
          "barpolar": [
           {
            "marker": {
             "line": {
              "color": "#E5ECF6",
              "width": 0.5
             },
             "pattern": {
              "fillmode": "overlay",
              "size": 10,
              "solidity": 0.2
             }
            },
            "type": "barpolar"
           }
          ],
          "carpet": [
           {
            "aaxis": {
             "endlinecolor": "#2a3f5f",
             "gridcolor": "white",
             "linecolor": "white",
             "minorgridcolor": "white",
             "startlinecolor": "#2a3f5f"
            },
            "baxis": {
             "endlinecolor": "#2a3f5f",
             "gridcolor": "white",
             "linecolor": "white",
             "minorgridcolor": "white",
             "startlinecolor": "#2a3f5f"
            },
            "type": "carpet"
           }
          ],
          "choropleth": [
           {
            "colorbar": {
             "outlinewidth": 0,
             "ticks": ""
            },
            "type": "choropleth"
           }
          ],
          "contour": [
           {
            "colorbar": {
             "outlinewidth": 0,
             "ticks": ""
            },
            "colorscale": [
             [
              0,
              "#0d0887"
             ],
             [
              0.1111111111111111,
              "#46039f"
             ],
             [
              0.2222222222222222,
              "#7201a8"
             ],
             [
              0.3333333333333333,
              "#9c179e"
             ],
             [
              0.4444444444444444,
              "#bd3786"
             ],
             [
              0.5555555555555556,
              "#d8576b"
             ],
             [
              0.6666666666666666,
              "#ed7953"
             ],
             [
              0.7777777777777778,
              "#fb9f3a"
             ],
             [
              0.8888888888888888,
              "#fdca26"
             ],
             [
              1,
              "#f0f921"
             ]
            ],
            "type": "contour"
           }
          ],
          "contourcarpet": [
           {
            "colorbar": {
             "outlinewidth": 0,
             "ticks": ""
            },
            "type": "contourcarpet"
           }
          ],
          "heatmap": [
           {
            "colorbar": {
             "outlinewidth": 0,
             "ticks": ""
            },
            "colorscale": [
             [
              0,
              "#0d0887"
             ],
             [
              0.1111111111111111,
              "#46039f"
             ],
             [
              0.2222222222222222,
              "#7201a8"
             ],
             [
              0.3333333333333333,
              "#9c179e"
             ],
             [
              0.4444444444444444,
              "#bd3786"
             ],
             [
              0.5555555555555556,
              "#d8576b"
             ],
             [
              0.6666666666666666,
              "#ed7953"
             ],
             [
              0.7777777777777778,
              "#fb9f3a"
             ],
             [
              0.8888888888888888,
              "#fdca26"
             ],
             [
              1,
              "#f0f921"
             ]
            ],
            "type": "heatmap"
           }
          ],
          "heatmapgl": [
           {
            "colorbar": {
             "outlinewidth": 0,
             "ticks": ""
            },
            "colorscale": [
             [
              0,
              "#0d0887"
             ],
             [
              0.1111111111111111,
              "#46039f"
             ],
             [
              0.2222222222222222,
              "#7201a8"
             ],
             [
              0.3333333333333333,
              "#9c179e"
             ],
             [
              0.4444444444444444,
              "#bd3786"
             ],
             [
              0.5555555555555556,
              "#d8576b"
             ],
             [
              0.6666666666666666,
              "#ed7953"
             ],
             [
              0.7777777777777778,
              "#fb9f3a"
             ],
             [
              0.8888888888888888,
              "#fdca26"
             ],
             [
              1,
              "#f0f921"
             ]
            ],
            "type": "heatmapgl"
           }
          ],
          "histogram": [
           {
            "marker": {
             "pattern": {
              "fillmode": "overlay",
              "size": 10,
              "solidity": 0.2
             }
            },
            "type": "histogram"
           }
          ],
          "histogram2d": [
           {
            "colorbar": {
             "outlinewidth": 0,
             "ticks": ""
            },
            "colorscale": [
             [
              0,
              "#0d0887"
             ],
             [
              0.1111111111111111,
              "#46039f"
             ],
             [
              0.2222222222222222,
              "#7201a8"
             ],
             [
              0.3333333333333333,
              "#9c179e"
             ],
             [
              0.4444444444444444,
              "#bd3786"
             ],
             [
              0.5555555555555556,
              "#d8576b"
             ],
             [
              0.6666666666666666,
              "#ed7953"
             ],
             [
              0.7777777777777778,
              "#fb9f3a"
             ],
             [
              0.8888888888888888,
              "#fdca26"
             ],
             [
              1,
              "#f0f921"
             ]
            ],
            "type": "histogram2d"
           }
          ],
          "histogram2dcontour": [
           {
            "colorbar": {
             "outlinewidth": 0,
             "ticks": ""
            },
            "colorscale": [
             [
              0,
              "#0d0887"
             ],
             [
              0.1111111111111111,
              "#46039f"
             ],
             [
              0.2222222222222222,
              "#7201a8"
             ],
             [
              0.3333333333333333,
              "#9c179e"
             ],
             [
              0.4444444444444444,
              "#bd3786"
             ],
             [
              0.5555555555555556,
              "#d8576b"
             ],
             [
              0.6666666666666666,
              "#ed7953"
             ],
             [
              0.7777777777777778,
              "#fb9f3a"
             ],
             [
              0.8888888888888888,
              "#fdca26"
             ],
             [
              1,
              "#f0f921"
             ]
            ],
            "type": "histogram2dcontour"
           }
          ],
          "mesh3d": [
           {
            "colorbar": {
             "outlinewidth": 0,
             "ticks": ""
            },
            "type": "mesh3d"
           }
          ],
          "parcoords": [
           {
            "line": {
             "colorbar": {
              "outlinewidth": 0,
              "ticks": ""
             }
            },
            "type": "parcoords"
           }
          ],
          "pie": [
           {
            "automargin": true,
            "type": "pie"
           }
          ],
          "scatter": [
           {
            "fillpattern": {
             "fillmode": "overlay",
             "size": 10,
             "solidity": 0.2
            },
            "type": "scatter"
           }
          ],
          "scatter3d": [
           {
            "line": {
             "colorbar": {
              "outlinewidth": 0,
              "ticks": ""
             }
            },
            "marker": {
             "colorbar": {
              "outlinewidth": 0,
              "ticks": ""
             }
            },
            "type": "scatter3d"
           }
          ],
          "scattercarpet": [
           {
            "marker": {
             "colorbar": {
              "outlinewidth": 0,
              "ticks": ""
             }
            },
            "type": "scattercarpet"
           }
          ],
          "scattergeo": [
           {
            "marker": {
             "colorbar": {
              "outlinewidth": 0,
              "ticks": ""
             }
            },
            "type": "scattergeo"
           }
          ],
          "scattergl": [
           {
            "marker": {
             "colorbar": {
              "outlinewidth": 0,
              "ticks": ""
             }
            },
            "type": "scattergl"
           }
          ],
          "scattermapbox": [
           {
            "marker": {
             "colorbar": {
              "outlinewidth": 0,
              "ticks": ""
             }
            },
            "type": "scattermapbox"
           }
          ],
          "scatterpolar": [
           {
            "marker": {
             "colorbar": {
              "outlinewidth": 0,
              "ticks": ""
             }
            },
            "type": "scatterpolar"
           }
          ],
          "scatterpolargl": [
           {
            "marker": {
             "colorbar": {
              "outlinewidth": 0,
              "ticks": ""
             }
            },
            "type": "scatterpolargl"
           }
          ],
          "scatterternary": [
           {
            "marker": {
             "colorbar": {
              "outlinewidth": 0,
              "ticks": ""
             }
            },
            "type": "scatterternary"
           }
          ],
          "surface": [
           {
            "colorbar": {
             "outlinewidth": 0,
             "ticks": ""
            },
            "colorscale": [
             [
              0,
              "#0d0887"
             ],
             [
              0.1111111111111111,
              "#46039f"
             ],
             [
              0.2222222222222222,
              "#7201a8"
             ],
             [
              0.3333333333333333,
              "#9c179e"
             ],
             [
              0.4444444444444444,
              "#bd3786"
             ],
             [
              0.5555555555555556,
              "#d8576b"
             ],
             [
              0.6666666666666666,
              "#ed7953"
             ],
             [
              0.7777777777777778,
              "#fb9f3a"
             ],
             [
              0.8888888888888888,
              "#fdca26"
             ],
             [
              1,
              "#f0f921"
             ]
            ],
            "type": "surface"
           }
          ],
          "table": [
           {
            "cells": {
             "fill": {
              "color": "#EBF0F8"
             },
             "line": {
              "color": "white"
             }
            },
            "header": {
             "fill": {
              "color": "#C8D4E3"
             },
             "line": {
              "color": "white"
             }
            },
            "type": "table"
           }
          ]
         },
         "layout": {
          "annotationdefaults": {
           "arrowcolor": "#2a3f5f",
           "arrowhead": 0,
           "arrowwidth": 1
          },
          "autotypenumbers": "strict",
          "coloraxis": {
           "colorbar": {
            "outlinewidth": 0,
            "ticks": ""
           }
          },
          "colorscale": {
           "diverging": [
            [
             0,
             "#8e0152"
            ],
            [
             0.1,
             "#c51b7d"
            ],
            [
             0.2,
             "#de77ae"
            ],
            [
             0.3,
             "#f1b6da"
            ],
            [
             0.4,
             "#fde0ef"
            ],
            [
             0.5,
             "#f7f7f7"
            ],
            [
             0.6,
             "#e6f5d0"
            ],
            [
             0.7,
             "#b8e186"
            ],
            [
             0.8,
             "#7fbc41"
            ],
            [
             0.9,
             "#4d9221"
            ],
            [
             1,
             "#276419"
            ]
           ],
           "sequential": [
            [
             0,
             "#0d0887"
            ],
            [
             0.1111111111111111,
             "#46039f"
            ],
            [
             0.2222222222222222,
             "#7201a8"
            ],
            [
             0.3333333333333333,
             "#9c179e"
            ],
            [
             0.4444444444444444,
             "#bd3786"
            ],
            [
             0.5555555555555556,
             "#d8576b"
            ],
            [
             0.6666666666666666,
             "#ed7953"
            ],
            [
             0.7777777777777778,
             "#fb9f3a"
            ],
            [
             0.8888888888888888,
             "#fdca26"
            ],
            [
             1,
             "#f0f921"
            ]
           ],
           "sequentialminus": [
            [
             0,
             "#0d0887"
            ],
            [
             0.1111111111111111,
             "#46039f"
            ],
            [
             0.2222222222222222,
             "#7201a8"
            ],
            [
             0.3333333333333333,
             "#9c179e"
            ],
            [
             0.4444444444444444,
             "#bd3786"
            ],
            [
             0.5555555555555556,
             "#d8576b"
            ],
            [
             0.6666666666666666,
             "#ed7953"
            ],
            [
             0.7777777777777778,
             "#fb9f3a"
            ],
            [
             0.8888888888888888,
             "#fdca26"
            ],
            [
             1,
             "#f0f921"
            ]
           ]
          },
          "colorway": [
           "#636efa",
           "#EF553B",
           "#00cc96",
           "#ab63fa",
           "#FFA15A",
           "#19d3f3",
           "#FF6692",
           "#B6E880",
           "#FF97FF",
           "#FECB52"
          ],
          "font": {
           "color": "#2a3f5f"
          },
          "geo": {
           "bgcolor": "white",
           "lakecolor": "white",
           "landcolor": "#E5ECF6",
           "showlakes": true,
           "showland": true,
           "subunitcolor": "white"
          },
          "hoverlabel": {
           "align": "left"
          },
          "hovermode": "closest",
          "mapbox": {
           "style": "light"
          },
          "paper_bgcolor": "white",
          "plot_bgcolor": "#E5ECF6",
          "polar": {
           "angularaxis": {
            "gridcolor": "white",
            "linecolor": "white",
            "ticks": ""
           },
           "bgcolor": "#E5ECF6",
           "radialaxis": {
            "gridcolor": "white",
            "linecolor": "white",
            "ticks": ""
           }
          },
          "scene": {
           "xaxis": {
            "backgroundcolor": "#E5ECF6",
            "gridcolor": "white",
            "gridwidth": 2,
            "linecolor": "white",
            "showbackground": true,
            "ticks": "",
            "zerolinecolor": "white"
           },
           "yaxis": {
            "backgroundcolor": "#E5ECF6",
            "gridcolor": "white",
            "gridwidth": 2,
            "linecolor": "white",
            "showbackground": true,
            "ticks": "",
            "zerolinecolor": "white"
           },
           "zaxis": {
            "backgroundcolor": "#E5ECF6",
            "gridcolor": "white",
            "gridwidth": 2,
            "linecolor": "white",
            "showbackground": true,
            "ticks": "",
            "zerolinecolor": "white"
           }
          },
          "shapedefaults": {
           "line": {
            "color": "#2a3f5f"
           }
          },
          "ternary": {
           "aaxis": {
            "gridcolor": "white",
            "linecolor": "white",
            "ticks": ""
           },
           "baxis": {
            "gridcolor": "white",
            "linecolor": "white",
            "ticks": ""
           },
           "bgcolor": "#E5ECF6",
           "caxis": {
            "gridcolor": "white",
            "linecolor": "white",
            "ticks": ""
           }
          },
          "title": {
           "x": 0.05
          },
          "xaxis": {
           "automargin": true,
           "gridcolor": "white",
           "linecolor": "white",
           "ticks": "",
           "title": {
            "standoff": 15
           },
           "zerolinecolor": "white",
           "zerolinewidth": 2
          },
          "yaxis": {
           "automargin": true,
           "gridcolor": "white",
           "linecolor": "white",
           "ticks": "",
           "title": {
            "standoff": 15
           },
           "zerolinecolor": "white",
           "zerolinewidth": 2
          }
         }
        },
        "xaxis": {
         "anchor": "y",
         "constrain": "domain",
         "domain": [
          0,
          1
         ],
         "scaleanchor": "y"
        },
        "yaxis": {
         "anchor": "x",
         "autorange": "reversed",
         "constrain": "domain",
         "domain": [
          0,
          1
         ]
        }
       }
      },
      "text/html": [
       "<div>                            <div id=\"3fcf758c-bda8-4cbd-a5ba-eff5b228fbae\" class=\"plotly-graph-div\" style=\"height:525px; width:100%;\"></div>            <script type=\"text/javascript\">                require([\"plotly\"], function(Plotly) {                    window.PLOTLYENV=window.PLOTLYENV || {};                                    if (document.getElementById(\"3fcf758c-bda8-4cbd-a5ba-eff5b228fbae\")) {                    Plotly.newPlot(                        \"3fcf758c-bda8-4cbd-a5ba-eff5b228fbae\",                        [{\"coloraxis\":\"coloraxis\",\"name\":\"0\",\"z\":[[1.0,0.0,0.0,0.0,0.0,0.0,0.0,0.0,0.0,0.0,0.0,0.0],[0.00016481474449392408,0.9998350739479065,0.0,0.0,0.0,0.0,0.0,0.0,0.0,0.0,0.0,0.0],[0.0002970983914565295,0.04537319391965866,0.9543296098709106,0.0,0.0,0.0,0.0,0.0,0.0,0.0,0.0,0.0],[0.00023503410920966417,0.05086452141404152,0.5846978425979614,0.3642025589942932,0.0,0.0,0.0,0.0,0.0,0.0,0.0,0.0],[0.0013863968197256327,0.07847750931978226,0.337739497423172,0.21369144320487976,0.36870524287223816,0.0,0.0,0.0,0.0,0.0,0.0,0.0],[0.0008315812447108328,0.03985327482223511,0.17896388471126556,0.07392000406980515,0.2614457905292511,0.44498541951179504,0.0,0.0,0.0,0.0,0.0,0.0],[2.4184728317777626e-05,0.020107997581362724,0.025456594303250313,0.029377693310379982,0.03817341849207878,0.14914409816265106,0.7377160787582397,0.0,0.0,0.0,0.0,0.0],[0.0006109038949944079,0.04010159149765968,0.14180529117584229,0.09167277067899704,0.06982075423002243,0.13534532487392426,0.1368422508239746,0.38380101323127747,0.0,0.0,0.0,0.0],[0.0006893245154060423,0.01614997535943985,0.08860743045806885,0.22156524658203125,0.039737850427627563,0.08126302063465118,0.191788449883461,0.16033343970775604,0.19986526668071747,0.0,0.0,0.0],[0.0003757653757929802,0.010857109911739826,0.18927010893821716,0.0472288616001606,0.0048072803765535355,0.026132864877581596,0.07989466935396194,0.08613160252571106,0.02375626005232334,0.5315454602241516,0.0,0.0],[0.0001587724545970559,0.004529513884335756,0.13425205647945404,0.0375889390707016,0.03678702190518379,0.06598015874624252,0.028121989220380783,0.13829727470874786,0.039536722004413605,0.37986522912979126,0.13488233089447021,0.0],[0.0004526193661149591,0.03091457672417164,0.09139104932546616,0.0844358578324318,0.014138885773718357,0.05857250094413757,0.23451459407806396,0.05897284299135208,0.11724898964166641,0.22082749009132385,0.023034583777189255,0.0654960349202156]],\"type\":\"heatmap\",\"xaxis\":\"x\",\"yaxis\":\"y\",\"hovertemplate\":\"x: %{x}<br>y: %{y}<br>color: %{z}<extra></extra>\"}],                        {\"template\":{\"data\":{\"histogram2dcontour\":[{\"type\":\"histogram2dcontour\",\"colorbar\":{\"outlinewidth\":0,\"ticks\":\"\"},\"colorscale\":[[0.0,\"#0d0887\"],[0.1111111111111111,\"#46039f\"],[0.2222222222222222,\"#7201a8\"],[0.3333333333333333,\"#9c179e\"],[0.4444444444444444,\"#bd3786\"],[0.5555555555555556,\"#d8576b\"],[0.6666666666666666,\"#ed7953\"],[0.7777777777777778,\"#fb9f3a\"],[0.8888888888888888,\"#fdca26\"],[1.0,\"#f0f921\"]]}],\"choropleth\":[{\"type\":\"choropleth\",\"colorbar\":{\"outlinewidth\":0,\"ticks\":\"\"}}],\"histogram2d\":[{\"type\":\"histogram2d\",\"colorbar\":{\"outlinewidth\":0,\"ticks\":\"\"},\"colorscale\":[[0.0,\"#0d0887\"],[0.1111111111111111,\"#46039f\"],[0.2222222222222222,\"#7201a8\"],[0.3333333333333333,\"#9c179e\"],[0.4444444444444444,\"#bd3786\"],[0.5555555555555556,\"#d8576b\"],[0.6666666666666666,\"#ed7953\"],[0.7777777777777778,\"#fb9f3a\"],[0.8888888888888888,\"#fdca26\"],[1.0,\"#f0f921\"]]}],\"heatmap\":[{\"type\":\"heatmap\",\"colorbar\":{\"outlinewidth\":0,\"ticks\":\"\"},\"colorscale\":[[0.0,\"#0d0887\"],[0.1111111111111111,\"#46039f\"],[0.2222222222222222,\"#7201a8\"],[0.3333333333333333,\"#9c179e\"],[0.4444444444444444,\"#bd3786\"],[0.5555555555555556,\"#d8576b\"],[0.6666666666666666,\"#ed7953\"],[0.7777777777777778,\"#fb9f3a\"],[0.8888888888888888,\"#fdca26\"],[1.0,\"#f0f921\"]]}],\"heatmapgl\":[{\"type\":\"heatmapgl\",\"colorbar\":{\"outlinewidth\":0,\"ticks\":\"\"},\"colorscale\":[[0.0,\"#0d0887\"],[0.1111111111111111,\"#46039f\"],[0.2222222222222222,\"#7201a8\"],[0.3333333333333333,\"#9c179e\"],[0.4444444444444444,\"#bd3786\"],[0.5555555555555556,\"#d8576b\"],[0.6666666666666666,\"#ed7953\"],[0.7777777777777778,\"#fb9f3a\"],[0.8888888888888888,\"#fdca26\"],[1.0,\"#f0f921\"]]}],\"contourcarpet\":[{\"type\":\"contourcarpet\",\"colorbar\":{\"outlinewidth\":0,\"ticks\":\"\"}}],\"contour\":[{\"type\":\"contour\",\"colorbar\":{\"outlinewidth\":0,\"ticks\":\"\"},\"colorscale\":[[0.0,\"#0d0887\"],[0.1111111111111111,\"#46039f\"],[0.2222222222222222,\"#7201a8\"],[0.3333333333333333,\"#9c179e\"],[0.4444444444444444,\"#bd3786\"],[0.5555555555555556,\"#d8576b\"],[0.6666666666666666,\"#ed7953\"],[0.7777777777777778,\"#fb9f3a\"],[0.8888888888888888,\"#fdca26\"],[1.0,\"#f0f921\"]]}],\"surface\":[{\"type\":\"surface\",\"colorbar\":{\"outlinewidth\":0,\"ticks\":\"\"},\"colorscale\":[[0.0,\"#0d0887\"],[0.1111111111111111,\"#46039f\"],[0.2222222222222222,\"#7201a8\"],[0.3333333333333333,\"#9c179e\"],[0.4444444444444444,\"#bd3786\"],[0.5555555555555556,\"#d8576b\"],[0.6666666666666666,\"#ed7953\"],[0.7777777777777778,\"#fb9f3a\"],[0.8888888888888888,\"#fdca26\"],[1.0,\"#f0f921\"]]}],\"mesh3d\":[{\"type\":\"mesh3d\",\"colorbar\":{\"outlinewidth\":0,\"ticks\":\"\"}}],\"scatter\":[{\"fillpattern\":{\"fillmode\":\"overlay\",\"size\":10,\"solidity\":0.2},\"type\":\"scatter\"}],\"parcoords\":[{\"type\":\"parcoords\",\"line\":{\"colorbar\":{\"outlinewidth\":0,\"ticks\":\"\"}}}],\"scatterpolargl\":[{\"type\":\"scatterpolargl\",\"marker\":{\"colorbar\":{\"outlinewidth\":0,\"ticks\":\"\"}}}],\"bar\":[{\"error_x\":{\"color\":\"#2a3f5f\"},\"error_y\":{\"color\":\"#2a3f5f\"},\"marker\":{\"line\":{\"color\":\"#E5ECF6\",\"width\":0.5},\"pattern\":{\"fillmode\":\"overlay\",\"size\":10,\"solidity\":0.2}},\"type\":\"bar\"}],\"scattergeo\":[{\"type\":\"scattergeo\",\"marker\":{\"colorbar\":{\"outlinewidth\":0,\"ticks\":\"\"}}}],\"scatterpolar\":[{\"type\":\"scatterpolar\",\"marker\":{\"colorbar\":{\"outlinewidth\":0,\"ticks\":\"\"}}}],\"histogram\":[{\"marker\":{\"pattern\":{\"fillmode\":\"overlay\",\"size\":10,\"solidity\":0.2}},\"type\":\"histogram\"}],\"scattergl\":[{\"type\":\"scattergl\",\"marker\":{\"colorbar\":{\"outlinewidth\":0,\"ticks\":\"\"}}}],\"scatter3d\":[{\"type\":\"scatter3d\",\"line\":{\"colorbar\":{\"outlinewidth\":0,\"ticks\":\"\"}},\"marker\":{\"colorbar\":{\"outlinewidth\":0,\"ticks\":\"\"}}}],\"scattermapbox\":[{\"type\":\"scattermapbox\",\"marker\":{\"colorbar\":{\"outlinewidth\":0,\"ticks\":\"\"}}}],\"scatterternary\":[{\"type\":\"scatterternary\",\"marker\":{\"colorbar\":{\"outlinewidth\":0,\"ticks\":\"\"}}}],\"scattercarpet\":[{\"type\":\"scattercarpet\",\"marker\":{\"colorbar\":{\"outlinewidth\":0,\"ticks\":\"\"}}}],\"carpet\":[{\"aaxis\":{\"endlinecolor\":\"#2a3f5f\",\"gridcolor\":\"white\",\"linecolor\":\"white\",\"minorgridcolor\":\"white\",\"startlinecolor\":\"#2a3f5f\"},\"baxis\":{\"endlinecolor\":\"#2a3f5f\",\"gridcolor\":\"white\",\"linecolor\":\"white\",\"minorgridcolor\":\"white\",\"startlinecolor\":\"#2a3f5f\"},\"type\":\"carpet\"}],\"table\":[{\"cells\":{\"fill\":{\"color\":\"#EBF0F8\"},\"line\":{\"color\":\"white\"}},\"header\":{\"fill\":{\"color\":\"#C8D4E3\"},\"line\":{\"color\":\"white\"}},\"type\":\"table\"}],\"barpolar\":[{\"marker\":{\"line\":{\"color\":\"#E5ECF6\",\"width\":0.5},\"pattern\":{\"fillmode\":\"overlay\",\"size\":10,\"solidity\":0.2}},\"type\":\"barpolar\"}],\"pie\":[{\"automargin\":true,\"type\":\"pie\"}]},\"layout\":{\"autotypenumbers\":\"strict\",\"colorway\":[\"#636efa\",\"#EF553B\",\"#00cc96\",\"#ab63fa\",\"#FFA15A\",\"#19d3f3\",\"#FF6692\",\"#B6E880\",\"#FF97FF\",\"#FECB52\"],\"font\":{\"color\":\"#2a3f5f\"},\"hovermode\":\"closest\",\"hoverlabel\":{\"align\":\"left\"},\"paper_bgcolor\":\"white\",\"plot_bgcolor\":\"#E5ECF6\",\"polar\":{\"bgcolor\":\"#E5ECF6\",\"angularaxis\":{\"gridcolor\":\"white\",\"linecolor\":\"white\",\"ticks\":\"\"},\"radialaxis\":{\"gridcolor\":\"white\",\"linecolor\":\"white\",\"ticks\":\"\"}},\"ternary\":{\"bgcolor\":\"#E5ECF6\",\"aaxis\":{\"gridcolor\":\"white\",\"linecolor\":\"white\",\"ticks\":\"\"},\"baxis\":{\"gridcolor\":\"white\",\"linecolor\":\"white\",\"ticks\":\"\"},\"caxis\":{\"gridcolor\":\"white\",\"linecolor\":\"white\",\"ticks\":\"\"}},\"coloraxis\":{\"colorbar\":{\"outlinewidth\":0,\"ticks\":\"\"}},\"colorscale\":{\"sequential\":[[0.0,\"#0d0887\"],[0.1111111111111111,\"#46039f\"],[0.2222222222222222,\"#7201a8\"],[0.3333333333333333,\"#9c179e\"],[0.4444444444444444,\"#bd3786\"],[0.5555555555555556,\"#d8576b\"],[0.6666666666666666,\"#ed7953\"],[0.7777777777777778,\"#fb9f3a\"],[0.8888888888888888,\"#fdca26\"],[1.0,\"#f0f921\"]],\"sequentialminus\":[[0.0,\"#0d0887\"],[0.1111111111111111,\"#46039f\"],[0.2222222222222222,\"#7201a8\"],[0.3333333333333333,\"#9c179e\"],[0.4444444444444444,\"#bd3786\"],[0.5555555555555556,\"#d8576b\"],[0.6666666666666666,\"#ed7953\"],[0.7777777777777778,\"#fb9f3a\"],[0.8888888888888888,\"#fdca26\"],[1.0,\"#f0f921\"]],\"diverging\":[[0,\"#8e0152\"],[0.1,\"#c51b7d\"],[0.2,\"#de77ae\"],[0.3,\"#f1b6da\"],[0.4,\"#fde0ef\"],[0.5,\"#f7f7f7\"],[0.6,\"#e6f5d0\"],[0.7,\"#b8e186\"],[0.8,\"#7fbc41\"],[0.9,\"#4d9221\"],[1,\"#276419\"]]},\"xaxis\":{\"gridcolor\":\"white\",\"linecolor\":\"white\",\"ticks\":\"\",\"title\":{\"standoff\":15},\"zerolinecolor\":\"white\",\"automargin\":true,\"zerolinewidth\":2},\"yaxis\":{\"gridcolor\":\"white\",\"linecolor\":\"white\",\"ticks\":\"\",\"title\":{\"standoff\":15},\"zerolinecolor\":\"white\",\"automargin\":true,\"zerolinewidth\":2},\"scene\":{\"xaxis\":{\"backgroundcolor\":\"#E5ECF6\",\"gridcolor\":\"white\",\"linecolor\":\"white\",\"showbackground\":true,\"ticks\":\"\",\"zerolinecolor\":\"white\",\"gridwidth\":2},\"yaxis\":{\"backgroundcolor\":\"#E5ECF6\",\"gridcolor\":\"white\",\"linecolor\":\"white\",\"showbackground\":true,\"ticks\":\"\",\"zerolinecolor\":\"white\",\"gridwidth\":2},\"zaxis\":{\"backgroundcolor\":\"#E5ECF6\",\"gridcolor\":\"white\",\"linecolor\":\"white\",\"showbackground\":true,\"ticks\":\"\",\"zerolinecolor\":\"white\",\"gridwidth\":2}},\"shapedefaults\":{\"line\":{\"color\":\"#2a3f5f\"}},\"annotationdefaults\":{\"arrowcolor\":\"#2a3f5f\",\"arrowhead\":0,\"arrowwidth\":1},\"geo\":{\"bgcolor\":\"white\",\"landcolor\":\"#E5ECF6\",\"subunitcolor\":\"white\",\"showland\":true,\"showlakes\":true,\"lakecolor\":\"white\"},\"title\":{\"x\":0.05},\"mapbox\":{\"style\":\"light\"}}},\"xaxis\":{\"anchor\":\"y\",\"domain\":[0.0,1.0],\"scaleanchor\":\"y\",\"constrain\":\"domain\"},\"yaxis\":{\"anchor\":\"x\",\"domain\":[0.0,1.0],\"autorange\":\"reversed\",\"constrain\":\"domain\"},\"coloraxis\":{\"colorscale\":[[0.0,\"#0d0887\"],[0.1111111111111111,\"#46039f\"],[0.2222222222222222,\"#7201a8\"],[0.3333333333333333,\"#9c179e\"],[0.4444444444444444,\"#bd3786\"],[0.5555555555555556,\"#d8576b\"],[0.6666666666666666,\"#ed7953\"],[0.7777777777777778,\"#fb9f3a\"],[0.8888888888888888,\"#fdca26\"],[1.0,\"#f0f921\"]]},\"margin\":{\"t\":60}},                        {\"responsive\": true}                    ).then(function(){\n",
       "                            \n",
       "var gd = document.getElementById('3fcf758c-bda8-4cbd-a5ba-eff5b228fbae');\n",
       "var x = new MutationObserver(function (mutations, observer) {{\n",
       "        var display = window.getComputedStyle(gd).display;\n",
       "        if (!display || display === 'none') {{\n",
       "            console.log([gd, 'removed!']);\n",
       "            Plotly.purge(gd);\n",
       "            observer.disconnect();\n",
       "        }}\n",
       "}});\n",
       "\n",
       "// Listen for the removal of the full notebook cells\n",
       "var notebookContainer = gd.closest('#notebook-container');\n",
       "if (notebookContainer) {{\n",
       "    x.observe(notebookContainer, {childList: true});\n",
       "}}\n",
       "\n",
       "// Listen for the clearing of the current output cell\n",
       "var outputEl = gd.closest('.output');\n",
       "if (outputEl) {{\n",
       "    x.observe(outputEl, {childList: true});\n",
       "}}\n",
       "\n",
       "                        })                };                });            </script>        </div>"
      ]
     },
     "metadata": {},
     "output_type": "display_data"
    }
   ],
   "source": [
    "px.imshow(cache[utils.get_act_name(\"pattern\", 46)][:, 9].mean(axis = 0))"
   ]
  },
  {
   "cell_type": "code",
   "execution_count": 39,
   "metadata": {},
   "outputs": [
    {
     "data": {
      "text/plain": [
       "dict_keys(['hook_embed', 'hook_pos_embed', 'blocks.0.hook_resid_pre', 'blocks.0.ln1.hook_scale', 'blocks.0.ln1.hook_normalized', 'blocks.0.attn.hook_q', 'blocks.0.attn.hook_k', 'blocks.0.attn.hook_v', 'blocks.0.attn.hook_attn_scores', 'blocks.0.attn.hook_pattern', 'blocks.0.attn.hook_z', 'blocks.0.attn.hook_result', 'blocks.0.hook_attn_out', 'blocks.0.hook_resid_mid', 'blocks.0.ln2.hook_scale', 'blocks.0.ln2.hook_normalized', 'blocks.0.mlp.hook_pre', 'blocks.0.mlp.hook_post', 'blocks.0.hook_mlp_out', 'blocks.0.hook_resid_post', 'blocks.1.hook_resid_pre', 'blocks.1.ln1.hook_scale', 'blocks.1.ln1.hook_normalized', 'blocks.1.attn.hook_q', 'blocks.1.attn.hook_k', 'blocks.1.attn.hook_v', 'blocks.1.attn.hook_attn_scores', 'blocks.1.attn.hook_pattern', 'blocks.1.attn.hook_z', 'blocks.1.attn.hook_result', 'blocks.1.hook_attn_out', 'blocks.1.hook_resid_mid', 'blocks.1.ln2.hook_scale', 'blocks.1.ln2.hook_normalized', 'blocks.1.mlp.hook_pre', 'blocks.1.mlp.hook_post', 'blocks.1.hook_mlp_out', 'blocks.1.hook_resid_post', 'blocks.2.hook_resid_pre', 'blocks.2.ln1.hook_scale', 'blocks.2.ln1.hook_normalized', 'blocks.2.attn.hook_q', 'blocks.2.attn.hook_k', 'blocks.2.attn.hook_v', 'blocks.2.attn.hook_attn_scores', 'blocks.2.attn.hook_pattern', 'blocks.2.attn.hook_z', 'blocks.2.attn.hook_result', 'blocks.2.hook_attn_out', 'blocks.2.hook_resid_mid', 'blocks.2.ln2.hook_scale', 'blocks.2.ln2.hook_normalized', 'blocks.2.mlp.hook_pre', 'blocks.2.mlp.hook_post', 'blocks.2.hook_mlp_out', 'blocks.2.hook_resid_post', 'blocks.3.hook_resid_pre', 'blocks.3.ln1.hook_scale', 'blocks.3.ln1.hook_normalized', 'blocks.3.attn.hook_q', 'blocks.3.attn.hook_k', 'blocks.3.attn.hook_v', 'blocks.3.attn.hook_attn_scores', 'blocks.3.attn.hook_pattern', 'blocks.3.attn.hook_z', 'blocks.3.attn.hook_result', 'blocks.3.hook_attn_out', 'blocks.3.hook_resid_mid', 'blocks.3.ln2.hook_scale', 'blocks.3.ln2.hook_normalized', 'blocks.3.mlp.hook_pre', 'blocks.3.mlp.hook_post', 'blocks.3.hook_mlp_out', 'blocks.3.hook_resid_post', 'blocks.4.hook_resid_pre', 'blocks.4.ln1.hook_scale', 'blocks.4.ln1.hook_normalized', 'blocks.4.attn.hook_q', 'blocks.4.attn.hook_k', 'blocks.4.attn.hook_v', 'blocks.4.attn.hook_attn_scores', 'blocks.4.attn.hook_pattern', 'blocks.4.attn.hook_z', 'blocks.4.attn.hook_result', 'blocks.4.hook_attn_out', 'blocks.4.hook_resid_mid', 'blocks.4.ln2.hook_scale', 'blocks.4.ln2.hook_normalized', 'blocks.4.mlp.hook_pre', 'blocks.4.mlp.hook_post', 'blocks.4.hook_mlp_out', 'blocks.4.hook_resid_post', 'blocks.5.hook_resid_pre', 'blocks.5.ln1.hook_scale', 'blocks.5.ln1.hook_normalized', 'blocks.5.attn.hook_q', 'blocks.5.attn.hook_k', 'blocks.5.attn.hook_v', 'blocks.5.attn.hook_attn_scores', 'blocks.5.attn.hook_pattern', 'blocks.5.attn.hook_z', 'blocks.5.attn.hook_result', 'blocks.5.hook_attn_out', 'blocks.5.hook_resid_mid', 'blocks.5.ln2.hook_scale', 'blocks.5.ln2.hook_normalized', 'blocks.5.mlp.hook_pre', 'blocks.5.mlp.hook_post', 'blocks.5.hook_mlp_out', 'blocks.5.hook_resid_post', 'blocks.6.hook_resid_pre', 'blocks.6.ln1.hook_scale', 'blocks.6.ln1.hook_normalized', 'blocks.6.attn.hook_q', 'blocks.6.attn.hook_k', 'blocks.6.attn.hook_v', 'blocks.6.attn.hook_attn_scores', 'blocks.6.attn.hook_pattern', 'blocks.6.attn.hook_z', 'blocks.6.attn.hook_result', 'blocks.6.hook_attn_out', 'blocks.6.hook_resid_mid', 'blocks.6.ln2.hook_scale', 'blocks.6.ln2.hook_normalized', 'blocks.6.mlp.hook_pre', 'blocks.6.mlp.hook_post', 'blocks.6.hook_mlp_out', 'blocks.6.hook_resid_post', 'blocks.7.hook_resid_pre', 'blocks.7.ln1.hook_scale', 'blocks.7.ln1.hook_normalized', 'blocks.7.attn.hook_q', 'blocks.7.attn.hook_k', 'blocks.7.attn.hook_v', 'blocks.7.attn.hook_attn_scores', 'blocks.7.attn.hook_pattern', 'blocks.7.attn.hook_z', 'blocks.7.attn.hook_result', 'blocks.7.hook_attn_out', 'blocks.7.hook_resid_mid', 'blocks.7.ln2.hook_scale', 'blocks.7.ln2.hook_normalized', 'blocks.7.mlp.hook_pre', 'blocks.7.mlp.hook_post', 'blocks.7.hook_mlp_out', 'blocks.7.hook_resid_post', 'blocks.8.hook_resid_pre', 'blocks.8.ln1.hook_scale', 'blocks.8.ln1.hook_normalized', 'blocks.8.attn.hook_q', 'blocks.8.attn.hook_k', 'blocks.8.attn.hook_v', 'blocks.8.attn.hook_attn_scores', 'blocks.8.attn.hook_pattern', 'blocks.8.attn.hook_z', 'blocks.8.attn.hook_result', 'blocks.8.hook_attn_out', 'blocks.8.hook_resid_mid', 'blocks.8.ln2.hook_scale', 'blocks.8.ln2.hook_normalized', 'blocks.8.mlp.hook_pre', 'blocks.8.mlp.hook_post', 'blocks.8.hook_mlp_out', 'blocks.8.hook_resid_post', 'blocks.9.hook_resid_pre', 'blocks.9.ln1.hook_scale', 'blocks.9.ln1.hook_normalized', 'blocks.9.attn.hook_q', 'blocks.9.attn.hook_k', 'blocks.9.attn.hook_v', 'blocks.9.attn.hook_attn_scores', 'blocks.9.attn.hook_pattern', 'blocks.9.attn.hook_z', 'blocks.9.attn.hook_result', 'blocks.9.hook_attn_out', 'blocks.9.hook_resid_mid', 'blocks.9.ln2.hook_scale', 'blocks.9.ln2.hook_normalized', 'blocks.9.mlp.hook_pre', 'blocks.9.mlp.hook_post', 'blocks.9.hook_mlp_out', 'blocks.9.hook_resid_post', 'blocks.10.hook_resid_pre', 'blocks.10.ln1.hook_scale', 'blocks.10.ln1.hook_normalized', 'blocks.10.attn.hook_q', 'blocks.10.attn.hook_k', 'blocks.10.attn.hook_v', 'blocks.10.attn.hook_attn_scores', 'blocks.10.attn.hook_pattern', 'blocks.10.attn.hook_z', 'blocks.10.attn.hook_result', 'blocks.10.hook_attn_out', 'blocks.10.hook_resid_mid', 'blocks.10.ln2.hook_scale', 'blocks.10.ln2.hook_normalized', 'blocks.10.mlp.hook_pre', 'blocks.10.mlp.hook_post', 'blocks.10.hook_mlp_out', 'blocks.10.hook_resid_post', 'blocks.11.hook_resid_pre', 'blocks.11.ln1.hook_scale', 'blocks.11.ln1.hook_normalized', 'blocks.11.attn.hook_q', 'blocks.11.attn.hook_k', 'blocks.11.attn.hook_v', 'blocks.11.attn.hook_attn_scores', 'blocks.11.attn.hook_pattern', 'blocks.11.attn.hook_z', 'blocks.11.attn.hook_result', 'blocks.11.hook_attn_out', 'blocks.11.hook_resid_mid', 'blocks.11.ln2.hook_scale', 'blocks.11.ln2.hook_normalized', 'blocks.11.mlp.hook_pre', 'blocks.11.mlp.hook_post', 'blocks.11.hook_mlp_out', 'blocks.11.hook_resid_post', 'blocks.12.hook_resid_pre', 'blocks.12.ln1.hook_scale', 'blocks.12.ln1.hook_normalized', 'blocks.12.attn.hook_q', 'blocks.12.attn.hook_k', 'blocks.12.attn.hook_v', 'blocks.12.attn.hook_attn_scores', 'blocks.12.attn.hook_pattern', 'blocks.12.attn.hook_z', 'blocks.12.attn.hook_result', 'blocks.12.hook_attn_out', 'blocks.12.hook_resid_mid', 'blocks.12.ln2.hook_scale', 'blocks.12.ln2.hook_normalized', 'blocks.12.mlp.hook_pre', 'blocks.12.mlp.hook_post', 'blocks.12.hook_mlp_out', 'blocks.12.hook_resid_post', 'blocks.13.hook_resid_pre', 'blocks.13.ln1.hook_scale', 'blocks.13.ln1.hook_normalized', 'blocks.13.attn.hook_q', 'blocks.13.attn.hook_k', 'blocks.13.attn.hook_v', 'blocks.13.attn.hook_attn_scores', 'blocks.13.attn.hook_pattern', 'blocks.13.attn.hook_z', 'blocks.13.attn.hook_result', 'blocks.13.hook_attn_out', 'blocks.13.hook_resid_mid', 'blocks.13.ln2.hook_scale', 'blocks.13.ln2.hook_normalized', 'blocks.13.mlp.hook_pre', 'blocks.13.mlp.hook_post', 'blocks.13.hook_mlp_out', 'blocks.13.hook_resid_post', 'blocks.14.hook_resid_pre', 'blocks.14.ln1.hook_scale', 'blocks.14.ln1.hook_normalized', 'blocks.14.attn.hook_q', 'blocks.14.attn.hook_k', 'blocks.14.attn.hook_v', 'blocks.14.attn.hook_attn_scores', 'blocks.14.attn.hook_pattern', 'blocks.14.attn.hook_z', 'blocks.14.attn.hook_result', 'blocks.14.hook_attn_out', 'blocks.14.hook_resid_mid', 'blocks.14.ln2.hook_scale', 'blocks.14.ln2.hook_normalized', 'blocks.14.mlp.hook_pre', 'blocks.14.mlp.hook_post', 'blocks.14.hook_mlp_out', 'blocks.14.hook_resid_post', 'blocks.15.hook_resid_pre', 'blocks.15.ln1.hook_scale', 'blocks.15.ln1.hook_normalized', 'blocks.15.attn.hook_q', 'blocks.15.attn.hook_k', 'blocks.15.attn.hook_v', 'blocks.15.attn.hook_attn_scores', 'blocks.15.attn.hook_pattern', 'blocks.15.attn.hook_z', 'blocks.15.attn.hook_result', 'blocks.15.hook_attn_out', 'blocks.15.hook_resid_mid', 'blocks.15.ln2.hook_scale', 'blocks.15.ln2.hook_normalized', 'blocks.15.mlp.hook_pre', 'blocks.15.mlp.hook_post', 'blocks.15.hook_mlp_out', 'blocks.15.hook_resid_post', 'blocks.16.hook_resid_pre', 'blocks.16.ln1.hook_scale', 'blocks.16.ln1.hook_normalized', 'blocks.16.attn.hook_q', 'blocks.16.attn.hook_k', 'blocks.16.attn.hook_v', 'blocks.16.attn.hook_attn_scores', 'blocks.16.attn.hook_pattern', 'blocks.16.attn.hook_z', 'blocks.16.attn.hook_result', 'blocks.16.hook_attn_out', 'blocks.16.hook_resid_mid', 'blocks.16.ln2.hook_scale', 'blocks.16.ln2.hook_normalized', 'blocks.16.mlp.hook_pre', 'blocks.16.mlp.hook_post', 'blocks.16.hook_mlp_out', 'blocks.16.hook_resid_post', 'blocks.17.hook_resid_pre', 'blocks.17.ln1.hook_scale', 'blocks.17.ln1.hook_normalized', 'blocks.17.attn.hook_q', 'blocks.17.attn.hook_k', 'blocks.17.attn.hook_v', 'blocks.17.attn.hook_attn_scores', 'blocks.17.attn.hook_pattern', 'blocks.17.attn.hook_z', 'blocks.17.attn.hook_result', 'blocks.17.hook_attn_out', 'blocks.17.hook_resid_mid', 'blocks.17.ln2.hook_scale', 'blocks.17.ln2.hook_normalized', 'blocks.17.mlp.hook_pre', 'blocks.17.mlp.hook_post', 'blocks.17.hook_mlp_out', 'blocks.17.hook_resid_post', 'blocks.18.hook_resid_pre', 'blocks.18.ln1.hook_scale', 'blocks.18.ln1.hook_normalized', 'blocks.18.attn.hook_q', 'blocks.18.attn.hook_k', 'blocks.18.attn.hook_v', 'blocks.18.attn.hook_attn_scores', 'blocks.18.attn.hook_pattern', 'blocks.18.attn.hook_z', 'blocks.18.attn.hook_result', 'blocks.18.hook_attn_out', 'blocks.18.hook_resid_mid', 'blocks.18.ln2.hook_scale', 'blocks.18.ln2.hook_normalized', 'blocks.18.mlp.hook_pre', 'blocks.18.mlp.hook_post', 'blocks.18.hook_mlp_out', 'blocks.18.hook_resid_post', 'blocks.19.hook_resid_pre', 'blocks.19.ln1.hook_scale', 'blocks.19.ln1.hook_normalized', 'blocks.19.attn.hook_q', 'blocks.19.attn.hook_k', 'blocks.19.attn.hook_v', 'blocks.19.attn.hook_attn_scores', 'blocks.19.attn.hook_pattern', 'blocks.19.attn.hook_z', 'blocks.19.attn.hook_result', 'blocks.19.hook_attn_out', 'blocks.19.hook_resid_mid', 'blocks.19.ln2.hook_scale', 'blocks.19.ln2.hook_normalized', 'blocks.19.mlp.hook_pre', 'blocks.19.mlp.hook_post', 'blocks.19.hook_mlp_out', 'blocks.19.hook_resid_post', 'blocks.20.hook_resid_pre', 'blocks.20.ln1.hook_scale', 'blocks.20.ln1.hook_normalized', 'blocks.20.attn.hook_q', 'blocks.20.attn.hook_k', 'blocks.20.attn.hook_v', 'blocks.20.attn.hook_attn_scores', 'blocks.20.attn.hook_pattern', 'blocks.20.attn.hook_z', 'blocks.20.attn.hook_result', 'blocks.20.hook_attn_out', 'blocks.20.hook_resid_mid', 'blocks.20.ln2.hook_scale', 'blocks.20.ln2.hook_normalized', 'blocks.20.mlp.hook_pre', 'blocks.20.mlp.hook_post', 'blocks.20.hook_mlp_out', 'blocks.20.hook_resid_post', 'blocks.21.hook_resid_pre', 'blocks.21.ln1.hook_scale', 'blocks.21.ln1.hook_normalized', 'blocks.21.attn.hook_q', 'blocks.21.attn.hook_k', 'blocks.21.attn.hook_v', 'blocks.21.attn.hook_attn_scores', 'blocks.21.attn.hook_pattern', 'blocks.21.attn.hook_z', 'blocks.21.attn.hook_result', 'blocks.21.hook_attn_out', 'blocks.21.hook_resid_mid', 'blocks.21.ln2.hook_scale', 'blocks.21.ln2.hook_normalized', 'blocks.21.mlp.hook_pre', 'blocks.21.mlp.hook_post', 'blocks.21.hook_mlp_out', 'blocks.21.hook_resid_post', 'blocks.22.hook_resid_pre', 'blocks.22.ln1.hook_scale', 'blocks.22.ln1.hook_normalized', 'blocks.22.attn.hook_q', 'blocks.22.attn.hook_k', 'blocks.22.attn.hook_v', 'blocks.22.attn.hook_attn_scores', 'blocks.22.attn.hook_pattern', 'blocks.22.attn.hook_z', 'blocks.22.attn.hook_result', 'blocks.22.hook_attn_out', 'blocks.22.hook_resid_mid', 'blocks.22.ln2.hook_scale', 'blocks.22.ln2.hook_normalized', 'blocks.22.mlp.hook_pre', 'blocks.22.mlp.hook_post', 'blocks.22.hook_mlp_out', 'blocks.22.hook_resid_post', 'blocks.23.hook_resid_pre', 'blocks.23.ln1.hook_scale', 'blocks.23.ln1.hook_normalized', 'blocks.23.attn.hook_q', 'blocks.23.attn.hook_k', 'blocks.23.attn.hook_v', 'blocks.23.attn.hook_attn_scores', 'blocks.23.attn.hook_pattern', 'blocks.23.attn.hook_z', 'blocks.23.attn.hook_result', 'blocks.23.hook_attn_out', 'blocks.23.hook_resid_mid', 'blocks.23.ln2.hook_scale', 'blocks.23.ln2.hook_normalized', 'blocks.23.mlp.hook_pre', 'blocks.23.mlp.hook_post', 'blocks.23.hook_mlp_out', 'blocks.23.hook_resid_post', 'blocks.24.hook_resid_pre', 'blocks.24.ln1.hook_scale', 'blocks.24.ln1.hook_normalized', 'blocks.24.attn.hook_q', 'blocks.24.attn.hook_k', 'blocks.24.attn.hook_v', 'blocks.24.attn.hook_attn_scores', 'blocks.24.attn.hook_pattern', 'blocks.24.attn.hook_z', 'blocks.24.attn.hook_result', 'blocks.24.hook_attn_out', 'blocks.24.hook_resid_mid', 'blocks.24.ln2.hook_scale', 'blocks.24.ln2.hook_normalized', 'blocks.24.mlp.hook_pre', 'blocks.24.mlp.hook_post', 'blocks.24.hook_mlp_out', 'blocks.24.hook_resid_post', 'blocks.25.hook_resid_pre', 'blocks.25.ln1.hook_scale', 'blocks.25.ln1.hook_normalized', 'blocks.25.attn.hook_q', 'blocks.25.attn.hook_k', 'blocks.25.attn.hook_v', 'blocks.25.attn.hook_attn_scores', 'blocks.25.attn.hook_pattern', 'blocks.25.attn.hook_z', 'blocks.25.attn.hook_result', 'blocks.25.hook_attn_out', 'blocks.25.hook_resid_mid', 'blocks.25.ln2.hook_scale', 'blocks.25.ln2.hook_normalized', 'blocks.25.mlp.hook_pre', 'blocks.25.mlp.hook_post', 'blocks.25.hook_mlp_out', 'blocks.25.hook_resid_post', 'blocks.26.hook_resid_pre', 'blocks.26.ln1.hook_scale', 'blocks.26.ln1.hook_normalized', 'blocks.26.attn.hook_q', 'blocks.26.attn.hook_k', 'blocks.26.attn.hook_v', 'blocks.26.attn.hook_attn_scores', 'blocks.26.attn.hook_pattern', 'blocks.26.attn.hook_z', 'blocks.26.attn.hook_result', 'blocks.26.hook_attn_out', 'blocks.26.hook_resid_mid', 'blocks.26.ln2.hook_scale', 'blocks.26.ln2.hook_normalized', 'blocks.26.mlp.hook_pre', 'blocks.26.mlp.hook_post', 'blocks.26.hook_mlp_out', 'blocks.26.hook_resid_post', 'blocks.27.hook_resid_pre', 'blocks.27.ln1.hook_scale', 'blocks.27.ln1.hook_normalized', 'blocks.27.attn.hook_q', 'blocks.27.attn.hook_k', 'blocks.27.attn.hook_v', 'blocks.27.attn.hook_attn_scores', 'blocks.27.attn.hook_pattern', 'blocks.27.attn.hook_z', 'blocks.27.attn.hook_result', 'blocks.27.hook_attn_out', 'blocks.27.hook_resid_mid', 'blocks.27.ln2.hook_scale', 'blocks.27.ln2.hook_normalized', 'blocks.27.mlp.hook_pre', 'blocks.27.mlp.hook_post', 'blocks.27.hook_mlp_out', 'blocks.27.hook_resid_post', 'blocks.28.hook_resid_pre', 'blocks.28.ln1.hook_scale', 'blocks.28.ln1.hook_normalized', 'blocks.28.attn.hook_q', 'blocks.28.attn.hook_k', 'blocks.28.attn.hook_v', 'blocks.28.attn.hook_attn_scores', 'blocks.28.attn.hook_pattern', 'blocks.28.attn.hook_z', 'blocks.28.attn.hook_result', 'blocks.28.hook_attn_out', 'blocks.28.hook_resid_mid', 'blocks.28.ln2.hook_scale', 'blocks.28.ln2.hook_normalized', 'blocks.28.mlp.hook_pre', 'blocks.28.mlp.hook_post', 'blocks.28.hook_mlp_out', 'blocks.28.hook_resid_post', 'blocks.29.hook_resid_pre', 'blocks.29.ln1.hook_scale', 'blocks.29.ln1.hook_normalized', 'blocks.29.attn.hook_q', 'blocks.29.attn.hook_k', 'blocks.29.attn.hook_v', 'blocks.29.attn.hook_attn_scores', 'blocks.29.attn.hook_pattern', 'blocks.29.attn.hook_z', 'blocks.29.attn.hook_result', 'blocks.29.hook_attn_out', 'blocks.29.hook_resid_mid', 'blocks.29.ln2.hook_scale', 'blocks.29.ln2.hook_normalized', 'blocks.29.mlp.hook_pre', 'blocks.29.mlp.hook_post', 'blocks.29.hook_mlp_out', 'blocks.29.hook_resid_post', 'blocks.30.hook_resid_pre', 'blocks.30.ln1.hook_scale', 'blocks.30.ln1.hook_normalized', 'blocks.30.attn.hook_q', 'blocks.30.attn.hook_k', 'blocks.30.attn.hook_v', 'blocks.30.attn.hook_attn_scores', 'blocks.30.attn.hook_pattern', 'blocks.30.attn.hook_z', 'blocks.30.attn.hook_result', 'blocks.30.hook_attn_out', 'blocks.30.hook_resid_mid', 'blocks.30.ln2.hook_scale', 'blocks.30.ln2.hook_normalized', 'blocks.30.mlp.hook_pre', 'blocks.30.mlp.hook_post', 'blocks.30.hook_mlp_out', 'blocks.30.hook_resid_post', 'blocks.31.hook_resid_pre', 'blocks.31.ln1.hook_scale', 'blocks.31.ln1.hook_normalized', 'blocks.31.attn.hook_q', 'blocks.31.attn.hook_k', 'blocks.31.attn.hook_v', 'blocks.31.attn.hook_attn_scores', 'blocks.31.attn.hook_pattern', 'blocks.31.attn.hook_z', 'blocks.31.attn.hook_result', 'blocks.31.hook_attn_out', 'blocks.31.hook_resid_mid', 'blocks.31.ln2.hook_scale', 'blocks.31.ln2.hook_normalized', 'blocks.31.mlp.hook_pre', 'blocks.31.mlp.hook_post', 'blocks.31.hook_mlp_out', 'blocks.31.hook_resid_post', 'blocks.32.hook_resid_pre', 'blocks.32.ln1.hook_scale', 'blocks.32.ln1.hook_normalized', 'blocks.32.attn.hook_q', 'blocks.32.attn.hook_k', 'blocks.32.attn.hook_v', 'blocks.32.attn.hook_attn_scores', 'blocks.32.attn.hook_pattern', 'blocks.32.attn.hook_z', 'blocks.32.attn.hook_result', 'blocks.32.hook_attn_out', 'blocks.32.hook_resid_mid', 'blocks.32.ln2.hook_scale', 'blocks.32.ln2.hook_normalized', 'blocks.32.mlp.hook_pre', 'blocks.32.mlp.hook_post', 'blocks.32.hook_mlp_out', 'blocks.32.hook_resid_post', 'blocks.33.hook_resid_pre', 'blocks.33.ln1.hook_scale', 'blocks.33.ln1.hook_normalized', 'blocks.33.attn.hook_q', 'blocks.33.attn.hook_k', 'blocks.33.attn.hook_v', 'blocks.33.attn.hook_attn_scores', 'blocks.33.attn.hook_pattern', 'blocks.33.attn.hook_z', 'blocks.33.attn.hook_result', 'blocks.33.hook_attn_out', 'blocks.33.hook_resid_mid', 'blocks.33.ln2.hook_scale', 'blocks.33.ln2.hook_normalized', 'blocks.33.mlp.hook_pre', 'blocks.33.mlp.hook_post', 'blocks.33.hook_mlp_out', 'blocks.33.hook_resid_post', 'blocks.34.hook_resid_pre', 'blocks.34.ln1.hook_scale', 'blocks.34.ln1.hook_normalized', 'blocks.34.attn.hook_q', 'blocks.34.attn.hook_k', 'blocks.34.attn.hook_v', 'blocks.34.attn.hook_attn_scores', 'blocks.34.attn.hook_pattern', 'blocks.34.attn.hook_z', 'blocks.34.attn.hook_result', 'blocks.34.hook_attn_out', 'blocks.34.hook_resid_mid', 'blocks.34.ln2.hook_scale', 'blocks.34.ln2.hook_normalized', 'blocks.34.mlp.hook_pre', 'blocks.34.mlp.hook_post', 'blocks.34.hook_mlp_out', 'blocks.34.hook_resid_post', 'blocks.35.hook_resid_pre', 'blocks.35.ln1.hook_scale', 'blocks.35.ln1.hook_normalized', 'blocks.35.attn.hook_q', 'blocks.35.attn.hook_k', 'blocks.35.attn.hook_v', 'blocks.35.attn.hook_attn_scores', 'blocks.35.attn.hook_pattern', 'blocks.35.attn.hook_z', 'blocks.35.attn.hook_result', 'blocks.35.hook_attn_out', 'blocks.35.hook_resid_mid', 'blocks.35.ln2.hook_scale', 'blocks.35.ln2.hook_normalized', 'blocks.35.mlp.hook_pre', 'blocks.35.mlp.hook_post', 'blocks.35.hook_mlp_out', 'blocks.35.hook_resid_post', 'blocks.36.hook_resid_pre', 'blocks.36.ln1.hook_scale', 'blocks.36.ln1.hook_normalized', 'blocks.36.attn.hook_q', 'blocks.36.attn.hook_k', 'blocks.36.attn.hook_v', 'blocks.36.attn.hook_attn_scores', 'blocks.36.attn.hook_pattern', 'blocks.36.attn.hook_z', 'blocks.36.attn.hook_result', 'blocks.36.hook_attn_out', 'blocks.36.hook_resid_mid', 'blocks.36.ln2.hook_scale', 'blocks.36.ln2.hook_normalized', 'blocks.36.mlp.hook_pre', 'blocks.36.mlp.hook_post', 'blocks.36.hook_mlp_out', 'blocks.36.hook_resid_post', 'blocks.37.hook_resid_pre', 'blocks.37.ln1.hook_scale', 'blocks.37.ln1.hook_normalized', 'blocks.37.attn.hook_q', 'blocks.37.attn.hook_k', 'blocks.37.attn.hook_v', 'blocks.37.attn.hook_attn_scores', 'blocks.37.attn.hook_pattern', 'blocks.37.attn.hook_z', 'blocks.37.attn.hook_result', 'blocks.37.hook_attn_out', 'blocks.37.hook_resid_mid', 'blocks.37.ln2.hook_scale', 'blocks.37.ln2.hook_normalized', 'blocks.37.mlp.hook_pre', 'blocks.37.mlp.hook_post', 'blocks.37.hook_mlp_out', 'blocks.37.hook_resid_post', 'blocks.38.hook_resid_pre', 'blocks.38.ln1.hook_scale', 'blocks.38.ln1.hook_normalized', 'blocks.38.attn.hook_q', 'blocks.38.attn.hook_k', 'blocks.38.attn.hook_v', 'blocks.38.attn.hook_attn_scores', 'blocks.38.attn.hook_pattern', 'blocks.38.attn.hook_z', 'blocks.38.attn.hook_result', 'blocks.38.hook_attn_out', 'blocks.38.hook_resid_mid', 'blocks.38.ln2.hook_scale', 'blocks.38.ln2.hook_normalized', 'blocks.38.mlp.hook_pre', 'blocks.38.mlp.hook_post', 'blocks.38.hook_mlp_out', 'blocks.38.hook_resid_post', 'blocks.39.hook_resid_pre', 'blocks.39.ln1.hook_scale', 'blocks.39.ln1.hook_normalized', 'blocks.39.attn.hook_q', 'blocks.39.attn.hook_k', 'blocks.39.attn.hook_v', 'blocks.39.attn.hook_attn_scores', 'blocks.39.attn.hook_pattern', 'blocks.39.attn.hook_z', 'blocks.39.attn.hook_result', 'blocks.39.hook_attn_out', 'blocks.39.hook_resid_mid', 'blocks.39.ln2.hook_scale', 'blocks.39.ln2.hook_normalized', 'blocks.39.mlp.hook_pre', 'blocks.39.mlp.hook_post', 'blocks.39.hook_mlp_out', 'blocks.39.hook_resid_post', 'blocks.40.hook_resid_pre', 'blocks.40.ln1.hook_scale', 'blocks.40.ln1.hook_normalized', 'blocks.40.attn.hook_q', 'blocks.40.attn.hook_k', 'blocks.40.attn.hook_v', 'blocks.40.attn.hook_attn_scores', 'blocks.40.attn.hook_pattern', 'blocks.40.attn.hook_z', 'blocks.40.attn.hook_result', 'blocks.40.hook_attn_out', 'blocks.40.hook_resid_mid', 'blocks.40.ln2.hook_scale', 'blocks.40.ln2.hook_normalized', 'blocks.40.mlp.hook_pre', 'blocks.40.mlp.hook_post', 'blocks.40.hook_mlp_out', 'blocks.40.hook_resid_post', 'blocks.41.hook_resid_pre', 'blocks.41.ln1.hook_scale', 'blocks.41.ln1.hook_normalized', 'blocks.41.attn.hook_q', 'blocks.41.attn.hook_k', 'blocks.41.attn.hook_v', 'blocks.41.attn.hook_attn_scores', 'blocks.41.attn.hook_pattern', 'blocks.41.attn.hook_z', 'blocks.41.attn.hook_result', 'blocks.41.hook_attn_out', 'blocks.41.hook_resid_mid', 'blocks.41.ln2.hook_scale', 'blocks.41.ln2.hook_normalized', 'blocks.41.mlp.hook_pre', 'blocks.41.mlp.hook_post', 'blocks.41.hook_mlp_out', 'blocks.41.hook_resid_post', 'blocks.42.hook_resid_pre', 'blocks.42.ln1.hook_scale', 'blocks.42.ln1.hook_normalized', 'blocks.42.attn.hook_q', 'blocks.42.attn.hook_k', 'blocks.42.attn.hook_v', 'blocks.42.attn.hook_attn_scores', 'blocks.42.attn.hook_pattern', 'blocks.42.attn.hook_z', 'blocks.42.attn.hook_result', 'blocks.42.hook_attn_out', 'blocks.42.hook_resid_mid', 'blocks.42.ln2.hook_scale', 'blocks.42.ln2.hook_normalized', 'blocks.42.mlp.hook_pre', 'blocks.42.mlp.hook_post', 'blocks.42.hook_mlp_out', 'blocks.42.hook_resid_post', 'blocks.43.hook_resid_pre', 'blocks.43.ln1.hook_scale', 'blocks.43.ln1.hook_normalized', 'blocks.43.attn.hook_q', 'blocks.43.attn.hook_k', 'blocks.43.attn.hook_v', 'blocks.43.attn.hook_attn_scores', 'blocks.43.attn.hook_pattern', 'blocks.43.attn.hook_z', 'blocks.43.attn.hook_result', 'blocks.43.hook_attn_out', 'blocks.43.hook_resid_mid', 'blocks.43.ln2.hook_scale', 'blocks.43.ln2.hook_normalized', 'blocks.43.mlp.hook_pre', 'blocks.43.mlp.hook_post', 'blocks.43.hook_mlp_out', 'blocks.43.hook_resid_post', 'blocks.44.hook_resid_pre', 'blocks.44.ln1.hook_scale', 'blocks.44.ln1.hook_normalized', 'blocks.44.attn.hook_q', 'blocks.44.attn.hook_k', 'blocks.44.attn.hook_v', 'blocks.44.attn.hook_attn_scores', 'blocks.44.attn.hook_pattern', 'blocks.44.attn.hook_z', 'blocks.44.attn.hook_result', 'blocks.44.hook_attn_out', 'blocks.44.hook_resid_mid', 'blocks.44.ln2.hook_scale', 'blocks.44.ln2.hook_normalized', 'blocks.44.mlp.hook_pre', 'blocks.44.mlp.hook_post', 'blocks.44.hook_mlp_out', 'blocks.44.hook_resid_post', 'blocks.45.hook_resid_pre', 'blocks.45.ln1.hook_scale', 'blocks.45.ln1.hook_normalized', 'blocks.45.attn.hook_q', 'blocks.45.attn.hook_k', 'blocks.45.attn.hook_v', 'blocks.45.attn.hook_attn_scores', 'blocks.45.attn.hook_pattern', 'blocks.45.attn.hook_z', 'blocks.45.attn.hook_result', 'blocks.45.hook_attn_out', 'blocks.45.hook_resid_mid', 'blocks.45.ln2.hook_scale', 'blocks.45.ln2.hook_normalized', 'blocks.45.mlp.hook_pre', 'blocks.45.mlp.hook_post', 'blocks.45.hook_mlp_out', 'blocks.45.hook_resid_post', 'blocks.46.hook_resid_pre', 'blocks.46.ln1.hook_scale', 'blocks.46.ln1.hook_normalized', 'blocks.46.attn.hook_q', 'blocks.46.attn.hook_k', 'blocks.46.attn.hook_v', 'blocks.46.attn.hook_attn_scores', 'blocks.46.attn.hook_pattern', 'blocks.46.attn.hook_z', 'blocks.46.attn.hook_result', 'blocks.46.hook_attn_out', 'blocks.46.hook_resid_mid', 'blocks.46.ln2.hook_scale', 'blocks.46.ln2.hook_normalized', 'blocks.46.mlp.hook_pre', 'blocks.46.mlp.hook_post', 'blocks.46.hook_mlp_out', 'blocks.46.hook_resid_post', 'blocks.47.hook_resid_pre', 'blocks.47.ln1.hook_scale', 'blocks.47.ln1.hook_normalized', 'blocks.47.attn.hook_q', 'blocks.47.attn.hook_k', 'blocks.47.attn.hook_v', 'blocks.47.attn.hook_attn_scores', 'blocks.47.attn.hook_pattern', 'blocks.47.attn.hook_z', 'blocks.47.attn.hook_result', 'blocks.47.hook_attn_out', 'blocks.47.hook_resid_mid', 'blocks.47.ln2.hook_scale', 'blocks.47.ln2.hook_normalized', 'blocks.47.mlp.hook_pre', 'blocks.47.mlp.hook_post', 'blocks.47.hook_mlp_out', 'blocks.47.hook_resid_post', 'ln_final.hook_scale', 'ln_final.hook_normalized'])"
      ]
     },
     "execution_count": 39,
     "metadata": {},
     "output_type": "execute_result"
    }
   ],
   "source": [
    "cache.keys()"
   ]
  },
  {
   "cell_type": "code",
   "execution_count": 38,
   "metadata": {},
   "outputs": [
    {
     "data": {
      "application/vnd.plotly.v1+json": {
       "config": {
        "plotlyServerURL": "https://plot.ly"
       },
       "data": [
        {
         "coloraxis": "coloraxis",
         "hovertemplate": "x: %{x}<br>y: %{y}<br>color: %{z}<extra></extra>",
         "name": "0",
         "type": "heatmap",
         "xaxis": "x",
         "yaxis": "y",
         "z": [
          [
           0.005148278083652258,
           0.006724423263221979,
           0.003909691236913204,
           0.00165845500305295,
           -0.001731328433379531,
           -0.00042884130380116403,
           0.0021511041559278965,
           0.0013460377231240273,
           0.004203664604574442,
           0.003176432801410556,
           -0.004612444434314966,
           -0.0035828654654324055,
           0.007114745210856199,
           -0.008973750285804272,
           -0.0011552802752703428,
           0.0022237952798604965,
           -0.003759685903787613,
           0.0020664031617343426,
           0.004906598944216967,
           -0.0003737294755410403,
           0.00290562747977674,
           0.01280946284532547,
           0.012869655154645443,
           0.026207802817225456,
           -0.006553290411829948
          ],
          [
           -0.026657409965991974,
           0.01765349693596363,
           -0.03824937343597412,
           -0.11186713725328445,
           0.07524566352367401,
           -0.003716263687238097,
           0.023348229005932808,
           0.15274040400981903,
           0.012400589883327484,
           0.2129463106393814,
           0.11838129162788391,
           0.054104678332805634,
           -0.07013007253408432,
           0.10475368052721024,
           -0.14838801324367523,
           -0.3331202268600464,
           -0.037217456847429276,
           -0.10098621249198914,
           0.03796565160155296,
           -0.07559040933847427,
           -0.00019459101895336062,
           0.02313097193837166,
           -0.17069344222545624,
           -0.017886746674776077,
           -0.12767058610916138
          ],
          [
           0.16627919673919678,
           -0.014652319252490997,
           -0.06194791570305824,
           0.037269335240125656,
           0.08619219809770584,
           -0.15176954865455627,
           -0.1147729903459549,
           -0.000858222774695605,
           0.24830582737922668,
           -0.01340804249048233,
           0.026053637266159058,
           -0.2722005844116211,
           0.10846693813800812,
           0.10541336983442307,
           0.031571660190820694,
           0.039128053933382034,
           -0.1000075712800026,
           -0.1670912802219391,
           0.0966474786400795,
           -0.6252715587615967,
           0.03706236928701401,
           -0.039899080991744995,
           0.05422961711883545,
           0.02808689884841442,
           -0.07919511944055557
          ],
          [
           0.12387852370738983,
           0.06065996736288071,
           -0.012762862257659435,
           -0.13497336208820343,
           -0.0023158197291195393,
           -0.21935105323791504,
           -0.00286735687404871,
           -0.14851799607276917,
           0.07427511364221573,
           0.012191147543489933,
           0.016076935455203056,
           -0.048804428428411484,
           0.10540102422237396,
           -0.06527308374643326,
           0.006023979280143976,
           -0.10794942826032639,
           0.13862529397010803,
           0.028695102781057358,
           -0.2543874979019165,
           -0.07032037526369095,
           -0.026348574087023735,
           0.07972836494445801,
           -0.03708675876259804,
           0.2390749752521515,
           -0.07533806562423706
          ],
          [
           -0.19164356589317322,
           0.19837822020053864,
           0.1688360571861267,
           0.026411984115839005,
           0.32334867119789124,
           0.027430104091763496,
           -0.12026052922010422,
           0.05325263366103172,
           -0.19741325080394745,
           -0.11943108588457108,
           0.027711227536201477,
           -0.03874912112951279,
           -0.10479553043842316,
           -0.3539389371871948,
           -0.09344696253538132,
           0.0867692232131958,
           0.27671170234680176,
           0.06708009541034698,
           0.01631813310086727,
           -0.0009221702930517495,
           -0.09595368802547455,
           -0.19284793734550476,
           -0.03112262673676014,
           -0.13934920728206635,
           -0.00811673142015934
          ],
          [
           0.22421018779277802,
           -0.07614627480506897,
           0.13965223729610443,
           -0.014406273141503334,
           0.04957875981926918,
           0.01718096435070038,
           0.056501828134059906,
           0.010186173021793365,
           0.08971446007490158,
           0.04206114634871483,
           -0.02977641485631466,
           -0.055738840252161026,
           -0.021868325769901276,
           0.03500260412693024,
           -0.018921993672847748,
           -0.1773800402879715,
           -0.5065949559211731,
           0.06465385109186172,
           -0.2191854566335678,
           0.033746011555194855,
           -0.035948365926742554,
           0.032709453254938126,
           0.07418868690729141,
           -0.028627950698137283,
           0.04264399781823158
          ],
          [
           -0.06338434666395187,
           -0.16395238041877747,
           -0.1086253747344017,
           -0.27634668350219727,
           0.12075356394052505,
           0.0006513711414299905,
           0.12346519529819489,
           -0.0625854879617691,
           0.1363110989332199,
           -0.06540221720933914,
           -0.13196104764938354,
           0.005109136924147606,
           -0.030513735488057137,
           -0.0264129638671875,
           -0.040836263447999954,
           -0.03977016359567642,
           -0.07454804331064224,
           -0.0801682397723198,
           0.42966872453689575,
           -0.061393510550260544,
           -0.05758907273411751,
           0.014270135201513767,
           0.004660562612116337,
           0.038316547870635986,
           0.044855836778879166
          ],
          [
           0.021625228226184845,
           -0.15221303701400757,
           -0.12282110750675201,
           0.05847807228565216,
           -0.07521669566631317,
           -0.20804324746131897,
           -0.0010601241374388337,
           0.183633953332901,
           -0.02114087902009487,
           0.014480738900601864,
           -0.013092252425849438,
           -0.3349151909351349,
           -0.1692650318145752,
           0.036799199879169464,
           0.061163272708654404,
           0.11318951845169067,
           -0.04693097248673439,
           0.08855697512626648,
           0.09266973286867142,
           0.026168735697865486,
           0.012864883057773113,
           0.17974887788295746,
           -0.01364478375762701,
           0.206699401140213,
           -0.031187355518341064
          ],
          [
           -0.07497300207614899,
           0.019053436815738678,
           0.019087523221969604,
           0.022047962993383408,
           -0.08913091570138931,
           0.11694903671741486,
           -0.03661418706178665,
           0.00354667822830379,
           -0.03670059144496918,
           -0.0028889523819088936,
           -0.01690845936536789,
           -0.1759352684020996,
           0.004866924602538347,
           0.0028856087010353804,
           -0.04793345928192139,
           -0.10985538363456726,
           0.06325281411409378,
           0.020230088382959366,
           0.1135651245713234,
           -0.06363637000322342,
           0.22206111252307892,
           0.00964809488505125,
           0.017565349116921425,
           0.023106034845113754,
           -0.05473730340600014
          ],
          [
           0.029043374583125114,
           0.01109581720083952,
           0.09575765579938889,
           -0.039427656680345535,
           0.011662495322525501,
           -0.1342843621969223,
           -0.05088208243250847,
           -0.1616533249616623,
           -0.053619857877492905,
           -0.02455751970410347,
           0.08709277957677841,
           -0.023333534598350525,
           0.0035267542116343975,
           0.07682409137487411,
           0.028463145717978477,
           0.028183821588754654,
           0.022654961794614792,
           0.020933037623763084,
           -0.01744045317173004,
           -0.11216267198324203,
           -0.04519234970211983,
           -0.0030497026164084673,
           0.017326541244983673,
           0.20693974196910858,
           0.061370380222797394
          ],
          [
           0.18855424225330353,
           0.06601662188768387,
           -0.034283347427845,
           -0.003797239623963833,
           -0.013095889240503311,
           0.029483621940016747,
           0.002096033887937665,
           0.01782328449189663,
           -0.014659975655376911,
           -0.11401993036270142,
           0.18419182300567627,
           -0.013566269539296627,
           0.09538966417312622,
           -0.00448962114751339,
           0.040298037230968475,
           -0.012455036863684654,
           -0.11031878739595413,
           -0.05074366182088852,
           0.03838156908750534,
           0.09769435971975327,
           -0.013657143339514732,
           0.06177713721990585,
           0.07386472076177597,
           0.05901063606142998,
           -0.04655242711305618
          ],
          [
           -0.006131947971880436,
           0.1394205540418625,
           -0.1875157207250595,
           -0.17440953850746155,
           0.18864469230175018,
           -0.03508526086807251,
           -0.027534479275345802,
           0.01641155034303665,
           -0.09301967173814774,
           0.1309518963098526,
           0.039502765983343124,
           -0.07922214269638062,
           -0.07513312995433807,
           0.25676846504211426,
           -0.027591167017817497,
           0.0070600626058876514,
           0.06330206245183945,
           0.46961280703544617,
           -0.0523194745182991,
           0.007573598995804787,
           0.021848130971193314,
           -0.04039483889937401,
           -0.08237705379724503,
           0.13425207138061523,
           -0.02861226350069046
          ],
          [
           0.026804277673363686,
           0.02088678441941738,
           0.07398992776870728,
           0.082504503428936,
           0.18016624450683594,
           -0.02350229024887085,
           0.0297772828489542,
           -0.03507783263921738,
           -0.024625875055789948,
           0.156698077917099,
           0.10145145654678345,
           0.11376404017210007,
           0.2017851024866104,
           -0.016523702070116997,
           -0.24061958491802216,
           -0.07783454656600952,
           -0.04412614926695824,
           0.0076600490137934685,
           0.14983226358890533,
           -0.5487017035484314,
           0.14692141115665436,
           -0.2643358111381531,
           0.01674332469701767,
           -0.05174700915813446,
           0.0017576352693140507
          ],
          [
           0.08024672418832779,
           -0.053863681852817535,
           -0.08114957064390182,
           0.10046674311161041,
           -0.0071421340107917786,
           0.061190441250801086,
           -0.17108194530010223,
           0.012835663743317127,
           -0.02161787636578083,
           0.05332600697875023,
           0.15494979918003082,
           -0.021164534613490105,
           0.0250442735850811,
           -0.03407202288508415,
           -0.010083909146487713,
           -0.04930577054619789,
           -0.01962563768029213,
           0.029235433787107468,
           -0.07200287282466888,
           0.005190823692828417,
           -0.5051681399345398,
           0.1327398121356964,
           0.304930716753006,
           -0.1733408421278,
           -0.10029979795217514
          ],
          [
           0.24640057981014252,
           0.03394901379942894,
           0.023673543706536293,
           -0.11267051845788956,
           -0.09942678362131119,
           0.03356381878256798,
           0.18049031496047974,
           -0.012242701835930347,
           0.06105855107307434,
           0.02077762968838215,
           0.010085813701152802,
           0.03698021173477173,
           -0.4290359616279602,
           -0.12486273795366287,
           -0.01887127384543419,
           0.3836919963359833,
           0.03350580111145973,
           -0.007482269778847694,
           0.16077932715415955,
           -0.015096846967935562,
           0.0014355611056089401,
           0.09475817531347275,
           0.19631701707839966,
           0.0019688154570758343,
           -0.10297206044197083
          ],
          [
           -0.015429897233843803,
           0.07054216414690018,
           0.0047601368278265,
           -0.04147570580244064,
           -0.07754287868738174,
           0.1372341513633728,
           0.09749637544155121,
           -0.11908627301454544,
           0.04160279408097267,
           -0.06610223650932312,
           -0.03011207841336727,
           -0.05518427863717079,
           -0.08249729126691818,
           0.05659959465265274,
           -0.00715517858043313,
           0.0993611291050911,
           -0.006700769532471895,
           0.028077425435185432,
           0.009050658904016018,
           -0.36516791582107544,
           -0.2631130516529083,
           -0.04802747443318367,
           -0.07486660778522491,
           0.009747245348989964,
           0.12992535531520844
          ],
          [
           0.03750864416360855,
           -0.016278589144349098,
           -0.22248440980911255,
           -0.21471552550792694,
           -0.17931629717350006,
           -0.32369694113731384,
           0.020048219710588455,
           0.11610779911279678,
           0.07524935901165009,
           0.08352506905794144,
           0.002792759332805872,
           0.1017414852976799,
           0.047077104449272156,
           -0.008844423107802868,
           -0.023980896919965744,
           0.3861345052719116,
           0.5368146300315857,
           0.06231195107102394,
           0.16811524331569672,
           0.035612959414720535,
           -0.08156588673591614,
           0.016058791428804398,
           -0.11831586807966232,
           0.09629083424806595,
           0.002598318038508296
          ],
          [
           0.10633125901222229,
           0.055833593010902405,
           -0.058508384972810745,
           0.06120913475751877,
           0.0021305466070771217,
           -0.07801846414804459,
           -0.07531454414129257,
           0.08936607837677002,
           -0.1420983374118805,
           0.022705158218741417,
           0.22444544732570648,
           0.031010063365101814,
           0.017132846638560295,
           0.11602245271205902,
           0.09726959466934204,
           0.029687313362956047,
           0.012209467589855194,
           -0.012376430444419384,
           0.011835160665214062,
           -0.008845435455441475,
           -0.09976311773061752,
           0.02096778154373169,
           -0.04750204458832741,
           -0.23384809494018555,
           0.0642281323671341
          ],
          [
           0.01651260256767273,
           -0.2444772571325302,
           0.030792437493801117,
           0.10604943335056305,
           0.1792754977941513,
           -0.1986602544784546,
           0.3599860966205597,
           -0.072884202003479,
           0.1442970335483551,
           0.02848910726606846,
           -0.0842147246003151,
           0.07113247364759445,
           -0.12432348728179932,
           0.035924967378377914,
           0.21045458316802979,
           0.014899509958922863,
           -0.08450537919998169,
           -0.09872908145189285,
           0.17640091478824615,
           -0.009026113897562027,
           -0.057960256934165955,
           -0.0843961238861084,
           -0.054601557552814484,
           -0.03771934285759926,
           -0.04432708024978638
          ],
          [
           0.1032600998878479,
           0.12621235847473145,
           0.004578299354761839,
           -0.008359650149941444,
           -0.011828100308775902,
           -0.0707523375749588,
           -0.014873234555125237,
           -0.11714134365320206,
           0.05452512204647064,
           0.10213050991296768,
           0.0900360718369484,
           -0.06489663571119308,
           0.0526333749294281,
           0.15348635613918304,
           -0.108482725918293,
           -0.15689513087272644,
           0.22975626587867737,
           -0.03810213878750801,
           0.028392741456627846,
           -0.0834614709019661,
           0.00737618887796998,
           -0.042881324887275696,
           -0.062370382249355316,
           -0.10039463639259338,
           -0.5748702883720398
          ],
          [
           0.03204067051410675,
           0.08391552418470383,
           -0.28632405400276184,
           0.002449651248753071,
           0.0036057375837117434,
           0.05325394123792648,
           0.07047689706087112,
           -0.08682537078857422,
           -0.010578650049865246,
           0.1170024648308754,
           0.02337750606238842,
           -0.06868639588356018,
           0.13591508567333221,
           -0.007211453281342983,
           -0.004293845966458321,
           -0.02550400048494339,
           0.21188248693943024,
           -0.025285905227065086,
           0.18488135933876038,
           -0.01907166838645935,
           -0.24229760468006134,
           -0.18373586237430573,
           -0.03941444307565689,
           0.19366604089736938,
           -0.016570914536714554
          ],
          [
           0.047250017523765564,
           -0.03387446328997612,
           0.09855403751134872,
           0.21138906478881836,
           0.06317772716283798,
           -0.12196798622608185,
           0.26954880356788635,
           0.029760286211967468,
           -0.015581087209284306,
           -0.019605562090873718,
           0.12968537211418152,
           0.08483290672302246,
           -0.08041990548372269,
           0.08742287009954453,
           0.02393816038966179,
           0.14233388006687164,
           0.026157382875680923,
           0.15886488556861877,
           0.03002431057393551,
           0.5883039236068726,
           -0.010537673719227314,
           0.10532978177070618,
           -0.057215116918087006,
           -0.02949698641896248,
           0.05121762678027153
          ],
          [
           0.05649837478995323,
           -0.005569682456552982,
           -0.40828031301498413,
           -0.20860059559345245,
           -0.17647023499011993,
           -0.09103049337863922,
           0.03046925738453865,
           -0.05082431435585022,
           -0.05910167098045349,
           0.20120444893836975,
           0.12214689701795578,
           0.06890421360731125,
           -0.09324910491704941,
           0.03988441452383995,
           -0.12462303042411804,
           0.4267118573188782,
           0.17253723740577698,
           -0.08762598782777786,
           0.3795712888240814,
           -0.034846216440200806,
           -0.009242227301001549,
           -0.1197878047823906,
           0.09778407961130142,
           0.00873563438653946,
           0.19026294350624084
          ],
          [
           -0.5596153140068054,
           -0.11655929684638977,
           -0.032099414616823196,
           -0.07167993485927582,
           -0.01926218904554844,
           0.15913206338882446,
           0.07848207652568817,
           0.028611168265342712,
           0.07592631876468658,
           -0.26520684361457825,
           -0.21579892933368683,
           0.02094755880534649,
           0.10671240836381912,
           0.24954672157764435,
           -0.13160784542560577,
           -0.017001161351799965,
           -0.030916105955839157,
           -0.16607436537742615,
           -0.08216498792171478,
           0.436502605676651,
           0.007575872354209423,
           -0.032051876187324524,
           0.029634451493620872,
           0.006221961695700884,
           0.015455837361514568
          ],
          [
           -0.009808756411075592,
           -0.4414443075656891,
           -0.2048720419406891,
           0.18149466812610626,
           0.15387596189975739,
           -0.1282196044921875,
           0.28563863039016724,
           -0.2082403153181076,
           0.6384456157684326,
           0.07796405255794525,
           -0.011062131263315678,
           0.008566826581954956,
           0.09517043828964233,
           -0.005304468329995871,
           0.020521637052297592,
           -0.45443081855773926,
           -0.3283247649669647,
           0.08237224072217941,
           0.11968964338302612,
           -0.08192605525255203,
           0.0407470241189003,
           -0.14421966671943665,
           -0.0163896381855011,
           0.331785649061203,
           0.07306638360023499
          ],
          [
           0.023096241056919098,
           0.03298003226518631,
           0.051849231123924255,
           0.1659681648015976,
           0.17336060106754303,
           0.002051694318652153,
           0.468230664730072,
           -0.048708345741033554,
           -0.23788130283355713,
           0.6198267340660095,
           0.321778804063797,
           -0.4351944029331207,
           -0.01353170070797205,
           0.06074768677353859,
           -0.12261950224637985,
           0.21823042631149292,
           -0.0720251128077507,
           -0.2275013029575348,
           0.12761728465557098,
           0.019403796643018723,
           -0.256868839263916,
           -0.5362191200256348,
           0.006728433538228273,
           -0.3561977744102478,
           0.1063350960612297
          ],
          [
           0.011051359586417675,
           -0.0028314730152487755,
           -0.04167439416050911,
           0.167764812707901,
           0.5536640882492065,
           -0.0005437892396003008,
           -0.40862026810646057,
           0.16647274792194366,
           -0.3477248251438141,
           -0.032014962285757065,
           0.0836993157863617,
           0.0065846992656588554,
           -0.06687424331903458,
           0.0001440935448044911,
           0.03403279185295105,
           -0.15802833437919617,
           0.02812454290688038,
           0.009545423090457916,
           0.049132153391838074,
           -0.19412006437778473,
           -0.13746529817581177,
           -0.10378488153219223,
           0.234269917011261,
           0.15277808904647827,
           -0.05951620265841484
          ],
          [
           -0.07748115807771683,
           0.0529959574341774,
           -0.0018408012110739946,
           -0.35438069701194763,
           -0.008718609809875488,
           -0.03169605880975723,
           -0.06993719935417175,
           0.23645703494548798,
           0.06211107224225998,
           -0.17559736967086792,
           0.1572669893503189,
           0.48551812767982483,
           -0.07350040227174759,
           -0.03978902846574783,
           -0.3816591799259186,
           0.08460359275341034,
           -0.17190930247306824,
           0.06902278959751129,
           -0.03294580802321434,
           0.010592379607260227,
           0.035777006298303604,
           -0.012228596024215221,
           0.047857679426670074,
           0.005011380184441805,
           -0.30128756165504456
          ],
          [
           -0.19436593353748322,
           -0.15044717490673065,
           0.06032765656709671,
           0.20143987238407135,
           -0.009681962430477142,
           -0.09973178058862686,
           0.004131748806685209,
           -0.21585088968276978,
           -0.04819882661104202,
           0.050665564835071564,
           -0.1443815380334854,
           0.03155823424458504,
           -0.0023857909254729748,
           -0.044043172150850296,
           -0.05000688508152962,
           -0.1559937298297882,
           -0.2970629930496216,
           0.04377502575516701,
           -0.46291908621788025,
           -0.012339153327047825,
           0.019613614305853844,
           0.11979328095912933,
           -0.02855675294995308,
           0.062310975044965744,
           0.10155688971281052
          ],
          [
           0.01944625936448574,
           0.03404222056269646,
           0.12268583476543427,
           -0.03482719138264656,
           -0.06550347059965134,
           0.23074689507484436,
           0.07547473907470703,
           -0.0481102429330349,
           -0.13765716552734375,
           0.00038161277188919485,
           0.013949333690106869,
           0.07583831995725632,
           0.025539686903357506,
           0.00872102566063404,
           0.029572125524282455,
           0.009916102513670921,
           0.041862547397613525,
           0.04573626071214676,
           -0.24885934591293335,
           -0.03997381776571274,
           0.7530443668365479,
           0.06936585903167725,
           -0.08873431384563446,
           -0.20091214776039124,
           0.00961943157017231
          ],
          [
           0.07374825328588486,
           0.13935425877571106,
           0.03630506992340088,
           -0.011259502731263638,
           -0.037892214953899384,
           0.005352773703634739,
           0.12657882273197174,
           -0.2776004672050476,
           0.0760241448879242,
           0.00118831021245569,
           0.08272604644298553,
           0.02354656532406807,
           0.019782356917858124,
           0.21308225393295288,
           -0.058123789727687836,
           0.05614052712917328,
           -0.01822241209447384,
           -0.10394715517759323,
           -0.15494532883167267,
           0.09984885156154633,
           -0.18708209693431854,
           0.20776265859603882,
           -0.016322072595357895,
           -0.016780544072389603,
           -0.01685507409274578
          ],
          [
           0.3990444540977478,
           0.1772608757019043,
           0.01923339068889618,
           0.44337892532348633,
           0.3150242269039154,
           -0.037556979805231094,
           -0.022230641916394234,
           -0.08146990090608597,
           -0.1464875489473343,
           -0.046138614416122437,
           0.0670655220746994,
           -0.057201139628887177,
           0.0067877694964408875,
           0.33293217420578003,
           0.14387071132659912,
           -1.5487134456634521,
           0.3325166702270508,
           -0.0855727270245552,
           -0.028647171333432198,
           -0.09816774725914001,
           -0.03836144134402275,
           -0.01655837893486023,
           0.12648122012615204,
           -0.019430560991168022,
           -0.0469173863530159
          ],
          [
           -0.028227314352989197,
           0.3904843330383301,
           -0.21288995444774628,
           -0.037841178476810455,
           -0.8237798810005188,
           0.036795616149902344,
           0.07335735857486725,
           -0.18438301980495453,
           -0.07369076460599899,
           0.07962432503700256,
           0.07176043838262558,
           0.3451896905899048,
           -0.055688727647066116,
           -0.29984334111213684,
           0.20581713318824768,
           -0.06578437983989716,
           0.06675038486719131,
           -0.08234554529190063,
           -0.06186721473932266,
           0.12656821310520172,
           -0.0008117532124742866,
           -0.09416920691728592,
           0.07221274077892303,
           -0.002956187119707465,
           -0.2175993025302887
          ],
          [
           0.04130928963422775,
           0.047158289700746536,
           -0.2827537953853607,
           -0.11130532622337341,
           -0.014507405459880829,
           -0.01936904899775982,
           0.05036047101020813,
           -0.08137165009975433,
           -0.2068326473236084,
           -0.03729187324643135,
           -0.057571206241846085,
           0.03382539004087448,
           -0.08158624172210693,
           0.25676512718200684,
           -0.05375997722148895,
           -0.08391544222831726,
           -0.048224449157714844,
           0.14796362817287445,
           -0.15142004191875458,
           0.006976802367717028,
           0.013422324322164059,
           -0.03165500611066818,
           0.059739574790000916,
           -0.029020730406045914,
           -0.03557327017188072
          ],
          [
           0.006181266158819199,
           -0.03647296130657196,
           -0.12959694862365723,
           0.1526094526052475,
           -0.29170700907707214,
           -0.0703272596001625,
           0.024984097108244896,
           -0.22765472531318665,
           0.0230632945895195,
           -0.012640965171158314,
           -0.34315526485443115,
           0.22423315048217773,
           -0.014078809879720211,
           -0.12710443139076233,
           0.07681220024824142,
           -0.06785688549280167,
           0.01606331765651703,
           -0.5443164706230164,
           0.03455829992890358,
           0.03190787881612778,
           0.09505962580442429,
           -0.0697564110159874,
           -0.41916024684906006,
           0.05014684796333313,
           -0.028138991445302963
          ],
          [
           0.005873005837202072,
           -0.07034684717655182,
           -0.006300757639110088,
           0.04988271743059158,
           0.06939329952001572,
           0.051138103008270264,
           -0.03286750242114067,
           0.07646694034337997,
           0.013164211064577103,
           -0.023663191124796867,
           0.027601344510912895,
           -0.009270439855754375,
           0.11367311328649521,
           -0.021883176639676094,
           0.000577351194806397,
           -0.07149966061115265,
           -0.23061835765838623,
           0.21585862338542938,
           -0.029499761760234833,
           0.5164486765861511,
           -0.06261036545038223,
           -0.03407621011137962,
           0.13414119184017181,
           0.04779265820980072,
           0.008809581398963928
          ],
          [
           0.012691343203186989,
           0.0018072468228638172,
           0.28738757967948914,
           -0.05202304944396019,
           0.044380370527505875,
           0.017599444836378098,
           0.15190400183200836,
           -0.011890450492501259,
           0.1783134788274765,
           0.051041487604379654,
           0.05668218061327934,
           -0.11477130651473999,
           0.007391970604658127,
           0.4004153907299042,
           0.020001202821731567,
           0.05598178878426552,
           0.04056626185774803,
           0.5058186650276184,
           0.036136917769908905,
           0.15216638147830963,
           0.2274785190820694,
           0.0311716441065073,
           0.012443553656339645,
           -0.238001748919487,
           0.013092086650431156
          ],
          [
           -0.7040756344795227,
           -0.09080488234758377,
           0.013882143422961235,
           -0.013104130513966084,
           -0.022839542478322983,
           -0.003195873461663723,
           -0.029103074222803116,
           0.05335105583071709,
           0.3633768558502197,
           -0.04665782302618027,
           0.01283729262650013,
           0.08220277726650238,
           0.10676323622465134,
           -0.08387540280818939,
           -0.0006570619298145175,
           0.02476082742214203,
           0.04791992902755737,
           -0.010405649431049824,
           0.008265473879873753,
           0.04234234243631363,
           0.016375407576560974,
           0.07924915850162506,
           0.012295925989747047,
           -0.08035493642091751,
           0.011853939853608608
          ],
          [
           0.05458476021885872,
           -0.06813105940818787,
           0.4927879869937897,
           -0.1716277152299881,
           -0.06770382821559906,
           -0.008550083264708519,
           0.11380511522293091,
           -0.5983851552009583,
           0.017593905329704285,
           0.014197435230016708,
           0.002310426440089941,
           0.07932986319065094,
           0.07914864271879196,
           0.02507895790040493,
           0.5028712749481201,
           -0.02702404372394085,
           0.14704148471355438,
           0.0416223518550396,
           0.10927276313304901,
           -0.02328464202582836,
           0.010255612432956696,
           0.05980316922068596,
           0.11005011945962906,
           -0.12124436348676682,
           0.02585790865123272
          ],
          [
           0.12479259073734283,
           0.018489262089133263,
           0.011542689055204391,
           -0.04887326806783676,
           -0.3349550664424896,
           0.039511539041996,
           0.04735178127884865,
           -0.03885526582598686,
           0.030952725559473038,
           0.07542531192302704,
           0.4908016324043274,
           -0.10763128846883774,
           -0.0792565867304802,
           -0.010719601996243,
           0.0770404040813446,
           0.019295183941721916,
           0.05350860208272934,
           0.16161192953586578,
           0.15461795032024384,
           -0.08817627280950546,
           0.17893265187740326,
           0.010828726924955845,
           -0.0623881034553051,
           -0.03636784479022026,
           -0.09559424221515656
          ],
          [
           0.008488076739013195,
           -0.03379487246274948,
           0.016444744542241096,
           -0.020488068461418152,
           -0.03727280721068382,
           -0.04546505957841873,
           0.0684238001704216,
           -0.10584322363138199,
           0.15928688645362854,
           -0.014993083663284779,
           -0.11110220104455948,
           -0.06641858071088791,
           0.02444978803396225,
           0.1577014923095703,
           -0.008267766796052456,
           0.19098006188869476,
           -0.10051648318767548,
           -0.02634870633482933,
           0.11217816919088364,
           0.08756233006715775,
           0.1242208257317543,
           -0.0027804593555629253,
           0.5765639543533325,
           -0.2543204426765442,
           -0.01417466253042221
          ],
          [
           0.08654004335403442,
           0.019488869234919548,
           0.03141780570149422,
           -0.0052776760421693325,
           -0.0918445736169815,
           0.40276360511779785,
           0.01749173365533352,
           0.008040557615458965,
           0.001089144148863852,
           -0.04723746329545975,
           0.06397582590579987,
           -0.10812387615442276,
           0.05279776081442833,
           -0.025517087429761887,
           0.04982558637857437,
           -0.0028408649377524853,
           0.01466094795614481,
           0.11853877454996109,
           0.8033957481384277,
           -0.024509374052286148,
           0.044273436069488525,
           0.00249086762778461,
           -0.028846565634012222,
           0.09014376252889633,
           -0.022666318342089653
          ],
          [
           -0.022185498848557472,
           0.16731950640678406,
           -0.043679673224687576,
           -0.029846567660570145,
           -0.08319714665412903,
           -0.000852052413392812,
           0.045803993940353394,
           -0.01981794647872448,
           0.0415453240275383,
           -0.041044943034648895,
           0.005774146877229214,
           -0.0035140994004905224,
           -0.15542422235012054,
           0.0017508286982774734,
           -0.05317110940814018,
           0.02299249917268753,
           0.011824056506156921,
           0.0858367457985878,
           0.07710597664117813,
           -0.1523023396730423,
           0.23251238465309143,
           -0.014410060830414295,
           0.1515129655599594,
           -0.03940396010875702,
           0.05750451236963272
          ],
          [
           -0.023475298658013344,
           0.020720914006233215,
           -0.004104719031602144,
           -0.0715792179107666,
           0.22878408432006836,
           0.12284762412309647,
           -0.10429853945970535,
           -0.5233446359634399,
           0.030215542763471603,
           0.04929475858807564,
           -0.03155064210295677,
           0.025146253407001495,
           -0.0033436862286180258,
           -0.057595618069171906,
           0.01922101154923439,
           0.22231213748455048,
           -0.15451613068580627,
           0.10771981626749039,
           0.027649281546473503,
           0.037849679589271545,
           0.04904712364077568,
           -0.03737853467464447,
           0.259498655796051,
           -0.14622750878334045,
           -0.011473573744297028
          ],
          [
           0.008824986405670643,
           -0.015771079808473587,
           0.237812802195549,
           -0.027802318334579468,
           -0.01839756779372692,
           -0.05782328173518181,
           -0.10164297372102737,
           -0.04411866143345833,
           -0.04349222779273987,
           -0.15347768366336823,
           -0.09078133851289749,
           0.16823895275592804,
           -0.05182690545916557,
           0.2980891168117523,
           -0.05098827928304672,
           -0.032808251678943634,
           -0.043996334075927734,
           -0.08648182451725006,
           0.026968784630298615,
           -0.4518330991268158,
           -0.18634667992591858,
           0.39877063035964966,
           0.07905706763267517,
           -0.04731649532914162,
           -0.01236258540302515
          ],
          [
           0.004053841345012188,
           -0.082596056163311,
           0.023638874292373657,
           0.03038519062101841,
           -0.03958319127559662,
           -0.002442374126985669,
           -0.05204084515571594,
           -0.03452383354306221,
           -0.04318466782569885,
           -0.31242233514785767,
           0.01627586968243122,
           -0.07575737684965134,
           -0.03935067728161812,
           -0.04768487811088562,
           -0.5199831128120422,
           -0.07102624326944351,
           -0.0218790415674448,
           0.07002797722816467,
           0.05175654590129852,
           0.06433920562267303,
           0.014124861918389797,
           -0.19624240696430206,
           -0.07243254780769348,
           0.026978854089975357,
           0.05015255883336067
          ],
          [
           0.10328587144613266,
           0.20918217301368713,
           -0.06263677775859833,
           -0.5711996555328369,
           0.13330145180225372,
           -0.058769162744283676,
           -0.12403024733066559,
           -0.02543400041759014,
           0.05998826399445534,
           1.7587857246398926,
           0.10497520118951797,
           -0.11130867898464203,
           0.01999785378575325,
           0.23800401389598846,
           0.06274815648794174,
           0.15134848654270172,
           0.045151907950639725,
           0.06892044097185135,
           -0.044288210570812225,
           -0.2781212031841278,
           -0.11833211034536362,
           -0.12262067198753357,
           0.010283720679581165,
           -0.008657283149659634,
           0.17910198867321014
          ],
          [
           0.11063358932733536,
           0.33849000930786133,
           0.17799119651317596,
           0.4436802268028259,
           -0.012834102846682072,
           0.026689564809203148,
           0.2622627317905426,
           -0.11764952540397644,
           0.04419222101569176,
           -0.02364775538444519,
           0.04935065284371376,
           0.21170151233673096,
           0.01806572452187538,
           0.0021131085231900215,
           -0.1509549468755722,
           0.21730336546897888,
           0.6142341494560242,
           0.036421459168195724,
           0.27604982256889343,
           -0.3825529217720032,
           0.07523822784423828,
           0.2590249180793762,
           -0.053300630301237106,
           0.05567885562777519,
           0.31392407417297363
          ]
         ]
        }
       ],
       "layout": {
        "coloraxis": {
         "cmid": 0,
         "colorscale": [
          [
           0,
           "rgb(103,0,31)"
          ],
          [
           0.1,
           "rgb(178,24,43)"
          ],
          [
           0.2,
           "rgb(214,96,77)"
          ],
          [
           0.3,
           "rgb(244,165,130)"
          ],
          [
           0.4,
           "rgb(253,219,199)"
          ],
          [
           0.5,
           "rgb(247,247,247)"
          ],
          [
           0.6,
           "rgb(209,229,240)"
          ],
          [
           0.7,
           "rgb(146,197,222)"
          ],
          [
           0.8,
           "rgb(67,147,195)"
          ],
          [
           0.9,
           "rgb(33,102,172)"
          ],
          [
           1,
           "rgb(5,48,97)"
          ]
         ]
        },
        "template": {
         "data": {
          "bar": [
           {
            "error_x": {
             "color": "#2a3f5f"
            },
            "error_y": {
             "color": "#2a3f5f"
            },
            "marker": {
             "line": {
              "color": "#E5ECF6",
              "width": 0.5
             },
             "pattern": {
              "fillmode": "overlay",
              "size": 10,
              "solidity": 0.2
             }
            },
            "type": "bar"
           }
          ],
          "barpolar": [
           {
            "marker": {
             "line": {
              "color": "#E5ECF6",
              "width": 0.5
             },
             "pattern": {
              "fillmode": "overlay",
              "size": 10,
              "solidity": 0.2
             }
            },
            "type": "barpolar"
           }
          ],
          "carpet": [
           {
            "aaxis": {
             "endlinecolor": "#2a3f5f",
             "gridcolor": "white",
             "linecolor": "white",
             "minorgridcolor": "white",
             "startlinecolor": "#2a3f5f"
            },
            "baxis": {
             "endlinecolor": "#2a3f5f",
             "gridcolor": "white",
             "linecolor": "white",
             "minorgridcolor": "white",
             "startlinecolor": "#2a3f5f"
            },
            "type": "carpet"
           }
          ],
          "choropleth": [
           {
            "colorbar": {
             "outlinewidth": 0,
             "ticks": ""
            },
            "type": "choropleth"
           }
          ],
          "contour": [
           {
            "colorbar": {
             "outlinewidth": 0,
             "ticks": ""
            },
            "colorscale": [
             [
              0,
              "#0d0887"
             ],
             [
              0.1111111111111111,
              "#46039f"
             ],
             [
              0.2222222222222222,
              "#7201a8"
             ],
             [
              0.3333333333333333,
              "#9c179e"
             ],
             [
              0.4444444444444444,
              "#bd3786"
             ],
             [
              0.5555555555555556,
              "#d8576b"
             ],
             [
              0.6666666666666666,
              "#ed7953"
             ],
             [
              0.7777777777777778,
              "#fb9f3a"
             ],
             [
              0.8888888888888888,
              "#fdca26"
             ],
             [
              1,
              "#f0f921"
             ]
            ],
            "type": "contour"
           }
          ],
          "contourcarpet": [
           {
            "colorbar": {
             "outlinewidth": 0,
             "ticks": ""
            },
            "type": "contourcarpet"
           }
          ],
          "heatmap": [
           {
            "colorbar": {
             "outlinewidth": 0,
             "ticks": ""
            },
            "colorscale": [
             [
              0,
              "#0d0887"
             ],
             [
              0.1111111111111111,
              "#46039f"
             ],
             [
              0.2222222222222222,
              "#7201a8"
             ],
             [
              0.3333333333333333,
              "#9c179e"
             ],
             [
              0.4444444444444444,
              "#bd3786"
             ],
             [
              0.5555555555555556,
              "#d8576b"
             ],
             [
              0.6666666666666666,
              "#ed7953"
             ],
             [
              0.7777777777777778,
              "#fb9f3a"
             ],
             [
              0.8888888888888888,
              "#fdca26"
             ],
             [
              1,
              "#f0f921"
             ]
            ],
            "type": "heatmap"
           }
          ],
          "heatmapgl": [
           {
            "colorbar": {
             "outlinewidth": 0,
             "ticks": ""
            },
            "colorscale": [
             [
              0,
              "#0d0887"
             ],
             [
              0.1111111111111111,
              "#46039f"
             ],
             [
              0.2222222222222222,
              "#7201a8"
             ],
             [
              0.3333333333333333,
              "#9c179e"
             ],
             [
              0.4444444444444444,
              "#bd3786"
             ],
             [
              0.5555555555555556,
              "#d8576b"
             ],
             [
              0.6666666666666666,
              "#ed7953"
             ],
             [
              0.7777777777777778,
              "#fb9f3a"
             ],
             [
              0.8888888888888888,
              "#fdca26"
             ],
             [
              1,
              "#f0f921"
             ]
            ],
            "type": "heatmapgl"
           }
          ],
          "histogram": [
           {
            "marker": {
             "pattern": {
              "fillmode": "overlay",
              "size": 10,
              "solidity": 0.2
             }
            },
            "type": "histogram"
           }
          ],
          "histogram2d": [
           {
            "colorbar": {
             "outlinewidth": 0,
             "ticks": ""
            },
            "colorscale": [
             [
              0,
              "#0d0887"
             ],
             [
              0.1111111111111111,
              "#46039f"
             ],
             [
              0.2222222222222222,
              "#7201a8"
             ],
             [
              0.3333333333333333,
              "#9c179e"
             ],
             [
              0.4444444444444444,
              "#bd3786"
             ],
             [
              0.5555555555555556,
              "#d8576b"
             ],
             [
              0.6666666666666666,
              "#ed7953"
             ],
             [
              0.7777777777777778,
              "#fb9f3a"
             ],
             [
              0.8888888888888888,
              "#fdca26"
             ],
             [
              1,
              "#f0f921"
             ]
            ],
            "type": "histogram2d"
           }
          ],
          "histogram2dcontour": [
           {
            "colorbar": {
             "outlinewidth": 0,
             "ticks": ""
            },
            "colorscale": [
             [
              0,
              "#0d0887"
             ],
             [
              0.1111111111111111,
              "#46039f"
             ],
             [
              0.2222222222222222,
              "#7201a8"
             ],
             [
              0.3333333333333333,
              "#9c179e"
             ],
             [
              0.4444444444444444,
              "#bd3786"
             ],
             [
              0.5555555555555556,
              "#d8576b"
             ],
             [
              0.6666666666666666,
              "#ed7953"
             ],
             [
              0.7777777777777778,
              "#fb9f3a"
             ],
             [
              0.8888888888888888,
              "#fdca26"
             ],
             [
              1,
              "#f0f921"
             ]
            ],
            "type": "histogram2dcontour"
           }
          ],
          "mesh3d": [
           {
            "colorbar": {
             "outlinewidth": 0,
             "ticks": ""
            },
            "type": "mesh3d"
           }
          ],
          "parcoords": [
           {
            "line": {
             "colorbar": {
              "outlinewidth": 0,
              "ticks": ""
             }
            },
            "type": "parcoords"
           }
          ],
          "pie": [
           {
            "automargin": true,
            "type": "pie"
           }
          ],
          "scatter": [
           {
            "fillpattern": {
             "fillmode": "overlay",
             "size": 10,
             "solidity": 0.2
            },
            "type": "scatter"
           }
          ],
          "scatter3d": [
           {
            "line": {
             "colorbar": {
              "outlinewidth": 0,
              "ticks": ""
             }
            },
            "marker": {
             "colorbar": {
              "outlinewidth": 0,
              "ticks": ""
             }
            },
            "type": "scatter3d"
           }
          ],
          "scattercarpet": [
           {
            "marker": {
             "colorbar": {
              "outlinewidth": 0,
              "ticks": ""
             }
            },
            "type": "scattercarpet"
           }
          ],
          "scattergeo": [
           {
            "marker": {
             "colorbar": {
              "outlinewidth": 0,
              "ticks": ""
             }
            },
            "type": "scattergeo"
           }
          ],
          "scattergl": [
           {
            "marker": {
             "colorbar": {
              "outlinewidth": 0,
              "ticks": ""
             }
            },
            "type": "scattergl"
           }
          ],
          "scattermapbox": [
           {
            "marker": {
             "colorbar": {
              "outlinewidth": 0,
              "ticks": ""
             }
            },
            "type": "scattermapbox"
           }
          ],
          "scatterpolar": [
           {
            "marker": {
             "colorbar": {
              "outlinewidth": 0,
              "ticks": ""
             }
            },
            "type": "scatterpolar"
           }
          ],
          "scatterpolargl": [
           {
            "marker": {
             "colorbar": {
              "outlinewidth": 0,
              "ticks": ""
             }
            },
            "type": "scatterpolargl"
           }
          ],
          "scatterternary": [
           {
            "marker": {
             "colorbar": {
              "outlinewidth": 0,
              "ticks": ""
             }
            },
            "type": "scatterternary"
           }
          ],
          "surface": [
           {
            "colorbar": {
             "outlinewidth": 0,
             "ticks": ""
            },
            "colorscale": [
             [
              0,
              "#0d0887"
             ],
             [
              0.1111111111111111,
              "#46039f"
             ],
             [
              0.2222222222222222,
              "#7201a8"
             ],
             [
              0.3333333333333333,
              "#9c179e"
             ],
             [
              0.4444444444444444,
              "#bd3786"
             ],
             [
              0.5555555555555556,
              "#d8576b"
             ],
             [
              0.6666666666666666,
              "#ed7953"
             ],
             [
              0.7777777777777778,
              "#fb9f3a"
             ],
             [
              0.8888888888888888,
              "#fdca26"
             ],
             [
              1,
              "#f0f921"
             ]
            ],
            "type": "surface"
           }
          ],
          "table": [
           {
            "cells": {
             "fill": {
              "color": "#EBF0F8"
             },
             "line": {
              "color": "white"
             }
            },
            "header": {
             "fill": {
              "color": "#C8D4E3"
             },
             "line": {
              "color": "white"
             }
            },
            "type": "table"
           }
          ]
         },
         "layout": {
          "annotationdefaults": {
           "arrowcolor": "#2a3f5f",
           "arrowhead": 0,
           "arrowwidth": 1
          },
          "autotypenumbers": "strict",
          "coloraxis": {
           "colorbar": {
            "outlinewidth": 0,
            "ticks": ""
           }
          },
          "colorscale": {
           "diverging": [
            [
             0,
             "#8e0152"
            ],
            [
             0.1,
             "#c51b7d"
            ],
            [
             0.2,
             "#de77ae"
            ],
            [
             0.3,
             "#f1b6da"
            ],
            [
             0.4,
             "#fde0ef"
            ],
            [
             0.5,
             "#f7f7f7"
            ],
            [
             0.6,
             "#e6f5d0"
            ],
            [
             0.7,
             "#b8e186"
            ],
            [
             0.8,
             "#7fbc41"
            ],
            [
             0.9,
             "#4d9221"
            ],
            [
             1,
             "#276419"
            ]
           ],
           "sequential": [
            [
             0,
             "#0d0887"
            ],
            [
             0.1111111111111111,
             "#46039f"
            ],
            [
             0.2222222222222222,
             "#7201a8"
            ],
            [
             0.3333333333333333,
             "#9c179e"
            ],
            [
             0.4444444444444444,
             "#bd3786"
            ],
            [
             0.5555555555555556,
             "#d8576b"
            ],
            [
             0.6666666666666666,
             "#ed7953"
            ],
            [
             0.7777777777777778,
             "#fb9f3a"
            ],
            [
             0.8888888888888888,
             "#fdca26"
            ],
            [
             1,
             "#f0f921"
            ]
           ],
           "sequentialminus": [
            [
             0,
             "#0d0887"
            ],
            [
             0.1111111111111111,
             "#46039f"
            ],
            [
             0.2222222222222222,
             "#7201a8"
            ],
            [
             0.3333333333333333,
             "#9c179e"
            ],
            [
             0.4444444444444444,
             "#bd3786"
            ],
            [
             0.5555555555555556,
             "#d8576b"
            ],
            [
             0.6666666666666666,
             "#ed7953"
            ],
            [
             0.7777777777777778,
             "#fb9f3a"
            ],
            [
             0.8888888888888888,
             "#fdca26"
            ],
            [
             1,
             "#f0f921"
            ]
           ]
          },
          "colorway": [
           "#636efa",
           "#EF553B",
           "#00cc96",
           "#ab63fa",
           "#FFA15A",
           "#19d3f3",
           "#FF6692",
           "#B6E880",
           "#FF97FF",
           "#FECB52"
          ],
          "font": {
           "color": "#2a3f5f"
          },
          "geo": {
           "bgcolor": "white",
           "lakecolor": "white",
           "landcolor": "#E5ECF6",
           "showlakes": true,
           "showland": true,
           "subunitcolor": "white"
          },
          "hoverlabel": {
           "align": "left"
          },
          "hovermode": "closest",
          "mapbox": {
           "style": "light"
          },
          "paper_bgcolor": "white",
          "plot_bgcolor": "#E5ECF6",
          "polar": {
           "angularaxis": {
            "gridcolor": "white",
            "linecolor": "white",
            "ticks": ""
           },
           "bgcolor": "#E5ECF6",
           "radialaxis": {
            "gridcolor": "white",
            "linecolor": "white",
            "ticks": ""
           }
          },
          "scene": {
           "xaxis": {
            "backgroundcolor": "#E5ECF6",
            "gridcolor": "white",
            "gridwidth": 2,
            "linecolor": "white",
            "showbackground": true,
            "ticks": "",
            "zerolinecolor": "white"
           },
           "yaxis": {
            "backgroundcolor": "#E5ECF6",
            "gridcolor": "white",
            "gridwidth": 2,
            "linecolor": "white",
            "showbackground": true,
            "ticks": "",
            "zerolinecolor": "white"
           },
           "zaxis": {
            "backgroundcolor": "#E5ECF6",
            "gridcolor": "white",
            "gridwidth": 2,
            "linecolor": "white",
            "showbackground": true,
            "ticks": "",
            "zerolinecolor": "white"
           }
          },
          "shapedefaults": {
           "line": {
            "color": "#2a3f5f"
           }
          },
          "ternary": {
           "aaxis": {
            "gridcolor": "white",
            "linecolor": "white",
            "ticks": ""
           },
           "baxis": {
            "gridcolor": "white",
            "linecolor": "white",
            "ticks": ""
           },
           "bgcolor": "#E5ECF6",
           "caxis": {
            "gridcolor": "white",
            "linecolor": "white",
            "ticks": ""
           }
          },
          "title": {
           "x": 0.05
          },
          "xaxis": {
           "automargin": true,
           "gridcolor": "white",
           "linecolor": "white",
           "ticks": "",
           "title": {
            "standoff": 15
           },
           "zerolinecolor": "white",
           "zerolinewidth": 2
          },
          "yaxis": {
           "automargin": true,
           "gridcolor": "white",
           "linecolor": "white",
           "ticks": "",
           "title": {
            "standoff": 15
           },
           "zerolinecolor": "white",
           "zerolinewidth": 2
          }
         }
        },
        "title": {
         "text": "Attributions for each head"
        },
        "xaxis": {
         "anchor": "y",
         "domain": [
          0,
          1
         ]
        },
        "yaxis": {
         "anchor": "x",
         "autorange": true,
         "domain": [
          0,
          1
         ]
        }
       }
      },
      "text/html": [
       "<div>                            <div id=\"e4731662-07db-42fe-85a4-e9e2b884d397\" class=\"plotly-graph-div\" style=\"height:525px; width:100%;\"></div>            <script type=\"text/javascript\">                require([\"plotly\"], function(Plotly) {                    window.PLOTLYENV=window.PLOTLYENV || {};                                    if (document.getElementById(\"e4731662-07db-42fe-85a4-e9e2b884d397\")) {                    Plotly.newPlot(                        \"e4731662-07db-42fe-85a4-e9e2b884d397\",                        [{\"coloraxis\":\"coloraxis\",\"name\":\"0\",\"z\":[[0.005148278083652258,0.006724423263221979,0.003909691236913204,0.00165845500305295,-0.001731328433379531,-0.00042884130380116403,0.0021511041559278965,0.0013460377231240273,0.004203664604574442,0.003176432801410556,-0.004612444434314966,-0.0035828654654324055,0.007114745210856199,-0.008973750285804272,-0.0011552802752703428,0.0022237952798604965,-0.003759685903787613,0.0020664031617343426,0.004906598944216967,-0.0003737294755410403,0.00290562747977674,0.01280946284532547,0.012869655154645443,0.026207802817225456,-0.006553290411829948],[-0.026657409965991974,0.01765349693596363,-0.03824937343597412,-0.11186713725328445,0.07524566352367401,-0.003716263687238097,0.023348229005932808,0.15274040400981903,0.012400589883327484,0.2129463106393814,0.11838129162788391,0.054104678332805634,-0.07013007253408432,0.10475368052721024,-0.14838801324367523,-0.3331202268600464,-0.037217456847429276,-0.10098621249198914,0.03796565160155296,-0.07559040933847427,-0.00019459101895336062,0.02313097193837166,-0.17069344222545624,-0.017886746674776077,-0.12767058610916138],[0.16627919673919678,-0.014652319252490997,-0.06194791570305824,0.037269335240125656,0.08619219809770584,-0.15176954865455627,-0.1147729903459549,-0.000858222774695605,0.24830582737922668,-0.01340804249048233,0.026053637266159058,-0.2722005844116211,0.10846693813800812,0.10541336983442307,0.031571660190820694,0.039128053933382034,-0.1000075712800026,-0.1670912802219391,0.0966474786400795,-0.6252715587615967,0.03706236928701401,-0.039899080991744995,0.05422961711883545,0.02808689884841442,-0.07919511944055557],[0.12387852370738983,0.06065996736288071,-0.012762862257659435,-0.13497336208820343,-0.0023158197291195393,-0.21935105323791504,-0.00286735687404871,-0.14851799607276917,0.07427511364221573,0.012191147543489933,0.016076935455203056,-0.048804428428411484,0.10540102422237396,-0.06527308374643326,0.006023979280143976,-0.10794942826032639,0.13862529397010803,0.028695102781057358,-0.2543874979019165,-0.07032037526369095,-0.026348574087023735,0.07972836494445801,-0.03708675876259804,0.2390749752521515,-0.07533806562423706],[-0.19164356589317322,0.19837822020053864,0.1688360571861267,0.026411984115839005,0.32334867119789124,0.027430104091763496,-0.12026052922010422,0.05325263366103172,-0.19741325080394745,-0.11943108588457108,0.027711227536201477,-0.03874912112951279,-0.10479553043842316,-0.3539389371871948,-0.09344696253538132,0.0867692232131958,0.27671170234680176,0.06708009541034698,0.01631813310086727,-0.0009221702930517495,-0.09595368802547455,-0.19284793734550476,-0.03112262673676014,-0.13934920728206635,-0.00811673142015934],[0.22421018779277802,-0.07614627480506897,0.13965223729610443,-0.014406273141503334,0.04957875981926918,0.01718096435070038,0.056501828134059906,0.010186173021793365,0.08971446007490158,0.04206114634871483,-0.02977641485631466,-0.055738840252161026,-0.021868325769901276,0.03500260412693024,-0.018921993672847748,-0.1773800402879715,-0.5065949559211731,0.06465385109186172,-0.2191854566335678,0.033746011555194855,-0.035948365926742554,0.032709453254938126,0.07418868690729141,-0.028627950698137283,0.04264399781823158],[-0.06338434666395187,-0.16395238041877747,-0.1086253747344017,-0.27634668350219727,0.12075356394052505,0.0006513711414299905,0.12346519529819489,-0.0625854879617691,0.1363110989332199,-0.06540221720933914,-0.13196104764938354,0.005109136924147606,-0.030513735488057137,-0.0264129638671875,-0.040836263447999954,-0.03977016359567642,-0.07454804331064224,-0.0801682397723198,0.42966872453689575,-0.061393510550260544,-0.05758907273411751,0.014270135201513767,0.004660562612116337,0.038316547870635986,0.044855836778879166],[0.021625228226184845,-0.15221303701400757,-0.12282110750675201,0.05847807228565216,-0.07521669566631317,-0.20804324746131897,-0.0010601241374388337,0.183633953332901,-0.02114087902009487,0.014480738900601864,-0.013092252425849438,-0.3349151909351349,-0.1692650318145752,0.036799199879169464,0.061163272708654404,0.11318951845169067,-0.04693097248673439,0.08855697512626648,0.09266973286867142,0.026168735697865486,0.012864883057773113,0.17974887788295746,-0.01364478375762701,0.206699401140213,-0.031187355518341064],[-0.07497300207614899,0.019053436815738678,0.019087523221969604,0.022047962993383408,-0.08913091570138931,0.11694903671741486,-0.03661418706178665,0.00354667822830379,-0.03670059144496918,-0.0028889523819088936,-0.01690845936536789,-0.1759352684020996,0.004866924602538347,0.0028856087010353804,-0.04793345928192139,-0.10985538363456726,0.06325281411409378,0.020230088382959366,0.1135651245713234,-0.06363637000322342,0.22206111252307892,0.00964809488505125,0.017565349116921425,0.023106034845113754,-0.05473730340600014],[0.029043374583125114,0.01109581720083952,0.09575765579938889,-0.039427656680345535,0.011662495322525501,-0.1342843621969223,-0.05088208243250847,-0.1616533249616623,-0.053619857877492905,-0.02455751970410347,0.08709277957677841,-0.023333534598350525,0.0035267542116343975,0.07682409137487411,0.028463145717978477,0.028183821588754654,0.022654961794614792,0.020933037623763084,-0.01744045317173004,-0.11216267198324203,-0.04519234970211983,-0.0030497026164084673,0.017326541244983673,0.20693974196910858,0.061370380222797394],[0.18855424225330353,0.06601662188768387,-0.034283347427845,-0.003797239623963833,-0.013095889240503311,0.029483621940016747,0.002096033887937665,0.01782328449189663,-0.014659975655376911,-0.11401993036270142,0.18419182300567627,-0.013566269539296627,0.09538966417312622,-0.00448962114751339,0.040298037230968475,-0.012455036863684654,-0.11031878739595413,-0.05074366182088852,0.03838156908750534,0.09769435971975327,-0.013657143339514732,0.06177713721990585,0.07386472076177597,0.05901063606142998,-0.04655242711305618],[-0.006131947971880436,0.1394205540418625,-0.1875157207250595,-0.17440953850746155,0.18864469230175018,-0.03508526086807251,-0.027534479275345802,0.01641155034303665,-0.09301967173814774,0.1309518963098526,0.039502765983343124,-0.07922214269638062,-0.07513312995433807,0.25676846504211426,-0.027591167017817497,0.0070600626058876514,0.06330206245183945,0.46961280703544617,-0.0523194745182991,0.007573598995804787,0.021848130971193314,-0.04039483889937401,-0.08237705379724503,0.13425207138061523,-0.02861226350069046],[0.026804277673363686,0.02088678441941738,0.07398992776870728,0.082504503428936,0.18016624450683594,-0.02350229024887085,0.0297772828489542,-0.03507783263921738,-0.024625875055789948,0.156698077917099,0.10145145654678345,0.11376404017210007,0.2017851024866104,-0.016523702070116997,-0.24061958491802216,-0.07783454656600952,-0.04412614926695824,0.0076600490137934685,0.14983226358890533,-0.5487017035484314,0.14692141115665436,-0.2643358111381531,0.01674332469701767,-0.05174700915813446,0.0017576352693140507],[0.08024672418832779,-0.053863681852817535,-0.08114957064390182,0.10046674311161041,-0.0071421340107917786,0.061190441250801086,-0.17108194530010223,0.012835663743317127,-0.02161787636578083,0.05332600697875023,0.15494979918003082,-0.021164534613490105,0.0250442735850811,-0.03407202288508415,-0.010083909146487713,-0.04930577054619789,-0.01962563768029213,0.029235433787107468,-0.07200287282466888,0.005190823692828417,-0.5051681399345398,0.1327398121356964,0.304930716753006,-0.1733408421278,-0.10029979795217514],[0.24640057981014252,0.03394901379942894,0.023673543706536293,-0.11267051845788956,-0.09942678362131119,0.03356381878256798,0.18049031496047974,-0.012242701835930347,0.06105855107307434,0.02077762968838215,0.010085813701152802,0.03698021173477173,-0.4290359616279602,-0.12486273795366287,-0.01887127384543419,0.3836919963359833,0.03350580111145973,-0.007482269778847694,0.16077932715415955,-0.015096846967935562,0.0014355611056089401,0.09475817531347275,0.19631701707839966,0.0019688154570758343,-0.10297206044197083],[-0.015429897233843803,0.07054216414690018,0.0047601368278265,-0.04147570580244064,-0.07754287868738174,0.1372341513633728,0.09749637544155121,-0.11908627301454544,0.04160279408097267,-0.06610223650932312,-0.03011207841336727,-0.05518427863717079,-0.08249729126691818,0.05659959465265274,-0.00715517858043313,0.0993611291050911,-0.006700769532471895,0.028077425435185432,0.009050658904016018,-0.36516791582107544,-0.2631130516529083,-0.04802747443318367,-0.07486660778522491,0.009747245348989964,0.12992535531520844],[0.03750864416360855,-0.016278589144349098,-0.22248440980911255,-0.21471552550792694,-0.17931629717350006,-0.32369694113731384,0.020048219710588455,0.11610779911279678,0.07524935901165009,0.08352506905794144,0.002792759332805872,0.1017414852976799,0.047077104449272156,-0.008844423107802868,-0.023980896919965744,0.3861345052719116,0.5368146300315857,0.06231195107102394,0.16811524331569672,0.035612959414720535,-0.08156588673591614,0.016058791428804398,-0.11831586807966232,0.09629083424806595,0.002598318038508296],[0.10633125901222229,0.055833593010902405,-0.058508384972810745,0.06120913475751877,0.0021305466070771217,-0.07801846414804459,-0.07531454414129257,0.08936607837677002,-0.1420983374118805,0.022705158218741417,0.22444544732570648,0.031010063365101814,0.017132846638560295,0.11602245271205902,0.09726959466934204,0.029687313362956047,0.012209467589855194,-0.012376430444419384,0.011835160665214062,-0.008845435455441475,-0.09976311773061752,0.02096778154373169,-0.04750204458832741,-0.23384809494018555,0.0642281323671341],[0.01651260256767273,-0.2444772571325302,0.030792437493801117,0.10604943335056305,0.1792754977941513,-0.1986602544784546,0.3599860966205597,-0.072884202003479,0.1442970335483551,0.02848910726606846,-0.0842147246003151,0.07113247364759445,-0.12432348728179932,0.035924967378377914,0.21045458316802979,0.014899509958922863,-0.08450537919998169,-0.09872908145189285,0.17640091478824615,-0.009026113897562027,-0.057960256934165955,-0.0843961238861084,-0.054601557552814484,-0.03771934285759926,-0.04432708024978638],[0.1032600998878479,0.12621235847473145,0.004578299354761839,-0.008359650149941444,-0.011828100308775902,-0.0707523375749588,-0.014873234555125237,-0.11714134365320206,0.05452512204647064,0.10213050991296768,0.0900360718369484,-0.06489663571119308,0.0526333749294281,0.15348635613918304,-0.108482725918293,-0.15689513087272644,0.22975626587867737,-0.03810213878750801,0.028392741456627846,-0.0834614709019661,0.00737618887796998,-0.042881324887275696,-0.062370382249355316,-0.10039463639259338,-0.5748702883720398],[0.03204067051410675,0.08391552418470383,-0.28632405400276184,0.002449651248753071,0.0036057375837117434,0.05325394123792648,0.07047689706087112,-0.08682537078857422,-0.010578650049865246,0.1170024648308754,0.02337750606238842,-0.06868639588356018,0.13591508567333221,-0.007211453281342983,-0.004293845966458321,-0.02550400048494339,0.21188248693943024,-0.025285905227065086,0.18488135933876038,-0.01907166838645935,-0.24229760468006134,-0.18373586237430573,-0.03941444307565689,0.19366604089736938,-0.016570914536714554],[0.047250017523765564,-0.03387446328997612,0.09855403751134872,0.21138906478881836,0.06317772716283798,-0.12196798622608185,0.26954880356788635,0.029760286211967468,-0.015581087209284306,-0.019605562090873718,0.12968537211418152,0.08483290672302246,-0.08041990548372269,0.08742287009954453,0.02393816038966179,0.14233388006687164,0.026157382875680923,0.15886488556861877,0.03002431057393551,0.5883039236068726,-0.010537673719227314,0.10532978177070618,-0.057215116918087006,-0.02949698641896248,0.05121762678027153],[0.05649837478995323,-0.005569682456552982,-0.40828031301498413,-0.20860059559345245,-0.17647023499011993,-0.09103049337863922,0.03046925738453865,-0.05082431435585022,-0.05910167098045349,0.20120444893836975,0.12214689701795578,0.06890421360731125,-0.09324910491704941,0.03988441452383995,-0.12462303042411804,0.4267118573188782,0.17253723740577698,-0.08762598782777786,0.3795712888240814,-0.034846216440200806,-0.009242227301001549,-0.1197878047823906,0.09778407961130142,0.00873563438653946,0.19026294350624084],[-0.5596153140068054,-0.11655929684638977,-0.032099414616823196,-0.07167993485927582,-0.01926218904554844,0.15913206338882446,0.07848207652568817,0.028611168265342712,0.07592631876468658,-0.26520684361457825,-0.21579892933368683,0.02094755880534649,0.10671240836381912,0.24954672157764435,-0.13160784542560577,-0.017001161351799965,-0.030916105955839157,-0.16607436537742615,-0.08216498792171478,0.436502605676651,0.007575872354209423,-0.032051876187324524,0.029634451493620872,0.006221961695700884,0.015455837361514568],[-0.009808756411075592,-0.4414443075656891,-0.2048720419406891,0.18149466812610626,0.15387596189975739,-0.1282196044921875,0.28563863039016724,-0.2082403153181076,0.6384456157684326,0.07796405255794525,-0.011062131263315678,0.008566826581954956,0.09517043828964233,-0.005304468329995871,0.020521637052297592,-0.45443081855773926,-0.3283247649669647,0.08237224072217941,0.11968964338302612,-0.08192605525255203,0.0407470241189003,-0.14421966671943665,-0.0163896381855011,0.331785649061203,0.07306638360023499],[0.023096241056919098,0.03298003226518631,0.051849231123924255,0.1659681648015976,0.17336060106754303,0.002051694318652153,0.468230664730072,-0.048708345741033554,-0.23788130283355713,0.6198267340660095,0.321778804063797,-0.4351944029331207,-0.01353170070797205,0.06074768677353859,-0.12261950224637985,0.21823042631149292,-0.0720251128077507,-0.2275013029575348,0.12761728465557098,0.019403796643018723,-0.256868839263916,-0.5362191200256348,0.006728433538228273,-0.3561977744102478,0.1063350960612297],[0.011051359586417675,-0.0028314730152487755,-0.04167439416050911,0.167764812707901,0.5536640882492065,-0.0005437892396003008,-0.40862026810646057,0.16647274792194366,-0.3477248251438141,-0.032014962285757065,0.0836993157863617,0.0065846992656588554,-0.06687424331903458,0.0001440935448044911,0.03403279185295105,-0.15802833437919617,0.02812454290688038,0.009545423090457916,0.049132153391838074,-0.19412006437778473,-0.13746529817581177,-0.10378488153219223,0.234269917011261,0.15277808904647827,-0.05951620265841484],[-0.07748115807771683,0.0529959574341774,-0.0018408012110739946,-0.35438069701194763,-0.008718609809875488,-0.03169605880975723,-0.06993719935417175,0.23645703494548798,0.06211107224225998,-0.17559736967086792,0.1572669893503189,0.48551812767982483,-0.07350040227174759,-0.03978902846574783,-0.3816591799259186,0.08460359275341034,-0.17190930247306824,0.06902278959751129,-0.03294580802321434,0.010592379607260227,0.035777006298303604,-0.012228596024215221,0.047857679426670074,0.005011380184441805,-0.30128756165504456],[-0.19436593353748322,-0.15044717490673065,0.06032765656709671,0.20143987238407135,-0.009681962430477142,-0.09973178058862686,0.004131748806685209,-0.21585088968276978,-0.04819882661104202,0.050665564835071564,-0.1443815380334854,0.03155823424458504,-0.0023857909254729748,-0.044043172150850296,-0.05000688508152962,-0.1559937298297882,-0.2970629930496216,0.04377502575516701,-0.46291908621788025,-0.012339153327047825,0.019613614305853844,0.11979328095912933,-0.02855675294995308,0.062310975044965744,0.10155688971281052],[0.01944625936448574,0.03404222056269646,0.12268583476543427,-0.03482719138264656,-0.06550347059965134,0.23074689507484436,0.07547473907470703,-0.0481102429330349,-0.13765716552734375,0.00038161277188919485,0.013949333690106869,0.07583831995725632,0.025539686903357506,0.00872102566063404,0.029572125524282455,0.009916102513670921,0.041862547397613525,0.04573626071214676,-0.24885934591293335,-0.03997381776571274,0.7530443668365479,0.06936585903167725,-0.08873431384563446,-0.20091214776039124,0.00961943157017231],[0.07374825328588486,0.13935425877571106,0.03630506992340088,-0.011259502731263638,-0.037892214953899384,0.005352773703634739,0.12657882273197174,-0.2776004672050476,0.0760241448879242,0.00118831021245569,0.08272604644298553,0.02354656532406807,0.019782356917858124,0.21308225393295288,-0.058123789727687836,0.05614052712917328,-0.01822241209447384,-0.10394715517759323,-0.15494532883167267,0.09984885156154633,-0.18708209693431854,0.20776265859603882,-0.016322072595357895,-0.016780544072389603,-0.01685507409274578],[0.3990444540977478,0.1772608757019043,0.01923339068889618,0.44337892532348633,0.3150242269039154,-0.037556979805231094,-0.022230641916394234,-0.08146990090608597,-0.1464875489473343,-0.046138614416122437,0.0670655220746994,-0.057201139628887177,0.0067877694964408875,0.33293217420578003,0.14387071132659912,-1.5487134456634521,0.3325166702270508,-0.0855727270245552,-0.028647171333432198,-0.09816774725914001,-0.03836144134402275,-0.01655837893486023,0.12648122012615204,-0.019430560991168022,-0.0469173863530159],[-0.028227314352989197,0.3904843330383301,-0.21288995444774628,-0.037841178476810455,-0.8237798810005188,0.036795616149902344,0.07335735857486725,-0.18438301980495453,-0.07369076460599899,0.07962432503700256,0.07176043838262558,0.3451896905899048,-0.055688727647066116,-0.29984334111213684,0.20581713318824768,-0.06578437983989716,0.06675038486719131,-0.08234554529190063,-0.06186721473932266,0.12656821310520172,-0.0008117532124742866,-0.09416920691728592,0.07221274077892303,-0.002956187119707465,-0.2175993025302887],[0.04130928963422775,0.047158289700746536,-0.2827537953853607,-0.11130532622337341,-0.014507405459880829,-0.01936904899775982,0.05036047101020813,-0.08137165009975433,-0.2068326473236084,-0.03729187324643135,-0.057571206241846085,0.03382539004087448,-0.08158624172210693,0.25676512718200684,-0.05375997722148895,-0.08391544222831726,-0.048224449157714844,0.14796362817287445,-0.15142004191875458,0.006976802367717028,0.013422324322164059,-0.03165500611066818,0.059739574790000916,-0.029020730406045914,-0.03557327017188072],[0.006181266158819199,-0.03647296130657196,-0.12959694862365723,0.1526094526052475,-0.29170700907707214,-0.0703272596001625,0.024984097108244896,-0.22765472531318665,0.0230632945895195,-0.012640965171158314,-0.34315526485443115,0.22423315048217773,-0.014078809879720211,-0.12710443139076233,0.07681220024824142,-0.06785688549280167,0.01606331765651703,-0.5443164706230164,0.03455829992890358,0.03190787881612778,0.09505962580442429,-0.0697564110159874,-0.41916024684906006,0.05014684796333313,-0.028138991445302963],[0.005873005837202072,-0.07034684717655182,-0.006300757639110088,0.04988271743059158,0.06939329952001572,0.051138103008270264,-0.03286750242114067,0.07646694034337997,0.013164211064577103,-0.023663191124796867,0.027601344510912895,-0.009270439855754375,0.11367311328649521,-0.021883176639676094,0.000577351194806397,-0.07149966061115265,-0.23061835765838623,0.21585862338542938,-0.029499761760234833,0.5164486765861511,-0.06261036545038223,-0.03407621011137962,0.13414119184017181,0.04779265820980072,0.008809581398963928],[0.012691343203186989,0.0018072468228638172,0.28738757967948914,-0.05202304944396019,0.044380370527505875,0.017599444836378098,0.15190400183200836,-0.011890450492501259,0.1783134788274765,0.051041487604379654,0.05668218061327934,-0.11477130651473999,0.007391970604658127,0.4004153907299042,0.020001202821731567,0.05598178878426552,0.04056626185774803,0.5058186650276184,0.036136917769908905,0.15216638147830963,0.2274785190820694,0.0311716441065073,0.012443553656339645,-0.238001748919487,0.013092086650431156],[-0.7040756344795227,-0.09080488234758377,0.013882143422961235,-0.013104130513966084,-0.022839542478322983,-0.003195873461663723,-0.029103074222803116,0.05335105583071709,0.3633768558502197,-0.04665782302618027,0.01283729262650013,0.08220277726650238,0.10676323622465134,-0.08387540280818939,-0.0006570619298145175,0.02476082742214203,0.04791992902755737,-0.010405649431049824,0.008265473879873753,0.04234234243631363,0.016375407576560974,0.07924915850162506,0.012295925989747047,-0.08035493642091751,0.011853939853608608],[0.05458476021885872,-0.06813105940818787,0.4927879869937897,-0.1716277152299881,-0.06770382821559906,-0.008550083264708519,0.11380511522293091,-0.5983851552009583,0.017593905329704285,0.014197435230016708,0.002310426440089941,0.07932986319065094,0.07914864271879196,0.02507895790040493,0.5028712749481201,-0.02702404372394085,0.14704148471355438,0.0416223518550396,0.10927276313304901,-0.02328464202582836,0.010255612432956696,0.05980316922068596,0.11005011945962906,-0.12124436348676682,0.02585790865123272],[0.12479259073734283,0.018489262089133263,0.011542689055204391,-0.04887326806783676,-0.3349550664424896,0.039511539041996,0.04735178127884865,-0.03885526582598686,0.030952725559473038,0.07542531192302704,0.4908016324043274,-0.10763128846883774,-0.0792565867304802,-0.010719601996243,0.0770404040813446,0.019295183941721916,0.05350860208272934,0.16161192953586578,0.15461795032024384,-0.08817627280950546,0.17893265187740326,0.010828726924955845,-0.0623881034553051,-0.03636784479022026,-0.09559424221515656],[0.008488076739013195,-0.03379487246274948,0.016444744542241096,-0.020488068461418152,-0.03727280721068382,-0.04546505957841873,0.0684238001704216,-0.10584322363138199,0.15928688645362854,-0.014993083663284779,-0.11110220104455948,-0.06641858071088791,0.02444978803396225,0.1577014923095703,-0.008267766796052456,0.19098006188869476,-0.10051648318767548,-0.02634870633482933,0.11217816919088364,0.08756233006715775,0.1242208257317543,-0.0027804593555629253,0.5765639543533325,-0.2543204426765442,-0.01417466253042221],[0.08654004335403442,0.019488869234919548,0.03141780570149422,-0.0052776760421693325,-0.0918445736169815,0.40276360511779785,0.01749173365533352,0.008040557615458965,0.001089144148863852,-0.04723746329545975,0.06397582590579987,-0.10812387615442276,0.05279776081442833,-0.025517087429761887,0.04982558637857437,-0.0028408649377524853,0.01466094795614481,0.11853877454996109,0.8033957481384277,-0.024509374052286148,0.044273436069488525,0.00249086762778461,-0.028846565634012222,0.09014376252889633,-0.022666318342089653],[-0.022185498848557472,0.16731950640678406,-0.043679673224687576,-0.029846567660570145,-0.08319714665412903,-0.000852052413392812,0.045803993940353394,-0.01981794647872448,0.0415453240275383,-0.041044943034648895,0.005774146877229214,-0.0035140994004905224,-0.15542422235012054,0.0017508286982774734,-0.05317110940814018,0.02299249917268753,0.011824056506156921,0.0858367457985878,0.07710597664117813,-0.1523023396730423,0.23251238465309143,-0.014410060830414295,0.1515129655599594,-0.03940396010875702,0.05750451236963272],[-0.023475298658013344,0.020720914006233215,-0.004104719031602144,-0.0715792179107666,0.22878408432006836,0.12284762412309647,-0.10429853945970535,-0.5233446359634399,0.030215542763471603,0.04929475858807564,-0.03155064210295677,0.025146253407001495,-0.0033436862286180258,-0.057595618069171906,0.01922101154923439,0.22231213748455048,-0.15451613068580627,0.10771981626749039,0.027649281546473503,0.037849679589271545,0.04904712364077568,-0.03737853467464447,0.259498655796051,-0.14622750878334045,-0.011473573744297028],[0.008824986405670643,-0.015771079808473587,0.237812802195549,-0.027802318334579468,-0.01839756779372692,-0.05782328173518181,-0.10164297372102737,-0.04411866143345833,-0.04349222779273987,-0.15347768366336823,-0.09078133851289749,0.16823895275592804,-0.05182690545916557,0.2980891168117523,-0.05098827928304672,-0.032808251678943634,-0.043996334075927734,-0.08648182451725006,0.026968784630298615,-0.4518330991268158,-0.18634667992591858,0.39877063035964966,0.07905706763267517,-0.04731649532914162,-0.01236258540302515],[0.004053841345012188,-0.082596056163311,0.023638874292373657,0.03038519062101841,-0.03958319127559662,-0.002442374126985669,-0.05204084515571594,-0.03452383354306221,-0.04318466782569885,-0.31242233514785767,0.01627586968243122,-0.07575737684965134,-0.03935067728161812,-0.04768487811088562,-0.5199831128120422,-0.07102624326944351,-0.0218790415674448,0.07002797722816467,0.05175654590129852,0.06433920562267303,0.014124861918389797,-0.19624240696430206,-0.07243254780769348,0.026978854089975357,0.05015255883336067],[0.10328587144613266,0.20918217301368713,-0.06263677775859833,-0.5711996555328369,0.13330145180225372,-0.058769162744283676,-0.12403024733066559,-0.02543400041759014,0.05998826399445534,1.7587857246398926,0.10497520118951797,-0.11130867898464203,0.01999785378575325,0.23800401389598846,0.06274815648794174,0.15134848654270172,0.045151907950639725,0.06892044097185135,-0.044288210570812225,-0.2781212031841278,-0.11833211034536362,-0.12262067198753357,0.010283720679581165,-0.008657283149659634,0.17910198867321014],[0.11063358932733536,0.33849000930786133,0.17799119651317596,0.4436802268028259,-0.012834102846682072,0.026689564809203148,0.2622627317905426,-0.11764952540397644,0.04419222101569176,-0.02364775538444519,0.04935065284371376,0.21170151233673096,0.01806572452187538,0.0021131085231900215,-0.1509549468755722,0.21730336546897888,0.6142341494560242,0.036421459168195724,0.27604982256889343,-0.3825529217720032,0.07523822784423828,0.2590249180793762,-0.053300630301237106,0.05567885562777519,0.31392407417297363]],\"type\":\"heatmap\",\"xaxis\":\"x\",\"yaxis\":\"y\",\"hovertemplate\":\"x: %{x}<br>y: %{y}<br>color: %{z}<extra></extra>\"}],                        {\"template\":{\"data\":{\"histogram2dcontour\":[{\"type\":\"histogram2dcontour\",\"colorbar\":{\"outlinewidth\":0,\"ticks\":\"\"},\"colorscale\":[[0.0,\"#0d0887\"],[0.1111111111111111,\"#46039f\"],[0.2222222222222222,\"#7201a8\"],[0.3333333333333333,\"#9c179e\"],[0.4444444444444444,\"#bd3786\"],[0.5555555555555556,\"#d8576b\"],[0.6666666666666666,\"#ed7953\"],[0.7777777777777778,\"#fb9f3a\"],[0.8888888888888888,\"#fdca26\"],[1.0,\"#f0f921\"]]}],\"choropleth\":[{\"type\":\"choropleth\",\"colorbar\":{\"outlinewidth\":0,\"ticks\":\"\"}}],\"histogram2d\":[{\"type\":\"histogram2d\",\"colorbar\":{\"outlinewidth\":0,\"ticks\":\"\"},\"colorscale\":[[0.0,\"#0d0887\"],[0.1111111111111111,\"#46039f\"],[0.2222222222222222,\"#7201a8\"],[0.3333333333333333,\"#9c179e\"],[0.4444444444444444,\"#bd3786\"],[0.5555555555555556,\"#d8576b\"],[0.6666666666666666,\"#ed7953\"],[0.7777777777777778,\"#fb9f3a\"],[0.8888888888888888,\"#fdca26\"],[1.0,\"#f0f921\"]]}],\"heatmap\":[{\"type\":\"heatmap\",\"colorbar\":{\"outlinewidth\":0,\"ticks\":\"\"},\"colorscale\":[[0.0,\"#0d0887\"],[0.1111111111111111,\"#46039f\"],[0.2222222222222222,\"#7201a8\"],[0.3333333333333333,\"#9c179e\"],[0.4444444444444444,\"#bd3786\"],[0.5555555555555556,\"#d8576b\"],[0.6666666666666666,\"#ed7953\"],[0.7777777777777778,\"#fb9f3a\"],[0.8888888888888888,\"#fdca26\"],[1.0,\"#f0f921\"]]}],\"heatmapgl\":[{\"type\":\"heatmapgl\",\"colorbar\":{\"outlinewidth\":0,\"ticks\":\"\"},\"colorscale\":[[0.0,\"#0d0887\"],[0.1111111111111111,\"#46039f\"],[0.2222222222222222,\"#7201a8\"],[0.3333333333333333,\"#9c179e\"],[0.4444444444444444,\"#bd3786\"],[0.5555555555555556,\"#d8576b\"],[0.6666666666666666,\"#ed7953\"],[0.7777777777777778,\"#fb9f3a\"],[0.8888888888888888,\"#fdca26\"],[1.0,\"#f0f921\"]]}],\"contourcarpet\":[{\"type\":\"contourcarpet\",\"colorbar\":{\"outlinewidth\":0,\"ticks\":\"\"}}],\"contour\":[{\"type\":\"contour\",\"colorbar\":{\"outlinewidth\":0,\"ticks\":\"\"},\"colorscale\":[[0.0,\"#0d0887\"],[0.1111111111111111,\"#46039f\"],[0.2222222222222222,\"#7201a8\"],[0.3333333333333333,\"#9c179e\"],[0.4444444444444444,\"#bd3786\"],[0.5555555555555556,\"#d8576b\"],[0.6666666666666666,\"#ed7953\"],[0.7777777777777778,\"#fb9f3a\"],[0.8888888888888888,\"#fdca26\"],[1.0,\"#f0f921\"]]}],\"surface\":[{\"type\":\"surface\",\"colorbar\":{\"outlinewidth\":0,\"ticks\":\"\"},\"colorscale\":[[0.0,\"#0d0887\"],[0.1111111111111111,\"#46039f\"],[0.2222222222222222,\"#7201a8\"],[0.3333333333333333,\"#9c179e\"],[0.4444444444444444,\"#bd3786\"],[0.5555555555555556,\"#d8576b\"],[0.6666666666666666,\"#ed7953\"],[0.7777777777777778,\"#fb9f3a\"],[0.8888888888888888,\"#fdca26\"],[1.0,\"#f0f921\"]]}],\"mesh3d\":[{\"type\":\"mesh3d\",\"colorbar\":{\"outlinewidth\":0,\"ticks\":\"\"}}],\"scatter\":[{\"fillpattern\":{\"fillmode\":\"overlay\",\"size\":10,\"solidity\":0.2},\"type\":\"scatter\"}],\"parcoords\":[{\"type\":\"parcoords\",\"line\":{\"colorbar\":{\"outlinewidth\":0,\"ticks\":\"\"}}}],\"scatterpolargl\":[{\"type\":\"scatterpolargl\",\"marker\":{\"colorbar\":{\"outlinewidth\":0,\"ticks\":\"\"}}}],\"bar\":[{\"error_x\":{\"color\":\"#2a3f5f\"},\"error_y\":{\"color\":\"#2a3f5f\"},\"marker\":{\"line\":{\"color\":\"#E5ECF6\",\"width\":0.5},\"pattern\":{\"fillmode\":\"overlay\",\"size\":10,\"solidity\":0.2}},\"type\":\"bar\"}],\"scattergeo\":[{\"type\":\"scattergeo\",\"marker\":{\"colorbar\":{\"outlinewidth\":0,\"ticks\":\"\"}}}],\"scatterpolar\":[{\"type\":\"scatterpolar\",\"marker\":{\"colorbar\":{\"outlinewidth\":0,\"ticks\":\"\"}}}],\"histogram\":[{\"marker\":{\"pattern\":{\"fillmode\":\"overlay\",\"size\":10,\"solidity\":0.2}},\"type\":\"histogram\"}],\"scattergl\":[{\"type\":\"scattergl\",\"marker\":{\"colorbar\":{\"outlinewidth\":0,\"ticks\":\"\"}}}],\"scatter3d\":[{\"type\":\"scatter3d\",\"line\":{\"colorbar\":{\"outlinewidth\":0,\"ticks\":\"\"}},\"marker\":{\"colorbar\":{\"outlinewidth\":0,\"ticks\":\"\"}}}],\"scattermapbox\":[{\"type\":\"scattermapbox\",\"marker\":{\"colorbar\":{\"outlinewidth\":0,\"ticks\":\"\"}}}],\"scatterternary\":[{\"type\":\"scatterternary\",\"marker\":{\"colorbar\":{\"outlinewidth\":0,\"ticks\":\"\"}}}],\"scattercarpet\":[{\"type\":\"scattercarpet\",\"marker\":{\"colorbar\":{\"outlinewidth\":0,\"ticks\":\"\"}}}],\"carpet\":[{\"aaxis\":{\"endlinecolor\":\"#2a3f5f\",\"gridcolor\":\"white\",\"linecolor\":\"white\",\"minorgridcolor\":\"white\",\"startlinecolor\":\"#2a3f5f\"},\"baxis\":{\"endlinecolor\":\"#2a3f5f\",\"gridcolor\":\"white\",\"linecolor\":\"white\",\"minorgridcolor\":\"white\",\"startlinecolor\":\"#2a3f5f\"},\"type\":\"carpet\"}],\"table\":[{\"cells\":{\"fill\":{\"color\":\"#EBF0F8\"},\"line\":{\"color\":\"white\"}},\"header\":{\"fill\":{\"color\":\"#C8D4E3\"},\"line\":{\"color\":\"white\"}},\"type\":\"table\"}],\"barpolar\":[{\"marker\":{\"line\":{\"color\":\"#E5ECF6\",\"width\":0.5},\"pattern\":{\"fillmode\":\"overlay\",\"size\":10,\"solidity\":0.2}},\"type\":\"barpolar\"}],\"pie\":[{\"automargin\":true,\"type\":\"pie\"}]},\"layout\":{\"autotypenumbers\":\"strict\",\"colorway\":[\"#636efa\",\"#EF553B\",\"#00cc96\",\"#ab63fa\",\"#FFA15A\",\"#19d3f3\",\"#FF6692\",\"#B6E880\",\"#FF97FF\",\"#FECB52\"],\"font\":{\"color\":\"#2a3f5f\"},\"hovermode\":\"closest\",\"hoverlabel\":{\"align\":\"left\"},\"paper_bgcolor\":\"white\",\"plot_bgcolor\":\"#E5ECF6\",\"polar\":{\"bgcolor\":\"#E5ECF6\",\"angularaxis\":{\"gridcolor\":\"white\",\"linecolor\":\"white\",\"ticks\":\"\"},\"radialaxis\":{\"gridcolor\":\"white\",\"linecolor\":\"white\",\"ticks\":\"\"}},\"ternary\":{\"bgcolor\":\"#E5ECF6\",\"aaxis\":{\"gridcolor\":\"white\",\"linecolor\":\"white\",\"ticks\":\"\"},\"baxis\":{\"gridcolor\":\"white\",\"linecolor\":\"white\",\"ticks\":\"\"},\"caxis\":{\"gridcolor\":\"white\",\"linecolor\":\"white\",\"ticks\":\"\"}},\"coloraxis\":{\"colorbar\":{\"outlinewidth\":0,\"ticks\":\"\"}},\"colorscale\":{\"sequential\":[[0.0,\"#0d0887\"],[0.1111111111111111,\"#46039f\"],[0.2222222222222222,\"#7201a8\"],[0.3333333333333333,\"#9c179e\"],[0.4444444444444444,\"#bd3786\"],[0.5555555555555556,\"#d8576b\"],[0.6666666666666666,\"#ed7953\"],[0.7777777777777778,\"#fb9f3a\"],[0.8888888888888888,\"#fdca26\"],[1.0,\"#f0f921\"]],\"sequentialminus\":[[0.0,\"#0d0887\"],[0.1111111111111111,\"#46039f\"],[0.2222222222222222,\"#7201a8\"],[0.3333333333333333,\"#9c179e\"],[0.4444444444444444,\"#bd3786\"],[0.5555555555555556,\"#d8576b\"],[0.6666666666666666,\"#ed7953\"],[0.7777777777777778,\"#fb9f3a\"],[0.8888888888888888,\"#fdca26\"],[1.0,\"#f0f921\"]],\"diverging\":[[0,\"#8e0152\"],[0.1,\"#c51b7d\"],[0.2,\"#de77ae\"],[0.3,\"#f1b6da\"],[0.4,\"#fde0ef\"],[0.5,\"#f7f7f7\"],[0.6,\"#e6f5d0\"],[0.7,\"#b8e186\"],[0.8,\"#7fbc41\"],[0.9,\"#4d9221\"],[1,\"#276419\"]]},\"xaxis\":{\"gridcolor\":\"white\",\"linecolor\":\"white\",\"ticks\":\"\",\"title\":{\"standoff\":15},\"zerolinecolor\":\"white\",\"automargin\":true,\"zerolinewidth\":2},\"yaxis\":{\"gridcolor\":\"white\",\"linecolor\":\"white\",\"ticks\":\"\",\"title\":{\"standoff\":15},\"zerolinecolor\":\"white\",\"automargin\":true,\"zerolinewidth\":2},\"scene\":{\"xaxis\":{\"backgroundcolor\":\"#E5ECF6\",\"gridcolor\":\"white\",\"linecolor\":\"white\",\"showbackground\":true,\"ticks\":\"\",\"zerolinecolor\":\"white\",\"gridwidth\":2},\"yaxis\":{\"backgroundcolor\":\"#E5ECF6\",\"gridcolor\":\"white\",\"linecolor\":\"white\",\"showbackground\":true,\"ticks\":\"\",\"zerolinecolor\":\"white\",\"gridwidth\":2},\"zaxis\":{\"backgroundcolor\":\"#E5ECF6\",\"gridcolor\":\"white\",\"linecolor\":\"white\",\"showbackground\":true,\"ticks\":\"\",\"zerolinecolor\":\"white\",\"gridwidth\":2}},\"shapedefaults\":{\"line\":{\"color\":\"#2a3f5f\"}},\"annotationdefaults\":{\"arrowcolor\":\"#2a3f5f\",\"arrowhead\":0,\"arrowwidth\":1},\"geo\":{\"bgcolor\":\"white\",\"landcolor\":\"#E5ECF6\",\"subunitcolor\":\"white\",\"showland\":true,\"showlakes\":true,\"lakecolor\":\"white\"},\"title\":{\"x\":0.05},\"mapbox\":{\"style\":\"light\"}}},\"xaxis\":{\"anchor\":\"y\",\"domain\":[0.0,1.0]},\"yaxis\":{\"anchor\":\"x\",\"domain\":[0.0,1.0],\"autorange\":true},\"coloraxis\":{\"colorscale\":[[0.0,\"rgb(103,0,31)\"],[0.1,\"rgb(178,24,43)\"],[0.2,\"rgb(214,96,77)\"],[0.3,\"rgb(244,165,130)\"],[0.4,\"rgb(253,219,199)\"],[0.5,\"rgb(247,247,247)\"],[0.6,\"rgb(209,229,240)\"],[0.7,\"rgb(146,197,222)\"],[0.8,\"rgb(67,147,195)\"],[0.9,\"rgb(33,102,172)\"],[1.0,\"rgb(5,48,97)\"]],\"cmid\":0},\"title\":{\"text\":\"Attributions for each head\"}},                        {\"responsive\": true}                    ).then(function(){\n",
       "                            \n",
       "var gd = document.getElementById('e4731662-07db-42fe-85a4-e9e2b884d397');\n",
       "var x = new MutationObserver(function (mutations, observer) {{\n",
       "        var display = window.getComputedStyle(gd).display;\n",
       "        if (!display || display === 'none') {{\n",
       "            console.log([gd, 'removed!']);\n",
       "            Plotly.purge(gd);\n",
       "            observer.disconnect();\n",
       "        }}\n",
       "}});\n",
       "\n",
       "// Listen for the removal of the full notebook cells\n",
       "var notebookContainer = gd.closest('#notebook-container');\n",
       "if (notebookContainer) {{\n",
       "    x.observe(notebookContainer, {childList: true});\n",
       "}}\n",
       "\n",
       "// Listen for the clearing of the current output cell\n",
       "var outputEl = gd.closest('.output');\n",
       "if (outputEl) {{\n",
       "    x.observe(outputEl, {childList: true});\n",
       "}}\n",
       "\n",
       "                        })                };                });            </script>        </div>"
      ]
     },
     "metadata": {},
     "output_type": "display_data"
    }
   ],
   "source": [
    "px.imshow(all_attributions, color_continuous_scale=\"RdBu\", aspect=\"auto\", origin=\"lower\", title=\"Attributions for each head\", color_continuous_midpoint=0)"
   ]
  },
  {
   "cell_type": "code",
   "execution_count": 22,
   "metadata": {},
   "outputs": [],
   "source": [
    "model.set_use_attn_result(True)\n",
    "def get_out_by_components(model: HookedTransformer, train_toks) -> Float[Tensor, \"component batch seq_pos emb\"]:\n",
    "    '''\n",
    "    Computes a tensor of shape [10, dataset_size, seq_pos, emb] representing the output of the model's components when run on the data.\n",
    "    The first dimension is  [embeddings, head 0.0, head 0.1, mlp 0, head 1.0, head 1.1, mlp 1, head 2.0, head 2.1, mlp 2].\n",
    "    The embeddings are the sum of token and positional embeddings.\n",
    "    '''\n",
    "    # SOLUTION\n",
    "    embedding_hook_names = [\"hook_embed\", \"hook_pos_embed\"]\n",
    "    head_hook_names = [utils.get_act_name(\"result\", layer) for layer in range(model.cfg.n_layers)]\n",
    "    mlp_hook_names = [utils.get_act_name(\"mlp_out\", layer) for layer in range(model.cfg.n_layers)]\n",
    "\n",
    "    all_hook_names = embedding_hook_names + head_hook_names + mlp_hook_names\n",
    "    activations = get_activations(model, train_toks, all_hook_names)\n",
    "    # print(activations)\n",
    "\n",
    "    out = (activations[\"hook_embed\"] + activations[\"hook_pos_embed\"]).unsqueeze(0)\n",
    "\n",
    "    for head_hook_name, mlp_hook_name in zip(head_hook_names, mlp_hook_names):\n",
    "        out = t.concat([\n",
    "            out, \n",
    "            einops.rearrange(activations[head_hook_name], \"batch seq heads emb -> heads batch seq emb\"),\n",
    "            activations[mlp_hook_name].unsqueeze(0)\n",
    "        ])\n",
    "\n",
    "    return out"
   ]
  },
  {
   "cell_type": "code",
   "execution_count": 23,
   "metadata": {},
   "outputs": [
    {
     "name": "stdout",
     "output_type": "stream",
     "text": [
      "torch.Size([125, 12, 1024])\n",
      "torch.Size([125, 12, 1024])\n"
     ]
    }
   ],
   "source": [
    "biases = model.b_O.sum(0)\n",
    "out_by_components = get_out_by_components(model, len_12_tokens.int())\n",
    "summed_terms = out_by_components.sum(dim=0) + biases\n",
    "\n",
    "final_ln_input_name, final_ln_output_name = LN_hook_names(model.ln_final)\n",
    "final_ln_input = get_activations(model, len_12_tokens.int(), final_ln_input_name)\n",
    "\n",
    "print(summed_terms.shape)\n",
    "print(final_ln_input.shape)"
   ]
  },
  {
   "cell_type": "code",
   "execution_count": 25,
   "metadata": {},
   "outputs": [
    {
     "ename": "NameError",
     "evalue": "name 'summed_terms' is not defined",
     "output_type": "error",
     "traceback": [
      "\u001b[0;31m---------------------------------------------------------------------------\u001b[0m",
      "\u001b[0;31mNameError\u001b[0m                                 Traceback (most recent call last)",
      "Cell \u001b[0;32mIn[25], line 1\u001b[0m\n\u001b[0;32m----> 1\u001b[0m \u001b[39mprint\u001b[39m(summed_terms\u001b[39m.\u001b[39mnorm())\n\u001b[1;32m      2\u001b[0m \u001b[39mprint\u001b[39m(final_ln_input\u001b[39m.\u001b[39mnorm())\n\u001b[1;32m      3\u001b[0m \u001b[39mprint\u001b[39m((summed_terms\u001b[39m-\u001b[39mfinal_ln_input)\u001b[39m.\u001b[39mnorm())\n",
      "\u001b[0;31mNameError\u001b[0m: name 'summed_terms' is not defined"
     ]
    }
   ],
   "source": [
    "print(summed_terms.norm())\n",
    "print(final_ln_input.norm())\n",
    "print((summed_terms-final_ln_input).norm())\n",
    "print(torch.nn.functional.cosine_similarity(summed_terms[:,-1], final_ln_input[:,-1], dim=-1).mean())"
   ]
  },
  {
   "cell_type": "code",
   "execution_count": null,
   "metadata": {},
   "outputs": [],
   "source": []
  },
  {
   "cell_type": "code",
   "execution_count": 25,
   "metadata": {},
   "outputs": [],
   "source": [
    "# Get output by components, at sequence position 0 (which is used for classification)\n",
    "out_by_components_seq0: Float[Tensor, \"comp batch d_model\"] = get_out_by_components(model, len_12_tokens.int())[:, :, 0, :]\n",
    "# Get the unbalanced direction for tensors being fed into the final layernorm\n",
    "pre_final_ln_dir: Float[Tensor, \"d_model\"] = get_pre_final_ln_dir(model, len_12_tokens.int())\n",
    "# Get the size of the contributions for each component\n",
    "out_by_component_in_unbalanced_dir = einops.einsum(\n",
    "    out_by_components_seq0,\n",
    "    pre_final_ln_dir,\n",
    "    \"comp batch d_model, d_model -> comp batch\"\n",
    ")"
   ]
  },
  {
   "cell_type": "code",
   "execution_count": 28,
   "metadata": {},
   "outputs": [
    {
     "data": {
      "text/plain": [
       "torch.Size([409, 125])"
      ]
     },
     "execution_count": 28,
     "metadata": {},
     "output_type": "execute_result"
    }
   ],
   "source": [
    "out_by_component_in_unbalanced_dir.shape"
   ]
  },
  {
   "cell_type": "code",
   "execution_count": 27,
   "metadata": {},
   "outputs": [
    {
     "ename": "TypeError",
     "evalue": "hists_per_comp() missing 1 required positional argument: 'data'",
     "output_type": "error",
     "traceback": [
      "\u001b[0;31m---------------------------------------------------------------------------\u001b[0m",
      "\u001b[0;31mTypeError\u001b[0m                                 Traceback (most recent call last)",
      "Cell \u001b[0;32mIn[27], line 5\u001b[0m\n\u001b[1;32m      2\u001b[0m \u001b[39mfrom\u001b[39;00m \u001b[39mplotly_utils\u001b[39;00m \u001b[39mimport\u001b[39;00m hist, bar, imshow\n\u001b[1;32m      4\u001b[0m \u001b[39m# out_by_component_in_unbalanced_dir -= out_by_component_in_unbalanced_dir[:, data.isbal].mean(dim=1).unsqueeze(1)\u001b[39;00m\n\u001b[0;32m----> 5\u001b[0m plotly_utils\u001b[39m.\u001b[39;49mhists_per_comp(\n\u001b[1;32m      6\u001b[0m     out_by_component_in_unbalanced_dir\n\u001b[1;32m      7\u001b[0m     \u001b[39m# data\u001b[39;49;00m\n\u001b[1;32m      8\u001b[0m )\n",
      "\u001b[0;31mTypeError\u001b[0m: hists_per_comp() missing 1 required positional argument: 'data'"
     ]
    }
   ],
   "source": [
    "import plotly_utils\n",
    "from plotly_utils import hist, bar, imshow\n",
    "\n",
    "# out_by_component_in_unbalanced_dir -= out_by_component_in_unbalanced_dir[:, data.isbal].mean(dim=1).unsqueeze(1)\n",
    "plotly_utils.hists_per_comp(\n",
    "    out_by_component_in_unbalanced_dir\n",
    "    # data\n",
    ")"
   ]
  },
  {
   "attachments": {},
   "cell_type": "markdown",
   "metadata": {},
   "source": [
    "# Num Incorrect Probing"
   ]
  },
  {
   "cell_type": "code",
   "execution_count": 37,
   "metadata": {},
   "outputs": [],
   "source": [
    "from sklearn.model_selection import train_test_split\n",
    "from einops import repeat\n",
    "from sklearn.linear_model import LogisticRegression\n",
    "from sklearn.metrics import accuracy_score, f1_score, precision_score, recall_score\n",
    "\n",
    "class NumCorrectIncontextProbeDataset():\n",
    "    def __init__(self, capitals_dataset, model, id: str = None, probe_id: str = None, seed = 0):\n",
    "        self.capitals_dataset = capitals_dataset\n",
    "        self.model = model\n",
    "        \n",
    "        if id is not None:\n",
    "            self.attn_head_acts, self.dataset = self.load_acts_and_dataset(id)\n",
    "            self.labels = [sample[\"n_correct\"] for sample in self.dataset]\n",
    "        else:\n",
    "            self.dataset = self.gen_dataset()\n",
    "            self.labels = [sample[\"n_correct\"] for sample in self.dataset]\n",
    "            self.attn_head_acts = []\n",
    "            \n",
    "        if probe_id is not None:\n",
    "            self.probes = torch.load(f\"activations/{probe_id}.pkl\")\n",
    "        \n",
    "        np.random.seed(seed)\n",
    "        torch.manual_seed(seed)        \n",
    "        \n",
    "    def generate_few_shot_prompt_wrong(self, n_few_shot, prohibited_index, prop_wrong = 0):\n",
    "        # Get a list of allowed indices (all indices not in prohibited_indices)\n",
    "        allowed_indices = [i for i in range(len(capitals_dataset)) if i not in [prohibited_index]]\n",
    "\n",
    "        # Ensure n_few_shot is not greater than the size of the dataset\n",
    "        n_few_shot = min(n_few_shot, len(allowed_indices))\n",
    "\n",
    "        # Randomly select n_few_shot indices from the allowed indices without replacement\n",
    "        indices = random.sample(allowed_indices, n_few_shot)\n",
    "\n",
    "        # Generate the few-shot prompt\n",
    "        prompt = \"\"\n",
    "        n_correct = 0\n",
    "        for index in indices:\n",
    "            sample = self.capitals_dataset[index]\n",
    "            \n",
    "            if np.random.rand() < prop_wrong:\n",
    "                allowed_indices = [i for i in range(len(capitals_dataset)) if i not in ([prohibited_index] + [index])]\n",
    "\n",
    "                diff_idx = random.sample(allowed_indices, 1)[0]\n",
    "                            \n",
    "                prompt += f\"{sample['input']} {capitals_dataset[diff_idx]['label']}\\n\"\n",
    "            else:  \n",
    "                prompt += f\"{sample['input']} {sample['label']}\\n\"\n",
    "                n_correct += 1\n",
    "                \n",
    "        return prompt, n_correct\n",
    "    \n",
    "    def gen_dataset(self, n_few_shot: int = 5):\n",
    "        dataset = []\n",
    "        for i in range(len(self.capitals_dataset)):\n",
    "            # Generate a few-shot prompt without the current index\n",
    "            # n_few_shot = np.random.randint(10)\n",
    "            \n",
    "            prop_wrong = np.random.rand()\n",
    "            prompt, n_correct = self.generate_few_shot_prompt_wrong(n_few_shot, prohibited_index = i, prop_wrong = prop_wrong)\n",
    "\n",
    "            # Get the current sample and add the prompt to the 'input'\n",
    "            sample = self.capitals_dataset[i]\n",
    "            sample['input'] = prompt + sample['input']\n",
    "            sample['n_few_shot'] = n_few_shot\n",
    "            sample[\"prop_wrong\"] = prop_wrong\n",
    "            sample['n_correct'] = n_correct\n",
    "        \n",
    "            # Add the sample to the new dataset\n",
    "            dataset.append(sample)\n",
    "        \n",
    "        return dataset\n",
    "        \n",
    "    def gen_attn_head_acts(self, store_acts = True, filepath = \"activations/\", id = None):\n",
    "        for sample in tqdm(self.dataset):\n",
    "            prompt = sample[\"input\"]\n",
    "            label = sample[\"label\"]\n",
    "            \n",
    "            original_logits, cache = self.model.run_with_cache(prompt)\n",
    "\n",
    "            ranked_logits = query_logits(original_logits)\n",
    "            \n",
    "            if is_logits_contain_label(ranked_logits, label):\n",
    "                sample[\"model_correct\"] = 1\n",
    "            else:\n",
    "                sample[\"model_correct\"] = 0\n",
    "                \n",
    "            self.attn_head_acts.append(cache.stack_head_results(layer = -1, pos_slice = -1).squeeze(1))\n",
    "        \n",
    "        if store_acts:\n",
    "            if id is None:\n",
    "                id = np.random.randint(10000)\n",
    "            torch.save(self.attn_head_acts, f'{filepath}{id}_attn_head_acts.pt')\n",
    "            torch.save(self.dataset, f'{filepath}{id}_dataset.pkl')\n",
    "            print(f\"Stored at {id}\")\n",
    "        \n",
    "        return self.attn_head_acts\n",
    "    \n",
    "    def load_acts_and_dataset(self, id, filepath = \"activations/\"):\n",
    "        attn_head_acts = torch.load(f'{filepath}{id}_attn_head_acts.pt')\n",
    "        dataset = torch.load(f'{filepath}{id}_dataset.pkl')\n",
    "\n",
    "        return attn_head_acts, dataset\n",
    "\n",
    "\n",
    "    def get_train_test_split(self, test_ratio = 0.2):\n",
    "        # attn_head_acts_list = [self.attn_head_acts[i] for i in range(self.attn_head_acts.shape[0])]\n",
    "                \n",
    "        labels = [sample[\"n_correct\"] for sample in self.dataset]\n",
    "        \n",
    "        X_train, X_test, y_train, y_test = train_test_split(self.attn_head_acts, labels, test_size=test_ratio)\n",
    "        \n",
    "        X_train = torch.stack(X_train, axis = 0)\n",
    "        X_test = torch.stack(X_test, axis = 0)  \n",
    "        \n",
    "        # y_train = torch.from_numpy(np.array(y_train, dtype = np.float32))\n",
    "        # y_test = torch.from_numpy(np.array(y_test, dtype = np.float32))\n",
    "        # y_train = repeat(y_train, 'b -> b num_attn_heads', num_attn_heads=self.model.cfg.total_heads)\n",
    "        # y_test = repeat(y_test, 'b -> b num_attn_heads', num_attn_heads=self.model.cfg.total_heads)\n",
    "\n",
    "        return X_train.numpy(), X_test.numpy(), np.array(y_train), np.array(y_test)\n",
    "\n",
    "    def train_probes(self, test_ratio = 0.2, save_probes = True, filepath = \"activations/\", id = None):\n",
    "\n",
    "        X_train, X_test, y_train, y_test = self.get_train_test_split(test_ratio = test_ratio)\n",
    "        \n",
    "        all_head_accs = []\n",
    "        probes = []\n",
    "        print(f\"X_train shape: {X_train.shape}, X_test shape: {X_test.shape}, y_train shape: {y_train.shape}, y_test shape: {y_test.shape}\")\n",
    "        \n",
    "        for i in tqdm(range(self.model.cfg.total_heads)):\n",
    "                X_train_head = X_train[:,i,:]\n",
    "                X_test_head = X_test[:,i,:]\n",
    "\n",
    "                clf = LogisticRegression(max_iter=1000, solver=\"saga\", n_jobs=20).fit(X_train_head, y_train)\n",
    "                \n",
    "                y_val_pred = clf.predict(X_test_head)\n",
    "                all_head_accs.append(accuracy_score(y_test, y_val_pred))\n",
    "                \n",
    "                probes.append(clf)\n",
    "\n",
    "        self.probes = probes\n",
    "        \n",
    "        self.all_head_accs_np = np.array(all_head_accs)\n",
    "        \n",
    "        if save_probes:\n",
    "            if id is None:\n",
    "                id = np.random.randint(10000)\n",
    "            torch.save(self.probes, f'{filepath}{id}_probes.pkl')\n",
    "\n",
    "        return self.all_head_accs_np\n",
    "    \n",
    "    def call_probes(self):\n",
    "        labels = [sample[\"n_correct\"] for sample in self.dataset]\n",
    "        total_accs = []\n",
    "        y_preds = []\n",
    "        for i, clf in tqdm(enumerate(self.probes)):\n",
    "            acts = [act[i].numpy() for act in self.attn_head_acts]\n",
    "            y_pred = clf.predict(acts)\n",
    "            \n",
    "            total_accs.append(accuracy_score(labels, y_pred))\n",
    "            y_preds.append(y_pred)\n",
    "        return y_preds, total_accs"
   ]
  },
  {
   "cell_type": "code",
   "execution_count": 39,
   "metadata": {},
   "outputs": [],
   "source": [
    "nin_d = NumCorrectIncontextProbeDataset(capitals_dataset, model, \"gpt2xl_capitals_nind_2\", probe_id = \"saga_probes\")"
   ]
  },
  {
   "cell_type": "code",
   "execution_count": null,
   "metadata": {},
   "outputs": [],
   "source": [
    "# all_head_accs_np = nin_d.train_probes(test_ratio = 0.3, id = \"saga_1000\")"
   ]
  },
  {
   "cell_type": "code",
   "execution_count": null,
   "metadata": {},
   "outputs": [],
   "source": [
    "# Class specific accuracy\n",
    "\n",
    "labels = [sample[\"n_correct\"] for sample in nin_d.dataset]\n",
    "\n",
    "X_train, X_test, y_train, y_test  = nin_d.get_train_test_split(test_ratio = 0.3)\n",
    "class_to_class_acc = {} \n",
    "\n",
    "for i, clf in tqdm(enumerate(nin_d.probes)):\n",
    "    acts = [act[i].numpy() for act in nin_d.attn_head_acts]\n",
    "    y_pred = clf.predict(acts)\n",
    "    \n",
    "    for label, pred in zip(labels, y_pred):\n",
    "        if label not in class_to_class_acc:\n",
    "            class_to_class_acc[label] = 0\n",
    "        \n",
    "        if label == pred:\n",
    "            class_to_class_acc[label] += 1\n",
    "\n",
    "\n",
    "\n"
   ]
  },
  {
   "cell_type": "code",
   "execution_count": 26,
   "metadata": {},
   "outputs": [
    {
     "data": {
      "application/vnd.plotly.v1+json": {
       "config": {
        "plotlyServerURL": "https://plot.ly"
       },
       "data": [
        {
         "coloraxis": "coloraxis",
         "hovertemplate": "N Correct InContext: %{x}<br>N Correct In Context: %{y}<br>color: %{z}<extra></extra>",
         "name": "0",
         "type": "heatmap",
         "xaxis": "x",
         "yaxis": "y",
         "z": [
          [
           0.9999999932448069,
           -0.053320647738291885,
           -0.15203615336184156,
           -0.26487112493933335,
           -0.3098678683695228,
           -0.4196766111986168
          ],
          [
           -0.053320647738291885,
           0.9999999941885471,
           -0.1568444710690528,
           -0.18236142033846894,
           -0.20503989615982088,
           -0.30575433639925903
          ],
          [
           -0.15203615336184156,
           -0.1568444710690528,
           0.9999999956289927,
           -0.239722007708624,
           -0.15427776112240585,
           -0.19395791856455616
          ],
          [
           -0.26487112493933335,
           -0.18236142033846894,
           -0.239722007708624,
           0.9999999982118607,
           -0.17112721954569377,
           -0.054111420835639974
          ],
          [
           -0.3098678683695228,
           -0.20503989615982088,
           -0.15427776112240585,
           -0.17112721954569377,
           0.9999999999006589,
           -0.035304722010235615
          ],
          [
           -0.4196766111986168,
           -0.30575433639925903,
           -0.19395791856455616,
           -0.054111420835639974,
           -0.035304722010235615,
           0.999999996026357
          ]
         ]
        }
       ],
       "layout": {
        "coloraxis": {
         "cmid": 0,
         "colorscale": [
          [
           0,
           "rgb(103,0,31)"
          ],
          [
           0.1,
           "rgb(178,24,43)"
          ],
          [
           0.2,
           "rgb(214,96,77)"
          ],
          [
           0.3,
           "rgb(244,165,130)"
          ],
          [
           0.4,
           "rgb(253,219,199)"
          ],
          [
           0.5,
           "rgb(247,247,247)"
          ],
          [
           0.6,
           "rgb(209,229,240)"
          ],
          [
           0.7,
           "rgb(146,197,222)"
          ],
          [
           0.8,
           "rgb(67,147,195)"
          ],
          [
           0.9,
           "rgb(33,102,172)"
          ],
          [
           1,
           "rgb(5,48,97)"
          ]
         ]
        },
        "template": {
         "data": {
          "bar": [
           {
            "error_x": {
             "color": "#2a3f5f"
            },
            "error_y": {
             "color": "#2a3f5f"
            },
            "marker": {
             "line": {
              "color": "#E5ECF6",
              "width": 0.5
             },
             "pattern": {
              "fillmode": "overlay",
              "size": 10,
              "solidity": 0.2
             }
            },
            "type": "bar"
           }
          ],
          "barpolar": [
           {
            "marker": {
             "line": {
              "color": "#E5ECF6",
              "width": 0.5
             },
             "pattern": {
              "fillmode": "overlay",
              "size": 10,
              "solidity": 0.2
             }
            },
            "type": "barpolar"
           }
          ],
          "carpet": [
           {
            "aaxis": {
             "endlinecolor": "#2a3f5f",
             "gridcolor": "white",
             "linecolor": "white",
             "minorgridcolor": "white",
             "startlinecolor": "#2a3f5f"
            },
            "baxis": {
             "endlinecolor": "#2a3f5f",
             "gridcolor": "white",
             "linecolor": "white",
             "minorgridcolor": "white",
             "startlinecolor": "#2a3f5f"
            },
            "type": "carpet"
           }
          ],
          "choropleth": [
           {
            "colorbar": {
             "outlinewidth": 0,
             "ticks": ""
            },
            "type": "choropleth"
           }
          ],
          "contour": [
           {
            "colorbar": {
             "outlinewidth": 0,
             "ticks": ""
            },
            "colorscale": [
             [
              0,
              "#0d0887"
             ],
             [
              0.1111111111111111,
              "#46039f"
             ],
             [
              0.2222222222222222,
              "#7201a8"
             ],
             [
              0.3333333333333333,
              "#9c179e"
             ],
             [
              0.4444444444444444,
              "#bd3786"
             ],
             [
              0.5555555555555556,
              "#d8576b"
             ],
             [
              0.6666666666666666,
              "#ed7953"
             ],
             [
              0.7777777777777778,
              "#fb9f3a"
             ],
             [
              0.8888888888888888,
              "#fdca26"
             ],
             [
              1,
              "#f0f921"
             ]
            ],
            "type": "contour"
           }
          ],
          "contourcarpet": [
           {
            "colorbar": {
             "outlinewidth": 0,
             "ticks": ""
            },
            "type": "contourcarpet"
           }
          ],
          "heatmap": [
           {
            "colorbar": {
             "outlinewidth": 0,
             "ticks": ""
            },
            "colorscale": [
             [
              0,
              "#0d0887"
             ],
             [
              0.1111111111111111,
              "#46039f"
             ],
             [
              0.2222222222222222,
              "#7201a8"
             ],
             [
              0.3333333333333333,
              "#9c179e"
             ],
             [
              0.4444444444444444,
              "#bd3786"
             ],
             [
              0.5555555555555556,
              "#d8576b"
             ],
             [
              0.6666666666666666,
              "#ed7953"
             ],
             [
              0.7777777777777778,
              "#fb9f3a"
             ],
             [
              0.8888888888888888,
              "#fdca26"
             ],
             [
              1,
              "#f0f921"
             ]
            ],
            "type": "heatmap"
           }
          ],
          "heatmapgl": [
           {
            "colorbar": {
             "outlinewidth": 0,
             "ticks": ""
            },
            "colorscale": [
             [
              0,
              "#0d0887"
             ],
             [
              0.1111111111111111,
              "#46039f"
             ],
             [
              0.2222222222222222,
              "#7201a8"
             ],
             [
              0.3333333333333333,
              "#9c179e"
             ],
             [
              0.4444444444444444,
              "#bd3786"
             ],
             [
              0.5555555555555556,
              "#d8576b"
             ],
             [
              0.6666666666666666,
              "#ed7953"
             ],
             [
              0.7777777777777778,
              "#fb9f3a"
             ],
             [
              0.8888888888888888,
              "#fdca26"
             ],
             [
              1,
              "#f0f921"
             ]
            ],
            "type": "heatmapgl"
           }
          ],
          "histogram": [
           {
            "marker": {
             "pattern": {
              "fillmode": "overlay",
              "size": 10,
              "solidity": 0.2
             }
            },
            "type": "histogram"
           }
          ],
          "histogram2d": [
           {
            "colorbar": {
             "outlinewidth": 0,
             "ticks": ""
            },
            "colorscale": [
             [
              0,
              "#0d0887"
             ],
             [
              0.1111111111111111,
              "#46039f"
             ],
             [
              0.2222222222222222,
              "#7201a8"
             ],
             [
              0.3333333333333333,
              "#9c179e"
             ],
             [
              0.4444444444444444,
              "#bd3786"
             ],
             [
              0.5555555555555556,
              "#d8576b"
             ],
             [
              0.6666666666666666,
              "#ed7953"
             ],
             [
              0.7777777777777778,
              "#fb9f3a"
             ],
             [
              0.8888888888888888,
              "#fdca26"
             ],
             [
              1,
              "#f0f921"
             ]
            ],
            "type": "histogram2d"
           }
          ],
          "histogram2dcontour": [
           {
            "colorbar": {
             "outlinewidth": 0,
             "ticks": ""
            },
            "colorscale": [
             [
              0,
              "#0d0887"
             ],
             [
              0.1111111111111111,
              "#46039f"
             ],
             [
              0.2222222222222222,
              "#7201a8"
             ],
             [
              0.3333333333333333,
              "#9c179e"
             ],
             [
              0.4444444444444444,
              "#bd3786"
             ],
             [
              0.5555555555555556,
              "#d8576b"
             ],
             [
              0.6666666666666666,
              "#ed7953"
             ],
             [
              0.7777777777777778,
              "#fb9f3a"
             ],
             [
              0.8888888888888888,
              "#fdca26"
             ],
             [
              1,
              "#f0f921"
             ]
            ],
            "type": "histogram2dcontour"
           }
          ],
          "mesh3d": [
           {
            "colorbar": {
             "outlinewidth": 0,
             "ticks": ""
            },
            "type": "mesh3d"
           }
          ],
          "parcoords": [
           {
            "line": {
             "colorbar": {
              "outlinewidth": 0,
              "ticks": ""
             }
            },
            "type": "parcoords"
           }
          ],
          "pie": [
           {
            "automargin": true,
            "type": "pie"
           }
          ],
          "scatter": [
           {
            "fillpattern": {
             "fillmode": "overlay",
             "size": 10,
             "solidity": 0.2
            },
            "type": "scatter"
           }
          ],
          "scatter3d": [
           {
            "line": {
             "colorbar": {
              "outlinewidth": 0,
              "ticks": ""
             }
            },
            "marker": {
             "colorbar": {
              "outlinewidth": 0,
              "ticks": ""
             }
            },
            "type": "scatter3d"
           }
          ],
          "scattercarpet": [
           {
            "marker": {
             "colorbar": {
              "outlinewidth": 0,
              "ticks": ""
             }
            },
            "type": "scattercarpet"
           }
          ],
          "scattergeo": [
           {
            "marker": {
             "colorbar": {
              "outlinewidth": 0,
              "ticks": ""
             }
            },
            "type": "scattergeo"
           }
          ],
          "scattergl": [
           {
            "marker": {
             "colorbar": {
              "outlinewidth": 0,
              "ticks": ""
             }
            },
            "type": "scattergl"
           }
          ],
          "scattermapbox": [
           {
            "marker": {
             "colorbar": {
              "outlinewidth": 0,
              "ticks": ""
             }
            },
            "type": "scattermapbox"
           }
          ],
          "scatterpolar": [
           {
            "marker": {
             "colorbar": {
              "outlinewidth": 0,
              "ticks": ""
             }
            },
            "type": "scatterpolar"
           }
          ],
          "scatterpolargl": [
           {
            "marker": {
             "colorbar": {
              "outlinewidth": 0,
              "ticks": ""
             }
            },
            "type": "scatterpolargl"
           }
          ],
          "scatterternary": [
           {
            "marker": {
             "colorbar": {
              "outlinewidth": 0,
              "ticks": ""
             }
            },
            "type": "scatterternary"
           }
          ],
          "surface": [
           {
            "colorbar": {
             "outlinewidth": 0,
             "ticks": ""
            },
            "colorscale": [
             [
              0,
              "#0d0887"
             ],
             [
              0.1111111111111111,
              "#46039f"
             ],
             [
              0.2222222222222222,
              "#7201a8"
             ],
             [
              0.3333333333333333,
              "#9c179e"
             ],
             [
              0.4444444444444444,
              "#bd3786"
             ],
             [
              0.5555555555555556,
              "#d8576b"
             ],
             [
              0.6666666666666666,
              "#ed7953"
             ],
             [
              0.7777777777777778,
              "#fb9f3a"
             ],
             [
              0.8888888888888888,
              "#fdca26"
             ],
             [
              1,
              "#f0f921"
             ]
            ],
            "type": "surface"
           }
          ],
          "table": [
           {
            "cells": {
             "fill": {
              "color": "#EBF0F8"
             },
             "line": {
              "color": "white"
             }
            },
            "header": {
             "fill": {
              "color": "#C8D4E3"
             },
             "line": {
              "color": "white"
             }
            },
            "type": "table"
           }
          ]
         },
         "layout": {
          "annotationdefaults": {
           "arrowcolor": "#2a3f5f",
           "arrowhead": 0,
           "arrowwidth": 1
          },
          "autotypenumbers": "strict",
          "coloraxis": {
           "colorbar": {
            "outlinewidth": 0,
            "ticks": ""
           }
          },
          "colorscale": {
           "diverging": [
            [
             0,
             "#8e0152"
            ],
            [
             0.1,
             "#c51b7d"
            ],
            [
             0.2,
             "#de77ae"
            ],
            [
             0.3,
             "#f1b6da"
            ],
            [
             0.4,
             "#fde0ef"
            ],
            [
             0.5,
             "#f7f7f7"
            ],
            [
             0.6,
             "#e6f5d0"
            ],
            [
             0.7,
             "#b8e186"
            ],
            [
             0.8,
             "#7fbc41"
            ],
            [
             0.9,
             "#4d9221"
            ],
            [
             1,
             "#276419"
            ]
           ],
           "sequential": [
            [
             0,
             "#0d0887"
            ],
            [
             0.1111111111111111,
             "#46039f"
            ],
            [
             0.2222222222222222,
             "#7201a8"
            ],
            [
             0.3333333333333333,
             "#9c179e"
            ],
            [
             0.4444444444444444,
             "#bd3786"
            ],
            [
             0.5555555555555556,
             "#d8576b"
            ],
            [
             0.6666666666666666,
             "#ed7953"
            ],
            [
             0.7777777777777778,
             "#fb9f3a"
            ],
            [
             0.8888888888888888,
             "#fdca26"
            ],
            [
             1,
             "#f0f921"
            ]
           ],
           "sequentialminus": [
            [
             0,
             "#0d0887"
            ],
            [
             0.1111111111111111,
             "#46039f"
            ],
            [
             0.2222222222222222,
             "#7201a8"
            ],
            [
             0.3333333333333333,
             "#9c179e"
            ],
            [
             0.4444444444444444,
             "#bd3786"
            ],
            [
             0.5555555555555556,
             "#d8576b"
            ],
            [
             0.6666666666666666,
             "#ed7953"
            ],
            [
             0.7777777777777778,
             "#fb9f3a"
            ],
            [
             0.8888888888888888,
             "#fdca26"
            ],
            [
             1,
             "#f0f921"
            ]
           ]
          },
          "colorway": [
           "#636efa",
           "#EF553B",
           "#00cc96",
           "#ab63fa",
           "#FFA15A",
           "#19d3f3",
           "#FF6692",
           "#B6E880",
           "#FF97FF",
           "#FECB52"
          ],
          "font": {
           "color": "#2a3f5f"
          },
          "geo": {
           "bgcolor": "white",
           "lakecolor": "white",
           "landcolor": "#E5ECF6",
           "showlakes": true,
           "showland": true,
           "subunitcolor": "white"
          },
          "hoverlabel": {
           "align": "left"
          },
          "hovermode": "closest",
          "mapbox": {
           "style": "light"
          },
          "paper_bgcolor": "white",
          "plot_bgcolor": "#E5ECF6",
          "polar": {
           "angularaxis": {
            "gridcolor": "white",
            "linecolor": "white",
            "ticks": ""
           },
           "bgcolor": "#E5ECF6",
           "radialaxis": {
            "gridcolor": "white",
            "linecolor": "white",
            "ticks": ""
           }
          },
          "scene": {
           "xaxis": {
            "backgroundcolor": "#E5ECF6",
            "gridcolor": "white",
            "gridwidth": 2,
            "linecolor": "white",
            "showbackground": true,
            "ticks": "",
            "zerolinecolor": "white"
           },
           "yaxis": {
            "backgroundcolor": "#E5ECF6",
            "gridcolor": "white",
            "gridwidth": 2,
            "linecolor": "white",
            "showbackground": true,
            "ticks": "",
            "zerolinecolor": "white"
           },
           "zaxis": {
            "backgroundcolor": "#E5ECF6",
            "gridcolor": "white",
            "gridwidth": 2,
            "linecolor": "white",
            "showbackground": true,
            "ticks": "",
            "zerolinecolor": "white"
           }
          },
          "shapedefaults": {
           "line": {
            "color": "#2a3f5f"
           }
          },
          "ternary": {
           "aaxis": {
            "gridcolor": "white",
            "linecolor": "white",
            "ticks": ""
           },
           "baxis": {
            "gridcolor": "white",
            "linecolor": "white",
            "ticks": ""
           },
           "bgcolor": "#E5ECF6",
           "caxis": {
            "gridcolor": "white",
            "linecolor": "white",
            "ticks": ""
           }
          },
          "title": {
           "x": 0.05
          },
          "xaxis": {
           "automargin": true,
           "gridcolor": "white",
           "linecolor": "white",
           "ticks": "",
           "title": {
            "standoff": 15
           },
           "zerolinecolor": "white",
           "zerolinewidth": 2
          },
          "yaxis": {
           "automargin": true,
           "gridcolor": "white",
           "linecolor": "white",
           "ticks": "",
           "title": {
            "standoff": 15
           },
           "zerolinecolor": "white",
           "zerolinewidth": 2
          }
         }
        },
        "title": {
         "text": "Cos sim of categorical probe"
        },
        "xaxis": {
         "anchor": "y",
         "constrain": "domain",
         "domain": [
          0,
          1
         ],
         "scaleanchor": "y",
         "title": {
          "text": "N Correct InContext"
         }
        },
        "yaxis": {
         "anchor": "x",
         "autorange": true,
         "constrain": "domain",
         "domain": [
          0,
          1
         ],
         "title": {
          "text": "N Correct In Context"
         }
        }
       }
      },
      "text/html": [
       "<div>                            <div id=\"0fc767f0-9f04-48da-b6fc-fa337ce3a579\" class=\"plotly-graph-div\" style=\"height:525px; width:100%;\"></div>            <script type=\"text/javascript\">                require([\"plotly\"], function(Plotly) {                    window.PLOTLYENV=window.PLOTLYENV || {};                                    if (document.getElementById(\"0fc767f0-9f04-48da-b6fc-fa337ce3a579\")) {                    Plotly.newPlot(                        \"0fc767f0-9f04-48da-b6fc-fa337ce3a579\",                        [{\"coloraxis\":\"coloraxis\",\"name\":\"0\",\"z\":[[0.9999999932448069,-0.053320647738291885,-0.15203615336184156,-0.26487112493933335,-0.3098678683695228,-0.4196766111986168],[-0.053320647738291885,0.9999999941885471,-0.1568444710690528,-0.18236142033846894,-0.20503989615982088,-0.30575433639925903],[-0.15203615336184156,-0.1568444710690528,0.9999999956289927,-0.239722007708624,-0.15427776112240585,-0.19395791856455616],[-0.26487112493933335,-0.18236142033846894,-0.239722007708624,0.9999999982118607,-0.17112721954569377,-0.054111420835639974],[-0.3098678683695228,-0.20503989615982088,-0.15427776112240585,-0.17112721954569377,0.9999999999006589,-0.035304722010235615],[-0.4196766111986168,-0.30575433639925903,-0.19395791856455616,-0.054111420835639974,-0.035304722010235615,0.999999996026357]],\"type\":\"heatmap\",\"xaxis\":\"x\",\"yaxis\":\"y\",\"hovertemplate\":\"N Correct InContext: %{x}<br>N Correct In Context: %{y}<br>color: %{z}<extra></extra>\"}],                        {\"template\":{\"data\":{\"histogram2dcontour\":[{\"type\":\"histogram2dcontour\",\"colorbar\":{\"outlinewidth\":0,\"ticks\":\"\"},\"colorscale\":[[0.0,\"#0d0887\"],[0.1111111111111111,\"#46039f\"],[0.2222222222222222,\"#7201a8\"],[0.3333333333333333,\"#9c179e\"],[0.4444444444444444,\"#bd3786\"],[0.5555555555555556,\"#d8576b\"],[0.6666666666666666,\"#ed7953\"],[0.7777777777777778,\"#fb9f3a\"],[0.8888888888888888,\"#fdca26\"],[1.0,\"#f0f921\"]]}],\"choropleth\":[{\"type\":\"choropleth\",\"colorbar\":{\"outlinewidth\":0,\"ticks\":\"\"}}],\"histogram2d\":[{\"type\":\"histogram2d\",\"colorbar\":{\"outlinewidth\":0,\"ticks\":\"\"},\"colorscale\":[[0.0,\"#0d0887\"],[0.1111111111111111,\"#46039f\"],[0.2222222222222222,\"#7201a8\"],[0.3333333333333333,\"#9c179e\"],[0.4444444444444444,\"#bd3786\"],[0.5555555555555556,\"#d8576b\"],[0.6666666666666666,\"#ed7953\"],[0.7777777777777778,\"#fb9f3a\"],[0.8888888888888888,\"#fdca26\"],[1.0,\"#f0f921\"]]}],\"heatmap\":[{\"type\":\"heatmap\",\"colorbar\":{\"outlinewidth\":0,\"ticks\":\"\"},\"colorscale\":[[0.0,\"#0d0887\"],[0.1111111111111111,\"#46039f\"],[0.2222222222222222,\"#7201a8\"],[0.3333333333333333,\"#9c179e\"],[0.4444444444444444,\"#bd3786\"],[0.5555555555555556,\"#d8576b\"],[0.6666666666666666,\"#ed7953\"],[0.7777777777777778,\"#fb9f3a\"],[0.8888888888888888,\"#fdca26\"],[1.0,\"#f0f921\"]]}],\"heatmapgl\":[{\"type\":\"heatmapgl\",\"colorbar\":{\"outlinewidth\":0,\"ticks\":\"\"},\"colorscale\":[[0.0,\"#0d0887\"],[0.1111111111111111,\"#46039f\"],[0.2222222222222222,\"#7201a8\"],[0.3333333333333333,\"#9c179e\"],[0.4444444444444444,\"#bd3786\"],[0.5555555555555556,\"#d8576b\"],[0.6666666666666666,\"#ed7953\"],[0.7777777777777778,\"#fb9f3a\"],[0.8888888888888888,\"#fdca26\"],[1.0,\"#f0f921\"]]}],\"contourcarpet\":[{\"type\":\"contourcarpet\",\"colorbar\":{\"outlinewidth\":0,\"ticks\":\"\"}}],\"contour\":[{\"type\":\"contour\",\"colorbar\":{\"outlinewidth\":0,\"ticks\":\"\"},\"colorscale\":[[0.0,\"#0d0887\"],[0.1111111111111111,\"#46039f\"],[0.2222222222222222,\"#7201a8\"],[0.3333333333333333,\"#9c179e\"],[0.4444444444444444,\"#bd3786\"],[0.5555555555555556,\"#d8576b\"],[0.6666666666666666,\"#ed7953\"],[0.7777777777777778,\"#fb9f3a\"],[0.8888888888888888,\"#fdca26\"],[1.0,\"#f0f921\"]]}],\"surface\":[{\"type\":\"surface\",\"colorbar\":{\"outlinewidth\":0,\"ticks\":\"\"},\"colorscale\":[[0.0,\"#0d0887\"],[0.1111111111111111,\"#46039f\"],[0.2222222222222222,\"#7201a8\"],[0.3333333333333333,\"#9c179e\"],[0.4444444444444444,\"#bd3786\"],[0.5555555555555556,\"#d8576b\"],[0.6666666666666666,\"#ed7953\"],[0.7777777777777778,\"#fb9f3a\"],[0.8888888888888888,\"#fdca26\"],[1.0,\"#f0f921\"]]}],\"mesh3d\":[{\"type\":\"mesh3d\",\"colorbar\":{\"outlinewidth\":0,\"ticks\":\"\"}}],\"scatter\":[{\"fillpattern\":{\"fillmode\":\"overlay\",\"size\":10,\"solidity\":0.2},\"type\":\"scatter\"}],\"parcoords\":[{\"type\":\"parcoords\",\"line\":{\"colorbar\":{\"outlinewidth\":0,\"ticks\":\"\"}}}],\"scatterpolargl\":[{\"type\":\"scatterpolargl\",\"marker\":{\"colorbar\":{\"outlinewidth\":0,\"ticks\":\"\"}}}],\"bar\":[{\"error_x\":{\"color\":\"#2a3f5f\"},\"error_y\":{\"color\":\"#2a3f5f\"},\"marker\":{\"line\":{\"color\":\"#E5ECF6\",\"width\":0.5},\"pattern\":{\"fillmode\":\"overlay\",\"size\":10,\"solidity\":0.2}},\"type\":\"bar\"}],\"scattergeo\":[{\"type\":\"scattergeo\",\"marker\":{\"colorbar\":{\"outlinewidth\":0,\"ticks\":\"\"}}}],\"scatterpolar\":[{\"type\":\"scatterpolar\",\"marker\":{\"colorbar\":{\"outlinewidth\":0,\"ticks\":\"\"}}}],\"histogram\":[{\"marker\":{\"pattern\":{\"fillmode\":\"overlay\",\"size\":10,\"solidity\":0.2}},\"type\":\"histogram\"}],\"scattergl\":[{\"type\":\"scattergl\",\"marker\":{\"colorbar\":{\"outlinewidth\":0,\"ticks\":\"\"}}}],\"scatter3d\":[{\"type\":\"scatter3d\",\"line\":{\"colorbar\":{\"outlinewidth\":0,\"ticks\":\"\"}},\"marker\":{\"colorbar\":{\"outlinewidth\":0,\"ticks\":\"\"}}}],\"scattermapbox\":[{\"type\":\"scattermapbox\",\"marker\":{\"colorbar\":{\"outlinewidth\":0,\"ticks\":\"\"}}}],\"scatterternary\":[{\"type\":\"scatterternary\",\"marker\":{\"colorbar\":{\"outlinewidth\":0,\"ticks\":\"\"}}}],\"scattercarpet\":[{\"type\":\"scattercarpet\",\"marker\":{\"colorbar\":{\"outlinewidth\":0,\"ticks\":\"\"}}}],\"carpet\":[{\"aaxis\":{\"endlinecolor\":\"#2a3f5f\",\"gridcolor\":\"white\",\"linecolor\":\"white\",\"minorgridcolor\":\"white\",\"startlinecolor\":\"#2a3f5f\"},\"baxis\":{\"endlinecolor\":\"#2a3f5f\",\"gridcolor\":\"white\",\"linecolor\":\"white\",\"minorgridcolor\":\"white\",\"startlinecolor\":\"#2a3f5f\"},\"type\":\"carpet\"}],\"table\":[{\"cells\":{\"fill\":{\"color\":\"#EBF0F8\"},\"line\":{\"color\":\"white\"}},\"header\":{\"fill\":{\"color\":\"#C8D4E3\"},\"line\":{\"color\":\"white\"}},\"type\":\"table\"}],\"barpolar\":[{\"marker\":{\"line\":{\"color\":\"#E5ECF6\",\"width\":0.5},\"pattern\":{\"fillmode\":\"overlay\",\"size\":10,\"solidity\":0.2}},\"type\":\"barpolar\"}],\"pie\":[{\"automargin\":true,\"type\":\"pie\"}]},\"layout\":{\"autotypenumbers\":\"strict\",\"colorway\":[\"#636efa\",\"#EF553B\",\"#00cc96\",\"#ab63fa\",\"#FFA15A\",\"#19d3f3\",\"#FF6692\",\"#B6E880\",\"#FF97FF\",\"#FECB52\"],\"font\":{\"color\":\"#2a3f5f\"},\"hovermode\":\"closest\",\"hoverlabel\":{\"align\":\"left\"},\"paper_bgcolor\":\"white\",\"plot_bgcolor\":\"#E5ECF6\",\"polar\":{\"bgcolor\":\"#E5ECF6\",\"angularaxis\":{\"gridcolor\":\"white\",\"linecolor\":\"white\",\"ticks\":\"\"},\"radialaxis\":{\"gridcolor\":\"white\",\"linecolor\":\"white\",\"ticks\":\"\"}},\"ternary\":{\"bgcolor\":\"#E5ECF6\",\"aaxis\":{\"gridcolor\":\"white\",\"linecolor\":\"white\",\"ticks\":\"\"},\"baxis\":{\"gridcolor\":\"white\",\"linecolor\":\"white\",\"ticks\":\"\"},\"caxis\":{\"gridcolor\":\"white\",\"linecolor\":\"white\",\"ticks\":\"\"}},\"coloraxis\":{\"colorbar\":{\"outlinewidth\":0,\"ticks\":\"\"}},\"colorscale\":{\"sequential\":[[0.0,\"#0d0887\"],[0.1111111111111111,\"#46039f\"],[0.2222222222222222,\"#7201a8\"],[0.3333333333333333,\"#9c179e\"],[0.4444444444444444,\"#bd3786\"],[0.5555555555555556,\"#d8576b\"],[0.6666666666666666,\"#ed7953\"],[0.7777777777777778,\"#fb9f3a\"],[0.8888888888888888,\"#fdca26\"],[1.0,\"#f0f921\"]],\"sequentialminus\":[[0.0,\"#0d0887\"],[0.1111111111111111,\"#46039f\"],[0.2222222222222222,\"#7201a8\"],[0.3333333333333333,\"#9c179e\"],[0.4444444444444444,\"#bd3786\"],[0.5555555555555556,\"#d8576b\"],[0.6666666666666666,\"#ed7953\"],[0.7777777777777778,\"#fb9f3a\"],[0.8888888888888888,\"#fdca26\"],[1.0,\"#f0f921\"]],\"diverging\":[[0,\"#8e0152\"],[0.1,\"#c51b7d\"],[0.2,\"#de77ae\"],[0.3,\"#f1b6da\"],[0.4,\"#fde0ef\"],[0.5,\"#f7f7f7\"],[0.6,\"#e6f5d0\"],[0.7,\"#b8e186\"],[0.8,\"#7fbc41\"],[0.9,\"#4d9221\"],[1,\"#276419\"]]},\"xaxis\":{\"gridcolor\":\"white\",\"linecolor\":\"white\",\"ticks\":\"\",\"title\":{\"standoff\":15},\"zerolinecolor\":\"white\",\"automargin\":true,\"zerolinewidth\":2},\"yaxis\":{\"gridcolor\":\"white\",\"linecolor\":\"white\",\"ticks\":\"\",\"title\":{\"standoff\":15},\"zerolinecolor\":\"white\",\"automargin\":true,\"zerolinewidth\":2},\"scene\":{\"xaxis\":{\"backgroundcolor\":\"#E5ECF6\",\"gridcolor\":\"white\",\"linecolor\":\"white\",\"showbackground\":true,\"ticks\":\"\",\"zerolinecolor\":\"white\",\"gridwidth\":2},\"yaxis\":{\"backgroundcolor\":\"#E5ECF6\",\"gridcolor\":\"white\",\"linecolor\":\"white\",\"showbackground\":true,\"ticks\":\"\",\"zerolinecolor\":\"white\",\"gridwidth\":2},\"zaxis\":{\"backgroundcolor\":\"#E5ECF6\",\"gridcolor\":\"white\",\"linecolor\":\"white\",\"showbackground\":true,\"ticks\":\"\",\"zerolinecolor\":\"white\",\"gridwidth\":2}},\"shapedefaults\":{\"line\":{\"color\":\"#2a3f5f\"}},\"annotationdefaults\":{\"arrowcolor\":\"#2a3f5f\",\"arrowhead\":0,\"arrowwidth\":1},\"geo\":{\"bgcolor\":\"white\",\"landcolor\":\"#E5ECF6\",\"subunitcolor\":\"white\",\"showland\":true,\"showlakes\":true,\"lakecolor\":\"white\"},\"title\":{\"x\":0.05},\"mapbox\":{\"style\":\"light\"}}},\"xaxis\":{\"anchor\":\"y\",\"domain\":[0.0,1.0],\"scaleanchor\":\"y\",\"constrain\":\"domain\",\"title\":{\"text\":\"N Correct InContext\"}},\"yaxis\":{\"anchor\":\"x\",\"domain\":[0.0,1.0],\"autorange\":true,\"constrain\":\"domain\",\"title\":{\"text\":\"N Correct In Context\"}},\"coloraxis\":{\"colorscale\":[[0.0,\"rgb(103,0,31)\"],[0.1,\"rgb(178,24,43)\"],[0.2,\"rgb(214,96,77)\"],[0.3,\"rgb(244,165,130)\"],[0.4,\"rgb(253,219,199)\"],[0.5,\"rgb(247,247,247)\"],[0.6,\"rgb(209,229,240)\"],[0.7,\"rgb(146,197,222)\"],[0.8,\"rgb(67,147,195)\"],[0.9,\"rgb(33,102,172)\"],[1.0,\"rgb(5,48,97)\"]],\"cmid\":0},\"title\":{\"text\":\"Cos sim of categorical probe\"}},                        {\"responsive\": true}                    ).then(function(){\n",
       "                            \n",
       "var gd = document.getElementById('0fc767f0-9f04-48da-b6fc-fa337ce3a579');\n",
       "var x = new MutationObserver(function (mutations, observer) {{\n",
       "        var display = window.getComputedStyle(gd).display;\n",
       "        if (!display || display === 'none') {{\n",
       "            console.log([gd, 'removed!']);\n",
       "            Plotly.purge(gd);\n",
       "            observer.disconnect();\n",
       "        }}\n",
       "}});\n",
       "\n",
       "// Listen for the removal of the full notebook cells\n",
       "var notebookContainer = gd.closest('#notebook-container');\n",
       "if (notebookContainer) {{\n",
       "    x.observe(notebookContainer, {childList: true});\n",
       "}}\n",
       "\n",
       "// Listen for the clearing of the current output cell\n",
       "var outputEl = gd.closest('.output');\n",
       "if (outputEl) {{\n",
       "    x.observe(outputEl, {childList: true});\n",
       "}}\n",
       "\n",
       "                        })                };                });            </script>        </div>"
      ]
     },
     "metadata": {},
     "output_type": "display_data"
    }
   ],
   "source": [
    "cos = nn.CosineSimilarity()\n",
    "\n",
    "probe_num_context_cossim = []\n",
    "for probe in nin_d.probes:\n",
    "    cossims = np.empty((6, 6))\n",
    "    for i in range(6):\n",
    "        for j in range(6):\n",
    "            cossims[i, j] = cos(torch.from_numpy(probe.coef_[i]).reshape(1, -1), torch.from_numpy(probe.coef_[j]).reshape(1, -1)).item()\n",
    "\n",
    "    probe_num_context_cossim.append(cossims)\n",
    "\n",
    "probe_num_context_cossim = np.stack(probe_num_context_cossim).mean(axis = 0)\n",
    "px.imshow(probe_num_context_cossim, labels = {\"x\" : \"N Correct InContext\", \"y\": \"N Correct In Context\"},title = \"Cos sim of categorical probe\", color_continuous_midpoint = 0, color_continuous_scale=\"RdBu\", origin = \"lower\")"
   ]
  },
  {
   "cell_type": "code",
   "execution_count": 29,
   "metadata": {},
   "outputs": [
    {
     "data": {
      "application/vnd.plotly.v1+json": {
       "config": {
        "plotlyServerURL": "https://plot.ly"
       },
       "data": [
        {
         "coloraxis": "coloraxis",
         "hovertemplate": "Heads (sorted): %{x}<br>Layers: %{y}<br>color: %{z}<extra></extra>",
         "name": "0",
         "type": "heatmap",
         "xaxis": "x",
         "yaxis": "y",
         "z": [
          [
           0.16,
           0.16,
           0.16,
           0.16,
           0.16,
           0.16,
           0.16,
           0.16,
           0.16,
           0.16,
           0.16,
           0.16,
           0.16,
           0.16,
           0.16,
           0.16,
           0.16,
           0.16,
           0.16,
           0.16,
           0.16,
           0.16,
           0.16,
           0.16,
           0.16
          ],
          [
           0.21333333333333335,
           0.21333333333333335,
           0.2,
           0.18666666666666668,
           0.18666666666666668,
           0.17333333333333334,
           0.17333333333333334,
           0.17333333333333334,
           0.17333333333333334,
           0.17333333333333334,
           0.16,
           0.16,
           0.16,
           0.16,
           0.16,
           0.14666666666666667,
           0.14666666666666667,
           0.14666666666666667,
           0.14666666666666667,
           0.14666666666666667,
           0.14666666666666667,
           0.13333333333333333,
           0.13333333333333333,
           0.13333333333333333,
           0.10666666666666667
          ],
          [
           0.22666666666666666,
           0.21333333333333335,
           0.2,
           0.2,
           0.18666666666666668,
           0.17333333333333334,
           0.17333333333333334,
           0.17333333333333334,
           0.17333333333333334,
           0.17333333333333334,
           0.17333333333333334,
           0.16,
           0.16,
           0.16,
           0.16,
           0.16,
           0.16,
           0.14666666666666667,
           0.14666666666666667,
           0.13333333333333333,
           0.13333333333333333,
           0.13333333333333333,
           0.12,
           0.12,
           0.10666666666666667
          ],
          [
           0.21333333333333335,
           0.2,
           0.2,
           0.18666666666666668,
           0.17333333333333334,
           0.17333333333333334,
           0.17333333333333334,
           0.16,
           0.16,
           0.16,
           0.16,
           0.16,
           0.16,
           0.16,
           0.16,
           0.16,
           0.16,
           0.16,
           0.16,
           0.16,
           0.14666666666666667,
           0.14666666666666667,
           0.12,
           0.12,
           0.10666666666666667
          ],
          [
           0.2,
           0.2,
           0.2,
           0.18666666666666668,
           0.18666666666666668,
           0.18666666666666668,
           0.18666666666666668,
           0.18666666666666668,
           0.17333333333333334,
           0.17333333333333334,
           0.17333333333333334,
           0.17333333333333334,
           0.16,
           0.16,
           0.16,
           0.16,
           0.16,
           0.16,
           0.16,
           0.14666666666666667,
           0.14666666666666667,
           0.14666666666666667,
           0.13333333333333333,
           0.13333333333333333,
           0.10666666666666667
          ],
          [
           0.25333333333333335,
           0.2,
           0.17333333333333334,
           0.17333333333333334,
           0.17333333333333334,
           0.17333333333333334,
           0.17333333333333334,
           0.16,
           0.16,
           0.16,
           0.16,
           0.16,
           0.16,
           0.14666666666666667,
           0.14666666666666667,
           0.14666666666666667,
           0.14666666666666667,
           0.14666666666666667,
           0.14666666666666667,
           0.13333333333333333,
           0.13333333333333333,
           0.13333333333333333,
           0.12,
           0.12,
           0.09333333333333334
          ],
          [
           0.21333333333333335,
           0.2,
           0.2,
           0.2,
           0.2,
           0.18666666666666668,
           0.18666666666666668,
           0.18666666666666668,
           0.18666666666666668,
           0.17333333333333334,
           0.17333333333333334,
           0.17333333333333334,
           0.16,
           0.16,
           0.16,
           0.16,
           0.16,
           0.16,
           0.16,
           0.14666666666666667,
           0.13333333333333333,
           0.13333333333333333,
           0.13333333333333333,
           0.12,
           0.10666666666666667
          ],
          [
           0.22666666666666666,
           0.21333333333333335,
           0.2,
           0.2,
           0.18666666666666668,
           0.18666666666666668,
           0.18666666666666668,
           0.17333333333333334,
           0.17333333333333334,
           0.17333333333333334,
           0.17333333333333334,
           0.17333333333333334,
           0.17333333333333334,
           0.16,
           0.16,
           0.16,
           0.16,
           0.16,
           0.16,
           0.16,
           0.16,
           0.16,
           0.14666666666666667,
           0.13333333333333333,
           0.13333333333333333
          ],
          [
           0.26666666666666666,
           0.22666666666666666,
           0.21333333333333335,
           0.2,
           0.2,
           0.2,
           0.18666666666666668,
           0.18666666666666668,
           0.17333333333333334,
           0.17333333333333334,
           0.17333333333333334,
           0.17333333333333334,
           0.16,
           0.16,
           0.16,
           0.16,
           0.16,
           0.16,
           0.16,
           0.14666666666666667,
           0.14666666666666667,
           0.14666666666666667,
           0.13333333333333333,
           0.13333333333333333,
           0.12
          ],
          [
           0.29333333333333333,
           0.24,
           0.2,
           0.2,
           0.18666666666666668,
           0.18666666666666668,
           0.18666666666666668,
           0.18666666666666668,
           0.18666666666666668,
           0.17333333333333334,
           0.17333333333333334,
           0.16,
           0.16,
           0.16,
           0.16,
           0.16,
           0.16,
           0.16,
           0.14666666666666667,
           0.14666666666666667,
           0.14666666666666667,
           0.13333333333333333,
           0.13333333333333333,
           0.13333333333333333,
           0.12
          ],
          [
           0.24,
           0.22666666666666666,
           0.21333333333333335,
           0.21333333333333335,
           0.2,
           0.18666666666666668,
           0.18666666666666668,
           0.18666666666666668,
           0.17333333333333334,
           0.17333333333333334,
           0.17333333333333334,
           0.17333333333333334,
           0.17333333333333334,
           0.16,
           0.16,
           0.16,
           0.16,
           0.16,
           0.16,
           0.16,
           0.16,
           0.14666666666666667,
           0.13333333333333333,
           0.13333333333333333,
           0.12
          ],
          [
           0.29333333333333333,
           0.25333333333333335,
           0.24,
           0.22666666666666666,
           0.21333333333333335,
           0.21333333333333335,
           0.21333333333333335,
           0.21333333333333335,
           0.2,
           0.2,
           0.18666666666666668,
           0.18666666666666668,
           0.17333333333333334,
           0.17333333333333334,
           0.16,
           0.16,
           0.16,
           0.16,
           0.16,
           0.16,
           0.16,
           0.16,
           0.16,
           0.14666666666666667,
           0.10666666666666667
          ],
          [
           0.24,
           0.22666666666666666,
           0.21333333333333335,
           0.21333333333333335,
           0.2,
           0.2,
           0.18666666666666668,
           0.18666666666666668,
           0.17333333333333334,
           0.17333333333333334,
           0.17333333333333334,
           0.17333333333333334,
           0.16,
           0.16,
           0.16,
           0.16,
           0.16,
           0.16,
           0.14666666666666667,
           0.14666666666666667,
           0.13333333333333333,
           0.13333333333333333,
           0.13333333333333333,
           0.13333333333333333,
           0.12
          ],
          [
           0.29333333333333333,
           0.28,
           0.24,
           0.22666666666666666,
           0.22666666666666666,
           0.22666666666666666,
           0.21333333333333335,
           0.21333333333333335,
           0.2,
           0.18666666666666668,
           0.18666666666666668,
           0.18666666666666668,
           0.17333333333333334,
           0.17333333333333334,
           0.17333333333333334,
           0.16,
           0.16,
           0.16,
           0.14666666666666667,
           0.14666666666666667,
           0.13333333333333333,
           0.13333333333333333,
           0.13333333333333333,
           0.13333333333333333,
           0.13333333333333333
          ],
          [
           0.30666666666666664,
           0.26666666666666666,
           0.25333333333333335,
           0.24,
           0.24,
           0.22666666666666666,
           0.22666666666666666,
           0.22666666666666666,
           0.22666666666666666,
           0.22666666666666666,
           0.2,
           0.2,
           0.2,
           0.2,
           0.2,
           0.2,
           0.2,
           0.18666666666666668,
           0.17333333333333334,
           0.16,
           0.16,
           0.14666666666666667,
           0.14666666666666667,
           0.13333333333333333,
           0.12
          ],
          [
           0.25333333333333335,
           0.22666666666666666,
           0.22666666666666666,
           0.22666666666666666,
           0.21333333333333335,
           0.21333333333333335,
           0.21333333333333335,
           0.18666666666666668,
           0.18666666666666668,
           0.18666666666666668,
           0.17333333333333334,
           0.17333333333333334,
           0.17333333333333334,
           0.17333333333333334,
           0.16,
           0.16,
           0.16,
           0.14666666666666667,
           0.14666666666666667,
           0.13333333333333333,
           0.13333333333333333,
           0.13333333333333333,
           0.12,
           0.12,
           0.09333333333333334
          ],
          [
           0.3333333333333333,
           0.29333333333333333,
           0.29333333333333333,
           0.28,
           0.28,
           0.24,
           0.24,
           0.22666666666666666,
           0.22666666666666666,
           0.22666666666666666,
           0.22666666666666666,
           0.22666666666666666,
           0.22666666666666666,
           0.21333333333333335,
           0.2,
           0.2,
           0.18666666666666668,
           0.18666666666666668,
           0.18666666666666668,
           0.18666666666666668,
           0.17333333333333334,
           0.16,
           0.14666666666666667,
           0.14666666666666667,
           0.12
          ],
          [
           0.30666666666666664,
           0.28,
           0.28,
           0.26666666666666666,
           0.26666666666666666,
           0.25333333333333335,
           0.25333333333333335,
           0.25333333333333335,
           0.24,
           0.22666666666666666,
           0.21333333333333335,
           0.21333333333333335,
           0.2,
           0.2,
           0.2,
           0.18666666666666668,
           0.18666666666666668,
           0.17333333333333334,
           0.17333333333333334,
           0.16,
           0.16,
           0.16,
           0.14666666666666667,
           0.14666666666666667,
           0.06666666666666667
          ],
          [
           0.3333333333333333,
           0.26666666666666666,
           0.24,
           0.22666666666666666,
           0.22666666666666666,
           0.22666666666666666,
           0.22666666666666666,
           0.21333333333333335,
           0.2,
           0.2,
           0.2,
           0.18666666666666668,
           0.18666666666666668,
           0.18666666666666668,
           0.18666666666666668,
           0.18666666666666668,
           0.18666666666666668,
           0.17333333333333334,
           0.16,
           0.16,
           0.14666666666666667,
           0.14666666666666667,
           0.13333333333333333,
           0.10666666666666667,
           0.09333333333333334
          ],
          [
           0.3466666666666667,
           0.32,
           0.28,
           0.26666666666666666,
           0.25333333333333335,
           0.24,
           0.24,
           0.22666666666666666,
           0.22666666666666666,
           0.22666666666666666,
           0.22666666666666666,
           0.22666666666666666,
           0.21333333333333335,
           0.21333333333333335,
           0.21333333333333335,
           0.2,
           0.17333333333333334,
           0.17333333333333334,
           0.16,
           0.16,
           0.16,
           0.14666666666666667,
           0.13333333333333333,
           0.13333333333333333,
           0.12
          ],
          [
           0.41333333333333333,
           0.37333333333333335,
           0.37333333333333335,
           0.30666666666666664,
           0.30666666666666664,
           0.30666666666666664,
           0.29333333333333333,
           0.28,
           0.28,
           0.28,
           0.28,
           0.24,
           0.22666666666666666,
           0.22666666666666666,
           0.22666666666666666,
           0.21333333333333335,
           0.21333333333333335,
           0.21333333333333335,
           0.21333333333333335,
           0.2,
           0.2,
           0.18666666666666668,
           0.18666666666666668,
           0.17333333333333334,
           0.13333333333333333
          ],
          [
           0.37333333333333335,
           0.3466666666666667,
           0.30666666666666664,
           0.30666666666666664,
           0.29333333333333333,
           0.28,
           0.28,
           0.28,
           0.26666666666666666,
           0.26666666666666666,
           0.26666666666666666,
           0.26666666666666666,
           0.26666666666666666,
           0.25333333333333335,
           0.25333333333333335,
           0.25333333333333335,
           0.24,
           0.22666666666666666,
           0.21333333333333335,
           0.21333333333333335,
           0.2,
           0.18666666666666668,
           0.17333333333333334,
           0.16,
           0.16
          ],
          [
           0.38666666666666666,
           0.3333333333333333,
           0.32,
           0.30666666666666664,
           0.29333333333333333,
           0.26666666666666666,
           0.26666666666666666,
           0.26666666666666666,
           0.25333333333333335,
           0.25333333333333335,
           0.24,
           0.24,
           0.22666666666666666,
           0.22666666666666666,
           0.22666666666666666,
           0.21333333333333335,
           0.21333333333333335,
           0.2,
           0.2,
           0.2,
           0.18666666666666668,
           0.18666666666666668,
           0.17333333333333334,
           0.17333333333333334,
           0.17333333333333334
          ],
          [
           0.37333333333333335,
           0.3466666666666667,
           0.3333333333333333,
           0.30666666666666664,
           0.30666666666666664,
           0.29333333333333333,
           0.29333333333333333,
           0.29333333333333333,
           0.28,
           0.26666666666666666,
           0.25333333333333335,
           0.25333333333333335,
           0.25333333333333335,
           0.25333333333333335,
           0.25333333333333335,
           0.24,
           0.24,
           0.22666666666666666,
           0.21333333333333335,
           0.2,
           0.18666666666666668,
           0.17333333333333334,
           0.16,
           0.16,
           0.16
          ],
          [
           0.36,
           0.3333333333333333,
           0.3333333333333333,
           0.32,
           0.29333333333333333,
           0.29333333333333333,
           0.29333333333333333,
           0.28,
           0.28,
           0.28,
           0.26666666666666666,
           0.26666666666666666,
           0.26666666666666666,
           0.25333333333333335,
           0.25333333333333335,
           0.25333333333333335,
           0.25333333333333335,
           0.25333333333333335,
           0.25333333333333335,
           0.24,
           0.24,
           0.24,
           0.21333333333333335,
           0.18666666666666668,
           0.14666666666666667
          ],
          [
           0.38666666666666666,
           0.37333333333333335,
           0.3466666666666667,
           0.3466666666666667,
           0.3333333333333333,
           0.32,
           0.32,
           0.30666666666666664,
           0.30666666666666664,
           0.30666666666666664,
           0.29333333333333333,
           0.29333333333333333,
           0.28,
           0.28,
           0.28,
           0.26666666666666666,
           0.24,
           0.24,
           0.24,
           0.24,
           0.22666666666666666,
           0.21333333333333335,
           0.2,
           0.17333333333333334,
           0.16
          ],
          [
           0.3466666666666667,
           0.3333333333333333,
           0.29333333333333333,
           0.28,
           0.28,
           0.26666666666666666,
           0.26666666666666666,
           0.25333333333333335,
           0.25333333333333335,
           0.25333333333333335,
           0.25333333333333335,
           0.25333333333333335,
           0.24,
           0.24,
           0.22666666666666666,
           0.2,
           0.2,
           0.2,
           0.18666666666666668,
           0.18666666666666668,
           0.18666666666666668,
           0.18666666666666668,
           0.18666666666666668,
           0.17333333333333334,
           0.13333333333333333
          ],
          [
           0.36,
           0.36,
           0.3333333333333333,
           0.30666666666666664,
           0.29333333333333333,
           0.29333333333333333,
           0.28,
           0.28,
           0.28,
           0.28,
           0.28,
           0.28,
           0.26666666666666666,
           0.26666666666666666,
           0.25333333333333335,
           0.25333333333333335,
           0.24,
           0.24,
           0.24,
           0.24,
           0.21333333333333335,
           0.16,
           0.16,
           0.14666666666666667,
           0.12
          ],
          [
           0.29333333333333333,
           0.28,
           0.28,
           0.28,
           0.26666666666666666,
           0.25333333333333335,
           0.25333333333333335,
           0.25333333333333335,
           0.25333333333333335,
           0.25333333333333335,
           0.25333333333333335,
           0.24,
           0.22666666666666666,
           0.22666666666666666,
           0.21333333333333335,
           0.21333333333333335,
           0.21333333333333335,
           0.21333333333333335,
           0.18666666666666668,
           0.17333333333333334,
           0.17333333333333334,
           0.17333333333333334,
           0.16,
           0.16,
           0.13333333333333333
          ],
          [
           0.3466666666666667,
           0.3333333333333333,
           0.30666666666666664,
           0.30666666666666664,
           0.29333333333333333,
           0.28,
           0.28,
           0.26666666666666666,
           0.26666666666666666,
           0.26666666666666666,
           0.25333333333333335,
           0.25333333333333335,
           0.24,
           0.24,
           0.24,
           0.24,
           0.22666666666666666,
           0.22666666666666666,
           0.22666666666666666,
           0.22666666666666666,
           0.21333333333333335,
           0.21333333333333335,
           0.21333333333333335,
           0.2,
           0.17333333333333334
          ],
          [
           0.30666666666666664,
           0.30666666666666664,
           0.29333333333333333,
           0.28,
           0.28,
           0.28,
           0.26666666666666666,
           0.26666666666666666,
           0.25333333333333335,
           0.25333333333333335,
           0.24,
           0.24,
           0.22666666666666666,
           0.22666666666666666,
           0.22666666666666666,
           0.21333333333333335,
           0.21333333333333335,
           0.18666666666666668,
           0.18666666666666668,
           0.18666666666666668,
           0.18666666666666668,
           0.18666666666666668,
           0.18666666666666668,
           0.16,
           0.13333333333333333
          ],
          [
           0.30666666666666664,
           0.30666666666666664,
           0.28,
           0.28,
           0.28,
           0.28,
           0.26666666666666666,
           0.26666666666666666,
           0.25333333333333335,
           0.25333333333333335,
           0.25333333333333335,
           0.25333333333333335,
           0.25333333333333335,
           0.22666666666666666,
           0.22666666666666666,
           0.21333333333333335,
           0.21333333333333335,
           0.21333333333333335,
           0.21333333333333335,
           0.2,
           0.18666666666666668,
           0.18666666666666668,
           0.18666666666666668,
           0.17333333333333334,
           0.16
          ],
          [
           0.3333333333333333,
           0.3333333333333333,
           0.28,
           0.28,
           0.28,
           0.26666666666666666,
           0.26666666666666666,
           0.26666666666666666,
           0.26666666666666666,
           0.26666666666666666,
           0.25333333333333335,
           0.25333333333333335,
           0.24,
           0.24,
           0.2,
           0.2,
           0.18666666666666668,
           0.17333333333333334,
           0.17333333333333334,
           0.17333333333333334,
           0.17333333333333334,
           0.16,
           0.16,
           0.14666666666666667,
           0.13333333333333333
          ],
          [
           0.29333333333333333,
           0.29333333333333333,
           0.26666666666666666,
           0.26666666666666666,
           0.25333333333333335,
           0.24,
           0.24,
           0.24,
           0.22666666666666666,
           0.22666666666666666,
           0.22666666666666666,
           0.22666666666666666,
           0.21333333333333335,
           0.21333333333333335,
           0.21333333333333335,
           0.2,
           0.2,
           0.18666666666666668,
           0.18666666666666668,
           0.17333333333333334,
           0.17333333333333334,
           0.17333333333333334,
           0.16,
           0.16,
           0.14666666666666667
          ],
          [
           0.32,
           0.32,
           0.29333333333333333,
           0.29333333333333333,
           0.29333333333333333,
           0.26666666666666666,
           0.26666666666666666,
           0.25333333333333335,
           0.24,
           0.24,
           0.24,
           0.22666666666666666,
           0.22666666666666666,
           0.21333333333333335,
           0.21333333333333335,
           0.2,
           0.2,
           0.2,
           0.2,
           0.2,
           0.18666666666666668,
           0.17333333333333334,
           0.16,
           0.16,
           0.16
          ],
          [
           0.29333333333333333,
           0.28,
           0.26666666666666666,
           0.26666666666666666,
           0.25333333333333335,
           0.25333333333333335,
           0.25333333333333335,
           0.22666666666666666,
           0.22666666666666666,
           0.22666666666666666,
           0.21333333333333335,
           0.21333333333333335,
           0.21333333333333335,
           0.2,
           0.2,
           0.18666666666666668,
           0.18666666666666668,
           0.18666666666666668,
           0.18666666666666668,
           0.17333333333333334,
           0.16,
           0.16,
           0.14666666666666667,
           0.13333333333333333,
           0.12
          ],
          [
           0.32,
           0.28,
           0.28,
           0.28,
           0.28,
           0.26666666666666666,
           0.26666666666666666,
           0.26666666666666666,
           0.21333333333333335,
           0.21333333333333335,
           0.21333333333333335,
           0.2,
           0.2,
           0.2,
           0.18666666666666668,
           0.18666666666666668,
           0.17333333333333334,
           0.17333333333333334,
           0.17333333333333334,
           0.16,
           0.16,
           0.14666666666666667,
           0.13333333333333333,
           0.13333333333333333,
           0.13333333333333333
          ],
          [
           0.30666666666666664,
           0.28,
           0.26666666666666666,
           0.25333333333333335,
           0.25333333333333335,
           0.25333333333333335,
           0.24,
           0.24,
           0.22666666666666666,
           0.22666666666666666,
           0.21333333333333335,
           0.21333333333333335,
           0.2,
           0.2,
           0.2,
           0.2,
           0.18666666666666668,
           0.18666666666666668,
           0.18666666666666668,
           0.18666666666666668,
           0.17333333333333334,
           0.17333333333333334,
           0.17333333333333334,
           0.13333333333333333,
           0.13333333333333333
          ],
          [
           0.32,
           0.26666666666666666,
           0.26666666666666666,
           0.25333333333333335,
           0.24,
           0.24,
           0.24,
           0.22666666666666666,
           0.22666666666666666,
           0.22666666666666666,
           0.22666666666666666,
           0.22666666666666666,
           0.21333333333333335,
           0.21333333333333335,
           0.2,
           0.2,
           0.2,
           0.2,
           0.2,
           0.18666666666666668,
           0.18666666666666668,
           0.17333333333333334,
           0.16,
           0.16,
           0.14666666666666667
          ],
          [
           0.28,
           0.26666666666666666,
           0.25333333333333335,
           0.25333333333333335,
           0.25333333333333335,
           0.24,
           0.24,
           0.24,
           0.22666666666666666,
           0.22666666666666666,
           0.22666666666666666,
           0.22666666666666666,
           0.22666666666666666,
           0.22666666666666666,
           0.22666666666666666,
           0.22666666666666666,
           0.21333333333333335,
           0.21333333333333335,
           0.2,
           0.2,
           0.18666666666666668,
           0.18666666666666668,
           0.17333333333333334,
           0.17333333333333334,
           0.16
          ],
          [
           0.26666666666666666,
           0.25333333333333335,
           0.25333333333333335,
           0.24,
           0.24,
           0.24,
           0.24,
           0.22666666666666666,
           0.22666666666666666,
           0.22666666666666666,
           0.22666666666666666,
           0.22666666666666666,
           0.22666666666666666,
           0.22666666666666666,
           0.21333333333333335,
           0.21333333333333335,
           0.21333333333333335,
           0.2,
           0.18666666666666668,
           0.17333333333333334,
           0.17333333333333334,
           0.17333333333333334,
           0.16,
           0.16,
           0.16
          ],
          [
           0.28,
           0.26666666666666666,
           0.25333333333333335,
           0.24,
           0.22666666666666666,
           0.22666666666666666,
           0.22666666666666666,
           0.21333333333333335,
           0.21333333333333335,
           0.21333333333333335,
           0.21333333333333335,
           0.2,
           0.18666666666666668,
           0.18666666666666668,
           0.18666666666666668,
           0.18666666666666668,
           0.17333333333333334,
           0.17333333333333334,
           0.17333333333333334,
           0.16,
           0.16,
           0.14666666666666667,
           0.13333333333333333,
           0.13333333333333333,
           0.13333333333333333
          ],
          [
           0.28,
           0.28,
           0.26666666666666666,
           0.26666666666666666,
           0.25333333333333335,
           0.24,
           0.24,
           0.24,
           0.22666666666666666,
           0.22666666666666666,
           0.22666666666666666,
           0.2,
           0.2,
           0.2,
           0.18666666666666668,
           0.18666666666666668,
           0.17333333333333334,
           0.17333333333333334,
           0.17333333333333334,
           0.16,
           0.16,
           0.14666666666666667,
           0.13333333333333333,
           0.13333333333333333,
           0.09333333333333334
          ],
          [
           0.30666666666666664,
           0.26666666666666666,
           0.25333333333333335,
           0.25333333333333335,
           0.24,
           0.24,
           0.24,
           0.22666666666666666,
           0.21333333333333335,
           0.21333333333333335,
           0.21333333333333335,
           0.21333333333333335,
           0.21333333333333335,
           0.2,
           0.2,
           0.18666666666666668,
           0.18666666666666668,
           0.17333333333333334,
           0.17333333333333334,
           0.17333333333333334,
           0.16,
           0.16,
           0.16,
           0.16,
           0.14666666666666667
          ],
          [
           0.32,
           0.28,
           0.26666666666666666,
           0.26666666666666666,
           0.24,
           0.24,
           0.24,
           0.2,
           0.2,
           0.2,
           0.18666666666666668,
           0.18666666666666668,
           0.18666666666666668,
           0.18666666666666668,
           0.18666666666666668,
           0.18666666666666668,
           0.18666666666666668,
           0.17333333333333334,
           0.17333333333333334,
           0.16,
           0.16,
           0.16,
           0.16,
           0.14666666666666667,
           0.13333333333333333
          ],
          [
           0.29333333333333333,
           0.26666666666666666,
           0.26666666666666666,
           0.24,
           0.24,
           0.24,
           0.22666666666666666,
           0.22666666666666666,
           0.22666666666666666,
           0.22666666666666666,
           0.21333333333333335,
           0.21333333333333335,
           0.21333333333333335,
           0.2,
           0.2,
           0.2,
           0.18666666666666668,
           0.18666666666666668,
           0.18666666666666668,
           0.18666666666666668,
           0.16,
           0.16,
           0.16,
           0.12,
           0.12
          ],
          [
           0.30666666666666664,
           0.29333333333333333,
           0.28,
           0.26666666666666666,
           0.26666666666666666,
           0.25333333333333335,
           0.24,
           0.24,
           0.24,
           0.22666666666666666,
           0.22666666666666666,
           0.22666666666666666,
           0.22666666666666666,
           0.21333333333333335,
           0.21333333333333335,
           0.2,
           0.2,
           0.18666666666666668,
           0.17333333333333334,
           0.17333333333333334,
           0.16,
           0.14666666666666667,
           0.12,
           0.12,
           0.10666666666666667
          ],
          [
           0.28,
           0.26666666666666666,
           0.26666666666666666,
           0.25333333333333335,
           0.25333333333333335,
           0.24,
           0.22666666666666666,
           0.22666666666666666,
           0.22666666666666666,
           0.21333333333333335,
           0.21333333333333335,
           0.21333333333333335,
           0.21333333333333335,
           0.21333333333333335,
           0.2,
           0.2,
           0.18666666666666668,
           0.18666666666666668,
           0.18666666666666668,
           0.16,
           0.16,
           0.16,
           0.16,
           0.14666666666666667,
           0.12
          ]
         ]
        }
       ],
       "layout": {
        "coloraxis": {
         "cmid": 0,
         "colorscale": [
          [
           0,
           "rgb(103,0,31)"
          ],
          [
           0.1,
           "rgb(178,24,43)"
          ],
          [
           0.2,
           "rgb(214,96,77)"
          ],
          [
           0.3,
           "rgb(244,165,130)"
          ],
          [
           0.4,
           "rgb(253,219,199)"
          ],
          [
           0.5,
           "rgb(247,247,247)"
          ],
          [
           0.6,
           "rgb(209,229,240)"
          ],
          [
           0.7,
           "rgb(146,197,222)"
          ],
          [
           0.8,
           "rgb(67,147,195)"
          ],
          [
           0.9,
           "rgb(33,102,172)"
          ],
          [
           1,
           "rgb(5,48,97)"
          ]
         ]
        },
        "template": {
         "data": {
          "bar": [
           {
            "error_x": {
             "color": "#2a3f5f"
            },
            "error_y": {
             "color": "#2a3f5f"
            },
            "marker": {
             "line": {
              "color": "#E5ECF6",
              "width": 0.5
             },
             "pattern": {
              "fillmode": "overlay",
              "size": 10,
              "solidity": 0.2
             }
            },
            "type": "bar"
           }
          ],
          "barpolar": [
           {
            "marker": {
             "line": {
              "color": "#E5ECF6",
              "width": 0.5
             },
             "pattern": {
              "fillmode": "overlay",
              "size": 10,
              "solidity": 0.2
             }
            },
            "type": "barpolar"
           }
          ],
          "carpet": [
           {
            "aaxis": {
             "endlinecolor": "#2a3f5f",
             "gridcolor": "white",
             "linecolor": "white",
             "minorgridcolor": "white",
             "startlinecolor": "#2a3f5f"
            },
            "baxis": {
             "endlinecolor": "#2a3f5f",
             "gridcolor": "white",
             "linecolor": "white",
             "minorgridcolor": "white",
             "startlinecolor": "#2a3f5f"
            },
            "type": "carpet"
           }
          ],
          "choropleth": [
           {
            "colorbar": {
             "outlinewidth": 0,
             "ticks": ""
            },
            "type": "choropleth"
           }
          ],
          "contour": [
           {
            "colorbar": {
             "outlinewidth": 0,
             "ticks": ""
            },
            "colorscale": [
             [
              0,
              "#0d0887"
             ],
             [
              0.1111111111111111,
              "#46039f"
             ],
             [
              0.2222222222222222,
              "#7201a8"
             ],
             [
              0.3333333333333333,
              "#9c179e"
             ],
             [
              0.4444444444444444,
              "#bd3786"
             ],
             [
              0.5555555555555556,
              "#d8576b"
             ],
             [
              0.6666666666666666,
              "#ed7953"
             ],
             [
              0.7777777777777778,
              "#fb9f3a"
             ],
             [
              0.8888888888888888,
              "#fdca26"
             ],
             [
              1,
              "#f0f921"
             ]
            ],
            "type": "contour"
           }
          ],
          "contourcarpet": [
           {
            "colorbar": {
             "outlinewidth": 0,
             "ticks": ""
            },
            "type": "contourcarpet"
           }
          ],
          "heatmap": [
           {
            "colorbar": {
             "outlinewidth": 0,
             "ticks": ""
            },
            "colorscale": [
             [
              0,
              "#0d0887"
             ],
             [
              0.1111111111111111,
              "#46039f"
             ],
             [
              0.2222222222222222,
              "#7201a8"
             ],
             [
              0.3333333333333333,
              "#9c179e"
             ],
             [
              0.4444444444444444,
              "#bd3786"
             ],
             [
              0.5555555555555556,
              "#d8576b"
             ],
             [
              0.6666666666666666,
              "#ed7953"
             ],
             [
              0.7777777777777778,
              "#fb9f3a"
             ],
             [
              0.8888888888888888,
              "#fdca26"
             ],
             [
              1,
              "#f0f921"
             ]
            ],
            "type": "heatmap"
           }
          ],
          "heatmapgl": [
           {
            "colorbar": {
             "outlinewidth": 0,
             "ticks": ""
            },
            "colorscale": [
             [
              0,
              "#0d0887"
             ],
             [
              0.1111111111111111,
              "#46039f"
             ],
             [
              0.2222222222222222,
              "#7201a8"
             ],
             [
              0.3333333333333333,
              "#9c179e"
             ],
             [
              0.4444444444444444,
              "#bd3786"
             ],
             [
              0.5555555555555556,
              "#d8576b"
             ],
             [
              0.6666666666666666,
              "#ed7953"
             ],
             [
              0.7777777777777778,
              "#fb9f3a"
             ],
             [
              0.8888888888888888,
              "#fdca26"
             ],
             [
              1,
              "#f0f921"
             ]
            ],
            "type": "heatmapgl"
           }
          ],
          "histogram": [
           {
            "marker": {
             "pattern": {
              "fillmode": "overlay",
              "size": 10,
              "solidity": 0.2
             }
            },
            "type": "histogram"
           }
          ],
          "histogram2d": [
           {
            "colorbar": {
             "outlinewidth": 0,
             "ticks": ""
            },
            "colorscale": [
             [
              0,
              "#0d0887"
             ],
             [
              0.1111111111111111,
              "#46039f"
             ],
             [
              0.2222222222222222,
              "#7201a8"
             ],
             [
              0.3333333333333333,
              "#9c179e"
             ],
             [
              0.4444444444444444,
              "#bd3786"
             ],
             [
              0.5555555555555556,
              "#d8576b"
             ],
             [
              0.6666666666666666,
              "#ed7953"
             ],
             [
              0.7777777777777778,
              "#fb9f3a"
             ],
             [
              0.8888888888888888,
              "#fdca26"
             ],
             [
              1,
              "#f0f921"
             ]
            ],
            "type": "histogram2d"
           }
          ],
          "histogram2dcontour": [
           {
            "colorbar": {
             "outlinewidth": 0,
             "ticks": ""
            },
            "colorscale": [
             [
              0,
              "#0d0887"
             ],
             [
              0.1111111111111111,
              "#46039f"
             ],
             [
              0.2222222222222222,
              "#7201a8"
             ],
             [
              0.3333333333333333,
              "#9c179e"
             ],
             [
              0.4444444444444444,
              "#bd3786"
             ],
             [
              0.5555555555555556,
              "#d8576b"
             ],
             [
              0.6666666666666666,
              "#ed7953"
             ],
             [
              0.7777777777777778,
              "#fb9f3a"
             ],
             [
              0.8888888888888888,
              "#fdca26"
             ],
             [
              1,
              "#f0f921"
             ]
            ],
            "type": "histogram2dcontour"
           }
          ],
          "mesh3d": [
           {
            "colorbar": {
             "outlinewidth": 0,
             "ticks": ""
            },
            "type": "mesh3d"
           }
          ],
          "parcoords": [
           {
            "line": {
             "colorbar": {
              "outlinewidth": 0,
              "ticks": ""
             }
            },
            "type": "parcoords"
           }
          ],
          "pie": [
           {
            "automargin": true,
            "type": "pie"
           }
          ],
          "scatter": [
           {
            "fillpattern": {
             "fillmode": "overlay",
             "size": 10,
             "solidity": 0.2
            },
            "type": "scatter"
           }
          ],
          "scatter3d": [
           {
            "line": {
             "colorbar": {
              "outlinewidth": 0,
              "ticks": ""
             }
            },
            "marker": {
             "colorbar": {
              "outlinewidth": 0,
              "ticks": ""
             }
            },
            "type": "scatter3d"
           }
          ],
          "scattercarpet": [
           {
            "marker": {
             "colorbar": {
              "outlinewidth": 0,
              "ticks": ""
             }
            },
            "type": "scattercarpet"
           }
          ],
          "scattergeo": [
           {
            "marker": {
             "colorbar": {
              "outlinewidth": 0,
              "ticks": ""
             }
            },
            "type": "scattergeo"
           }
          ],
          "scattergl": [
           {
            "marker": {
             "colorbar": {
              "outlinewidth": 0,
              "ticks": ""
             }
            },
            "type": "scattergl"
           }
          ],
          "scattermapbox": [
           {
            "marker": {
             "colorbar": {
              "outlinewidth": 0,
              "ticks": ""
             }
            },
            "type": "scattermapbox"
           }
          ],
          "scatterpolar": [
           {
            "marker": {
             "colorbar": {
              "outlinewidth": 0,
              "ticks": ""
             }
            },
            "type": "scatterpolar"
           }
          ],
          "scatterpolargl": [
           {
            "marker": {
             "colorbar": {
              "outlinewidth": 0,
              "ticks": ""
             }
            },
            "type": "scatterpolargl"
           }
          ],
          "scatterternary": [
           {
            "marker": {
             "colorbar": {
              "outlinewidth": 0,
              "ticks": ""
             }
            },
            "type": "scatterternary"
           }
          ],
          "surface": [
           {
            "colorbar": {
             "outlinewidth": 0,
             "ticks": ""
            },
            "colorscale": [
             [
              0,
              "#0d0887"
             ],
             [
              0.1111111111111111,
              "#46039f"
             ],
             [
              0.2222222222222222,
              "#7201a8"
             ],
             [
              0.3333333333333333,
              "#9c179e"
             ],
             [
              0.4444444444444444,
              "#bd3786"
             ],
             [
              0.5555555555555556,
              "#d8576b"
             ],
             [
              0.6666666666666666,
              "#ed7953"
             ],
             [
              0.7777777777777778,
              "#fb9f3a"
             ],
             [
              0.8888888888888888,
              "#fdca26"
             ],
             [
              1,
              "#f0f921"
             ]
            ],
            "type": "surface"
           }
          ],
          "table": [
           {
            "cells": {
             "fill": {
              "color": "#EBF0F8"
             },
             "line": {
              "color": "white"
             }
            },
            "header": {
             "fill": {
              "color": "#C8D4E3"
             },
             "line": {
              "color": "white"
             }
            },
            "type": "table"
           }
          ]
         },
         "layout": {
          "annotationdefaults": {
           "arrowcolor": "#2a3f5f",
           "arrowhead": 0,
           "arrowwidth": 1
          },
          "autotypenumbers": "strict",
          "coloraxis": {
           "colorbar": {
            "outlinewidth": 0,
            "ticks": ""
           }
          },
          "colorscale": {
           "diverging": [
            [
             0,
             "#8e0152"
            ],
            [
             0.1,
             "#c51b7d"
            ],
            [
             0.2,
             "#de77ae"
            ],
            [
             0.3,
             "#f1b6da"
            ],
            [
             0.4,
             "#fde0ef"
            ],
            [
             0.5,
             "#f7f7f7"
            ],
            [
             0.6,
             "#e6f5d0"
            ],
            [
             0.7,
             "#b8e186"
            ],
            [
             0.8,
             "#7fbc41"
            ],
            [
             0.9,
             "#4d9221"
            ],
            [
             1,
             "#276419"
            ]
           ],
           "sequential": [
            [
             0,
             "#0d0887"
            ],
            [
             0.1111111111111111,
             "#46039f"
            ],
            [
             0.2222222222222222,
             "#7201a8"
            ],
            [
             0.3333333333333333,
             "#9c179e"
            ],
            [
             0.4444444444444444,
             "#bd3786"
            ],
            [
             0.5555555555555556,
             "#d8576b"
            ],
            [
             0.6666666666666666,
             "#ed7953"
            ],
            [
             0.7777777777777778,
             "#fb9f3a"
            ],
            [
             0.8888888888888888,
             "#fdca26"
            ],
            [
             1,
             "#f0f921"
            ]
           ],
           "sequentialminus": [
            [
             0,
             "#0d0887"
            ],
            [
             0.1111111111111111,
             "#46039f"
            ],
            [
             0.2222222222222222,
             "#7201a8"
            ],
            [
             0.3333333333333333,
             "#9c179e"
            ],
            [
             0.4444444444444444,
             "#bd3786"
            ],
            [
             0.5555555555555556,
             "#d8576b"
            ],
            [
             0.6666666666666666,
             "#ed7953"
            ],
            [
             0.7777777777777778,
             "#fb9f3a"
            ],
            [
             0.8888888888888888,
             "#fdca26"
            ],
            [
             1,
             "#f0f921"
            ]
           ]
          },
          "colorway": [
           "#636efa",
           "#EF553B",
           "#00cc96",
           "#ab63fa",
           "#FFA15A",
           "#19d3f3",
           "#FF6692",
           "#B6E880",
           "#FF97FF",
           "#FECB52"
          ],
          "font": {
           "color": "#2a3f5f"
          },
          "geo": {
           "bgcolor": "white",
           "lakecolor": "white",
           "landcolor": "#E5ECF6",
           "showlakes": true,
           "showland": true,
           "subunitcolor": "white"
          },
          "hoverlabel": {
           "align": "left"
          },
          "hovermode": "closest",
          "mapbox": {
           "style": "light"
          },
          "paper_bgcolor": "white",
          "plot_bgcolor": "#E5ECF6",
          "polar": {
           "angularaxis": {
            "gridcolor": "white",
            "linecolor": "white",
            "ticks": ""
           },
           "bgcolor": "#E5ECF6",
           "radialaxis": {
            "gridcolor": "white",
            "linecolor": "white",
            "ticks": ""
           }
          },
          "scene": {
           "xaxis": {
            "backgroundcolor": "#E5ECF6",
            "gridcolor": "white",
            "gridwidth": 2,
            "linecolor": "white",
            "showbackground": true,
            "ticks": "",
            "zerolinecolor": "white"
           },
           "yaxis": {
            "backgroundcolor": "#E5ECF6",
            "gridcolor": "white",
            "gridwidth": 2,
            "linecolor": "white",
            "showbackground": true,
            "ticks": "",
            "zerolinecolor": "white"
           },
           "zaxis": {
            "backgroundcolor": "#E5ECF6",
            "gridcolor": "white",
            "gridwidth": 2,
            "linecolor": "white",
            "showbackground": true,
            "ticks": "",
            "zerolinecolor": "white"
           }
          },
          "shapedefaults": {
           "line": {
            "color": "#2a3f5f"
           }
          },
          "ternary": {
           "aaxis": {
            "gridcolor": "white",
            "linecolor": "white",
            "ticks": ""
           },
           "baxis": {
            "gridcolor": "white",
            "linecolor": "white",
            "ticks": ""
           },
           "bgcolor": "#E5ECF6",
           "caxis": {
            "gridcolor": "white",
            "linecolor": "white",
            "ticks": ""
           }
          },
          "title": {
           "x": 0.05
          },
          "xaxis": {
           "automargin": true,
           "gridcolor": "white",
           "linecolor": "white",
           "ticks": "",
           "title": {
            "standoff": 15
           },
           "zerolinecolor": "white",
           "zerolinewidth": 2
          },
          "yaxis": {
           "automargin": true,
           "gridcolor": "white",
           "linecolor": "white",
           "ticks": "",
           "title": {
            "standoff": 15
           },
           "zerolinecolor": "white",
           "zerolinewidth": 2
          }
         }
        },
        "title": {
         "text": "Sorted Probe Accuracies on Capitals"
        },
        "xaxis": {
         "anchor": "y",
         "constrain": "domain",
         "domain": [
          0,
          1
         ],
         "scaleanchor": "y",
         "title": {
          "text": "Heads (sorted)"
         }
        },
        "yaxis": {
         "anchor": "x",
         "autorange": true,
         "constrain": "domain",
         "domain": [
          0,
          1
         ],
         "title": {
          "text": "Layers"
         }
        }
       }
      },
      "text/html": [
       "<div>                            <div id=\"7cfd2462-2ede-409e-a7fa-2909522a93d6\" class=\"plotly-graph-div\" style=\"height:525px; width:100%;\"></div>            <script type=\"text/javascript\">                require([\"plotly\"], function(Plotly) {                    window.PLOTLYENV=window.PLOTLYENV || {};                                    if (document.getElementById(\"7cfd2462-2ede-409e-a7fa-2909522a93d6\")) {                    Plotly.newPlot(                        \"7cfd2462-2ede-409e-a7fa-2909522a93d6\",                        [{\"coloraxis\":\"coloraxis\",\"name\":\"0\",\"z\":[[0.16,0.16,0.16,0.16,0.16,0.16,0.16,0.16,0.16,0.16,0.16,0.16,0.16,0.16,0.16,0.16,0.16,0.16,0.16,0.16,0.16,0.16,0.16,0.16,0.16],[0.21333333333333335,0.21333333333333335,0.2,0.18666666666666668,0.18666666666666668,0.17333333333333334,0.17333333333333334,0.17333333333333334,0.17333333333333334,0.17333333333333334,0.16,0.16,0.16,0.16,0.16,0.14666666666666667,0.14666666666666667,0.14666666666666667,0.14666666666666667,0.14666666666666667,0.14666666666666667,0.13333333333333333,0.13333333333333333,0.13333333333333333,0.10666666666666667],[0.22666666666666666,0.21333333333333335,0.2,0.2,0.18666666666666668,0.17333333333333334,0.17333333333333334,0.17333333333333334,0.17333333333333334,0.17333333333333334,0.17333333333333334,0.16,0.16,0.16,0.16,0.16,0.16,0.14666666666666667,0.14666666666666667,0.13333333333333333,0.13333333333333333,0.13333333333333333,0.12,0.12,0.10666666666666667],[0.21333333333333335,0.2,0.2,0.18666666666666668,0.17333333333333334,0.17333333333333334,0.17333333333333334,0.16,0.16,0.16,0.16,0.16,0.16,0.16,0.16,0.16,0.16,0.16,0.16,0.16,0.14666666666666667,0.14666666666666667,0.12,0.12,0.10666666666666667],[0.2,0.2,0.2,0.18666666666666668,0.18666666666666668,0.18666666666666668,0.18666666666666668,0.18666666666666668,0.17333333333333334,0.17333333333333334,0.17333333333333334,0.17333333333333334,0.16,0.16,0.16,0.16,0.16,0.16,0.16,0.14666666666666667,0.14666666666666667,0.14666666666666667,0.13333333333333333,0.13333333333333333,0.10666666666666667],[0.25333333333333335,0.2,0.17333333333333334,0.17333333333333334,0.17333333333333334,0.17333333333333334,0.17333333333333334,0.16,0.16,0.16,0.16,0.16,0.16,0.14666666666666667,0.14666666666666667,0.14666666666666667,0.14666666666666667,0.14666666666666667,0.14666666666666667,0.13333333333333333,0.13333333333333333,0.13333333333333333,0.12,0.12,0.09333333333333334],[0.21333333333333335,0.2,0.2,0.2,0.2,0.18666666666666668,0.18666666666666668,0.18666666666666668,0.18666666666666668,0.17333333333333334,0.17333333333333334,0.17333333333333334,0.16,0.16,0.16,0.16,0.16,0.16,0.16,0.14666666666666667,0.13333333333333333,0.13333333333333333,0.13333333333333333,0.12,0.10666666666666667],[0.22666666666666666,0.21333333333333335,0.2,0.2,0.18666666666666668,0.18666666666666668,0.18666666666666668,0.17333333333333334,0.17333333333333334,0.17333333333333334,0.17333333333333334,0.17333333333333334,0.17333333333333334,0.16,0.16,0.16,0.16,0.16,0.16,0.16,0.16,0.16,0.14666666666666667,0.13333333333333333,0.13333333333333333],[0.26666666666666666,0.22666666666666666,0.21333333333333335,0.2,0.2,0.2,0.18666666666666668,0.18666666666666668,0.17333333333333334,0.17333333333333334,0.17333333333333334,0.17333333333333334,0.16,0.16,0.16,0.16,0.16,0.16,0.16,0.14666666666666667,0.14666666666666667,0.14666666666666667,0.13333333333333333,0.13333333333333333,0.12],[0.29333333333333333,0.24,0.2,0.2,0.18666666666666668,0.18666666666666668,0.18666666666666668,0.18666666666666668,0.18666666666666668,0.17333333333333334,0.17333333333333334,0.16,0.16,0.16,0.16,0.16,0.16,0.16,0.14666666666666667,0.14666666666666667,0.14666666666666667,0.13333333333333333,0.13333333333333333,0.13333333333333333,0.12],[0.24,0.22666666666666666,0.21333333333333335,0.21333333333333335,0.2,0.18666666666666668,0.18666666666666668,0.18666666666666668,0.17333333333333334,0.17333333333333334,0.17333333333333334,0.17333333333333334,0.17333333333333334,0.16,0.16,0.16,0.16,0.16,0.16,0.16,0.16,0.14666666666666667,0.13333333333333333,0.13333333333333333,0.12],[0.29333333333333333,0.25333333333333335,0.24,0.22666666666666666,0.21333333333333335,0.21333333333333335,0.21333333333333335,0.21333333333333335,0.2,0.2,0.18666666666666668,0.18666666666666668,0.17333333333333334,0.17333333333333334,0.16,0.16,0.16,0.16,0.16,0.16,0.16,0.16,0.16,0.14666666666666667,0.10666666666666667],[0.24,0.22666666666666666,0.21333333333333335,0.21333333333333335,0.2,0.2,0.18666666666666668,0.18666666666666668,0.17333333333333334,0.17333333333333334,0.17333333333333334,0.17333333333333334,0.16,0.16,0.16,0.16,0.16,0.16,0.14666666666666667,0.14666666666666667,0.13333333333333333,0.13333333333333333,0.13333333333333333,0.13333333333333333,0.12],[0.29333333333333333,0.28,0.24,0.22666666666666666,0.22666666666666666,0.22666666666666666,0.21333333333333335,0.21333333333333335,0.2,0.18666666666666668,0.18666666666666668,0.18666666666666668,0.17333333333333334,0.17333333333333334,0.17333333333333334,0.16,0.16,0.16,0.14666666666666667,0.14666666666666667,0.13333333333333333,0.13333333333333333,0.13333333333333333,0.13333333333333333,0.13333333333333333],[0.30666666666666664,0.26666666666666666,0.25333333333333335,0.24,0.24,0.22666666666666666,0.22666666666666666,0.22666666666666666,0.22666666666666666,0.22666666666666666,0.2,0.2,0.2,0.2,0.2,0.2,0.2,0.18666666666666668,0.17333333333333334,0.16,0.16,0.14666666666666667,0.14666666666666667,0.13333333333333333,0.12],[0.25333333333333335,0.22666666666666666,0.22666666666666666,0.22666666666666666,0.21333333333333335,0.21333333333333335,0.21333333333333335,0.18666666666666668,0.18666666666666668,0.18666666666666668,0.17333333333333334,0.17333333333333334,0.17333333333333334,0.17333333333333334,0.16,0.16,0.16,0.14666666666666667,0.14666666666666667,0.13333333333333333,0.13333333333333333,0.13333333333333333,0.12,0.12,0.09333333333333334],[0.3333333333333333,0.29333333333333333,0.29333333333333333,0.28,0.28,0.24,0.24,0.22666666666666666,0.22666666666666666,0.22666666666666666,0.22666666666666666,0.22666666666666666,0.22666666666666666,0.21333333333333335,0.2,0.2,0.18666666666666668,0.18666666666666668,0.18666666666666668,0.18666666666666668,0.17333333333333334,0.16,0.14666666666666667,0.14666666666666667,0.12],[0.30666666666666664,0.28,0.28,0.26666666666666666,0.26666666666666666,0.25333333333333335,0.25333333333333335,0.25333333333333335,0.24,0.22666666666666666,0.21333333333333335,0.21333333333333335,0.2,0.2,0.2,0.18666666666666668,0.18666666666666668,0.17333333333333334,0.17333333333333334,0.16,0.16,0.16,0.14666666666666667,0.14666666666666667,0.06666666666666667],[0.3333333333333333,0.26666666666666666,0.24,0.22666666666666666,0.22666666666666666,0.22666666666666666,0.22666666666666666,0.21333333333333335,0.2,0.2,0.2,0.18666666666666668,0.18666666666666668,0.18666666666666668,0.18666666666666668,0.18666666666666668,0.18666666666666668,0.17333333333333334,0.16,0.16,0.14666666666666667,0.14666666666666667,0.13333333333333333,0.10666666666666667,0.09333333333333334],[0.3466666666666667,0.32,0.28,0.26666666666666666,0.25333333333333335,0.24,0.24,0.22666666666666666,0.22666666666666666,0.22666666666666666,0.22666666666666666,0.22666666666666666,0.21333333333333335,0.21333333333333335,0.21333333333333335,0.2,0.17333333333333334,0.17333333333333334,0.16,0.16,0.16,0.14666666666666667,0.13333333333333333,0.13333333333333333,0.12],[0.41333333333333333,0.37333333333333335,0.37333333333333335,0.30666666666666664,0.30666666666666664,0.30666666666666664,0.29333333333333333,0.28,0.28,0.28,0.28,0.24,0.22666666666666666,0.22666666666666666,0.22666666666666666,0.21333333333333335,0.21333333333333335,0.21333333333333335,0.21333333333333335,0.2,0.2,0.18666666666666668,0.18666666666666668,0.17333333333333334,0.13333333333333333],[0.37333333333333335,0.3466666666666667,0.30666666666666664,0.30666666666666664,0.29333333333333333,0.28,0.28,0.28,0.26666666666666666,0.26666666666666666,0.26666666666666666,0.26666666666666666,0.26666666666666666,0.25333333333333335,0.25333333333333335,0.25333333333333335,0.24,0.22666666666666666,0.21333333333333335,0.21333333333333335,0.2,0.18666666666666668,0.17333333333333334,0.16,0.16],[0.38666666666666666,0.3333333333333333,0.32,0.30666666666666664,0.29333333333333333,0.26666666666666666,0.26666666666666666,0.26666666666666666,0.25333333333333335,0.25333333333333335,0.24,0.24,0.22666666666666666,0.22666666666666666,0.22666666666666666,0.21333333333333335,0.21333333333333335,0.2,0.2,0.2,0.18666666666666668,0.18666666666666668,0.17333333333333334,0.17333333333333334,0.17333333333333334],[0.37333333333333335,0.3466666666666667,0.3333333333333333,0.30666666666666664,0.30666666666666664,0.29333333333333333,0.29333333333333333,0.29333333333333333,0.28,0.26666666666666666,0.25333333333333335,0.25333333333333335,0.25333333333333335,0.25333333333333335,0.25333333333333335,0.24,0.24,0.22666666666666666,0.21333333333333335,0.2,0.18666666666666668,0.17333333333333334,0.16,0.16,0.16],[0.36,0.3333333333333333,0.3333333333333333,0.32,0.29333333333333333,0.29333333333333333,0.29333333333333333,0.28,0.28,0.28,0.26666666666666666,0.26666666666666666,0.26666666666666666,0.25333333333333335,0.25333333333333335,0.25333333333333335,0.25333333333333335,0.25333333333333335,0.25333333333333335,0.24,0.24,0.24,0.21333333333333335,0.18666666666666668,0.14666666666666667],[0.38666666666666666,0.37333333333333335,0.3466666666666667,0.3466666666666667,0.3333333333333333,0.32,0.32,0.30666666666666664,0.30666666666666664,0.30666666666666664,0.29333333333333333,0.29333333333333333,0.28,0.28,0.28,0.26666666666666666,0.24,0.24,0.24,0.24,0.22666666666666666,0.21333333333333335,0.2,0.17333333333333334,0.16],[0.3466666666666667,0.3333333333333333,0.29333333333333333,0.28,0.28,0.26666666666666666,0.26666666666666666,0.25333333333333335,0.25333333333333335,0.25333333333333335,0.25333333333333335,0.25333333333333335,0.24,0.24,0.22666666666666666,0.2,0.2,0.2,0.18666666666666668,0.18666666666666668,0.18666666666666668,0.18666666666666668,0.18666666666666668,0.17333333333333334,0.13333333333333333],[0.36,0.36,0.3333333333333333,0.30666666666666664,0.29333333333333333,0.29333333333333333,0.28,0.28,0.28,0.28,0.28,0.28,0.26666666666666666,0.26666666666666666,0.25333333333333335,0.25333333333333335,0.24,0.24,0.24,0.24,0.21333333333333335,0.16,0.16,0.14666666666666667,0.12],[0.29333333333333333,0.28,0.28,0.28,0.26666666666666666,0.25333333333333335,0.25333333333333335,0.25333333333333335,0.25333333333333335,0.25333333333333335,0.25333333333333335,0.24,0.22666666666666666,0.22666666666666666,0.21333333333333335,0.21333333333333335,0.21333333333333335,0.21333333333333335,0.18666666666666668,0.17333333333333334,0.17333333333333334,0.17333333333333334,0.16,0.16,0.13333333333333333],[0.3466666666666667,0.3333333333333333,0.30666666666666664,0.30666666666666664,0.29333333333333333,0.28,0.28,0.26666666666666666,0.26666666666666666,0.26666666666666666,0.25333333333333335,0.25333333333333335,0.24,0.24,0.24,0.24,0.22666666666666666,0.22666666666666666,0.22666666666666666,0.22666666666666666,0.21333333333333335,0.21333333333333335,0.21333333333333335,0.2,0.17333333333333334],[0.30666666666666664,0.30666666666666664,0.29333333333333333,0.28,0.28,0.28,0.26666666666666666,0.26666666666666666,0.25333333333333335,0.25333333333333335,0.24,0.24,0.22666666666666666,0.22666666666666666,0.22666666666666666,0.21333333333333335,0.21333333333333335,0.18666666666666668,0.18666666666666668,0.18666666666666668,0.18666666666666668,0.18666666666666668,0.18666666666666668,0.16,0.13333333333333333],[0.30666666666666664,0.30666666666666664,0.28,0.28,0.28,0.28,0.26666666666666666,0.26666666666666666,0.25333333333333335,0.25333333333333335,0.25333333333333335,0.25333333333333335,0.25333333333333335,0.22666666666666666,0.22666666666666666,0.21333333333333335,0.21333333333333335,0.21333333333333335,0.21333333333333335,0.2,0.18666666666666668,0.18666666666666668,0.18666666666666668,0.17333333333333334,0.16],[0.3333333333333333,0.3333333333333333,0.28,0.28,0.28,0.26666666666666666,0.26666666666666666,0.26666666666666666,0.26666666666666666,0.26666666666666666,0.25333333333333335,0.25333333333333335,0.24,0.24,0.2,0.2,0.18666666666666668,0.17333333333333334,0.17333333333333334,0.17333333333333334,0.17333333333333334,0.16,0.16,0.14666666666666667,0.13333333333333333],[0.29333333333333333,0.29333333333333333,0.26666666666666666,0.26666666666666666,0.25333333333333335,0.24,0.24,0.24,0.22666666666666666,0.22666666666666666,0.22666666666666666,0.22666666666666666,0.21333333333333335,0.21333333333333335,0.21333333333333335,0.2,0.2,0.18666666666666668,0.18666666666666668,0.17333333333333334,0.17333333333333334,0.17333333333333334,0.16,0.16,0.14666666666666667],[0.32,0.32,0.29333333333333333,0.29333333333333333,0.29333333333333333,0.26666666666666666,0.26666666666666666,0.25333333333333335,0.24,0.24,0.24,0.22666666666666666,0.22666666666666666,0.21333333333333335,0.21333333333333335,0.2,0.2,0.2,0.2,0.2,0.18666666666666668,0.17333333333333334,0.16,0.16,0.16],[0.29333333333333333,0.28,0.26666666666666666,0.26666666666666666,0.25333333333333335,0.25333333333333335,0.25333333333333335,0.22666666666666666,0.22666666666666666,0.22666666666666666,0.21333333333333335,0.21333333333333335,0.21333333333333335,0.2,0.2,0.18666666666666668,0.18666666666666668,0.18666666666666668,0.18666666666666668,0.17333333333333334,0.16,0.16,0.14666666666666667,0.13333333333333333,0.12],[0.32,0.28,0.28,0.28,0.28,0.26666666666666666,0.26666666666666666,0.26666666666666666,0.21333333333333335,0.21333333333333335,0.21333333333333335,0.2,0.2,0.2,0.18666666666666668,0.18666666666666668,0.17333333333333334,0.17333333333333334,0.17333333333333334,0.16,0.16,0.14666666666666667,0.13333333333333333,0.13333333333333333,0.13333333333333333],[0.30666666666666664,0.28,0.26666666666666666,0.25333333333333335,0.25333333333333335,0.25333333333333335,0.24,0.24,0.22666666666666666,0.22666666666666666,0.21333333333333335,0.21333333333333335,0.2,0.2,0.2,0.2,0.18666666666666668,0.18666666666666668,0.18666666666666668,0.18666666666666668,0.17333333333333334,0.17333333333333334,0.17333333333333334,0.13333333333333333,0.13333333333333333],[0.32,0.26666666666666666,0.26666666666666666,0.25333333333333335,0.24,0.24,0.24,0.22666666666666666,0.22666666666666666,0.22666666666666666,0.22666666666666666,0.22666666666666666,0.21333333333333335,0.21333333333333335,0.2,0.2,0.2,0.2,0.2,0.18666666666666668,0.18666666666666668,0.17333333333333334,0.16,0.16,0.14666666666666667],[0.28,0.26666666666666666,0.25333333333333335,0.25333333333333335,0.25333333333333335,0.24,0.24,0.24,0.22666666666666666,0.22666666666666666,0.22666666666666666,0.22666666666666666,0.22666666666666666,0.22666666666666666,0.22666666666666666,0.22666666666666666,0.21333333333333335,0.21333333333333335,0.2,0.2,0.18666666666666668,0.18666666666666668,0.17333333333333334,0.17333333333333334,0.16],[0.26666666666666666,0.25333333333333335,0.25333333333333335,0.24,0.24,0.24,0.24,0.22666666666666666,0.22666666666666666,0.22666666666666666,0.22666666666666666,0.22666666666666666,0.22666666666666666,0.22666666666666666,0.21333333333333335,0.21333333333333335,0.21333333333333335,0.2,0.18666666666666668,0.17333333333333334,0.17333333333333334,0.17333333333333334,0.16,0.16,0.16],[0.28,0.26666666666666666,0.25333333333333335,0.24,0.22666666666666666,0.22666666666666666,0.22666666666666666,0.21333333333333335,0.21333333333333335,0.21333333333333335,0.21333333333333335,0.2,0.18666666666666668,0.18666666666666668,0.18666666666666668,0.18666666666666668,0.17333333333333334,0.17333333333333334,0.17333333333333334,0.16,0.16,0.14666666666666667,0.13333333333333333,0.13333333333333333,0.13333333333333333],[0.28,0.28,0.26666666666666666,0.26666666666666666,0.25333333333333335,0.24,0.24,0.24,0.22666666666666666,0.22666666666666666,0.22666666666666666,0.2,0.2,0.2,0.18666666666666668,0.18666666666666668,0.17333333333333334,0.17333333333333334,0.17333333333333334,0.16,0.16,0.14666666666666667,0.13333333333333333,0.13333333333333333,0.09333333333333334],[0.30666666666666664,0.26666666666666666,0.25333333333333335,0.25333333333333335,0.24,0.24,0.24,0.22666666666666666,0.21333333333333335,0.21333333333333335,0.21333333333333335,0.21333333333333335,0.21333333333333335,0.2,0.2,0.18666666666666668,0.18666666666666668,0.17333333333333334,0.17333333333333334,0.17333333333333334,0.16,0.16,0.16,0.16,0.14666666666666667],[0.32,0.28,0.26666666666666666,0.26666666666666666,0.24,0.24,0.24,0.2,0.2,0.2,0.18666666666666668,0.18666666666666668,0.18666666666666668,0.18666666666666668,0.18666666666666668,0.18666666666666668,0.18666666666666668,0.17333333333333334,0.17333333333333334,0.16,0.16,0.16,0.16,0.14666666666666667,0.13333333333333333],[0.29333333333333333,0.26666666666666666,0.26666666666666666,0.24,0.24,0.24,0.22666666666666666,0.22666666666666666,0.22666666666666666,0.22666666666666666,0.21333333333333335,0.21333333333333335,0.21333333333333335,0.2,0.2,0.2,0.18666666666666668,0.18666666666666668,0.18666666666666668,0.18666666666666668,0.16,0.16,0.16,0.12,0.12],[0.30666666666666664,0.29333333333333333,0.28,0.26666666666666666,0.26666666666666666,0.25333333333333335,0.24,0.24,0.24,0.22666666666666666,0.22666666666666666,0.22666666666666666,0.22666666666666666,0.21333333333333335,0.21333333333333335,0.2,0.2,0.18666666666666668,0.17333333333333334,0.17333333333333334,0.16,0.14666666666666667,0.12,0.12,0.10666666666666667],[0.28,0.26666666666666666,0.26666666666666666,0.25333333333333335,0.25333333333333335,0.24,0.22666666666666666,0.22666666666666666,0.22666666666666666,0.21333333333333335,0.21333333333333335,0.21333333333333335,0.21333333333333335,0.21333333333333335,0.2,0.2,0.18666666666666668,0.18666666666666668,0.18666666666666668,0.16,0.16,0.16,0.16,0.14666666666666667,0.12]],\"type\":\"heatmap\",\"xaxis\":\"x\",\"yaxis\":\"y\",\"hovertemplate\":\"Heads (sorted): %{x}<br>Layers: %{y}<br>color: %{z}<extra></extra>\"}],                        {\"template\":{\"data\":{\"histogram2dcontour\":[{\"type\":\"histogram2dcontour\",\"colorbar\":{\"outlinewidth\":0,\"ticks\":\"\"},\"colorscale\":[[0.0,\"#0d0887\"],[0.1111111111111111,\"#46039f\"],[0.2222222222222222,\"#7201a8\"],[0.3333333333333333,\"#9c179e\"],[0.4444444444444444,\"#bd3786\"],[0.5555555555555556,\"#d8576b\"],[0.6666666666666666,\"#ed7953\"],[0.7777777777777778,\"#fb9f3a\"],[0.8888888888888888,\"#fdca26\"],[1.0,\"#f0f921\"]]}],\"choropleth\":[{\"type\":\"choropleth\",\"colorbar\":{\"outlinewidth\":0,\"ticks\":\"\"}}],\"histogram2d\":[{\"type\":\"histogram2d\",\"colorbar\":{\"outlinewidth\":0,\"ticks\":\"\"},\"colorscale\":[[0.0,\"#0d0887\"],[0.1111111111111111,\"#46039f\"],[0.2222222222222222,\"#7201a8\"],[0.3333333333333333,\"#9c179e\"],[0.4444444444444444,\"#bd3786\"],[0.5555555555555556,\"#d8576b\"],[0.6666666666666666,\"#ed7953\"],[0.7777777777777778,\"#fb9f3a\"],[0.8888888888888888,\"#fdca26\"],[1.0,\"#f0f921\"]]}],\"heatmap\":[{\"type\":\"heatmap\",\"colorbar\":{\"outlinewidth\":0,\"ticks\":\"\"},\"colorscale\":[[0.0,\"#0d0887\"],[0.1111111111111111,\"#46039f\"],[0.2222222222222222,\"#7201a8\"],[0.3333333333333333,\"#9c179e\"],[0.4444444444444444,\"#bd3786\"],[0.5555555555555556,\"#d8576b\"],[0.6666666666666666,\"#ed7953\"],[0.7777777777777778,\"#fb9f3a\"],[0.8888888888888888,\"#fdca26\"],[1.0,\"#f0f921\"]]}],\"heatmapgl\":[{\"type\":\"heatmapgl\",\"colorbar\":{\"outlinewidth\":0,\"ticks\":\"\"},\"colorscale\":[[0.0,\"#0d0887\"],[0.1111111111111111,\"#46039f\"],[0.2222222222222222,\"#7201a8\"],[0.3333333333333333,\"#9c179e\"],[0.4444444444444444,\"#bd3786\"],[0.5555555555555556,\"#d8576b\"],[0.6666666666666666,\"#ed7953\"],[0.7777777777777778,\"#fb9f3a\"],[0.8888888888888888,\"#fdca26\"],[1.0,\"#f0f921\"]]}],\"contourcarpet\":[{\"type\":\"contourcarpet\",\"colorbar\":{\"outlinewidth\":0,\"ticks\":\"\"}}],\"contour\":[{\"type\":\"contour\",\"colorbar\":{\"outlinewidth\":0,\"ticks\":\"\"},\"colorscale\":[[0.0,\"#0d0887\"],[0.1111111111111111,\"#46039f\"],[0.2222222222222222,\"#7201a8\"],[0.3333333333333333,\"#9c179e\"],[0.4444444444444444,\"#bd3786\"],[0.5555555555555556,\"#d8576b\"],[0.6666666666666666,\"#ed7953\"],[0.7777777777777778,\"#fb9f3a\"],[0.8888888888888888,\"#fdca26\"],[1.0,\"#f0f921\"]]}],\"surface\":[{\"type\":\"surface\",\"colorbar\":{\"outlinewidth\":0,\"ticks\":\"\"},\"colorscale\":[[0.0,\"#0d0887\"],[0.1111111111111111,\"#46039f\"],[0.2222222222222222,\"#7201a8\"],[0.3333333333333333,\"#9c179e\"],[0.4444444444444444,\"#bd3786\"],[0.5555555555555556,\"#d8576b\"],[0.6666666666666666,\"#ed7953\"],[0.7777777777777778,\"#fb9f3a\"],[0.8888888888888888,\"#fdca26\"],[1.0,\"#f0f921\"]]}],\"mesh3d\":[{\"type\":\"mesh3d\",\"colorbar\":{\"outlinewidth\":0,\"ticks\":\"\"}}],\"scatter\":[{\"fillpattern\":{\"fillmode\":\"overlay\",\"size\":10,\"solidity\":0.2},\"type\":\"scatter\"}],\"parcoords\":[{\"type\":\"parcoords\",\"line\":{\"colorbar\":{\"outlinewidth\":0,\"ticks\":\"\"}}}],\"scatterpolargl\":[{\"type\":\"scatterpolargl\",\"marker\":{\"colorbar\":{\"outlinewidth\":0,\"ticks\":\"\"}}}],\"bar\":[{\"error_x\":{\"color\":\"#2a3f5f\"},\"error_y\":{\"color\":\"#2a3f5f\"},\"marker\":{\"line\":{\"color\":\"#E5ECF6\",\"width\":0.5},\"pattern\":{\"fillmode\":\"overlay\",\"size\":10,\"solidity\":0.2}},\"type\":\"bar\"}],\"scattergeo\":[{\"type\":\"scattergeo\",\"marker\":{\"colorbar\":{\"outlinewidth\":0,\"ticks\":\"\"}}}],\"scatterpolar\":[{\"type\":\"scatterpolar\",\"marker\":{\"colorbar\":{\"outlinewidth\":0,\"ticks\":\"\"}}}],\"histogram\":[{\"marker\":{\"pattern\":{\"fillmode\":\"overlay\",\"size\":10,\"solidity\":0.2}},\"type\":\"histogram\"}],\"scattergl\":[{\"type\":\"scattergl\",\"marker\":{\"colorbar\":{\"outlinewidth\":0,\"ticks\":\"\"}}}],\"scatter3d\":[{\"type\":\"scatter3d\",\"line\":{\"colorbar\":{\"outlinewidth\":0,\"ticks\":\"\"}},\"marker\":{\"colorbar\":{\"outlinewidth\":0,\"ticks\":\"\"}}}],\"scattermapbox\":[{\"type\":\"scattermapbox\",\"marker\":{\"colorbar\":{\"outlinewidth\":0,\"ticks\":\"\"}}}],\"scatterternary\":[{\"type\":\"scatterternary\",\"marker\":{\"colorbar\":{\"outlinewidth\":0,\"ticks\":\"\"}}}],\"scattercarpet\":[{\"type\":\"scattercarpet\",\"marker\":{\"colorbar\":{\"outlinewidth\":0,\"ticks\":\"\"}}}],\"carpet\":[{\"aaxis\":{\"endlinecolor\":\"#2a3f5f\",\"gridcolor\":\"white\",\"linecolor\":\"white\",\"minorgridcolor\":\"white\",\"startlinecolor\":\"#2a3f5f\"},\"baxis\":{\"endlinecolor\":\"#2a3f5f\",\"gridcolor\":\"white\",\"linecolor\":\"white\",\"minorgridcolor\":\"white\",\"startlinecolor\":\"#2a3f5f\"},\"type\":\"carpet\"}],\"table\":[{\"cells\":{\"fill\":{\"color\":\"#EBF0F8\"},\"line\":{\"color\":\"white\"}},\"header\":{\"fill\":{\"color\":\"#C8D4E3\"},\"line\":{\"color\":\"white\"}},\"type\":\"table\"}],\"barpolar\":[{\"marker\":{\"line\":{\"color\":\"#E5ECF6\",\"width\":0.5},\"pattern\":{\"fillmode\":\"overlay\",\"size\":10,\"solidity\":0.2}},\"type\":\"barpolar\"}],\"pie\":[{\"automargin\":true,\"type\":\"pie\"}]},\"layout\":{\"autotypenumbers\":\"strict\",\"colorway\":[\"#636efa\",\"#EF553B\",\"#00cc96\",\"#ab63fa\",\"#FFA15A\",\"#19d3f3\",\"#FF6692\",\"#B6E880\",\"#FF97FF\",\"#FECB52\"],\"font\":{\"color\":\"#2a3f5f\"},\"hovermode\":\"closest\",\"hoverlabel\":{\"align\":\"left\"},\"paper_bgcolor\":\"white\",\"plot_bgcolor\":\"#E5ECF6\",\"polar\":{\"bgcolor\":\"#E5ECF6\",\"angularaxis\":{\"gridcolor\":\"white\",\"linecolor\":\"white\",\"ticks\":\"\"},\"radialaxis\":{\"gridcolor\":\"white\",\"linecolor\":\"white\",\"ticks\":\"\"}},\"ternary\":{\"bgcolor\":\"#E5ECF6\",\"aaxis\":{\"gridcolor\":\"white\",\"linecolor\":\"white\",\"ticks\":\"\"},\"baxis\":{\"gridcolor\":\"white\",\"linecolor\":\"white\",\"ticks\":\"\"},\"caxis\":{\"gridcolor\":\"white\",\"linecolor\":\"white\",\"ticks\":\"\"}},\"coloraxis\":{\"colorbar\":{\"outlinewidth\":0,\"ticks\":\"\"}},\"colorscale\":{\"sequential\":[[0.0,\"#0d0887\"],[0.1111111111111111,\"#46039f\"],[0.2222222222222222,\"#7201a8\"],[0.3333333333333333,\"#9c179e\"],[0.4444444444444444,\"#bd3786\"],[0.5555555555555556,\"#d8576b\"],[0.6666666666666666,\"#ed7953\"],[0.7777777777777778,\"#fb9f3a\"],[0.8888888888888888,\"#fdca26\"],[1.0,\"#f0f921\"]],\"sequentialminus\":[[0.0,\"#0d0887\"],[0.1111111111111111,\"#46039f\"],[0.2222222222222222,\"#7201a8\"],[0.3333333333333333,\"#9c179e\"],[0.4444444444444444,\"#bd3786\"],[0.5555555555555556,\"#d8576b\"],[0.6666666666666666,\"#ed7953\"],[0.7777777777777778,\"#fb9f3a\"],[0.8888888888888888,\"#fdca26\"],[1.0,\"#f0f921\"]],\"diverging\":[[0,\"#8e0152\"],[0.1,\"#c51b7d\"],[0.2,\"#de77ae\"],[0.3,\"#f1b6da\"],[0.4,\"#fde0ef\"],[0.5,\"#f7f7f7\"],[0.6,\"#e6f5d0\"],[0.7,\"#b8e186\"],[0.8,\"#7fbc41\"],[0.9,\"#4d9221\"],[1,\"#276419\"]]},\"xaxis\":{\"gridcolor\":\"white\",\"linecolor\":\"white\",\"ticks\":\"\",\"title\":{\"standoff\":15},\"zerolinecolor\":\"white\",\"automargin\":true,\"zerolinewidth\":2},\"yaxis\":{\"gridcolor\":\"white\",\"linecolor\":\"white\",\"ticks\":\"\",\"title\":{\"standoff\":15},\"zerolinecolor\":\"white\",\"automargin\":true,\"zerolinewidth\":2},\"scene\":{\"xaxis\":{\"backgroundcolor\":\"#E5ECF6\",\"gridcolor\":\"white\",\"linecolor\":\"white\",\"showbackground\":true,\"ticks\":\"\",\"zerolinecolor\":\"white\",\"gridwidth\":2},\"yaxis\":{\"backgroundcolor\":\"#E5ECF6\",\"gridcolor\":\"white\",\"linecolor\":\"white\",\"showbackground\":true,\"ticks\":\"\",\"zerolinecolor\":\"white\",\"gridwidth\":2},\"zaxis\":{\"backgroundcolor\":\"#E5ECF6\",\"gridcolor\":\"white\",\"linecolor\":\"white\",\"showbackground\":true,\"ticks\":\"\",\"zerolinecolor\":\"white\",\"gridwidth\":2}},\"shapedefaults\":{\"line\":{\"color\":\"#2a3f5f\"}},\"annotationdefaults\":{\"arrowcolor\":\"#2a3f5f\",\"arrowhead\":0,\"arrowwidth\":1},\"geo\":{\"bgcolor\":\"white\",\"landcolor\":\"#E5ECF6\",\"subunitcolor\":\"white\",\"showland\":true,\"showlakes\":true,\"lakecolor\":\"white\"},\"title\":{\"x\":0.05},\"mapbox\":{\"style\":\"light\"}}},\"xaxis\":{\"anchor\":\"y\",\"domain\":[0.0,1.0],\"scaleanchor\":\"y\",\"constrain\":\"domain\",\"title\":{\"text\":\"Heads (sorted)\"}},\"yaxis\":{\"anchor\":\"x\",\"domain\":[0.0,1.0],\"autorange\":true,\"constrain\":\"domain\",\"title\":{\"text\":\"Layers\"}},\"coloraxis\":{\"colorscale\":[[0.0,\"rgb(103,0,31)\"],[0.1,\"rgb(178,24,43)\"],[0.2,\"rgb(214,96,77)\"],[0.3,\"rgb(244,165,130)\"],[0.4,\"rgb(253,219,199)\"],[0.5,\"rgb(247,247,247)\"],[0.6,\"rgb(209,229,240)\"],[0.7,\"rgb(146,197,222)\"],[0.8,\"rgb(67,147,195)\"],[0.9,\"rgb(33,102,172)\"],[1.0,\"rgb(5,48,97)\"]],\"cmid\":0},\"title\":{\"text\":\"Sorted Probe Accuracies on Capitals\"}},                        {\"responsive\": true}                    ).then(function(){\n",
       "                            \n",
       "var gd = document.getElementById('7cfd2462-2ede-409e-a7fa-2909522a93d6');\n",
       "var x = new MutationObserver(function (mutations, observer) {{\n",
       "        var display = window.getComputedStyle(gd).display;\n",
       "        if (!display || display === 'none') {{\n",
       "            console.log([gd, 'removed!']);\n",
       "            Plotly.purge(gd);\n",
       "            observer.disconnect();\n",
       "        }}\n",
       "}});\n",
       "\n",
       "// Listen for the removal of the full notebook cells\n",
       "var notebookContainer = gd.closest('#notebook-container');\n",
       "if (notebookContainer) {{\n",
       "    x.observe(notebookContainer, {childList: true});\n",
       "}}\n",
       "\n",
       "// Listen for the clearing of the current output cell\n",
       "var outputEl = gd.closest('.output');\n",
       "if (outputEl) {{\n",
       "    x.observe(outputEl, {childList: true});\n",
       "}}\n",
       "\n",
       "                        })                };                });            </script>        </div>"
      ]
     },
     "metadata": {},
     "output_type": "display_data"
    }
   ],
   "source": [
    "a = -np.sort(-all_head_accs_np.reshape(nin_d.model.cfg.n_layers, nin_d.model.cfg.n_heads), axis = 1)\n",
    "px.imshow(a, labels = {\"x\" : \"Heads (sorted)\", \"y\": \"Layers\"},title = \"Sorted Probe Accuracies on Capitals\", color_continuous_midpoint = 0, color_continuous_scale=\"RdBu\", origin = \"lower\")"
   ]
  },
  {
   "cell_type": "code",
   "execution_count": 39,
   "metadata": {},
   "outputs": [
    {
     "name": "stderr",
     "output_type": "stream",
     "text": [
      "1200it [00:01, 1009.58it/s]\n"
     ]
    }
   ],
   "source": [
    "labels = [sample[\"n_correct\"] for sample in nin_d.dataset]\n",
    "total_accs = []\n",
    "y_preds = []\n",
    "nin_d.attn_head_acts = torch.stack(nin_d.attn_head_acts).numpy()\n",
    "for i, clf in tqdm(enumerate(nin_d.probes)):\n",
    "    # print(torch.stack(nin_d.attn_head_acts)[:, i].shape)\n",
    "    y_pred = clf.predict(nin_d.attn_head_acts[:, i])\n",
    "    y_preds.append(y_pred)\n",
    "    total_accs.append(accuracy_score(labels, y_pred))\n",
    "    \n"
   ]
  },
  {
   "cell_type": "code",
   "execution_count": 28,
   "metadata": {},
   "outputs": [
    {
     "data": {
      "image/png": "[encoded data removed]",
      "text/plain": [
       "<Figure size 640x480 with 1 Axes>"
      ]
     },
     "metadata": {},
     "output_type": "display_data"
    }
   ],
   "source": [
    "import numpy as np\n",
    "import matplotlib.pyplot as plt\n",
    "\n",
    "def histogram(arr, title):\n",
    "\n",
    "    mean_tqa = np.mean(arr)\n",
    "    std_tqa = np.std(arr)\n",
    "\n",
    "    # Plot histogram\n",
    "    plt.hist(arr, bins=10, edgecolor='black')\n",
    "\n",
    "    # Add vertical lines for mean and standard deviation\n",
    "    plt.axvline(mean_tqa, color='r', linestyle='dashed', linewidth=1, label=f'Mean: {mean_tqa:.2f}')\n",
    "    plt.axvline(mean_tqa - std_tqa, color='b', linestyle='dotted', linewidth=1, label=f'STD: {std_tqa:.2f}')\n",
    "    plt.axvline(mean_tqa + std_tqa, color='b', linestyle='dotted', linewidth=1)\n",
    "\n",
    "    # Set title and labels\n",
    "    plt.title(title)\n",
    "    plt.xlabel('Accuracy')\n",
    "    plt.ylabel('Frequency')\n",
    "\n",
    "    # Add a legend\n",
    "    plt.legend()\n",
    "\n",
    "    # Show plot\n",
    "    plt.show()\n",
    "\n",
    "histogram(all_head_accs_np, title = \"distribution of incontext probe accs\")"
   ]
  },
  {
   "cell_type": "code",
   "execution_count": 45,
   "metadata": {},
   "outputs": [
    {
     "data": {
      "application/vnd.plotly.v1+json": {
       "config": {
        "plotlyServerURL": "https://plot.ly"
       },
       "data": [
        {
         "coloraxis": "coloraxis",
         "hovertemplate": "Heads (sorted): %{x}<br>Layers: %{y}<br>color: %{z}<extra></extra>",
         "name": "0",
         "type": "heatmap",
         "xaxis": "x",
         "yaxis": "y",
         "z": [
          [
           0.1935483870967742,
           0.1935483870967742,
           0.1935483870967742,
           0.1935483870967742,
           0.1935483870967742,
           0.1935483870967742,
           0.1935483870967742,
           0.1935483870967742,
           0.20967741935483872,
           0.1935483870967742,
           0.1935483870967742,
           0.1935483870967742,
           0.1935483870967742,
           0.1935483870967742,
           0.1935483870967742,
           0.1935483870967742,
           0.1935483870967742,
           0.1935483870967742,
           0.1935483870967742,
           0.1935483870967742,
           0.1935483870967742,
           0.1935483870967742,
           0.2056451612903226,
           0.1935483870967742,
           0.1935483870967742
          ],
          [
           0.29838709677419356,
           0.25806451612903225,
           0.23387096774193547,
           0.23790322580645162,
           0.2782258064516129,
           0.24596774193548387,
           0.22580645161290322,
           0.375,
           0.2782258064516129,
           0.32661290322580644,
           0.3588709677419355,
           0.2903225806451613,
           0.23387096774193547,
           0.2782258064516129,
           0.22983870967741934,
           0.3024193548387097,
           0.25806451612903225,
           0.2701612903225806,
           0.25,
           0.1975806451612903,
           0.2620967741935484,
           0.22580645161290322,
           0.2661290322580645,
           0.23790322580645162,
           0.2862903225806452
          ],
          [
           0.1774193548387097,
           0.23790322580645162,
           0.2782258064516129,
           0.22580645161290322,
           0.3024193548387097,
           0.2701612903225806,
           0.33064516129032256,
           0.22580645161290322,
           0.25806451612903225,
           0.24596774193548387,
           0.2782258064516129,
           0.2782258064516129,
           0.4032258064516129,
           0.20161290322580644,
           0.2217741935483871,
           0.22580645161290322,
           0.2661290322580645,
           0.24596774193548387,
           0.25,
           0.25806451612903225,
           0.29435483870967744,
           0.2056451612903226,
           0.2862903225806452,
           0.25806451612903225,
           0.27419354838709675
          ],
          [
           0.31048387096774194,
           0.2903225806451613,
           0.21774193548387097,
           0.23790322580645162,
           0.3024193548387097,
           0.32661290322580644,
           0.23387096774193547,
           0.2661290322580645,
           0.3346774193548387,
           0.2540322580645161,
           0.24596774193548387,
           0.25,
           0.2782258064516129,
           0.22580645161290322,
           0.2217741935483871,
           0.3064516129032258,
           0.22580645161290322,
           0.21370967741935484,
           0.2540322580645161,
           0.25806451612903225,
           0.28225806451612906,
           0.2540322580645161,
           0.20967741935483872,
           0.2903225806451613,
           0.24596774193548387
          ],
          [
           0.2661290322580645,
           0.23790322580645162,
           0.1935483870967742,
           0.29838709677419356,
           0.28225806451612906,
           0.2056451612903226,
           0.24596774193548387,
           0.28225806451612906,
           0.3346774193548387,
           0.24193548387096775,
           0.2862903225806452,
           0.21370967741935484,
           0.24193548387096775,
           0.3951612903225806,
           0.2782258064516129,
           0.2661290322580645,
           0.25,
           0.31451612903225806,
           0.2782258064516129,
           0.3629032258064516,
           0.25,
           0.2661290322580645,
           0.28225806451612906,
           0.25806451612903225,
           0.23387096774193547
          ],
          [
           0.27419354838709675,
           0.3346774193548387,
           0.2661290322580645,
           0.23790322580645162,
           0.3588709677419355,
           0.3064516129032258,
           0.29435483870967744,
           0.25,
           0.23387096774193547,
           0.29435483870967744,
           0.24596774193548387,
           0.2217741935483871,
           0.24193548387096775,
           0.27419354838709675,
           0.375,
           0.3024193548387097,
           0.32661290322580644,
           0.2217741935483871,
           0.4314516129032258,
           0.25,
           0.25806451612903225,
           0.23790322580645162,
           0.24596774193548387,
           0.23790322580645162,
           0.3064516129032258
          ],
          [
           0.2620967741935484,
           0.31048387096774194,
           0.2540322580645161,
           0.25806451612903225,
           0.2217741935483871,
           0.25806451612903225,
           0.2661290322580645,
           0.29435483870967744,
           0.24193548387096775,
           0.29838709677419356,
           0.2620967741935484,
           0.21774193548387097,
           0.29435483870967744,
           0.24596774193548387,
           0.22580645161290322,
           0.2620967741935484,
           0.23790322580645162,
           0.32661290322580644,
           0.2661290322580645,
           0.3709677419354839,
           0.2862903225806452,
           0.24596774193548387,
           0.31451612903225806,
           0.3225806451612903,
           0.31451612903225806
          ],
          [
           0.3548387096774194,
           0.21774193548387097,
           0.2620967741935484,
           0.25806451612903225,
           0.3024193548387097,
           0.2540322580645161,
           0.24193548387096775,
           0.2903225806451613,
           0.2661290322580645,
           0.24596774193548387,
           0.27419354838709675,
           0.2903225806451613,
           0.24193548387096775,
           0.2620967741935484,
           0.35080645161290325,
           0.2903225806451613,
           0.2903225806451613,
           0.23790322580645162,
           0.27419354838709675,
           0.29435483870967744,
           0.24193548387096775,
           0.3548387096774194,
           0.2540322580645161,
           0.33064516129032256,
           0.29838709677419356
          ],
          [
           0.27419354838709675,
           0.22580645161290322,
           0.24596774193548387,
           0.29838709677419356,
           0.2661290322580645,
           0.3185483870967742,
           0.2540322580645161,
           0.2661290322580645,
           0.32661290322580644,
           0.2903225806451613,
           0.21774193548387097,
           0.25806451612903225,
           0.22580645161290322,
           0.2540322580645161,
           0.2862903225806452,
           0.4435483870967742,
           0.3024193548387097,
           0.29435483870967744,
           0.2620967741935484,
           0.25,
           0.24596774193548387,
           0.25806451612903225,
           0.36693548387096775,
           0.3346774193548387,
           0.23790322580645162
          ],
          [
           0.1935483870967742,
           0.4112903225806452,
           0.22983870967741934,
           0.21370967741935484,
           0.28225806451612906,
           0.35080645161290325,
           0.2056451612903226,
           0.29838709677419356,
           0.31048387096774194,
           0.3346774193548387,
           0.22983870967741934,
           0.23387096774193547,
           0.4314516129032258,
           0.4314516129032258,
           0.32661290322580644,
           0.24596774193548387,
           0.2782258064516129,
           0.2661290322580645,
           0.2661290322580645,
           0.29838709677419356,
           0.3346774193548387,
           0.28225806451612906,
           0.3185483870967742,
           0.2661290322580645,
           0.24193548387096775
          ],
          [
           0.2903225806451613,
           0.24596774193548387,
           0.3346774193548387,
           0.3024193548387097,
           0.22983870967741934,
           0.25,
           0.21774193548387097,
           0.1935483870967742,
           0.2540322580645161,
           0.2782258064516129,
           0.3024193548387097,
           0.3064516129032258,
           0.40725806451612906,
           0.20967741935483872,
           0.27419354838709675,
           0.1935483870967742,
           0.3024193548387097,
           0.27419354838709675,
           0.29838709677419356,
           0.3548387096774194,
           0.2862903225806452,
           0.3185483870967742,
           0.33064516129032256,
           0.3225806451612903,
           0.20161290322580644
          ],
          [
           0.23387096774193547,
           0.4879032258064516,
           0.2903225806451613,
           0.3346774193548387,
           0.3024193548387097,
           0.43951612903225806,
           0.1935483870967742,
           0.2056451612903226,
           0.46774193548387094,
           0.25806451612903225,
           0.2862903225806452,
           0.1935483870967742,
           0.3870967741935484,
           0.3629032258064516,
           0.29435483870967744,
           0.24193548387096775,
           0.1975806451612903,
           0.31451612903225806,
           0.22983870967741934,
           0.40725806451612906,
           0.25,
           0.3185483870967742,
           0.3467741935483871,
           0.4153225806451613,
           0.33064516129032256
          ],
          [
           0.29838709677419356,
           0.21774193548387097,
           0.23790322580645162,
           0.3225806451612903,
           0.3185483870967742,
           0.2903225806451613,
           0.22983870967741934,
           0.2661290322580645,
           0.3064516129032258,
           0.4112903225806452,
           0.3346774193548387,
           0.2903225806451613,
           0.36693548387096775,
           0.31048387096774194,
           0.4112903225806452,
           0.25,
           0.2903225806451613,
           0.1935483870967742,
           0.31048387096774194,
           0.3548387096774194,
           0.3225806451612903,
           0.33064516129032256,
           0.3064516129032258,
           0.3225806451612903,
           0.21774193548387097
          ],
          [
           0.6088709677419355,
           0.3024193548387097,
           0.33064516129032256,
           0.3225806451612903,
           0.1935483870967742,
           0.32661290322580644,
           0.43951612903225806,
           0.33064516129032256,
           0.3346774193548387,
           0.3548387096774194,
           0.3467741935483871,
           0.45161290322580644,
           0.3951612903225806,
           0.34274193548387094,
           0.2782258064516129,
           0.3387096774193548,
           0.36693548387096775,
           0.29838709677419356,
           0.2620967741935484,
           0.33064516129032256,
           0.32661290322580644,
           0.2903225806451613,
           0.3911290322580645,
           0.3709677419354839,
           0.34274193548387094
          ],
          [
           0.3588709677419355,
           0.3387096774193548,
           0.5040322580645161,
           0.3467741935483871,
           0.375,
           0.6169354838709677,
           0.3870967741935484,
           0.3064516129032258,
           0.3588709677419355,
           0.375,
           0.3346774193548387,
           0.4475806451612903,
           0.3911290322580645,
           0.3387096774193548,
           0.3911290322580645,
           0.43548387096774194,
           0.4475806451612903,
           0.3951612903225806,
           0.36693548387096775,
           0.5241935483870968,
           0.4959677419354839,
           0.375,
           0.3225806451612903,
           0.3709677419354839,
           0.47580645161290325
          ],
          [
           0.375,
           0.3790322580645161,
           0.3709677419354839,
           0.4879032258064516,
           0.3870967741935484,
           0.24193548387096775,
           0.33064516129032256,
           0.4112903225806452,
           0.3185483870967742,
           0.4475806451612903,
           0.29435483870967744,
           0.40725806451612906,
           0.4112903225806452,
           0.22580645161290322,
           0.3629032258064516,
           0.5201612903225806,
           0.31451612903225806,
           0.3387096774193548,
           0.49193548387096775,
           0.4153225806451613,
           0.32661290322580644,
           0.4314516129032258,
           0.41935483870967744,
           0.23790322580645162,
           0.3387096774193548
          ],
          [
           0.46774193548387094,
           0.4153225806451613,
           0.40725806451612906,
           0.5846774193548387,
           0.40725806451612906,
           0.3548387096774194,
           0.43951612903225806,
           0.45161290322580644,
           0.41935483870967744,
           0.3951612903225806,
           0.35080645161290325,
           0.2782258064516129,
           0.3709677419354839,
           0.4637096774193548,
           0.3387096774193548,
           0.5483870967741935,
           0.31048387096774194,
           0.4314516129032258,
           0.47580645161290325,
           0.29435483870967744,
           0.47580645161290325,
           0.6048387096774194,
           0.375,
           0.5282258064516129,
           0.39919354838709675
          ],
          [
           0.4435483870967742,
           0.6733870967741935,
           0.532258064516129,
           0.3790322580645161,
           0.25806451612903225,
           0.5241935483870968,
           0.5362903225806451,
           0.4717741935483871,
           0.29435483870967744,
           0.42338709677419356,
           0.4838709677419355,
           0.42338709677419356,
           0.3346774193548387,
           0.4112903225806452,
           0.46774193548387094,
           0.4838709677419355,
           0.5685483870967742,
           0.6129032258064516,
           0.5806451612903226,
           0.43548387096774194,
           0.5766129032258065,
           0.4838709677419355,
           0.2056451612903226,
           0.33064516129032256,
           0.38306451612903225
          ],
          [
           0.45161290322580644,
           0.45564516129032256,
           0.5403225806451613,
           0.4435483870967742,
           0.4879032258064516,
           0.5483870967741935,
           0.42338709677419356,
           0.3629032258064516,
           0.5201612903225806,
           0.375,
           0.5766129032258065,
           0.40725806451612906,
           0.4798387096774194,
           0.2862903225806452,
           0.5201612903225806,
           0.5725806451612904,
           0.38306451612903225,
           0.4959677419354839,
           0.6411290322580645,
           0.5161290322580645,
           0.5080645161290323,
           0.4879032258064516,
           0.4838709677419355,
           0.3225806451612903,
           0.3024193548387097
          ],
          [
           0.5282258064516129,
           0.4314516129032258,
           0.2217741935483871,
           0.31451612903225806,
           0.41935483870967744,
           0.5766129032258065,
           0.3629032258064516,
           0.3548387096774194,
           0.3951612903225806,
           0.4274193548387097,
           0.6814516129032258,
           0.4153225806451613,
           0.3225806451612903,
           0.5604838709677419,
           0.5,
           0.5645161290322581,
           0.46774193548387094,
           0.6088709677419355,
           0.6774193548387096,
           0.4879032258064516,
           0.6653225806451613,
           0.3225806451612903,
           0.3790322580645161,
           0.3629032258064516,
           0.5080645161290323
          ],
          [
           0.29838709677419356,
           0.43548387096774194,
           0.4032258064516129,
           0.45161290322580644,
           0.5,
           0.6451612903225806,
           0.6169354838709677,
           0.5403225806451613,
           0.4314516129032258,
           0.5201612903225806,
           0.35080645161290325,
           0.23387096774193547,
           0.4274193548387097,
           0.5645161290322581,
           0.3951612903225806,
           0.3629032258064516,
           0.5766129032258065,
           0.5443548387096774,
           0.4637096774193548,
           0.7016129032258065,
           0.5564516129032258,
           0.7258064516129032,
           0.5362903225806451,
           0.4032258064516129,
           0.3467741935483871
          ],
          [
           0.24193548387096775,
           0.43548387096774194,
           0.5725806451612904,
           0.42338709677419356,
           0.5725806451612904,
           0.5,
           0.43548387096774194,
           0.5120967741935484,
           0.5524193548387096,
           0.3951612903225806,
           0.6411290322580645,
           0.5645161290322581,
           0.625,
           0.8145161290322581,
           0.5362903225806451,
           0.5846774193548387,
           0.5645161290322581,
           0.5806451612903226,
           0.3911290322580645,
           0.7258064516129032,
           0.4475806451612903,
           0.5887096774193549,
           0.45564516129032256,
           0.49193548387096775,
           0.3790322580645161
          ],
          [
           0.31451612903225806,
           0.5362903225806451,
           0.4596774193548387,
           0.6088709677419355,
           0.3709677419354839,
           0.3588709677419355,
           0.5080645161290323,
           0.5241935483870968,
           0.6209677419354839,
           0.4959677419354839,
           0.3951612903225806,
           0.6169354838709677,
           0.4637096774193548,
           0.3548387096774194,
           0.4798387096774194,
           0.6693548387096774,
           0.3870967741935484,
           0.5524193548387096,
           0.4717741935483871,
           0.2540322580645161,
           0.4032258064516129,
           0.5887096774193549,
           0.5604838709677419,
           0.5564516129032258,
           0.6451612903225806
          ],
          [
           0.6733870967741935,
           0.4153225806451613,
           0.4032258064516129,
           0.5887096774193549,
           0.5241935483870968,
           0.5362903225806451,
           0.5766129032258065,
           0.4112903225806452,
           0.43548387096774194,
           0.42338709677419356,
           0.5362903225806451,
           0.7661290322580645,
           0.3709677419354839,
           0.6008064516129032,
           0.4798387096774194,
           0.4838709677419355,
           0.6814516129032258,
           0.4314516129032258,
           0.6612903225806451,
           0.5887096774193549,
           0.7459677419354839,
           0.5685483870967742,
           0.657258064516129,
           0.5967741935483871,
           0.3629032258064516
          ],
          [
           0.23790322580645162,
           0.6411290322580645,
           0.45564516129032256,
           0.6088709677419355,
           0.6854838709677419,
           0.6451612903225806,
           0.6532258064516129,
           0.5443548387096774,
           0.5604838709677419,
           0.6653225806451613,
           0.6532258064516129,
           0.6975806451612904,
           0.43548387096774194,
           0.5080645161290323,
           0.6008064516129032,
           0.4153225806451613,
           0.7580645161290323,
           0.31451612903225806,
           0.49193548387096775,
           0.49193548387096775,
           0.40725806451612906,
           0.3951612903225806,
           0.47580645161290325,
           0.4596774193548387,
           0.46774193548387094
          ],
          [
           0.6008064516129032,
           0.657258064516129,
           0.42338709677419356,
           0.5201612903225806,
           0.6129032258064516,
           0.5362903225806451,
           0.5887096774193549,
           0.4717741935483871,
           0.5483870967741935,
           0.5685483870967742,
           0.532258064516129,
           0.39919354838709675,
           0.5645161290322581,
           0.5766129032258065,
           0.5846774193548387,
           0.5443548387096774,
           0.36693548387096775,
           0.717741935483871,
           0.28225806451612906,
           0.5564516129032258,
           0.3548387096774194,
           0.6088709677419355,
           0.6814516129032258,
           0.5,
           0.5645161290322581
          ],
          [
           0.5604838709677419,
           0.5282258064516129,
           0.3548387096774194,
           0.4637096774193548,
           0.4838709677419355,
           0.3467741935483871,
           0.6209677419354839,
           0.31048387096774194,
           0.7056451612903226,
           0.33064516129032256,
           0.5080645161290323,
           0.6370967741935484,
           0.34274193548387094,
           0.22983870967741934,
           0.657258064516129,
           0.5282258064516129,
           0.7096774193548387,
           0.4798387096774194,
           0.3870967741935484,
           0.35080645161290325,
           0.5201612903225806,
           0.31451612903225806,
           0.5806451612903226,
           0.5685483870967742,
           0.5967741935483871
          ],
          [
           0.21370967741935484,
           0.5403225806451613,
           0.47580645161290325,
           0.6330645161290323,
           0.3588709677419355,
           0.7258064516129032,
           0.3387096774193548,
           0.375,
           0.24596774193548387,
           0.4959677419354839,
           0.3790322580645161,
           0.49193548387096775,
           0.5685483870967742,
           0.43951612903225806,
           0.5443548387096774,
           0.4274193548387097,
           0.47580645161290325,
           0.5967741935483871,
           0.4274193548387097,
           0.42338709677419356,
           0.4838709677419355,
           0.3467741935483871,
           0.4435483870967742,
           0.2903225806451613,
           0.5846774193548387
          ],
          [
           0.34274193548387094,
           0.3588709677419355,
           0.4475806451612903,
           0.5806451612903226,
           0.4112903225806452,
           0.3225806451612903,
           0.5806451612903226,
           0.5443548387096774,
           0.29838709677419356,
           0.29435483870967744,
           0.3185483870967742,
           0.3467741935483871,
           0.5161290322580645,
           0.22580645161290322,
           0.5766129032258065,
           0.7540322580645161,
           0.20967741935483872,
           0.5241935483870968,
           0.6975806451612904,
           0.5362903225806451,
           0.33064516129032256,
           0.6370967741935484,
           0.24596774193548387,
           0.5080645161290323,
           0.4959677419354839
          ],
          [
           0.6290322580645161,
           0.5766129032258065,
           0.6895161290322581,
           0.3629032258064516,
           0.5040322580645161,
           0.6774193548387096,
           0.4435483870967742,
           0.38306451612903225,
           0.6612903225806451,
           0.717741935483871,
           0.3951612903225806,
           0.6169354838709677,
           0.2862903225806452,
           0.4959677419354839,
           0.31451612903225806,
           0.36693548387096775,
           0.47580645161290325,
           0.532258064516129,
           0.4112903225806452,
           0.6532258064516129,
           0.6370967741935484,
           0.6008064516129032,
           0.5887096774193549,
           0.4435483870967742,
           0.6612903225806451
          ],
          [
           0.5362903225806451,
           0.47580645161290325,
           0.5040322580645161,
           0.4838709677419355,
           0.3467741935483871,
           0.7217741935483871,
           0.46774193548387094,
           0.3629032258064516,
           0.6733870967741935,
           0.40725806451612906,
           0.4637096774193548,
           0.6854838709677419,
           0.24596774193548387,
           0.6048387096774194,
           0.3225806451612903,
           0.36693548387096775,
           0.3911290322580645,
           0.4959677419354839,
           0.46774193548387094,
           0.5201612903225806,
           0.5524193548387096,
           0.3951612903225806,
           0.33064516129032256,
           0.6411290322580645,
           0.5403225806451613
          ],
          [
           0.4475806451612903,
           0.5040322580645161,
           0.3064516129032258,
           0.6129032258064516,
           0.5766129032258065,
           0.6451612903225806,
           0.4032258064516129,
           0.5564516129032258,
           0.6854838709677419,
           0.39919354838709675,
           0.46774193548387094,
           0.6653225806451613,
           0.3588709677419355,
           0.5766129032258065,
           0.22580645161290322,
           0.5080645161290323,
           0.6209677419354839,
           0.4798387096774194,
           0.49193548387096775,
           0.5120967741935484,
           0.5483870967741935,
           0.31048387096774194,
           0.29435483870967744,
           0.4153225806451613,
           0.6048387096774194
          ],
          [
           0.4435483870967742,
           0.6491935483870968,
           0.5120967741935484,
           0.5887096774193549,
           0.5,
           0.4637096774193548,
           0.45161290322580644,
           0.375,
           0.5120967741935484,
           0.4637096774193548,
           0.5,
           0.5846774193548387,
           0.3024193548387097,
           0.5846774193548387,
           0.5483870967741935,
           0.6612903225806451,
           0.31451612903225806,
           0.5080645161290323,
           0.3911290322580645,
           0.532258064516129,
           0.6854838709677419,
           0.2540322580645161,
           0.43548387096774194,
           0.4032258064516129,
           0.40725806451612906
          ],
          [
           0.5846774193548387,
           0.5241935483870968,
           0.6693548387096774,
           0.25806451612903225,
           0.3911290322580645,
           0.25,
           0.4274193548387097,
           0.6491935483870968,
           0.4314516129032258,
           0.5080645161290323,
           0.5766129032258065,
           0.3951612903225806,
           0.3387096774193548,
           0.6814516129032258,
           0.6088709677419355,
           0.3225806451612903,
           0.43951612903225806,
           0.4475806451612903,
           0.7096774193548387,
           0.5604838709677419,
           0.5,
           0.21370967741935484,
           0.49193548387096775,
           0.33064516129032256,
           0.45564516129032256
          ],
          [
           0.3346774193548387,
           0.3387096774193548,
           0.3629032258064516,
           0.34274193548387094,
           0.49193548387096775,
           0.40725806451612906,
           0.3588709677419355,
           0.5,
           0.23387096774193547,
           0.4112903225806452,
           0.6129032258064516,
           0.592741935483871,
           0.6451612903225806,
           0.3024193548387097,
           0.43951612903225806,
           0.2862903225806452,
           0.5120967741935484,
           0.7137096774193549,
           0.22983870967741934,
           0.375,
           0.6370967741935484,
           0.5241935483870968,
           0.5161290322580645,
           0.31451612903225806,
           0.23790322580645162
          ],
          [
           0.6129032258064516,
           0.3225806451612903,
           0.43951612903225806,
           0.45564516129032256,
           0.4314516129032258,
           0.43951612903225806,
           0.3911290322580645,
           0.592741935483871,
           0.5766129032258065,
           0.3064516129032258,
           0.35080645161290325,
           0.3064516129032258,
           0.5040322580645161,
           0.3951612903225806,
           0.33064516129032256,
           0.4435483870967742,
           0.5846774193548387,
           0.7096774193548387,
           0.3548387096774194,
           0.7096774193548387,
           0.4112903225806452,
           0.4032258064516129,
           0.2701612903225806,
           0.29838709677419356,
           0.5887096774193549
          ],
          [
           0.4032258064516129,
           0.22983870967741934,
           0.6612903225806451,
           0.7016129032258065,
           0.29435483870967744,
           0.4475806451612903,
           0.45564516129032256,
           0.2056451612903226,
           0.4032258064516129,
           0.4032258064516129,
           0.6048387096774194,
           0.25,
           0.2620967741935484,
           0.6451612903225806,
           0.3629032258064516,
           0.36693548387096775,
           0.22580645161290322,
           0.7379032258064516,
           0.6008064516129032,
           0.46774193548387094,
           0.3790322580645161,
           0.3225806451612903,
           0.4435483870967742,
           0.5040322580645161,
           0.3790322580645161
          ],
          [
           0.6209677419354839,
           0.2661290322580645,
           0.2540322580645161,
           0.25806451612903225,
           0.40725806451612906,
           0.3064516129032258,
           0.32661290322580644,
           0.6088709677419355,
           0.6290322580645161,
           0.3548387096774194,
           0.5403225806451613,
           0.3548387096774194,
           0.4879032258064516,
           0.40725806451612906,
           0.3911290322580645,
           0.31451612903225806,
           0.25,
           0.4959677419354839,
           0.3467741935483871,
           0.43951612903225806,
           0.29838709677419356,
           0.43548387096774194,
           0.5201612903225806,
           0.28225806451612906,
           0.27419354838709675
          ],
          [
           0.4112903225806452,
           0.4838709677419355,
           0.5524193548387096,
           0.5120967741935484,
           0.3629032258064516,
           0.36693548387096775,
           0.5725806451612904,
           0.5241935483870968,
           0.43548387096774194,
           0.42338709677419356,
           0.1935483870967742,
           0.5443548387096774,
           0.4274193548387097,
           0.6532258064516129,
           0.592741935483871,
           0.3629032258064516,
           0.36693548387096775,
           0.5201612903225806,
           0.28225806451612906,
           0.375,
           0.3185483870967742,
           0.4435483870967742,
           0.6451612903225806,
           0.5282258064516129,
           0.3346774193548387
          ],
          [
           0.5685483870967742,
           0.47580645161290325,
           0.3467741935483871,
           0.41935483870967744,
           0.23790322580645162,
           0.5161290322580645,
           0.3951612903225806,
           0.4959677419354839,
           0.31451612903225806,
           0.6491935483870968,
           0.5887096774193549,
           0.6330645161290323,
           0.6370967741935484,
           0.4274193548387097,
           0.40725806451612906,
           0.5,
           0.46774193548387094,
           0.32661290322580644,
           0.3790322580645161,
           0.34274193548387094,
           0.3790322580645161,
           0.5403225806451613,
           0.4475806451612903,
           0.31451612903225806,
           0.3870967741935484
          ],
          [
           0.4314516129032258,
           0.4637096774193548,
           0.43951612903225806,
           0.3185483870967742,
           0.4435483870967742,
           0.23790322580645162,
           0.4879032258064516,
           0.31048387096774194,
           0.2782258064516129,
           0.5282258064516129,
           0.3548387096774194,
           0.6209677419354839,
           0.2903225806451613,
           0.5967741935483871,
           0.2903225806451613,
           0.3225806451612903,
           0.7137096774193549,
           0.2620967741935484,
           0.3467741935483871,
           0.4475806451612903,
           0.3911290322580645,
           0.3185483870967742,
           0.5403225806451613,
           0.532258064516129,
           0.4032258064516129
          ],
          [
           0.5645161290322581,
           0.42338709677419356,
           0.3467741935483871,
           0.3629032258064516,
           0.4153225806451613,
           0.657258064516129,
           0.25,
           0.3185483870967742,
           0.2903225806451613,
           0.3709677419354839,
           0.34274193548387094,
           0.42338709677419356,
           0.3629032258064516,
           0.4435483870967742,
           0.3225806451612903,
           0.22983870967741934,
           0.6774193548387096,
           0.31451612903225806,
           0.5967741935483871,
           0.4112903225806452,
           0.3346774193548387,
           0.36693548387096775,
           0.4032258064516129,
           0.3024193548387097,
           0.32661290322580644
          ],
          [
           0.2782258064516129,
           0.4879032258064516,
           0.4879032258064516,
           0.4475806451612903,
           0.42338709677419356,
           0.4596774193548387,
           0.5806451612903226,
           0.49193548387096775,
           0.5201612903225806,
           0.5080645161290323,
           0.3629032258064516,
           0.6330645161290323,
           0.6290322580645161,
           0.49193548387096775,
           0.3064516129032258,
           0.43548387096774194,
           0.2217741935483871,
           0.4879032258064516,
           0.5282258064516129,
           0.5080645161290323,
           0.5846774193548387,
           0.1975806451612903,
           0.6774193548387096,
           0.2903225806451613,
           0.25
          ],
          [
           0.2620967741935484,
           0.4717741935483871,
           0.2540322580645161,
           0.3064516129032258,
           0.7338709677419355,
           0.4798387096774194,
           0.6411290322580645,
           0.5362903225806451,
           0.6048387096774194,
           0.3024193548387097,
           0.2701612903225806,
           0.5,
           0.40725806451612906,
           0.3346774193548387,
           0.3951612903225806,
           0.42338709677419356,
           0.40725806451612906,
           0.3951612903225806,
           0.3588709677419355,
           0.45161290322580644,
           0.375,
           0.41935483870967744,
           0.4596774193548387,
           0.5604838709677419,
           0.2903225806451613
          ],
          [
           0.39919354838709675,
           0.5362903225806451,
           0.4798387096774194,
           0.33064516129032256,
           0.3548387096774194,
           0.4274193548387097,
           0.27419354838709675,
           0.5403225806451613,
           0.22983870967741934,
           0.43951612903225806,
           0.375,
           0.5604838709677419,
           0.40725806451612906,
           0.4153225806451613,
           0.5524193548387096,
           0.6774193548387096,
           0.6733870967741935,
           0.3346774193548387,
           0.22580645161290322,
           0.6935483870967742,
           0.5,
           0.6975806451612904,
           0.4959677419354839,
           0.41935483870967744,
           0.2056451612903226
          ],
          [
           0.4596774193548387,
           0.3588709677419355,
           0.4596774193548387,
           0.46774193548387094,
           0.2903225806451613,
           0.22580645161290322,
           0.4959677419354839,
           0.35080645161290325,
           0.29838709677419356,
           0.5403225806451613,
           0.3951612903225806,
           0.4838709677419355,
           0.39919354838709675,
           0.45161290322580644,
           0.6975806451612904,
           0.4314516129032258,
           0.5201612903225806,
           0.5967741935483871,
           0.5967741935483871,
           0.3629032258064516,
           0.40725806451612906,
           0.6370967741935484,
           0.5806451612903226,
           0.39919354838709675,
           0.3225806451612903
          ],
          [
           0.5040322580645161,
           0.6129032258064516,
           0.46774193548387094,
           0.4637096774193548,
           0.5201612903225806,
           0.45564516129032256,
           0.45564516129032256,
           0.6209677419354839,
           0.49193548387096775,
           0.6129032258064516,
           0.6129032258064516,
           0.47580645161290325,
           0.6048387096774194,
           0.4314516129032258,
           0.4596774193548387,
           0.5564516129032258,
           0.5846774193548387,
           0.5766129032258065,
           0.4314516129032258,
           0.6048387096774194,
           0.46774193548387094,
           0.5766129032258065,
           0.4838709677419355,
           0.5806451612903226,
           0.3467741935483871
          ],
          [
           0.42338709677419356,
           0.6370967741935484,
           0.49193548387096775,
           0.5887096774193549,
           0.6169354838709677,
           0.5201612903225806,
           0.5161290322580645,
           0.41935483870967744,
           0.532258064516129,
           0.5403225806451613,
           0.5241935483870968,
           0.4314516129032258,
           0.4838709677419355,
           0.5161290322580645,
           0.5403225806451613,
           0.5846774193548387,
           0.592741935483871,
           0.6330645161290323,
           0.5403225806451613,
           0.5725806451612904,
           0.6048387096774194,
           0.4838709677419355,
           0.5806451612903226,
           0.5201612903225806,
           0.4838709677419355
          ]
         ]
        }
       ],
       "layout": {
        "coloraxis": {
         "cmid": 0,
         "colorscale": [
          [
           0,
           "rgb(103,0,31)"
          ],
          [
           0.1,
           "rgb(178,24,43)"
          ],
          [
           0.2,
           "rgb(214,96,77)"
          ],
          [
           0.3,
           "rgb(244,165,130)"
          ],
          [
           0.4,
           "rgb(253,219,199)"
          ],
          [
           0.5,
           "rgb(247,247,247)"
          ],
          [
           0.6,
           "rgb(209,229,240)"
          ],
          [
           0.7,
           "rgb(146,197,222)"
          ],
          [
           0.8,
           "rgb(67,147,195)"
          ],
          [
           0.9,
           "rgb(33,102,172)"
          ],
          [
           1,
           "rgb(5,48,97)"
          ]
         ]
        },
        "template": {
         "data": {
          "bar": [
           {
            "error_x": {
             "color": "#2a3f5f"
            },
            "error_y": {
             "color": "#2a3f5f"
            },
            "marker": {
             "line": {
              "color": "#E5ECF6",
              "width": 0.5
             },
             "pattern": {
              "fillmode": "overlay",
              "size": 10,
              "solidity": 0.2
             }
            },
            "type": "bar"
           }
          ],
          "barpolar": [
           {
            "marker": {
             "line": {
              "color": "#E5ECF6",
              "width": 0.5
             },
             "pattern": {
              "fillmode": "overlay",
              "size": 10,
              "solidity": 0.2
             }
            },
            "type": "barpolar"
           }
          ],
          "carpet": [
           {
            "aaxis": {
             "endlinecolor": "#2a3f5f",
             "gridcolor": "white",
             "linecolor": "white",
             "minorgridcolor": "white",
             "startlinecolor": "#2a3f5f"
            },
            "baxis": {
             "endlinecolor": "#2a3f5f",
             "gridcolor": "white",
             "linecolor": "white",
             "minorgridcolor": "white",
             "startlinecolor": "#2a3f5f"
            },
            "type": "carpet"
           }
          ],
          "choropleth": [
           {
            "colorbar": {
             "outlinewidth": 0,
             "ticks": ""
            },
            "type": "choropleth"
           }
          ],
          "contour": [
           {
            "colorbar": {
             "outlinewidth": 0,
             "ticks": ""
            },
            "colorscale": [
             [
              0,
              "#0d0887"
             ],
             [
              0.1111111111111111,
              "#46039f"
             ],
             [
              0.2222222222222222,
              "#7201a8"
             ],
             [
              0.3333333333333333,
              "#9c179e"
             ],
             [
              0.4444444444444444,
              "#bd3786"
             ],
             [
              0.5555555555555556,
              "#d8576b"
             ],
             [
              0.6666666666666666,
              "#ed7953"
             ],
             [
              0.7777777777777778,
              "#fb9f3a"
             ],
             [
              0.8888888888888888,
              "#fdca26"
             ],
             [
              1,
              "#f0f921"
             ]
            ],
            "type": "contour"
           }
          ],
          "contourcarpet": [
           {
            "colorbar": {
             "outlinewidth": 0,
             "ticks": ""
            },
            "type": "contourcarpet"
           }
          ],
          "heatmap": [
           {
            "colorbar": {
             "outlinewidth": 0,
             "ticks": ""
            },
            "colorscale": [
             [
              0,
              "#0d0887"
             ],
             [
              0.1111111111111111,
              "#46039f"
             ],
             [
              0.2222222222222222,
              "#7201a8"
             ],
             [
              0.3333333333333333,
              "#9c179e"
             ],
             [
              0.4444444444444444,
              "#bd3786"
             ],
             [
              0.5555555555555556,
              "#d8576b"
             ],
             [
              0.6666666666666666,
              "#ed7953"
             ],
             [
              0.7777777777777778,
              "#fb9f3a"
             ],
             [
              0.8888888888888888,
              "#fdca26"
             ],
             [
              1,
              "#f0f921"
             ]
            ],
            "type": "heatmap"
           }
          ],
          "heatmapgl": [
           {
            "colorbar": {
             "outlinewidth": 0,
             "ticks": ""
            },
            "colorscale": [
             [
              0,
              "#0d0887"
             ],
             [
              0.1111111111111111,
              "#46039f"
             ],
             [
              0.2222222222222222,
              "#7201a8"
             ],
             [
              0.3333333333333333,
              "#9c179e"
             ],
             [
              0.4444444444444444,
              "#bd3786"
             ],
             [
              0.5555555555555556,
              "#d8576b"
             ],
             [
              0.6666666666666666,
              "#ed7953"
             ],
             [
              0.7777777777777778,
              "#fb9f3a"
             ],
             [
              0.8888888888888888,
              "#fdca26"
             ],
             [
              1,
              "#f0f921"
             ]
            ],
            "type": "heatmapgl"
           }
          ],
          "histogram": [
           {
            "marker": {
             "pattern": {
              "fillmode": "overlay",
              "size": 10,
              "solidity": 0.2
             }
            },
            "type": "histogram"
           }
          ],
          "histogram2d": [
           {
            "colorbar": {
             "outlinewidth": 0,
             "ticks": ""
            },
            "colorscale": [
             [
              0,
              "#0d0887"
             ],
             [
              0.1111111111111111,
              "#46039f"
             ],
             [
              0.2222222222222222,
              "#7201a8"
             ],
             [
              0.3333333333333333,
              "#9c179e"
             ],
             [
              0.4444444444444444,
              "#bd3786"
             ],
             [
              0.5555555555555556,
              "#d8576b"
             ],
             [
              0.6666666666666666,
              "#ed7953"
             ],
             [
              0.7777777777777778,
              "#fb9f3a"
             ],
             [
              0.8888888888888888,
              "#fdca26"
             ],
             [
              1,
              "#f0f921"
             ]
            ],
            "type": "histogram2d"
           }
          ],
          "histogram2dcontour": [
           {
            "colorbar": {
             "outlinewidth": 0,
             "ticks": ""
            },
            "colorscale": [
             [
              0,
              "#0d0887"
             ],
             [
              0.1111111111111111,
              "#46039f"
             ],
             [
              0.2222222222222222,
              "#7201a8"
             ],
             [
              0.3333333333333333,
              "#9c179e"
             ],
             [
              0.4444444444444444,
              "#bd3786"
             ],
             [
              0.5555555555555556,
              "#d8576b"
             ],
             [
              0.6666666666666666,
              "#ed7953"
             ],
             [
              0.7777777777777778,
              "#fb9f3a"
             ],
             [
              0.8888888888888888,
              "#fdca26"
             ],
             [
              1,
              "#f0f921"
             ]
            ],
            "type": "histogram2dcontour"
           }
          ],
          "mesh3d": [
           {
            "colorbar": {
             "outlinewidth": 0,
             "ticks": ""
            },
            "type": "mesh3d"
           }
          ],
          "parcoords": [
           {
            "line": {
             "colorbar": {
              "outlinewidth": 0,
              "ticks": ""
             }
            },
            "type": "parcoords"
           }
          ],
          "pie": [
           {
            "automargin": true,
            "type": "pie"
           }
          ],
          "scatter": [
           {
            "fillpattern": {
             "fillmode": "overlay",
             "size": 10,
             "solidity": 0.2
            },
            "type": "scatter"
           }
          ],
          "scatter3d": [
           {
            "line": {
             "colorbar": {
              "outlinewidth": 0,
              "ticks": ""
             }
            },
            "marker": {
             "colorbar": {
              "outlinewidth": 0,
              "ticks": ""
             }
            },
            "type": "scatter3d"
           }
          ],
          "scattercarpet": [
           {
            "marker": {
             "colorbar": {
              "outlinewidth": 0,
              "ticks": ""
             }
            },
            "type": "scattercarpet"
           }
          ],
          "scattergeo": [
           {
            "marker": {
             "colorbar": {
              "outlinewidth": 0,
              "ticks": ""
             }
            },
            "type": "scattergeo"
           }
          ],
          "scattergl": [
           {
            "marker": {
             "colorbar": {
              "outlinewidth": 0,
              "ticks": ""
             }
            },
            "type": "scattergl"
           }
          ],
          "scattermapbox": [
           {
            "marker": {
             "colorbar": {
              "outlinewidth": 0,
              "ticks": ""
             }
            },
            "type": "scattermapbox"
           }
          ],
          "scatterpolar": [
           {
            "marker": {
             "colorbar": {
              "outlinewidth": 0,
              "ticks": ""
             }
            },
            "type": "scatterpolar"
           }
          ],
          "scatterpolargl": [
           {
            "marker": {
             "colorbar": {
              "outlinewidth": 0,
              "ticks": ""
             }
            },
            "type": "scatterpolargl"
           }
          ],
          "scatterternary": [
           {
            "marker": {
             "colorbar": {
              "outlinewidth": 0,
              "ticks": ""
             }
            },
            "type": "scatterternary"
           }
          ],
          "surface": [
           {
            "colorbar": {
             "outlinewidth": 0,
             "ticks": ""
            },
            "colorscale": [
             [
              0,
              "#0d0887"
             ],
             [
              0.1111111111111111,
              "#46039f"
             ],
             [
              0.2222222222222222,
              "#7201a8"
             ],
             [
              0.3333333333333333,
              "#9c179e"
             ],
             [
              0.4444444444444444,
              "#bd3786"
             ],
             [
              0.5555555555555556,
              "#d8576b"
             ],
             [
              0.6666666666666666,
              "#ed7953"
             ],
             [
              0.7777777777777778,
              "#fb9f3a"
             ],
             [
              0.8888888888888888,
              "#fdca26"
             ],
             [
              1,
              "#f0f921"
             ]
            ],
            "type": "surface"
           }
          ],
          "table": [
           {
            "cells": {
             "fill": {
              "color": "#EBF0F8"
             },
             "line": {
              "color": "white"
             }
            },
            "header": {
             "fill": {
              "color": "#C8D4E3"
             },
             "line": {
              "color": "white"
             }
            },
            "type": "table"
           }
          ]
         },
         "layout": {
          "annotationdefaults": {
           "arrowcolor": "#2a3f5f",
           "arrowhead": 0,
           "arrowwidth": 1
          },
          "autotypenumbers": "strict",
          "coloraxis": {
           "colorbar": {
            "outlinewidth": 0,
            "ticks": ""
           }
          },
          "colorscale": {
           "diverging": [
            [
             0,
             "#8e0152"
            ],
            [
             0.1,
             "#c51b7d"
            ],
            [
             0.2,
             "#de77ae"
            ],
            [
             0.3,
             "#f1b6da"
            ],
            [
             0.4,
             "#fde0ef"
            ],
            [
             0.5,
             "#f7f7f7"
            ],
            [
             0.6,
             "#e6f5d0"
            ],
            [
             0.7,
             "#b8e186"
            ],
            [
             0.8,
             "#7fbc41"
            ],
            [
             0.9,
             "#4d9221"
            ],
            [
             1,
             "#276419"
            ]
           ],
           "sequential": [
            [
             0,
             "#0d0887"
            ],
            [
             0.1111111111111111,
             "#46039f"
            ],
            [
             0.2222222222222222,
             "#7201a8"
            ],
            [
             0.3333333333333333,
             "#9c179e"
            ],
            [
             0.4444444444444444,
             "#bd3786"
            ],
            [
             0.5555555555555556,
             "#d8576b"
            ],
            [
             0.6666666666666666,
             "#ed7953"
            ],
            [
             0.7777777777777778,
             "#fb9f3a"
            ],
            [
             0.8888888888888888,
             "#fdca26"
            ],
            [
             1,
             "#f0f921"
            ]
           ],
           "sequentialminus": [
            [
             0,
             "#0d0887"
            ],
            [
             0.1111111111111111,
             "#46039f"
            ],
            [
             0.2222222222222222,
             "#7201a8"
            ],
            [
             0.3333333333333333,
             "#9c179e"
            ],
            [
             0.4444444444444444,
             "#bd3786"
            ],
            [
             0.5555555555555556,
             "#d8576b"
            ],
            [
             0.6666666666666666,
             "#ed7953"
            ],
            [
             0.7777777777777778,
             "#fb9f3a"
            ],
            [
             0.8888888888888888,
             "#fdca26"
            ],
            [
             1,
             "#f0f921"
            ]
           ]
          },
          "colorway": [
           "#636efa",
           "#EF553B",
           "#00cc96",
           "#ab63fa",
           "#FFA15A",
           "#19d3f3",
           "#FF6692",
           "#B6E880",
           "#FF97FF",
           "#FECB52"
          ],
          "font": {
           "color": "#2a3f5f"
          },
          "geo": {
           "bgcolor": "white",
           "lakecolor": "white",
           "landcolor": "#E5ECF6",
           "showlakes": true,
           "showland": true,
           "subunitcolor": "white"
          },
          "hoverlabel": {
           "align": "left"
          },
          "hovermode": "closest",
          "mapbox": {
           "style": "light"
          },
          "paper_bgcolor": "white",
          "plot_bgcolor": "#E5ECF6",
          "polar": {
           "angularaxis": {
            "gridcolor": "white",
            "linecolor": "white",
            "ticks": ""
           },
           "bgcolor": "#E5ECF6",
           "radialaxis": {
            "gridcolor": "white",
            "linecolor": "white",
            "ticks": ""
           }
          },
          "scene": {
           "xaxis": {
            "backgroundcolor": "#E5ECF6",
            "gridcolor": "white",
            "gridwidth": 2,
            "linecolor": "white",
            "showbackground": true,
            "ticks": "",
            "zerolinecolor": "white"
           },
           "yaxis": {
            "backgroundcolor": "#E5ECF6",
            "gridcolor": "white",
            "gridwidth": 2,
            "linecolor": "white",
            "showbackground": true,
            "ticks": "",
            "zerolinecolor": "white"
           },
           "zaxis": {
            "backgroundcolor": "#E5ECF6",
            "gridcolor": "white",
            "gridwidth": 2,
            "linecolor": "white",
            "showbackground": true,
            "ticks": "",
            "zerolinecolor": "white"
           }
          },
          "shapedefaults": {
           "line": {
            "color": "#2a3f5f"
           }
          },
          "ternary": {
           "aaxis": {
            "gridcolor": "white",
            "linecolor": "white",
            "ticks": ""
           },
           "baxis": {
            "gridcolor": "white",
            "linecolor": "white",
            "ticks": ""
           },
           "bgcolor": "#E5ECF6",
           "caxis": {
            "gridcolor": "white",
            "linecolor": "white",
            "ticks": ""
           }
          },
          "title": {
           "x": 0.05
          },
          "xaxis": {
           "automargin": true,
           "gridcolor": "white",
           "linecolor": "white",
           "ticks": "",
           "title": {
            "standoff": 15
           },
           "zerolinecolor": "white",
           "zerolinewidth": 2
          },
          "yaxis": {
           "automargin": true,
           "gridcolor": "white",
           "linecolor": "white",
           "ticks": "",
           "title": {
            "standoff": 15
           },
           "zerolinecolor": "white",
           "zerolinewidth": 2
          }
         }
        },
        "title": {
         "text": "Sorted Probe Accuracies on Capitals"
        },
        "xaxis": {
         "anchor": "y",
         "constrain": "domain",
         "domain": [
          0,
          1
         ],
         "scaleanchor": "y",
         "title": {
          "text": "Heads (sorted)"
         }
        },
        "yaxis": {
         "anchor": "x",
         "autorange": true,
         "constrain": "domain",
         "domain": [
          0,
          1
         ],
         "title": {
          "text": "Layers"
         }
        }
       }
      },
      "text/html": [
       "<div>                            <div id=\"b94c42e4-9dcd-4963-9e90-4f82598f0c66\" class=\"plotly-graph-div\" style=\"height:525px; width:100%;\"></div>            <script type=\"text/javascript\">                require([\"plotly\"], function(Plotly) {                    window.PLOTLYENV=window.PLOTLYENV || {};                                    if (document.getElementById(\"b94c42e4-9dcd-4963-9e90-4f82598f0c66\")) {                    Plotly.newPlot(                        \"b94c42e4-9dcd-4963-9e90-4f82598f0c66\",                        [{\"coloraxis\":\"coloraxis\",\"name\":\"0\",\"z\":[[0.1935483870967742,0.1935483870967742,0.1935483870967742,0.1935483870967742,0.1935483870967742,0.1935483870967742,0.1935483870967742,0.1935483870967742,0.20967741935483872,0.1935483870967742,0.1935483870967742,0.1935483870967742,0.1935483870967742,0.1935483870967742,0.1935483870967742,0.1935483870967742,0.1935483870967742,0.1935483870967742,0.1935483870967742,0.1935483870967742,0.1935483870967742,0.1935483870967742,0.2056451612903226,0.1935483870967742,0.1935483870967742],[0.29838709677419356,0.25806451612903225,0.23387096774193547,0.23790322580645162,0.2782258064516129,0.24596774193548387,0.22580645161290322,0.375,0.2782258064516129,0.32661290322580644,0.3588709677419355,0.2903225806451613,0.23387096774193547,0.2782258064516129,0.22983870967741934,0.3024193548387097,0.25806451612903225,0.2701612903225806,0.25,0.1975806451612903,0.2620967741935484,0.22580645161290322,0.2661290322580645,0.23790322580645162,0.2862903225806452],[0.1774193548387097,0.23790322580645162,0.2782258064516129,0.22580645161290322,0.3024193548387097,0.2701612903225806,0.33064516129032256,0.22580645161290322,0.25806451612903225,0.24596774193548387,0.2782258064516129,0.2782258064516129,0.4032258064516129,0.20161290322580644,0.2217741935483871,0.22580645161290322,0.2661290322580645,0.24596774193548387,0.25,0.25806451612903225,0.29435483870967744,0.2056451612903226,0.2862903225806452,0.25806451612903225,0.27419354838709675],[0.31048387096774194,0.2903225806451613,0.21774193548387097,0.23790322580645162,0.3024193548387097,0.32661290322580644,0.23387096774193547,0.2661290322580645,0.3346774193548387,0.2540322580645161,0.24596774193548387,0.25,0.2782258064516129,0.22580645161290322,0.2217741935483871,0.3064516129032258,0.22580645161290322,0.21370967741935484,0.2540322580645161,0.25806451612903225,0.28225806451612906,0.2540322580645161,0.20967741935483872,0.2903225806451613,0.24596774193548387],[0.2661290322580645,0.23790322580645162,0.1935483870967742,0.29838709677419356,0.28225806451612906,0.2056451612903226,0.24596774193548387,0.28225806451612906,0.3346774193548387,0.24193548387096775,0.2862903225806452,0.21370967741935484,0.24193548387096775,0.3951612903225806,0.2782258064516129,0.2661290322580645,0.25,0.31451612903225806,0.2782258064516129,0.3629032258064516,0.25,0.2661290322580645,0.28225806451612906,0.25806451612903225,0.23387096774193547],[0.27419354838709675,0.3346774193548387,0.2661290322580645,0.23790322580645162,0.3588709677419355,0.3064516129032258,0.29435483870967744,0.25,0.23387096774193547,0.29435483870967744,0.24596774193548387,0.2217741935483871,0.24193548387096775,0.27419354838709675,0.375,0.3024193548387097,0.32661290322580644,0.2217741935483871,0.4314516129032258,0.25,0.25806451612903225,0.23790322580645162,0.24596774193548387,0.23790322580645162,0.3064516129032258],[0.2620967741935484,0.31048387096774194,0.2540322580645161,0.25806451612903225,0.2217741935483871,0.25806451612903225,0.2661290322580645,0.29435483870967744,0.24193548387096775,0.29838709677419356,0.2620967741935484,0.21774193548387097,0.29435483870967744,0.24596774193548387,0.22580645161290322,0.2620967741935484,0.23790322580645162,0.32661290322580644,0.2661290322580645,0.3709677419354839,0.2862903225806452,0.24596774193548387,0.31451612903225806,0.3225806451612903,0.31451612903225806],[0.3548387096774194,0.21774193548387097,0.2620967741935484,0.25806451612903225,0.3024193548387097,0.2540322580645161,0.24193548387096775,0.2903225806451613,0.2661290322580645,0.24596774193548387,0.27419354838709675,0.2903225806451613,0.24193548387096775,0.2620967741935484,0.35080645161290325,0.2903225806451613,0.2903225806451613,0.23790322580645162,0.27419354838709675,0.29435483870967744,0.24193548387096775,0.3548387096774194,0.2540322580645161,0.33064516129032256,0.29838709677419356],[0.27419354838709675,0.22580645161290322,0.24596774193548387,0.29838709677419356,0.2661290322580645,0.3185483870967742,0.2540322580645161,0.2661290322580645,0.32661290322580644,0.2903225806451613,0.21774193548387097,0.25806451612903225,0.22580645161290322,0.2540322580645161,0.2862903225806452,0.4435483870967742,0.3024193548387097,0.29435483870967744,0.2620967741935484,0.25,0.24596774193548387,0.25806451612903225,0.36693548387096775,0.3346774193548387,0.23790322580645162],[0.1935483870967742,0.4112903225806452,0.22983870967741934,0.21370967741935484,0.28225806451612906,0.35080645161290325,0.2056451612903226,0.29838709677419356,0.31048387096774194,0.3346774193548387,0.22983870967741934,0.23387096774193547,0.4314516129032258,0.4314516129032258,0.32661290322580644,0.24596774193548387,0.2782258064516129,0.2661290322580645,0.2661290322580645,0.29838709677419356,0.3346774193548387,0.28225806451612906,0.3185483870967742,0.2661290322580645,0.24193548387096775],[0.2903225806451613,0.24596774193548387,0.3346774193548387,0.3024193548387097,0.22983870967741934,0.25,0.21774193548387097,0.1935483870967742,0.2540322580645161,0.2782258064516129,0.3024193548387097,0.3064516129032258,0.40725806451612906,0.20967741935483872,0.27419354838709675,0.1935483870967742,0.3024193548387097,0.27419354838709675,0.29838709677419356,0.3548387096774194,0.2862903225806452,0.3185483870967742,0.33064516129032256,0.3225806451612903,0.20161290322580644],[0.23387096774193547,0.4879032258064516,0.2903225806451613,0.3346774193548387,0.3024193548387097,0.43951612903225806,0.1935483870967742,0.2056451612903226,0.46774193548387094,0.25806451612903225,0.2862903225806452,0.1935483870967742,0.3870967741935484,0.3629032258064516,0.29435483870967744,0.24193548387096775,0.1975806451612903,0.31451612903225806,0.22983870967741934,0.40725806451612906,0.25,0.3185483870967742,0.3467741935483871,0.4153225806451613,0.33064516129032256],[0.29838709677419356,0.21774193548387097,0.23790322580645162,0.3225806451612903,0.3185483870967742,0.2903225806451613,0.22983870967741934,0.2661290322580645,0.3064516129032258,0.4112903225806452,0.3346774193548387,0.2903225806451613,0.36693548387096775,0.31048387096774194,0.4112903225806452,0.25,0.2903225806451613,0.1935483870967742,0.31048387096774194,0.3548387096774194,0.3225806451612903,0.33064516129032256,0.3064516129032258,0.3225806451612903,0.21774193548387097],[0.6088709677419355,0.3024193548387097,0.33064516129032256,0.3225806451612903,0.1935483870967742,0.32661290322580644,0.43951612903225806,0.33064516129032256,0.3346774193548387,0.3548387096774194,0.3467741935483871,0.45161290322580644,0.3951612903225806,0.34274193548387094,0.2782258064516129,0.3387096774193548,0.36693548387096775,0.29838709677419356,0.2620967741935484,0.33064516129032256,0.32661290322580644,0.2903225806451613,0.3911290322580645,0.3709677419354839,0.34274193548387094],[0.3588709677419355,0.3387096774193548,0.5040322580645161,0.3467741935483871,0.375,0.6169354838709677,0.3870967741935484,0.3064516129032258,0.3588709677419355,0.375,0.3346774193548387,0.4475806451612903,0.3911290322580645,0.3387096774193548,0.3911290322580645,0.43548387096774194,0.4475806451612903,0.3951612903225806,0.36693548387096775,0.5241935483870968,0.4959677419354839,0.375,0.3225806451612903,0.3709677419354839,0.47580645161290325],[0.375,0.3790322580645161,0.3709677419354839,0.4879032258064516,0.3870967741935484,0.24193548387096775,0.33064516129032256,0.4112903225806452,0.3185483870967742,0.4475806451612903,0.29435483870967744,0.40725806451612906,0.4112903225806452,0.22580645161290322,0.3629032258064516,0.5201612903225806,0.31451612903225806,0.3387096774193548,0.49193548387096775,0.4153225806451613,0.32661290322580644,0.4314516129032258,0.41935483870967744,0.23790322580645162,0.3387096774193548],[0.46774193548387094,0.4153225806451613,0.40725806451612906,0.5846774193548387,0.40725806451612906,0.3548387096774194,0.43951612903225806,0.45161290322580644,0.41935483870967744,0.3951612903225806,0.35080645161290325,0.2782258064516129,0.3709677419354839,0.4637096774193548,0.3387096774193548,0.5483870967741935,0.31048387096774194,0.4314516129032258,0.47580645161290325,0.29435483870967744,0.47580645161290325,0.6048387096774194,0.375,0.5282258064516129,0.39919354838709675],[0.4435483870967742,0.6733870967741935,0.532258064516129,0.3790322580645161,0.25806451612903225,0.5241935483870968,0.5362903225806451,0.4717741935483871,0.29435483870967744,0.42338709677419356,0.4838709677419355,0.42338709677419356,0.3346774193548387,0.4112903225806452,0.46774193548387094,0.4838709677419355,0.5685483870967742,0.6129032258064516,0.5806451612903226,0.43548387096774194,0.5766129032258065,0.4838709677419355,0.2056451612903226,0.33064516129032256,0.38306451612903225],[0.45161290322580644,0.45564516129032256,0.5403225806451613,0.4435483870967742,0.4879032258064516,0.5483870967741935,0.42338709677419356,0.3629032258064516,0.5201612903225806,0.375,0.5766129032258065,0.40725806451612906,0.4798387096774194,0.2862903225806452,0.5201612903225806,0.5725806451612904,0.38306451612903225,0.4959677419354839,0.6411290322580645,0.5161290322580645,0.5080645161290323,0.4879032258064516,0.4838709677419355,0.3225806451612903,0.3024193548387097],[0.5282258064516129,0.4314516129032258,0.2217741935483871,0.31451612903225806,0.41935483870967744,0.5766129032258065,0.3629032258064516,0.3548387096774194,0.3951612903225806,0.4274193548387097,0.6814516129032258,0.4153225806451613,0.3225806451612903,0.5604838709677419,0.5,0.5645161290322581,0.46774193548387094,0.6088709677419355,0.6774193548387096,0.4879032258064516,0.6653225806451613,0.3225806451612903,0.3790322580645161,0.3629032258064516,0.5080645161290323],[0.29838709677419356,0.43548387096774194,0.4032258064516129,0.45161290322580644,0.5,0.6451612903225806,0.6169354838709677,0.5403225806451613,0.4314516129032258,0.5201612903225806,0.35080645161290325,0.23387096774193547,0.4274193548387097,0.5645161290322581,0.3951612903225806,0.3629032258064516,0.5766129032258065,0.5443548387096774,0.4637096774193548,0.7016129032258065,0.5564516129032258,0.7258064516129032,0.5362903225806451,0.4032258064516129,0.3467741935483871],[0.24193548387096775,0.43548387096774194,0.5725806451612904,0.42338709677419356,0.5725806451612904,0.5,0.43548387096774194,0.5120967741935484,0.5524193548387096,0.3951612903225806,0.6411290322580645,0.5645161290322581,0.625,0.8145161290322581,0.5362903225806451,0.5846774193548387,0.5645161290322581,0.5806451612903226,0.3911290322580645,0.7258064516129032,0.4475806451612903,0.5887096774193549,0.45564516129032256,0.49193548387096775,0.3790322580645161],[0.31451612903225806,0.5362903225806451,0.4596774193548387,0.6088709677419355,0.3709677419354839,0.3588709677419355,0.5080645161290323,0.5241935483870968,0.6209677419354839,0.4959677419354839,0.3951612903225806,0.6169354838709677,0.4637096774193548,0.3548387096774194,0.4798387096774194,0.6693548387096774,0.3870967741935484,0.5524193548387096,0.4717741935483871,0.2540322580645161,0.4032258064516129,0.5887096774193549,0.5604838709677419,0.5564516129032258,0.6451612903225806],[0.6733870967741935,0.4153225806451613,0.4032258064516129,0.5887096774193549,0.5241935483870968,0.5362903225806451,0.5766129032258065,0.4112903225806452,0.43548387096774194,0.42338709677419356,0.5362903225806451,0.7661290322580645,0.3709677419354839,0.6008064516129032,0.4798387096774194,0.4838709677419355,0.6814516129032258,0.4314516129032258,0.6612903225806451,0.5887096774193549,0.7459677419354839,0.5685483870967742,0.657258064516129,0.5967741935483871,0.3629032258064516],[0.23790322580645162,0.6411290322580645,0.45564516129032256,0.6088709677419355,0.6854838709677419,0.6451612903225806,0.6532258064516129,0.5443548387096774,0.5604838709677419,0.6653225806451613,0.6532258064516129,0.6975806451612904,0.43548387096774194,0.5080645161290323,0.6008064516129032,0.4153225806451613,0.7580645161290323,0.31451612903225806,0.49193548387096775,0.49193548387096775,0.40725806451612906,0.3951612903225806,0.47580645161290325,0.4596774193548387,0.46774193548387094],[0.6008064516129032,0.657258064516129,0.42338709677419356,0.5201612903225806,0.6129032258064516,0.5362903225806451,0.5887096774193549,0.4717741935483871,0.5483870967741935,0.5685483870967742,0.532258064516129,0.39919354838709675,0.5645161290322581,0.5766129032258065,0.5846774193548387,0.5443548387096774,0.36693548387096775,0.717741935483871,0.28225806451612906,0.5564516129032258,0.3548387096774194,0.6088709677419355,0.6814516129032258,0.5,0.5645161290322581],[0.5604838709677419,0.5282258064516129,0.3548387096774194,0.4637096774193548,0.4838709677419355,0.3467741935483871,0.6209677419354839,0.31048387096774194,0.7056451612903226,0.33064516129032256,0.5080645161290323,0.6370967741935484,0.34274193548387094,0.22983870967741934,0.657258064516129,0.5282258064516129,0.7096774193548387,0.4798387096774194,0.3870967741935484,0.35080645161290325,0.5201612903225806,0.31451612903225806,0.5806451612903226,0.5685483870967742,0.5967741935483871],[0.21370967741935484,0.5403225806451613,0.47580645161290325,0.6330645161290323,0.3588709677419355,0.7258064516129032,0.3387096774193548,0.375,0.24596774193548387,0.4959677419354839,0.3790322580645161,0.49193548387096775,0.5685483870967742,0.43951612903225806,0.5443548387096774,0.4274193548387097,0.47580645161290325,0.5967741935483871,0.4274193548387097,0.42338709677419356,0.4838709677419355,0.3467741935483871,0.4435483870967742,0.2903225806451613,0.5846774193548387],[0.34274193548387094,0.3588709677419355,0.4475806451612903,0.5806451612903226,0.4112903225806452,0.3225806451612903,0.5806451612903226,0.5443548387096774,0.29838709677419356,0.29435483870967744,0.3185483870967742,0.3467741935483871,0.5161290322580645,0.22580645161290322,0.5766129032258065,0.7540322580645161,0.20967741935483872,0.5241935483870968,0.6975806451612904,0.5362903225806451,0.33064516129032256,0.6370967741935484,0.24596774193548387,0.5080645161290323,0.4959677419354839],[0.6290322580645161,0.5766129032258065,0.6895161290322581,0.3629032258064516,0.5040322580645161,0.6774193548387096,0.4435483870967742,0.38306451612903225,0.6612903225806451,0.717741935483871,0.3951612903225806,0.6169354838709677,0.2862903225806452,0.4959677419354839,0.31451612903225806,0.36693548387096775,0.47580645161290325,0.532258064516129,0.4112903225806452,0.6532258064516129,0.6370967741935484,0.6008064516129032,0.5887096774193549,0.4435483870967742,0.6612903225806451],[0.5362903225806451,0.47580645161290325,0.5040322580645161,0.4838709677419355,0.3467741935483871,0.7217741935483871,0.46774193548387094,0.3629032258064516,0.6733870967741935,0.40725806451612906,0.4637096774193548,0.6854838709677419,0.24596774193548387,0.6048387096774194,0.3225806451612903,0.36693548387096775,0.3911290322580645,0.4959677419354839,0.46774193548387094,0.5201612903225806,0.5524193548387096,0.3951612903225806,0.33064516129032256,0.6411290322580645,0.5403225806451613],[0.4475806451612903,0.5040322580645161,0.3064516129032258,0.6129032258064516,0.5766129032258065,0.6451612903225806,0.4032258064516129,0.5564516129032258,0.6854838709677419,0.39919354838709675,0.46774193548387094,0.6653225806451613,0.3588709677419355,0.5766129032258065,0.22580645161290322,0.5080645161290323,0.6209677419354839,0.4798387096774194,0.49193548387096775,0.5120967741935484,0.5483870967741935,0.31048387096774194,0.29435483870967744,0.4153225806451613,0.6048387096774194],[0.4435483870967742,0.6491935483870968,0.5120967741935484,0.5887096774193549,0.5,0.4637096774193548,0.45161290322580644,0.375,0.5120967741935484,0.4637096774193548,0.5,0.5846774193548387,0.3024193548387097,0.5846774193548387,0.5483870967741935,0.6612903225806451,0.31451612903225806,0.5080645161290323,0.3911290322580645,0.532258064516129,0.6854838709677419,0.2540322580645161,0.43548387096774194,0.4032258064516129,0.40725806451612906],[0.5846774193548387,0.5241935483870968,0.6693548387096774,0.25806451612903225,0.3911290322580645,0.25,0.4274193548387097,0.6491935483870968,0.4314516129032258,0.5080645161290323,0.5766129032258065,0.3951612903225806,0.3387096774193548,0.6814516129032258,0.6088709677419355,0.3225806451612903,0.43951612903225806,0.4475806451612903,0.7096774193548387,0.5604838709677419,0.5,0.21370967741935484,0.49193548387096775,0.33064516129032256,0.45564516129032256],[0.3346774193548387,0.3387096774193548,0.3629032258064516,0.34274193548387094,0.49193548387096775,0.40725806451612906,0.3588709677419355,0.5,0.23387096774193547,0.4112903225806452,0.6129032258064516,0.592741935483871,0.6451612903225806,0.3024193548387097,0.43951612903225806,0.2862903225806452,0.5120967741935484,0.7137096774193549,0.22983870967741934,0.375,0.6370967741935484,0.5241935483870968,0.5161290322580645,0.31451612903225806,0.23790322580645162],[0.6129032258064516,0.3225806451612903,0.43951612903225806,0.45564516129032256,0.4314516129032258,0.43951612903225806,0.3911290322580645,0.592741935483871,0.5766129032258065,0.3064516129032258,0.35080645161290325,0.3064516129032258,0.5040322580645161,0.3951612903225806,0.33064516129032256,0.4435483870967742,0.5846774193548387,0.7096774193548387,0.3548387096774194,0.7096774193548387,0.4112903225806452,0.4032258064516129,0.2701612903225806,0.29838709677419356,0.5887096774193549],[0.4032258064516129,0.22983870967741934,0.6612903225806451,0.7016129032258065,0.29435483870967744,0.4475806451612903,0.45564516129032256,0.2056451612903226,0.4032258064516129,0.4032258064516129,0.6048387096774194,0.25,0.2620967741935484,0.6451612903225806,0.3629032258064516,0.36693548387096775,0.22580645161290322,0.7379032258064516,0.6008064516129032,0.46774193548387094,0.3790322580645161,0.3225806451612903,0.4435483870967742,0.5040322580645161,0.3790322580645161],[0.6209677419354839,0.2661290322580645,0.2540322580645161,0.25806451612903225,0.40725806451612906,0.3064516129032258,0.32661290322580644,0.6088709677419355,0.6290322580645161,0.3548387096774194,0.5403225806451613,0.3548387096774194,0.4879032258064516,0.40725806451612906,0.3911290322580645,0.31451612903225806,0.25,0.4959677419354839,0.3467741935483871,0.43951612903225806,0.29838709677419356,0.43548387096774194,0.5201612903225806,0.28225806451612906,0.27419354838709675],[0.4112903225806452,0.4838709677419355,0.5524193548387096,0.5120967741935484,0.3629032258064516,0.36693548387096775,0.5725806451612904,0.5241935483870968,0.43548387096774194,0.42338709677419356,0.1935483870967742,0.5443548387096774,0.4274193548387097,0.6532258064516129,0.592741935483871,0.3629032258064516,0.36693548387096775,0.5201612903225806,0.28225806451612906,0.375,0.3185483870967742,0.4435483870967742,0.6451612903225806,0.5282258064516129,0.3346774193548387],[0.5685483870967742,0.47580645161290325,0.3467741935483871,0.41935483870967744,0.23790322580645162,0.5161290322580645,0.3951612903225806,0.4959677419354839,0.31451612903225806,0.6491935483870968,0.5887096774193549,0.6330645161290323,0.6370967741935484,0.4274193548387097,0.40725806451612906,0.5,0.46774193548387094,0.32661290322580644,0.3790322580645161,0.34274193548387094,0.3790322580645161,0.5403225806451613,0.4475806451612903,0.31451612903225806,0.3870967741935484],[0.4314516129032258,0.4637096774193548,0.43951612903225806,0.3185483870967742,0.4435483870967742,0.23790322580645162,0.4879032258064516,0.31048387096774194,0.2782258064516129,0.5282258064516129,0.3548387096774194,0.6209677419354839,0.2903225806451613,0.5967741935483871,0.2903225806451613,0.3225806451612903,0.7137096774193549,0.2620967741935484,0.3467741935483871,0.4475806451612903,0.3911290322580645,0.3185483870967742,0.5403225806451613,0.532258064516129,0.4032258064516129],[0.5645161290322581,0.42338709677419356,0.3467741935483871,0.3629032258064516,0.4153225806451613,0.657258064516129,0.25,0.3185483870967742,0.2903225806451613,0.3709677419354839,0.34274193548387094,0.42338709677419356,0.3629032258064516,0.4435483870967742,0.3225806451612903,0.22983870967741934,0.6774193548387096,0.31451612903225806,0.5967741935483871,0.4112903225806452,0.3346774193548387,0.36693548387096775,0.4032258064516129,0.3024193548387097,0.32661290322580644],[0.2782258064516129,0.4879032258064516,0.4879032258064516,0.4475806451612903,0.42338709677419356,0.4596774193548387,0.5806451612903226,0.49193548387096775,0.5201612903225806,0.5080645161290323,0.3629032258064516,0.6330645161290323,0.6290322580645161,0.49193548387096775,0.3064516129032258,0.43548387096774194,0.2217741935483871,0.4879032258064516,0.5282258064516129,0.5080645161290323,0.5846774193548387,0.1975806451612903,0.6774193548387096,0.2903225806451613,0.25],[0.2620967741935484,0.4717741935483871,0.2540322580645161,0.3064516129032258,0.7338709677419355,0.4798387096774194,0.6411290322580645,0.5362903225806451,0.6048387096774194,0.3024193548387097,0.2701612903225806,0.5,0.40725806451612906,0.3346774193548387,0.3951612903225806,0.42338709677419356,0.40725806451612906,0.3951612903225806,0.3588709677419355,0.45161290322580644,0.375,0.41935483870967744,0.4596774193548387,0.5604838709677419,0.2903225806451613],[0.39919354838709675,0.5362903225806451,0.4798387096774194,0.33064516129032256,0.3548387096774194,0.4274193548387097,0.27419354838709675,0.5403225806451613,0.22983870967741934,0.43951612903225806,0.375,0.5604838709677419,0.40725806451612906,0.4153225806451613,0.5524193548387096,0.6774193548387096,0.6733870967741935,0.3346774193548387,0.22580645161290322,0.6935483870967742,0.5,0.6975806451612904,0.4959677419354839,0.41935483870967744,0.2056451612903226],[0.4596774193548387,0.3588709677419355,0.4596774193548387,0.46774193548387094,0.2903225806451613,0.22580645161290322,0.4959677419354839,0.35080645161290325,0.29838709677419356,0.5403225806451613,0.3951612903225806,0.4838709677419355,0.39919354838709675,0.45161290322580644,0.6975806451612904,0.4314516129032258,0.5201612903225806,0.5967741935483871,0.5967741935483871,0.3629032258064516,0.40725806451612906,0.6370967741935484,0.5806451612903226,0.39919354838709675,0.3225806451612903],[0.5040322580645161,0.6129032258064516,0.46774193548387094,0.4637096774193548,0.5201612903225806,0.45564516129032256,0.45564516129032256,0.6209677419354839,0.49193548387096775,0.6129032258064516,0.6129032258064516,0.47580645161290325,0.6048387096774194,0.4314516129032258,0.4596774193548387,0.5564516129032258,0.5846774193548387,0.5766129032258065,0.4314516129032258,0.6048387096774194,0.46774193548387094,0.5766129032258065,0.4838709677419355,0.5806451612903226,0.3467741935483871],[0.42338709677419356,0.6370967741935484,0.49193548387096775,0.5887096774193549,0.6169354838709677,0.5201612903225806,0.5161290322580645,0.41935483870967744,0.532258064516129,0.5403225806451613,0.5241935483870968,0.4314516129032258,0.4838709677419355,0.5161290322580645,0.5403225806451613,0.5846774193548387,0.592741935483871,0.6330645161290323,0.5403225806451613,0.5725806451612904,0.6048387096774194,0.4838709677419355,0.5806451612903226,0.5201612903225806,0.4838709677419355]],\"type\":\"heatmap\",\"xaxis\":\"x\",\"yaxis\":\"y\",\"hovertemplate\":\"Heads (sorted): %{x}<br>Layers: %{y}<br>color: %{z}<extra></extra>\"}],                        {\"template\":{\"data\":{\"histogram2dcontour\":[{\"type\":\"histogram2dcontour\",\"colorbar\":{\"outlinewidth\":0,\"ticks\":\"\"},\"colorscale\":[[0.0,\"#0d0887\"],[0.1111111111111111,\"#46039f\"],[0.2222222222222222,\"#7201a8\"],[0.3333333333333333,\"#9c179e\"],[0.4444444444444444,\"#bd3786\"],[0.5555555555555556,\"#d8576b\"],[0.6666666666666666,\"#ed7953\"],[0.7777777777777778,\"#fb9f3a\"],[0.8888888888888888,\"#fdca26\"],[1.0,\"#f0f921\"]]}],\"choropleth\":[{\"type\":\"choropleth\",\"colorbar\":{\"outlinewidth\":0,\"ticks\":\"\"}}],\"histogram2d\":[{\"type\":\"histogram2d\",\"colorbar\":{\"outlinewidth\":0,\"ticks\":\"\"},\"colorscale\":[[0.0,\"#0d0887\"],[0.1111111111111111,\"#46039f\"],[0.2222222222222222,\"#7201a8\"],[0.3333333333333333,\"#9c179e\"],[0.4444444444444444,\"#bd3786\"],[0.5555555555555556,\"#d8576b\"],[0.6666666666666666,\"#ed7953\"],[0.7777777777777778,\"#fb9f3a\"],[0.8888888888888888,\"#fdca26\"],[1.0,\"#f0f921\"]]}],\"heatmap\":[{\"type\":\"heatmap\",\"colorbar\":{\"outlinewidth\":0,\"ticks\":\"\"},\"colorscale\":[[0.0,\"#0d0887\"],[0.1111111111111111,\"#46039f\"],[0.2222222222222222,\"#7201a8\"],[0.3333333333333333,\"#9c179e\"],[0.4444444444444444,\"#bd3786\"],[0.5555555555555556,\"#d8576b\"],[0.6666666666666666,\"#ed7953\"],[0.7777777777777778,\"#fb9f3a\"],[0.8888888888888888,\"#fdca26\"],[1.0,\"#f0f921\"]]}],\"heatmapgl\":[{\"type\":\"heatmapgl\",\"colorbar\":{\"outlinewidth\":0,\"ticks\":\"\"},\"colorscale\":[[0.0,\"#0d0887\"],[0.1111111111111111,\"#46039f\"],[0.2222222222222222,\"#7201a8\"],[0.3333333333333333,\"#9c179e\"],[0.4444444444444444,\"#bd3786\"],[0.5555555555555556,\"#d8576b\"],[0.6666666666666666,\"#ed7953\"],[0.7777777777777778,\"#fb9f3a\"],[0.8888888888888888,\"#fdca26\"],[1.0,\"#f0f921\"]]}],\"contourcarpet\":[{\"type\":\"contourcarpet\",\"colorbar\":{\"outlinewidth\":0,\"ticks\":\"\"}}],\"contour\":[{\"type\":\"contour\",\"colorbar\":{\"outlinewidth\":0,\"ticks\":\"\"},\"colorscale\":[[0.0,\"#0d0887\"],[0.1111111111111111,\"#46039f\"],[0.2222222222222222,\"#7201a8\"],[0.3333333333333333,\"#9c179e\"],[0.4444444444444444,\"#bd3786\"],[0.5555555555555556,\"#d8576b\"],[0.6666666666666666,\"#ed7953\"],[0.7777777777777778,\"#fb9f3a\"],[0.8888888888888888,\"#fdca26\"],[1.0,\"#f0f921\"]]}],\"surface\":[{\"type\":\"surface\",\"colorbar\":{\"outlinewidth\":0,\"ticks\":\"\"},\"colorscale\":[[0.0,\"#0d0887\"],[0.1111111111111111,\"#46039f\"],[0.2222222222222222,\"#7201a8\"],[0.3333333333333333,\"#9c179e\"],[0.4444444444444444,\"#bd3786\"],[0.5555555555555556,\"#d8576b\"],[0.6666666666666666,\"#ed7953\"],[0.7777777777777778,\"#fb9f3a\"],[0.8888888888888888,\"#fdca26\"],[1.0,\"#f0f921\"]]}],\"mesh3d\":[{\"type\":\"mesh3d\",\"colorbar\":{\"outlinewidth\":0,\"ticks\":\"\"}}],\"scatter\":[{\"fillpattern\":{\"fillmode\":\"overlay\",\"size\":10,\"solidity\":0.2},\"type\":\"scatter\"}],\"parcoords\":[{\"type\":\"parcoords\",\"line\":{\"colorbar\":{\"outlinewidth\":0,\"ticks\":\"\"}}}],\"scatterpolargl\":[{\"type\":\"scatterpolargl\",\"marker\":{\"colorbar\":{\"outlinewidth\":0,\"ticks\":\"\"}}}],\"bar\":[{\"error_x\":{\"color\":\"#2a3f5f\"},\"error_y\":{\"color\":\"#2a3f5f\"},\"marker\":{\"line\":{\"color\":\"#E5ECF6\",\"width\":0.5},\"pattern\":{\"fillmode\":\"overlay\",\"size\":10,\"solidity\":0.2}},\"type\":\"bar\"}],\"scattergeo\":[{\"type\":\"scattergeo\",\"marker\":{\"colorbar\":{\"outlinewidth\":0,\"ticks\":\"\"}}}],\"scatterpolar\":[{\"type\":\"scatterpolar\",\"marker\":{\"colorbar\":{\"outlinewidth\":0,\"ticks\":\"\"}}}],\"histogram\":[{\"marker\":{\"pattern\":{\"fillmode\":\"overlay\",\"size\":10,\"solidity\":0.2}},\"type\":\"histogram\"}],\"scattergl\":[{\"type\":\"scattergl\",\"marker\":{\"colorbar\":{\"outlinewidth\":0,\"ticks\":\"\"}}}],\"scatter3d\":[{\"type\":\"scatter3d\",\"line\":{\"colorbar\":{\"outlinewidth\":0,\"ticks\":\"\"}},\"marker\":{\"colorbar\":{\"outlinewidth\":0,\"ticks\":\"\"}}}],\"scattermapbox\":[{\"type\":\"scattermapbox\",\"marker\":{\"colorbar\":{\"outlinewidth\":0,\"ticks\":\"\"}}}],\"scatterternary\":[{\"type\":\"scatterternary\",\"marker\":{\"colorbar\":{\"outlinewidth\":0,\"ticks\":\"\"}}}],\"scattercarpet\":[{\"type\":\"scattercarpet\",\"marker\":{\"colorbar\":{\"outlinewidth\":0,\"ticks\":\"\"}}}],\"carpet\":[{\"aaxis\":{\"endlinecolor\":\"#2a3f5f\",\"gridcolor\":\"white\",\"linecolor\":\"white\",\"minorgridcolor\":\"white\",\"startlinecolor\":\"#2a3f5f\"},\"baxis\":{\"endlinecolor\":\"#2a3f5f\",\"gridcolor\":\"white\",\"linecolor\":\"white\",\"minorgridcolor\":\"white\",\"startlinecolor\":\"#2a3f5f\"},\"type\":\"carpet\"}],\"table\":[{\"cells\":{\"fill\":{\"color\":\"#EBF0F8\"},\"line\":{\"color\":\"white\"}},\"header\":{\"fill\":{\"color\":\"#C8D4E3\"},\"line\":{\"color\":\"white\"}},\"type\":\"table\"}],\"barpolar\":[{\"marker\":{\"line\":{\"color\":\"#E5ECF6\",\"width\":0.5},\"pattern\":{\"fillmode\":\"overlay\",\"size\":10,\"solidity\":0.2}},\"type\":\"barpolar\"}],\"pie\":[{\"automargin\":true,\"type\":\"pie\"}]},\"layout\":{\"autotypenumbers\":\"strict\",\"colorway\":[\"#636efa\",\"#EF553B\",\"#00cc96\",\"#ab63fa\",\"#FFA15A\",\"#19d3f3\",\"#FF6692\",\"#B6E880\",\"#FF97FF\",\"#FECB52\"],\"font\":{\"color\":\"#2a3f5f\"},\"hovermode\":\"closest\",\"hoverlabel\":{\"align\":\"left\"},\"paper_bgcolor\":\"white\",\"plot_bgcolor\":\"#E5ECF6\",\"polar\":{\"bgcolor\":\"#E5ECF6\",\"angularaxis\":{\"gridcolor\":\"white\",\"linecolor\":\"white\",\"ticks\":\"\"},\"radialaxis\":{\"gridcolor\":\"white\",\"linecolor\":\"white\",\"ticks\":\"\"}},\"ternary\":{\"bgcolor\":\"#E5ECF6\",\"aaxis\":{\"gridcolor\":\"white\",\"linecolor\":\"white\",\"ticks\":\"\"},\"baxis\":{\"gridcolor\":\"white\",\"linecolor\":\"white\",\"ticks\":\"\"},\"caxis\":{\"gridcolor\":\"white\",\"linecolor\":\"white\",\"ticks\":\"\"}},\"coloraxis\":{\"colorbar\":{\"outlinewidth\":0,\"ticks\":\"\"}},\"colorscale\":{\"sequential\":[[0.0,\"#0d0887\"],[0.1111111111111111,\"#46039f\"],[0.2222222222222222,\"#7201a8\"],[0.3333333333333333,\"#9c179e\"],[0.4444444444444444,\"#bd3786\"],[0.5555555555555556,\"#d8576b\"],[0.6666666666666666,\"#ed7953\"],[0.7777777777777778,\"#fb9f3a\"],[0.8888888888888888,\"#fdca26\"],[1.0,\"#f0f921\"]],\"sequentialminus\":[[0.0,\"#0d0887\"],[0.1111111111111111,\"#46039f\"],[0.2222222222222222,\"#7201a8\"],[0.3333333333333333,\"#9c179e\"],[0.4444444444444444,\"#bd3786\"],[0.5555555555555556,\"#d8576b\"],[0.6666666666666666,\"#ed7953\"],[0.7777777777777778,\"#fb9f3a\"],[0.8888888888888888,\"#fdca26\"],[1.0,\"#f0f921\"]],\"diverging\":[[0,\"#8e0152\"],[0.1,\"#c51b7d\"],[0.2,\"#de77ae\"],[0.3,\"#f1b6da\"],[0.4,\"#fde0ef\"],[0.5,\"#f7f7f7\"],[0.6,\"#e6f5d0\"],[0.7,\"#b8e186\"],[0.8,\"#7fbc41\"],[0.9,\"#4d9221\"],[1,\"#276419\"]]},\"xaxis\":{\"gridcolor\":\"white\",\"linecolor\":\"white\",\"ticks\":\"\",\"title\":{\"standoff\":15},\"zerolinecolor\":\"white\",\"automargin\":true,\"zerolinewidth\":2},\"yaxis\":{\"gridcolor\":\"white\",\"linecolor\":\"white\",\"ticks\":\"\",\"title\":{\"standoff\":15},\"zerolinecolor\":\"white\",\"automargin\":true,\"zerolinewidth\":2},\"scene\":{\"xaxis\":{\"backgroundcolor\":\"#E5ECF6\",\"gridcolor\":\"white\",\"linecolor\":\"white\",\"showbackground\":true,\"ticks\":\"\",\"zerolinecolor\":\"white\",\"gridwidth\":2},\"yaxis\":{\"backgroundcolor\":\"#E5ECF6\",\"gridcolor\":\"white\",\"linecolor\":\"white\",\"showbackground\":true,\"ticks\":\"\",\"zerolinecolor\":\"white\",\"gridwidth\":2},\"zaxis\":{\"backgroundcolor\":\"#E5ECF6\",\"gridcolor\":\"white\",\"linecolor\":\"white\",\"showbackground\":true,\"ticks\":\"\",\"zerolinecolor\":\"white\",\"gridwidth\":2}},\"shapedefaults\":{\"line\":{\"color\":\"#2a3f5f\"}},\"annotationdefaults\":{\"arrowcolor\":\"#2a3f5f\",\"arrowhead\":0,\"arrowwidth\":1},\"geo\":{\"bgcolor\":\"white\",\"landcolor\":\"#E5ECF6\",\"subunitcolor\":\"white\",\"showland\":true,\"showlakes\":true,\"lakecolor\":\"white\"},\"title\":{\"x\":0.05},\"mapbox\":{\"style\":\"light\"}}},\"xaxis\":{\"anchor\":\"y\",\"domain\":[0.0,1.0],\"scaleanchor\":\"y\",\"constrain\":\"domain\",\"title\":{\"text\":\"Heads (sorted)\"}},\"yaxis\":{\"anchor\":\"x\",\"domain\":[0.0,1.0],\"autorange\":true,\"constrain\":\"domain\",\"title\":{\"text\":\"Layers\"}},\"coloraxis\":{\"colorscale\":[[0.0,\"rgb(103,0,31)\"],[0.1,\"rgb(178,24,43)\"],[0.2,\"rgb(214,96,77)\"],[0.3,\"rgb(244,165,130)\"],[0.4,\"rgb(253,219,199)\"],[0.5,\"rgb(247,247,247)\"],[0.6,\"rgb(209,229,240)\"],[0.7,\"rgb(146,197,222)\"],[0.8,\"rgb(67,147,195)\"],[0.9,\"rgb(33,102,172)\"],[1.0,\"rgb(5,48,97)\"]],\"cmid\":0},\"title\":{\"text\":\"Sorted Probe Accuracies on Capitals\"}},                        {\"responsive\": true}                    ).then(function(){\n",
       "                            \n",
       "var gd = document.getElementById('b94c42e4-9dcd-4963-9e90-4f82598f0c66');\n",
       "var x = new MutationObserver(function (mutations, observer) {{\n",
       "        var display = window.getComputedStyle(gd).display;\n",
       "        if (!display || display === 'none') {{\n",
       "            console.log([gd, 'removed!']);\n",
       "            Plotly.purge(gd);\n",
       "            observer.disconnect();\n",
       "        }}\n",
       "}});\n",
       "\n",
       "// Listen for the removal of the full notebook cells\n",
       "var notebookContainer = gd.closest('#notebook-container');\n",
       "if (notebookContainer) {{\n",
       "    x.observe(notebookContainer, {childList: true});\n",
       "}}\n",
       "\n",
       "// Listen for the clearing of the current output cell\n",
       "var outputEl = gd.closest('.output');\n",
       "if (outputEl) {{\n",
       "    x.observe(outputEl, {childList: true});\n",
       "}}\n",
       "\n",
       "                        })                };                });            </script>        </div>"
      ]
     },
     "metadata": {},
     "output_type": "display_data"
    }
   ],
   "source": [
    "# a = -np.sort(-all_head_accs_np.reshape(nin_d.model.cfg.n_layers, nin_d.model.cfg.n_heads), axis = 1)\n",
    "#layer 21, head 13\n",
    "px.imshow(np.array(total_accs).reshape(nin_d.model.cfg.n_layers, nin_d.model.cfg.n_heads), labels = {\"x\" : \"Heads (sorted)\", \"y\": \"Layers\"},title = \"Sorted Probe Accuracies on Capitals\", color_continuous_midpoint = 0, color_continuous_scale=\"RdBu\", origin = \"lower\")\n"
   ]
  },
  {
   "cell_type": "code",
   "execution_count": 53,
   "metadata": {},
   "outputs": [
    {
     "data": {
      "text/plain": [
       "{'input': 'Q: What is the capital of Transnistria? A: Georgetown\\nQ: What is the capital of Solomon Islands? A: Marigot\\nQ: What is the capital of Ghana? A: Managua\\nQ: What is the capital of Faroe Islands? A: Tórshavn\\nQ: What is the capital of Kuwait? A: Havana\\nQ: What is the capital of Iceland? A:',\n",
       " 'label': 'Reykjavík',\n",
       " 'n_few_shot': 5,\n",
       " 'prop_wrong': 0.8752982456752721,\n",
       " 'n_correct': 1,\n",
       " 'model_correct': 1}"
      ]
     },
     "execution_count": 53,
     "metadata": {},
     "output_type": "execute_result"
    }
   ],
   "source": [
    "nin_d.dataset[98]"
   ]
  },
  {
   "cell_type": "code",
   "execution_count": 47,
   "metadata": {},
   "outputs": [
    {
     "data": {
      "application/vnd.plotly.v1+json": {
       "config": {
        "plotlyServerURL": "https://plot.ly"
       },
       "data": [
        {
         "coloraxis": "coloraxis",
         "hovertemplate": "Heads (sorted): %{x}<br>Layers: %{y}<br>color: %{z}<extra></extra>",
         "name": "0",
         "type": "heatmap",
         "xaxis": "x",
         "yaxis": "y",
         "z": [
          [
           0.20967741935483872,
           0.2056451612903226,
           0.1935483870967742,
           0.1935483870967742,
           0.1935483870967742,
           0.1935483870967742,
           0.1935483870967742,
           0.1935483870967742,
           0.1935483870967742,
           0.1935483870967742,
           0.1935483870967742,
           0.1935483870967742,
           0.1935483870967742,
           0.1935483870967742,
           0.1935483870967742,
           0.1935483870967742,
           0.1935483870967742,
           0.1935483870967742,
           0.1935483870967742,
           0.1935483870967742,
           0.1935483870967742,
           0.1935483870967742,
           0.1935483870967742,
           0.1935483870967742,
           0.1935483870967742
          ],
          [
           0.375,
           0.3588709677419355,
           0.32661290322580644,
           0.3024193548387097,
           0.29838709677419356,
           0.2903225806451613,
           0.2862903225806452,
           0.2782258064516129,
           0.2782258064516129,
           0.2782258064516129,
           0.2701612903225806,
           0.2661290322580645,
           0.2620967741935484,
           0.25806451612903225,
           0.25806451612903225,
           0.25,
           0.24596774193548387,
           0.23790322580645162,
           0.23790322580645162,
           0.23387096774193547,
           0.23387096774193547,
           0.22983870967741934,
           0.22580645161290322,
           0.22580645161290322,
           0.1975806451612903
          ],
          [
           0.4032258064516129,
           0.33064516129032256,
           0.3024193548387097,
           0.29435483870967744,
           0.2862903225806452,
           0.2782258064516129,
           0.2782258064516129,
           0.2782258064516129,
           0.27419354838709675,
           0.2701612903225806,
           0.2661290322580645,
           0.25806451612903225,
           0.25806451612903225,
           0.25806451612903225,
           0.25,
           0.24596774193548387,
           0.24596774193548387,
           0.23790322580645162,
           0.22580645161290322,
           0.22580645161290322,
           0.22580645161290322,
           0.2217741935483871,
           0.2056451612903226,
           0.20161290322580644,
           0.1774193548387097
          ],
          [
           0.3346774193548387,
           0.32661290322580644,
           0.31048387096774194,
           0.3064516129032258,
           0.3024193548387097,
           0.2903225806451613,
           0.2903225806451613,
           0.28225806451612906,
           0.2782258064516129,
           0.2661290322580645,
           0.25806451612903225,
           0.2540322580645161,
           0.2540322580645161,
           0.2540322580645161,
           0.25,
           0.24596774193548387,
           0.24596774193548387,
           0.23790322580645162,
           0.23387096774193547,
           0.22580645161290322,
           0.22580645161290322,
           0.2217741935483871,
           0.21774193548387097,
           0.21370967741935484,
           0.20967741935483872
          ],
          [
           0.3951612903225806,
           0.3629032258064516,
           0.3346774193548387,
           0.31451612903225806,
           0.29838709677419356,
           0.2862903225806452,
           0.28225806451612906,
           0.28225806451612906,
           0.28225806451612906,
           0.2782258064516129,
           0.2782258064516129,
           0.2661290322580645,
           0.2661290322580645,
           0.2661290322580645,
           0.25806451612903225,
           0.25,
           0.25,
           0.24596774193548387,
           0.24193548387096775,
           0.24193548387096775,
           0.23790322580645162,
           0.23387096774193547,
           0.21370967741935484,
           0.2056451612903226,
           0.1935483870967742
          ],
          [
           0.4314516129032258,
           0.375,
           0.3588709677419355,
           0.3346774193548387,
           0.32661290322580644,
           0.3064516129032258,
           0.3064516129032258,
           0.3024193548387097,
           0.29435483870967744,
           0.29435483870967744,
           0.27419354838709675,
           0.27419354838709675,
           0.2661290322580645,
           0.25806451612903225,
           0.25,
           0.25,
           0.24596774193548387,
           0.24596774193548387,
           0.24193548387096775,
           0.23790322580645162,
           0.23790322580645162,
           0.23790322580645162,
           0.23387096774193547,
           0.2217741935483871,
           0.2217741935483871
          ],
          [
           0.3709677419354839,
           0.32661290322580644,
           0.3225806451612903,
           0.31451612903225806,
           0.31451612903225806,
           0.31048387096774194,
           0.29838709677419356,
           0.29435483870967744,
           0.29435483870967744,
           0.2862903225806452,
           0.2661290322580645,
           0.2661290322580645,
           0.2620967741935484,
           0.2620967741935484,
           0.2620967741935484,
           0.25806451612903225,
           0.25806451612903225,
           0.2540322580645161,
           0.24596774193548387,
           0.24596774193548387,
           0.24193548387096775,
           0.23790322580645162,
           0.22580645161290322,
           0.2217741935483871,
           0.21774193548387097
          ],
          [
           0.3548387096774194,
           0.3548387096774194,
           0.35080645161290325,
           0.33064516129032256,
           0.3024193548387097,
           0.29838709677419356,
           0.29435483870967744,
           0.2903225806451613,
           0.2903225806451613,
           0.2903225806451613,
           0.2903225806451613,
           0.27419354838709675,
           0.27419354838709675,
           0.2661290322580645,
           0.2620967741935484,
           0.2620967741935484,
           0.25806451612903225,
           0.2540322580645161,
           0.2540322580645161,
           0.24596774193548387,
           0.24193548387096775,
           0.24193548387096775,
           0.24193548387096775,
           0.23790322580645162,
           0.21774193548387097
          ],
          [
           0.4435483870967742,
           0.36693548387096775,
           0.3346774193548387,
           0.32661290322580644,
           0.3185483870967742,
           0.3024193548387097,
           0.29838709677419356,
           0.29435483870967744,
           0.2903225806451613,
           0.2862903225806452,
           0.27419354838709675,
           0.2661290322580645,
           0.2661290322580645,
           0.2620967741935484,
           0.25806451612903225,
           0.25806451612903225,
           0.2540322580645161,
           0.2540322580645161,
           0.25,
           0.24596774193548387,
           0.24596774193548387,
           0.23790322580645162,
           0.22580645161290322,
           0.22580645161290322,
           0.21774193548387097
          ],
          [
           0.4314516129032258,
           0.4314516129032258,
           0.4112903225806452,
           0.35080645161290325,
           0.3346774193548387,
           0.3346774193548387,
           0.32661290322580644,
           0.3185483870967742,
           0.31048387096774194,
           0.29838709677419356,
           0.29838709677419356,
           0.28225806451612906,
           0.28225806451612906,
           0.2782258064516129,
           0.2661290322580645,
           0.2661290322580645,
           0.2661290322580645,
           0.24596774193548387,
           0.24193548387096775,
           0.23387096774193547,
           0.22983870967741934,
           0.22983870967741934,
           0.21370967741935484,
           0.2056451612903226,
           0.1935483870967742
          ],
          [
           0.40725806451612906,
           0.3548387096774194,
           0.3346774193548387,
           0.33064516129032256,
           0.3225806451612903,
           0.3185483870967742,
           0.3064516129032258,
           0.3024193548387097,
           0.3024193548387097,
           0.3024193548387097,
           0.29838709677419356,
           0.2903225806451613,
           0.2862903225806452,
           0.2782258064516129,
           0.27419354838709675,
           0.27419354838709675,
           0.2540322580645161,
           0.25,
           0.24596774193548387,
           0.22983870967741934,
           0.21774193548387097,
           0.20967741935483872,
           0.20161290322580644,
           0.1935483870967742,
           0.1935483870967742
          ],
          [
           0.4879032258064516,
           0.46774193548387094,
           0.43951612903225806,
           0.4153225806451613,
           0.40725806451612906,
           0.3870967741935484,
           0.3629032258064516,
           0.3467741935483871,
           0.3346774193548387,
           0.33064516129032256,
           0.3185483870967742,
           0.31451612903225806,
           0.3024193548387097,
           0.29435483870967744,
           0.2903225806451613,
           0.2862903225806452,
           0.25806451612903225,
           0.25,
           0.24193548387096775,
           0.23387096774193547,
           0.22983870967741934,
           0.2056451612903226,
           0.1975806451612903,
           0.1935483870967742,
           0.1935483870967742
          ],
          [
           0.4112903225806452,
           0.4112903225806452,
           0.36693548387096775,
           0.3548387096774194,
           0.3346774193548387,
           0.33064516129032256,
           0.3225806451612903,
           0.3225806451612903,
           0.3225806451612903,
           0.3185483870967742,
           0.31048387096774194,
           0.31048387096774194,
           0.3064516129032258,
           0.3064516129032258,
           0.29838709677419356,
           0.2903225806451613,
           0.2903225806451613,
           0.2903225806451613,
           0.2661290322580645,
           0.25,
           0.23790322580645162,
           0.22983870967741934,
           0.21774193548387097,
           0.21774193548387097,
           0.1935483870967742
          ],
          [
           0.6088709677419355,
           0.45161290322580644,
           0.43951612903225806,
           0.3951612903225806,
           0.3911290322580645,
           0.3709677419354839,
           0.36693548387096775,
           0.3548387096774194,
           0.3467741935483871,
           0.34274193548387094,
           0.34274193548387094,
           0.3387096774193548,
           0.3346774193548387,
           0.33064516129032256,
           0.33064516129032256,
           0.33064516129032256,
           0.32661290322580644,
           0.32661290322580644,
           0.3225806451612903,
           0.3024193548387097,
           0.29838709677419356,
           0.2903225806451613,
           0.2782258064516129,
           0.2620967741935484,
           0.1935483870967742
          ],
          [
           0.6169354838709677,
           0.5241935483870968,
           0.5040322580645161,
           0.4959677419354839,
           0.47580645161290325,
           0.4475806451612903,
           0.4475806451612903,
           0.43548387096774194,
           0.3951612903225806,
           0.3911290322580645,
           0.3911290322580645,
           0.3870967741935484,
           0.375,
           0.375,
           0.375,
           0.3709677419354839,
           0.36693548387096775,
           0.3588709677419355,
           0.3588709677419355,
           0.3467741935483871,
           0.3387096774193548,
           0.3387096774193548,
           0.3346774193548387,
           0.3225806451612903,
           0.3064516129032258
          ],
          [
           0.5201612903225806,
           0.49193548387096775,
           0.4879032258064516,
           0.4475806451612903,
           0.4314516129032258,
           0.41935483870967744,
           0.4153225806451613,
           0.4112903225806452,
           0.4112903225806452,
           0.40725806451612906,
           0.3870967741935484,
           0.3790322580645161,
           0.375,
           0.3709677419354839,
           0.3629032258064516,
           0.3387096774193548,
           0.3387096774193548,
           0.33064516129032256,
           0.32661290322580644,
           0.3185483870967742,
           0.31451612903225806,
           0.29435483870967744,
           0.24193548387096775,
           0.23790322580645162,
           0.22580645161290322
          ],
          [
           0.6048387096774194,
           0.5846774193548387,
           0.5483870967741935,
           0.5282258064516129,
           0.47580645161290325,
           0.47580645161290325,
           0.46774193548387094,
           0.4637096774193548,
           0.45161290322580644,
           0.43951612903225806,
           0.4314516129032258,
           0.41935483870967744,
           0.4153225806451613,
           0.40725806451612906,
           0.40725806451612906,
           0.39919354838709675,
           0.3951612903225806,
           0.375,
           0.3709677419354839,
           0.3548387096774194,
           0.35080645161290325,
           0.3387096774193548,
           0.31048387096774194,
           0.29435483870967744,
           0.2782258064516129
          ],
          [
           0.6733870967741935,
           0.6129032258064516,
           0.5806451612903226,
           0.5766129032258065,
           0.5685483870967742,
           0.5362903225806451,
           0.532258064516129,
           0.5241935483870968,
           0.4838709677419355,
           0.4838709677419355,
           0.4838709677419355,
           0.4717741935483871,
           0.46774193548387094,
           0.4435483870967742,
           0.43548387096774194,
           0.42338709677419356,
           0.42338709677419356,
           0.4112903225806452,
           0.38306451612903225,
           0.3790322580645161,
           0.3346774193548387,
           0.33064516129032256,
           0.29435483870967744,
           0.25806451612903225,
           0.2056451612903226
          ],
          [
           0.6411290322580645,
           0.5766129032258065,
           0.5725806451612904,
           0.5483870967741935,
           0.5403225806451613,
           0.5201612903225806,
           0.5201612903225806,
           0.5161290322580645,
           0.5080645161290323,
           0.4959677419354839,
           0.4879032258064516,
           0.4879032258064516,
           0.4838709677419355,
           0.4798387096774194,
           0.45564516129032256,
           0.45161290322580644,
           0.4435483870967742,
           0.42338709677419356,
           0.40725806451612906,
           0.38306451612903225,
           0.375,
           0.3629032258064516,
           0.3225806451612903,
           0.3024193548387097,
           0.2862903225806452
          ],
          [
           0.6814516129032258,
           0.6774193548387096,
           0.6653225806451613,
           0.6088709677419355,
           0.5766129032258065,
           0.5645161290322581,
           0.5604838709677419,
           0.5282258064516129,
           0.5080645161290323,
           0.5,
           0.4879032258064516,
           0.46774193548387094,
           0.4314516129032258,
           0.4274193548387097,
           0.41935483870967744,
           0.4153225806451613,
           0.3951612903225806,
           0.3790322580645161,
           0.3629032258064516,
           0.3629032258064516,
           0.3548387096774194,
           0.3225806451612903,
           0.3225806451612903,
           0.31451612903225806,
           0.2217741935483871
          ],
          [
           0.7258064516129032,
           0.7016129032258065,
           0.6451612903225806,
           0.6169354838709677,
           0.5766129032258065,
           0.5645161290322581,
           0.5564516129032258,
           0.5443548387096774,
           0.5403225806451613,
           0.5362903225806451,
           0.5201612903225806,
           0.5,
           0.4637096774193548,
           0.45161290322580644,
           0.43548387096774194,
           0.4314516129032258,
           0.4274193548387097,
           0.4032258064516129,
           0.4032258064516129,
           0.3951612903225806,
           0.3629032258064516,
           0.35080645161290325,
           0.3467741935483871,
           0.29838709677419356,
           0.23387096774193547
          ],
          [
           0.8145161290322581,
           0.7258064516129032,
           0.6411290322580645,
           0.625,
           0.5887096774193549,
           0.5846774193548387,
           0.5806451612903226,
           0.5725806451612904,
           0.5725806451612904,
           0.5645161290322581,
           0.5645161290322581,
           0.5524193548387096,
           0.5362903225806451,
           0.5120967741935484,
           0.5,
           0.49193548387096775,
           0.45564516129032256,
           0.4475806451612903,
           0.43548387096774194,
           0.43548387096774194,
           0.42338709677419356,
           0.3951612903225806,
           0.3911290322580645,
           0.3790322580645161,
           0.24193548387096775
          ],
          [
           0.6693548387096774,
           0.6451612903225806,
           0.6209677419354839,
           0.6169354838709677,
           0.6088709677419355,
           0.5887096774193549,
           0.5604838709677419,
           0.5564516129032258,
           0.5524193548387096,
           0.5362903225806451,
           0.5241935483870968,
           0.5080645161290323,
           0.4959677419354839,
           0.4798387096774194,
           0.4717741935483871,
           0.4637096774193548,
           0.4596774193548387,
           0.4032258064516129,
           0.3951612903225806,
           0.3870967741935484,
           0.3709677419354839,
           0.3588709677419355,
           0.3548387096774194,
           0.31451612903225806,
           0.2540322580645161
          ],
          [
           0.7661290322580645,
           0.7459677419354839,
           0.6814516129032258,
           0.6733870967741935,
           0.6612903225806451,
           0.657258064516129,
           0.6008064516129032,
           0.5967741935483871,
           0.5887096774193549,
           0.5887096774193549,
           0.5766129032258065,
           0.5685483870967742,
           0.5362903225806451,
           0.5362903225806451,
           0.5241935483870968,
           0.4838709677419355,
           0.4798387096774194,
           0.43548387096774194,
           0.4314516129032258,
           0.42338709677419356,
           0.4153225806451613,
           0.4112903225806452,
           0.4032258064516129,
           0.3709677419354839,
           0.3629032258064516
          ],
          [
           0.7580645161290323,
           0.6975806451612904,
           0.6854838709677419,
           0.6653225806451613,
           0.6532258064516129,
           0.6532258064516129,
           0.6451612903225806,
           0.6411290322580645,
           0.6088709677419355,
           0.6008064516129032,
           0.5604838709677419,
           0.5443548387096774,
           0.5080645161290323,
           0.49193548387096775,
           0.49193548387096775,
           0.47580645161290325,
           0.46774193548387094,
           0.4596774193548387,
           0.45564516129032256,
           0.43548387096774194,
           0.4153225806451613,
           0.40725806451612906,
           0.3951612903225806,
           0.31451612903225806,
           0.23790322580645162
          ],
          [
           0.717741935483871,
           0.6814516129032258,
           0.657258064516129,
           0.6129032258064516,
           0.6088709677419355,
           0.6008064516129032,
           0.5887096774193549,
           0.5846774193548387,
           0.5766129032258065,
           0.5685483870967742,
           0.5645161290322581,
           0.5645161290322581,
           0.5564516129032258,
           0.5483870967741935,
           0.5443548387096774,
           0.5362903225806451,
           0.532258064516129,
           0.5201612903225806,
           0.5,
           0.4717741935483871,
           0.42338709677419356,
           0.39919354838709675,
           0.36693548387096775,
           0.3548387096774194,
           0.28225806451612906
          ],
          [
           0.7096774193548387,
           0.7056451612903226,
           0.657258064516129,
           0.6370967741935484,
           0.6209677419354839,
           0.5967741935483871,
           0.5806451612903226,
           0.5685483870967742,
           0.5604838709677419,
           0.5282258064516129,
           0.5282258064516129,
           0.5201612903225806,
           0.5080645161290323,
           0.4838709677419355,
           0.4798387096774194,
           0.4637096774193548,
           0.3870967741935484,
           0.3548387096774194,
           0.35080645161290325,
           0.3467741935483871,
           0.34274193548387094,
           0.33064516129032256,
           0.31451612903225806,
           0.31048387096774194,
           0.22983870967741934
          ],
          [
           0.7258064516129032,
           0.6330645161290323,
           0.5967741935483871,
           0.5846774193548387,
           0.5685483870967742,
           0.5443548387096774,
           0.5403225806451613,
           0.4959677419354839,
           0.49193548387096775,
           0.4838709677419355,
           0.47580645161290325,
           0.47580645161290325,
           0.4435483870967742,
           0.43951612903225806,
           0.4274193548387097,
           0.4274193548387097,
           0.42338709677419356,
           0.3790322580645161,
           0.375,
           0.3588709677419355,
           0.3467741935483871,
           0.3387096774193548,
           0.2903225806451613,
           0.24596774193548387,
           0.21370967741935484
          ],
          [
           0.7540322580645161,
           0.6975806451612904,
           0.6370967741935484,
           0.5806451612903226,
           0.5806451612903226,
           0.5766129032258065,
           0.5443548387096774,
           0.5362903225806451,
           0.5241935483870968,
           0.5161290322580645,
           0.5080645161290323,
           0.4959677419354839,
           0.4475806451612903,
           0.4112903225806452,
           0.3588709677419355,
           0.3467741935483871,
           0.34274193548387094,
           0.33064516129032256,
           0.3225806451612903,
           0.3185483870967742,
           0.29838709677419356,
           0.29435483870967744,
           0.24596774193548387,
           0.22580645161290322,
           0.20967741935483872
          ],
          [
           0.717741935483871,
           0.6895161290322581,
           0.6774193548387096,
           0.6612903225806451,
           0.6612903225806451,
           0.6532258064516129,
           0.6370967741935484,
           0.6290322580645161,
           0.6169354838709677,
           0.6008064516129032,
           0.5887096774193549,
           0.5766129032258065,
           0.532258064516129,
           0.5040322580645161,
           0.4959677419354839,
           0.47580645161290325,
           0.4435483870967742,
           0.4435483870967742,
           0.4112903225806452,
           0.3951612903225806,
           0.38306451612903225,
           0.36693548387096775,
           0.3629032258064516,
           0.31451612903225806,
           0.2862903225806452
          ],
          [
           0.7217741935483871,
           0.6854838709677419,
           0.6733870967741935,
           0.6411290322580645,
           0.6048387096774194,
           0.5524193548387096,
           0.5403225806451613,
           0.5362903225806451,
           0.5201612903225806,
           0.5040322580645161,
           0.4959677419354839,
           0.4838709677419355,
           0.47580645161290325,
           0.46774193548387094,
           0.46774193548387094,
           0.4637096774193548,
           0.40725806451612906,
           0.3951612903225806,
           0.3911290322580645,
           0.36693548387096775,
           0.3629032258064516,
           0.3467741935483871,
           0.33064516129032256,
           0.3225806451612903,
           0.24596774193548387
          ],
          [
           0.6854838709677419,
           0.6653225806451613,
           0.6451612903225806,
           0.6209677419354839,
           0.6129032258064516,
           0.6048387096774194,
           0.5766129032258065,
           0.5766129032258065,
           0.5564516129032258,
           0.5483870967741935,
           0.5120967741935484,
           0.5080645161290323,
           0.5040322580645161,
           0.49193548387096775,
           0.4798387096774194,
           0.46774193548387094,
           0.4475806451612903,
           0.4153225806451613,
           0.4032258064516129,
           0.39919354838709675,
           0.3588709677419355,
           0.31048387096774194,
           0.3064516129032258,
           0.29435483870967744,
           0.22580645161290322
          ],
          [
           0.6854838709677419,
           0.6612903225806451,
           0.6491935483870968,
           0.5887096774193549,
           0.5846774193548387,
           0.5846774193548387,
           0.5483870967741935,
           0.532258064516129,
           0.5120967741935484,
           0.5120967741935484,
           0.5080645161290323,
           0.5,
           0.5,
           0.4637096774193548,
           0.4637096774193548,
           0.45161290322580644,
           0.4435483870967742,
           0.43548387096774194,
           0.40725806451612906,
           0.4032258064516129,
           0.3911290322580645,
           0.375,
           0.31451612903225806,
           0.3024193548387097,
           0.2540322580645161
          ],
          [
           0.7096774193548387,
           0.6814516129032258,
           0.6693548387096774,
           0.6491935483870968,
           0.6088709677419355,
           0.5846774193548387,
           0.5766129032258065,
           0.5604838709677419,
           0.5241935483870968,
           0.5080645161290323,
           0.5,
           0.49193548387096775,
           0.45564516129032256,
           0.4475806451612903,
           0.43951612903225806,
           0.4314516129032258,
           0.4274193548387097,
           0.3951612903225806,
           0.3911290322580645,
           0.3387096774193548,
           0.33064516129032256,
           0.3225806451612903,
           0.25806451612903225,
           0.25,
           0.21370967741935484
          ],
          [
           0.7137096774193549,
           0.6451612903225806,
           0.6370967741935484,
           0.6129032258064516,
           0.592741935483871,
           0.5241935483870968,
           0.5161290322580645,
           0.5120967741935484,
           0.5,
           0.49193548387096775,
           0.43951612903225806,
           0.4112903225806452,
           0.40725806451612906,
           0.375,
           0.3629032258064516,
           0.3588709677419355,
           0.34274193548387094,
           0.3387096774193548,
           0.3346774193548387,
           0.31451612903225806,
           0.3024193548387097,
           0.2862903225806452,
           0.23790322580645162,
           0.23387096774193547,
           0.22983870967741934
          ],
          [
           0.7096774193548387,
           0.7096774193548387,
           0.6129032258064516,
           0.592741935483871,
           0.5887096774193549,
           0.5846774193548387,
           0.5766129032258065,
           0.5040322580645161,
           0.45564516129032256,
           0.4435483870967742,
           0.43951612903225806,
           0.43951612903225806,
           0.4314516129032258,
           0.4112903225806452,
           0.4032258064516129,
           0.3951612903225806,
           0.3911290322580645,
           0.3548387096774194,
           0.35080645161290325,
           0.33064516129032256,
           0.3225806451612903,
           0.3064516129032258,
           0.3064516129032258,
           0.29838709677419356,
           0.2701612903225806
          ],
          [
           0.7379032258064516,
           0.7016129032258065,
           0.6612903225806451,
           0.6451612903225806,
           0.6048387096774194,
           0.6008064516129032,
           0.5040322580645161,
           0.46774193548387094,
           0.45564516129032256,
           0.4475806451612903,
           0.4435483870967742,
           0.4032258064516129,
           0.4032258064516129,
           0.4032258064516129,
           0.3790322580645161,
           0.3790322580645161,
           0.36693548387096775,
           0.3629032258064516,
           0.3225806451612903,
           0.29435483870967744,
           0.2620967741935484,
           0.25,
           0.22983870967741934,
           0.22580645161290322,
           0.2056451612903226
          ],
          [
           0.6290322580645161,
           0.6209677419354839,
           0.6088709677419355,
           0.5403225806451613,
           0.5201612903225806,
           0.4959677419354839,
           0.4879032258064516,
           0.43951612903225806,
           0.43548387096774194,
           0.40725806451612906,
           0.40725806451612906,
           0.3911290322580645,
           0.3548387096774194,
           0.3548387096774194,
           0.3467741935483871,
           0.32661290322580644,
           0.31451612903225806,
           0.3064516129032258,
           0.29838709677419356,
           0.28225806451612906,
           0.27419354838709675,
           0.2661290322580645,
           0.25806451612903225,
           0.2540322580645161,
           0.25
          ],
          [
           0.6532258064516129,
           0.6451612903225806,
           0.592741935483871,
           0.5725806451612904,
           0.5524193548387096,
           0.5443548387096774,
           0.5282258064516129,
           0.5241935483870968,
           0.5201612903225806,
           0.5120967741935484,
           0.4838709677419355,
           0.4435483870967742,
           0.43548387096774194,
           0.4274193548387097,
           0.42338709677419356,
           0.4112903225806452,
           0.375,
           0.36693548387096775,
           0.36693548387096775,
           0.3629032258064516,
           0.3629032258064516,
           0.3346774193548387,
           0.3185483870967742,
           0.28225806451612906,
           0.1935483870967742
          ],
          [
           0.6491935483870968,
           0.6370967741935484,
           0.6330645161290323,
           0.5887096774193549,
           0.5685483870967742,
           0.5403225806451613,
           0.5161290322580645,
           0.5,
           0.4959677419354839,
           0.47580645161290325,
           0.46774193548387094,
           0.4475806451612903,
           0.4274193548387097,
           0.41935483870967744,
           0.40725806451612906,
           0.3951612903225806,
           0.3870967741935484,
           0.3790322580645161,
           0.3790322580645161,
           0.3467741935483871,
           0.34274193548387094,
           0.32661290322580644,
           0.31451612903225806,
           0.31451612903225806,
           0.23790322580645162
          ],
          [
           0.7137096774193549,
           0.6209677419354839,
           0.5967741935483871,
           0.5403225806451613,
           0.532258064516129,
           0.5282258064516129,
           0.4879032258064516,
           0.4637096774193548,
           0.4475806451612903,
           0.4435483870967742,
           0.43951612903225806,
           0.4314516129032258,
           0.4032258064516129,
           0.3911290322580645,
           0.3548387096774194,
           0.3467741935483871,
           0.3225806451612903,
           0.3185483870967742,
           0.3185483870967742,
           0.31048387096774194,
           0.2903225806451613,
           0.2903225806451613,
           0.2782258064516129,
           0.2620967741935484,
           0.23790322580645162
          ],
          [
           0.6774193548387096,
           0.657258064516129,
           0.5967741935483871,
           0.5645161290322581,
           0.4435483870967742,
           0.42338709677419356,
           0.42338709677419356,
           0.4153225806451613,
           0.4112903225806452,
           0.4032258064516129,
           0.3709677419354839,
           0.36693548387096775,
           0.3629032258064516,
           0.3629032258064516,
           0.3467741935483871,
           0.34274193548387094,
           0.3346774193548387,
           0.32661290322580644,
           0.3225806451612903,
           0.3185483870967742,
           0.31451612903225806,
           0.3024193548387097,
           0.2903225806451613,
           0.25,
           0.22983870967741934
          ],
          [
           0.6774193548387096,
           0.6330645161290323,
           0.6290322580645161,
           0.5846774193548387,
           0.5806451612903226,
           0.5282258064516129,
           0.5201612903225806,
           0.5080645161290323,
           0.5080645161290323,
           0.49193548387096775,
           0.49193548387096775,
           0.4879032258064516,
           0.4879032258064516,
           0.4879032258064516,
           0.4596774193548387,
           0.4475806451612903,
           0.43548387096774194,
           0.42338709677419356,
           0.3629032258064516,
           0.3064516129032258,
           0.2903225806451613,
           0.2782258064516129,
           0.25,
           0.2217741935483871,
           0.1975806451612903
          ],
          [
           0.7338709677419355,
           0.6411290322580645,
           0.6048387096774194,
           0.5604838709677419,
           0.5362903225806451,
           0.5,
           0.4798387096774194,
           0.4717741935483871,
           0.4596774193548387,
           0.45161290322580644,
           0.42338709677419356,
           0.41935483870967744,
           0.40725806451612906,
           0.40725806451612906,
           0.3951612903225806,
           0.3951612903225806,
           0.375,
           0.3588709677419355,
           0.3346774193548387,
           0.3064516129032258,
           0.3024193548387097,
           0.2903225806451613,
           0.2701612903225806,
           0.2620967741935484,
           0.2540322580645161
          ],
          [
           0.6975806451612904,
           0.6935483870967742,
           0.6774193548387096,
           0.6733870967741935,
           0.5604838709677419,
           0.5524193548387096,
           0.5403225806451613,
           0.5362903225806451,
           0.5,
           0.4959677419354839,
           0.4798387096774194,
           0.43951612903225806,
           0.4274193548387097,
           0.41935483870967744,
           0.4153225806451613,
           0.40725806451612906,
           0.39919354838709675,
           0.375,
           0.3548387096774194,
           0.3346774193548387,
           0.33064516129032256,
           0.27419354838709675,
           0.22983870967741934,
           0.22580645161290322,
           0.2056451612903226
          ],
          [
           0.6975806451612904,
           0.6370967741935484,
           0.5967741935483871,
           0.5967741935483871,
           0.5806451612903226,
           0.5403225806451613,
           0.5201612903225806,
           0.4959677419354839,
           0.4838709677419355,
           0.46774193548387094,
           0.4596774193548387,
           0.4596774193548387,
           0.45161290322580644,
           0.4314516129032258,
           0.40725806451612906,
           0.39919354838709675,
           0.39919354838709675,
           0.3951612903225806,
           0.3629032258064516,
           0.3588709677419355,
           0.35080645161290325,
           0.3225806451612903,
           0.29838709677419356,
           0.2903225806451613,
           0.22580645161290322
          ],
          [
           0.6209677419354839,
           0.6129032258064516,
           0.6129032258064516,
           0.6129032258064516,
           0.6048387096774194,
           0.6048387096774194,
           0.5846774193548387,
           0.5806451612903226,
           0.5766129032258065,
           0.5766129032258065,
           0.5564516129032258,
           0.5201612903225806,
           0.5040322580645161,
           0.49193548387096775,
           0.4838709677419355,
           0.47580645161290325,
           0.46774193548387094,
           0.46774193548387094,
           0.4637096774193548,
           0.4596774193548387,
           0.45564516129032256,
           0.45564516129032256,
           0.4314516129032258,
           0.4314516129032258,
           0.3467741935483871
          ],
          [
           0.6370967741935484,
           0.6330645161290323,
           0.6169354838709677,
           0.6048387096774194,
           0.592741935483871,
           0.5887096774193549,
           0.5846774193548387,
           0.5806451612903226,
           0.5725806451612904,
           0.5403225806451613,
           0.5403225806451613,
           0.5403225806451613,
           0.532258064516129,
           0.5241935483870968,
           0.5201612903225806,
           0.5201612903225806,
           0.5161290322580645,
           0.5161290322580645,
           0.49193548387096775,
           0.4838709677419355,
           0.4838709677419355,
           0.4838709677419355,
           0.4314516129032258,
           0.42338709677419356,
           0.41935483870967744
          ]
         ]
        }
       ],
       "layout": {
        "coloraxis": {
         "cmid": 0,
         "colorscale": [
          [
           0,
           "rgb(103,0,31)"
          ],
          [
           0.1,
           "rgb(178,24,43)"
          ],
          [
           0.2,
           "rgb(214,96,77)"
          ],
          [
           0.3,
           "rgb(244,165,130)"
          ],
          [
           0.4,
           "rgb(253,219,199)"
          ],
          [
           0.5,
           "rgb(247,247,247)"
          ],
          [
           0.6,
           "rgb(209,229,240)"
          ],
          [
           0.7,
           "rgb(146,197,222)"
          ],
          [
           0.8,
           "rgb(67,147,195)"
          ],
          [
           0.9,
           "rgb(33,102,172)"
          ],
          [
           1,
           "rgb(5,48,97)"
          ]
         ]
        },
        "template": {
         "data": {
          "bar": [
           {
            "error_x": {
             "color": "#2a3f5f"
            },
            "error_y": {
             "color": "#2a3f5f"
            },
            "marker": {
             "line": {
              "color": "#E5ECF6",
              "width": 0.5
             },
             "pattern": {
              "fillmode": "overlay",
              "size": 10,
              "solidity": 0.2
             }
            },
            "type": "bar"
           }
          ],
          "barpolar": [
           {
            "marker": {
             "line": {
              "color": "#E5ECF6",
              "width": 0.5
             },
             "pattern": {
              "fillmode": "overlay",
              "size": 10,
              "solidity": 0.2
             }
            },
            "type": "barpolar"
           }
          ],
          "carpet": [
           {
            "aaxis": {
             "endlinecolor": "#2a3f5f",
             "gridcolor": "white",
             "linecolor": "white",
             "minorgridcolor": "white",
             "startlinecolor": "#2a3f5f"
            },
            "baxis": {
             "endlinecolor": "#2a3f5f",
             "gridcolor": "white",
             "linecolor": "white",
             "minorgridcolor": "white",
             "startlinecolor": "#2a3f5f"
            },
            "type": "carpet"
           }
          ],
          "choropleth": [
           {
            "colorbar": {
             "outlinewidth": 0,
             "ticks": ""
            },
            "type": "choropleth"
           }
          ],
          "contour": [
           {
            "colorbar": {
             "outlinewidth": 0,
             "ticks": ""
            },
            "colorscale": [
             [
              0,
              "#0d0887"
             ],
             [
              0.1111111111111111,
              "#46039f"
             ],
             [
              0.2222222222222222,
              "#7201a8"
             ],
             [
              0.3333333333333333,
              "#9c179e"
             ],
             [
              0.4444444444444444,
              "#bd3786"
             ],
             [
              0.5555555555555556,
              "#d8576b"
             ],
             [
              0.6666666666666666,
              "#ed7953"
             ],
             [
              0.7777777777777778,
              "#fb9f3a"
             ],
             [
              0.8888888888888888,
              "#fdca26"
             ],
             [
              1,
              "#f0f921"
             ]
            ],
            "type": "contour"
           }
          ],
          "contourcarpet": [
           {
            "colorbar": {
             "outlinewidth": 0,
             "ticks": ""
            },
            "type": "contourcarpet"
           }
          ],
          "heatmap": [
           {
            "colorbar": {
             "outlinewidth": 0,
             "ticks": ""
            },
            "colorscale": [
             [
              0,
              "#0d0887"
             ],
             [
              0.1111111111111111,
              "#46039f"
             ],
             [
              0.2222222222222222,
              "#7201a8"
             ],
             [
              0.3333333333333333,
              "#9c179e"
             ],
             [
              0.4444444444444444,
              "#bd3786"
             ],
             [
              0.5555555555555556,
              "#d8576b"
             ],
             [
              0.6666666666666666,
              "#ed7953"
             ],
             [
              0.7777777777777778,
              "#fb9f3a"
             ],
             [
              0.8888888888888888,
              "#fdca26"
             ],
             [
              1,
              "#f0f921"
             ]
            ],
            "type": "heatmap"
           }
          ],
          "heatmapgl": [
           {
            "colorbar": {
             "outlinewidth": 0,
             "ticks": ""
            },
            "colorscale": [
             [
              0,
              "#0d0887"
             ],
             [
              0.1111111111111111,
              "#46039f"
             ],
             [
              0.2222222222222222,
              "#7201a8"
             ],
             [
              0.3333333333333333,
              "#9c179e"
             ],
             [
              0.4444444444444444,
              "#bd3786"
             ],
             [
              0.5555555555555556,
              "#d8576b"
             ],
             [
              0.6666666666666666,
              "#ed7953"
             ],
             [
              0.7777777777777778,
              "#fb9f3a"
             ],
             [
              0.8888888888888888,
              "#fdca26"
             ],
             [
              1,
              "#f0f921"
             ]
            ],
            "type": "heatmapgl"
           }
          ],
          "histogram": [
           {
            "marker": {
             "pattern": {
              "fillmode": "overlay",
              "size": 10,
              "solidity": 0.2
             }
            },
            "type": "histogram"
           }
          ],
          "histogram2d": [
           {
            "colorbar": {
             "outlinewidth": 0,
             "ticks": ""
            },
            "colorscale": [
             [
              0,
              "#0d0887"
             ],
             [
              0.1111111111111111,
              "#46039f"
             ],
             [
              0.2222222222222222,
              "#7201a8"
             ],
             [
              0.3333333333333333,
              "#9c179e"
             ],
             [
              0.4444444444444444,
              "#bd3786"
             ],
             [
              0.5555555555555556,
              "#d8576b"
             ],
             [
              0.6666666666666666,
              "#ed7953"
             ],
             [
              0.7777777777777778,
              "#fb9f3a"
             ],
             [
              0.8888888888888888,
              "#fdca26"
             ],
             [
              1,
              "#f0f921"
             ]
            ],
            "type": "histogram2d"
           }
          ],
          "histogram2dcontour": [
           {
            "colorbar": {
             "outlinewidth": 0,
             "ticks": ""
            },
            "colorscale": [
             [
              0,
              "#0d0887"
             ],
             [
              0.1111111111111111,
              "#46039f"
             ],
             [
              0.2222222222222222,
              "#7201a8"
             ],
             [
              0.3333333333333333,
              "#9c179e"
             ],
             [
              0.4444444444444444,
              "#bd3786"
             ],
             [
              0.5555555555555556,
              "#d8576b"
             ],
             [
              0.6666666666666666,
              "#ed7953"
             ],
             [
              0.7777777777777778,
              "#fb9f3a"
             ],
             [
              0.8888888888888888,
              "#fdca26"
             ],
             [
              1,
              "#f0f921"
             ]
            ],
            "type": "histogram2dcontour"
           }
          ],
          "mesh3d": [
           {
            "colorbar": {
             "outlinewidth": 0,
             "ticks": ""
            },
            "type": "mesh3d"
           }
          ],
          "parcoords": [
           {
            "line": {
             "colorbar": {
              "outlinewidth": 0,
              "ticks": ""
             }
            },
            "type": "parcoords"
           }
          ],
          "pie": [
           {
            "automargin": true,
            "type": "pie"
           }
          ],
          "scatter": [
           {
            "fillpattern": {
             "fillmode": "overlay",
             "size": 10,
             "solidity": 0.2
            },
            "type": "scatter"
           }
          ],
          "scatter3d": [
           {
            "line": {
             "colorbar": {
              "outlinewidth": 0,
              "ticks": ""
             }
            },
            "marker": {
             "colorbar": {
              "outlinewidth": 0,
              "ticks": ""
             }
            },
            "type": "scatter3d"
           }
          ],
          "scattercarpet": [
           {
            "marker": {
             "colorbar": {
              "outlinewidth": 0,
              "ticks": ""
             }
            },
            "type": "scattercarpet"
           }
          ],
          "scattergeo": [
           {
            "marker": {
             "colorbar": {
              "outlinewidth": 0,
              "ticks": ""
             }
            },
            "type": "scattergeo"
           }
          ],
          "scattergl": [
           {
            "marker": {
             "colorbar": {
              "outlinewidth": 0,
              "ticks": ""
             }
            },
            "type": "scattergl"
           }
          ],
          "scattermapbox": [
           {
            "marker": {
             "colorbar": {
              "outlinewidth": 0,
              "ticks": ""
             }
            },
            "type": "scattermapbox"
           }
          ],
          "scatterpolar": [
           {
            "marker": {
             "colorbar": {
              "outlinewidth": 0,
              "ticks": ""
             }
            },
            "type": "scatterpolar"
           }
          ],
          "scatterpolargl": [
           {
            "marker": {
             "colorbar": {
              "outlinewidth": 0,
              "ticks": ""
             }
            },
            "type": "scatterpolargl"
           }
          ],
          "scatterternary": [
           {
            "marker": {
             "colorbar": {
              "outlinewidth": 0,
              "ticks": ""
             }
            },
            "type": "scatterternary"
           }
          ],
          "surface": [
           {
            "colorbar": {
             "outlinewidth": 0,
             "ticks": ""
            },
            "colorscale": [
             [
              0,
              "#0d0887"
             ],
             [
              0.1111111111111111,
              "#46039f"
             ],
             [
              0.2222222222222222,
              "#7201a8"
             ],
             [
              0.3333333333333333,
              "#9c179e"
             ],
             [
              0.4444444444444444,
              "#bd3786"
             ],
             [
              0.5555555555555556,
              "#d8576b"
             ],
             [
              0.6666666666666666,
              "#ed7953"
             ],
             [
              0.7777777777777778,
              "#fb9f3a"
             ],
             [
              0.8888888888888888,
              "#fdca26"
             ],
             [
              1,
              "#f0f921"
             ]
            ],
            "type": "surface"
           }
          ],
          "table": [
           {
            "cells": {
             "fill": {
              "color": "#EBF0F8"
             },
             "line": {
              "color": "white"
             }
            },
            "header": {
             "fill": {
              "color": "#C8D4E3"
             },
             "line": {
              "color": "white"
             }
            },
            "type": "table"
           }
          ]
         },
         "layout": {
          "annotationdefaults": {
           "arrowcolor": "#2a3f5f",
           "arrowhead": 0,
           "arrowwidth": 1
          },
          "autotypenumbers": "strict",
          "coloraxis": {
           "colorbar": {
            "outlinewidth": 0,
            "ticks": ""
           }
          },
          "colorscale": {
           "diverging": [
            [
             0,
             "#8e0152"
            ],
            [
             0.1,
             "#c51b7d"
            ],
            [
             0.2,
             "#de77ae"
            ],
            [
             0.3,
             "#f1b6da"
            ],
            [
             0.4,
             "#fde0ef"
            ],
            [
             0.5,
             "#f7f7f7"
            ],
            [
             0.6,
             "#e6f5d0"
            ],
            [
             0.7,
             "#b8e186"
            ],
            [
             0.8,
             "#7fbc41"
            ],
            [
             0.9,
             "#4d9221"
            ],
            [
             1,
             "#276419"
            ]
           ],
           "sequential": [
            [
             0,
             "#0d0887"
            ],
            [
             0.1111111111111111,
             "#46039f"
            ],
            [
             0.2222222222222222,
             "#7201a8"
            ],
            [
             0.3333333333333333,
             "#9c179e"
            ],
            [
             0.4444444444444444,
             "#bd3786"
            ],
            [
             0.5555555555555556,
             "#d8576b"
            ],
            [
             0.6666666666666666,
             "#ed7953"
            ],
            [
             0.7777777777777778,
             "#fb9f3a"
            ],
            [
             0.8888888888888888,
             "#fdca26"
            ],
            [
             1,
             "#f0f921"
            ]
           ],
           "sequentialminus": [
            [
             0,
             "#0d0887"
            ],
            [
             0.1111111111111111,
             "#46039f"
            ],
            [
             0.2222222222222222,
             "#7201a8"
            ],
            [
             0.3333333333333333,
             "#9c179e"
            ],
            [
             0.4444444444444444,
             "#bd3786"
            ],
            [
             0.5555555555555556,
             "#d8576b"
            ],
            [
             0.6666666666666666,
             "#ed7953"
            ],
            [
             0.7777777777777778,
             "#fb9f3a"
            ],
            [
             0.8888888888888888,
             "#fdca26"
            ],
            [
             1,
             "#f0f921"
            ]
           ]
          },
          "colorway": [
           "#636efa",
           "#EF553B",
           "#00cc96",
           "#ab63fa",
           "#FFA15A",
           "#19d3f3",
           "#FF6692",
           "#B6E880",
           "#FF97FF",
           "#FECB52"
          ],
          "font": {
           "color": "#2a3f5f"
          },
          "geo": {
           "bgcolor": "white",
           "lakecolor": "white",
           "landcolor": "#E5ECF6",
           "showlakes": true,
           "showland": true,
           "subunitcolor": "white"
          },
          "hoverlabel": {
           "align": "left"
          },
          "hovermode": "closest",
          "mapbox": {
           "style": "light"
          },
          "paper_bgcolor": "white",
          "plot_bgcolor": "#E5ECF6",
          "polar": {
           "angularaxis": {
            "gridcolor": "white",
            "linecolor": "white",
            "ticks": ""
           },
           "bgcolor": "#E5ECF6",
           "radialaxis": {
            "gridcolor": "white",
            "linecolor": "white",
            "ticks": ""
           }
          },
          "scene": {
           "xaxis": {
            "backgroundcolor": "#E5ECF6",
            "gridcolor": "white",
            "gridwidth": 2,
            "linecolor": "white",
            "showbackground": true,
            "ticks": "",
            "zerolinecolor": "white"
           },
           "yaxis": {
            "backgroundcolor": "#E5ECF6",
            "gridcolor": "white",
            "gridwidth": 2,
            "linecolor": "white",
            "showbackground": true,
            "ticks": "",
            "zerolinecolor": "white"
           },
           "zaxis": {
            "backgroundcolor": "#E5ECF6",
            "gridcolor": "white",
            "gridwidth": 2,
            "linecolor": "white",
            "showbackground": true,
            "ticks": "",
            "zerolinecolor": "white"
           }
          },
          "shapedefaults": {
           "line": {
            "color": "#2a3f5f"
           }
          },
          "ternary": {
           "aaxis": {
            "gridcolor": "white",
            "linecolor": "white",
            "ticks": ""
           },
           "baxis": {
            "gridcolor": "white",
            "linecolor": "white",
            "ticks": ""
           },
           "bgcolor": "#E5ECF6",
           "caxis": {
            "gridcolor": "white",
            "linecolor": "white",
            "ticks": ""
           }
          },
          "title": {
           "x": 0.05
          },
          "xaxis": {
           "automargin": true,
           "gridcolor": "white",
           "linecolor": "white",
           "ticks": "",
           "title": {
            "standoff": 15
           },
           "zerolinecolor": "white",
           "zerolinewidth": 2
          },
          "yaxis": {
           "automargin": true,
           "gridcolor": "white",
           "linecolor": "white",
           "ticks": "",
           "title": {
            "standoff": 15
           },
           "zerolinecolor": "white",
           "zerolinewidth": 2
          }
         }
        },
        "title": {
         "text": "Sorted Probe Accuracies on Capitals"
        },
        "xaxis": {
         "anchor": "y",
         "constrain": "domain",
         "domain": [
          0,
          1
         ],
         "scaleanchor": "y",
         "title": {
          "text": "Heads (sorted)"
         }
        },
        "yaxis": {
         "anchor": "x",
         "autorange": true,
         "constrain": "domain",
         "domain": [
          0,
          1
         ],
         "title": {
          "text": "Layers"
         }
        }
       }
      },
      "text/html": [
       "<div>                            <div id=\"3c8d2277-06c7-4ffe-a4b1-dd855075c7f0\" class=\"plotly-graph-div\" style=\"height:525px; width:100%;\"></div>            <script type=\"text/javascript\">                require([\"plotly\"], function(Plotly) {                    window.PLOTLYENV=window.PLOTLYENV || {};                                    if (document.getElementById(\"3c8d2277-06c7-4ffe-a4b1-dd855075c7f0\")) {                    Plotly.newPlot(                        \"3c8d2277-06c7-4ffe-a4b1-dd855075c7f0\",                        [{\"coloraxis\":\"coloraxis\",\"name\":\"0\",\"z\":[[0.20967741935483872,0.2056451612903226,0.1935483870967742,0.1935483870967742,0.1935483870967742,0.1935483870967742,0.1935483870967742,0.1935483870967742,0.1935483870967742,0.1935483870967742,0.1935483870967742,0.1935483870967742,0.1935483870967742,0.1935483870967742,0.1935483870967742,0.1935483870967742,0.1935483870967742,0.1935483870967742,0.1935483870967742,0.1935483870967742,0.1935483870967742,0.1935483870967742,0.1935483870967742,0.1935483870967742,0.1935483870967742],[0.375,0.3588709677419355,0.32661290322580644,0.3024193548387097,0.29838709677419356,0.2903225806451613,0.2862903225806452,0.2782258064516129,0.2782258064516129,0.2782258064516129,0.2701612903225806,0.2661290322580645,0.2620967741935484,0.25806451612903225,0.25806451612903225,0.25,0.24596774193548387,0.23790322580645162,0.23790322580645162,0.23387096774193547,0.23387096774193547,0.22983870967741934,0.22580645161290322,0.22580645161290322,0.1975806451612903],[0.4032258064516129,0.33064516129032256,0.3024193548387097,0.29435483870967744,0.2862903225806452,0.2782258064516129,0.2782258064516129,0.2782258064516129,0.27419354838709675,0.2701612903225806,0.2661290322580645,0.25806451612903225,0.25806451612903225,0.25806451612903225,0.25,0.24596774193548387,0.24596774193548387,0.23790322580645162,0.22580645161290322,0.22580645161290322,0.22580645161290322,0.2217741935483871,0.2056451612903226,0.20161290322580644,0.1774193548387097],[0.3346774193548387,0.32661290322580644,0.31048387096774194,0.3064516129032258,0.3024193548387097,0.2903225806451613,0.2903225806451613,0.28225806451612906,0.2782258064516129,0.2661290322580645,0.25806451612903225,0.2540322580645161,0.2540322580645161,0.2540322580645161,0.25,0.24596774193548387,0.24596774193548387,0.23790322580645162,0.23387096774193547,0.22580645161290322,0.22580645161290322,0.2217741935483871,0.21774193548387097,0.21370967741935484,0.20967741935483872],[0.3951612903225806,0.3629032258064516,0.3346774193548387,0.31451612903225806,0.29838709677419356,0.2862903225806452,0.28225806451612906,0.28225806451612906,0.28225806451612906,0.2782258064516129,0.2782258064516129,0.2661290322580645,0.2661290322580645,0.2661290322580645,0.25806451612903225,0.25,0.25,0.24596774193548387,0.24193548387096775,0.24193548387096775,0.23790322580645162,0.23387096774193547,0.21370967741935484,0.2056451612903226,0.1935483870967742],[0.4314516129032258,0.375,0.3588709677419355,0.3346774193548387,0.32661290322580644,0.3064516129032258,0.3064516129032258,0.3024193548387097,0.29435483870967744,0.29435483870967744,0.27419354838709675,0.27419354838709675,0.2661290322580645,0.25806451612903225,0.25,0.25,0.24596774193548387,0.24596774193548387,0.24193548387096775,0.23790322580645162,0.23790322580645162,0.23790322580645162,0.23387096774193547,0.2217741935483871,0.2217741935483871],[0.3709677419354839,0.32661290322580644,0.3225806451612903,0.31451612903225806,0.31451612903225806,0.31048387096774194,0.29838709677419356,0.29435483870967744,0.29435483870967744,0.2862903225806452,0.2661290322580645,0.2661290322580645,0.2620967741935484,0.2620967741935484,0.2620967741935484,0.25806451612903225,0.25806451612903225,0.2540322580645161,0.24596774193548387,0.24596774193548387,0.24193548387096775,0.23790322580645162,0.22580645161290322,0.2217741935483871,0.21774193548387097],[0.3548387096774194,0.3548387096774194,0.35080645161290325,0.33064516129032256,0.3024193548387097,0.29838709677419356,0.29435483870967744,0.2903225806451613,0.2903225806451613,0.2903225806451613,0.2903225806451613,0.27419354838709675,0.27419354838709675,0.2661290322580645,0.2620967741935484,0.2620967741935484,0.25806451612903225,0.2540322580645161,0.2540322580645161,0.24596774193548387,0.24193548387096775,0.24193548387096775,0.24193548387096775,0.23790322580645162,0.21774193548387097],[0.4435483870967742,0.36693548387096775,0.3346774193548387,0.32661290322580644,0.3185483870967742,0.3024193548387097,0.29838709677419356,0.29435483870967744,0.2903225806451613,0.2862903225806452,0.27419354838709675,0.2661290322580645,0.2661290322580645,0.2620967741935484,0.25806451612903225,0.25806451612903225,0.2540322580645161,0.2540322580645161,0.25,0.24596774193548387,0.24596774193548387,0.23790322580645162,0.22580645161290322,0.22580645161290322,0.21774193548387097],[0.4314516129032258,0.4314516129032258,0.4112903225806452,0.35080645161290325,0.3346774193548387,0.3346774193548387,0.32661290322580644,0.3185483870967742,0.31048387096774194,0.29838709677419356,0.29838709677419356,0.28225806451612906,0.28225806451612906,0.2782258064516129,0.2661290322580645,0.2661290322580645,0.2661290322580645,0.24596774193548387,0.24193548387096775,0.23387096774193547,0.22983870967741934,0.22983870967741934,0.21370967741935484,0.2056451612903226,0.1935483870967742],[0.40725806451612906,0.3548387096774194,0.3346774193548387,0.33064516129032256,0.3225806451612903,0.3185483870967742,0.3064516129032258,0.3024193548387097,0.3024193548387097,0.3024193548387097,0.29838709677419356,0.2903225806451613,0.2862903225806452,0.2782258064516129,0.27419354838709675,0.27419354838709675,0.2540322580645161,0.25,0.24596774193548387,0.22983870967741934,0.21774193548387097,0.20967741935483872,0.20161290322580644,0.1935483870967742,0.1935483870967742],[0.4879032258064516,0.46774193548387094,0.43951612903225806,0.4153225806451613,0.40725806451612906,0.3870967741935484,0.3629032258064516,0.3467741935483871,0.3346774193548387,0.33064516129032256,0.3185483870967742,0.31451612903225806,0.3024193548387097,0.29435483870967744,0.2903225806451613,0.2862903225806452,0.25806451612903225,0.25,0.24193548387096775,0.23387096774193547,0.22983870967741934,0.2056451612903226,0.1975806451612903,0.1935483870967742,0.1935483870967742],[0.4112903225806452,0.4112903225806452,0.36693548387096775,0.3548387096774194,0.3346774193548387,0.33064516129032256,0.3225806451612903,0.3225806451612903,0.3225806451612903,0.3185483870967742,0.31048387096774194,0.31048387096774194,0.3064516129032258,0.3064516129032258,0.29838709677419356,0.2903225806451613,0.2903225806451613,0.2903225806451613,0.2661290322580645,0.25,0.23790322580645162,0.22983870967741934,0.21774193548387097,0.21774193548387097,0.1935483870967742],[0.6088709677419355,0.45161290322580644,0.43951612903225806,0.3951612903225806,0.3911290322580645,0.3709677419354839,0.36693548387096775,0.3548387096774194,0.3467741935483871,0.34274193548387094,0.34274193548387094,0.3387096774193548,0.3346774193548387,0.33064516129032256,0.33064516129032256,0.33064516129032256,0.32661290322580644,0.32661290322580644,0.3225806451612903,0.3024193548387097,0.29838709677419356,0.2903225806451613,0.2782258064516129,0.2620967741935484,0.1935483870967742],[0.6169354838709677,0.5241935483870968,0.5040322580645161,0.4959677419354839,0.47580645161290325,0.4475806451612903,0.4475806451612903,0.43548387096774194,0.3951612903225806,0.3911290322580645,0.3911290322580645,0.3870967741935484,0.375,0.375,0.375,0.3709677419354839,0.36693548387096775,0.3588709677419355,0.3588709677419355,0.3467741935483871,0.3387096774193548,0.3387096774193548,0.3346774193548387,0.3225806451612903,0.3064516129032258],[0.5201612903225806,0.49193548387096775,0.4879032258064516,0.4475806451612903,0.4314516129032258,0.41935483870967744,0.4153225806451613,0.4112903225806452,0.4112903225806452,0.40725806451612906,0.3870967741935484,0.3790322580645161,0.375,0.3709677419354839,0.3629032258064516,0.3387096774193548,0.3387096774193548,0.33064516129032256,0.32661290322580644,0.3185483870967742,0.31451612903225806,0.29435483870967744,0.24193548387096775,0.23790322580645162,0.22580645161290322],[0.6048387096774194,0.5846774193548387,0.5483870967741935,0.5282258064516129,0.47580645161290325,0.47580645161290325,0.46774193548387094,0.4637096774193548,0.45161290322580644,0.43951612903225806,0.4314516129032258,0.41935483870967744,0.4153225806451613,0.40725806451612906,0.40725806451612906,0.39919354838709675,0.3951612903225806,0.375,0.3709677419354839,0.3548387096774194,0.35080645161290325,0.3387096774193548,0.31048387096774194,0.29435483870967744,0.2782258064516129],[0.6733870967741935,0.6129032258064516,0.5806451612903226,0.5766129032258065,0.5685483870967742,0.5362903225806451,0.532258064516129,0.5241935483870968,0.4838709677419355,0.4838709677419355,0.4838709677419355,0.4717741935483871,0.46774193548387094,0.4435483870967742,0.43548387096774194,0.42338709677419356,0.42338709677419356,0.4112903225806452,0.38306451612903225,0.3790322580645161,0.3346774193548387,0.33064516129032256,0.29435483870967744,0.25806451612903225,0.2056451612903226],[0.6411290322580645,0.5766129032258065,0.5725806451612904,0.5483870967741935,0.5403225806451613,0.5201612903225806,0.5201612903225806,0.5161290322580645,0.5080645161290323,0.4959677419354839,0.4879032258064516,0.4879032258064516,0.4838709677419355,0.4798387096774194,0.45564516129032256,0.45161290322580644,0.4435483870967742,0.42338709677419356,0.40725806451612906,0.38306451612903225,0.375,0.3629032258064516,0.3225806451612903,0.3024193548387097,0.2862903225806452],[0.6814516129032258,0.6774193548387096,0.6653225806451613,0.6088709677419355,0.5766129032258065,0.5645161290322581,0.5604838709677419,0.5282258064516129,0.5080645161290323,0.5,0.4879032258064516,0.46774193548387094,0.4314516129032258,0.4274193548387097,0.41935483870967744,0.4153225806451613,0.3951612903225806,0.3790322580645161,0.3629032258064516,0.3629032258064516,0.3548387096774194,0.3225806451612903,0.3225806451612903,0.31451612903225806,0.2217741935483871],[0.7258064516129032,0.7016129032258065,0.6451612903225806,0.6169354838709677,0.5766129032258065,0.5645161290322581,0.5564516129032258,0.5443548387096774,0.5403225806451613,0.5362903225806451,0.5201612903225806,0.5,0.4637096774193548,0.45161290322580644,0.43548387096774194,0.4314516129032258,0.4274193548387097,0.4032258064516129,0.4032258064516129,0.3951612903225806,0.3629032258064516,0.35080645161290325,0.3467741935483871,0.29838709677419356,0.23387096774193547],[0.8145161290322581,0.7258064516129032,0.6411290322580645,0.625,0.5887096774193549,0.5846774193548387,0.5806451612903226,0.5725806451612904,0.5725806451612904,0.5645161290322581,0.5645161290322581,0.5524193548387096,0.5362903225806451,0.5120967741935484,0.5,0.49193548387096775,0.45564516129032256,0.4475806451612903,0.43548387096774194,0.43548387096774194,0.42338709677419356,0.3951612903225806,0.3911290322580645,0.3790322580645161,0.24193548387096775],[0.6693548387096774,0.6451612903225806,0.6209677419354839,0.6169354838709677,0.6088709677419355,0.5887096774193549,0.5604838709677419,0.5564516129032258,0.5524193548387096,0.5362903225806451,0.5241935483870968,0.5080645161290323,0.4959677419354839,0.4798387096774194,0.4717741935483871,0.4637096774193548,0.4596774193548387,0.4032258064516129,0.3951612903225806,0.3870967741935484,0.3709677419354839,0.3588709677419355,0.3548387096774194,0.31451612903225806,0.2540322580645161],[0.7661290322580645,0.7459677419354839,0.6814516129032258,0.6733870967741935,0.6612903225806451,0.657258064516129,0.6008064516129032,0.5967741935483871,0.5887096774193549,0.5887096774193549,0.5766129032258065,0.5685483870967742,0.5362903225806451,0.5362903225806451,0.5241935483870968,0.4838709677419355,0.4798387096774194,0.43548387096774194,0.4314516129032258,0.42338709677419356,0.4153225806451613,0.4112903225806452,0.4032258064516129,0.3709677419354839,0.3629032258064516],[0.7580645161290323,0.6975806451612904,0.6854838709677419,0.6653225806451613,0.6532258064516129,0.6532258064516129,0.6451612903225806,0.6411290322580645,0.6088709677419355,0.6008064516129032,0.5604838709677419,0.5443548387096774,0.5080645161290323,0.49193548387096775,0.49193548387096775,0.47580645161290325,0.46774193548387094,0.4596774193548387,0.45564516129032256,0.43548387096774194,0.4153225806451613,0.40725806451612906,0.3951612903225806,0.31451612903225806,0.23790322580645162],[0.717741935483871,0.6814516129032258,0.657258064516129,0.6129032258064516,0.6088709677419355,0.6008064516129032,0.5887096774193549,0.5846774193548387,0.5766129032258065,0.5685483870967742,0.5645161290322581,0.5645161290322581,0.5564516129032258,0.5483870967741935,0.5443548387096774,0.5362903225806451,0.532258064516129,0.5201612903225806,0.5,0.4717741935483871,0.42338709677419356,0.39919354838709675,0.36693548387096775,0.3548387096774194,0.28225806451612906],[0.7096774193548387,0.7056451612903226,0.657258064516129,0.6370967741935484,0.6209677419354839,0.5967741935483871,0.5806451612903226,0.5685483870967742,0.5604838709677419,0.5282258064516129,0.5282258064516129,0.5201612903225806,0.5080645161290323,0.4838709677419355,0.4798387096774194,0.4637096774193548,0.3870967741935484,0.3548387096774194,0.35080645161290325,0.3467741935483871,0.34274193548387094,0.33064516129032256,0.31451612903225806,0.31048387096774194,0.22983870967741934],[0.7258064516129032,0.6330645161290323,0.5967741935483871,0.5846774193548387,0.5685483870967742,0.5443548387096774,0.5403225806451613,0.4959677419354839,0.49193548387096775,0.4838709677419355,0.47580645161290325,0.47580645161290325,0.4435483870967742,0.43951612903225806,0.4274193548387097,0.4274193548387097,0.42338709677419356,0.3790322580645161,0.375,0.3588709677419355,0.3467741935483871,0.3387096774193548,0.2903225806451613,0.24596774193548387,0.21370967741935484],[0.7540322580645161,0.6975806451612904,0.6370967741935484,0.5806451612903226,0.5806451612903226,0.5766129032258065,0.5443548387096774,0.5362903225806451,0.5241935483870968,0.5161290322580645,0.5080645161290323,0.4959677419354839,0.4475806451612903,0.4112903225806452,0.3588709677419355,0.3467741935483871,0.34274193548387094,0.33064516129032256,0.3225806451612903,0.3185483870967742,0.29838709677419356,0.29435483870967744,0.24596774193548387,0.22580645161290322,0.20967741935483872],[0.717741935483871,0.6895161290322581,0.6774193548387096,0.6612903225806451,0.6612903225806451,0.6532258064516129,0.6370967741935484,0.6290322580645161,0.6169354838709677,0.6008064516129032,0.5887096774193549,0.5766129032258065,0.532258064516129,0.5040322580645161,0.4959677419354839,0.47580645161290325,0.4435483870967742,0.4435483870967742,0.4112903225806452,0.3951612903225806,0.38306451612903225,0.36693548387096775,0.3629032258064516,0.31451612903225806,0.2862903225806452],[0.7217741935483871,0.6854838709677419,0.6733870967741935,0.6411290322580645,0.6048387096774194,0.5524193548387096,0.5403225806451613,0.5362903225806451,0.5201612903225806,0.5040322580645161,0.4959677419354839,0.4838709677419355,0.47580645161290325,0.46774193548387094,0.46774193548387094,0.4637096774193548,0.40725806451612906,0.3951612903225806,0.3911290322580645,0.36693548387096775,0.3629032258064516,0.3467741935483871,0.33064516129032256,0.3225806451612903,0.24596774193548387],[0.6854838709677419,0.6653225806451613,0.6451612903225806,0.6209677419354839,0.6129032258064516,0.6048387096774194,0.5766129032258065,0.5766129032258065,0.5564516129032258,0.5483870967741935,0.5120967741935484,0.5080645161290323,0.5040322580645161,0.49193548387096775,0.4798387096774194,0.46774193548387094,0.4475806451612903,0.4153225806451613,0.4032258064516129,0.39919354838709675,0.3588709677419355,0.31048387096774194,0.3064516129032258,0.29435483870967744,0.22580645161290322],[0.6854838709677419,0.6612903225806451,0.6491935483870968,0.5887096774193549,0.5846774193548387,0.5846774193548387,0.5483870967741935,0.532258064516129,0.5120967741935484,0.5120967741935484,0.5080645161290323,0.5,0.5,0.4637096774193548,0.4637096774193548,0.45161290322580644,0.4435483870967742,0.43548387096774194,0.40725806451612906,0.4032258064516129,0.3911290322580645,0.375,0.31451612903225806,0.3024193548387097,0.2540322580645161],[0.7096774193548387,0.6814516129032258,0.6693548387096774,0.6491935483870968,0.6088709677419355,0.5846774193548387,0.5766129032258065,0.5604838709677419,0.5241935483870968,0.5080645161290323,0.5,0.49193548387096775,0.45564516129032256,0.4475806451612903,0.43951612903225806,0.4314516129032258,0.4274193548387097,0.3951612903225806,0.3911290322580645,0.3387096774193548,0.33064516129032256,0.3225806451612903,0.25806451612903225,0.25,0.21370967741935484],[0.7137096774193549,0.6451612903225806,0.6370967741935484,0.6129032258064516,0.592741935483871,0.5241935483870968,0.5161290322580645,0.5120967741935484,0.5,0.49193548387096775,0.43951612903225806,0.4112903225806452,0.40725806451612906,0.375,0.3629032258064516,0.3588709677419355,0.34274193548387094,0.3387096774193548,0.3346774193548387,0.31451612903225806,0.3024193548387097,0.2862903225806452,0.23790322580645162,0.23387096774193547,0.22983870967741934],[0.7096774193548387,0.7096774193548387,0.6129032258064516,0.592741935483871,0.5887096774193549,0.5846774193548387,0.5766129032258065,0.5040322580645161,0.45564516129032256,0.4435483870967742,0.43951612903225806,0.43951612903225806,0.4314516129032258,0.4112903225806452,0.4032258064516129,0.3951612903225806,0.3911290322580645,0.3548387096774194,0.35080645161290325,0.33064516129032256,0.3225806451612903,0.3064516129032258,0.3064516129032258,0.29838709677419356,0.2701612903225806],[0.7379032258064516,0.7016129032258065,0.6612903225806451,0.6451612903225806,0.6048387096774194,0.6008064516129032,0.5040322580645161,0.46774193548387094,0.45564516129032256,0.4475806451612903,0.4435483870967742,0.4032258064516129,0.4032258064516129,0.4032258064516129,0.3790322580645161,0.3790322580645161,0.36693548387096775,0.3629032258064516,0.3225806451612903,0.29435483870967744,0.2620967741935484,0.25,0.22983870967741934,0.22580645161290322,0.2056451612903226],[0.6290322580645161,0.6209677419354839,0.6088709677419355,0.5403225806451613,0.5201612903225806,0.4959677419354839,0.4879032258064516,0.43951612903225806,0.43548387096774194,0.40725806451612906,0.40725806451612906,0.3911290322580645,0.3548387096774194,0.3548387096774194,0.3467741935483871,0.32661290322580644,0.31451612903225806,0.3064516129032258,0.29838709677419356,0.28225806451612906,0.27419354838709675,0.2661290322580645,0.25806451612903225,0.2540322580645161,0.25],[0.6532258064516129,0.6451612903225806,0.592741935483871,0.5725806451612904,0.5524193548387096,0.5443548387096774,0.5282258064516129,0.5241935483870968,0.5201612903225806,0.5120967741935484,0.4838709677419355,0.4435483870967742,0.43548387096774194,0.4274193548387097,0.42338709677419356,0.4112903225806452,0.375,0.36693548387096775,0.36693548387096775,0.3629032258064516,0.3629032258064516,0.3346774193548387,0.3185483870967742,0.28225806451612906,0.1935483870967742],[0.6491935483870968,0.6370967741935484,0.6330645161290323,0.5887096774193549,0.5685483870967742,0.5403225806451613,0.5161290322580645,0.5,0.4959677419354839,0.47580645161290325,0.46774193548387094,0.4475806451612903,0.4274193548387097,0.41935483870967744,0.40725806451612906,0.3951612903225806,0.3870967741935484,0.3790322580645161,0.3790322580645161,0.3467741935483871,0.34274193548387094,0.32661290322580644,0.31451612903225806,0.31451612903225806,0.23790322580645162],[0.7137096774193549,0.6209677419354839,0.5967741935483871,0.5403225806451613,0.532258064516129,0.5282258064516129,0.4879032258064516,0.4637096774193548,0.4475806451612903,0.4435483870967742,0.43951612903225806,0.4314516129032258,0.4032258064516129,0.3911290322580645,0.3548387096774194,0.3467741935483871,0.3225806451612903,0.3185483870967742,0.3185483870967742,0.31048387096774194,0.2903225806451613,0.2903225806451613,0.2782258064516129,0.2620967741935484,0.23790322580645162],[0.6774193548387096,0.657258064516129,0.5967741935483871,0.5645161290322581,0.4435483870967742,0.42338709677419356,0.42338709677419356,0.4153225806451613,0.4112903225806452,0.4032258064516129,0.3709677419354839,0.36693548387096775,0.3629032258064516,0.3629032258064516,0.3467741935483871,0.34274193548387094,0.3346774193548387,0.32661290322580644,0.3225806451612903,0.3185483870967742,0.31451612903225806,0.3024193548387097,0.2903225806451613,0.25,0.22983870967741934],[0.6774193548387096,0.6330645161290323,0.6290322580645161,0.5846774193548387,0.5806451612903226,0.5282258064516129,0.5201612903225806,0.5080645161290323,0.5080645161290323,0.49193548387096775,0.49193548387096775,0.4879032258064516,0.4879032258064516,0.4879032258064516,0.4596774193548387,0.4475806451612903,0.43548387096774194,0.42338709677419356,0.3629032258064516,0.3064516129032258,0.2903225806451613,0.2782258064516129,0.25,0.2217741935483871,0.1975806451612903],[0.7338709677419355,0.6411290322580645,0.6048387096774194,0.5604838709677419,0.5362903225806451,0.5,0.4798387096774194,0.4717741935483871,0.4596774193548387,0.45161290322580644,0.42338709677419356,0.41935483870967744,0.40725806451612906,0.40725806451612906,0.3951612903225806,0.3951612903225806,0.375,0.3588709677419355,0.3346774193548387,0.3064516129032258,0.3024193548387097,0.2903225806451613,0.2701612903225806,0.2620967741935484,0.2540322580645161],[0.6975806451612904,0.6935483870967742,0.6774193548387096,0.6733870967741935,0.5604838709677419,0.5524193548387096,0.5403225806451613,0.5362903225806451,0.5,0.4959677419354839,0.4798387096774194,0.43951612903225806,0.4274193548387097,0.41935483870967744,0.4153225806451613,0.40725806451612906,0.39919354838709675,0.375,0.3548387096774194,0.3346774193548387,0.33064516129032256,0.27419354838709675,0.22983870967741934,0.22580645161290322,0.2056451612903226],[0.6975806451612904,0.6370967741935484,0.5967741935483871,0.5967741935483871,0.5806451612903226,0.5403225806451613,0.5201612903225806,0.4959677419354839,0.4838709677419355,0.46774193548387094,0.4596774193548387,0.4596774193548387,0.45161290322580644,0.4314516129032258,0.40725806451612906,0.39919354838709675,0.39919354838709675,0.3951612903225806,0.3629032258064516,0.3588709677419355,0.35080645161290325,0.3225806451612903,0.29838709677419356,0.2903225806451613,0.22580645161290322],[0.6209677419354839,0.6129032258064516,0.6129032258064516,0.6129032258064516,0.6048387096774194,0.6048387096774194,0.5846774193548387,0.5806451612903226,0.5766129032258065,0.5766129032258065,0.5564516129032258,0.5201612903225806,0.5040322580645161,0.49193548387096775,0.4838709677419355,0.47580645161290325,0.46774193548387094,0.46774193548387094,0.4637096774193548,0.4596774193548387,0.45564516129032256,0.45564516129032256,0.4314516129032258,0.4314516129032258,0.3467741935483871],[0.6370967741935484,0.6330645161290323,0.6169354838709677,0.6048387096774194,0.592741935483871,0.5887096774193549,0.5846774193548387,0.5806451612903226,0.5725806451612904,0.5403225806451613,0.5403225806451613,0.5403225806451613,0.532258064516129,0.5241935483870968,0.5201612903225806,0.5201612903225806,0.5161290322580645,0.5161290322580645,0.49193548387096775,0.4838709677419355,0.4838709677419355,0.4838709677419355,0.4314516129032258,0.42338709677419356,0.41935483870967744]],\"type\":\"heatmap\",\"xaxis\":\"x\",\"yaxis\":\"y\",\"hovertemplate\":\"Heads (sorted): %{x}<br>Layers: %{y}<br>color: %{z}<extra></extra>\"}],                        {\"template\":{\"data\":{\"histogram2dcontour\":[{\"type\":\"histogram2dcontour\",\"colorbar\":{\"outlinewidth\":0,\"ticks\":\"\"},\"colorscale\":[[0.0,\"#0d0887\"],[0.1111111111111111,\"#46039f\"],[0.2222222222222222,\"#7201a8\"],[0.3333333333333333,\"#9c179e\"],[0.4444444444444444,\"#bd3786\"],[0.5555555555555556,\"#d8576b\"],[0.6666666666666666,\"#ed7953\"],[0.7777777777777778,\"#fb9f3a\"],[0.8888888888888888,\"#fdca26\"],[1.0,\"#f0f921\"]]}],\"choropleth\":[{\"type\":\"choropleth\",\"colorbar\":{\"outlinewidth\":0,\"ticks\":\"\"}}],\"histogram2d\":[{\"type\":\"histogram2d\",\"colorbar\":{\"outlinewidth\":0,\"ticks\":\"\"},\"colorscale\":[[0.0,\"#0d0887\"],[0.1111111111111111,\"#46039f\"],[0.2222222222222222,\"#7201a8\"],[0.3333333333333333,\"#9c179e\"],[0.4444444444444444,\"#bd3786\"],[0.5555555555555556,\"#d8576b\"],[0.6666666666666666,\"#ed7953\"],[0.7777777777777778,\"#fb9f3a\"],[0.8888888888888888,\"#fdca26\"],[1.0,\"#f0f921\"]]}],\"heatmap\":[{\"type\":\"heatmap\",\"colorbar\":{\"outlinewidth\":0,\"ticks\":\"\"},\"colorscale\":[[0.0,\"#0d0887\"],[0.1111111111111111,\"#46039f\"],[0.2222222222222222,\"#7201a8\"],[0.3333333333333333,\"#9c179e\"],[0.4444444444444444,\"#bd3786\"],[0.5555555555555556,\"#d8576b\"],[0.6666666666666666,\"#ed7953\"],[0.7777777777777778,\"#fb9f3a\"],[0.8888888888888888,\"#fdca26\"],[1.0,\"#f0f921\"]]}],\"heatmapgl\":[{\"type\":\"heatmapgl\",\"colorbar\":{\"outlinewidth\":0,\"ticks\":\"\"},\"colorscale\":[[0.0,\"#0d0887\"],[0.1111111111111111,\"#46039f\"],[0.2222222222222222,\"#7201a8\"],[0.3333333333333333,\"#9c179e\"],[0.4444444444444444,\"#bd3786\"],[0.5555555555555556,\"#d8576b\"],[0.6666666666666666,\"#ed7953\"],[0.7777777777777778,\"#fb9f3a\"],[0.8888888888888888,\"#fdca26\"],[1.0,\"#f0f921\"]]}],\"contourcarpet\":[{\"type\":\"contourcarpet\",\"colorbar\":{\"outlinewidth\":0,\"ticks\":\"\"}}],\"contour\":[{\"type\":\"contour\",\"colorbar\":{\"outlinewidth\":0,\"ticks\":\"\"},\"colorscale\":[[0.0,\"#0d0887\"],[0.1111111111111111,\"#46039f\"],[0.2222222222222222,\"#7201a8\"],[0.3333333333333333,\"#9c179e\"],[0.4444444444444444,\"#bd3786\"],[0.5555555555555556,\"#d8576b\"],[0.6666666666666666,\"#ed7953\"],[0.7777777777777778,\"#fb9f3a\"],[0.8888888888888888,\"#fdca26\"],[1.0,\"#f0f921\"]]}],\"surface\":[{\"type\":\"surface\",\"colorbar\":{\"outlinewidth\":0,\"ticks\":\"\"},\"colorscale\":[[0.0,\"#0d0887\"],[0.1111111111111111,\"#46039f\"],[0.2222222222222222,\"#7201a8\"],[0.3333333333333333,\"#9c179e\"],[0.4444444444444444,\"#bd3786\"],[0.5555555555555556,\"#d8576b\"],[0.6666666666666666,\"#ed7953\"],[0.7777777777777778,\"#fb9f3a\"],[0.8888888888888888,\"#fdca26\"],[1.0,\"#f0f921\"]]}],\"mesh3d\":[{\"type\":\"mesh3d\",\"colorbar\":{\"outlinewidth\":0,\"ticks\":\"\"}}],\"scatter\":[{\"fillpattern\":{\"fillmode\":\"overlay\",\"size\":10,\"solidity\":0.2},\"type\":\"scatter\"}],\"parcoords\":[{\"type\":\"parcoords\",\"line\":{\"colorbar\":{\"outlinewidth\":0,\"ticks\":\"\"}}}],\"scatterpolargl\":[{\"type\":\"scatterpolargl\",\"marker\":{\"colorbar\":{\"outlinewidth\":0,\"ticks\":\"\"}}}],\"bar\":[{\"error_x\":{\"color\":\"#2a3f5f\"},\"error_y\":{\"color\":\"#2a3f5f\"},\"marker\":{\"line\":{\"color\":\"#E5ECF6\",\"width\":0.5},\"pattern\":{\"fillmode\":\"overlay\",\"size\":10,\"solidity\":0.2}},\"type\":\"bar\"}],\"scattergeo\":[{\"type\":\"scattergeo\",\"marker\":{\"colorbar\":{\"outlinewidth\":0,\"ticks\":\"\"}}}],\"scatterpolar\":[{\"type\":\"scatterpolar\",\"marker\":{\"colorbar\":{\"outlinewidth\":0,\"ticks\":\"\"}}}],\"histogram\":[{\"marker\":{\"pattern\":{\"fillmode\":\"overlay\",\"size\":10,\"solidity\":0.2}},\"type\":\"histogram\"}],\"scattergl\":[{\"type\":\"scattergl\",\"marker\":{\"colorbar\":{\"outlinewidth\":0,\"ticks\":\"\"}}}],\"scatter3d\":[{\"type\":\"scatter3d\",\"line\":{\"colorbar\":{\"outlinewidth\":0,\"ticks\":\"\"}},\"marker\":{\"colorbar\":{\"outlinewidth\":0,\"ticks\":\"\"}}}],\"scattermapbox\":[{\"type\":\"scattermapbox\",\"marker\":{\"colorbar\":{\"outlinewidth\":0,\"ticks\":\"\"}}}],\"scatterternary\":[{\"type\":\"scatterternary\",\"marker\":{\"colorbar\":{\"outlinewidth\":0,\"ticks\":\"\"}}}],\"scattercarpet\":[{\"type\":\"scattercarpet\",\"marker\":{\"colorbar\":{\"outlinewidth\":0,\"ticks\":\"\"}}}],\"carpet\":[{\"aaxis\":{\"endlinecolor\":\"#2a3f5f\",\"gridcolor\":\"white\",\"linecolor\":\"white\",\"minorgridcolor\":\"white\",\"startlinecolor\":\"#2a3f5f\"},\"baxis\":{\"endlinecolor\":\"#2a3f5f\",\"gridcolor\":\"white\",\"linecolor\":\"white\",\"minorgridcolor\":\"white\",\"startlinecolor\":\"#2a3f5f\"},\"type\":\"carpet\"}],\"table\":[{\"cells\":{\"fill\":{\"color\":\"#EBF0F8\"},\"line\":{\"color\":\"white\"}},\"header\":{\"fill\":{\"color\":\"#C8D4E3\"},\"line\":{\"color\":\"white\"}},\"type\":\"table\"}],\"barpolar\":[{\"marker\":{\"line\":{\"color\":\"#E5ECF6\",\"width\":0.5},\"pattern\":{\"fillmode\":\"overlay\",\"size\":10,\"solidity\":0.2}},\"type\":\"barpolar\"}],\"pie\":[{\"automargin\":true,\"type\":\"pie\"}]},\"layout\":{\"autotypenumbers\":\"strict\",\"colorway\":[\"#636efa\",\"#EF553B\",\"#00cc96\",\"#ab63fa\",\"#FFA15A\",\"#19d3f3\",\"#FF6692\",\"#B6E880\",\"#FF97FF\",\"#FECB52\"],\"font\":{\"color\":\"#2a3f5f\"},\"hovermode\":\"closest\",\"hoverlabel\":{\"align\":\"left\"},\"paper_bgcolor\":\"white\",\"plot_bgcolor\":\"#E5ECF6\",\"polar\":{\"bgcolor\":\"#E5ECF6\",\"angularaxis\":{\"gridcolor\":\"white\",\"linecolor\":\"white\",\"ticks\":\"\"},\"radialaxis\":{\"gridcolor\":\"white\",\"linecolor\":\"white\",\"ticks\":\"\"}},\"ternary\":{\"bgcolor\":\"#E5ECF6\",\"aaxis\":{\"gridcolor\":\"white\",\"linecolor\":\"white\",\"ticks\":\"\"},\"baxis\":{\"gridcolor\":\"white\",\"linecolor\":\"white\",\"ticks\":\"\"},\"caxis\":{\"gridcolor\":\"white\",\"linecolor\":\"white\",\"ticks\":\"\"}},\"coloraxis\":{\"colorbar\":{\"outlinewidth\":0,\"ticks\":\"\"}},\"colorscale\":{\"sequential\":[[0.0,\"#0d0887\"],[0.1111111111111111,\"#46039f\"],[0.2222222222222222,\"#7201a8\"],[0.3333333333333333,\"#9c179e\"],[0.4444444444444444,\"#bd3786\"],[0.5555555555555556,\"#d8576b\"],[0.6666666666666666,\"#ed7953\"],[0.7777777777777778,\"#fb9f3a\"],[0.8888888888888888,\"#fdca26\"],[1.0,\"#f0f921\"]],\"sequentialminus\":[[0.0,\"#0d0887\"],[0.1111111111111111,\"#46039f\"],[0.2222222222222222,\"#7201a8\"],[0.3333333333333333,\"#9c179e\"],[0.4444444444444444,\"#bd3786\"],[0.5555555555555556,\"#d8576b\"],[0.6666666666666666,\"#ed7953\"],[0.7777777777777778,\"#fb9f3a\"],[0.8888888888888888,\"#fdca26\"],[1.0,\"#f0f921\"]],\"diverging\":[[0,\"#8e0152\"],[0.1,\"#c51b7d\"],[0.2,\"#de77ae\"],[0.3,\"#f1b6da\"],[0.4,\"#fde0ef\"],[0.5,\"#f7f7f7\"],[0.6,\"#e6f5d0\"],[0.7,\"#b8e186\"],[0.8,\"#7fbc41\"],[0.9,\"#4d9221\"],[1,\"#276419\"]]},\"xaxis\":{\"gridcolor\":\"white\",\"linecolor\":\"white\",\"ticks\":\"\",\"title\":{\"standoff\":15},\"zerolinecolor\":\"white\",\"automargin\":true,\"zerolinewidth\":2},\"yaxis\":{\"gridcolor\":\"white\",\"linecolor\":\"white\",\"ticks\":\"\",\"title\":{\"standoff\":15},\"zerolinecolor\":\"white\",\"automargin\":true,\"zerolinewidth\":2},\"scene\":{\"xaxis\":{\"backgroundcolor\":\"#E5ECF6\",\"gridcolor\":\"white\",\"linecolor\":\"white\",\"showbackground\":true,\"ticks\":\"\",\"zerolinecolor\":\"white\",\"gridwidth\":2},\"yaxis\":{\"backgroundcolor\":\"#E5ECF6\",\"gridcolor\":\"white\",\"linecolor\":\"white\",\"showbackground\":true,\"ticks\":\"\",\"zerolinecolor\":\"white\",\"gridwidth\":2},\"zaxis\":{\"backgroundcolor\":\"#E5ECF6\",\"gridcolor\":\"white\",\"linecolor\":\"white\",\"showbackground\":true,\"ticks\":\"\",\"zerolinecolor\":\"white\",\"gridwidth\":2}},\"shapedefaults\":{\"line\":{\"color\":\"#2a3f5f\"}},\"annotationdefaults\":{\"arrowcolor\":\"#2a3f5f\",\"arrowhead\":0,\"arrowwidth\":1},\"geo\":{\"bgcolor\":\"white\",\"landcolor\":\"#E5ECF6\",\"subunitcolor\":\"white\",\"showland\":true,\"showlakes\":true,\"lakecolor\":\"white\"},\"title\":{\"x\":0.05},\"mapbox\":{\"style\":\"light\"}}},\"xaxis\":{\"anchor\":\"y\",\"domain\":[0.0,1.0],\"scaleanchor\":\"y\",\"constrain\":\"domain\",\"title\":{\"text\":\"Heads (sorted)\"}},\"yaxis\":{\"anchor\":\"x\",\"domain\":[0.0,1.0],\"autorange\":true,\"constrain\":\"domain\",\"title\":{\"text\":\"Layers\"}},\"coloraxis\":{\"colorscale\":[[0.0,\"rgb(103,0,31)\"],[0.1,\"rgb(178,24,43)\"],[0.2,\"rgb(214,96,77)\"],[0.3,\"rgb(244,165,130)\"],[0.4,\"rgb(253,219,199)\"],[0.5,\"rgb(247,247,247)\"],[0.6,\"rgb(209,229,240)\"],[0.7,\"rgb(146,197,222)\"],[0.8,\"rgb(67,147,195)\"],[0.9,\"rgb(33,102,172)\"],[1.0,\"rgb(5,48,97)\"]],\"cmid\":0},\"title\":{\"text\":\"Sorted Probe Accuracies on Capitals\"}},                        {\"responsive\": true}                    ).then(function(){\n",
       "                            \n",
       "var gd = document.getElementById('3c8d2277-06c7-4ffe-a4b1-dd855075c7f0');\n",
       "var x = new MutationObserver(function (mutations, observer) {{\n",
       "        var display = window.getComputedStyle(gd).display;\n",
       "        if (!display || display === 'none') {{\n",
       "            console.log([gd, 'removed!']);\n",
       "            Plotly.purge(gd);\n",
       "            observer.disconnect();\n",
       "        }}\n",
       "}});\n",
       "\n",
       "// Listen for the removal of the full notebook cells\n",
       "var notebookContainer = gd.closest('#notebook-container');\n",
       "if (notebookContainer) {{\n",
       "    x.observe(notebookContainer, {childList: true});\n",
       "}}\n",
       "\n",
       "// Listen for the clearing of the current output cell\n",
       "var outputEl = gd.closest('.output');\n",
       "if (outputEl) {{\n",
       "    x.observe(outputEl, {childList: true});\n",
       "}}\n",
       "\n",
       "                        })                };                });            </script>        </div>"
      ]
     },
     "metadata": {},
     "output_type": "display_data"
    }
   ],
   "source": [
    "a = -np.sort(-np.array(total_accs).reshape(nin_d.model.cfg.n_layers, nin_d.model.cfg.n_heads), axis = 1)\n",
    "\n",
    "px.imshow(a, labels = {\"x\" : \"Heads (sorted)\", \"y\": \"Layers\"},title = \"Sorted Probe Accuracies on Capitals\", color_continuous_midpoint = 0, color_continuous_scale=\"RdBu\", origin = \"lower\")\n"
   ]
  },
  {
   "cell_type": "code",
   "execution_count": null,
   "metadata": {},
   "outputs": [],
   "source": []
  }
 ],
 "metadata": {
  "kernelspec": {
   "display_name": "Python 3 (ipykernel)",
   "language": "python",
   "name": "python3"
  },
  "language_info": {
   "codemirror_mode": {
    "name": "ipython",
    "version": 3
   },
   "file_extension": ".py",
   "mimetype": "text/x-python",
   "name": "python",
   "nbconvert_exporter": "python",
   "pygments_lexer": "ipython3",
   "version": "3.8.10"
  },
  "orig_nbformat": 4
 },
 "nbformat": 4,
 "nbformat_minor": 2
}
